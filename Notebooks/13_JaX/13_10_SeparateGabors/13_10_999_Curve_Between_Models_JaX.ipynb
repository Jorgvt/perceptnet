{
  "cells": [
    {
      "cell_type": "code",
      "execution_count": 3,
      "metadata": {
        "metadata": {}
      },
      "outputs": [],
      "source": [
        "import os\n",
        "os.environ[\"CUDA_VISIBLE_DEVICES\"] = \"1\"\n",
        "\n",
        "from typing import Any, Callable, Sequence, Union\n",
        "import numpy as np\n",
        "\n",
        "import tensorflow as tf\n",
        "tf.config.set_visible_devices([], device_type='GPU')\n",
        "\n",
        "import jax\n",
        "from jax import lax, random, numpy as jnp\n",
        "from flax.core import freeze, unfreeze, FrozenDict\n",
        "from flax import linen as nn\n",
        "from flax import struct\n",
        "from flax.training import train_state\n",
        "from flax.training import orbax_utils\n",
        "\n",
        "import optax\n",
        "import orbax.checkpoint\n",
        "\n",
        "from clu import metrics\n",
        "from ml_collections import ConfigDict\n",
        "\n",
        "from einops import reduce, rearrange, repeat\n",
        "import wandb\n",
        "from iqadatasets.datasets import *\n",
        "from fxlayers.layers import *\n",
        "from fxlayers.layers import GaussianLayerGamma, GaborLayerLogSigma_, FreqGaussianGamma, OrientGaussianGamma\n",
        "from fxlayers.initializers import *\n",
        "from JaxPlayground.utils.constraints import *\n",
        "from JaxPlayground.utils.wandb import *"
      ]
    },
    {
      "cell_type": "code",
      "execution_count": 1,
      "metadata": {
        "id": "ukD18dE_XIin",
        "metadata": {}
      },
      "outputs": [],
      "source": [
        "from tqdm.auto import tqdm"
      ]
    },
    {
      "cell_type": "code",
      "execution_count": 2,
      "metadata": {
        "id": "oCiCSByXWIRY",
        "metadata": {}
      },
      "outputs": [
        {
          "name": "stderr",
          "output_type": "stream",
          "text": [
            "2024-07-12 12:32:22.068757: I tensorflow/core/util/port.cc:110] oneDNN custom operations are on. You may see slightly different numerical results due to floating-point round-off errors from different computation orders. To turn them off, set the environment variable `TF_ENABLE_ONEDNN_OPTS=0`.\n",
            "2024-07-12 12:32:23.262527: I tensorflow/core/platform/cpu_feature_guard.cc:182] This TensorFlow binary is optimized to use available CPU instructions in performance-critical operations.\n",
            "To enable the following instructions: AVX2 AVX512F AVX512_VNNI FMA, in other operations, rebuild TensorFlow with the appropriate compiler flags.\n",
            "2024-07-12 12:32:27.418380: W tensorflow/compiler/tf2tensorrt/utils/py_utils.cc:38] TF-TRT Warning: Could not find TensorRT\n"
          ]
        }
      ],
      "source": [
        "import tensorflow as tf\n",
        "tf.config.set_visible_devices([], device_type='GPU')"
      ]
    },
    {
      "cell_type": "code",
      "execution_count": 4,
      "metadata": {
        "id": "Dd8ZZn9GT7h3",
        "metadata": {}
      },
      "outputs": [],
      "source": [
        "import jax\n",
        "from jax import random, numpy as jnp\n",
        "import flax\n",
        "from flax.training import train_state\n",
        "from flax import linen as nn\n",
        "import optax\n",
        "import wandb"
      ]
    },
    {
      "cell_type": "code",
      "execution_count": 7,
      "metadata": {
        "metadata": {}
      },
      "outputs": [],
      "source": [
        "# dst_train = TID2008(\"/lustre/ific.uv.es/ml/uv075/Databases/IQA//TID/TID2008/\", exclude_imgs=[25])\n",
        "# dst_train = KADIK10K(\"/lustre/ific.uv.es/ml/uv075/Databases/IQA/KADIK10K/\")\n",
        "# dst_val = TID2013(\"/lustre/ific.uv.es/ml/uv075/Databases/IQA//TID/TID2013/\", exclude_imgs=[25])\n",
        "dst_train = TID2008(\"/media/disk/vista/BBDD_video_image/Image_Quality//TID/TID2008/\", exclude_imgs=[25])\n",
        "dst_val = TID2013(\"/media/disk/vista/BBDD_video_image/Image_Quality//TID/TID2013/\", exclude_imgs=[25])\n",
        "# dst_train = TID2008(\"/media/databases/IQA/TID/TID2008/\", exclude_imgs=[25])\n",
        "# dst_val = TID2013(\"/media/databases/IQA/TID/TID2013/\", exclude_imgs=[25])"
      ]
    },
    {
      "cell_type": "code",
      "execution_count": 8,
      "metadata": {
        "metadata": {}
      },
      "outputs": [
        {
          "data": {
            "text/plain": [
              "BATCH_SIZE: 8\n",
              "SEED: 42"
            ]
          },
          "execution_count": 8,
          "metadata": {},
          "output_type": "execute_result"
        }
      ],
      "source": [
        "config_ = {\n",
        "    \"BATCH_SIZE\": 32,\n",
        "    \"SEED\": 42,\n",
        "}\n",
        "config_ = ConfigDict(config_)\n",
        "config_"
      ]
    },
    {
      "cell_type": "code",
      "execution_count": 9,
      "metadata": {
        "metadata": {}
      },
      "outputs": [],
      "source": [
        "dst_train_rdy = dst_train.dataset.shuffle(buffer_size=100,\n",
        "                                      reshuffle_each_iteration=True,\n",
        "                                      seed=config_.SEED)\\\n",
        "                                 .batch(config_.BATCH_SIZE, drop_remainder=True)\n",
        "dst_val_rdy = dst_val.dataset.batch(config_.BATCH_SIZE, drop_remainder=True)"
      ]
    },
    {
      "cell_type": "markdown",
      "metadata": {},
      "source": [
        "## Load the models"
      ]
    },
    {
      "cell_type": "code",
      "execution_count": 10,
      "metadata": {
        "metadata": {}
      },
      "outputs": [],
      "source": [
        "id = \"lz4pvm3y\"\n",
        "api = wandb.Api()\n",
        "prev_run = api.run(f\"jorgvt/PerceptNet_v15/{id}\")\n",
        "config = ConfigDict(prev_run.config[\"_fields\"])\n",
        "for file in prev_run.files():\n",
        "    file.download(root=prev_run.dir, replace=True)"
      ]
    },
    {
      "cell_type": "code",
      "execution_count": 11,
      "metadata": {
        "metadata": {}
      },
      "outputs": [],
      "source": [
        "class ChromaFreqOrientGaussianGamma(nn.Module):\n",
        "    \"\"\"(1D) Gaussian interaction between gamma_fuencies and orientations optimizing gamma = 1/sigma instead of sigma.\"\"\"\n",
        "    use_bias: bool = False\n",
        "    strides: int = 1\n",
        "    padding: str = \"SAME\"\n",
        "    bias_init: Callable = nn.initializers.zeros_init()\n",
        "    n_scales: Sequence[int] = jnp.array([4, 2, 2], dtype=jnp.int32)\n",
        "    n_orientations: Sequence[int] = jnp.array([8, 8, 8], dtype=jnp.int32)\n",
        "\n",
        "    @nn.compact\n",
        "    def __call__(self,\n",
        "                 inputs,\n",
        "                 fmean,\n",
        "                 theta_mean,\n",
        "                 **kwargs,\n",
        "                 ):\n",
        "\n",
        "        gamma_f_a = self.param(\"gamma_f_a\",\n",
        "                             k_array(1/0.4, arr=jnp.array([2.,4.,8.,16.])),\n",
        "                             (self.n_scales[0],))\n",
        "        gamma_theta_a = self.param(\"gamma_theta_a\",\n",
        "                                 nn.initializers.ones_init(),\n",
        "                                #  (self.n_orientations[0],))\n",
        "                                 (8,))\n",
        "\n",
        "        gamma_f_t = self.param(\"gamma_f_t\",\n",
        "                             k_array(1/0.4, arr=jnp.array([3.,6.])),\n",
        "                             (self.n_scales[1],))\n",
        "        gamma_theta_t = self.param(\"gamma_theta_t\",\n",
        "                                 nn.initializers.ones_init(),\n",
        "                                #  (self.n_orientations[1],))\n",
        "                                 (8,))\n",
        "        \n",
        "        gamma_f_d = self.param(\"gamma_f_d\",\n",
        "                             k_array(1/0.4, arr=jnp.array([3.,6.])),\n",
        "                             (self.n_scales[2],))\n",
        "        gamma_theta_d = self.param(\"gamma_theta_d\",\n",
        "                                 nn.initializers.ones_init(),\n",
        "                                #  (self.n_orientations[2],))\n",
        "                                 (8,))\n",
        "\n",
        "        H_cc = self.param(\"H_cc\",\n",
        "                          nn.initializers.ones_init(),\n",
        "                          (3,3))\n",
        "\n",
        "        if self.use_bias: bias = self.param(\"bias\",\n",
        "                                            self.bias_init,\n",
        "                                            (len(fmean),))\n",
        "        else: bias = 0.\n",
        "        # n_groups = inputs.shape[-1] // len(fmean)\n",
        "\n",
        "        ## Repeat gammas\n",
        "        gamma_f = jnp.concatenate([jnp.tile(f, reps=len(t)) for f,t in zip([gamma_f_a, gamma_f_t, gamma_f_d], [gamma_theta_a, gamma_theta_t, gamma_theta_d])])\n",
        "        gamma_f = jnp.tile(gamma_f, reps=2)\n",
        "        gamma_theta = jnp.concatenate([jnp.tile(t, reps=len(f)) for f,t in zip([gamma_f_a, gamma_f_t, gamma_f_d], [gamma_theta_a, gamma_theta_t, gamma_theta_d])])\n",
        "        gamma_theta = jnp.tile(gamma_theta, reps=2)\n",
        "\n",
        "        ## Repeating\n",
        "        cc = jnp.array([0,1,2])\n",
        "        cc = jnp.repeat(cc, repeats=jnp.array([64,32,32]), total_repeat_length=len(fmean))\n",
        "\n",
        "        kernel = jax.vmap(self.gaussian, in_axes=(None,None,0,0,0,0,None,0,None,None), out_axes=1)(fmean, theta_mean, fmean, theta_mean, gamma_f, gamma_theta, cc, cc, H_cc, 1)\n",
        "        kernel = kernel[None,None,:,:]\n",
        "\n",
        "        ## Add the batch dim if the input is a single element\n",
        "        if jnp.ndim(inputs) < 4: inputs = inputs[None,:]; had_batch = False\n",
        "        else: had_batch = True\n",
        "        outputs = lax.conv_general_dilated(\n",
        "                jnp.transpose(inputs,[0,3,1,2]),    # lhs = NCHW image tensor\n",
        "                jnp.transpose(kernel,[3,2,0,1]), # rhs = OIHW conv kernel tensor\n",
        "                (self.strides, self.strides),\n",
        "                self.padding)\n",
        "        ## Move the channels back to the last dim\n",
        "        outputs = jnp.transpose(outputs, (0,2,3,1))\n",
        "        if not had_batch: outputs = outputs[0]\n",
        "        return outputs + bias\n",
        "\n",
        "    @staticmethod\n",
        "    def gaussian(f, theta, fmean, theta_mean, gamma_f, gamma_theta, c_1, c_2, H_cc, A=1):\n",
        "        return H_cc[c_1,c_2]*A*jnp.exp(-((gamma_f**2)*(f-fmean)**2)/(2))*jnp.exp(-((gamma_theta**2)*(theta-theta_mean)**2)/(2))"
      ]
    },
    {
      "cell_type": "code",
      "execution_count": 12,
      "metadata": {
        "metadata": {}
      },
      "outputs": [],
      "source": [
        "class GDNSpatioChromaFreqOrient(nn.Module):\n",
        "    \"\"\"Generalized Divisive Normalization.\"\"\"\n",
        "    kernel_size: Union[int, Sequence[int]]\n",
        "    strides: int = 1\n",
        "    padding: str = \"SAME\"\n",
        "    # inputs_star: float = 1.\n",
        "    # outputs_star: Union[None, float] = None\n",
        "    fs: int = 1\n",
        "    apply_independently: bool = False\n",
        "    bias_init: Callable = nn.initializers.ones_init()\n",
        "    alpha: float = 2.\n",
        "    epsilon: float = 1/2 # Exponential of the denominator\n",
        "    eps: float = 1e-6 # Numerical stability in the denominator\n",
        "\n",
        "    @nn.compact\n",
        "    def __call__(self,\n",
        "                 inputs,\n",
        "                 fmean,\n",
        "                 theta_mean,\n",
        "                 train=False,\n",
        "                 ):\n",
        "        b, h, w, c = inputs.shape\n",
        "        bias = self.param(\"bias\",\n",
        "                          #equal_to(inputs_star/10),\n",
        "                          self.bias_init,\n",
        "                          (c,))\n",
        "        # is_initialized = self.has_variable(\"batch_stats\", \"inputs_star\")\n",
        "        # inputs_star = self.variable(\"batch_stats\", \"inputs_star\", lambda x: jnp.ones(x)*self.inputs_star, (len(self.inputs_star),))\n",
        "        # inputs_star_ = jnp.ones_like(inputs)*inputs_star.value\n",
        "        GL = GaussianLayerGamma(features=c, kernel_size=self.kernel_size, strides=self.strides, padding=\"VALID\", fs=self.fs, xmean=self.kernel_size/self.fs/2, ymean=self.kernel_size/self.fs/2, normalize_prob=config.NORMALIZE_PROB, normalize_energy=config.NORMALIZE_ENERGY, use_bias=False, feature_group_count=c)\n",
        "        FOG = ChromaFreqOrientGaussianGamma()\n",
        "        outputs = GL(pad_same_from_kernel_size(inputs, kernel_size=self.kernel_size, mode=self.padding)**self.alpha, train=train)#/(self.kernel_size**2)\n",
        "        outputs = FOG(outputs, fmean=fmean, theta_mean=theta_mean)\n",
        "\n",
        "        ## Coef\n",
        "        # coef = GL(inputs_star_**self.alpha, train=train)#/(self.kernel_size**2)\n",
        "        # coef = FG(coef, fmean=fmean)\n",
        "        # coef = rearrange(coef, \"b h w (phase theta f) -> b h w (phase f theta)\", b=b, h=h, w=w, phase=2, f=config.N_SCALES, theta=config.N_ORIENTATIONS)\n",
        "        # coef = OG(coef, theta_mean=theta_mean) + bias\n",
        "        # coef = rearrange(coef, \"b h w (phase f theta) -> b h w (phase theta f)\", b=b, h=h, w=w, phase=2, f=config.N_SCALES, theta=config.N_ORIENTATIONS)\n",
        "        # coef = jnp.clip(coef+bias, a_min=1e-5)**self.epsilon\n",
        "        # # coef = inputs_star.value * coef\n",
        "        # if self.outputs_star is not None: coef = coef/inputs_star.value*self.outputs_star\n",
        "\n",
        "        # if is_initialized and train:\n",
        "        #     inputs_star.value = (inputs_star.value + jnp.quantile(jnp.abs(inputs), q=0.95, axis=(0,1,2)))/2\n",
        "        # return coef * inputs / (jnp.clip(denom+bias, a_min=1e-5)**self.epsilon + self.eps)\n",
        "        return self.param(\"B\", nn.initializers.ones_init(), (outputs.shape[-1],))*inputs / (jnp.clip(outputs+bias, a_min=1e-5)**self.epsilon + self.eps)"
      ]
    },
    {
      "cell_type": "code",
      "execution_count": 13,
      "metadata": {
        "metadata": {}
      },
      "outputs": [],
      "source": [
        "class GaborLayerGammaHumanLike_(nn.Module):\n",
        "    \"\"\"Parametric Gabor layer with particular initialization.\"\"\"\n",
        "    n_scales: Sequence[int] # [A, T, D]\n",
        "    n_orientations: Sequence[int] # [A, T, D]\n",
        "\n",
        "    kernel_size: Union[int, Sequence[int]]\n",
        "    strides: int = 1\n",
        "    padding: str = \"SAME\"\n",
        "    feature_group_count: int = 1\n",
        "\n",
        "    use_bias: bool = False\n",
        "    xmean: float = 0.5\n",
        "    ymean: float = 0.5\n",
        "    fs: float = 1 # Sampling frequency\n",
        "    phase = jnp.array([0., jnp.pi/2.])\n",
        "\n",
        "    normalize_prob: bool = True\n",
        "    normalize_energy: bool = False\n",
        "    zero_mean: bool = False\n",
        "    train_A: bool = False\n",
        "\n",
        "    @nn.compact\n",
        "    def __call__(self,\n",
        "                 inputs,\n",
        "                 train=False,\n",
        "                 return_freq=False,\n",
        "                 return_theta=False,\n",
        "                 ):\n",
        "        total_scales = jnp.sum(jnp.array(self.n_scales))\n",
        "        total_orientations = jnp.sum(jnp.array(self.n_orientations))\n",
        "        features = jnp.sum(jnp.array([s*o*len(self.phase) for s, o in zip(self.n_scales, self.n_orientations)]))\n",
        "\n",
        "        is_initialized = self.has_variable(\"precalc_filter\", \"kernel\")\n",
        "        precalc_filters = self.variable(\"precalc_filter\",\n",
        "                                        \"kernel\",\n",
        "                                        jnp.zeros,\n",
        "                                        (self.kernel_size, self.kernel_size, inputs.shape[-1], features))\n",
        "        freq_a = self.param(\"freq_a\",\n",
        "                           freq_scales_init(n_scales=self.n_scales[0], fs=self.fs),\n",
        "                           (self.n_scales[0],))\n",
        "        gammax_a = self.param(\"gammax_a\",\n",
        "                           k_array(k=0.4, arr=1/(freq_a**0.8)),\n",
        "                           (self.n_scales[0],))\n",
        "        gammay_a = self.param(\"gammay_a\",\n",
        "                            equal_to(gammax_a*0.8),\n",
        "                            (self.n_scales[0],))\n",
        "        theta_a = self.param(\"theta_a\",\n",
        "                           linspace(start=0, stop=jnp.pi, num=self.n_orientations[0]),\n",
        "                           (self.n_orientations[0],))\n",
        "        sigma_theta_a = self.param(\"sigma_theta_a\",\n",
        "                                  equal_to(theta_a),\n",
        "                                  (self.n_orientations[0],))\n",
        "\n",
        "        freq_t = self.param(\"freq_t\",\n",
        "                           freq_scales_init(n_scales=self.n_scales[1], fs=self.fs),\n",
        "                           (self.n_scales[1],))\n",
        "        gammax_t = self.param(\"gammax_t\",\n",
        "                           k_array(k=0.4, arr=1/(freq_t**0.8)),\n",
        "                           (self.n_scales[1],))\n",
        "        gammay_t = self.param(\"gammay_t\",\n",
        "                            equal_to(gammax_t*0.8),\n",
        "                            (self.n_scales[1],))\n",
        "        theta_t = self.param(\"theta_t\",\n",
        "                           linspace(start=0, stop=jnp.pi, num=self.n_orientations[1]),\n",
        "                           (self.n_orientations[1],))\n",
        "        sigma_theta_t = self.param(\"sigma_theta_t\",\n",
        "                                  equal_to(theta_t),\n",
        "                                  (self.n_orientations[1],))\n",
        "\n",
        "        freq_d = self.param(\"freq_d\",\n",
        "                           freq_scales_init(n_scales=self.n_scales[2], fs=self.fs),\n",
        "                           (self.n_scales[2],))\n",
        "        gammax_d = self.param(\"gammax_d\",\n",
        "                           k_array(k=0.4, arr=1/(freq_d**0.8)),\n",
        "                           (self.n_scales[2],))\n",
        "        gammay_d = self.param(\"gammay_d\",\n",
        "                            equal_to(gammax_d*0.8),\n",
        "                            (self.n_scales[2],))\n",
        "        theta_d = self.param(\"theta_d\",\n",
        "                           linspace(start=0, stop=jnp.pi, num=self.n_orientations[2]),\n",
        "                           (self.n_orientations[2],))\n",
        "        sigma_theta_d = self.param(\"sigma_theta_d\",\n",
        "                                  equal_to(theta_d),\n",
        "                                  (self.n_orientations[2],))\n",
        "\n",
        "        # A = self.param(\"A\",\n",
        "        #                nn.initializers.ones_init(),\n",
        "        #                (inputs.shape[-1], features)) if self.train_A else jnp.ones(shape=(inputs.shape[-1], features))\n",
        "        A = self.param(\"A\",\n",
        "                       nn.initializers.ones_init(),\n",
        "                       (inputs.shape[-1], 128))\n",
        "        if self.use_bias: bias = self.param(\"bias\",\n",
        "                                            self.bias_init,\n",
        "                                            (features,))\n",
        "        else: bias = 0.\n",
        "\n",
        "        if is_initialized and not train: \n",
        "            kernel = precalc_filters.value\n",
        "        elif is_initialized and train: \n",
        "            x, y = self.generate_dominion()\n",
        "            ## A\n",
        "            kernel_a = jax.vmap(self.gabor, in_axes=(None,None,None,None,0,0,0,None,None,None,None,None,None,None), out_axes=0)\n",
        "            kernel_a = jax.vmap(kernel_a, in_axes=(None,None,None,None,None,None,None,0,0,None,None,None,None,None), out_axes=0)\n",
        "            kernel_a = jax.vmap(kernel_a, in_axes=(None,None,None,None,None,None,None,None,None,0,None,None,None,None), out_axes=0)(x, y, self.xmean, self.ymean, gammax_a, gammay_a, freq_a, theta_a, sigma_theta_a, self.phase, 1, self.normalize_prob, self.normalize_energy, self.zero_mean)\n",
        "            kernel_a = rearrange(kernel_a, \"phases rots fs_sigmas kx ky -> kx ky (phases rots fs_sigmas)\")\n",
        "            kernel_a = repeat(kernel_a, \"kx ky c_out -> kx ky c_in c_out\", c_in=inputs.shape[-1], c_out=kernel_a.shape[-1])\n",
        "\n",
        "            ## T\n",
        "            kernel_t = jax.vmap(self.gabor, in_axes=(None,None,None,None,0,0,0,None,None,None,None,None,None,None), out_axes=0)\n",
        "            kernel_t = jax.vmap(kernel_t, in_axes=(None,None,None,None,None,None,None,0,0,None,None,None,None,None), out_axes=0)\n",
        "            kernel_t = jax.vmap(kernel_t, in_axes=(None,None,None,None,None,None,None,None,None,0,None,None,None,None), out_axes=0)(x, y, self.xmean, self.ymean, gammax_t, gammay_t, freq_t, theta_t, sigma_theta_t, self.phase, 1, self.normalize_prob, self.normalize_energy, self.zero_mean)\n",
        "            kernel_t = rearrange(kernel_t, \"phases rots fs_sigmas kx ky -> kx ky (phases rots fs_sigmas)\")\n",
        "            kernel_t = repeat(kernel_t, \"kx ky c_out -> kx ky c_in c_out\", c_in=inputs.shape[-1], c_out=kernel_t.shape[-1])\n",
        "\n",
        "            ## D\n",
        "            kernel_d = jax.vmap(self.gabor, in_axes=(None,None,None,None,0,0,0,None,None,None,None,None,None,None), out_axes=0)\n",
        "            kernel_d = jax.vmap(kernel_d, in_axes=(None,None,None,None,None,None,None,0,0,None,None,None,None,None), out_axes=0)\n",
        "            kernel_d = jax.vmap(kernel_d, in_axes=(None,None,None,None,None,None,None,None,None,0,None,None,None,None), out_axes=0)(x, y, self.xmean, self.ymean, gammax_d, gammay_d, freq_d, theta_d, sigma_theta_d, self.phase, 1, self.normalize_prob, self.normalize_energy, self.zero_mean)\n",
        "            kernel_d = rearrange(kernel_d, \"phases rots fs_sigmas kx ky -> kx ky (phases rots fs_sigmas)\")\n",
        "            kernel_d = repeat(kernel_d, \"kx ky c_out -> kx ky c_in c_out\", c_in=inputs.shape[-1], c_out=kernel_d.shape[-1])\n",
        "\n",
        "            ## Concat all of them\n",
        "            kernel = jnp.concatenate([kernel_a, kernel_t, kernel_d], axis=-1)\n",
        "            kernel = kernel * A[None,None,:,:]\n",
        "            precalc_filters.value = kernel\n",
        "        else:\n",
        "            kernel = precalc_filters.value\n",
        "\n",
        "        ## Add the batch dim if the input is a single element\n",
        "        if jnp.ndim(inputs) < 4: inputs = inputs[None,:]; had_batch = False\n",
        "        else: had_batch = True\n",
        "        outputs = lax.conv(jnp.transpose(inputs,[0,3,1,2]),    # lhs = NCHW image tensor\n",
        "               jnp.transpose(kernel,[3,2,0,1]), # rhs = OIHW conv kernel tensor\n",
        "               (self.strides, self.strides),\n",
        "               self.padding)\n",
        "        ## Move the channels back to the last dim\n",
        "        outputs = jnp.transpose(outputs, (0,2,3,1))\n",
        "        fmean = jnp.concatenate([jnp.tile(f, reps=len(t)) for f,t in zip([freq_a, freq_t, freq_d], [theta_a, theta_t, theta_d])])\n",
        "        fmean = jnp.tile(fmean, reps=2)\n",
        "        theta_mean = jnp.concatenate([jnp.tile(t, reps=len(f)) for f,t in zip([freq_a, freq_t, freq_d], [theta_a, theta_t, theta_d])])\n",
        "        theta_mean = jnp.tile(theta_mean, reps=2)\n",
        "\n",
        "        if not had_batch: outputs = outputs[0]\n",
        "        if return_freq and return_theta:\n",
        "            return outputs + bias, fmean, theta_mean \n",
        "        elif return_freq and not return_theta:\n",
        "            return outputs + bias, fmean\n",
        "        elif not return_freq and return_theta:\n",
        "            return outputs + bias, theta_mean\n",
        "        else:\n",
        "            return outputs + bias\n",
        "\n",
        "    @staticmethod\n",
        "    def gabor(x, y, xmean, ymean, gammax, gammay, freq, theta, sigma_theta, phase, A=1, normalize_prob=True, normalize_energy=False, zero_mean=False):\n",
        "        x, y = x-xmean, y-ymean\n",
        "        ## Obtain the normalization coeficient\n",
        "        gamma_vector = jnp.array([gammax, gammay])\n",
        "        inv_cov_matrix = jnp.diag(gamma_vector)**2\n",
        "        # det_cov_matrix = 1/jnp.linalg.det(cov_matrix)\n",
        "        # # A_norm = 1/(2*jnp.pi*jnp.sqrt(det_cov_matrix)) if normalize_prob else 1.\n",
        "        # A_norm = jnp.where(normalize_prob, 1/(2*jnp.pi*jnp.sqrt(det_cov_matrix)), 1.)\n",
        "        A_norm = 1.\n",
        "        \n",
        "        ## Rotate the sinusoid\n",
        "        rotation_matrix = jnp.array([[jnp.cos(sigma_theta), -jnp.sin(sigma_theta)],\n",
        "                                     [jnp.sin(sigma_theta), jnp.cos(sigma_theta)]])\n",
        "        rotated_covariance = rotation_matrix @ inv_cov_matrix @ jnp.transpose(rotation_matrix)\n",
        "        x_r_1 = rotated_covariance[0,0] * x + rotated_covariance[0,1] * y\n",
        "        y_r_1 = rotated_covariance[1,0] * x + rotated_covariance[1,1] * y\n",
        "        distance = x * x_r_1 + y * y_r_1\n",
        "        g = A_norm*jnp.exp(-distance/2) * jnp.cos(2*jnp.pi*freq*(x*jnp.cos(theta)+y*jnp.sin(theta)) + phase)\n",
        "        g = jnp.where(zero_mean, g - g.mean(), g)\n",
        "        E_norm = jnp.where(normalize_energy, jnp.sqrt(jnp.sum(g**2)), 1.)\n",
        "        return A*g/E_norm\n",
        "\n",
        "    def return_kernel(self, params, c_in=3):\n",
        "        x, y = self.generate_dominion()\n",
        "        sigmax, sigmay = jnp.exp(params[\"sigmax\"]), jnp.exp(params[\"sigmay\"])\n",
        "        kernel = jax.vmap(self.gabor, in_axes=(None,None,None,None,0,0,None,None,None,None,None,None,None), out_axes=0)\n",
        "        kernel = jax.vmap(kernel, in_axes=(None,None,None,None,None,None,0,None,None,None,None,None,None), out_axes=0)\n",
        "        kernel = jax.vmap(kernel, in_axes=(None,None,None,None,None,None,None,0,0,0,None,None,None), out_axes=0)(x, y, self.xmean, self.ymean, params[\"sigmax\"], params[\"sigmay\"], params[\"freq\"], params[\"theta\"], params[\"sigma_theta\"], self.phase, 1, self.normalize_prob, self.normalize_energy)\n",
        "        # kernel = rearrange(kernel, \"(c_in c_out) kx ky -> kx ky c_in c_out\", c_in=inputs.shape[-1], c_out=self.features)\n",
        "        kernel = rearrange(kernel, \"rots fs sigmas kx ky -> kx ky (rots fs sigmas)\")\n",
        "        kernel = repeat(kernel, \"kx ky c_out -> kx ky c_in c_out\", c_in=c_in, c_out=kernel.shape[-1])\n",
        "        return kernel\n",
        "    \n",
        "    def generate_dominion(self):\n",
        "        return jnp.meshgrid(jnp.linspace(0,self.kernel_size/self.fs,num=self.kernel_size), jnp.linspace(0,self.kernel_size/self.fs,num=self.kernel_size))"
      ]
    },
    {
      "cell_type": "code",
      "execution_count": 14,
      "metadata": {
        "metadata": {}
      },
      "outputs": [],
      "source": [
        "class PerceptNet(nn.Module):\n",
        "    \"\"\"IQA model inspired by the visual system.\"\"\"\n",
        "\n",
        "    @nn.compact\n",
        "    def __call__(self,\n",
        "                 inputs, # Assuming fs = 128 (cpd)\n",
        "                 **kwargs,\n",
        "                 ):\n",
        "        ## (Independent) Color equilibration (Gamma correction)\n",
        "        ## Might need to be the same for each number\n",
        "        ## bias = 0.1 / kernel = 0.5\n",
        "        if config.USE_GAMMA: outputs = GDNGamma()(inputs)\n",
        "        else: outputs = GDN(kernel_size=(1,1), apply_independently=True)(inputs)\n",
        "        \n",
        "        ## Color (ATD) Transformation\n",
        "        outputs = nn.Conv(features=3, kernel_size=(1,1), use_bias=False, name=\"Color\")(outputs)\n",
        "        outputs = nn.max_pool(outputs, window_shape=(2,2), strides=(2,2))\n",
        "        \n",
        "        ## GDN Star A - T - D [Separated]\n",
        "        outputs = GDN(kernel_size=(1,1), apply_independently=True)(outputs)\n",
        "\n",
        "        ## Center Surround (DoG)\n",
        "        ## Initialized so that 3 are positives and 3 are negatives and no interaction between channels is present\n",
        "        outputs = pad_same_from_kernel_size(outputs, kernel_size=config.CS_KERNEL_SIZE, mode=\"symmetric\")\n",
        "        outputs = CenterSurroundLogSigmaK(features=3, kernel_size=config.CS_KERNEL_SIZE, fs=21, use_bias=False, padding=\"VALID\")(outputs, **kwargs)\n",
        "        outputs = nn.max_pool(outputs, window_shape=(2,2), strides=(2,2))\n",
        "\n",
        "        ## GDN per channel with mean substraction in T and D (Spatial Gaussian Kernel)\n",
        "        ### fs = 32 / kernel_size = (11,11) -> 0.32 > 0.02 --> OK!\n",
        "        ## TO-DO: - Spatial Gaussian Kernel (0.02 deg) -> fs = 64/2 & 0.02*64/2 = sigma (px) = 0.69\n",
        "        outputs = GDNGaussian(kernel_size=config.GDNGAUSSIAN_KERNEL_SIZE, apply_independently=True, fs=32, padding=\"symmetric\", normalize_prob=config.NORMALIZE_PROB, normalize_energy=config.NORMALIZE_ENERGY)(outputs, **kwargs)\n",
        "\n",
        "        ## GaborLayer per channel with GDN mixing only same-origin-channel information\n",
        "        ### [Gaussian] sigma = 0.2 (deg) fs = 32 / kernel_size = (21,21) -> 21/32 = 0.66 --> OK!\n",
        "        outputs = pad_same_from_kernel_size(outputs, kernel_size=config.GABOR_KERNEL_SIZE, mode=\"symmetric\")\n",
        "        # outputs, fmean, theta_mean = GaborLayerGamma_(n_scales=4+2+2, n_orientations=8*3, kernel_size=config.GABOR_KERNEL_SIZE, fs=32, xmean=config.GABOR_KERNEL_SIZE/32/2, ymean=config.GABOR_KERNEL_SIZE/32/2, strides=1, padding=\"VALID\", normalize_prob=config.NORMALIZE_PROB, normalize_energy=config.NORMALIZE_ENERGY, zero_mean=config.ZERO_MEAN, use_bias=config.USE_BIAS, train_A=config.A_GABOR)(outputs, return_freq=True, return_theta=True, **kwargs)\n",
        "        outputs, fmean, theta_mean = GaborLayerGammaHumanLike_(n_scales=[4,2,2], n_orientations=[8,8,8], kernel_size=config.GABOR_KERNEL_SIZE, fs=32, xmean=config.GABOR_KERNEL_SIZE/32/2, ymean=config.GABOR_KERNEL_SIZE/32/2, strides=1, padding=\"VALID\", normalize_prob=config.NORMALIZE_PROB, normalize_energy=config.NORMALIZE_ENERGY, zero_mean=config.ZERO_MEAN, use_bias=config.USE_BIAS, train_A=config.A_GABOR)(outputs, return_freq=True, return_theta=True, **kwargs)\n",
        "        \n",
        "        ## Final GDN mixing Gabor information (?)\n",
        "        outputs = GDNSpatioChromaFreqOrient(kernel_size=21, strides=1, padding=\"symmetric\", fs=32, apply_independently=False)(outputs, fmean=fmean, theta_mean=theta_mean, **kwargs)\n",
        "\n",
        "        return outputs"
      ]
    },
    {
      "cell_type": "code",
      "execution_count": 15,
      "metadata": {
        "metadata": {}
      },
      "outputs": [],
      "source": [
        "@struct.dataclass\n",
        "class Metrics(metrics.Collection):\n",
        "    \"\"\"Collection of metrics to be tracked during training.\"\"\"\n",
        "    loss: metrics.Average.from_output(\"loss\")"
      ]
    },
    {
      "cell_type": "code",
      "execution_count": 16,
      "metadata": {
        "metadata": {}
      },
      "outputs": [],
      "source": [
        "class TrainState(train_state.TrainState):\n",
        "    metrics: Metrics\n",
        "    state: FrozenDict"
      ]
    },
    {
      "cell_type": "code",
      "execution_count": 17,
      "metadata": {
        "metadata": {}
      },
      "outputs": [],
      "source": [
        "def create_train_state(module, key, tx, input_shape):\n",
        "    \"\"\"Creates the initial `TrainState`.\"\"\"\n",
        "    variables = module.init(key, jnp.ones(input_shape))\n",
        "    state, params = variables.pop('params')\n",
        "    return TrainState.create(\n",
        "        apply_fn=module.apply,\n",
        "        params=params,\n",
        "        state=state,\n",
        "        tx=tx,\n",
        "        metrics=Metrics.empty()\n",
        "    )"
      ]
    },
    {
      "cell_type": "code",
      "execution_count": 18,
      "metadata": {
        "metadata": {}
      },
      "outputs": [],
      "source": [
        "state = create_train_state(PerceptNet(), random.PRNGKey(config.SEED), optax.adam(config.LEARNING_RATE), input_shape=(1,384,512,3))\n",
        "# state = state.replace(params=clip_layer(state.params, \"GDN\", a_min=0))"
      ]
    },
    {
      "cell_type": "code",
      "execution_count": 19,
      "metadata": {
        "metadata": {}
      },
      "outputs": [],
      "source": [
        "import flax"
      ]
    },
    {
      "cell_type": "code",
      "execution_count": 20,
      "metadata": {
        "metadata": {}
      },
      "outputs": [],
      "source": [
        "def check_trainable(path):\n",
        "    if not config.A_GDNSPATIOFREQORIENT:\n",
        "        if (\"GDNSpatioChromaFreqOrient_0\" in path) and (\"A\" in path):\n",
        "            return True\n",
        "    if \"Color\" in path:\n",
        "        if not config.TRAIN_JH:\n",
        "            return True\n",
        "    if \"CenterSurroundLogSigmaK_0\" in path:\n",
        "        if not config.TRAIN_CS:\n",
        "            return True\n",
        "    if \"Gabor\" in \"\".join(path):\n",
        "        if not config.TRAIN_GABOR:\n",
        "            return True\n",
        "    if \"GDNSpatioChromaFreqOrient_0\" not in path and config.TRAIN_ONLY_LAST_GDN:\n",
        "        return True\n",
        "    return False"
      ]
    },
    {
      "cell_type": "code",
      "execution_count": 21,
      "metadata": {
        "metadata": {}
      },
      "outputs": [],
      "source": [
        "trainable_tree = freeze(flax.traverse_util.path_aware_map(lambda path, v: \"non_trainable\" if check_trainable(path)  else \"trainable\", state.params))"
      ]
    },
    {
      "cell_type": "code",
      "execution_count": 22,
      "metadata": {
        "metadata": {}
      },
      "outputs": [],
      "source": [
        "optimizers = {\n",
        "    \"trainable\": optax.adam(learning_rate=config.LEARNING_RATE),\n",
        "    \"non_trainable\": optax.set_to_zero(),\n",
        "}"
      ]
    },
    {
      "cell_type": "code",
      "execution_count": 23,
      "metadata": {
        "metadata": {}
      },
      "outputs": [],
      "source": [
        "tx = optax.multi_transform(optimizers, trainable_tree)"
      ]
    },
    {
      "cell_type": "code",
      "execution_count": 24,
      "metadata": {
        "metadata": {}
      },
      "outputs": [],
      "source": [
        "state = create_train_state(PerceptNet(), random.PRNGKey(config.SEED), tx, input_shape=(1,384,512,3))\n",
        "# state = state.replace(params=clip_layer(state.params, \"GDN\", a_min=0))"
      ]
    },
    {
      "cell_type": "code",
      "execution_count": 25,
      "metadata": {
        "metadata": {}
      },
      "outputs": [],
      "source": [
        "orbax_checkpointer = orbax.checkpoint.PyTreeCheckpointer()\n",
        "save_args = orbax_utils.save_args_from_target(state)"
      ]
    },
    {
      "cell_type": "code",
      "execution_count": 26,
      "metadata": {
        "metadata": {}
      },
      "outputs": [],
      "source": [
        "state1 = orbax_checkpointer.restore(f\"{prev_run.dir}/model-best\", item=state)\n",
        "state2 = orbax_checkpointer.restore(f\"{prev_run.dir}/model-final\", item=state)\n",
        "# state = orbax_checkpointer.restore(f\"{prev_run.dir}/model-0\", item=state)"
      ]
    },
    {
      "cell_type": "markdown",
      "metadata": {
        "id": "3R1VxDI8HEmm"
      },
      "source": [
        "## Extract the weights as a vector"
      ]
    },
    {
      "cell_type": "code",
      "execution_count": 27,
      "metadata": {
        "id": "MAh9RDF1HgCC",
        "metadata": {}
      },
      "outputs": [],
      "source": [
        "def extract_weights(params):\n",
        "    weights_, structs = jax.tree_util.tree_flatten(params)\n",
        "    weights, shapes = [], []\n",
        "    for w in weights_:\n",
        "        weights.append(w.flatten())\n",
        "        shapes.append(w.shape)\n",
        "    return jnp.concatenate(weights), shapes, structs"
      ]
    },
    {
      "cell_type": "code",
      "execution_count": 28,
      "metadata": {
        "id": "lbZ_hDokYCEf",
        "metadata": {}
      },
      "outputs": [],
      "source": [
        "w1, s1 = jax.tree_util.tree_flatten(state1.params)"
      ]
    },
    {
      "cell_type": "code",
      "execution_count": 29,
      "metadata": {
        "id": "BA7J_Ph1ZZtG",
        "metadata": {}
      },
      "outputs": [],
      "source": [
        "w1, s1, st1 = extract_weights(state1.params)\n",
        "w2, s2, st2 = extract_weights(state2.params)"
      ]
    },
    {
      "cell_type": "code",
      "execution_count": 30,
      "metadata": {
        "id": "c2XQTitSKAZA",
        "metadata": {}
      },
      "outputs": [],
      "source": [
        "def prepare_params(weights, shapes, struct):\n",
        "    ws = []\n",
        "    n_w_ = 0\n",
        "    for s in shapes:\n",
        "        n_w = jnp.prod(jnp.array(s))\n",
        "        w_ = weights[n_w_:n_w_+n_w].reshape(s)\n",
        "        n_w_ += n_w\n",
        "        ws.append(w_)\n",
        "    return jax.tree_util.tree_unflatten(struct, ws)"
      ]
    },
    {
      "cell_type": "code",
      "execution_count": 31,
      "metadata": {
        "id": "kXzisF53HIG6",
        "metadata": {}
      },
      "outputs": [],
      "source": [
        "def poly_chain(t, theta, w1, w2):\n",
        "    return jnp.where(t <= 0.5, 2*(t*theta + (0.5-t)*w1), 2*((t-0.5)*w2 + (1-t)*theta))\n",
        "    # if t <= 0.5:\n",
        "    #     return 2*(t*theta + (0.5-t)*w1)\n",
        "    # elif t <= 1:\n",
        "    #     return 2*((t-0.5)*w2 + (1-t)*theta)"
      ]
    },
    {
      "cell_type": "code",
      "execution_count": 32,
      "metadata": {
        "metadata": {}
      },
      "outputs": [],
      "source": [
        "def bezier_curve(t, theta, w1, w2):\n",
        "    return ((1-t)**2)*w1 + 2*t*(1-t)*theta + (t**2)*w2"
      ]
    },
    {
      "cell_type": "code",
      "execution_count": 33,
      "metadata": {
        "metadata": {}
      },
      "outputs": [],
      "source": [
        "state_theta = create_train_state(PerceptNet(), random.PRNGKey(config.SEED), tx=optax.sgd(learning_rate=3e-4), input_shape=(1,384,512,3))\n",
        "state_theta = state_theta.replace(params=clip_layer(state_theta.params, \"GDN\", a_min=0))"
      ]
    },
    {
      "cell_type": "code",
      "execution_count": 34,
      "metadata": {
        "metadata": {}
      },
      "outputs": [],
      "source": [
        "def apply_curve(t, params_theta, params1, params2):\n",
        "    # return jax.tree_util.tree_map(lambda theta, w1, w2: poly_chain(t=t, theta=theta, w1=w1, w2=w2), params_theta, params1, params2)\n",
        "    return jax.tree_util.tree_map(lambda theta, w1, w2: bezier_curve(t=t, theta=theta, w1=w1, w2=w2), params_theta, params1, params2)"
      ]
    },
    {
      "cell_type": "code",
      "execution_count": 35,
      "metadata": {
        "metadata": {}
      },
      "outputs": [],
      "source": [
        "def l2_regularization(params):\n",
        "    return jnp.mean(jnp.concatenate([w.flatten() for w in jax.tree_util.tree_leaves(params)]))"
      ]
    },
    {
      "cell_type": "code",
      "execution_count": 38,
      "metadata": {
        "metadata": {}
      },
      "outputs": [],
      "source": [
        "def pearson_correlation(vec1, vec2):\n",
        "    vec1 = vec1.squeeze()\n",
        "    vec2 = vec2.squeeze()\n",
        "    vec1_mean = vec1.mean()\n",
        "    vec2_mean = vec2.mean()\n",
        "    num = vec1-vec1_mean\n",
        "    num *= vec2-vec2_mean\n",
        "    num = num.sum()\n",
        "    denom = jnp.sqrt(jnp.sum((vec1-vec1_mean)**2))\n",
        "    denom *= jnp.sqrt(jnp.sum((vec2-vec2_mean)**2))\n",
        "    return num/denom"
      ]
    },
    {
      "cell_type": "code",
      "execution_count": 41,
      "metadata": {
        "colab": {
          "base_uri": "https://localhost:8080/",
          "height": 570,
          "referenced_widgets": [
            "aa5c965221c34bc69915dd8d77008e95",
            "0a25dd5cea6047d2b6bd9b7649cc08a1",
            "1f219947abaa42b586657ffca93d417f",
            "2a79bb16127b4b959fa3d8673ba443b8",
            "c3d3677204c943ccbdac3caac6e434e8",
            "c0c579c0d924406493eacb61dbce2512",
            "773668736c4f40e58d5833097feaaff4",
            "fe1e6f4c07e2418cabb976753a4b4059",
            "a1a220a9960f4ef69fe51bdbec172d21",
            "9de0f0dab6df4b929e23668ac9feb54c",
            "adf68dff8e034f0392034817dfc97d7f"
          ]
        },
        "id": "OwopNvm_IJKT",
        "metadata": {},
        "outputId": "b8419b95-535c-46fc-aa4b-e4a443b8820b"
      },
      "outputs": [
        {
          "data": {
            "application/vnd.jupyter.widget-view+json": {
              "model_id": "02aa66b430014235a475b54e81eab462",
              "version_major": 2,
              "version_minor": 0
            },
            "text/plain": [
              "  0%|          | 0/20 [00:00<?, ?it/s]"
            ]
          },
          "metadata": {},
          "output_type": "display_data"
        }
      ],
      "source": [
        "N_ITERS = 20\n",
        "BATCH_SIZE = 4\n",
        "key = random.PRNGKey(42)\n",
        "state_theta = create_train_state(PerceptNet(), random.PRNGKey(config.SEED), tx=optax.sgd(learning_rate=3e-4), input_shape=(1,384,512,3))\n",
        "state_theta = state_theta.replace(params=clip_layer(state_theta.params, \"GDN\", a_min=0))\n",
        "losses = []\n",
        "\n",
        "for n in tqdm(range(N_ITERS)):\n",
        "    ## 1. Sample a value of t\n",
        "    t = random.uniform(key, shape=(BATCH_SIZE,), minval=0., maxval=1.)\n",
        "    key, _ = random.split(key)\n",
        "\n",
        "    @jax.jit\n",
        "    def train_step(state_theta, batch):\n",
        "        def loss_fn(theta_params):\n",
        "            ## 2. Obtain new weights\n",
        "            predicted_weights_ = jax.vmap(apply_curve, in_axes=(0,None,None,None))(t, theta_params, state1.params, state2.params)\n",
        "\n",
        "            ## 3. Calculate the loss with the new weights\n",
        "            img, img_dist, mos = batch\n",
        "            img_pred, _ = jax.vmap(lambda params, x: state_theta.apply_fn({\"params\": params, **state_theta.state}, x, train=True, mutable=list(state_theta.state.keys())), in_axes=(0,None))(predicted_weights_, img)\n",
        "            img_dist_pred, _ = jax.vmap(lambda params, x: state_theta.apply_fn({\"params\": params, **state_theta.state}, x, train=True, mutable=list(state_theta.state.keys())), in_axes=(0,None))(predicted_weights_, img_dist)\n",
        "            dist = ((img_pred - img_dist_pred)**2).sum(axis=(2,3,4))**(1/2)\n",
        "            losses = jax.vmap(pearson_correlation, in_axes=(0,None))(dist, mos)\n",
        "            # jax.debug.print(f\"{img_pred.shape} | {img_dist_pred.shape} | {dist.shape} | {losses.shape}\")\n",
        "            return losses.mean() #+ 1.*l2_regularization(theta_params)\n",
        "\n",
        "        ## 4. Calculate the gradient of the loss w.r.t. theta to optimize the curve\n",
        "        loss, grads = jax.value_and_grad(loss_fn)(state_theta.params)\n",
        "        state_theta = state_theta.apply_gradients(grads=grads)\n",
        "        return state_theta, loss\n",
        "\n",
        "    losses_ = []\n",
        "    for batch in dst_train_rdy.as_numpy_iterator():\n",
        "        state_theta, loss = train_step(state_theta, batch)\n",
        "        losses_.append(jax.device_put(loss, jax.devices(\"cpu\")[0]))\n",
        "        # break\n",
        "    losses.append(jnp.mean(jnp.array(losses_)))\n",
        "    print(f\"Epoch {n} -> Loss: {losses[-1]}\")\n",
        "    # break"
      ]
    },
    {
      "cell_type": "code",
      "execution_count": null,
      "metadata": {
        "id": "stcbF5U_fwWQ"
      },
      "outputs": [],
      "source": [
        "import matplotlib.pyplot as plt"
      ]
    },
    {
      "cell_type": "code",
      "execution_count": null,
      "metadata": {},
      "outputs": [],
      "source": [
        "def accuracy(logits, labels):\n",
        "    preds = logits.argmax(axis=1)\n",
        "    return jnp.where(preds == labels, 1, 0).sum()/len(labels)"
      ]
    },
    {
      "cell_type": "code",
      "execution_count": null,
      "metadata": {},
      "outputs": [],
      "source": [
        "def evaluate_params(params, dst):\n",
        "    losses, accs = [], []\n",
        "    for batch in dst.as_numpy_iterator():\n",
        "        x, y = batch\n",
        "\n",
        "        def loss_fn(params):\n",
        "            logits = Model().apply({\"params\": params}, x)\n",
        "            loss = optax.softmax_cross_entropy_with_integer_labels(logits=logits, labels=y).mean()\n",
        "            acc = accuracy(logits=logits, labels=y)\n",
        "            return loss, acc\n",
        "\n",
        "        loss_, acc_ = loss_fn(params)\n",
        "        losses.append(loss_)\n",
        "        accs.append(acc_)\n",
        "    return jnp.mean(jnp.array(losses)), jnp.mean(jnp.array(accs))"
      ]
    },
    {
      "cell_type": "code",
      "execution_count": null,
      "metadata": {
        "id": "_fp8CP4beb13"
      },
      "outputs": [],
      "source": [
        "def plot_curve(t, state_theta, state1, state2):\n",
        "    t = jnp.linspace(0., 1., num=50)\n",
        "    predicted_weights_ = jax.vmap(apply_curve, in_axes=(0,None,None,None))(t, state_theta.params, state1.params, state2.params)\n",
        "    losses, accs = jax.vmap(evaluate_params, in_axes=(0,None))(predicted_weights_, dst_train_rdy)\n",
        "    # losses = jax.vmap(optax.softmax_cross_entropy_with_integer_labels, in_axes=(0,None), out_axes=0)(logits, y)[0]\n",
        "    fig, axes = plt.subplots(1,2, figsize=(9,4))\n",
        "    axes[0].plot(t, losses)\n",
        "    axes[0].set_ylabel(\"Loss\")\n",
        "    axes[0].set_xlabel(\"t\")\n",
        "    axes[1].plot(t, accs)\n",
        "    axes[1].set_ylabel(\"Accuracy\")\n",
        "    axes[1].set_xlabel(\"t\")"
      ]
    },
    {
      "cell_type": "code",
      "execution_count": null,
      "metadata": {
        "colab": {
          "base_uri": "https://localhost:8080/",
          "height": 430
        },
        "id": "MQAOeLhGfchD",
        "outputId": "0be483c2-bc08-42bd-b69b-97690740e3c0"
      },
      "outputs": [],
      "source": [
        "plot_curve(t, state_theta, state1, state2)\n",
        "plt.show()"
      ]
    },
    {
      "cell_type": "code",
      "execution_count": null,
      "metadata": {},
      "outputs": [],
      "source": [
        "def plot_segment(t, state_theta, state1, state2):\n",
        "    def segment(t, theta, w1, w2): return jax.tree_util.tree_map(lambda theta, w1, w2: (1-t)*w1 + t*w2, theta, w1, w2)\n",
        "    t = jnp.linspace(0., 1., num=50)\n",
        "    predicted_weights_ = jax.vmap(segment, in_axes=(0,None,None,None))(t, state_theta.params, state1.params, state2.params)\n",
        "    losses, accs = jax.vmap(evaluate_params, in_axes=(0,None))(predicted_weights_, dst_train_rdy)\n",
        "    # losses = jax.vmap(optax.softmax_cross_entropy_with_integer_labels, in_axes=(0,None), out_axes=0)(logits, y)[0]\n",
        "    fig, axes = plt.subplots(1,2, figsize=(9,4))\n",
        "    axes[0].plot(t, losses)\n",
        "    axes[0].set_ylabel(\"Loss\")\n",
        "    axes[0].set_xlabel(\"t\")\n",
        "    axes[1].plot(t, accs)\n",
        "    axes[1].set_ylabel(\"Accuracy\")\n",
        "    axes[1].set_xlabel(\"t\")\n",
        "    plt.suptitle(\"Segment\")"
      ]
    },
    {
      "cell_type": "code",
      "execution_count": null,
      "metadata": {},
      "outputs": [],
      "source": [
        "plot_segment(t, state_theta, state1, state2)\n",
        "plt.show()"
      ]
    }
  ],
  "metadata": {
    "colab": {
      "provenance": []
    },
    "kernelspec": {
      "display_name": "Python 3",
      "name": "python3"
    },
    "language_info": {
      "codemirror_mode": {
        "name": "ipython",
        "version": 3
      },
      "file_extension": ".py",
      "mimetype": "text/x-python",
      "name": "python",
      "nbconvert_exporter": "python",
      "pygments_lexer": "ipython3",
      "version": "3.8.16"
    },
    "widgets": {
      "application/vnd.jupyter.widget-state+json": {
        "01fe508723624ca4915030c4eb2ce635": {
          "model_module": "@jupyter-widgets/base",
          "model_module_version": "1.2.0",
          "model_name": "LayoutModel",
          "state": {
            "_model_module": "@jupyter-widgets/base",
            "_model_module_version": "1.2.0",
            "_model_name": "LayoutModel",
            "_view_count": null,
            "_view_module": "@jupyter-widgets/base",
            "_view_module_version": "1.2.0",
            "_view_name": "LayoutView",
            "align_content": null,
            "align_items": null,
            "align_self": null,
            "border": null,
            "bottom": null,
            "display": null,
            "flex": null,
            "flex_flow": null,
            "grid_area": null,
            "grid_auto_columns": null,
            "grid_auto_flow": null,
            "grid_auto_rows": null,
            "grid_column": null,
            "grid_gap": null,
            "grid_row": null,
            "grid_template_areas": null,
            "grid_template_columns": null,
            "grid_template_rows": null,
            "height": null,
            "justify_content": null,
            "justify_items": null,
            "left": null,
            "margin": null,
            "max_height": null,
            "max_width": null,
            "min_height": null,
            "min_width": null,
            "object_fit": null,
            "object_position": null,
            "order": null,
            "overflow": null,
            "overflow_x": null,
            "overflow_y": null,
            "padding": null,
            "right": null,
            "top": null,
            "visibility": null,
            "width": null
          }
        },
        "05ed4e12ef424e17aac4ab159024e0a8": {
          "model_module": "@jupyter-widgets/controls",
          "model_module_version": "1.5.0",
          "model_name": "DescriptionStyleModel",
          "state": {
            "_model_module": "@jupyter-widgets/controls",
            "_model_module_version": "1.5.0",
            "_model_name": "DescriptionStyleModel",
            "_view_count": null,
            "_view_module": "@jupyter-widgets/base",
            "_view_module_version": "1.2.0",
            "_view_name": "StyleView",
            "description_width": ""
          }
        },
        "0a25dd5cea6047d2b6bd9b7649cc08a1": {
          "model_module": "@jupyter-widgets/controls",
          "model_module_version": "1.5.0",
          "model_name": "HTMLModel",
          "state": {
            "_dom_classes": [],
            "_model_module": "@jupyter-widgets/controls",
            "_model_module_version": "1.5.0",
            "_model_name": "HTMLModel",
            "_view_count": null,
            "_view_module": "@jupyter-widgets/controls",
            "_view_module_version": "1.5.0",
            "_view_name": "HTMLView",
            "description": "",
            "description_tooltip": null,
            "layout": "IPY_MODEL_c0c579c0d924406493eacb61dbce2512",
            "placeholder": "​",
            "style": "IPY_MODEL_773668736c4f40e58d5833097feaaff4",
            "value": "100%"
          }
        },
        "166a7352b0824a7fbb181dd2c6cd362a": {
          "model_module": "@jupyter-widgets/controls",
          "model_module_version": "1.5.0",
          "model_name": "HTMLModel",
          "state": {
            "_dom_classes": [],
            "_model_module": "@jupyter-widgets/controls",
            "_model_module_version": "1.5.0",
            "_model_name": "HTMLModel",
            "_view_count": null,
            "_view_module": "@jupyter-widgets/controls",
            "_view_module_version": "1.5.0",
            "_view_name": "HTMLView",
            "description": "",
            "description_tooltip": null,
            "layout": "IPY_MODEL_01fe508723624ca4915030c4eb2ce635",
            "placeholder": "​",
            "style": "IPY_MODEL_20cf1d1d25344f09b92dd520c12e3e2f",
            "value": "100%"
          }
        },
        "1f219947abaa42b586657ffca93d417f": {
          "model_module": "@jupyter-widgets/controls",
          "model_module_version": "1.5.0",
          "model_name": "FloatProgressModel",
          "state": {
            "_dom_classes": [],
            "_model_module": "@jupyter-widgets/controls",
            "_model_module_version": "1.5.0",
            "_model_name": "FloatProgressModel",
            "_view_count": null,
            "_view_module": "@jupyter-widgets/controls",
            "_view_module_version": "1.5.0",
            "_view_name": "ProgressView",
            "bar_style": "success",
            "description": "",
            "description_tooltip": null,
            "layout": "IPY_MODEL_fe1e6f4c07e2418cabb976753a4b4059",
            "max": 30,
            "min": 0,
            "orientation": "horizontal",
            "style": "IPY_MODEL_a1a220a9960f4ef69fe51bdbec172d21",
            "value": 30
          }
        },
        "20cf1d1d25344f09b92dd520c12e3e2f": {
          "model_module": "@jupyter-widgets/controls",
          "model_module_version": "1.5.0",
          "model_name": "DescriptionStyleModel",
          "state": {
            "_model_module": "@jupyter-widgets/controls",
            "_model_module_version": "1.5.0",
            "_model_name": "DescriptionStyleModel",
            "_view_count": null,
            "_view_module": "@jupyter-widgets/base",
            "_view_module_version": "1.2.0",
            "_view_name": "StyleView",
            "description_width": ""
          }
        },
        "2a79bb16127b4b959fa3d8673ba443b8": {
          "model_module": "@jupyter-widgets/controls",
          "model_module_version": "1.5.0",
          "model_name": "HTMLModel",
          "state": {
            "_dom_classes": [],
            "_model_module": "@jupyter-widgets/controls",
            "_model_module_version": "1.5.0",
            "_model_name": "HTMLModel",
            "_view_count": null,
            "_view_module": "@jupyter-widgets/controls",
            "_view_module_version": "1.5.0",
            "_view_name": "HTMLView",
            "description": "",
            "description_tooltip": null,
            "layout": "IPY_MODEL_9de0f0dab6df4b929e23668ac9feb54c",
            "placeholder": "​",
            "style": "IPY_MODEL_adf68dff8e034f0392034817dfc97d7f",
            "value": " 30/30 [09:01&lt;00:00, 16.84s/it]"
          }
        },
        "3a277e290611499e99cce11ba01ae70d": {
          "model_module": "@jupyter-widgets/controls",
          "model_module_version": "1.5.0",
          "model_name": "HTMLModel",
          "state": {
            "_dom_classes": [],
            "_model_module": "@jupyter-widgets/controls",
            "_model_module_version": "1.5.0",
            "_model_name": "HTMLModel",
            "_view_count": null,
            "_view_module": "@jupyter-widgets/controls",
            "_view_module_version": "1.5.0",
            "_view_name": "HTMLView",
            "description": "",
            "description_tooltip": null,
            "layout": "IPY_MODEL_7269f0b141604252b02ba881b22ba755",
            "placeholder": "​",
            "style": "IPY_MODEL_e72b9523e5fc4162b713a0bb7fed7c81",
            "value": "100%"
          }
        },
        "549cf28306044e55bb13a8038b88858f": {
          "model_module": "@jupyter-widgets/controls",
          "model_module_version": "1.5.0",
          "model_name": "DescriptionStyleModel",
          "state": {
            "_model_module": "@jupyter-widgets/controls",
            "_model_module_version": "1.5.0",
            "_model_name": "DescriptionStyleModel",
            "_view_count": null,
            "_view_module": "@jupyter-widgets/base",
            "_view_module_version": "1.2.0",
            "_view_name": "StyleView",
            "description_width": ""
          }
        },
        "5bc1bd670b4a4f64a01677428f71e0de": {
          "model_module": "@jupyter-widgets/base",
          "model_module_version": "1.2.0",
          "model_name": "LayoutModel",
          "state": {
            "_model_module": "@jupyter-widgets/base",
            "_model_module_version": "1.2.0",
            "_model_name": "LayoutModel",
            "_view_count": null,
            "_view_module": "@jupyter-widgets/base",
            "_view_module_version": "1.2.0",
            "_view_name": "LayoutView",
            "align_content": null,
            "align_items": null,
            "align_self": null,
            "border": null,
            "bottom": null,
            "display": null,
            "flex": null,
            "flex_flow": null,
            "grid_area": null,
            "grid_auto_columns": null,
            "grid_auto_flow": null,
            "grid_auto_rows": null,
            "grid_column": null,
            "grid_gap": null,
            "grid_row": null,
            "grid_template_areas": null,
            "grid_template_columns": null,
            "grid_template_rows": null,
            "height": null,
            "justify_content": null,
            "justify_items": null,
            "left": null,
            "margin": null,
            "max_height": null,
            "max_width": null,
            "min_height": null,
            "min_width": null,
            "object_fit": null,
            "object_position": null,
            "order": null,
            "overflow": null,
            "overflow_x": null,
            "overflow_y": null,
            "padding": null,
            "right": null,
            "top": null,
            "visibility": null,
            "width": null
          }
        },
        "5ce06a5e9ee24bffb49e7b6440999116": {
          "model_module": "@jupyter-widgets/controls",
          "model_module_version": "1.5.0",
          "model_name": "HBoxModel",
          "state": {
            "_dom_classes": [],
            "_model_module": "@jupyter-widgets/controls",
            "_model_module_version": "1.5.0",
            "_model_name": "HBoxModel",
            "_view_count": null,
            "_view_module": "@jupyter-widgets/controls",
            "_view_module_version": "1.5.0",
            "_view_name": "HBoxView",
            "box_style": "",
            "children": [
              "IPY_MODEL_3a277e290611499e99cce11ba01ae70d",
              "IPY_MODEL_ca16cadf3b164b69bb55b55234dc6655",
              "IPY_MODEL_b7fb66eab6f04415afe4d9d770c42514"
            ],
            "layout": "IPY_MODEL_7eb7d03e87dd441193c1c67587bd7dad"
          }
        },
        "66609435272d41648f01af7254bd22ed": {
          "model_module": "@jupyter-widgets/base",
          "model_module_version": "1.2.0",
          "model_name": "LayoutModel",
          "state": {
            "_model_module": "@jupyter-widgets/base",
            "_model_module_version": "1.2.0",
            "_model_name": "LayoutModel",
            "_view_count": null,
            "_view_module": "@jupyter-widgets/base",
            "_view_module_version": "1.2.0",
            "_view_name": "LayoutView",
            "align_content": null,
            "align_items": null,
            "align_self": null,
            "border": null,
            "bottom": null,
            "display": null,
            "flex": null,
            "flex_flow": null,
            "grid_area": null,
            "grid_auto_columns": null,
            "grid_auto_flow": null,
            "grid_auto_rows": null,
            "grid_column": null,
            "grid_gap": null,
            "grid_row": null,
            "grid_template_areas": null,
            "grid_template_columns": null,
            "grid_template_rows": null,
            "height": null,
            "justify_content": null,
            "justify_items": null,
            "left": null,
            "margin": null,
            "max_height": null,
            "max_width": null,
            "min_height": null,
            "min_width": null,
            "object_fit": null,
            "object_position": null,
            "order": null,
            "overflow": null,
            "overflow_x": null,
            "overflow_y": null,
            "padding": null,
            "right": null,
            "top": null,
            "visibility": null,
            "width": null
          }
        },
        "6e4e6be780214b7b9e3067716019a998": {
          "model_module": "@jupyter-widgets/base",
          "model_module_version": "1.2.0",
          "model_name": "LayoutModel",
          "state": {
            "_model_module": "@jupyter-widgets/base",
            "_model_module_version": "1.2.0",
            "_model_name": "LayoutModel",
            "_view_count": null,
            "_view_module": "@jupyter-widgets/base",
            "_view_module_version": "1.2.0",
            "_view_name": "LayoutView",
            "align_content": null,
            "align_items": null,
            "align_self": null,
            "border": null,
            "bottom": null,
            "display": null,
            "flex": null,
            "flex_flow": null,
            "grid_area": null,
            "grid_auto_columns": null,
            "grid_auto_flow": null,
            "grid_auto_rows": null,
            "grid_column": null,
            "grid_gap": null,
            "grid_row": null,
            "grid_template_areas": null,
            "grid_template_columns": null,
            "grid_template_rows": null,
            "height": null,
            "justify_content": null,
            "justify_items": null,
            "left": null,
            "margin": null,
            "max_height": null,
            "max_width": null,
            "min_height": null,
            "min_width": null,
            "object_fit": null,
            "object_position": null,
            "order": null,
            "overflow": null,
            "overflow_x": null,
            "overflow_y": null,
            "padding": null,
            "right": null,
            "top": null,
            "visibility": null,
            "width": null
          }
        },
        "7269f0b141604252b02ba881b22ba755": {
          "model_module": "@jupyter-widgets/base",
          "model_module_version": "1.2.0",
          "model_name": "LayoutModel",
          "state": {
            "_model_module": "@jupyter-widgets/base",
            "_model_module_version": "1.2.0",
            "_model_name": "LayoutModel",
            "_view_count": null,
            "_view_module": "@jupyter-widgets/base",
            "_view_module_version": "1.2.0",
            "_view_name": "LayoutView",
            "align_content": null,
            "align_items": null,
            "align_self": null,
            "border": null,
            "bottom": null,
            "display": null,
            "flex": null,
            "flex_flow": null,
            "grid_area": null,
            "grid_auto_columns": null,
            "grid_auto_flow": null,
            "grid_auto_rows": null,
            "grid_column": null,
            "grid_gap": null,
            "grid_row": null,
            "grid_template_areas": null,
            "grid_template_columns": null,
            "grid_template_rows": null,
            "height": null,
            "justify_content": null,
            "justify_items": null,
            "left": null,
            "margin": null,
            "max_height": null,
            "max_width": null,
            "min_height": null,
            "min_width": null,
            "object_fit": null,
            "object_position": null,
            "order": null,
            "overflow": null,
            "overflow_x": null,
            "overflow_y": null,
            "padding": null,
            "right": null,
            "top": null,
            "visibility": null,
            "width": null
          }
        },
        "72b477b8789747d190d74c770b9651b6": {
          "model_module": "@jupyter-widgets/base",
          "model_module_version": "1.2.0",
          "model_name": "LayoutModel",
          "state": {
            "_model_module": "@jupyter-widgets/base",
            "_model_module_version": "1.2.0",
            "_model_name": "LayoutModel",
            "_view_count": null,
            "_view_module": "@jupyter-widgets/base",
            "_view_module_version": "1.2.0",
            "_view_name": "LayoutView",
            "align_content": null,
            "align_items": null,
            "align_self": null,
            "border": null,
            "bottom": null,
            "display": null,
            "flex": null,
            "flex_flow": null,
            "grid_area": null,
            "grid_auto_columns": null,
            "grid_auto_flow": null,
            "grid_auto_rows": null,
            "grid_column": null,
            "grid_gap": null,
            "grid_row": null,
            "grid_template_areas": null,
            "grid_template_columns": null,
            "grid_template_rows": null,
            "height": null,
            "justify_content": null,
            "justify_items": null,
            "left": null,
            "margin": null,
            "max_height": null,
            "max_width": null,
            "min_height": null,
            "min_width": null,
            "object_fit": null,
            "object_position": null,
            "order": null,
            "overflow": null,
            "overflow_x": null,
            "overflow_y": null,
            "padding": null,
            "right": null,
            "top": null,
            "visibility": null,
            "width": null
          }
        },
        "773668736c4f40e58d5833097feaaff4": {
          "model_module": "@jupyter-widgets/controls",
          "model_module_version": "1.5.0",
          "model_name": "DescriptionStyleModel",
          "state": {
            "_model_module": "@jupyter-widgets/controls",
            "_model_module_version": "1.5.0",
            "_model_name": "DescriptionStyleModel",
            "_view_count": null,
            "_view_module": "@jupyter-widgets/base",
            "_view_module_version": "1.2.0",
            "_view_name": "StyleView",
            "description_width": ""
          }
        },
        "7b54e69e82124893bbeedd246819cdd3": {
          "model_module": "@jupyter-widgets/controls",
          "model_module_version": "1.5.0",
          "model_name": "FloatProgressModel",
          "state": {
            "_dom_classes": [],
            "_model_module": "@jupyter-widgets/controls",
            "_model_module_version": "1.5.0",
            "_model_name": "FloatProgressModel",
            "_view_count": null,
            "_view_module": "@jupyter-widgets/controls",
            "_view_module_version": "1.5.0",
            "_view_name": "ProgressView",
            "bar_style": "success",
            "description": "",
            "description_tooltip": null,
            "layout": "IPY_MODEL_9ff5b862c74a43c2aad32266e23f7852",
            "max": 5,
            "min": 0,
            "orientation": "horizontal",
            "style": "IPY_MODEL_82b3077c2ef74089976f70651668daad",
            "value": 5
          }
        },
        "7eb7d03e87dd441193c1c67587bd7dad": {
          "model_module": "@jupyter-widgets/base",
          "model_module_version": "1.2.0",
          "model_name": "LayoutModel",
          "state": {
            "_model_module": "@jupyter-widgets/base",
            "_model_module_version": "1.2.0",
            "_model_name": "LayoutModel",
            "_view_count": null,
            "_view_module": "@jupyter-widgets/base",
            "_view_module_version": "1.2.0",
            "_view_name": "LayoutView",
            "align_content": null,
            "align_items": null,
            "align_self": null,
            "border": null,
            "bottom": null,
            "display": null,
            "flex": null,
            "flex_flow": null,
            "grid_area": null,
            "grid_auto_columns": null,
            "grid_auto_flow": null,
            "grid_auto_rows": null,
            "grid_column": null,
            "grid_gap": null,
            "grid_row": null,
            "grid_template_areas": null,
            "grid_template_columns": null,
            "grid_template_rows": null,
            "height": null,
            "justify_content": null,
            "justify_items": null,
            "left": null,
            "margin": null,
            "max_height": null,
            "max_width": null,
            "min_height": null,
            "min_width": null,
            "object_fit": null,
            "object_position": null,
            "order": null,
            "overflow": null,
            "overflow_x": null,
            "overflow_y": null,
            "padding": null,
            "right": null,
            "top": null,
            "visibility": null,
            "width": null
          }
        },
        "82b3077c2ef74089976f70651668daad": {
          "model_module": "@jupyter-widgets/controls",
          "model_module_version": "1.5.0",
          "model_name": "ProgressStyleModel",
          "state": {
            "_model_module": "@jupyter-widgets/controls",
            "_model_module_version": "1.5.0",
            "_model_name": "ProgressStyleModel",
            "_view_count": null,
            "_view_module": "@jupyter-widgets/base",
            "_view_module_version": "1.2.0",
            "_view_name": "StyleView",
            "bar_color": null,
            "description_width": ""
          }
        },
        "86ae192cb2164557a18a7d8d9777eb79": {
          "model_module": "@jupyter-widgets/controls",
          "model_module_version": "1.5.0",
          "model_name": "HBoxModel",
          "state": {
            "_dom_classes": [],
            "_model_module": "@jupyter-widgets/controls",
            "_model_module_version": "1.5.0",
            "_model_name": "HBoxModel",
            "_view_count": null,
            "_view_module": "@jupyter-widgets/controls",
            "_view_module_version": "1.5.0",
            "_view_name": "HBoxView",
            "box_style": "",
            "children": [
              "IPY_MODEL_166a7352b0824a7fbb181dd2c6cd362a",
              "IPY_MODEL_7b54e69e82124893bbeedd246819cdd3",
              "IPY_MODEL_8ce62a8d057144348d83956a11285573"
            ],
            "layout": "IPY_MODEL_72b477b8789747d190d74c770b9651b6"
          }
        },
        "8ce62a8d057144348d83956a11285573": {
          "model_module": "@jupyter-widgets/controls",
          "model_module_version": "1.5.0",
          "model_name": "HTMLModel",
          "state": {
            "_dom_classes": [],
            "_model_module": "@jupyter-widgets/controls",
            "_model_module_version": "1.5.0",
            "_model_name": "HTMLModel",
            "_view_count": null,
            "_view_module": "@jupyter-widgets/controls",
            "_view_module_version": "1.5.0",
            "_view_name": "HTMLView",
            "description": "",
            "description_tooltip": null,
            "layout": "IPY_MODEL_66609435272d41648f01af7254bd22ed",
            "placeholder": "​",
            "style": "IPY_MODEL_549cf28306044e55bb13a8038b88858f",
            "value": " 5/5 [00:11&lt;00:00,  2.45s/it]"
          }
        },
        "96fd47f7a46b476d90046830f9d1e369": {
          "model_module": "@jupyter-widgets/controls",
          "model_module_version": "1.5.0",
          "model_name": "ProgressStyleModel",
          "state": {
            "_model_module": "@jupyter-widgets/controls",
            "_model_module_version": "1.5.0",
            "_model_name": "ProgressStyleModel",
            "_view_count": null,
            "_view_module": "@jupyter-widgets/base",
            "_view_module_version": "1.2.0",
            "_view_name": "StyleView",
            "bar_color": null,
            "description_width": ""
          }
        },
        "9de0f0dab6df4b929e23668ac9feb54c": {
          "model_module": "@jupyter-widgets/base",
          "model_module_version": "1.2.0",
          "model_name": "LayoutModel",
          "state": {
            "_model_module": "@jupyter-widgets/base",
            "_model_module_version": "1.2.0",
            "_model_name": "LayoutModel",
            "_view_count": null,
            "_view_module": "@jupyter-widgets/base",
            "_view_module_version": "1.2.0",
            "_view_name": "LayoutView",
            "align_content": null,
            "align_items": null,
            "align_self": null,
            "border": null,
            "bottom": null,
            "display": null,
            "flex": null,
            "flex_flow": null,
            "grid_area": null,
            "grid_auto_columns": null,
            "grid_auto_flow": null,
            "grid_auto_rows": null,
            "grid_column": null,
            "grid_gap": null,
            "grid_row": null,
            "grid_template_areas": null,
            "grid_template_columns": null,
            "grid_template_rows": null,
            "height": null,
            "justify_content": null,
            "justify_items": null,
            "left": null,
            "margin": null,
            "max_height": null,
            "max_width": null,
            "min_height": null,
            "min_width": null,
            "object_fit": null,
            "object_position": null,
            "order": null,
            "overflow": null,
            "overflow_x": null,
            "overflow_y": null,
            "padding": null,
            "right": null,
            "top": null,
            "visibility": null,
            "width": null
          }
        },
        "9ff5b862c74a43c2aad32266e23f7852": {
          "model_module": "@jupyter-widgets/base",
          "model_module_version": "1.2.0",
          "model_name": "LayoutModel",
          "state": {
            "_model_module": "@jupyter-widgets/base",
            "_model_module_version": "1.2.0",
            "_model_name": "LayoutModel",
            "_view_count": null,
            "_view_module": "@jupyter-widgets/base",
            "_view_module_version": "1.2.0",
            "_view_name": "LayoutView",
            "align_content": null,
            "align_items": null,
            "align_self": null,
            "border": null,
            "bottom": null,
            "display": null,
            "flex": null,
            "flex_flow": null,
            "grid_area": null,
            "grid_auto_columns": null,
            "grid_auto_flow": null,
            "grid_auto_rows": null,
            "grid_column": null,
            "grid_gap": null,
            "grid_row": null,
            "grid_template_areas": null,
            "grid_template_columns": null,
            "grid_template_rows": null,
            "height": null,
            "justify_content": null,
            "justify_items": null,
            "left": null,
            "margin": null,
            "max_height": null,
            "max_width": null,
            "min_height": null,
            "min_width": null,
            "object_fit": null,
            "object_position": null,
            "order": null,
            "overflow": null,
            "overflow_x": null,
            "overflow_y": null,
            "padding": null,
            "right": null,
            "top": null,
            "visibility": null,
            "width": null
          }
        },
        "a1a220a9960f4ef69fe51bdbec172d21": {
          "model_module": "@jupyter-widgets/controls",
          "model_module_version": "1.5.0",
          "model_name": "ProgressStyleModel",
          "state": {
            "_model_module": "@jupyter-widgets/controls",
            "_model_module_version": "1.5.0",
            "_model_name": "ProgressStyleModel",
            "_view_count": null,
            "_view_module": "@jupyter-widgets/base",
            "_view_module_version": "1.2.0",
            "_view_name": "StyleView",
            "bar_color": null,
            "description_width": ""
          }
        },
        "aa5c965221c34bc69915dd8d77008e95": {
          "model_module": "@jupyter-widgets/controls",
          "model_module_version": "1.5.0",
          "model_name": "HBoxModel",
          "state": {
            "_dom_classes": [],
            "_model_module": "@jupyter-widgets/controls",
            "_model_module_version": "1.5.0",
            "_model_name": "HBoxModel",
            "_view_count": null,
            "_view_module": "@jupyter-widgets/controls",
            "_view_module_version": "1.5.0",
            "_view_name": "HBoxView",
            "box_style": "",
            "children": [
              "IPY_MODEL_0a25dd5cea6047d2b6bd9b7649cc08a1",
              "IPY_MODEL_1f219947abaa42b586657ffca93d417f",
              "IPY_MODEL_2a79bb16127b4b959fa3d8673ba443b8"
            ],
            "layout": "IPY_MODEL_c3d3677204c943ccbdac3caac6e434e8"
          }
        },
        "adf68dff8e034f0392034817dfc97d7f": {
          "model_module": "@jupyter-widgets/controls",
          "model_module_version": "1.5.0",
          "model_name": "DescriptionStyleModel",
          "state": {
            "_model_module": "@jupyter-widgets/controls",
            "_model_module_version": "1.5.0",
            "_model_name": "DescriptionStyleModel",
            "_view_count": null,
            "_view_module": "@jupyter-widgets/base",
            "_view_module_version": "1.2.0",
            "_view_name": "StyleView",
            "description_width": ""
          }
        },
        "b7fb66eab6f04415afe4d9d770c42514": {
          "model_module": "@jupyter-widgets/controls",
          "model_module_version": "1.5.0",
          "model_name": "HTMLModel",
          "state": {
            "_dom_classes": [],
            "_model_module": "@jupyter-widgets/controls",
            "_model_module_version": "1.5.0",
            "_model_name": "HTMLModel",
            "_view_count": null,
            "_view_module": "@jupyter-widgets/controls",
            "_view_module_version": "1.5.0",
            "_view_name": "HTMLView",
            "description": "",
            "description_tooltip": null,
            "layout": "IPY_MODEL_6e4e6be780214b7b9e3067716019a998",
            "placeholder": "​",
            "style": "IPY_MODEL_05ed4e12ef424e17aac4ab159024e0a8",
            "value": " 5/5 [00:13&lt;00:00,  3.28s/it]"
          }
        },
        "c0c579c0d924406493eacb61dbce2512": {
          "model_module": "@jupyter-widgets/base",
          "model_module_version": "1.2.0",
          "model_name": "LayoutModel",
          "state": {
            "_model_module": "@jupyter-widgets/base",
            "_model_module_version": "1.2.0",
            "_model_name": "LayoutModel",
            "_view_count": null,
            "_view_module": "@jupyter-widgets/base",
            "_view_module_version": "1.2.0",
            "_view_name": "LayoutView",
            "align_content": null,
            "align_items": null,
            "align_self": null,
            "border": null,
            "bottom": null,
            "display": null,
            "flex": null,
            "flex_flow": null,
            "grid_area": null,
            "grid_auto_columns": null,
            "grid_auto_flow": null,
            "grid_auto_rows": null,
            "grid_column": null,
            "grid_gap": null,
            "grid_row": null,
            "grid_template_areas": null,
            "grid_template_columns": null,
            "grid_template_rows": null,
            "height": null,
            "justify_content": null,
            "justify_items": null,
            "left": null,
            "margin": null,
            "max_height": null,
            "max_width": null,
            "min_height": null,
            "min_width": null,
            "object_fit": null,
            "object_position": null,
            "order": null,
            "overflow": null,
            "overflow_x": null,
            "overflow_y": null,
            "padding": null,
            "right": null,
            "top": null,
            "visibility": null,
            "width": null
          }
        },
        "c3d3677204c943ccbdac3caac6e434e8": {
          "model_module": "@jupyter-widgets/base",
          "model_module_version": "1.2.0",
          "model_name": "LayoutModel",
          "state": {
            "_model_module": "@jupyter-widgets/base",
            "_model_module_version": "1.2.0",
            "_model_name": "LayoutModel",
            "_view_count": null,
            "_view_module": "@jupyter-widgets/base",
            "_view_module_version": "1.2.0",
            "_view_name": "LayoutView",
            "align_content": null,
            "align_items": null,
            "align_self": null,
            "border": null,
            "bottom": null,
            "display": null,
            "flex": null,
            "flex_flow": null,
            "grid_area": null,
            "grid_auto_columns": null,
            "grid_auto_flow": null,
            "grid_auto_rows": null,
            "grid_column": null,
            "grid_gap": null,
            "grid_row": null,
            "grid_template_areas": null,
            "grid_template_columns": null,
            "grid_template_rows": null,
            "height": null,
            "justify_content": null,
            "justify_items": null,
            "left": null,
            "margin": null,
            "max_height": null,
            "max_width": null,
            "min_height": null,
            "min_width": null,
            "object_fit": null,
            "object_position": null,
            "order": null,
            "overflow": null,
            "overflow_x": null,
            "overflow_y": null,
            "padding": null,
            "right": null,
            "top": null,
            "visibility": null,
            "width": null
          }
        },
        "ca16cadf3b164b69bb55b55234dc6655": {
          "model_module": "@jupyter-widgets/controls",
          "model_module_version": "1.5.0",
          "model_name": "FloatProgressModel",
          "state": {
            "_dom_classes": [],
            "_model_module": "@jupyter-widgets/controls",
            "_model_module_version": "1.5.0",
            "_model_name": "FloatProgressModel",
            "_view_count": null,
            "_view_module": "@jupyter-widgets/controls",
            "_view_module_version": "1.5.0",
            "_view_name": "ProgressView",
            "bar_style": "success",
            "description": "",
            "description_tooltip": null,
            "layout": "IPY_MODEL_5bc1bd670b4a4f64a01677428f71e0de",
            "max": 5,
            "min": 0,
            "orientation": "horizontal",
            "style": "IPY_MODEL_96fd47f7a46b476d90046830f9d1e369",
            "value": 5
          }
        },
        "e72b9523e5fc4162b713a0bb7fed7c81": {
          "model_module": "@jupyter-widgets/controls",
          "model_module_version": "1.5.0",
          "model_name": "DescriptionStyleModel",
          "state": {
            "_model_module": "@jupyter-widgets/controls",
            "_model_module_version": "1.5.0",
            "_model_name": "DescriptionStyleModel",
            "_view_count": null,
            "_view_module": "@jupyter-widgets/base",
            "_view_module_version": "1.2.0",
            "_view_name": "StyleView",
            "description_width": ""
          }
        },
        "fe1e6f4c07e2418cabb976753a4b4059": {
          "model_module": "@jupyter-widgets/base",
          "model_module_version": "1.2.0",
          "model_name": "LayoutModel",
          "state": {
            "_model_module": "@jupyter-widgets/base",
            "_model_module_version": "1.2.0",
            "_model_name": "LayoutModel",
            "_view_count": null,
            "_view_module": "@jupyter-widgets/base",
            "_view_module_version": "1.2.0",
            "_view_name": "LayoutView",
            "align_content": null,
            "align_items": null,
            "align_self": null,
            "border": null,
            "bottom": null,
            "display": null,
            "flex": null,
            "flex_flow": null,
            "grid_area": null,
            "grid_auto_columns": null,
            "grid_auto_flow": null,
            "grid_auto_rows": null,
            "grid_column": null,
            "grid_gap": null,
            "grid_row": null,
            "grid_template_areas": null,
            "grid_template_columns": null,
            "grid_template_rows": null,
            "height": null,
            "justify_content": null,
            "justify_items": null,
            "left": null,
            "margin": null,
            "max_height": null,
            "max_width": null,
            "min_height": null,
            "min_width": null,
            "object_fit": null,
            "object_position": null,
            "order": null,
            "overflow": null,
            "overflow_x": null,
            "overflow_y": null,
            "padding": null,
            "right": null,
            "top": null,
            "visibility": null,
            "width": null
          }
        }
      }
    }
  },
  "nbformat": 4,
  "nbformat_minor": 0
}
