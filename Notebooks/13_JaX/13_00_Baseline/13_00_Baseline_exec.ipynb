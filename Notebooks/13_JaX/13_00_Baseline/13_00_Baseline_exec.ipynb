{
 "cells": [
  {
   "attachments": {},
   "cell_type": "markdown",
   "metadata": {},
   "source": [
    "# IQA tracking params and variables\n",
    "\n",
    "> When using parametric layers we have to be able to keep track of the parameters and the variables of the model (which are not going to be trained). We're going to play with this concept using our implementation of the functional layers."
   ]
  },
  {
   "cell_type": "code",
   "execution_count": 1,
   "metadata": {},
   "outputs": [],
   "source": [
    "# import os; os.environ[\"XLA_PYTHON_CLIENT_MEM_FRACTION\"]=\".99\""
   ]
  },
  {
   "cell_type": "code",
   "execution_count": 2,
   "metadata": {},
   "outputs": [
    {
     "name": "stderr",
     "output_type": "stream",
     "text": [
      "2023-05-06 18:03:51.762111: I tensorflow/core/util/port.cc:110] oneDNN custom operations are on. You may see slightly different numerical results due to floating-point round-off errors from different computation orders. To turn them off, set the environment variable `TF_ENABLE_ONEDNN_OPTS=0`.\n",
      "2023-05-06 18:03:51.814015: I tensorflow/core/platform/cpu_feature_guard.cc:182] This TensorFlow binary is optimized to use available CPU instructions in performance-critical operations.\n",
      "To enable the following instructions: AVX2 AVX512F AVX512_VNNI FMA, in other operations, rebuild TensorFlow with the appropriate compiler flags.\n",
      "2023-05-06 18:03:54.269020: W tensorflow/compiler/tf2tensorrt/utils/py_utils.cc:38] TF-TRT Warning: Could not find TensorRT\n"
     ]
    }
   ],
   "source": [
    "import tensorflow as tf\n",
    "tf.config.set_visible_devices([], device_type='GPU')"
   ]
  },
  {
   "cell_type": "code",
   "execution_count": 3,
   "metadata": {},
   "outputs": [],
   "source": [
    "import os\n",
    "# os.environ[\"CUDA_DEVICE_ORDER\"] = \"PCI_BUS_ID\"\n",
    "# os.environ[\"CUDA_VISIBLE_DEVICES\"] = \"0\"\n",
    "from typing import Any, Callable, Sequence, Union\n",
    "import numpy as np\n",
    "\n",
    "import jax\n",
    "from jax import lax, random, numpy as jnp\n",
    "from flax.core import freeze, unfreeze, FrozenDict\n",
    "from flax import linen as nn\n",
    "from flax import struct\n",
    "from flax.training import train_state\n",
    "from flax.training import orbax_utils\n",
    "\n",
    "import optax\n",
    "import orbax.checkpoint\n",
    "\n",
    "from clu import metrics\n",
    "from ml_collections import ConfigDict\n",
    "\n",
    "from einops import reduce\n",
    "import wandb\n",
    "from iqadatasets.datasets import *\n",
    "from fxlayers.layers import *\n",
    "from JaxPlayground.utils.constraints import *\n",
    "from JaxPlayground.utils.wandb import *"
   ]
  },
  {
   "cell_type": "markdown",
   "metadata": {},
   "source": [
    "## Load the data\n",
    "\n",
    "> We're going to employ `iqadatasets` to ease the loading of the data."
   ]
  },
  {
   "cell_type": "code",
   "execution_count": 12,
   "metadata": {},
   "outputs": [],
   "source": [
    "# dst_train = TID2008(\"/lustre/ific.uv.es/ml/uv075/Databases/IQA//TID/TID2008/\", exclude_imgs=[25])\n",
    "# dst_val = TID2013(\"/lustre/ific.uv.es/ml/uv075/Databases/IQA//TID/TID2013/\", exclude_imgs=[25])\n",
    "dst_train = TID2008(\"/media/disk/databases/BBDD_video_image/Image_Quality//TID/TID2008/\", exclude_imgs=[25])\n",
    "dst_val = TID2013(\"/media/disk/databases/BBDD_video_image/Image_Quality//TID/TID2013/\", exclude_imgs=[25])"
   ]
  },
  {
   "cell_type": "code",
   "execution_count": 1,
   "metadata": {},
   "outputs": [
    {
     "data": {
      "text/plain": [
       "(TensorShape([384, 512, 3]), TensorShape([384, 512, 3]), TensorShape([]))"
      ]
     },
     "execution_count": 1,
     "metadata": {},
     "output_type": "execute_result"
    }
   ],
   "source": [
    "img, img_dist, mos = next(iter(dst_train.dataset))\n",
    "img.shape, img_dist.shape, mos.shape"
   ]
  },
  {
   "cell_type": "code",
   "execution_count": 2,
   "metadata": {},
   "outputs": [
    {
     "data": {
      "text/plain": [
       "(TensorShape([384, 512, 3]), TensorShape([384, 512, 3]), TensorShape([]))"
      ]
     },
     "execution_count": 2,
     "metadata": {},
     "output_type": "execute_result"
    }
   ],
   "source": [
    "img, img_dist, mos = next(iter(dst_val.dataset))\n",
    "img.shape, img_dist.shape, mos.shape"
   ]
  },
  {
   "cell_type": "code",
   "execution_count": 3,
   "metadata": {},
   "outputs": [
    {
     "data": {
      "text/plain": [
       "BATCH_SIZE: 64\n",
       "EPOCHS: 500\n",
       "GDN_CLIPPING: true\n",
       "LEARNING_RATE: 0.0003\n",
       "SEED: 42"
      ]
     },
     "execution_count": 3,
     "metadata": {},
     "output_type": "execute_result"
    }
   ],
   "source": [
    "config = {\n",
    "    \"BATCH_SIZE\": 64,\n",
    "    \"EPOCHS\": 500,\n",
    "    \"LEARNING_RATE\": 3e-4,\n",
    "    \"SEED\": 42,\n",
    "    \"GDN_CLIPPING\": True,\n",
    "}\n",
    "config = ConfigDict(config)\n",
    "config"
   ]
  },
  {
   "cell_type": "code",
   "execution_count": 4,
   "metadata": {},
   "outputs": [
    {
     "name": "stderr",
     "output_type": "stream",
     "text": [
      "Failed to detect the name of this notebook, you can set it manually with the WANDB_NOTEBOOK_NAME environment variable to enable code saving.\n",
      "wandb: Currently logged in as: jorgvt. Use `wandb login --relogin` to force relogin\n"
     ]
    },
    {
     "data": {
      "text/html": [
       "wandb version 0.15.2 is available!  To upgrade, please run:\n",
       " $ pip install wandb --upgrade"
      ],
      "text/plain": [
       "<IPython.core.display.HTML object>"
      ]
     },
     "metadata": {},
     "output_type": "display_data"
    },
    {
     "data": {
      "text/html": [
       "Tracking run with wandb version 0.15.0"
      ],
      "text/plain": [
       "<IPython.core.display.HTML object>"
      ]
     },
     "metadata": {},
     "output_type": "display_data"
    },
    {
     "data": {
      "text/html": [
       "Run data is saved locally in <code>/media/disk/users/vitojor/perceptnet/Notebooks/13_JaX/wandb/run-20230508_005103-m38t5pd0</code>"
      ],
      "text/plain": [
       "<IPython.core.display.HTML object>"
      ]
     },
     "metadata": {},
     "output_type": "display_data"
    },
    {
     "data": {
      "text/html": [
       "Syncing run <strong><a href='https://wandb.ai/jorgvt/PerceptNet_JaX/runs/m38t5pd0' target=\"_blank\">Baseline</a></strong> to <a href='https://wandb.ai/jorgvt/PerceptNet_JaX' target=\"_blank\">Weights & Biases</a> (<a href='https://wandb.me/run' target=\"_blank\">docs</a>)<br/>"
      ],
      "text/plain": [
       "<IPython.core.display.HTML object>"
      ]
     },
     "metadata": {},
     "output_type": "display_data"
    },
    {
     "data": {
      "text/html": [
       " View project at <a href='https://wandb.ai/jorgvt/PerceptNet_JaX' target=\"_blank\">https://wandb.ai/jorgvt/PerceptNet_JaX</a>"
      ],
      "text/plain": [
       "<IPython.core.display.HTML object>"
      ]
     },
     "metadata": {},
     "output_type": "display_data"
    },
    {
     "data": {
      "text/html": [
       " View run at <a href='https://wandb.ai/jorgvt/PerceptNet_JaX/runs/m38t5pd0' target=\"_blank\">https://wandb.ai/jorgvt/PerceptNet_JaX/runs/m38t5pd0</a>"
      ],
      "text/plain": [
       "<IPython.core.display.HTML object>"
      ]
     },
     "metadata": {},
     "output_type": "display_data"
    },
    {
     "data": {
      "text/plain": [
       "BATCH_SIZE: 64\n",
       "EPOCHS: 500\n",
       "GDN_CLIPPING: true\n",
       "LEARNING_RATE: 0.0003\n",
       "SEED: 42"
      ]
     },
     "execution_count": 4,
     "metadata": {},
     "output_type": "execute_result"
    }
   ],
   "source": [
    "wandb.init(project=\"PerceptNet_JaX\",\n",
    "           name=\"Baseline\",\n",
    "           job_type=\"training\",\n",
    "           config=config,\n",
    "           mode=\"online\",\n",
    "           )\n",
    "config = config\n",
    "config"
   ]
  },
  {
   "cell_type": "code",
   "execution_count": 17,
   "metadata": {},
   "outputs": [],
   "source": [
    "dst_train_rdy = dst_train.dataset.shuffle(buffer_size=100,\n",
    "                                      reshuffle_each_iteration=True,\n",
    "                                      seed=config.SEED)\\\n",
    "                                 .batch(config.BATCH_SIZE, drop_remainder=True)\n",
    "dst_val_rdy = dst_val.dataset.batch(config.BATCH_SIZE, drop_remainder=True)"
   ]
  },
  {
   "attachments": {},
   "cell_type": "markdown",
   "metadata": {},
   "source": [
    "## Define the model we're going to use\n",
    "\n",
    "> It's going to be a very simple model just for demonstration purposes."
   ]
  },
  {
   "cell_type": "code",
   "execution_count": 18,
   "metadata": {},
   "outputs": [],
   "source": [
    "class GDN(nn.Module):\n",
    "    \"\"\"Generalized Divisive Normalization.\"\"\"\n",
    "    kernel_size: Union[int, Sequence[int]]\n",
    "    strides: int = 1\n",
    "    padding: str = \"SAME\"\n",
    "    apply_independently: bool = False\n",
    "    # feature_group_count: int = 1\n",
    "    kernel_init: Callable = nn.initializers.lecun_normal()\n",
    "    bias_init: Callable = nn.initializers.ones_init()\n",
    "    alpha: float = 2.\n",
    "    epsilon: float = 1/2 # Exponential of the denominator\n",
    "    eps: float = 1e-6 # Numerical stability in the denominator\n",
    "\n",
    "    @nn.compact\n",
    "    def __call__(self,\n",
    "                 inputs,\n",
    "                 ):\n",
    "        denom = nn.Conv(features=inputs.shape[-1], # Same output channels as input\n",
    "                        kernel_size=self.kernel_size if isinstance(self.kernel_size, Sequence) else [self.kernel_size]*2, \n",
    "                        strides=self.strides, \n",
    "                        padding=self.padding,\n",
    "                        # feature_group_count=self.feature_group_count,\n",
    "                        feature_group_count=inputs.shape[-1] if self.apply_independently else 1,\n",
    "                        kernel_init=self.kernel_init, \n",
    "                        bias_init=self.bias_init)(inputs**self.alpha)\n",
    "        # denom = nn.relu(denom)\n",
    "        return inputs / (denom**self.epsilon + self.eps)"
   ]
  },
  {
   "cell_type": "code",
   "execution_count": 19,
   "metadata": {},
   "outputs": [],
   "source": [
    "class PerceptNet(nn.Module):\n",
    "    \"\"\"IQA model inspired by the visual system.\"\"\"\n",
    "\n",
    "    @nn.compact\n",
    "    def __call__(self,\n",
    "                 inputs,\n",
    "                 **kwargs,\n",
    "                 ):\n",
    "        outputs = GDN(kernel_size=1, strides=1, padding=\"SAME\", apply_independently=True)(inputs)\n",
    "        outputs = nn.Conv(features=3, kernel_size=(1,1), strides=1, padding=\"SAME\")(outputs)\n",
    "        outputs = nn.max_pool(outputs, window_shape=(2,2), strides=(2,2))\n",
    "        outputs = GDN(kernel_size=1, strides=1, padding=\"SAME\", apply_independently=False)(outputs)\n",
    "        outputs = nn.Conv(features=6, kernel_size=(5,5), strides=1, padding=\"SAME\")(outputs)\n",
    "        outputs = nn.max_pool(outputs, window_shape=(2,2), strides=(2,2))\n",
    "        outputs = GDN(kernel_size=1, strides=1, padding=\"SAME\", apply_independently=False)(outputs)\n",
    "        # outputs = GaborLayer(features=128, kernel_size=21, strides=1, padding=\"SAME\", fs=21)(outputs, **kwargs)\n",
    "        outputs = nn.Conv(features=128, kernel_size=(5,5), strides=1, padding=\"SAME\")(outputs)\n",
    "        outputs = GDN(kernel_size=1, strides=1, padding=\"SAME\", apply_independently=False)(outputs)\n",
    "        return outputs"
   ]
  },
  {
   "attachments": {},
   "cell_type": "markdown",
   "metadata": {},
   "source": [
    "## Define the metrics with `clu`"
   ]
  },
  {
   "cell_type": "code",
   "execution_count": 20,
   "metadata": {},
   "outputs": [],
   "source": [
    "@struct.dataclass\n",
    "class Metrics(metrics.Collection):\n",
    "    \"\"\"Collection of metrics to be tracked during training.\"\"\"\n",
    "    loss: metrics.Average.from_output(\"loss\")"
   ]
  },
  {
   "attachments": {},
   "cell_type": "markdown",
   "metadata": {},
   "source": [
    "By default, `TrainState` doesn't include metrics, but it's very easy to subclass it so that it does:"
   ]
  },
  {
   "cell_type": "code",
   "execution_count": 21,
   "metadata": {},
   "outputs": [],
   "source": [
    "class TrainState(train_state.TrainState):\n",
    "    metrics: Metrics\n",
    "    state: FrozenDict"
   ]
  },
  {
   "attachments": {},
   "cell_type": "markdown",
   "metadata": {},
   "source": [
    "We'll define a function that initializes the `TrainState` from a module, a rng key and some optimizer:"
   ]
  },
  {
   "cell_type": "code",
   "execution_count": 22,
   "metadata": {},
   "outputs": [],
   "source": [
    "def create_train_state(module, key, tx, input_shape):\n",
    "    \"\"\"Creates the initial `TrainState`.\"\"\"\n",
    "    variables = module.init(key, jnp.ones(input_shape))\n",
    "    state, params = variables.pop('params')\n",
    "    return TrainState.create(\n",
    "        apply_fn=module.apply,\n",
    "        params=params,\n",
    "        state=state,\n",
    "        tx=tx,\n",
    "        metrics=Metrics.empty()\n",
    "    )"
   ]
  },
  {
   "attachments": {},
   "cell_type": "markdown",
   "metadata": {},
   "source": [
    "## Defining the training step\n",
    "\n",
    "> We want to write a function that takes the `TrainState` and a batch of data can performs an optimization step."
   ]
  },
  {
   "cell_type": "code",
   "execution_count": 23,
   "metadata": {},
   "outputs": [],
   "source": [
    "def pearson_correlation(vec1, vec2):\n",
    "    vec1 = vec1.squeeze()\n",
    "    vec2 = vec2.squeeze()\n",
    "    vec1_mean = vec1.mean()\n",
    "    vec2_mean = vec2.mean()\n",
    "    num = vec1-vec1_mean\n",
    "    num *= vec2-vec2_mean\n",
    "    num = num.sum()\n",
    "    denom = jnp.sqrt(jnp.sum((vec1-vec1_mean)**2))\n",
    "    denom *= jnp.sqrt(jnp.sum((vec2-vec2_mean)**2))\n",
    "    return num/denom"
   ]
  },
  {
   "cell_type": "code",
   "execution_count": 24,
   "metadata": {},
   "outputs": [],
   "source": [
    "@jax.jit\n",
    "def train_step(state, batch):\n",
    "    \"\"\"Train for a single step.\"\"\"\n",
    "    img, img_dist, mos = batch\n",
    "    def loss_fn(params):\n",
    "        ## Forward pass through the model\n",
    "        img_pred, updated_state = state.apply_fn({\"params\": params, **state.state}, img, mutable=list(state.state.keys()), train=True)\n",
    "        img_dist_pred, updated_state = state.apply_fn({\"params\": params, **state.state}, img_dist, mutable=list(state.state.keys()), train=True)\n",
    "\n",
    "        ## Calculate the distance\n",
    "        dist = ((img_pred - img_dist_pred)**2).sum(axis=(1,2,3))**(1/2)\n",
    "        \n",
    "        ## Calculate pearson correlation\n",
    "        return pearson_correlation(dist, mos), updated_state\n",
    "    \n",
    "    (loss, updated_state), grads = jax.value_and_grad(loss_fn, has_aux=True)(state.params)\n",
    "    state = state.apply_gradients(grads=grads)\n",
    "    metrics_updates = state.metrics.single_from_model_output(loss=loss)\n",
    "    metrics = state.metrics.merge(metrics_updates)\n",
    "    state = state.replace(metrics=metrics)\n",
    "    state = state.replace(state=updated_state)\n",
    "    return state"
   ]
  },
  {
   "attachments": {},
   "cell_type": "markdown",
   "metadata": {},
   "source": [
    "In their example, they don't calculate the metrics at the same time. I think it is kind of a waste because it means having to perform a new forward pass, but we'll follow as of now. Let's define a function to perform metric calculation:"
   ]
  },
  {
   "cell_type": "code",
   "execution_count": 25,
   "metadata": {},
   "outputs": [],
   "source": [
    "@jax.jit\n",
    "def compute_metrics(*, state, batch):\n",
    "    \"\"\"Obtaining the metrics for a given batch.\"\"\"\n",
    "    img, img_dist, mos = batch\n",
    "    def loss_fn(params):\n",
    "        ## Forward pass through the model\n",
    "        img_pred, updated_state = state.apply_fn({\"params\": params, **state.state}, img, mutable=list(state.state.keys()), train=True)\n",
    "        img_dist_pred, updated_state = state.apply_fn({\"params\": params, **state.state}, img_dist, mutable=list(state.state.keys()), train=True)\n",
    "\n",
    "        ## Calculate the distance\n",
    "        dist = ((img_pred - img_dist_pred)**2).sum(axis=(1,2,3))**(1/2)\n",
    "        \n",
    "        ## Calculate pearson correlation\n",
    "        return pearson_correlation(dist, mos)\n",
    "    \n",
    "    metrics_updates = state.metrics.single_from_model_output(loss=loss_fn(state.params))\n",
    "    metrics = state.metrics.merge(metrics_updates)\n",
    "    state = state.replace(metrics=metrics)\n",
    "    return state"
   ]
  },
  {
   "attachments": {},
   "cell_type": "markdown",
   "metadata": {},
   "source": [
    "## Train the model!"
   ]
  },
  {
   "cell_type": "code",
   "execution_count": 26,
   "metadata": {},
   "outputs": [],
   "source": [
    "state = create_train_state(PerceptNet(), random.PRNGKey(config.SEED), optax.adam(config.LEARNING_RATE), input_shape=(1,384,512,3))\n",
    "state = state.replace(params=clip_layer(state.params, \"GDN\", a_min=0))"
   ]
  },
  {
   "attachments": {},
   "cell_type": "markdown",
   "metadata": {},
   "source": [
    "Before actually training the model we're going to set up the checkpointer to be able to save our trained models:"
   ]
  },
  {
   "cell_type": "code",
   "execution_count": null,
   "metadata": {},
   "outputs": [],
   "source": [
    "orbax_checkpointer = orbax.checkpoint.PyTreeCheckpointer()\n",
    "save_args = orbax_utils.save_args_from_target(state)"
   ]
  },
  {
   "cell_type": "code",
   "execution_count": 27,
   "metadata": {},
   "outputs": [],
   "source": [
    "metrics_history = {\n",
    "    \"train_loss\": [],\n",
    "    \"val_loss\": [],\n",
    "}"
   ]
  },
  {
   "cell_type": "code",
   "execution_count": null,
   "metadata": {},
   "outputs": [
    {
     "name": "stdout",
     "output_type": "stream",
     "text": [
      "Epoch 0 -> [Train] Loss: -0.4193498194217682 [Val] Loss: -0.6793243885040283\n",
      "Epoch 1 -> [Train] Loss: -0.6043951511383057 [Val] Loss: -0.7576243877410889\n",
      "Epoch 2 -> [Train] Loss: -0.6807520389556885 [Val] Loss: -0.7828032970428467\n",
      "Epoch 3 -> [Train] Loss: -0.7141631841659546 [Val] Loss: -0.7956735491752625\n",
      "Epoch 4 -> [Train] Loss: -0.7410948872566223 [Val] Loss: -0.8034404516220093\n",
      "Epoch 5 -> [Train] Loss: -0.7610401511192322 [Val] Loss: -0.8092190623283386\n",
      "Epoch 6 -> [Train] Loss: -0.7702708840370178 [Val] Loss: -0.8143507242202759\n",
      "Epoch 7 -> [Train] Loss: -0.7796448469161987 [Val] Loss: -0.819301187992096\n",
      "Epoch 8 -> [Train] Loss: -0.7879589796066284 [Val] Loss: -0.8237107992172241\n",
      "Epoch 9 -> [Train] Loss: -0.7980959415435791 [Val] Loss: -0.8272266983985901\n",
      "Epoch 10 -> [Train] Loss: -0.8046575784683228 [Val] Loss: -0.8279038667678833\n",
      "Epoch 11 -> [Train] Loss: -0.8167594075202942 [Val] Loss: -0.8281210064888\n",
      "Epoch 12 -> [Train] Loss: -0.8223691582679749 [Val] Loss: -0.8273003101348877\n",
      "Epoch 13 -> [Train] Loss: -0.827234148979187 [Val] Loss: -0.8272323608398438\n",
      "Epoch 14 -> [Train] Loss: -0.8316865563392639 [Val] Loss: -0.824210524559021\n",
      "Epoch 15 -> [Train] Loss: -0.8303676247596741 [Val] Loss: -0.8283811211585999\n",
      "Epoch 16 -> [Train] Loss: -0.8396637439727783 [Val] Loss: -0.8292062878608704\n",
      "Epoch 17 -> [Train] Loss: -0.839107871055603 [Val] Loss: -0.8292211890220642\n",
      "Epoch 18 -> [Train] Loss: -0.8400400876998901 [Val] Loss: -0.8278400301933289\n",
      "Epoch 19 -> [Train] Loss: -0.8491302132606506 [Val] Loss: -0.8297204375267029\n",
      "Epoch 20 -> [Train] Loss: -0.8473122715950012 [Val] Loss: -0.8318580985069275\n",
      "Epoch 21 -> [Train] Loss: -0.8520404696464539 [Val] Loss: -0.8328490853309631\n",
      "Epoch 22 -> [Train] Loss: -0.8505756258964539 [Val] Loss: -0.8332284092903137\n",
      "Epoch 23 -> [Train] Loss: -0.8571668863296509 [Val] Loss: -0.8367335796356201\n",
      "Epoch 24 -> [Train] Loss: -0.8563452959060669 [Val] Loss: -0.8377544283866882\n",
      "Epoch 25 -> [Train] Loss: -0.8588997721672058 [Val] Loss: -0.8380558490753174\n",
      "Epoch 26 -> [Train] Loss: -0.8594866991043091 [Val] Loss: -0.8394666314125061\n",
      "Epoch 27 -> [Train] Loss: -0.8608893156051636 [Val] Loss: -0.8427537083625793\n",
      "Epoch 28 -> [Train] Loss: -0.8632293343544006 [Val] Loss: -0.8447170853614807\n",
      "Epoch 29 -> [Train] Loss: -0.8674201965332031 [Val] Loss: -0.8441804647445679\n",
      "Epoch 30 -> [Train] Loss: -0.8659769296646118 [Val] Loss: -0.8471882343292236\n",
      "Epoch 31 -> [Train] Loss: -0.8683794736862183 [Val] Loss: -0.8483578562736511\n",
      "Epoch 32 -> [Train] Loss: -0.8681238293647766 [Val] Loss: -0.8486371636390686\n",
      "Epoch 33 -> [Train] Loss: -0.8720573782920837 [Val] Loss: -0.8520328998565674\n",
      "Epoch 34 -> [Train] Loss: -0.8722578287124634 [Val] Loss: -0.8527461886405945\n",
      "Epoch 35 -> [Train] Loss: -0.87538743019104 [Val] Loss: -0.8528220653533936\n",
      "Epoch 36 -> [Train] Loss: -0.8802341222763062 [Val] Loss: -0.8527705073356628\n",
      "Epoch 37 -> [Train] Loss: -0.8809348344802856 [Val] Loss: -0.8582455515861511\n",
      "Epoch 38 -> [Train] Loss: -0.8799195885658264 [Val] Loss: -0.8592049479484558\n",
      "Epoch 39 -> [Train] Loss: -0.8824025392532349 [Val] Loss: -0.8609122633934021\n",
      "Epoch 40 -> [Train] Loss: -0.8817311525344849 [Val] Loss: -0.8614879250526428\n",
      "Epoch 41 -> [Train] Loss: -0.8850205540657043 [Val] Loss: -0.8637903928756714\n",
      "Epoch 42 -> [Train] Loss: -0.8889642357826233 [Val] Loss: -0.8641493916511536\n",
      "Epoch 43 -> [Train] Loss: -0.8883620500564575 [Val] Loss: -0.8658950924873352\n",
      "Epoch 44 -> [Train] Loss: -0.8877003192901611 [Val] Loss: -0.8666184544563293\n",
      "Epoch 45 -> [Train] Loss: -0.8906488418579102 [Val] Loss: -0.866512656211853\n",
      "Epoch 46 -> [Train] Loss: -0.892415463924408 [Val] Loss: -0.8706759214401245\n",
      "Epoch 47 -> [Train] Loss: -0.8927760124206543 [Val] Loss: -0.8701233267784119\n",
      "Epoch 48 -> [Train] Loss: -0.8918410539627075 [Val] Loss: -0.8718187212944031\n",
      "Epoch 49 -> [Train] Loss: -0.8925111889839172 [Val] Loss: -0.8746116161346436\n",
      "Epoch 50 -> [Train] Loss: -0.8947494029998779 [Val] Loss: -0.8726664185523987\n",
      "Epoch 51 -> [Train] Loss: -0.8909615874290466 [Val] Loss: -0.8747044205665588\n",
      "Epoch 52 -> [Train] Loss: -0.8962652683258057 [Val] Loss: -0.875461995601654\n",
      "Epoch 53 -> [Train] Loss: -0.8966460227966309 [Val] Loss: -0.8773975968360901\n",
      "Epoch 54 -> [Train] Loss: -0.8959749341011047 [Val] Loss: -0.8769444823265076\n",
      "Epoch 55 -> [Train] Loss: -0.8943910598754883 [Val] Loss: -0.8772084712982178\n",
      "Epoch 56 -> [Train] Loss: -0.8961666822433472 [Val] Loss: -0.8762891292572021\n",
      "Epoch 57 -> [Train] Loss: -0.9000193476676941 [Val] Loss: -0.8809336423873901\n",
      "Epoch 58 -> [Train] Loss: -0.8978383541107178 [Val] Loss: -0.8804388642311096\n",
      "Epoch 59 -> [Train] Loss: -0.8983573913574219 [Val] Loss: -0.8801676034927368\n",
      "Epoch 60 -> [Train] Loss: -0.9007478952407837 [Val] Loss: -0.8798183798789978\n",
      "Epoch 61 -> [Train] Loss: -0.8991179466247559 [Val] Loss: -0.8823396563529968\n",
      "Epoch 62 -> [Train] Loss: -0.9011217951774597 [Val] Loss: -0.8836677670478821\n",
      "Epoch 63 -> [Train] Loss: -0.904015302658081 [Val] Loss: -0.8835360407829285\n",
      "Epoch 64 -> [Train] Loss: -0.901222825050354 [Val] Loss: -0.8828954100608826\n",
      "Epoch 65 -> [Train] Loss: -0.9027141332626343 [Val] Loss: -0.8837684988975525\n",
      "Epoch 66 -> [Train] Loss: -0.9021355509757996 [Val] Loss: -0.884550154209137\n",
      "Epoch 67 -> [Train] Loss: -0.9034198522567749 [Val] Loss: -0.8864558935165405\n",
      "Epoch 68 -> [Train] Loss: -0.9014325737953186 [Val] Loss: -0.8857221007347107\n",
      "Epoch 69 -> [Train] Loss: -0.9034786820411682 [Val] Loss: -0.8860731720924377\n",
      "Epoch 70 -> [Train] Loss: -0.9041261672973633 [Val] Loss: -0.8871325254440308\n",
      "Epoch 71 -> [Train] Loss: -0.9046117067337036 [Val] Loss: -0.8874183297157288\n",
      "Epoch 72 -> [Train] Loss: -0.9034806489944458 [Val] Loss: -0.8872572183609009\n",
      "Epoch 73 -> [Train] Loss: -0.9047892689704895 [Val] Loss: -0.8879808187484741\n",
      "Epoch 74 -> [Train] Loss: -0.9076636433601379 [Val] Loss: -0.8874203562736511\n",
      "Epoch 75 -> [Train] Loss: -0.9033127427101135 [Val] Loss: -0.8895550966262817\n",
      "Epoch 76 -> [Train] Loss: -0.9064896106719971 [Val] Loss: -0.8901838660240173\n",
      "Epoch 77 -> [Train] Loss: -0.9045103192329407 [Val] Loss: -0.890579342842102\n",
      "Epoch 78 -> [Train] Loss: -0.9062353372573853 [Val] Loss: -0.8905417919158936\n",
      "Epoch 79 -> [Train] Loss: -0.9078296422958374 [Val] Loss: -0.8902586698532104\n",
      "Epoch 80 -> [Train] Loss: -0.9082306623458862 [Val] Loss: -0.8918574452400208\n",
      "Epoch 81 -> [Train] Loss: -0.9060128331184387 [Val] Loss: -0.8909293413162231\n",
      "Epoch 82 -> [Train] Loss: -0.9084807634353638 [Val] Loss: -0.891508936882019\n",
      "Epoch 83 -> [Train] Loss: -0.9092409014701843 [Val] Loss: -0.8919575214385986\n",
      "Epoch 84 -> [Train] Loss: -0.9097142815589905 [Val] Loss: -0.8927791118621826\n",
      "Epoch 85 -> [Train] Loss: -0.9075968861579895 [Val] Loss: -0.8923953771591187\n",
      "Epoch 86 -> [Train] Loss: -0.9083765745162964 [Val] Loss: -0.8931412100791931\n",
      "Epoch 87 -> [Train] Loss: -0.9101217985153198 [Val] Loss: -0.8933864235877991\n",
      "Epoch 88 -> [Train] Loss: -0.9112122058868408 [Val] Loss: -0.8940115571022034\n",
      "Epoch 89 -> [Train] Loss: -0.9119917750358582 [Val] Loss: -0.8937183022499084\n",
      "Epoch 90 -> [Train] Loss: -0.9111727476119995 [Val] Loss: -0.8947371244430542\n",
      "Epoch 91 -> [Train] Loss: -0.9115524888038635 [Val] Loss: -0.894058108329773\n",
      "Epoch 92 -> [Train] Loss: -0.9136595129966736 [Val] Loss: -0.8946508169174194\n",
      "Epoch 93 -> [Train] Loss: -0.9121304154396057 [Val] Loss: -0.8951298594474792\n",
      "Epoch 94 -> [Train] Loss: -0.9119932055473328 [Val] Loss: -0.895750880241394\n",
      "Epoch 95 -> [Train] Loss: -0.912944495677948 [Val] Loss: -0.8954142332077026\n",
      "Epoch 96 -> [Train] Loss: -0.9142968654632568 [Val] Loss: -0.8954724669456482\n",
      "Epoch 97 -> [Train] Loss: -0.9133172631263733 [Val] Loss: -0.8964829444885254\n",
      "Epoch 98 -> [Train] Loss: -0.9134724140167236 [Val] Loss: -0.8963240385055542\n",
      "Epoch 99 -> [Train] Loss: -0.9130845665931702 [Val] Loss: -0.8963555693626404\n",
      "Epoch 100 -> [Train] Loss: -0.9130949974060059 [Val] Loss: -0.8966017961502075\n",
      "Epoch 101 -> [Train] Loss: -0.9134524464607239 [Val] Loss: -0.8975297212600708\n",
      "Epoch 102 -> [Train] Loss: -0.9132985472679138 [Val] Loss: -0.8966206908226013\n",
      "Epoch 103 -> [Train] Loss: -0.9156182408332825 [Val] Loss: -0.8973040580749512\n",
      "Epoch 104 -> [Train] Loss: -0.9133508801460266 [Val] Loss: -0.8977904915809631\n",
      "Epoch 105 -> [Train] Loss: -0.9132898449897766 [Val] Loss: -0.8976728916168213\n",
      "Epoch 106 -> [Train] Loss: -0.9145761728286743 [Val] Loss: -0.8981623649597168\n",
      "Epoch 107 -> [Train] Loss: -0.9143664836883545 [Val] Loss: -0.8982011079788208\n",
      "Epoch 108 -> [Train] Loss: -0.9161685705184937 [Val] Loss: -0.8988191485404968\n",
      "Epoch 109 -> [Train] Loss: -0.916458785533905 [Val] Loss: -0.8991479873657227\n",
      "Epoch 110 -> [Train] Loss: -0.9162713885307312 [Val] Loss: -0.8996808528900146\n",
      "Epoch 111 -> [Train] Loss: -0.915830671787262 [Val] Loss: -0.8990218639373779\n",
      "Epoch 112 -> [Train] Loss: -0.917182981967926 [Val] Loss: -0.8981808423995972\n",
      "Epoch 113 -> [Train] Loss: -0.9144253134727478 [Val] Loss: -0.8998661041259766\n",
      "Epoch 114 -> [Train] Loss: -0.9145986437797546 [Val] Loss: -0.8999742269515991\n",
      "Epoch 115 -> [Train] Loss: -0.9152320027351379 [Val] Loss: -0.8993202447891235\n",
      "Epoch 116 -> [Train] Loss: -0.9165396690368652 [Val] Loss: -0.9004170298576355\n",
      "Epoch 117 -> [Train] Loss: -0.9182369112968445 [Val] Loss: -0.8998013138771057\n",
      "Epoch 118 -> [Train] Loss: -0.9170950651168823 [Val] Loss: -0.9003538489341736\n",
      "Epoch 119 -> [Train] Loss: -0.9175736904144287 [Val] Loss: -0.9009320139884949\n",
      "Epoch 120 -> [Train] Loss: -0.9168655276298523 [Val] Loss: -0.9002658724784851\n",
      "Epoch 121 -> [Train] Loss: -0.915290892124176 [Val] Loss: -0.901125431060791\n",
      "Epoch 122 -> [Train] Loss: -0.9175845384597778 [Val] Loss: -0.9013640880584717\n",
      "Epoch 123 -> [Train] Loss: -0.9188730120658875 [Val] Loss: -0.901447594165802\n",
      "Epoch 124 -> [Train] Loss: -0.9173102378845215 [Val] Loss: -0.8995376825332642\n",
      "Epoch 125 -> [Train] Loss: -0.9187114238739014 [Val] Loss: -0.9012678861618042\n",
      "Epoch 126 -> [Train] Loss: -0.9193549156188965 [Val] Loss: -0.9020636081695557\n",
      "Epoch 127 -> [Train] Loss: -0.916743278503418 [Val] Loss: -0.90240478515625\n",
      "Epoch 128 -> [Train] Loss: -0.91885906457901 [Val] Loss: -0.9018681049346924\n",
      "Epoch 129 -> [Train] Loss: -0.9191851019859314 [Val] Loss: -0.9022271037101746\n",
      "Epoch 130 -> [Train] Loss: -0.9182896018028259 [Val] Loss: -0.9030267596244812\n",
      "Epoch 131 -> [Train] Loss: -0.9196354746818542 [Val] Loss: -0.9022485613822937\n",
      "Epoch 132 -> [Train] Loss: -0.9182206988334656 [Val] Loss: -0.9037278890609741\n",
      "Epoch 133 -> [Train] Loss: -0.9184225797653198 [Val] Loss: -0.9033734798431396\n",
      "Epoch 134 -> [Train] Loss: -0.9181296229362488 [Val] Loss: -0.9034246206283569\n",
      "Epoch 135 -> [Train] Loss: -0.9193856120109558 [Val] Loss: -0.9031159281730652\n",
      "Epoch 136 -> [Train] Loss: -0.9210652112960815 [Val] Loss: -0.9041153788566589\n",
      "Epoch 137 -> [Train] Loss: -0.9217888712882996 [Val] Loss: -0.9036787748336792\n",
      "Epoch 138 -> [Train] Loss: -0.9198827743530273 [Val] Loss: -0.9031120538711548\n",
      "Epoch 139 -> [Train] Loss: -0.9207046031951904 [Val] Loss: -0.9033395648002625\n",
      "Epoch 140 -> [Train] Loss: -0.9197545647621155 [Val] Loss: -0.9040964245796204\n",
      "Epoch 141 -> [Train] Loss: -0.9206647872924805 [Val] Loss: -0.9041365385055542\n",
      "Epoch 142 -> [Train] Loss: -0.9199753999710083 [Val] Loss: -0.9048633575439453\n",
      "Epoch 143 -> [Train] Loss: -0.9224634170532227 [Val] Loss: -0.9047353267669678\n",
      "Epoch 144 -> [Train] Loss: -0.9222064018249512 [Val] Loss: -0.9042779207229614\n",
      "Epoch 145 -> [Train] Loss: -0.920207142829895 [Val] Loss: -0.905530571937561\n",
      "Epoch 146 -> [Train] Loss: -0.9232524633407593 [Val] Loss: -0.9043670892715454\n",
      "Epoch 147 -> [Train] Loss: -0.9193297624588013 [Val] Loss: -0.9060757160186768\n",
      "Epoch 148 -> [Train] Loss: -0.9184487462043762 [Val] Loss: -0.9048449993133545\n",
      "Epoch 149 -> [Train] Loss: -0.920954167842865 [Val] Loss: -0.9056851267814636\n",
      "Epoch 150 -> [Train] Loss: -0.9203459620475769 [Val] Loss: -0.9057237505912781\n",
      "Epoch 151 -> [Train] Loss: -0.9224696159362793 [Val] Loss: -0.9059545397758484\n",
      "Epoch 152 -> [Train] Loss: -0.9206601977348328 [Val] Loss: -0.9057899713516235\n",
      "Epoch 153 -> [Train] Loss: -0.9232101440429688 [Val] Loss: -0.9062992930412292\n",
      "Epoch 154 -> [Train] Loss: -0.9214393496513367 [Val] Loss: -0.9059103727340698\n",
      "Epoch 155 -> [Train] Loss: -0.9231137037277222 [Val] Loss: -0.9067603349685669\n",
      "Epoch 156 -> [Train] Loss: -0.9224849343299866 [Val] Loss: -0.9065817594528198\n",
      "Epoch 157 -> [Train] Loss: -0.9224539995193481 [Val] Loss: -0.9068077206611633\n",
      "Epoch 158 -> [Train] Loss: -0.9236143827438354 [Val] Loss: -0.9066601395606995\n",
      "Epoch 159 -> [Train] Loss: -0.9222934246063232 [Val] Loss: -0.9077697396278381\n",
      "Epoch 160 -> [Train] Loss: -0.9238647818565369 [Val] Loss: -0.9065657258033752\n",
      "Epoch 161 -> [Train] Loss: -0.9251933693885803 [Val] Loss: -0.9076229929924011\n",
      "Epoch 162 -> [Train] Loss: -0.9220941662788391 [Val] Loss: -0.9071424007415771\n",
      "Epoch 163 -> [Train] Loss: -0.9232252836227417 [Val] Loss: -0.9071316123008728\n",
      "Epoch 164 -> [Train] Loss: -0.9257791042327881 [Val] Loss: -0.9075582027435303\n",
      "Epoch 165 -> [Train] Loss: -0.9237930178642273 [Val] Loss: -0.9079772233963013\n",
      "Epoch 166 -> [Train] Loss: -0.9230450987815857 [Val] Loss: -0.9067033529281616\n",
      "Epoch 167 -> [Train] Loss: -0.9226272106170654 [Val] Loss: -0.9076665639877319\n",
      "Epoch 168 -> [Train] Loss: -0.9244396090507507 [Val] Loss: -0.9081732034683228\n",
      "Epoch 169 -> [Train] Loss: -0.9244157075881958 [Val] Loss: -0.9088228344917297\n",
      "Epoch 170 -> [Train] Loss: -0.9241732358932495 [Val] Loss: -0.9075472950935364\n",
      "Epoch 171 -> [Train] Loss: -0.9238933324813843 [Val] Loss: -0.9090800285339355\n",
      "Epoch 172 -> [Train] Loss: -0.9261102676391602 [Val] Loss: -0.9088403582572937\n",
      "Epoch 173 -> [Train] Loss: -0.9273435473442078 [Val] Loss: -0.9089812636375427\n",
      "Epoch 174 -> [Train] Loss: -0.9264136552810669 [Val] Loss: -0.9086184501647949\n",
      "Epoch 175 -> [Train] Loss: -0.9280017018318176 [Val] Loss: -0.9094014763832092\n",
      "Epoch 176 -> [Train] Loss: -0.9262609481811523 [Val] Loss: -0.9085500240325928\n",
      "Epoch 177 -> [Train] Loss: -0.9271923899650574 [Val] Loss: -0.9095779061317444\n",
      "Epoch 178 -> [Train] Loss: -0.9268679618835449 [Val] Loss: -0.9096759557723999\n",
      "Epoch 179 -> [Train] Loss: -0.9266696572303772 [Val] Loss: -0.9096670746803284\n",
      "Epoch 180 -> [Train] Loss: -0.9287073016166687 [Val] Loss: -0.9102641940116882\n",
      "Epoch 181 -> [Train] Loss: -0.9260812401771545 [Val] Loss: -0.9101333022117615\n",
      "Epoch 182 -> [Train] Loss: -0.9266217350959778 [Val] Loss: -0.9105762839317322\n",
      "Epoch 183 -> [Train] Loss: -0.9266794919967651 [Val] Loss: -0.9108593463897705\n",
      "Epoch 184 -> [Train] Loss: -0.9270723462104797 [Val] Loss: -0.9112178683280945\n",
      "Epoch 185 -> [Train] Loss: -0.9275029301643372 [Val] Loss: -0.9103097915649414\n",
      "Epoch 186 -> [Train] Loss: -0.9293801188468933 [Val] Loss: -0.9125679135322571\n",
      "Epoch 187 -> [Train] Loss: -0.9289942979812622 [Val] Loss: -0.9126856923103333\n",
      "Epoch 188 -> [Train] Loss: -0.930846095085144 [Val] Loss: -0.9129467606544495\n",
      "Epoch 189 -> [Train] Loss: -0.9290806651115417 [Val] Loss: -0.9133491516113281\n",
      "Epoch 190 -> [Train] Loss: -0.9291139841079712 [Val] Loss: -0.9129464030265808\n",
      "Epoch 191 -> [Train] Loss: -0.9280428290367126 [Val] Loss: -0.912736177444458\n",
      "Epoch 192 -> [Train] Loss: -0.9292075634002686 [Val] Loss: -0.9132306575775146\n",
      "Epoch 193 -> [Train] Loss: -0.9328884482383728 [Val] Loss: -0.9139884114265442\n",
      "Epoch 194 -> [Train] Loss: -0.9298884272575378 [Val] Loss: -0.9145166277885437\n",
      "Epoch 195 -> [Train] Loss: -0.9302559494972229 [Val] Loss: -0.915033221244812\n",
      "Epoch 196 -> [Train] Loss: -0.9334460496902466 [Val] Loss: -0.9157388806343079\n",
      "Epoch 197 -> [Train] Loss: -0.9313150644302368 [Val] Loss: -0.9140591025352478\n",
      "Epoch 198 -> [Train] Loss: -0.9302318096160889 [Val] Loss: -0.9141599535942078\n",
      "Epoch 199 -> [Train] Loss: -0.9344137907028198 [Val] Loss: -0.915096640586853\n",
      "Epoch 200 -> [Train] Loss: -0.9307050704956055 [Val] Loss: -0.9124305844306946\n",
      "Epoch 201 -> [Train] Loss: -0.9283964037895203 [Val] Loss: -0.9120147228240967\n",
      "Epoch 202 -> [Train] Loss: -0.926641583442688 [Val] Loss: -0.9123305678367615\n",
      "Epoch 203 -> [Train] Loss: -0.9267029166221619 [Val] Loss: -0.9122699499130249\n",
      "Epoch 204 -> [Train] Loss: -0.9297632575035095 [Val] Loss: -0.9123567342758179\n",
      "Epoch 205 -> [Train] Loss: -0.9279742240905762 [Val] Loss: -0.9119234085083008\n",
      "Epoch 206 -> [Train] Loss: -0.9283445477485657 [Val] Loss: -0.9118376970291138\n",
      "Epoch 207 -> [Train] Loss: -0.926665186882019 [Val] Loss: -0.9124037027359009\n",
      "Epoch 208 -> [Train] Loss: -0.9294557571411133 [Val] Loss: -0.9121326208114624\n",
      "Epoch 209 -> [Train] Loss: -0.9295949339866638 [Val] Loss: -0.9130581617355347\n",
      "Epoch 210 -> [Train] Loss: -0.9300909042358398 [Val] Loss: -0.9123729467391968\n",
      "Epoch 211 -> [Train] Loss: -0.9304119944572449 [Val] Loss: -0.9130319356918335\n",
      "Epoch 212 -> [Train] Loss: -0.9315139651298523 [Val] Loss: -0.9138701558113098\n",
      "Epoch 213 -> [Train] Loss: -0.9318166375160217 [Val] Loss: -0.9121385812759399\n",
      "Epoch 214 -> [Train] Loss: -0.9307860136032104 [Val] Loss: -0.9135833978652954\n",
      "Epoch 215 -> [Train] Loss: -0.9295545816421509 [Val] Loss: -0.9134894609451294\n",
      "Epoch 216 -> [Train] Loss: -0.9277839660644531 [Val] Loss: -0.9128591418266296\n",
      "Epoch 217 -> [Train] Loss: -0.9280018210411072 [Val] Loss: -0.9125014543533325\n",
      "Epoch 218 -> [Train] Loss: -0.9295951128005981 [Val] Loss: -0.9138280749320984\n",
      "Epoch 219 -> [Train] Loss: -0.9327112436294556 [Val] Loss: -0.9137978553771973\n",
      "Epoch 220 -> [Train] Loss: -0.933777928352356 [Val] Loss: -0.9140520095825195\n",
      "Epoch 221 -> [Train] Loss: -0.9310946464538574 [Val] Loss: -0.9147215485572815\n",
      "Epoch 222 -> [Train] Loss: -0.9303292036056519 [Val] Loss: -0.9138134717941284\n",
      "Epoch 223 -> [Train] Loss: -0.9337066411972046 [Val] Loss: -0.9144061803817749\n",
      "Epoch 224 -> [Train] Loss: -0.9328461289405823 [Val] Loss: -0.9149354696273804\n",
      "Epoch 225 -> [Train] Loss: -0.9305970668792725 [Val] Loss: -0.9144095778465271\n",
      "Epoch 226 -> [Train] Loss: -0.932705283164978 [Val] Loss: -0.915695071220398\n",
      "Epoch 227 -> [Train] Loss: -0.9325398206710815 [Val] Loss: -0.9156273007392883\n",
      "Epoch 228 -> [Train] Loss: -0.9346370697021484 [Val] Loss: -0.9166579842567444\n",
      "Epoch 229 -> [Train] Loss: -0.9344298839569092 [Val] Loss: -0.9162861704826355\n",
      "Epoch 230 -> [Train] Loss: -0.9339521527290344 [Val] Loss: -0.9162207245826721\n",
      "Epoch 231 -> [Train] Loss: -0.9319655895233154 [Val] Loss: -0.9167606830596924\n",
      "Epoch 232 -> [Train] Loss: -0.9341657757759094 [Val] Loss: -0.9161336421966553\n",
      "Epoch 233 -> [Train] Loss: -0.9321771264076233 [Val] Loss: -0.9157484769821167\n",
      "Epoch 234 -> [Train] Loss: -0.9334070086479187 [Val] Loss: -0.9171687960624695\n",
      "Epoch 235 -> [Train] Loss: -0.9346405863761902 [Val] Loss: -0.9174577593803406\n",
      "Epoch 236 -> [Train] Loss: -0.9360243082046509 [Val] Loss: -0.9171707630157471\n",
      "Epoch 237 -> [Train] Loss: -0.9350250959396362 [Val] Loss: -0.91708904504776\n",
      "Epoch 238 -> [Train] Loss: -0.9346343278884888 [Val] Loss: -0.9155982136726379\n",
      "Epoch 239 -> [Train] Loss: -0.9337192177772522 [Val] Loss: -0.9160235524177551\n",
      "Epoch 240 -> [Train] Loss: -0.9338621497154236 [Val] Loss: -0.9174340963363647\n",
      "Epoch 241 -> [Train] Loss: -0.9338622093200684 [Val] Loss: -0.9181545972824097\n",
      "Epoch 242 -> [Train] Loss: -0.9357101917266846 [Val] Loss: -0.9174062609672546\n",
      "Epoch 243 -> [Train] Loss: -0.9359496235847473 [Val] Loss: -0.9181909561157227\n",
      "Epoch 244 -> [Train] Loss: -0.9373930096626282 [Val] Loss: -0.9181346893310547\n",
      "Epoch 245 -> [Train] Loss: -0.9375782012939453 [Val] Loss: -0.9194716215133667\n",
      "Epoch 246 -> [Train] Loss: -0.9370183944702148 [Val] Loss: -0.9186948537826538\n",
      "Epoch 247 -> [Train] Loss: -0.9379668831825256 [Val] Loss: -0.91965252161026\n",
      "Epoch 248 -> [Train] Loss: -0.938893735408783 [Val] Loss: -0.9200527667999268\n",
      "Epoch 249 -> [Train] Loss: -0.9391978979110718 [Val] Loss: -0.9193092584609985\n",
      "Epoch 250 -> [Train] Loss: -0.9390836954116821 [Val] Loss: -0.9200487732887268\n",
      "Epoch 251 -> [Train] Loss: -0.9374289512634277 [Val] Loss: -0.9203278422355652\n",
      "Epoch 252 -> [Train] Loss: -0.9367949962615967 [Val] Loss: -0.9173758625984192\n",
      "Epoch 253 -> [Train] Loss: -0.9345148801803589 [Val] Loss: -0.9171675443649292\n",
      "Epoch 254 -> [Train] Loss: -0.9359204769134521 [Val] Loss: -0.9192638993263245\n",
      "Epoch 255 -> [Train] Loss: -0.9370924830436707 [Val] Loss: -0.9205026030540466\n",
      "Epoch 256 -> [Train] Loss: -0.9396699070930481 [Val] Loss: -0.920440673828125\n",
      "Epoch 257 -> [Train] Loss: -0.9383291602134705 [Val] Loss: -0.9170386791229248\n",
      "Epoch 258 -> [Train] Loss: -0.933817982673645 [Val] Loss: -0.918259859085083\n",
      "Epoch 259 -> [Train] Loss: -0.9339988231658936 [Val] Loss: -0.9174737930297852\n",
      "Epoch 260 -> [Train] Loss: -0.9356954097747803 [Val] Loss: -0.9174624085426331\n",
      "Epoch 261 -> [Train] Loss: -0.9370970129966736 [Val] Loss: -0.9188517332077026\n",
      "Epoch 262 -> [Train] Loss: -0.9361019134521484 [Val] Loss: -0.9176598787307739\n",
      "Epoch 263 -> [Train] Loss: -0.9365896582603455 [Val] Loss: -0.9188072681427002\n",
      "Epoch 264 -> [Train] Loss: -0.9389809370040894 [Val] Loss: -0.9195544123649597\n",
      "Epoch 265 -> [Train] Loss: -0.9381162524223328 [Val] Loss: -0.9195110201835632\n",
      "Epoch 266 -> [Train] Loss: -0.9385050535202026 [Val] Loss: -0.9197290539741516\n",
      "Epoch 267 -> [Train] Loss: -0.9357144832611084 [Val] Loss: -0.9179893136024475\n",
      "Epoch 268 -> [Train] Loss: -0.9369237422943115 [Val] Loss: -0.9193474650382996\n",
      "Epoch 269 -> [Train] Loss: -0.9392821192741394 [Val] Loss: -0.9196580648422241\n",
      "Epoch 270 -> [Train] Loss: -0.9408019185066223 [Val] Loss: -0.9210767149925232\n",
      "Epoch 271 -> [Train] Loss: -0.937577486038208 [Val] Loss: -0.9186373353004456\n",
      "Epoch 272 -> [Train] Loss: -0.9354581832885742 [Val] Loss: -0.9174419045448303\n",
      "Epoch 273 -> [Train] Loss: -0.934138298034668 [Val] Loss: -0.9183542132377625\n",
      "Epoch 274 -> [Train] Loss: -0.9367518424987793 [Val] Loss: -0.9195821285247803\n",
      "Epoch 275 -> [Train] Loss: -0.9400461912155151 [Val] Loss: -0.9191159009933472\n",
      "Epoch 276 -> [Train] Loss: -0.9396343231201172 [Val] Loss: -0.9191074371337891\n",
      "Epoch 277 -> [Train] Loss: -0.9374104142189026 [Val] Loss: -0.9211925268173218\n",
      "Epoch 278 -> [Train] Loss: -0.9384547472000122 [Val] Loss: -0.9217432737350464\n",
      "Epoch 279 -> [Train] Loss: -0.9394785761833191 [Val] Loss: -0.9218612909317017\n",
      "Epoch 280 -> [Train] Loss: -0.9404825568199158 [Val] Loss: -0.9218048453330994\n",
      "Epoch 281 -> [Train] Loss: -0.9421848654747009 [Val] Loss: -0.9225122332572937\n",
      "Epoch 282 -> [Train] Loss: -0.9405670166015625 [Val] Loss: -0.922126054763794\n",
      "Epoch 283 -> [Train] Loss: -0.9426074624061584 [Val] Loss: -0.9220572113990784\n",
      "Epoch 284 -> [Train] Loss: -0.9407874345779419 [Val] Loss: -0.9217539429664612\n",
      "Epoch 285 -> [Train] Loss: -0.9384996294975281 [Val] Loss: -0.9226579666137695\n",
      "Epoch 286 -> [Train] Loss: -0.9413774609565735 [Val] Loss: -0.922349214553833\n",
      "Epoch 287 -> [Train] Loss: -0.9364989399909973 [Val] Loss: -0.9199411273002625\n",
      "Epoch 288 -> [Train] Loss: -0.9369372129440308 [Val] Loss: -0.9206835031509399\n",
      "Epoch 289 -> [Train] Loss: -0.937659740447998 [Val] Loss: -0.9211836457252502\n",
      "Epoch 290 -> [Train] Loss: -0.9360761046409607 [Val] Loss: -0.9227087497711182\n",
      "Epoch 291 -> [Train] Loss: -0.9417370557785034 [Val] Loss: -0.9234254956245422\n",
      "Epoch 292 -> [Train] Loss: -0.9438138604164124 [Val] Loss: -0.9232003092765808\n",
      "Epoch 293 -> [Train] Loss: -0.9422439932823181 [Val] Loss: -0.9223315715789795\n",
      "Epoch 294 -> [Train] Loss: -0.9437095522880554 [Val] Loss: -0.9227355122566223\n",
      "Epoch 295 -> [Train] Loss: -0.9429070949554443 [Val] Loss: -0.9222002625465393\n",
      "Epoch 296 -> [Train] Loss: -0.9378151297569275 [Val] Loss: -0.9168656468391418\n",
      "Epoch 297 -> [Train] Loss: -0.9343189597129822 [Val] Loss: -0.9192010164260864\n",
      "Epoch 298 -> [Train] Loss: -0.9348458647727966 [Val] Loss: -0.9195212125778198\n",
      "Epoch 299 -> [Train] Loss: -0.9366441369056702 [Val] Loss: -0.9199896454811096\n",
      "Epoch 300 -> [Train] Loss: -0.9366790056228638 [Val] Loss: -0.9196324944496155\n",
      "Epoch 301 -> [Train] Loss: -0.9377076625823975 [Val] Loss: -0.9194357395172119\n",
      "Epoch 302 -> [Train] Loss: -0.9394071102142334 [Val] Loss: -0.9203486442565918\n",
      "Epoch 303 -> [Train] Loss: -0.9382128119468689 [Val] Loss: -0.9198850393295288\n",
      "Epoch 304 -> [Train] Loss: -0.9390431642532349 [Val] Loss: -0.9204372763633728\n",
      "Epoch 305 -> [Train] Loss: -0.9399037957191467 [Val] Loss: -0.9207286834716797\n",
      "Epoch 306 -> [Train] Loss: -0.9407429099082947 [Val] Loss: -0.9210132360458374\n",
      "Epoch 307 -> [Train] Loss: -0.9417757987976074 [Val] Loss: -0.9218595027923584\n",
      "Epoch 308 -> [Train] Loss: -0.9425072073936462 [Val] Loss: -0.9219256043434143\n",
      "Epoch 309 -> [Train] Loss: -0.9421370625495911 [Val] Loss: -0.922489583492279\n",
      "Epoch 310 -> [Train] Loss: -0.9423347115516663 [Val] Loss: -0.9221857190132141\n",
      "Epoch 311 -> [Train] Loss: -0.9451899528503418 [Val] Loss: -0.9227840900421143\n",
      "Epoch 312 -> [Train] Loss: -0.9424769878387451 [Val] Loss: -0.9227713346481323\n",
      "Epoch 313 -> [Train] Loss: -0.9444103240966797 [Val] Loss: -0.9228394627571106\n",
      "Epoch 314 -> [Train] Loss: -0.9440916180610657 [Val] Loss: -0.9230813384056091\n",
      "Epoch 315 -> [Train] Loss: -0.9422550797462463 [Val] Loss: -0.9235813617706299\n",
      "Epoch 316 -> [Train] Loss: -0.9443513751029968 [Val] Loss: -0.9226508736610413\n",
      "Epoch 317 -> [Train] Loss: -0.9428865313529968 [Val] Loss: -0.9230121970176697\n",
      "Epoch 318 -> [Train] Loss: -0.9457836747169495 [Val] Loss: -0.9227950572967529\n",
      "Epoch 319 -> [Train] Loss: -0.9464842081069946 [Val] Loss: -0.922738254070282\n",
      "Epoch 320 -> [Train] Loss: -0.9443046450614929 [Val] Loss: -0.9235178828239441\n",
      "Epoch 321 -> [Train] Loss: -0.9458245038986206 [Val] Loss: -0.9247812032699585\n",
      "Epoch 322 -> [Train] Loss: -0.9450023174285889 [Val] Loss: -0.9235625863075256\n",
      "Epoch 323 -> [Train] Loss: -0.9447576403617859 [Val] Loss: -0.9239140152931213\n",
      "Epoch 324 -> [Train] Loss: -0.9432762861251831 [Val] Loss: -0.9229526519775391\n",
      "Epoch 325 -> [Train] Loss: -0.9452412128448486 [Val] Loss: -0.9236456155776978\n",
      "Epoch 326 -> [Train] Loss: -0.9467207789421082 [Val] Loss: -0.9234090447425842\n",
      "Epoch 327 -> [Train] Loss: -0.9409894943237305 [Val] Loss: -0.9220566749572754\n",
      "Epoch 328 -> [Train] Loss: -0.9424761533737183 [Val] Loss: -0.9229261875152588\n",
      "Epoch 329 -> [Train] Loss: -0.9399738311767578 [Val] Loss: -0.9235349893569946\n",
      "Epoch 330 -> [Train] Loss: -0.9445819854736328 [Val] Loss: -0.9237951636314392\n",
      "Epoch 331 -> [Train] Loss: -0.944778561592102 [Val] Loss: -0.9237788319587708\n",
      "Epoch 332 -> [Train] Loss: -0.9454304575920105 [Val] Loss: -0.9240741729736328\n",
      "Epoch 333 -> [Train] Loss: -0.9439040422439575 [Val] Loss: -0.922013521194458\n",
      "Epoch 334 -> [Train] Loss: -0.9391220808029175 [Val] Loss: -0.921856701374054\n",
      "Epoch 335 -> [Train] Loss: -0.9421175718307495 [Val] Loss: -0.9229607582092285\n",
      "Epoch 336 -> [Train] Loss: -0.9429242610931396 [Val] Loss: -0.9239339232444763\n",
      "Epoch 337 -> [Train] Loss: -0.9447075724601746 [Val] Loss: -0.9248902201652527\n",
      "Epoch 338 -> [Train] Loss: -0.9457676410675049 [Val] Loss: -0.9248771667480469\n",
      "Epoch 339 -> [Train] Loss: -0.9443957805633545 [Val] Loss: -0.9241694211959839\n",
      "Epoch 340 -> [Train] Loss: -0.9453848004341125 [Val] Loss: -0.9249426126480103\n",
      "Epoch 341 -> [Train] Loss: -0.9469994306564331 [Val] Loss: -0.9254922866821289\n",
      "Epoch 342 -> [Train] Loss: -0.9328507781028748 [Val] Loss: -0.9159584045410156\n",
      "Epoch 343 -> [Train] Loss: -0.9303396940231323 [Val] Loss: -0.9195307493209839\n",
      "Epoch 344 -> [Train] Loss: -0.9327362775802612 [Val] Loss: -0.9200296998023987\n",
      "Epoch 345 -> [Train] Loss: -0.9344993233680725 [Val] Loss: -0.9202837944030762\n",
      "Epoch 346 -> [Train] Loss: -0.9361790418624878 [Val] Loss: -0.9200155138969421\n",
      "Epoch 347 -> [Train] Loss: -0.9371374249458313 [Val] Loss: -0.9211999773979187\n",
      "Epoch 348 -> [Train] Loss: -0.9373990893363953 [Val] Loss: -0.9200596213340759\n",
      "Epoch 349 -> [Train] Loss: -0.9362583160400391 [Val] Loss: -0.9206537008285522\n",
      "Epoch 350 -> [Train] Loss: -0.938001811504364 [Val] Loss: -0.919975221157074\n",
      "Epoch 351 -> [Train] Loss: -0.9388265609741211 [Val] Loss: -0.9204813241958618\n",
      "Epoch 352 -> [Train] Loss: -0.9395943880081177 [Val] Loss: -0.9202996492385864\n",
      "Epoch 353 -> [Train] Loss: -0.9396896362304688 [Val] Loss: -0.9209932088851929\n",
      "Epoch 354 -> [Train] Loss: -0.938848614692688 [Val] Loss: -0.9199031591415405\n",
      "Epoch 355 -> [Train] Loss: -0.9397145509719849 [Val] Loss: -0.9211010336875916\n",
      "Epoch 356 -> [Train] Loss: -0.9386253952980042 [Val] Loss: -0.9212046265602112\n",
      "Epoch 357 -> [Train] Loss: -0.9392420053482056 [Val] Loss: -0.9218771457672119\n",
      "Epoch 358 -> [Train] Loss: -0.9393780827522278 [Val] Loss: -0.9213597178459167\n",
      "Epoch 359 -> [Train] Loss: -0.9397603273391724 [Val] Loss: -0.9214715361595154\n",
      "Epoch 360 -> [Train] Loss: -0.9381498694419861 [Val] Loss: -0.9211978912353516\n",
      "Epoch 361 -> [Train] Loss: -0.936501681804657 [Val] Loss: -0.9214563369750977\n",
      "Epoch 362 -> [Train] Loss: -0.9404392838478088 [Val] Loss: -0.9221566319465637\n",
      "Epoch 363 -> [Train] Loss: -0.9397039413452148 [Val] Loss: -0.9223756790161133\n",
      "Epoch 364 -> [Train] Loss: -0.9405763149261475 [Val] Loss: -0.9216820001602173\n",
      "Epoch 365 -> [Train] Loss: -0.9413542747497559 [Val] Loss: -0.9225953817367554\n",
      "Epoch 366 -> [Train] Loss: -0.9385490417480469 [Val] Loss: -0.9213075041770935\n",
      "Epoch 367 -> [Train] Loss: -0.9401809573173523 [Val] Loss: -0.9213646054267883\n",
      "Epoch 368 -> [Train] Loss: -0.9398738145828247 [Val] Loss: -0.9214218258857727\n",
      "Epoch 369 -> [Train] Loss: -0.9404349327087402 [Val] Loss: -0.9209507703781128\n",
      "Epoch 370 -> [Train] Loss: -0.9389155507087708 [Val] Loss: -0.9216344356536865\n",
      "Epoch 371 -> [Train] Loss: -0.9408717751502991 [Val] Loss: -0.9215651154518127\n",
      "Epoch 372 -> [Train] Loss: -0.9384983777999878 [Val] Loss: -0.9217271208763123\n",
      "Epoch 373 -> [Train] Loss: -0.9405956864356995 [Val] Loss: -0.9216089844703674\n",
      "Epoch 374 -> [Train] Loss: -0.9410306215286255 [Val] Loss: -0.9213481545448303\n",
      "Epoch 375 -> [Train] Loss: -0.9408151507377625 [Val] Loss: -0.9212660193443298\n",
      "Epoch 376 -> [Train] Loss: -0.9407589435577393 [Val] Loss: -0.9223794937133789\n",
      "Epoch 377 -> [Train] Loss: -0.9408987164497375 [Val] Loss: -0.9212052226066589\n",
      "Epoch 378 -> [Train] Loss: -0.9397575259208679 [Val] Loss: -0.9208977222442627\n",
      "Epoch 379 -> [Train] Loss: -0.9378193616867065 [Val] Loss: -0.9217119216918945\n",
      "Epoch 380 -> [Train] Loss: -0.9412960410118103 [Val] Loss: -0.9210501313209534\n",
      "Epoch 381 -> [Train] Loss: -0.9429961442947388 [Val] Loss: -0.922299325466156\n",
      "Epoch 382 -> [Train] Loss: -0.9357519149780273 [Val] Loss: -0.9180030822753906\n",
      "Epoch 383 -> [Train] Loss: -0.935313880443573 [Val] Loss: -0.9223324656486511\n",
      "Epoch 384 -> [Train] Loss: -0.9374648332595825 [Val] Loss: -0.9223808646202087\n",
      "Epoch 385 -> [Train] Loss: -0.9389351606369019 [Val] Loss: -0.9228587746620178\n",
      "Epoch 386 -> [Train] Loss: -0.9397528767585754 [Val] Loss: -0.9226043224334717\n",
      "Epoch 387 -> [Train] Loss: -0.9415100812911987 [Val] Loss: -0.9226451516151428\n",
      "Epoch 388 -> [Train] Loss: -0.9418841600418091 [Val] Loss: -0.922895610332489\n",
      "Epoch 389 -> [Train] Loss: -0.9421167373657227 [Val] Loss: -0.9229394793510437\n",
      "Epoch 390 -> [Train] Loss: -0.9409148097038269 [Val] Loss: -0.9230994582176208\n",
      "Epoch 391 -> [Train] Loss: -0.9401423335075378 [Val] Loss: -0.9227754473686218\n",
      "Epoch 392 -> [Train] Loss: -0.9414870142936707 [Val] Loss: -0.923423171043396\n",
      "Epoch 393 -> [Train] Loss: -0.9420629143714905 [Val] Loss: -0.9233203530311584\n",
      "Epoch 394 -> [Train] Loss: -0.9420744776725769 [Val] Loss: -0.923238217830658\n",
      "Epoch 395 -> [Train] Loss: -0.9419947862625122 [Val] Loss: -0.9230211973190308\n",
      "Epoch 396 -> [Train] Loss: -0.9416537880897522 [Val] Loss: -0.9232203364372253\n",
      "Epoch 397 -> [Train] Loss: -0.943313717842102 [Val] Loss: -0.923973023891449\n",
      "Epoch 398 -> [Train] Loss: -0.9417764544487 [Val] Loss: -0.9237768650054932\n",
      "Epoch 399 -> [Train] Loss: -0.9422223567962646 [Val] Loss: -0.9228191375732422\n",
      "Epoch 400 -> [Train] Loss: -0.9429765939712524 [Val] Loss: -0.9236925840377808\n",
      "Epoch 401 -> [Train] Loss: -0.9417216181755066 [Val] Loss: -0.9234001636505127\n",
      "Epoch 402 -> [Train] Loss: -0.9426774978637695 [Val] Loss: -0.9236835837364197\n",
      "Epoch 403 -> [Train] Loss: -0.9420502185821533 [Val] Loss: -0.9241390228271484\n",
      "Epoch 404 -> [Train] Loss: -0.9416343569755554 [Val] Loss: -0.9238075613975525\n",
      "Epoch 405 -> [Train] Loss: -0.9426166415214539 [Val] Loss: -0.9240220189094543\n",
      "Epoch 406 -> [Train] Loss: -0.9436365365982056 [Val] Loss: -0.9244852662086487\n",
      "Epoch 407 -> [Train] Loss: -0.945052444934845 [Val] Loss: -0.92439204454422\n",
      "Epoch 408 -> [Train] Loss: -0.9461859464645386 [Val] Loss: -0.9245840311050415\n",
      "Epoch 409 -> [Train] Loss: -0.944503903388977 [Val] Loss: -0.924670934677124\n",
      "Epoch 410 -> [Train] Loss: -0.9445932507514954 [Val] Loss: -0.9240198135375977\n",
      "Epoch 411 -> [Train] Loss: -0.94549560546875 [Val] Loss: -0.924620509147644\n",
      "Epoch 412 -> [Train] Loss: -0.9446901679039001 [Val] Loss: -0.9244142770767212\n",
      "Epoch 413 -> [Train] Loss: -0.9437263011932373 [Val] Loss: -0.9248626828193665\n",
      "Epoch 414 -> [Train] Loss: -0.9461035132408142 [Val] Loss: -0.9249027967453003\n",
      "Epoch 415 -> [Train] Loss: -0.9463260173797607 [Val] Loss: -0.9246576428413391\n",
      "Epoch 416 -> [Train] Loss: -0.9460265636444092 [Val] Loss: -0.9248293042182922\n",
      "Epoch 417 -> [Train] Loss: -0.9453468918800354 [Val] Loss: -0.9246655106544495\n",
      "Epoch 418 -> [Train] Loss: -0.9450297951698303 [Val] Loss: -0.9244683980941772\n",
      "Epoch 419 -> [Train] Loss: -0.9464086890220642 [Val] Loss: -0.9251753091812134\n",
      "Epoch 420 -> [Train] Loss: -0.9469379186630249 [Val] Loss: -0.9247875809669495\n",
      "Epoch 421 -> [Train] Loss: -0.9464220404624939 [Val] Loss: -0.9254977703094482\n",
      "Epoch 422 -> [Train] Loss: -0.945256769657135 [Val] Loss: -0.9247651100158691\n",
      "Epoch 423 -> [Train] Loss: -0.9476123452186584 [Val] Loss: -0.9256181716918945\n",
      "Epoch 424 -> [Train] Loss: -0.9475618004798889 [Val] Loss: -0.9253877401351929\n",
      "Epoch 425 -> [Train] Loss: -0.9452741146087646 [Val] Loss: -0.9248917698860168\n",
      "Epoch 426 -> [Train] Loss: -0.9455721974372864 [Val] Loss: -0.9258607029914856\n",
      "Epoch 427 -> [Train] Loss: -0.9486556649208069 [Val] Loss: -0.9257251620292664\n",
      "Epoch 428 -> [Train] Loss: -0.9510420560836792 [Val] Loss: -0.9259471893310547\n",
      "Epoch 429 -> [Train] Loss: -0.9481313228607178 [Val] Loss: -0.9255637526512146\n",
      "Epoch 430 -> [Train] Loss: -0.9469013810157776 [Val] Loss: -0.9258779287338257\n",
      "Epoch 431 -> [Train] Loss: -0.9474719166755676 [Val] Loss: -0.9266794919967651\n",
      "Epoch 432 -> [Train] Loss: -0.9475016593933105 [Val] Loss: -0.9267473816871643\n",
      "Epoch 433 -> [Train] Loss: -0.9487084150314331 [Val] Loss: -0.9261877536773682\n",
      "Epoch 434 -> [Train] Loss: -0.9472769498825073 [Val] Loss: -0.9252640604972839\n",
      "Epoch 435 -> [Train] Loss: -0.9452596306800842 [Val] Loss: -0.9244574904441833\n",
      "Epoch 436 -> [Train] Loss: -0.9444720149040222 [Val] Loss: -0.9246684908866882\n",
      "Epoch 437 -> [Train] Loss: -0.9465592503547668 [Val] Loss: -0.925471842288971\n",
      "Epoch 438 -> [Train] Loss: -0.9469098448753357 [Val] Loss: -0.9256553053855896\n",
      "Epoch 439 -> [Train] Loss: -0.9462190866470337 [Val] Loss: -0.9238061308860779\n",
      "Epoch 440 -> [Train] Loss: -0.945267379283905 [Val] Loss: -0.926976203918457\n",
      "Epoch 441 -> [Train] Loss: -0.9469716548919678 [Val] Loss: -0.9258852601051331\n",
      "Epoch 442 -> [Train] Loss: -0.9471372961997986 [Val] Loss: -0.9256914854049683\n",
      "Epoch 443 -> [Train] Loss: -0.9485418200492859 [Val] Loss: -0.926367461681366\n",
      "Epoch 444 -> [Train] Loss: -0.946121871471405 [Val] Loss: -0.9236947298049927\n",
      "Epoch 445 -> [Train] Loss: -0.9448887705802917 [Val] Loss: -0.9257219433784485\n",
      "Epoch 446 -> [Train] Loss: -0.9462162852287292 [Val] Loss: -0.926632285118103\n",
      "Epoch 447 -> [Train] Loss: -0.9459378719329834 [Val] Loss: -0.9268675446510315\n",
      "Epoch 448 -> [Train] Loss: -0.9491029977798462 [Val] Loss: -0.926896870136261\n",
      "Epoch 449 -> [Train] Loss: -0.9484918713569641 [Val] Loss: -0.9268457293510437\n",
      "Epoch 450 -> [Train] Loss: -0.9495421648025513 [Val] Loss: -0.9273593425750732\n",
      "Epoch 451 -> [Train] Loss: -0.9497902393341064 [Val] Loss: -0.9270743131637573\n",
      "Epoch 452 -> [Train] Loss: -0.9503425359725952 [Val] Loss: -0.9266250133514404\n",
      "Epoch 453 -> [Train] Loss: -0.9500771164894104 [Val] Loss: -0.9275159239768982\n",
      "Epoch 454 -> [Train] Loss: -0.9502348899841309 [Val] Loss: -0.9264272451400757\n",
      "Epoch 455 -> [Train] Loss: -0.9452061057090759 [Val] Loss: -0.9254973530769348\n",
      "Epoch 456 -> [Train] Loss: -0.9426901936531067 [Val] Loss: -0.9253545999526978\n",
      "Epoch 457 -> [Train] Loss: -0.9454836249351501 [Val] Loss: -0.92666095495224\n",
      "Epoch 458 -> [Train] Loss: -0.949948787689209 [Val] Loss: -0.9268783926963806\n",
      "Epoch 459 -> [Train] Loss: -0.9472939968109131 [Val] Loss: -0.9278197884559631\n",
      "Epoch 460 -> [Train] Loss: -0.9505183696746826 [Val] Loss: -0.9272587299346924\n",
      "Epoch 461 -> [Train] Loss: -0.9503670930862427 [Val] Loss: -0.9271116852760315\n",
      "Epoch 462 -> [Train] Loss: -0.9497330784797668 [Val] Loss: -0.9273688793182373\n",
      "Epoch 463 -> [Train] Loss: -0.9522814750671387 [Val] Loss: -0.9280024170875549\n",
      "Epoch 464 -> [Train] Loss: -0.9517629742622375 [Val] Loss: -0.9278343319892883\n",
      "Epoch 465 -> [Train] Loss: -0.9508757591247559 [Val] Loss: -0.9277392029762268\n",
      "Epoch 466 -> [Train] Loss: -0.951350748538971 [Val] Loss: -0.9281360507011414\n",
      "Epoch 467 -> [Train] Loss: -0.9488597512245178 [Val] Loss: -0.9256492257118225\n",
      "Epoch 468 -> [Train] Loss: -0.9463324546813965 [Val] Loss: -0.9254906177520752\n",
      "Epoch 469 -> [Train] Loss: -0.9460474252700806 [Val] Loss: -0.9260727763175964\n",
      "Epoch 470 -> [Train] Loss: -0.9467185139656067 [Val] Loss: -0.9267234206199646\n",
      "Epoch 471 -> [Train] Loss: -0.9500597715377808 [Val] Loss: -0.9276570081710815\n",
      "Epoch 472 -> [Train] Loss: -0.9509545564651489 [Val] Loss: -0.9272220134735107\n",
      "Epoch 473 -> [Train] Loss: -0.9519861340522766 [Val] Loss: -0.9280402660369873\n",
      "Epoch 474 -> [Train] Loss: -0.9525306224822998 [Val] Loss: -0.9277995824813843\n",
      "Epoch 475 -> [Train] Loss: -0.94486004114151 [Val] Loss: -0.9256669878959656\n",
      "Epoch 476 -> [Train] Loss: -0.9440582990646362 [Val] Loss: -0.9255388975143433\n",
      "Epoch 477 -> [Train] Loss: -0.945004403591156 [Val] Loss: -0.9252040386199951\n",
      "Epoch 478 -> [Train] Loss: -0.9449070692062378 [Val] Loss: -0.9266523122787476\n",
      "Epoch 479 -> [Train] Loss: -0.9468741416931152 [Val] Loss: -0.9263397455215454\n",
      "Epoch 480 -> [Train] Loss: -0.9471395015716553 [Val] Loss: -0.9266033172607422\n",
      "Epoch 481 -> [Train] Loss: -0.9469357132911682 [Val] Loss: -0.9263925552368164\n",
      "Epoch 482 -> [Train] Loss: -0.946706235408783 [Val] Loss: -0.9262194633483887\n",
      "Epoch 483 -> [Train] Loss: -0.9472488164901733 [Val] Loss: -0.9257269501686096\n",
      "Epoch 484 -> [Train] Loss: -0.9471757411956787 [Val] Loss: -0.9259992241859436\n",
      "Epoch 485 -> [Train] Loss: -0.9472864866256714 [Val] Loss: -0.9269593954086304\n",
      "Epoch 486 -> [Train] Loss: -0.9470734000205994 [Val] Loss: -0.9261873960494995\n",
      "Epoch 487 -> [Train] Loss: -0.9492089748382568 [Val] Loss: -0.9269089102745056\n",
      "Epoch 488 -> [Train] Loss: -0.9489795565605164 [Val] Loss: -0.9268903136253357\n",
      "Epoch 489 -> [Train] Loss: -0.9489363431930542 [Val] Loss: -0.9271931052207947\n",
      "Epoch 490 -> [Train] Loss: -0.9494709372520447 [Val] Loss: -0.9272749423980713\n",
      "Epoch 491 -> [Train] Loss: -0.9522640109062195 [Val] Loss: -0.9281212091445923\n",
      "Epoch 492 -> [Train] Loss: -0.9519254565238953 [Val] Loss: -0.9273929595947266\n",
      "Epoch 493 -> [Train] Loss: -0.9526006579399109 [Val] Loss: -0.9283589124679565\n",
      "Epoch 494 -> [Train] Loss: -0.9508869051933289 [Val] Loss: -0.9279689788818359\n",
      "Epoch 495 -> [Train] Loss: -0.9535037875175476 [Val] Loss: -0.9284512996673584\n",
      "Epoch 496 -> [Train] Loss: -0.9549678564071655 [Val] Loss: -0.9276418089866638\n",
      "Epoch 497 -> [Train] Loss: -0.9507731199264526 [Val] Loss: -0.9239990711212158\n",
      "Epoch 498 -> [Train] Loss: -0.9439194798469543 [Val] Loss: -0.9269892573356628\n",
      "Epoch 499 -> [Train] Loss: -0.9510640501976013 [Val] Loss: -0.9278758764266968\n",
      "CPU times: user 20h 38min 33s, sys: 1d 6h 9s, total: 2d 2h 38min 43s\n",
      "Wall time: 5h 51min 16s\n"
     ]
    }
   ],
   "source": [
    "%%time\n",
    "for epoch in range(config.EPOCHS):\n",
    "    ## Training\n",
    "    for batch in dst_train_rdy.as_numpy_iterator():\n",
    "        state = train_step(state, batch)\n",
    "        state = state.replace(params=clip_layer(state.params, \"GDN\", a_min=0))\n",
    "        # state = compute_metrics(state=state, batch=batch)\n",
    "        # break\n",
    "\n",
    "    ## Log the metrics\n",
    "    for name, value in state.metrics.compute().items():\n",
    "        metrics_history[f\"train_{name}\"].append(value)\n",
    "    \n",
    "    ## Empty the metrics\n",
    "    state = state.replace(metrics=state.metrics.empty())\n",
    "\n",
    "    ## Evaluation\n",
    "    for batch in dst_val_rdy.as_numpy_iterator():\n",
    "        state = compute_metrics(state=state, batch=batch)\n",
    "        # break\n",
    "    for name, value in state.metrics.compute().items():\n",
    "        metrics_history[f\"val_{name}\"].append(value)\n",
    "    state = state.replace(metrics=state.metrics.empty())\n",
    "    \n",
    "    ## Checkpointing\n",
    "    if metrics_history[\"val_loss\"][-1] <= max(metrics_history[\"val_loss\"]):\n",
    "        orbax_checkpointer.save(os.path.join(wandb.run.dir, \"model-best\"), state, save_args=save_args, force=True) # force=True means allow overwritting.\n",
    "\n",
    "    wandb.log({f\"{k}\": wandb.Histogram(v) for k, v in flatten_params(state.params).items()}, commit=False)\n",
    "    wandb.log({\"epoch\": epoch+1, **{name:values[-1] for name, values in metrics_history.items()}})\n",
    "    print(f'Epoch {epoch} -> [Train] Loss: {metrics_history[\"train_loss\"][-1]} [Val] Loss: {metrics_history[\"val_loss\"][-1]}')\n",
    "    # break"
   ]
  },
  {
   "attachments": {},
   "cell_type": "markdown",
   "metadata": {},
   "source": [
    "Save the final model as well in case we want to keep training from it or whatever:"
   ]
  },
  {
   "cell_type": "code",
   "execution_count": null,
   "metadata": {},
   "outputs": [],
   "source": [
    "orbax_checkpointer.save(os.path.join(wandb.run.dir, \"model-final\"), state, save_args=save_args)"
   ]
  },
  {
   "cell_type": "code",
   "execution_count": null,
   "metadata": {},
   "outputs": [
    {
     "data": {
      "text/html": [
       "Waiting for W&B process to finish... <strong style=\"color:green\">(success).</strong>"
      ],
      "text/plain": [
       "<IPython.core.display.HTML object>"
      ]
     },
     "metadata": {},
     "output_type": "display_data"
    },
    {
     "data": {
      "text/html": [
       "<style>\n",
       "    table.wandb td:nth-child(1) { padding: 0 10px; text-align: left ; width: auto;} td:nth-child(2) {text-align: left ; width: 100%}\n",
       "    .wandb-row { display: flex; flex-direction: row; flex-wrap: wrap; justify-content: flex-start; width: 100% }\n",
       "    .wandb-col { display: flex; flex-direction: column; flex-basis: 100%; flex: 1; padding: 10px; }\n",
       "    </style>\n",
       "<div class=\"wandb-row\"><div class=\"wandb-col\"><h3>Run summary:</h3><br/><table class=\"wandb\"><tr><td>epoch</td><td>500</td></tr><tr><td>train_loss</td><td>-0.95106</td></tr><tr><td>val_loss</td><td>-0.92788</td></tr></table><br/></div></div>"
      ],
      "text/plain": [
       "<IPython.core.display.HTML object>"
      ]
     },
     "metadata": {},
     "output_type": "display_data"
    },
    {
     "data": {
      "text/html": [
       " View run <strong style=\"color:#cdcd00\">Baseline</strong> at: <a href='https://wandb.ai/jorgvt/PerceptNet_JaX/runs/m38t5pd0' target=\"_blank\">https://wandb.ai/jorgvt/PerceptNet_JaX/runs/m38t5pd0</a><br/>Synced 4 W&B file(s), 0 media file(s), 0 artifact file(s) and 2 other file(s)"
      ],
      "text/plain": [
       "<IPython.core.display.HTML object>"
      ]
     },
     "metadata": {},
     "output_type": "display_data"
    },
    {
     "data": {
      "text/html": [
       "Find logs at: <code>./wandb/run-20230508_005103-m38t5pd0/logs</code>"
      ],
      "text/plain": [
       "<IPython.core.display.HTML object>"
      ]
     },
     "metadata": {},
     "output_type": "display_data"
    }
   ],
   "source": [
    "wandb.finish()"
   ]
  }
 ],
 "metadata": {
  "kernelspec": {
   "display_name": "python3",
   "language": "python",
   "name": "python3"
  },
  "language_info": {
   "codemirror_mode": {
    "name": "ipython",
    "version": 3
   },
   "file_extension": ".py",
   "mimetype": "text/x-python",
   "name": "python",
   "nbconvert_exporter": "python",
   "pygments_lexer": "ipython3",
   "version": "3.8.16"
  }
 },
 "nbformat": 4,
 "nbformat_minor": 2
}
