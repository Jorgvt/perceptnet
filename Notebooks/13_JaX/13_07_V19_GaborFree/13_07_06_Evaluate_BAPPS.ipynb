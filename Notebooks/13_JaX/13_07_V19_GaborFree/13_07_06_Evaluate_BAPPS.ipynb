{
 "cells": [
  {
   "cell_type": "code",
   "execution_count": 1,
   "metadata": {},
   "outputs": [
    {
     "name": "stderr",
     "output_type": "stream",
     "text": [
      "2024-01-30 15:30:04.819809: I tensorflow/core/platform/cpu_feature_guard.cc:182] This TensorFlow binary is optimized to use available CPU instructions in performance-critical operations.\n",
      "To enable the following instructions: AVX2 AVX512F FMA, in other operations, rebuild TensorFlow with the appropriate compiler flags.\n",
      "2024-01-30 15:30:06.728378: W tensorflow/compiler/tf2tensorrt/utils/py_utils.cc:38] TF-TRT Warning: Could not find TensorRT\n"
     ]
    }
   ],
   "source": [
    "import tensorflow as tf\n",
    "tf.config.set_visible_devices([], device_type='GPU')"
   ]
  },
  {
   "cell_type": "code",
   "execution_count": 2,
   "metadata": {},
   "outputs": [
    {
     "name": "stderr",
     "output_type": "stream",
     "text": [
      "No GPU/TPU found, falling back to CPU. (Set TF_CPP_MIN_LOG_LEVEL=0 and rerun for more info.)\n"
     ]
    }
   ],
   "source": [
    "import os\n",
    "# os.environ[\"CUDA_VISIBLE_DEVICES\"] = \"-1\"\n",
    "from tqdm.auto import tqdm\n",
    "\n",
    "from typing import Any, Callable, Sequence, Union\n",
    "import numpy as np\n",
    "import scipy.stats as stats\n",
    "\n",
    "import tensorflow as tf\n",
    "tf.config.set_visible_devices([], device_type='GPU')\n",
    "\n",
    "import jax\n",
    "from jax import lax, random, numpy as jnp\n",
    "import flax\n",
    "from flax.core import freeze, unfreeze, FrozenDict\n",
    "from flax import linen as nn\n",
    "from flax import struct\n",
    "from flax.training import train_state\n",
    "from flax.training import orbax_utils\n",
    "\n",
    "import optax\n",
    "import orbax.checkpoint\n",
    "\n",
    "from clu import metrics\n",
    "from ml_collections import ConfigDict\n",
    "\n",
    "from einops import reduce, rearrange\n",
    "import wandb\n",
    "\n",
    "from iqadatasets.datasets import *\n",
    "from fxlayers.layers import *\n",
    "from fxlayers.layers import GaborLayerLogSigma_, GaussianLayerGamma, FreqGaussianGamma, OrientGaussianGamma\n",
    "from fxlayers.initializers import *\n",
    "from JaxPlayground.utils.constraints import *\n",
    "from JaxPlayground.utils.wandb import *"
   ]
  },
  {
   "cell_type": "code",
   "execution_count": 3,
   "metadata": {},
   "outputs": [],
   "source": [
    "# dst_train = TID2008(\"/lustre/ific.uv.es/ml/uv075/Databases/IQA//TID/TID2008/\", exclude_imgs=[25])\n",
    "# dst_val = TID2013(\"/lustre/ific.uv.es/ml/uv075/Databases/IQA//TID/TID2013/\", exclude_imgs=[25])\n",
    "# dst_train = TID2008(\"/media/disk/databases/BBDD_video_image/Image_Quality//TID/TID2008/\", exclude_imgs=[25])\n",
    "# dst_val = TID2013(\"/media/disk/databases/BBDD_video_image/Image_Quality//TID/TID2013/\", exclude_imgs=[25])\n",
    "# dst = KADIK10K(\"/media/disk/databases/BBDD_video_image/Image_Quality/KADIK10K/\")\n",
    "# dst = PIPAL(\"/media/disk/databases/BBDD_video_image/Image_Quality/PIPAL/\")\n",
    "# dst = PIPAL(\"/lustre/ific.uv.es/ml/uv075/Databases/IQA/PIPAL/\")\n",
    "dst = BAPPS(\"/lustre/ific.uv.es/ml/uv075/Databases/IQA/BAPPS/\")"
   ]
  },
  {
   "cell_type": "code",
   "execution_count": 1,
   "metadata": {},
   "outputs": [
    {
     "data": {
      "text/plain": [
       "(TensorShape([252, 252, 3]),\n",
       " TensorShape([252, 252, 3]),\n",
       " TensorShape([252, 252, 3]),\n",
       " TensorShape([]))"
      ]
     },
     "execution_count": 1,
     "metadata": {},
     "output_type": "execute_result"
    }
   ],
   "source": [
    "img, img_dist_0, img_dist_1, label = next(iter(dst.dataset))\n",
    "img.shape, img_dist_0.shape, img_dist_1.shape, label.shape"
   ]
  },
  {
   "cell_type": "code",
   "execution_count": 5,
   "metadata": {},
   "outputs": [],
   "source": [
    "# id = \"t71plb39\"\n",
    "# id = \"0udemln0\" # J&H init\n",
    "# id = \"1gegnzhb\" # 16O NoA\n",
    "# id = \"x9wpdonj\" # 16O A\n",
    "id = \"o77ngu84\" # 128 Gabor_Free_A"
   ]
  },
  {
   "cell_type": "code",
   "execution_count": 6,
   "metadata": {},
   "outputs": [],
   "source": [
    "api = wandb.Api()\n",
    "prev_run = api.run(f\"jorgvt/PerceptNet_v15/{id}\")"
   ]
  },
  {
   "cell_type": "code",
   "execution_count": 2,
   "metadata": {},
   "outputs": [
    {
     "data": {
      "text/plain": [
       "A_GABOR: true\n",
       "A_GDNSPATIOFREQORIENT: true\n",
       "BATCH_SIZE: 64\n",
       "CS_KERNEL_SIZE: 21\n",
       "EPOCHS: 500\n",
       "GABOR_KERNEL_SIZE: 31\n",
       "GDNGAUSSIAN_KERNEL_SIZE: 11\n",
       "GDN_CLIPPING: true\n",
       "INIT_JH: true\n",
       "LEARNING_RATE: 0.003\n",
       "NORMALIZE_ENERGY: true\n",
       "NORMALIZE_PROB: false\n",
       "N_GABORS: 128\n",
       "SEED: 42\n",
       "USE_BIAS: false\n",
       "ZERO_MEAN: true"
      ]
     },
     "execution_count": 2,
     "metadata": {},
     "output_type": "execute_result"
    }
   ],
   "source": [
    "config = ConfigDict(prev_run.config[\"_fields\"])\n",
    "config"
   ]
  },
  {
   "cell_type": "code",
   "execution_count": 8,
   "metadata": {},
   "outputs": [],
   "source": [
    "for file in prev_run.files():\n",
    "    file.download(root=prev_run.dir, replace=True)"
   ]
  },
  {
   "cell_type": "code",
   "execution_count": 3,
   "metadata": {},
   "outputs": [
    {
     "name": "stderr",
     "output_type": "stream",
     "text": [
      "wandb: Currently logged in as: jorgvt. Use `wandb login --relogin` to force relogin\n",
      "wandb: wandb version 0.16.3 is available!  To upgrade, please run:\n",
      "wandb:  $ pip install wandb --upgrade\n",
      "wandb: Tracking run with wandb version 0.15.1\n",
      "wandb: Run data is saved locally in /lhome/ext/uv075/uv0752/perceptnet/Notebooks/13_JaX/13_07_V19_GaborFree/wandb/run-20240214_111039-omedg25l\n",
      "wandb: Run `wandb offline` to turn off syncing.\n",
      "wandb: Syncing run V19_128GaborFree_A\n",
      "wandb:  View project at https://wandb.ai/jorgvt/PerceptNet_JaX_Eval\n",
      "wandb:  View run at https://wandb.ai/jorgvt/PerceptNet_JaX_Eval/runs/omedg25l\n"
     ]
    },
    {
     "data": {
      "text/plain": [
       "A_GABOR: true\n",
       "A_GDNSPATIOFREQORIENT: true\n",
       "BATCH_SIZE: 64\n",
       "CS_KERNEL_SIZE: 21\n",
       "EPOCHS: 500\n",
       "GABOR_KERNEL_SIZE: 31\n",
       "GDNGAUSSIAN_KERNEL_SIZE: 11\n",
       "GDN_CLIPPING: true\n",
       "INIT_JH: true\n",
       "LEARNING_RATE: 0.003\n",
       "NORMALIZE_ENERGY: true\n",
       "NORMALIZE_PROB: false\n",
       "N_GABORS: 128\n",
       "SEED: 42\n",
       "USE_BIAS: false\n",
       "ZERO_MEAN: true"
      ]
     },
     "execution_count": 3,
     "metadata": {},
     "output_type": "execute_result"
    }
   ],
   "source": [
    "wandb.init(project=\"PerceptNet_JaX_Eval\",\n",
    "           name=prev_run.name,\n",
    "           job_type=\"evaluate\",\n",
    "           mode=\"online\",\n",
    "           )\n",
    "config = config\n",
    "config"
   ]
  },
  {
   "cell_type": "code",
   "execution_count": 10,
   "metadata": {},
   "outputs": [],
   "source": [
    "dst_rdy = dst.dataset.batch(config.BATCH_SIZE, num_parallel_calls=tf.data.AUTOTUNE)"
   ]
  },
  {
   "cell_type": "markdown",
   "metadata": {},
   "source": [
    "## Define the model we're going to use\n",
    "\n",
    "> It's going to be a very simple model just for demonstration purposes."
   ]
  },
  {
   "cell_type": "code",
   "execution_count": 11,
   "metadata": {},
   "outputs": [],
   "source": [
    "#| exporti\n",
    "class FreqOrientGaussianGamma(nn.Module):\n",
    "    \"\"\"(1D) Gaussian interaction between frequencies and orientations optimizing gamma = 1/sigma instead of sigma.\"\"\"\n",
    "    use_bias: bool = False\n",
    "    strides: int = 1\n",
    "    padding: str = \"SAME\"\n",
    "    bias_init: Callable = nn.initializers.zeros_init()\n",
    "\n",
    "    @nn.compact\n",
    "    def __call__(self,\n",
    "                 inputs,\n",
    "                 fmean,\n",
    "                 theta_mean,\n",
    "                 **kwargs,\n",
    "                 ):\n",
    "        gamma_f = self.param(\"gamma_f\",\n",
    "                             k_array(1/0.4, arr=fmean),\n",
    "                             (inputs.shape[-1],))\n",
    "        gamma_theta = self.param(\"gamma_theta\",\n",
    "                                 equal_to(jnp.ones(shape=(len(theta_mean),)) * 20),\n",
    "                                 (inputs.shape[-1],))\n",
    "        if self.use_bias: bias = self.param(\"bias\",\n",
    "                                            self.bias_init,\n",
    "                                            (len(fmean),))\n",
    "        else: bias = 0.\n",
    "        # n_groups = inputs.shape[-1] // len(fmean)\n",
    "        kernel = jax.vmap(self.gaussian, in_axes=(None,None,0,0,0,0,None), out_axes=1)(fmean, theta_mean, fmean, theta_mean, gamma_f, gamma_theta, 1)\n",
    "        kernel = kernel[None,None,:,:]\n",
    "        # kernel = jnp.tile(kernel, reps=n_groups)\n",
    "\n",
    "        ## Add the batch dim if the input is a single element\n",
    "        if jnp.ndim(inputs) < 4: inputs = inputs[None,:]; had_batch = False\n",
    "        else: had_batch = True\n",
    "        outputs = lax.conv_general_dilated(\n",
    "                jnp.transpose(inputs,[0,3,1,2]),    # lhs = NCHW image tensor\n",
    "                jnp.transpose(kernel,[3,2,0,1]), # rhs = OIHW conv kernel tensor\n",
    "                (self.strides, self.strides),\n",
    "                self.padding)\n",
    "        ## Move the channels back to the last dim\n",
    "        outputs = jnp.transpose(outputs, (0,2,3,1))\n",
    "        if not had_batch: outputs = outputs[0]\n",
    "        return outputs + bias\n",
    "\n",
    "    @staticmethod\n",
    "    def gaussian(f, theta, fmean, theta_mean, gamma_f, gamma_theta, A=1):\n",
    "        return A*jnp.exp(-((gamma_f**2)*(f-fmean)**2)/(2))*jnp.exp(-((gamma_theta**2)*(theta-theta_mean)**2)/(2))"
   ]
  },
  {
   "cell_type": "code",
   "execution_count": 12,
   "metadata": {},
   "outputs": [],
   "source": [
    "class GDNSpatioFreqOrient(nn.Module):\n",
    "    \"\"\"Generalized Divisive Normalization.\"\"\"\n",
    "    kernel_size: Union[int, Sequence[int]]\n",
    "    strides: int = 1\n",
    "    padding: str = \"SAME\"\n",
    "    # inputs_star: float = 1.\n",
    "    # outputs_star: Union[None, float] = None\n",
    "    fs: int = 1\n",
    "    apply_independently: bool = False\n",
    "    bias_init: Callable = nn.initializers.ones_init()\n",
    "    alpha: float = 2.\n",
    "    epsilon: float = 1/2 # Exponential of the denominator\n",
    "    eps: float = 1e-6 # Numerical stability in the denominator\n",
    "\n",
    "    @nn.compact\n",
    "    def __call__(self,\n",
    "                 inputs,\n",
    "                 fmean,\n",
    "                 theta_mean,\n",
    "                 train=False,\n",
    "                 ):\n",
    "        b, h, w, c = inputs.shape\n",
    "        bias = self.param(\"bias\",\n",
    "                          #equal_to(inputs_star/10),\n",
    "                          self.bias_init,\n",
    "                          (c,))\n",
    "        # is_initialized = self.has_variable(\"batch_stats\", \"inputs_star\")\n",
    "        # inputs_star = self.variable(\"batch_stats\", \"inputs_star\", lambda x: jnp.ones(x)*self.inputs_star, (len(self.inputs_star),))\n",
    "        # inputs_star_ = jnp.ones_like(inputs)*inputs_star.value\n",
    "        GL = GaussianLayerGamma(features=c, kernel_size=self.kernel_size, strides=self.strides, padding=\"VALID\", fs=self.fs, xmean=self.kernel_size/self.fs/2, ymean=self.kernel_size/self.fs/2, normalize_prob=config.NORMALIZE_PROB, normalize_energy=config.NORMALIZE_ENERGY, use_bias=False, feature_group_count=c)\n",
    "        FOG = FreqOrientGaussianGamma()\n",
    "        outputs = GL(pad_same_from_kernel_size(inputs, kernel_size=self.kernel_size, mode=self.padding)**self.alpha, train=train)#/(self.kernel_size**2)\n",
    "        outputs = FOG(outputs, fmean=fmean, theta_mean=theta_mean)\n",
    "\n",
    "        ## Coef\n",
    "        # coef = GL(inputs_star_**self.alpha, train=train)#/(self.kernel_size**2)\n",
    "        # coef = FG(coef, fmean=fmean)\n",
    "        # coef = rearrange(coef, \"b h w (phase theta f) -> b h w (phase f theta)\", b=b, h=h, w=w, phase=2, f=config.N_SCALES, theta=config.N_ORIENTATIONS)\n",
    "        # coef = OG(coef, theta_mean=theta_mean) + bias\n",
    "        # coef = rearrange(coef, \"b h w (phase f theta) -> b h w (phase theta f)\", b=b, h=h, w=w, phase=2, f=config.N_SCALES, theta=config.N_ORIENTATIONS)\n",
    "        # coef = jnp.clip(coef+bias, a_min=1e-5)**self.epsilon\n",
    "        # # coef = inputs_star.value * coef\n",
    "        # if self.outputs_star is not None: coef = coef/inputs_star.value*self.outputs_star\n",
    "\n",
    "        # if is_initialized and train:\n",
    "        #     inputs_star.value = (inputs_star.value + jnp.quantile(jnp.abs(inputs), q=0.95, axis=(0,1,2)))/2\n",
    "        # return coef * inputs / (jnp.clip(denom+bias, a_min=1e-5)**self.epsilon + self.eps)\n",
    "        return inputs / (jnp.clip(outputs+bias, a_min=1e-5)**self.epsilon + self.eps)"
   ]
  },
  {
   "cell_type": "code",
   "execution_count": 13,
   "metadata": {},
   "outputs": [],
   "source": [
    "class PerceptNet(nn.Module):\n",
    "    \"\"\"IQA model inspired by the visual system.\"\"\"\n",
    "\n",
    "    @nn.compact\n",
    "    def __call__(self,\n",
    "                 inputs, # Assuming fs = 128 (cpd)\n",
    "                 **kwargs,\n",
    "                 ):\n",
    "        ## (Independent) Color equilibration (Gamma correction)\n",
    "        ## Might need to be the same for each number\n",
    "        ## bias = 0.1 / kernel = 0.5\n",
    "        outputs = GDN(kernel_size=(1,1), apply_independently=True)(inputs)\n",
    "        \n",
    "        ## Color (ATD) Transformation\n",
    "        outputs = nn.Conv(features=3, kernel_size=(1,1), use_bias=False)(outputs)\n",
    "        outputs = nn.max_pool(outputs, window_shape=(2,2), strides=(2,2))\n",
    "        \n",
    "        ## GDN Star A - T - D [Separated]\n",
    "        outputs = GDN(kernel_size=(1,1), apply_independently=True)(outputs)\n",
    "\n",
    "        ## Center Surround (DoG)\n",
    "        ## Initialized so that 3 are positives and 3 are negatives and no interaction between channels is present\n",
    "        outputs = pad_same_from_kernel_size(outputs, kernel_size=config.CS_KERNEL_SIZE, mode=\"symmetric\")\n",
    "        outputs = CenterSurroundLogSigmaK(features=3, kernel_size=config.CS_KERNEL_SIZE, fs=21, use_bias=False, padding=\"VALID\")(outputs, **kwargs)\n",
    "        outputs = nn.max_pool(outputs, window_shape=(2,2), strides=(2,2))\n",
    "\n",
    "        ## GDN per channel with mean substraction in T and D (Spatial Gaussian Kernel)\n",
    "        ### fs = 32 / kernel_size = (11,11) -> 0.32 > 0.02 --> OK!\n",
    "        ## TO-DO: - Spatial Gaussian Kernel (0.02 deg) -> fs = 64/2 & 0.02*64/2 = sigma (px) = 0.69\n",
    "        outputs = GDNGaussian(kernel_size=config.GDNGAUSSIAN_KERNEL_SIZE, apply_independently=True, fs=32, padding=\"symmetric\", normalize_prob=config.NORMALIZE_PROB, normalize_energy=config.NORMALIZE_ENERGY)(outputs, **kwargs)\n",
    "\n",
    "        ## GaborLayer per channel with GDN mixing only same-origin-channel information\n",
    "        ### [Gaussian] sigma = 0.2 (deg) fs = 32 / kernel_size = (21,21) -> 21/32 = 0.66 --> OK!\n",
    "        outputs = pad_same_from_kernel_size(outputs, kernel_size=config.GABOR_KERNEL_SIZE, mode=\"symmetric\")\n",
    "        outputs, fmean, theta_mean = GaborLayerGammaRepeat(features=config.N_GABORS, kernel_size=config.GABOR_KERNEL_SIZE, fs=32, xmean=config.GABOR_KERNEL_SIZE/32/2, ymean=config.GABOR_KERNEL_SIZE/32/2, strides=1, padding=\"VALID\", normalize_prob=config.NORMALIZE_PROB, normalize_energy=config.NORMALIZE_ENERGY, zero_mean=config.ZERO_MEAN, use_bias=config.USE_BIAS, train_A=config.A_GABOR)(outputs, return_freq=True, return_theta=True, **kwargs)\n",
    "        \n",
    "        ## Final GDN mixing Gabor information (?)\n",
    "        outputs = GDNSpatioFreqOrient(kernel_size=21, strides=1, padding=\"symmetric\", fs=32, apply_independently=False)(outputs, fmean=fmean, theta_mean=theta_mean, **kwargs)\n",
    "\n",
    "        return outputs"
   ]
  },
  {
   "cell_type": "markdown",
   "metadata": {},
   "source": [
    "## Define the metrics with `clu`"
   ]
  },
  {
   "cell_type": "code",
   "execution_count": 14,
   "metadata": {},
   "outputs": [],
   "source": [
    "@struct.dataclass\n",
    "class Metrics(metrics.Collection):\n",
    "    \"\"\"Collection of metrics to be tracked during training.\"\"\"\n",
    "    loss: metrics.Average.from_output(\"loss\")"
   ]
  },
  {
   "cell_type": "markdown",
   "metadata": {},
   "source": [
    "By default, `TrainState` doesn't include metrics, but it's very easy to subclass it so that it does:"
   ]
  },
  {
   "cell_type": "code",
   "execution_count": 15,
   "metadata": {},
   "outputs": [],
   "source": [
    "class TrainState(train_state.TrainState):\n",
    "    metrics: Metrics\n",
    "    state: FrozenDict"
   ]
  },
  {
   "cell_type": "markdown",
   "metadata": {},
   "source": [
    "We'll define a function that initializes the `TrainState` from a module, a rng key and some optimizer:"
   ]
  },
  {
   "cell_type": "code",
   "execution_count": 16,
   "metadata": {},
   "outputs": [],
   "source": [
    "def create_train_state(module, key, tx, input_shape):\n",
    "    \"\"\"Creates the initial `TrainState`.\"\"\"\n",
    "    variables = module.init(key, jnp.ones(input_shape))\n",
    "    state, params = variables.pop('params')\n",
    "    return TrainState.create(\n",
    "        apply_fn=module.apply,\n",
    "        params=params,\n",
    "        state=state,\n",
    "        tx=tx,\n",
    "        metrics=Metrics.empty()\n",
    "    )"
   ]
  },
  {
   "cell_type": "markdown",
   "metadata": {},
   "source": [
    "## Define evaluation step"
   ]
  },
  {
   "cell_type": "code",
   "execution_count": 61,
   "metadata": {},
   "outputs": [],
   "source": [
    "@jax.jit\n",
    "def compute_distance(*, state, batch):\n",
    "    \"\"\"Obtaining the metrics for a given batch.\"\"\"\n",
    "    img, img_dist_0, img_dist_1, label = batch\n",
    "    \n",
    "    ## Forward pass through the model\n",
    "    img_pred = state.apply_fn({\"params\": state.params, **state.state}, img, train=False)\n",
    "    img_dist_0_pred = state.apply_fn({\"params\": state.params, **state.state}, img_dist_0, train=False)\n",
    "    img_dist_1_pred = state.apply_fn({\"params\": state.params, **state.state}, img_dist_1, train=False)\n",
    "\n",
    "    ## Calculate the distance\n",
    "    dist_0 = ((img_pred - img_dist_0_pred)**2).sum(axis=(1,2,3))**(1/2)\n",
    "    dist_1 = ((img_pred - img_dist_1_pred)**2).sum(axis=(1,2,3))**(1/2)\n",
    "    \n",
    "    ## Calculate label from distances\n",
    "    label = jnp.where(dist_0 < dist_1, 0, 1)\n",
    "    \n",
    "    ## Return predicted label & distances\n",
    "    return label, dist_0, dist_1"
   ]
  },
  {
   "cell_type": "markdown",
   "metadata": {},
   "source": [
    "## Load the pretrained model!"
   ]
  },
  {
   "cell_type": "code",
   "execution_count": 18,
   "metadata": {},
   "outputs": [],
   "source": [
    "state = create_train_state(PerceptNet(), random.PRNGKey(config.SEED), optax.adam(config.LEARNING_RATE), input_shape=(1,384,512,3))"
   ]
  },
  {
   "cell_type": "code",
   "execution_count": 19,
   "metadata": {},
   "outputs": [],
   "source": [
    "def check_trainable(path):\n",
    "    return False\n",
    "    # return (\"A\" in path) or (\"alpha_achrom\" in path) or (\"alpha_chrom_rg\" in path) or (\"alpha_chrom_yb\" in path)"
   ]
  },
  {
   "cell_type": "code",
   "execution_count": 20,
   "metadata": {},
   "outputs": [],
   "source": [
    "trainable_tree = freeze(flax.traverse_util.path_aware_map(lambda path, v: \"non_trainable\" if check_trainable(path)  else \"trainable\", state.params))"
   ]
  },
  {
   "cell_type": "code",
   "execution_count": 4,
   "metadata": {},
   "outputs": [
    {
     "data": {
      "text/plain": [
       "(1849, 1849)"
      ]
     },
     "execution_count": 4,
     "metadata": {},
     "output_type": "execute_result"
    }
   ],
   "source": [
    "param_count = sum(x.size for x in jax.tree_util.tree_leaves(state.params))\n",
    "trainable_param_count = sum([w.size if t==\"trainable\" else 0 for w, t in zip(jax.tree_util.tree_leaves(state.params), jax.tree_util.tree_leaves(trainable_tree))])\n",
    "param_count, trainable_param_count"
   ]
  },
  {
   "cell_type": "code",
   "execution_count": 22,
   "metadata": {},
   "outputs": [],
   "source": [
    "wandb.run.summary[\"total_parameters\"] = param_count\n",
    "wandb.run.summary[\"trainable_parameters\"] = trainable_param_count"
   ]
  },
  {
   "cell_type": "code",
   "execution_count": 23,
   "metadata": {},
   "outputs": [],
   "source": [
    "optimizers = {\n",
    "    \"trainable\": optax.adam(learning_rate=config.LEARNING_RATE),\n",
    "    \"non_trainable\": optax.set_to_zero(),\n",
    "}"
   ]
  },
  {
   "cell_type": "code",
   "execution_count": 24,
   "metadata": {},
   "outputs": [],
   "source": [
    "tx = optax.multi_transform(optimizers, trainable_tree)"
   ]
  },
  {
   "cell_type": "code",
   "execution_count": 25,
   "metadata": {},
   "outputs": [],
   "source": [
    "state = create_train_state(PerceptNet(), random.PRNGKey(config.SEED), tx, input_shape=(1,384,512,3))"
   ]
  },
  {
   "cell_type": "code",
   "execution_count": 26,
   "metadata": {},
   "outputs": [],
   "source": [
    "# Before actually training the model we're going to set up the checkpointer to be able to save our trained models:\n",
    "orbax_checkpointer = orbax.checkpoint.PyTreeCheckpointer()\n",
    "save_args = orbax_utils.save_args_from_target(state)"
   ]
  },
  {
   "cell_type": "code",
   "execution_count": 27,
   "metadata": {},
   "outputs": [],
   "source": [
    "# Load weights\n",
    "state = orbax_checkpointer.restore(os.path.join(prev_run.dir,\"model-best\"), item=state)"
   ]
  },
  {
   "cell_type": "markdown",
   "metadata": {},
   "source": [
    "## Evaluate!"
   ]
  },
  {
   "cell_type": "code",
   "execution_count": 62,
   "metadata": {},
   "outputs": [],
   "source": [
    "metrics_history = {\n",
    "    \"pred_label\": [],\n",
    "    \"true_label\": [],\n",
    "}"
   ]
  },
  {
   "cell_type": "code",
   "execution_count": 63,
   "metadata": {},
   "outputs": [],
   "source": [
    "distances = {\n",
    "    \"dist_0\": [],\n",
    "    \"dist_1\": [],\n",
    "}"
   ]
  },
  {
   "cell_type": "code",
   "execution_count": 64,
   "metadata": {},
   "outputs": [
    {
     "name": "stdout",
     "output_type": "stream",
     "text": [
      "CPU times: user 6min 18s, sys: 2min 15s, total: 8min 33s\n",
      "Wall time: 2min 18s\n"
     ]
    },
    {
     "name": "stderr",
     "output_type": "stream",
     "text": [
      "\r",
      "0it [00:00, ?it/s]\r",
      "1it [00:14, 14.91s/it]\r",
      "4it [00:15,  2.89s/it]\r",
      "7it [00:15,  1.41s/it]\r",
      "11it [00:15,  1.40it/s]\r",
      "14it [00:16,  1.98it/s]\r",
      "16it [00:16,  2.44it/s]\r",
      "18it [00:16,  2.99it/s]\r",
      "20it [00:16,  3.61it/s]\r",
      "22it [00:17,  4.27it/s]\r",
      "23it [00:17,  4.64it/s]\r",
      "24it [00:17,  5.05it/s]\r",
      "25it [00:17,  5.47it/s]\r",
      "26it [00:17,  5.95it/s]\r",
      "27it [00:17,  6.37it/s]\r",
      "28it [00:17,  6.75it/s]\r",
      "29it [00:17,  7.07it/s]\r",
      "31it [00:18,  9.15it/s]\r",
      "33it [00:18,  8.82it/s]\r",
      "34it [00:18,  8.70it/s]\r",
      "35it [00:18,  8.36it/s]\r",
      "36it [00:18,  8.34it/s]\r",
      "37it [00:18,  8.19it/s]\r",
      "38it [00:18,  8.16it/s]\r",
      "39it [00:19,  6.48it/s]\r",
      "40it [00:19,  6.61it/s]\r",
      "41it [00:19,  7.26it/s]\r",
      "42it [00:19,  6.63it/s]\r",
      "44it [00:19,  6.98it/s]\r",
      "45it [00:20,  6.22it/s]\r",
      "46it [00:20,  5.74it/s]\r",
      "47it [00:20,  5.59it/s]\r",
      "48it [00:20,  5.53it/s]\r",
      "49it [00:20,  5.46it/s]\r",
      "50it [00:21,  5.72it/s]\r",
      "51it [00:21,  5.96it/s]\r",
      "52it [00:21,  6.10it/s]\r",
      "53it [00:21,  6.36it/s]\r",
      "54it [00:21,  6.48it/s]\r",
      "55it [00:21,  6.47it/s]\r",
      "56it [00:21,  6.61it/s]\r",
      "57it [00:22,  6.52it/s]\r",
      "58it [00:22,  7.13it/s]\r",
      "59it [00:22,  6.70it/s]\r",
      "60it [00:22,  6.73it/s]\r",
      "61it [00:22,  6.70it/s]\r",
      "62it [00:22,  6.41it/s]\r",
      "63it [00:22,  6.02it/s]\r",
      "64it [00:23,  5.89it/s]\r",
      "65it [00:23,  5.72it/s]\r",
      "68it [00:23, 10.07it/s]\r",
      "70it [00:23, 10.41it/s]\r",
      "72it [00:23, 10.51it/s]\r",
      "74it [00:24,  9.57it/s]\r",
      "76it [00:24, 10.97it/s]\r",
      "78it [00:24,  9.87it/s]\r",
      "80it [00:24,  9.08it/s]\r",
      "81it [00:24,  7.54it/s]\r",
      "83it [00:25,  9.17it/s]\r",
      "85it [00:25,  8.65it/s]\r",
      "86it [00:25,  8.68it/s]\r",
      "87it [00:25,  8.39it/s]\r",
      "88it [00:25,  8.31it/s]\r",
      "89it [00:25,  8.45it/s]\r",
      "90it [00:26,  4.16it/s]\r",
      "92it [00:26,  6.05it/s]\r",
      "95it [00:26,  9.02it/s]\r",
      "97it [00:26,  8.70it/s]\r",
      "99it [00:27,  9.11it/s]\r",
      "101it [00:27,  9.70it/s]\r",
      "103it [00:27,  9.14it/s]\r",
      "105it [00:27,  8.79it/s]\r",
      "106it [00:27,  8.65it/s]\r",
      "107it [00:28,  8.52it/s]\r",
      "108it [00:28,  8.42it/s]\r",
      "109it [00:28,  8.32it/s]\r",
      "110it [00:28,  8.06it/s]\r",
      "111it [00:28,  8.07it/s]\r",
      "112it [00:28,  8.25it/s]\r",
      "113it [00:28,  8.01it/s]\r",
      "114it [00:28,  7.66it/s]\r",
      "115it [00:29,  6.30it/s]\r",
      "116it [00:29,  6.89it/s]\r",
      "117it [00:29,  6.51it/s]\r",
      "118it [00:29,  6.50it/s]\r",
      "119it [00:29,  6.72it/s]\r",
      "120it [00:29,  6.82it/s]\r",
      "122it [00:30,  8.00it/s]\r",
      "124it [00:30,  8.91it/s]\r",
      "125it [00:30,  8.71it/s]\r",
      "126it [00:30,  8.53it/s]\r",
      "127it [00:30,  8.42it/s]\r",
      "128it [00:30,  8.24it/s]\r",
      "129it [00:30,  7.98it/s]\r",
      "131it [00:31,  8.71it/s]\r",
      "133it [00:31,  8.58it/s]\r",
      "134it [00:31,  7.81it/s]\r",
      "135it [00:31,  7.99it/s]\r",
      "136it [00:31,  8.01it/s]\r",
      "138it [00:31, 10.12it/s]\r",
      "140it [00:32, 10.70it/s]\r",
      "142it [00:32,  8.51it/s]\r",
      "143it [00:32,  8.41it/s]\r",
      "144it [00:32,  8.33it/s]\r",
      "145it [00:32,  8.08it/s]\r",
      "146it [00:32,  8.14it/s]\r",
      "147it [00:33,  8.07it/s]\r",
      "148it [00:33,  8.05it/s]\r",
      "149it [00:33,  8.07it/s]\r",
      "150it [00:33,  6.40it/s]\r",
      "151it [00:33,  6.81it/s]\r",
      "153it [00:33,  7.33it/s]\r",
      "154it [00:34,  7.49it/s]\r",
      "155it [00:34,  7.64it/s]\r",
      "156it [00:34,  7.57it/s]\r",
      "158it [00:34,  9.98it/s]\r",
      "160it [00:34, 10.00it/s]\r",
      "162it [00:34, 10.60it/s]\r",
      "164it [00:35,  7.92it/s]\r",
      "165it [00:35,  7.99it/s]\r",
      "166it [00:35,  7.91it/s]\r",
      "167it [00:35,  7.94it/s]\r",
      "168it [00:35,  7.97it/s]\r",
      "169it [00:35,  8.00it/s]\r",
      "170it [00:35,  8.23it/s]\r",
      "171it [00:36,  7.94it/s]\r",
      "172it [00:36,  8.01it/s]\r",
      "173it [00:36,  8.03it/s]\r",
      "174it [00:36,  8.04it/s]\r",
      "175it [00:36,  8.05it/s]\r",
      "176it [00:36,  8.05it/s]\r",
      "177it [00:36,  8.29it/s]\r",
      "178it [00:36,  7.99it/s]\r",
      "179it [00:37,  6.32it/s]\r",
      "181it [00:37,  7.02it/s]\r",
      "182it [00:37,  7.10it/s]\r",
      "183it [00:37,  7.50it/s]\r",
      "184it [00:37,  7.44it/s]\r",
      "185it [00:37,  7.82it/s]\r",
      "186it [00:37,  7.66it/s]\r",
      "188it [00:38, 10.06it/s]\r",
      "190it [00:38,  9.36it/s]\r",
      "191it [00:38,  9.05it/s]\r",
      "192it [00:38,  8.59it/s]\r",
      "193it [00:38,  8.46it/s]\r",
      "194it [00:38,  8.57it/s]\r",
      "195it [00:38,  8.42it/s]\r",
      "196it [00:39,  8.32it/s]\r",
      "197it [00:39,  8.03it/s]\r",
      "198it [00:39,  6.37it/s]\r",
      "199it [00:39,  6.78it/s]\r",
      "200it [00:39,  6.95it/s]\r",
      "201it [00:39,  7.25it/s]\r",
      "202it [00:39,  7.68it/s]\r",
      "204it [00:40,  9.86it/s]\r",
      "205it [00:40,  9.35it/s]\r",
      "206it [00:40,  8.98it/s]\r",
      "207it [00:40,  6.88it/s]\r",
      "208it [00:40,  7.01it/s]\r",
      "209it [00:40,  7.29it/s]\r",
      "210it [00:40,  7.50it/s]\r",
      "211it [00:41,  7.87it/s]\r",
      "213it [00:41, 10.25it/s]\r",
      "215it [00:41,  6.24it/s]\r",
      "217it [00:41,  8.18it/s]\r",
      "219it [00:41,  9.87it/s]\r",
      "221it [00:42,  9.21it/s]\r",
      "223it [00:42,  7.52it/s]\r",
      "224it [00:42,  7.61it/s]\r",
      "225it [00:42,  7.70it/s]\r",
      "226it [00:42,  7.78it/s]\r",
      "228it [00:43,  9.58it/s]\r",
      "230it [00:43,  9.14it/s]\r",
      "231it [00:43,  8.78it/s]\r",
      "232it [00:43,  8.54it/s]\r",
      "233it [00:43,  8.42it/s]\r",
      "234it [00:43,  8.32it/s]\r",
      "235it [00:43,  8.48it/s]\r",
      "237it [00:44,  8.28it/s]\r",
      "238it [00:44,  8.24it/s]\r",
      "239it [00:44,  8.20it/s]\r",
      "240it [00:44,  8.17it/s]\r",
      "241it [00:44,  7.93it/s]\r",
      "242it [00:44,  8.11it/s]\r",
      "243it [00:44,  8.16it/s]\r",
      "244it [00:45,  8.15it/s]\r",
      "245it [00:45,  8.11it/s]\r",
      "246it [00:45,  8.08it/s]\r",
      "247it [00:45,  7.86it/s]\r",
      "248it [00:45,  7.95it/s]\r",
      "249it [00:45,  7.94it/s]\r",
      "250it [00:45,  8.23it/s]\r",
      "251it [00:45,  8.19it/s]\r",
      "252it [00:46,  8.13it/s]\r",
      "253it [00:46,  7.91it/s]\r",
      "254it [00:46,  8.17it/s]\r",
      "255it [00:46,  7.87it/s]\r",
      "256it [00:46,  8.00it/s]\r",
      "257it [00:46,  6.32it/s]\r",
      "258it [00:46,  6.70it/s]\r",
      "259it [00:47,  6.95it/s]\r",
      "260it [00:47,  7.25it/s]\r",
      "261it [00:47,  7.68it/s]\r",
      "263it [00:47, 10.13it/s]\r",
      "265it [00:47,  9.20it/s]\r",
      "266it [00:47,  8.93it/s]\r",
      "267it [00:47,  8.50it/s]\r",
      "268it [00:48,  8.60it/s]\r",
      "269it [00:48,  8.45it/s]\r",
      "271it [00:48, 10.38it/s]\r",
      "273it [00:48,  7.75it/s]\r",
      "274it [00:48,  7.86it/s]\r",
      "275it [00:48,  7.73it/s]\r",
      "276it [00:49,  7.82it/s]\r",
      "277it [00:49,  7.87it/s]\r",
      "278it [00:49,  7.95it/s]\r",
      "279it [00:49,  6.89it/s]\r",
      "281it [00:49,  8.52it/s]\r",
      "282it [00:49,  8.42it/s]\r",
      "283it [00:49,  8.32it/s]\r",
      "284it [00:50,  8.12it/s]\r",
      "285it [00:50,  6.43it/s]\r",
      "286it [00:50,  6.63it/s]\r",
      "287it [00:50,  5.03it/s]\r",
      "288it [00:50,  4.50it/s]\r",
      "289it [00:51,  5.36it/s]\r",
      "290it [00:51,  5.39it/s]\r",
      "291it [00:51,  4.45it/s]\r",
      "292it [00:51,  5.23it/s]\r",
      "293it [00:51,  4.53it/s]\r",
      "294it [00:52,  4.50it/s]\r",
      "295it [00:52,  5.38it/s]\r",
      "296it [00:52,  4.55it/s]\r",
      "297it [00:52,  5.27it/s]\r",
      "298it [00:52,  4.71it/s]\r",
      "299it [00:53,  4.63it/s]\r",
      "300it [00:53,  4.52it/s]\r",
      "301it [00:53,  3.95it/s]\r",
      "302it [00:53,  4.79it/s]\r",
      "303it [00:54,  4.43it/s]\r",
      "304it [00:54,  4.25it/s]\r",
      "305it [00:54,  4.59it/s]\r",
      "306it [00:55,  3.47it/s]\r",
      "307it [00:55,  4.14it/s]\r",
      "308it [00:55,  4.73it/s]\r",
      "309it [00:55,  4.76it/s]\r",
      "310it [00:55,  4.77it/s]\r",
      "311it [00:55,  4.65it/s]\r",
      "312it [00:56,  5.40it/s]\r",
      "313it [00:56,  6.07it/s]\r",
      "314it [00:56,  4.59it/s]\r",
      "315it [00:56,  4.29it/s]\r",
      "316it [00:56,  4.99it/s]\r",
      "317it [00:57,  5.15it/s]\r",
      "318it [00:57,  4.34it/s]\r",
      "319it [00:57,  4.17it/s]\r",
      "320it [00:57,  3.97it/s]\r",
      "321it [00:58,  4.69it/s]\r",
      "322it [00:58,  4.51it/s]\r",
      "323it [00:58,  4.80it/s]\r",
      "324it [00:58,  5.25it/s]\r",
      "325it [00:58,  6.03it/s]\r",
      "326it [00:58,  6.09it/s]\r",
      "327it [00:59,  5.63it/s]\r",
      "328it [00:59,  6.25it/s]\r",
      "329it [00:59,  4.85it/s]\r",
      "330it [00:59,  4.25it/s]\r",
      "332it [01:00,  5.48it/s]\r",
      "333it [01:00,  4.86it/s]\r",
      "334it [01:00,  4.46it/s]\r",
      "335it [01:00,  4.79it/s]\r",
      "336it [01:01,  4.47it/s]\r",
      "337it [01:01,  4.68it/s]\r",
      "338it [01:01,  4.59it/s]\r",
      "339it [01:01,  4.51it/s]\r",
      "340it [01:02,  3.69it/s]\r",
      "342it [01:02,  4.73it/s]\r",
      "343it [01:02,  4.96it/s]\r",
      "344it [01:02,  4.71it/s]\r",
      "345it [01:02,  5.10it/s]\r",
      "346it [01:03,  5.29it/s]\r",
      "347it [01:03,  4.91it/s]\r",
      "348it [01:03,  4.39it/s]\r",
      "349it [01:03,  4.88it/s]\r",
      "350it [01:04,  4.75it/s]\r",
      "352it [01:04,  5.60it/s]\r",
      "353it [01:04,  5.41it/s]\r",
      "354it [01:04,  4.17it/s]\r",
      "355it [01:05,  4.61it/s]\r",
      "356it [01:05,  5.01it/s]\r",
      "357it [01:05,  5.14it/s]\r",
      "358it [01:05,  5.20it/s]\r",
      "359it [01:05,  5.23it/s]\r",
      "360it [01:06,  4.45it/s]\r",
      "361it [01:06,  4.47it/s]\r",
      "362it [01:06,  4.67it/s]\r",
      "363it [01:06,  4.41it/s]\r",
      "364it [01:06,  4.53it/s]\r",
      "365it [01:07,  3.81it/s]\r",
      "367it [01:07,  4.14it/s]\r",
      "368it [01:08,  4.08it/s]\r",
      "369it [01:08,  4.56it/s]\r",
      "370it [01:08,  4.64it/s]\r",
      "371it [01:08,  5.41it/s]\r",
      "372it [01:08,  4.66it/s]\r",
      "373it [01:08,  5.10it/s]\r",
      "374it [01:09,  4.94it/s]\r",
      "375it [01:09,  4.00it/s]\r",
      "376it [01:09,  4.74it/s]\r",
      "377it [01:09,  4.26it/s]\r",
      "378it [01:10,  4.35it/s]\r",
      "379it [01:10,  4.29it/s]\r",
      "380it [01:10,  4.02it/s]\r",
      "381it [01:10,  4.86it/s]\r",
      "382it [01:10,  5.21it/s]\r",
      "383it [01:11,  5.60it/s]\r",
      "384it [01:11,  4.93it/s]\r",
      "385it [01:11,  4.46it/s]\r",
      "386it [01:12,  3.45it/s]\r",
      "387it [01:12,  3.33it/s]\r",
      "388it [01:12,  3.74it/s]\r",
      "389it [01:12,  3.63it/s]\r",
      "390it [01:13,  3.96it/s]\r",
      "391it [01:13,  4.25it/s]\r",
      "392it [01:13,  4.74it/s]\r",
      "393it [01:13,  5.13it/s]\r",
      "394it [01:13,  5.36it/s]\r",
      "395it [01:14,  4.40it/s]\r",
      "396it [01:14,  4.24it/s]\r",
      "397it [01:14,  4.79it/s]\r",
      "398it [01:14,  4.29it/s]\r",
      "399it [01:14,  4.21it/s]\r",
      "400it [01:15,  4.34it/s]\r",
      "401it [01:15,  4.27it/s]\r",
      "402it [01:15,  4.39it/s]\r",
      "403it [01:16,  3.29it/s]\r",
      "404it [01:16,  3.15it/s]\r",
      "405it [01:16,  3.66it/s]\r",
      "406it [01:16,  3.75it/s]\r",
      "407it [01:17,  4.34it/s]\r",
      "408it [01:17,  4.86it/s]\r",
      "409it [01:17,  5.36it/s]\r",
      "410it [01:17,  5.60it/s]\r",
      "411it [01:17,  5.84it/s]\r",
      "412it [01:17,  6.59it/s]\r",
      "413it [01:17,  6.85it/s]\r",
      "414it [01:18,  5.95it/s]\r",
      "415it [01:18,  5.84it/s]\r",
      "416it [01:18,  5.67it/s]\r",
      "417it [01:18,  5.68it/s]\r",
      "418it [01:18,  6.37it/s]\r",
      "419it [01:18,  7.15it/s]\r",
      "420it [01:19,  7.19it/s]\r",
      "421it [01:19,  6.96it/s]\r",
      "422it [01:19,  6.27it/s]\r",
      "423it [01:19,  6.70it/s]\r",
      "424it [01:19,  6.98it/s]\r",
      "425it [01:19,  6.09it/s]\r",
      "426it [01:19,  6.58it/s]\r",
      "427it [01:20,  7.32it/s]\r",
      "428it [01:20,  7.81it/s]\r",
      "430it [01:20,  7.09it/s]\r",
      "431it [01:20,  6.73it/s]\r",
      "432it [01:20,  6.54it/s]\r",
      "433it [01:20,  6.39it/s]\r",
      "435it [01:21,  7.74it/s]\r",
      "436it [01:21,  7.38it/s]\r",
      "437it [01:21,  7.31it/s]\r",
      "438it [01:21,  5.49it/s]\r",
      "439it [01:21,  6.08it/s]\r",
      "440it [01:22,  5.42it/s]\r",
      "441it [01:22,  5.06it/s]\r",
      "442it [01:22,  4.91it/s]\r",
      "443it [01:22,  5.00it/s]\r",
      "444it [01:22,  5.22it/s]\r",
      "445it [01:23,  5.27it/s]\r",
      "446it [01:23,  4.90it/s]\r",
      "448it [01:23,  6.25it/s]\r",
      "449it [01:23,  6.04it/s]\r",
      "450it [01:23,  6.52it/s]\r",
      "451it [01:24,  6.47it/s]\r",
      "453it [01:24,  6.68it/s]\r",
      "454it [01:24,  6.99it/s]\r",
      "455it [01:24,  6.47it/s]\r",
      "456it [01:24,  6.86it/s]\r",
      "457it [01:25,  5.52it/s]\r",
      "459it [01:25,  6.51it/s]\r",
      "460it [01:25,  5.77it/s]\r",
      "462it [01:25,  5.65it/s]\r",
      "463it [01:26,  5.75it/s]\r",
      "464it [01:26,  5.59it/s]\r",
      "465it [01:26,  6.24it/s]\r",
      "466it [01:26,  5.94it/s]\r",
      "467it [01:26,  5.61it/s]\r",
      "468it [01:26,  5.83it/s]\r",
      "469it [01:26,  6.50it/s]\r",
      "470it [01:27,  5.89it/s]\r",
      "471it [01:27,  6.40it/s]\r",
      "472it [01:27,  6.89it/s]\r",
      "473it [01:27,  6.13it/s]\r",
      "474it [01:27,  5.49it/s]\r",
      "475it [01:28,  5.33it/s]\r",
      "476it [01:28,  5.92it/s]\r",
      "477it [01:28,  6.32it/s]\r",
      "478it [01:28,  5.75it/s]\r",
      "479it [01:28,  5.93it/s]\r",
      "480it [01:28,  5.62it/s]\r",
      "481it [01:29,  6.09it/s]\r",
      "483it [01:29,  8.26it/s]\r",
      "484it [01:29,  8.36it/s]\r",
      "486it [01:29,  7.04it/s]\r",
      "487it [01:29,  6.68it/s]\r",
      "488it [01:29,  6.69it/s]\r",
      "490it [01:30,  7.83it/s]\r",
      "491it [01:30,  7.78it/s]\r",
      "492it [01:30,  7.26it/s]\r",
      "493it [01:30,  6.91it/s]\r",
      "495it [01:30,  8.02it/s]\r",
      "496it [01:30,  7.30it/s]\r",
      "497it [01:31,  6.98it/s]\r",
      "498it [01:31,  5.43it/s]\r",
      "500it [01:31,  6.77it/s]\r",
      "502it [01:31,  8.65it/s]\r",
      "504it [01:31,  9.67it/s]\r",
      "506it [01:32, 10.59it/s]\r",
      "508it [01:32,  9.96it/s]\r",
      "510it [01:32,  9.25it/s]\r",
      "511it [01:32,  9.02it/s]\r",
      "512it [01:32,  8.81it/s]\r",
      "513it [01:32,  8.61it/s]\r",
      "514it [01:33,  8.50it/s]\r",
      "515it [01:33,  8.38it/s]\r",
      "516it [01:33,  8.31it/s]\r",
      "517it [01:33,  8.25it/s]\r",
      "518it [01:33,  8.19it/s]\r",
      "520it [01:33,  8.14it/s]\r",
      "521it [01:33,  8.10it/s]\r",
      "522it [01:34,  8.08it/s]\r",
      "523it [01:34,  7.87it/s]\r",
      "524it [01:34,  8.17it/s]\r",
      "525it [01:34,  8.16it/s]\r",
      "526it [01:34,  8.14it/s]\r",
      "527it [01:34,  8.12it/s]\r",
      "528it [01:34,  8.09it/s]\r",
      "529it [01:34,  8.10it/s]\r",
      "530it [01:35,  8.09it/s]\r",
      "531it [01:35,  8.08it/s]\r",
      "532it [01:35,  8.09it/s]\r",
      "533it [01:35,  8.09it/s]\r",
      "534it [01:35,  8.06it/s]\r",
      "535it [01:35,  8.09it/s]\r",
      "537it [01:35, 10.49it/s]\r",
      "539it [01:36,  9.39it/s]\r",
      "540it [01:36,  9.07it/s]\r",
      "541it [01:36,  8.56it/s]\r",
      "542it [01:36,  8.68it/s]\r",
      "543it [01:36,  8.44it/s]\r",
      "544it [01:36,  8.40it/s]\r",
      "545it [01:36,  8.31it/s]\r",
      "546it [01:36,  8.16it/s]\r",
      "547it [01:37,  7.98it/s]\r",
      "548it [01:37,  8.00it/s]\r",
      "549it [01:37,  8.24it/s]\r",
      "550it [01:37,  8.19it/s]\r",
      "551it [01:37,  8.17it/s]\r",
      "552it [01:37,  8.14it/s]\r",
      "553it [01:37,  7.90it/s]\r",
      "554it [01:38,  6.28it/s]\r",
      "555it [01:38,  6.71it/s]\r",
      "556it [01:38,  7.07it/s]\r",
      "557it [01:38,  7.36it/s]\r",
      "558it [01:38,  7.55it/s]\r",
      "560it [01:38, 10.02it/s]\r",
      "562it [01:38,  9.07it/s]\r",
      "563it [01:39,  8.78it/s]\r",
      "564it [01:39,  8.54it/s]\r",
      "565it [01:39,  8.62it/s]\r",
      "566it [01:39,  8.49it/s]\r",
      "567it [01:39,  8.38it/s]\r",
      "568it [01:50,  3.11s/it]\r",
      "568it [01:50,  5.16it/s]\n"
     ]
    }
   ],
   "source": [
    "%%time\n",
    "for batch in tqdm(dst_rdy.as_numpy_iterator()):\n",
    "    img, img_dist_0, img_dist_1, label = batch\n",
    "    pred_label, d0, d1 = compute_distance(state=state, batch=batch)\n",
    "    metrics_history[\"pred_label\"].extend(pred_label)\n",
    "    metrics_history[\"true_label\"].extend(label)\n",
    "    distances[\"dist_0\"].extend(d0)\n",
    "    distances[\"dist_1\"].extend(d1)\n",
    "    # break\n",
    "metrics_history[\"pred_label\"] = jnp.array(metrics_history[\"pred_label\"])\n",
    "metrics_history[\"true_label\"] = jnp.array(metrics_history[\"true_label\"])"
   ]
  },
  {
   "cell_type": "code",
   "execution_count": 47,
   "metadata": {},
   "outputs": [
    {
     "ename": "AssertionError",
     "evalue": "",
     "output_type": "error",
     "traceback": [
      "\u001b[0;31m---------------------------------------------------------------------------\u001b[0m",
      "\u001b[0;31mAssertionError\u001b[0m                            Traceback (most recent call last)",
      "Cell \u001b[0;32mIn[47], line 1\u001b[0m\n\u001b[0;32m----> 1\u001b[0m \u001b[38;5;28;01massert\u001b[39;00m \u001b[38;5;28mlen\u001b[39m(metrics_history[\u001b[38;5;124m\"\u001b[39m\u001b[38;5;124mpred_label\u001b[39m\u001b[38;5;124m\"\u001b[39m]) \u001b[38;5;241m==\u001b[39m \u001b[38;5;28mlen\u001b[39m(dst\u001b[38;5;241m.\u001b[39mdata)\n",
      "\u001b[0;31mAssertionError\u001b[0m: "
     ]
    }
   ],
   "source": [
    "assert len(metrics_history[\"pred_label\"]) == len(dst.data)"
   ]
  },
  {
   "cell_type": "code",
   "execution_count": 65,
   "metadata": {},
   "outputs": [],
   "source": [
    "def accuracy(a, b):\n",
    "    return jnp.sum(a == b)/len(a)"
   ]
  },
  {
   "cell_type": "code",
   "execution_count": 5,
   "metadata": {},
   "outputs": [
    {
     "data": {
      "text/plain": [
       "Array(0.63757426, dtype=float32)"
      ]
     },
     "execution_count": 5,
     "metadata": {},
     "output_type": "execute_result"
    }
   ],
   "source": [
    "accuracy(metrics_history[\"pred_label\"], metrics_history[\"true_label\"])"
   ]
  },
  {
   "cell_type": "code",
   "execution_count": 68,
   "metadata": {},
   "outputs": [
    {
     "ename": "<class 'ValueError'>",
     "evalue": "Length of values (36344) does not match length of index (64)",
     "output_type": "error",
     "traceback": [
      "\u001b[0;31m---------------------------------------------------------------------------\u001b[0m",
      "\u001b[0;31mValueError\u001b[0m                                Traceback (most recent call last)",
      "Cell \u001b[0;32mIn[1], line 2\u001b[0m\n\u001b[1;32m      1\u001b[0m results \u001b[38;5;241m=\u001b[39m dst\u001b[38;5;241m.\u001b[39mdata\u001b[38;5;241m.\u001b[39miloc[:\u001b[38;5;241m64\u001b[39m]\u001b[38;5;241m.\u001b[39mcopy()\n\u001b[0;32m----> 2\u001b[0m results[\u001b[38;5;124m\"\u001b[39m\u001b[38;5;124mDistance_0\u001b[39m\u001b[38;5;124m\"\u001b[39m] \u001b[38;5;241m=\u001b[39m distances[\u001b[38;5;124m\"\u001b[39m\u001b[38;5;124mdist_0\u001b[39m\u001b[38;5;124m\"\u001b[39m]\n\u001b[1;32m      3\u001b[0m results[\u001b[38;5;124m\"\u001b[39m\u001b[38;5;124mDistance_1\u001b[39m\u001b[38;5;124m\"\u001b[39m] \u001b[38;5;241m=\u001b[39m distances[\u001b[38;5;124m\"\u001b[39m\u001b[38;5;124mdist_1\u001b[39m\u001b[38;5;124m\"\u001b[39m]\n\u001b[1;32m      4\u001b[0m results[\u001b[38;5;124m\"\u001b[39m\u001b[38;5;124mPred_Label\u001b[39m\u001b[38;5;124m\"\u001b[39m] \u001b[38;5;241m=\u001b[39m metrics_history[\u001b[38;5;124m\"\u001b[39m\u001b[38;5;124mpred_label\u001b[39m\u001b[38;5;124m\"\u001b[39m]\n",
      "File \u001b[0;32m~/miniconda3/envs/testing_gpu/lib/python3.8/site-packages/pandas/core/frame.py:3960\u001b[0m, in \u001b[0;36mDataFrame.__setitem__\u001b[0;34m(self, key, value)\u001b[0m\n\u001b[1;32m   3957\u001b[0m     \u001b[38;5;28mself\u001b[39m\u001b[38;5;241m.\u001b[39m_setitem_array([key], value)\n\u001b[1;32m   3958\u001b[0m \u001b[38;5;28;01melse\u001b[39;00m:\n\u001b[1;32m   3959\u001b[0m     \u001b[38;5;66;03m# set column\u001b[39;00m\n\u001b[0;32m-> 3960\u001b[0m     \u001b[38;5;28;43mself\u001b[39;49m\u001b[38;5;241;43m.\u001b[39;49m\u001b[43m_set_item\u001b[49m\u001b[43m(\u001b[49m\u001b[43mkey\u001b[49m\u001b[43m,\u001b[49m\u001b[43m \u001b[49m\u001b[43mvalue\u001b[49m\u001b[43m)\u001b[49m\n",
      "File \u001b[0;32m~/miniconda3/envs/testing_gpu/lib/python3.8/site-packages/pandas/core/frame.py:4153\u001b[0m, in \u001b[0;36mDataFrame._set_item\u001b[0;34m(self, key, value)\u001b[0m\n\u001b[1;32m   4143\u001b[0m \u001b[38;5;28;01mdef\u001b[39;00m \u001b[38;5;21m_set_item\u001b[39m(\u001b[38;5;28mself\u001b[39m, key, value) \u001b[38;5;241m-\u001b[39m\u001b[38;5;241m>\u001b[39m \u001b[38;5;28;01mNone\u001b[39;00m:\n\u001b[1;32m   4144\u001b[0m     \u001b[38;5;124;03m\"\"\"\u001b[39;00m\n\u001b[1;32m   4145\u001b[0m \u001b[38;5;124;03m    Add series to DataFrame in specified column.\u001b[39;00m\n\u001b[1;32m   4146\u001b[0m \n\u001b[0;32m   (...)\u001b[0m\n\u001b[1;32m   4151\u001b[0m \u001b[38;5;124;03m    ensure homogeneity.\u001b[39;00m\n\u001b[1;32m   4152\u001b[0m \u001b[38;5;124;03m    \"\"\"\u001b[39;00m\n\u001b[0;32m-> 4153\u001b[0m     value \u001b[38;5;241m=\u001b[39m \u001b[38;5;28;43mself\u001b[39;49m\u001b[38;5;241;43m.\u001b[39;49m\u001b[43m_sanitize_column\u001b[49m\u001b[43m(\u001b[49m\u001b[43mvalue\u001b[49m\u001b[43m)\u001b[49m\n\u001b[1;32m   4155\u001b[0m     \u001b[38;5;28;01mif\u001b[39;00m (\n\u001b[1;32m   4156\u001b[0m         key \u001b[38;5;129;01min\u001b[39;00m \u001b[38;5;28mself\u001b[39m\u001b[38;5;241m.\u001b[39mcolumns\n\u001b[1;32m   4157\u001b[0m         \u001b[38;5;129;01mand\u001b[39;00m value\u001b[38;5;241m.\u001b[39mndim \u001b[38;5;241m==\u001b[39m \u001b[38;5;241m1\u001b[39m\n\u001b[1;32m   4158\u001b[0m         \u001b[38;5;129;01mand\u001b[39;00m \u001b[38;5;129;01mnot\u001b[39;00m is_extension_array_dtype(value)\n\u001b[1;32m   4159\u001b[0m     ):\n\u001b[1;32m   4160\u001b[0m         \u001b[38;5;66;03m# broadcast across multiple columns if necessary\u001b[39;00m\n\u001b[1;32m   4161\u001b[0m         \u001b[38;5;28;01mif\u001b[39;00m \u001b[38;5;129;01mnot\u001b[39;00m \u001b[38;5;28mself\u001b[39m\u001b[38;5;241m.\u001b[39mcolumns\u001b[38;5;241m.\u001b[39mis_unique \u001b[38;5;129;01mor\u001b[39;00m \u001b[38;5;28misinstance\u001b[39m(\u001b[38;5;28mself\u001b[39m\u001b[38;5;241m.\u001b[39mcolumns, MultiIndex):\n",
      "File \u001b[0;32m~/miniconda3/envs/testing_gpu/lib/python3.8/site-packages/pandas/core/frame.py:4880\u001b[0m, in \u001b[0;36mDataFrame._sanitize_column\u001b[0;34m(self, value)\u001b[0m\n\u001b[1;32m   4877\u001b[0m     \u001b[38;5;28;01mreturn\u001b[39;00m _reindex_for_setitem(Series(value), \u001b[38;5;28mself\u001b[39m\u001b[38;5;241m.\u001b[39mindex)\n\u001b[1;32m   4879\u001b[0m \u001b[38;5;28;01mif\u001b[39;00m is_list_like(value):\n\u001b[0;32m-> 4880\u001b[0m     \u001b[43mcom\u001b[49m\u001b[38;5;241;43m.\u001b[39;49m\u001b[43mrequire_length_match\u001b[49m\u001b[43m(\u001b[49m\u001b[43mvalue\u001b[49m\u001b[43m,\u001b[49m\u001b[43m \u001b[49m\u001b[38;5;28;43mself\u001b[39;49m\u001b[38;5;241;43m.\u001b[39;49m\u001b[43mindex\u001b[49m\u001b[43m)\u001b[49m\n\u001b[1;32m   4881\u001b[0m \u001b[38;5;28;01mreturn\u001b[39;00m sanitize_array(value, \u001b[38;5;28mself\u001b[39m\u001b[38;5;241m.\u001b[39mindex, copy\u001b[38;5;241m=\u001b[39m\u001b[38;5;28;01mTrue\u001b[39;00m, allow_2d\u001b[38;5;241m=\u001b[39m\u001b[38;5;28;01mTrue\u001b[39;00m)\n",
      "File \u001b[0;32m~/miniconda3/envs/testing_gpu/lib/python3.8/site-packages/pandas/core/common.py:576\u001b[0m, in \u001b[0;36mrequire_length_match\u001b[0;34m(data, index)\u001b[0m\n\u001b[1;32m    572\u001b[0m \u001b[38;5;124;03m\"\"\"\u001b[39;00m\n\u001b[1;32m    573\u001b[0m \u001b[38;5;124;03mCheck the length of data matches the length of the index.\u001b[39;00m\n\u001b[1;32m    574\u001b[0m \u001b[38;5;124;03m\"\"\"\u001b[39;00m\n\u001b[1;32m    575\u001b[0m \u001b[38;5;28;01mif\u001b[39;00m \u001b[38;5;28mlen\u001b[39m(data) \u001b[38;5;241m!=\u001b[39m \u001b[38;5;28mlen\u001b[39m(index):\n\u001b[0;32m--> 576\u001b[0m     \u001b[38;5;28;01mraise\u001b[39;00m \u001b[38;5;167;01mValueError\u001b[39;00m(\n\u001b[1;32m    577\u001b[0m         \u001b[38;5;124m\"\u001b[39m\u001b[38;5;124mLength of values \u001b[39m\u001b[38;5;124m\"\u001b[39m\n\u001b[1;32m    578\u001b[0m         \u001b[38;5;124mf\u001b[39m\u001b[38;5;124m\"\u001b[39m\u001b[38;5;124m(\u001b[39m\u001b[38;5;132;01m{\u001b[39;00m\u001b[38;5;28mlen\u001b[39m(data)\u001b[38;5;132;01m}\u001b[39;00m\u001b[38;5;124m) \u001b[39m\u001b[38;5;124m\"\u001b[39m\n\u001b[1;32m    579\u001b[0m         \u001b[38;5;124m\"\u001b[39m\u001b[38;5;124mdoes not match length of index \u001b[39m\u001b[38;5;124m\"\u001b[39m\n\u001b[1;32m    580\u001b[0m         \u001b[38;5;124mf\u001b[39m\u001b[38;5;124m\"\u001b[39m\u001b[38;5;124m(\u001b[39m\u001b[38;5;132;01m{\u001b[39;00m\u001b[38;5;28mlen\u001b[39m(index)\u001b[38;5;132;01m}\u001b[39;00m\u001b[38;5;124m)\u001b[39m\u001b[38;5;124m\"\u001b[39m\n\u001b[1;32m    581\u001b[0m     )\n",
      "\u001b[0;31mValueError\u001b[0m: Length of values (36344) does not match length of index (64)"
     ]
    }
   ],
   "source": [
    "results = dst.data.iloc[:64].copy()\n",
    "results[\"Distance_0\"] = distances[\"dist_0\"]\n",
    "results[\"Distance_1\"] = distances[\"dist_1\"]\n",
    "results[\"Pred_Label\"] = metrics_history[\"pred_label\"]\n",
    "results.head()"
   ]
  },
  {
   "cell_type": "code",
   "execution_count": null,
   "metadata": {},
   "outputs": [
    {
     "ename": "<class 'OSError'>",
     "evalue": "[Errno 122] Disk quota exceeded",
     "output_type": "error",
     "traceback": [
      "\u001b[0;31m---------------------------------------------------------------------------\u001b[0m",
      "\u001b[0;31mOSError\u001b[0m                                   Traceback (most recent call last)",
      "Cell \u001b[0;32mIn[1], line 1\u001b[0m\n\u001b[0;32m----> 1\u001b[0m \u001b[43mwandb\u001b[49m\u001b[38;5;241;43m.\u001b[39;49m\u001b[43mlog\u001b[49m\u001b[43m(\u001b[49m\u001b[43m{\u001b[49m\u001b[38;5;124;43m\"\u001b[39;49m\u001b[38;5;124;43mBAPPS\u001b[39;49m\u001b[38;5;124;43m\"\u001b[39;49m\u001b[43m:\u001b[49m\u001b[43m \u001b[49m\u001b[43mwandb\u001b[49m\u001b[38;5;241;43m.\u001b[39;49m\u001b[43mTable\u001b[49m\u001b[43m(\u001b[49m\u001b[43mdataframe\u001b[49m\u001b[38;5;241;43m=\u001b[39;49m\u001b[43mresults\u001b[49m\u001b[43m)\u001b[49m\u001b[43m,\u001b[49m\n\u001b[1;32m      2\u001b[0m \u001b[43m           \u001b[49m\u001b[38;5;124;43m\"\u001b[39;49m\u001b[38;5;124;43mBAPPS_accuracy\u001b[39;49m\u001b[38;5;124;43m\"\u001b[39;49m\u001b[43m:\u001b[49m\u001b[43m \u001b[49m\u001b[43maccuracy\u001b[49m\u001b[43m(\u001b[49m\u001b[43mmetrics_history\u001b[49m\u001b[43m[\u001b[49m\u001b[38;5;124;43m\"\u001b[39;49m\u001b[38;5;124;43mpred_label\u001b[39;49m\u001b[38;5;124;43m\"\u001b[39;49m\u001b[43m]\u001b[49m\u001b[43m,\u001b[49m\u001b[43m \u001b[49m\u001b[43mmetrics_history\u001b[49m\u001b[43m[\u001b[49m\u001b[38;5;124;43m\"\u001b[39;49m\u001b[38;5;124;43mtrue_label\u001b[39;49m\u001b[38;5;124;43m\"\u001b[39;49m\u001b[43m]\u001b[49m\u001b[43m)\u001b[49m\u001b[43m,\u001b[49m\n\u001b[1;32m      3\u001b[0m \u001b[43m           \u001b[49m\u001b[43m}\u001b[49m\u001b[43m)\u001b[49m\n",
      "File \u001b[0;32m~/miniconda3/envs/testing_gpu/lib/python3.8/site-packages/wandb/sdk/wandb_run.py:394\u001b[0m, in \u001b[0;36m_run_decorator._noop.<locals>.wrapper\u001b[0;34m(self, *args, **kwargs)\u001b[0m\n\u001b[1;32m    391\u001b[0m         wandb\u001b[38;5;241m.\u001b[39mtermwarn(message, repeat\u001b[38;5;241m=\u001b[39m\u001b[38;5;28;01mFalse\u001b[39;00m)\n\u001b[1;32m    392\u001b[0m         \u001b[38;5;28;01mreturn\u001b[39;00m \u001b[38;5;28mcls\u001b[39m\u001b[38;5;241m.\u001b[39mDummy()\n\u001b[0;32m--> 394\u001b[0m \u001b[38;5;28;01mreturn\u001b[39;00m \u001b[43mfunc\u001b[49m\u001b[43m(\u001b[49m\u001b[38;5;28;43mself\u001b[39;49m\u001b[43m,\u001b[49m\u001b[43m \u001b[49m\u001b[38;5;241;43m*\u001b[39;49m\u001b[43margs\u001b[49m\u001b[43m,\u001b[49m\u001b[43m \u001b[49m\u001b[38;5;241;43m*\u001b[39;49m\u001b[38;5;241;43m*\u001b[39;49m\u001b[43mkwargs\u001b[49m\u001b[43m)\u001b[49m\n",
      "File \u001b[0;32m~/miniconda3/envs/testing_gpu/lib/python3.8/site-packages/wandb/sdk/wandb_run.py:345\u001b[0m, in \u001b[0;36m_run_decorator._noop_on_finish.<locals>.decorator_fn.<locals>.wrapper_fn\u001b[0;34m(self, *args, **kwargs)\u001b[0m\n\u001b[1;32m    342\u001b[0m \u001b[38;5;129m@functools\u001b[39m\u001b[38;5;241m.\u001b[39mwraps(func)\n\u001b[1;32m    343\u001b[0m \u001b[38;5;28;01mdef\u001b[39;00m \u001b[38;5;21mwrapper_fn\u001b[39m(\u001b[38;5;28mself\u001b[39m: Type[\u001b[38;5;124m\"\u001b[39m\u001b[38;5;124mRun\u001b[39m\u001b[38;5;124m\"\u001b[39m], \u001b[38;5;241m*\u001b[39margs: Any, \u001b[38;5;241m*\u001b[39m\u001b[38;5;241m*\u001b[39mkwargs: Any) \u001b[38;5;241m-\u001b[39m\u001b[38;5;241m>\u001b[39m Any:\n\u001b[1;32m    344\u001b[0m     \u001b[38;5;28;01mif\u001b[39;00m \u001b[38;5;129;01mnot\u001b[39;00m \u001b[38;5;28mgetattr\u001b[39m(\u001b[38;5;28mself\u001b[39m, \u001b[38;5;124m\"\u001b[39m\u001b[38;5;124m_is_finished\u001b[39m\u001b[38;5;124m\"\u001b[39m, \u001b[38;5;28;01mFalse\u001b[39;00m):\n\u001b[0;32m--> 345\u001b[0m         \u001b[38;5;28;01mreturn\u001b[39;00m \u001b[43mfunc\u001b[49m\u001b[43m(\u001b[49m\u001b[38;5;28;43mself\u001b[39;49m\u001b[43m,\u001b[49m\u001b[43m \u001b[49m\u001b[38;5;241;43m*\u001b[39;49m\u001b[43margs\u001b[49m\u001b[43m,\u001b[49m\u001b[43m \u001b[49m\u001b[38;5;241;43m*\u001b[39;49m\u001b[38;5;241;43m*\u001b[39;49m\u001b[43mkwargs\u001b[49m\u001b[43m)\u001b[49m\n\u001b[1;32m    347\u001b[0m     default_message \u001b[38;5;241m=\u001b[39m (\n\u001b[1;32m    348\u001b[0m         \u001b[38;5;124mf\u001b[39m\u001b[38;5;124m\"\u001b[39m\u001b[38;5;124mRun (\u001b[39m\u001b[38;5;132;01m{\u001b[39;00m\u001b[38;5;28mself\u001b[39m\u001b[38;5;241m.\u001b[39mid\u001b[38;5;132;01m}\u001b[39;00m\u001b[38;5;124m) is finished. The call to `\u001b[39m\u001b[38;5;132;01m{\u001b[39;00mfunc\u001b[38;5;241m.\u001b[39m\u001b[38;5;18m__name__\u001b[39m\u001b[38;5;132;01m}\u001b[39;00m\u001b[38;5;124m` will be ignored. \u001b[39m\u001b[38;5;124m\"\u001b[39m\n\u001b[1;32m    349\u001b[0m         \u001b[38;5;124mf\u001b[39m\u001b[38;5;124m\"\u001b[39m\u001b[38;5;124mPlease make sure that you are using an active run.\u001b[39m\u001b[38;5;124m\"\u001b[39m\n\u001b[1;32m    350\u001b[0m     )\n\u001b[1;32m    351\u001b[0m     resolved_message \u001b[38;5;241m=\u001b[39m message \u001b[38;5;129;01mor\u001b[39;00m default_message\n",
      "File \u001b[0;32m~/miniconda3/envs/testing_gpu/lib/python3.8/site-packages/wandb/sdk/wandb_run.py:335\u001b[0m, in \u001b[0;36m_run_decorator._attach.<locals>.wrapper\u001b[0;34m(self, *args, **kwargs)\u001b[0m\n\u001b[1;32m    333\u001b[0m         \u001b[38;5;28;01mraise\u001b[39;00m e\n\u001b[1;32m    334\u001b[0m     \u001b[38;5;28mcls\u001b[39m\u001b[38;5;241m.\u001b[39m_is_attaching \u001b[38;5;241m=\u001b[39m \u001b[38;5;124m\"\u001b[39m\u001b[38;5;124m\"\u001b[39m\n\u001b[0;32m--> 335\u001b[0m \u001b[38;5;28;01mreturn\u001b[39;00m \u001b[43mfunc\u001b[49m\u001b[43m(\u001b[49m\u001b[38;5;28;43mself\u001b[39;49m\u001b[43m,\u001b[49m\u001b[43m \u001b[49m\u001b[38;5;241;43m*\u001b[39;49m\u001b[43margs\u001b[49m\u001b[43m,\u001b[49m\u001b[43m \u001b[49m\u001b[38;5;241;43m*\u001b[39;49m\u001b[38;5;241;43m*\u001b[39;49m\u001b[43mkwargs\u001b[49m\u001b[43m)\u001b[49m\n",
      "File \u001b[0;32m~/miniconda3/envs/testing_gpu/lib/python3.8/site-packages/wandb/sdk/wandb_run.py:1751\u001b[0m, in \u001b[0;36mRun.log\u001b[0;34m(self, data, step, commit, sync)\u001b[0m\n\u001b[1;32m   1744\u001b[0m \u001b[38;5;28;01mif\u001b[39;00m sync \u001b[38;5;129;01mis\u001b[39;00m \u001b[38;5;129;01mnot\u001b[39;00m \u001b[38;5;28;01mNone\u001b[39;00m:\n\u001b[1;32m   1745\u001b[0m     deprecate\u001b[38;5;241m.\u001b[39mdeprecate(\n\u001b[1;32m   1746\u001b[0m         field_name\u001b[38;5;241m=\u001b[39mdeprecate\u001b[38;5;241m.\u001b[39mDeprecated\u001b[38;5;241m.\u001b[39mrun__log_sync,\n\u001b[1;32m   1747\u001b[0m         warning_message\u001b[38;5;241m=\u001b[39m(\n\u001b[1;32m   1748\u001b[0m             \u001b[38;5;124m\"\u001b[39m\u001b[38;5;124m`sync` argument is deprecated and does not affect the behaviour of `wandb.log`\u001b[39m\u001b[38;5;124m\"\u001b[39m\n\u001b[1;32m   1749\u001b[0m         ),\n\u001b[1;32m   1750\u001b[0m     )\n\u001b[0;32m-> 1751\u001b[0m \u001b[38;5;28;43mself\u001b[39;49m\u001b[38;5;241;43m.\u001b[39;49m\u001b[43m_log\u001b[49m\u001b[43m(\u001b[49m\u001b[43mdata\u001b[49m\u001b[38;5;241;43m=\u001b[39;49m\u001b[43mdata\u001b[49m\u001b[43m,\u001b[49m\u001b[43m \u001b[49m\u001b[43mstep\u001b[49m\u001b[38;5;241;43m=\u001b[39;49m\u001b[43mstep\u001b[49m\u001b[43m,\u001b[49m\u001b[43m \u001b[49m\u001b[43mcommit\u001b[49m\u001b[38;5;241;43m=\u001b[39;49m\u001b[43mcommit\u001b[49m\u001b[43m)\u001b[49m\n",
      "File \u001b[0;32m~/miniconda3/envs/testing_gpu/lib/python3.8/site-packages/wandb/sdk/wandb_run.py:1532\u001b[0m, in \u001b[0;36mRun._log\u001b[0;34m(self, data, step, commit)\u001b[0m\n\u001b[1;32m   1529\u001b[0m \u001b[38;5;28;01mif\u001b[39;00m \u001b[38;5;28many\u001b[39m(\u001b[38;5;129;01mnot\u001b[39;00m \u001b[38;5;28misinstance\u001b[39m(key, \u001b[38;5;28mstr\u001b[39m) \u001b[38;5;28;01mfor\u001b[39;00m key \u001b[38;5;129;01min\u001b[39;00m data\u001b[38;5;241m.\u001b[39mkeys()):\n\u001b[1;32m   1530\u001b[0m     \u001b[38;5;28;01mraise\u001b[39;00m \u001b[38;5;167;01mValueError\u001b[39;00m(\u001b[38;5;124m\"\u001b[39m\u001b[38;5;124mKey values passed to `wandb.log` must be strings.\u001b[39m\u001b[38;5;124m\"\u001b[39m)\n\u001b[0;32m-> 1532\u001b[0m \u001b[38;5;28;43mself\u001b[39;49m\u001b[38;5;241;43m.\u001b[39;49m\u001b[43m_partial_history_callback\u001b[49m\u001b[43m(\u001b[49m\u001b[43mdata\u001b[49m\u001b[43m,\u001b[49m\u001b[43m \u001b[49m\u001b[43mstep\u001b[49m\u001b[43m,\u001b[49m\u001b[43m \u001b[49m\u001b[43mcommit\u001b[49m\u001b[43m)\u001b[49m\n\u001b[1;32m   1534\u001b[0m \u001b[38;5;28;01mif\u001b[39;00m step \u001b[38;5;129;01mis\u001b[39;00m \u001b[38;5;129;01mnot\u001b[39;00m \u001b[38;5;28;01mNone\u001b[39;00m:\n\u001b[1;32m   1535\u001b[0m     \u001b[38;5;28;01mif\u001b[39;00m os\u001b[38;5;241m.\u001b[39mgetpid() \u001b[38;5;241m!=\u001b[39m \u001b[38;5;28mself\u001b[39m\u001b[38;5;241m.\u001b[39m_init_pid \u001b[38;5;129;01mor\u001b[39;00m \u001b[38;5;28mself\u001b[39m\u001b[38;5;241m.\u001b[39m_is_attached:\n",
      "File \u001b[0;32m~/miniconda3/envs/testing_gpu/lib/python3.8/site-packages/wandb/sdk/wandb_run.py:1402\u001b[0m, in \u001b[0;36mRun._partial_history_callback\u001b[0;34m(self, row, step, commit)\u001b[0m\n\u001b[1;32m   1399\u001b[0m \u001b[38;5;28;01mif\u001b[39;00m \u001b[38;5;28mself\u001b[39m\u001b[38;5;241m.\u001b[39m_backend \u001b[38;5;129;01mand\u001b[39;00m \u001b[38;5;28mself\u001b[39m\u001b[38;5;241m.\u001b[39m_backend\u001b[38;5;241m.\u001b[39minterface:\n\u001b[1;32m   1400\u001b[0m     not_using_tensorboard \u001b[38;5;241m=\u001b[39m \u001b[38;5;28mlen\u001b[39m(wandb\u001b[38;5;241m.\u001b[39mpatched[\u001b[38;5;124m\"\u001b[39m\u001b[38;5;124mtensorboard\u001b[39m\u001b[38;5;124m\"\u001b[39m]) \u001b[38;5;241m==\u001b[39m \u001b[38;5;241m0\u001b[39m\n\u001b[0;32m-> 1402\u001b[0m     \u001b[38;5;28;43mself\u001b[39;49m\u001b[38;5;241;43m.\u001b[39;49m\u001b[43m_backend\u001b[49m\u001b[38;5;241;43m.\u001b[39;49m\u001b[43minterface\u001b[49m\u001b[38;5;241;43m.\u001b[39;49m\u001b[43mpublish_partial_history\u001b[49m\u001b[43m(\u001b[49m\n\u001b[1;32m   1403\u001b[0m \u001b[43m        \u001b[49m\u001b[43mrow\u001b[49m\u001b[43m,\u001b[49m\n\u001b[1;32m   1404\u001b[0m \u001b[43m        \u001b[49m\u001b[43muser_step\u001b[49m\u001b[38;5;241;43m=\u001b[39;49m\u001b[38;5;28;43mself\u001b[39;49m\u001b[38;5;241;43m.\u001b[39;49m\u001b[43m_step\u001b[49m\u001b[43m,\u001b[49m\n\u001b[1;32m   1405\u001b[0m \u001b[43m        \u001b[49m\u001b[43mstep\u001b[49m\u001b[38;5;241;43m=\u001b[39;49m\u001b[43mstep\u001b[49m\u001b[43m,\u001b[49m\n\u001b[1;32m   1406\u001b[0m \u001b[43m        \u001b[49m\u001b[43mflush\u001b[49m\u001b[38;5;241;43m=\u001b[39;49m\u001b[43mcommit\u001b[49m\u001b[43m,\u001b[49m\n\u001b[1;32m   1407\u001b[0m \u001b[43m        \u001b[49m\u001b[43mpublish_step\u001b[49m\u001b[38;5;241;43m=\u001b[39;49m\u001b[43mnot_using_tensorboard\u001b[49m\u001b[43m,\u001b[49m\n\u001b[1;32m   1408\u001b[0m \u001b[43m    \u001b[49m\u001b[43m)\u001b[49m\n",
      "File \u001b[0;32m~/miniconda3/envs/testing_gpu/lib/python3.8/site-packages/wandb/sdk/interface/interface.py:567\u001b[0m, in \u001b[0;36mInterfaceBase.publish_partial_history\u001b[0;34m(self, data, user_step, step, flush, publish_step, run)\u001b[0m\n\u001b[1;32m    556\u001b[0m \u001b[38;5;28;01mdef\u001b[39;00m \u001b[38;5;21mpublish_partial_history\u001b[39m(\n\u001b[1;32m    557\u001b[0m     \u001b[38;5;28mself\u001b[39m,\n\u001b[1;32m    558\u001b[0m     data: \u001b[38;5;28mdict\u001b[39m,\n\u001b[0;32m   (...)\u001b[0m\n\u001b[1;32m    563\u001b[0m     run: Optional[\u001b[38;5;124m\"\u001b[39m\u001b[38;5;124mRun\u001b[39m\u001b[38;5;124m\"\u001b[39m] \u001b[38;5;241m=\u001b[39m \u001b[38;5;28;01mNone\u001b[39;00m,\n\u001b[1;32m    564\u001b[0m ) \u001b[38;5;241m-\u001b[39m\u001b[38;5;241m>\u001b[39m \u001b[38;5;28;01mNone\u001b[39;00m:\n\u001b[1;32m    565\u001b[0m     run \u001b[38;5;241m=\u001b[39m run \u001b[38;5;129;01mor\u001b[39;00m \u001b[38;5;28mself\u001b[39m\u001b[38;5;241m.\u001b[39m_run\n\u001b[0;32m--> 567\u001b[0m     data \u001b[38;5;241m=\u001b[39m \u001b[43mhistory_dict_to_json\u001b[49m\u001b[43m(\u001b[49m\u001b[43mrun\u001b[49m\u001b[43m,\u001b[49m\u001b[43m \u001b[49m\u001b[43mdata\u001b[49m\u001b[43m,\u001b[49m\u001b[43m \u001b[49m\u001b[43mstep\u001b[49m\u001b[38;5;241;43m=\u001b[39;49m\u001b[43muser_step\u001b[49m\u001b[43m,\u001b[49m\u001b[43m \u001b[49m\u001b[43mignore_copy_err\u001b[49m\u001b[38;5;241;43m=\u001b[39;49m\u001b[38;5;28;43;01mTrue\u001b[39;49;00m\u001b[43m)\u001b[49m\n\u001b[1;32m    568\u001b[0m     data\u001b[38;5;241m.\u001b[39mpop(\u001b[38;5;124m\"\u001b[39m\u001b[38;5;124m_step\u001b[39m\u001b[38;5;124m\"\u001b[39m, \u001b[38;5;28;01mNone\u001b[39;00m)\n\u001b[1;32m    570\u001b[0m     \u001b[38;5;66;03m# add timestamp to the history request, if not already present\u001b[39;00m\n\u001b[1;32m    571\u001b[0m     \u001b[38;5;66;03m# the timestamp might come from the tensorboard log logic\u001b[39;00m\n",
      "File \u001b[0;32m~/miniconda3/envs/testing_gpu/lib/python3.8/site-packages/wandb/sdk/data_types/utils.py:52\u001b[0m, in \u001b[0;36mhistory_dict_to_json\u001b[0;34m(run, payload, step, ignore_copy_err)\u001b[0m\n\u001b[1;32m     48\u001b[0m         payload[key] \u001b[38;5;241m=\u001b[39m history_dict_to_json(\n\u001b[1;32m     49\u001b[0m             run, val, step\u001b[38;5;241m=\u001b[39mstep, ignore_copy_err\u001b[38;5;241m=\u001b[39mignore_copy_err\n\u001b[1;32m     50\u001b[0m         )\n\u001b[1;32m     51\u001b[0m     \u001b[38;5;28;01melse\u001b[39;00m:\n\u001b[0;32m---> 52\u001b[0m         payload[key] \u001b[38;5;241m=\u001b[39m \u001b[43mval_to_json\u001b[49m\u001b[43m(\u001b[49m\n\u001b[1;32m     53\u001b[0m \u001b[43m            \u001b[49m\u001b[43mrun\u001b[49m\u001b[43m,\u001b[49m\u001b[43m \u001b[49m\u001b[43mkey\u001b[49m\u001b[43m,\u001b[49m\u001b[43m \u001b[49m\u001b[43mval\u001b[49m\u001b[43m,\u001b[49m\u001b[43m \u001b[49m\u001b[43mnamespace\u001b[49m\u001b[38;5;241;43m=\u001b[39;49m\u001b[43mstep\u001b[49m\u001b[43m,\u001b[49m\u001b[43m \u001b[49m\u001b[43mignore_copy_err\u001b[49m\u001b[38;5;241;43m=\u001b[39;49m\u001b[43mignore_copy_err\u001b[49m\n\u001b[1;32m     54\u001b[0m \u001b[43m        \u001b[49m\u001b[43m)\u001b[49m\n\u001b[1;32m     56\u001b[0m \u001b[38;5;28;01mreturn\u001b[39;00m payload\n",
      "File \u001b[0;32m~/miniconda3/envs/testing_gpu/lib/python3.8/site-packages/wandb/sdk/data_types/utils.py:154\u001b[0m, in \u001b[0;36mval_to_json\u001b[0;34m(run, key, val, namespace, ignore_copy_err)\u001b[0m\n\u001b[1;32m    150\u001b[0m     sanitized_key \u001b[38;5;241m=\u001b[39m re\u001b[38;5;241m.\u001b[39msub(\u001b[38;5;124mr\u001b[39m\u001b[38;5;124m\"\u001b[39m\u001b[38;5;124m[^a-zA-Z0-9_]+\u001b[39m\u001b[38;5;124m\"\u001b[39m, \u001b[38;5;124m\"\u001b[39m\u001b[38;5;124m\"\u001b[39m, key)\n\u001b[1;32m    151\u001b[0m     art \u001b[38;5;241m=\u001b[39m wandb\u001b[38;5;241m.\u001b[39mwandb_sdk\u001b[38;5;241m.\u001b[39mwandb_artifacts\u001b[38;5;241m.\u001b[39mArtifact(\n\u001b[1;32m    152\u001b[0m         \u001b[38;5;124mf\u001b[39m\u001b[38;5;124m\"\u001b[39m\u001b[38;5;124mrun-\u001b[39m\u001b[38;5;132;01m{\u001b[39;00mrun\u001b[38;5;241m.\u001b[39mid\u001b[38;5;132;01m}\u001b[39;00m\u001b[38;5;124m-\u001b[39m\u001b[38;5;132;01m{\u001b[39;00msanitized_key\u001b[38;5;132;01m}\u001b[39;00m\u001b[38;5;124m\"\u001b[39m, \u001b[38;5;124m\"\u001b[39m\u001b[38;5;124mrun_table\u001b[39m\u001b[38;5;124m\"\u001b[39m\n\u001b[1;32m    153\u001b[0m     )\n\u001b[0;32m--> 154\u001b[0m     \u001b[43mart\u001b[49m\u001b[38;5;241;43m.\u001b[39;49m\u001b[43madd\u001b[49m\u001b[43m(\u001b[49m\u001b[43mval\u001b[49m\u001b[43m,\u001b[49m\u001b[43m \u001b[49m\u001b[43mkey\u001b[49m\u001b[43m)\u001b[49m\n\u001b[1;32m    155\u001b[0m     run\u001b[38;5;241m.\u001b[39mlog_artifact(art)\n\u001b[1;32m    157\u001b[0m \u001b[38;5;66;03m# Partitioned tables and joined tables do not support being bound to runs.\u001b[39;00m\n",
      "File \u001b[0;32m~/miniconda3/envs/testing_gpu/lib/python3.8/site-packages/wandb/sdk/wandb_artifacts.py:581\u001b[0m, in \u001b[0;36mArtifact.add\u001b[0;34m(self, obj, name)\u001b[0m\n\u001b[1;32m    576\u001b[0m         do_write(f)\n\u001b[1;32m    578\u001b[0m \u001b[38;5;66;03m# Note, we add the file from our temp directory.\u001b[39;00m\n\u001b[1;32m    579\u001b[0m \u001b[38;5;66;03m# It will be added again later on finalize, but succeed since\u001b[39;00m\n\u001b[1;32m    580\u001b[0m \u001b[38;5;66;03m# the checksum should match\u001b[39;00m\n\u001b[0;32m--> 581\u001b[0m entry \u001b[38;5;241m=\u001b[39m \u001b[38;5;28;43mself\u001b[39;49m\u001b[38;5;241;43m.\u001b[39;49m\u001b[43madd_file\u001b[49m\u001b[43m(\u001b[49m\u001b[43mfile_path\u001b[49m\u001b[43m,\u001b[49m\u001b[43m \u001b[49m\u001b[43mname\u001b[49m\u001b[43m,\u001b[49m\u001b[43m \u001b[49m\u001b[43mis_tmp_name\u001b[49m\u001b[43m)\u001b[49m\n\u001b[1;32m    582\u001b[0m \u001b[38;5;28mself\u001b[39m\u001b[38;5;241m.\u001b[39m_added_objs[obj_id] \u001b[38;5;241m=\u001b[39m _AddedObj(entry, obj)\n\u001b[1;32m    583\u001b[0m \u001b[38;5;28;01mif\u001b[39;00m obj\u001b[38;5;241m.\u001b[39m_artifact_target \u001b[38;5;129;01mis\u001b[39;00m \u001b[38;5;28;01mNone\u001b[39;00m:\n",
      "File \u001b[0;32m~/miniconda3/envs/testing_gpu/lib/python3.8/site-packages/wandb/sdk/wandb_artifacts.py:435\u001b[0m, in \u001b[0;36mArtifact.add_file\u001b[0;34m(self, local_path, name, is_tmp)\u001b[0m\n\u001b[1;32m    432\u001b[0m     file_name_parts[\u001b[38;5;241m0\u001b[39m] \u001b[38;5;241m=\u001b[39m b64_to_hex_id(digest)[:\u001b[38;5;241m20\u001b[39m]\n\u001b[1;32m    433\u001b[0m     name \u001b[38;5;241m=\u001b[39m os\u001b[38;5;241m.\u001b[39mpath\u001b[38;5;241m.\u001b[39mjoin(file_path, \u001b[38;5;124m\"\u001b[39m\u001b[38;5;124m.\u001b[39m\u001b[38;5;124m\"\u001b[39m\u001b[38;5;241m.\u001b[39mjoin(file_name_parts))\n\u001b[0;32m--> 435\u001b[0m \u001b[38;5;28;01mreturn\u001b[39;00m \u001b[38;5;28;43mself\u001b[39;49m\u001b[38;5;241;43m.\u001b[39;49m\u001b[43m_add_local_file\u001b[49m\u001b[43m(\u001b[49m\u001b[43mname\u001b[49m\u001b[43m,\u001b[49m\u001b[43m \u001b[49m\u001b[43mlocal_path\u001b[49m\u001b[43m,\u001b[49m\u001b[43m \u001b[49m\u001b[43mdigest\u001b[49m\u001b[38;5;241;43m=\u001b[39;49m\u001b[43mdigest\u001b[49m\u001b[43m)\u001b[49m\n",
      "File \u001b[0;32m~/miniconda3/envs/testing_gpu/lib/python3.8/site-packages/wandb/sdk/wandb_artifacts.py:735\u001b[0m, in \u001b[0;36mArtifact._add_local_file\u001b[0;34m(self, name, path, digest)\u001b[0m\n\u001b[1;32m    733\u001b[0m \u001b[38;5;28;01mwith\u001b[39;00m tempfile\u001b[38;5;241m.\u001b[39mNamedTemporaryFile(\u001b[38;5;28mdir\u001b[39m\u001b[38;5;241m=\u001b[39mget_staging_dir(), delete\u001b[38;5;241m=\u001b[39m\u001b[38;5;28;01mFalse\u001b[39;00m) \u001b[38;5;28;01mas\u001b[39;00m f:\n\u001b[1;32m    734\u001b[0m     staging_path \u001b[38;5;241m=\u001b[39m f\u001b[38;5;241m.\u001b[39mname\n\u001b[0;32m--> 735\u001b[0m     \u001b[43mshutil\u001b[49m\u001b[38;5;241;43m.\u001b[39;49m\u001b[43mcopyfile\u001b[49m\u001b[43m(\u001b[49m\u001b[43mpath\u001b[49m\u001b[43m,\u001b[49m\u001b[43m \u001b[49m\u001b[43mstaging_path\u001b[49m\u001b[43m)\u001b[49m\n\u001b[1;32m    736\u001b[0m     os\u001b[38;5;241m.\u001b[39mchmod(staging_path, \u001b[38;5;241m0o400\u001b[39m)\n\u001b[1;32m    738\u001b[0m entry \u001b[38;5;241m=\u001b[39m ArtifactManifestEntry(\n\u001b[1;32m    739\u001b[0m     path\u001b[38;5;241m=\u001b[39mutil\u001b[38;5;241m.\u001b[39mto_forward_slash_path(name),\n\u001b[1;32m    740\u001b[0m     digest\u001b[38;5;241m=\u001b[39mdigest \u001b[38;5;129;01mor\u001b[39;00m md5_file_b64(staging_path),\n\u001b[1;32m    741\u001b[0m     size\u001b[38;5;241m=\u001b[39mos\u001b[38;5;241m.\u001b[39mpath\u001b[38;5;241m.\u001b[39mgetsize(staging_path),\n\u001b[1;32m    742\u001b[0m     local_path\u001b[38;5;241m=\u001b[39mstaging_path,\n\u001b[1;32m    743\u001b[0m )\n",
      "File \u001b[0;32m~/miniconda3/envs/testing_gpu/lib/python3.8/shutil.py:285\u001b[0m, in \u001b[0;36mcopyfile\u001b[0;34m(src, dst, follow_symlinks)\u001b[0m\n\u001b[1;32m    282\u001b[0m             _copyfileobj_readinto(fsrc, fdst, \u001b[38;5;28mmin\u001b[39m(file_size, COPY_BUFSIZE))\n\u001b[1;32m    283\u001b[0m             \u001b[38;5;28;01mreturn\u001b[39;00m dst\n\u001b[0;32m--> 285\u001b[0m         copyfileobj(fsrc, fdst)\n\u001b[1;32m    287\u001b[0m \u001b[38;5;28;01mreturn\u001b[39;00m dst\n",
      "\u001b[0;31mOSError\u001b[0m: [Errno 122] Disk quota exceeded"
     ]
    }
   ],
   "source": [
    "wandb.log({\"BAPPS\": wandb.Table(dataframe=results),\n",
    "           \"BAPPS_accuracy\": accuracy(metrics_history[\"pred_label\"], metrics_history[\"true_label\"]),\n",
    "           })"
   ]
  },
  {
   "cell_type": "code",
   "execution_count": null,
   "metadata": {},
   "outputs": [],
   "source": [
    "wandb.finish()"
   ]
  }
 ],
 "metadata": {
  "kernelspec": {
   "display_name": "testing_gpu",
   "language": "python",
   "name": "python3"
  },
  "language_info": {
   "codemirror_mode": {
    "name": "ipython",
    "version": 3
   },
   "file_extension": ".py",
   "mimetype": "text/x-python",
   "name": "python",
   "nbconvert_exporter": "python",
   "pygments_lexer": "ipython3",
   "version": "3.8.16"
  }
 },
 "nbformat": 4,
 "nbformat_minor": 2
}
