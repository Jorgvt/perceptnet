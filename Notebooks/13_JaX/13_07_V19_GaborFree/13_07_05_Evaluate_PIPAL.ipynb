{
 "cells": [
  {
   "cell_type": "code",
   "execution_count": 1,
   "metadata": {},
   "outputs": [
    {
     "name": "stderr",
     "output_type": "stream",
     "text": [
      "2023-12-04 15:17:03.040225: I tensorflow/core/platform/cpu_feature_guard.cc:182] This TensorFlow binary is optimized to use available CPU instructions in performance-critical operations.\n",
      "To enable the following instructions: AVX2 AVX512F FMA, in other operations, rebuild TensorFlow with the appropriate compiler flags.\n",
      "2023-12-04 15:17:05.443441: W tensorflow/compiler/tf2tensorrt/utils/py_utils.cc:38] TF-TRT Warning: Could not find TensorRT\n"
     ]
    }
   ],
   "source": [
    "import tensorflow as tf\n",
    "tf.config.set_visible_devices([], device_type='GPU')"
   ]
  },
  {
   "cell_type": "code",
   "execution_count": 2,
   "metadata": {},
   "outputs": [
    {
     "name": "stderr",
     "output_type": "stream",
     "text": [
      "/lhome/ext/uv075/uv0752/miniconda3/envs/testing_gpu/lib/python3.8/site-packages/tqdm/auto.py:21: TqdmWarning: IProgress not found. Please update jupyter and ipywidgets. See https://ipywidgets.readthedocs.io/en/stable/user_install.html\n",
      "  from .autonotebook import tqdm as notebook_tqdm\n",
      "2023-12-04 15:17:11.419960: W external/xla/xla/service/platform_util.cc:198] unable to create StreamExecutor for CUDA:0: failed initializing StreamExecutor for CUDA device ordinal 0: INTERNAL: failed call to cuDevicePrimaryCtxRetain: CUDA_ERROR_DEVICE_UNAVAILABLE: CUDA-capable device(s) is/are busy or unavailable\n",
      "No GPU/TPU found, falling back to CPU. (Set TF_CPP_MIN_LOG_LEVEL=0 and rerun for more info.)\n",
      "2023-12-04 15:17:11.420310: W external/xla/xla/service/platform_util.cc:198] unable to create StreamExecutor for CUDA:1: failed initializing StreamExecutor for CUDA device ordinal 1: INTERNAL: failed call to cuDevicePrimaryCtxRetain: CUDA_ERROR_DEVICE_UNAVAILABLE: CUDA-capable device(s) is/are busy or unavailable\n"
     ]
    }
   ],
   "source": [
    "import os\n",
    "# os.environ[\"CUDA_VISIBLE_DEVICES\"] = \"-1\"\n",
    "from tqdm.auto import tqdm\n",
    "\n",
    "from typing import Any, Callable, Sequence, Union\n",
    "import numpy as np\n",
    "import scipy.stats as stats\n",
    "\n",
    "import tensorflow as tf\n",
    "tf.config.set_visible_devices([], device_type='GPU')\n",
    "\n",
    "import jax\n",
    "from jax import lax, random, numpy as jnp\n",
    "import flax\n",
    "from flax.core import freeze, unfreeze, FrozenDict\n",
    "from flax import linen as nn\n",
    "from flax import struct\n",
    "from flax.training import train_state\n",
    "from flax.training import orbax_utils\n",
    "\n",
    "import optax\n",
    "import orbax.checkpoint\n",
    "\n",
    "from clu import metrics\n",
    "from ml_collections import ConfigDict\n",
    "\n",
    "from einops import reduce, rearrange\n",
    "import wandb\n",
    "\n",
    "from iqadatasets.datasets import *\n",
    "from fxlayers.layers import *\n",
    "from fxlayers.layers import GaborLayerLogSigma_, GaussianLayerGamma, FreqGaussianGamma, OrientGaussianGamma\n",
    "from fxlayers.initializers import *\n",
    "from JaxPlayground.utils.constraints import *\n",
    "from JaxPlayground.utils.wandb import *"
   ]
  },
  {
   "cell_type": "code",
   "execution_count": 3,
   "metadata": {},
   "outputs": [],
   "source": [
    "# dst_train = TID2008(\"/lustre/ific.uv.es/ml/uv075/Databases/IQA//TID/TID2008/\", exclude_imgs=[25])\n",
    "# dst_val = TID2013(\"/lustre/ific.uv.es/ml/uv075/Databases/IQA//TID/TID2013/\", exclude_imgs=[25])\n",
    "# dst_train = TID2008(\"/media/disk/databases/BBDD_video_image/Image_Quality//TID/TID2008/\", exclude_imgs=[25])\n",
    "# dst_val = TID2013(\"/media/disk/databases/BBDD_video_image/Image_Quality//TID/TID2013/\", exclude_imgs=[25])\n",
    "# dst = KADIK10K(\"/media/disk/databases/BBDD_video_image/Image_Quality/KADIK10K/\")\n",
    "# dst = PIPAL(\"/media/disk/databases/BBDD_video_image/Image_Quality/PIPAL/\")\n",
    "dst = PIPAL(\"/lustre/ific.uv.es/ml/uv075/Databases/IQA/PIPAL/\")"
   ]
  },
  {
   "cell_type": "code",
   "execution_count": 1,
   "metadata": {},
   "outputs": [
    {
     "data": {
      "text/plain": [
       "(TensorShape([288, 288, 3]), TensorShape([288, 288, 3]), TensorShape([]))"
      ]
     },
     "execution_count": 1,
     "metadata": {},
     "output_type": "execute_result"
    }
   ],
   "source": [
    "img, img_dist, mos = next(iter(dst.dataset))\n",
    "img.shape, img_dist.shape, mos.shape"
   ]
  },
  {
   "cell_type": "code",
   "execution_count": 6,
   "metadata": {},
   "outputs": [],
   "source": [
    "# id = \"t71plb39\"\n",
    "# id = \"0udemln0\" # J&H init\n",
    "# id = \"1gegnzhb\" # 16O NoA\n",
    "# id = \"x9wpdonj\" # 16O A\n",
    "id = \"o77ngu84\" # 128 Gabor_Free_A"
   ]
  },
  {
   "cell_type": "code",
   "execution_count": 7,
   "metadata": {},
   "outputs": [],
   "source": [
    "api = wandb.Api()\n",
    "prev_run = api.run(f\"jorgvt/PerceptNet_v15/{id}\")"
   ]
  },
  {
   "cell_type": "code",
   "execution_count": 2,
   "metadata": {},
   "outputs": [
    {
     "data": {
      "text/plain": [
       "A_GABOR: true\n",
       "A_GDNSPATIOFREQORIENT: true\n",
       "BATCH_SIZE: 64\n",
       "CS_KERNEL_SIZE: 21\n",
       "EPOCHS: 500\n",
       "GABOR_KERNEL_SIZE: 31\n",
       "GDNGAUSSIAN_KERNEL_SIZE: 11\n",
       "GDN_CLIPPING: true\n",
       "INIT_JH: true\n",
       "LEARNING_RATE: 0.003\n",
       "NORMALIZE_ENERGY: true\n",
       "NORMALIZE_PROB: false\n",
       "N_GABORS: 128\n",
       "SEED: 42\n",
       "USE_BIAS: false\n",
       "ZERO_MEAN: true"
      ]
     },
     "execution_count": 2,
     "metadata": {},
     "output_type": "execute_result"
    }
   ],
   "source": [
    "config = ConfigDict(prev_run.config[\"_fields\"])\n",
    "config"
   ]
  },
  {
   "cell_type": "code",
   "execution_count": 9,
   "metadata": {},
   "outputs": [],
   "source": [
    "for file in prev_run.files():\n",
    "    file.download(root=prev_run.dir, replace=True)"
   ]
  },
  {
   "cell_type": "code",
   "execution_count": 3,
   "metadata": {},
   "outputs": [
    {
     "name": "stderr",
     "output_type": "stream",
     "text": [
      "wandb: Currently logged in as: jorgvt. Use `wandb login --relogin` to force relogin\n",
      "wandb: wandb version 0.16.2 is available!  To upgrade, please run:\n",
      "wandb:  $ pip install wandb --upgrade\n",
      "wandb: Tracking run with wandb version 0.15.1\n",
      "wandb: Run data is saved locally in /lhome/ext/uv075/uv0752/perceptnet/Notebooks/13_JaX/13_07_V19_GaborFree/wandb/run-20240112_161111-5bcss9j4\n",
      "wandb: Run `wandb offline` to turn off syncing.\n",
      "wandb: Syncing run V19_128GaborFree_A\n",
      "wandb:  View project at https://wandb.ai/jorgvt/PerceptNet_JaX_Eval\n",
      "wandb:  View run at https://wandb.ai/jorgvt/PerceptNet_JaX_Eval/runs/5bcss9j4\n"
     ]
    },
    {
     "data": {
      "text/plain": [
       "A_GABOR: true\n",
       "A_GDNSPATIOFREQORIENT: true\n",
       "BATCH_SIZE: 64\n",
       "CS_KERNEL_SIZE: 21\n",
       "EPOCHS: 500\n",
       "GABOR_KERNEL_SIZE: 31\n",
       "GDNGAUSSIAN_KERNEL_SIZE: 11\n",
       "GDN_CLIPPING: true\n",
       "INIT_JH: true\n",
       "LEARNING_RATE: 0.003\n",
       "NORMALIZE_ENERGY: true\n",
       "NORMALIZE_PROB: false\n",
       "N_GABORS: 128\n",
       "SEED: 42\n",
       "USE_BIAS: false\n",
       "ZERO_MEAN: true"
      ]
     },
     "execution_count": 3,
     "metadata": {},
     "output_type": "execute_result"
    }
   ],
   "source": [
    "wandb.init(project=\"PerceptNet_JaX_Eval\",\n",
    "           name=prev_run.name,\n",
    "           job_type=\"evaluate\",\n",
    "           mode=\"online\",\n",
    "           )\n",
    "config = config\n",
    "config"
   ]
  },
  {
   "cell_type": "code",
   "execution_count": 11,
   "metadata": {},
   "outputs": [],
   "source": [
    "dst_rdy = dst.dataset.batch(config.BATCH_SIZE, num_parallel_calls=tf.data.AUTOTUNE)"
   ]
  },
  {
   "cell_type": "markdown",
   "metadata": {},
   "source": [
    "## Define the model we're going to use\n",
    "\n",
    "> It's going to be a very simple model just for demonstration purposes."
   ]
  },
  {
   "cell_type": "code",
   "execution_count": null,
   "metadata": {},
   "outputs": [],
   "source": [
    "#| exporti\n",
    "class FreqOrientGaussianGamma(nn.Module):\n",
    "    \"\"\"(1D) Gaussian interaction between frequencies and orientations optimizing gamma = 1/sigma instead of sigma.\"\"\"\n",
    "    use_bias: bool = False\n",
    "    strides: int = 1\n",
    "    padding: str = \"SAME\"\n",
    "    bias_init: Callable = nn.initializers.zeros_init()\n",
    "\n",
    "    @nn.compact\n",
    "    def __call__(self,\n",
    "                 inputs,\n",
    "                 fmean,\n",
    "                 theta_mean,\n",
    "                 **kwargs,\n",
    "                 ):\n",
    "        gamma_f = self.param(\"gamma_f\",\n",
    "                             k_array(1/0.4, arr=fmean),\n",
    "                             (inputs.shape[-1],))\n",
    "        gamma_theta = self.param(\"gamma_theta\",\n",
    "                                 equal_to(jnp.ones(shape=(len(theta_mean),)) * 20),\n",
    "                                 (inputs.shape[-1],))\n",
    "        if self.use_bias: bias = self.param(\"bias\",\n",
    "                                            self.bias_init,\n",
    "                                            (len(fmean),))\n",
    "        else: bias = 0.\n",
    "        # n_groups = inputs.shape[-1] // len(fmean)\n",
    "        kernel = jax.vmap(self.gaussian, in_axes=(None,None,0,0,0,0,None), out_axes=1)(fmean, theta_mean, fmean, theta_mean, gamma_f, gamma_theta, 1)\n",
    "        kernel = kernel[None,None,:,:]\n",
    "        # kernel = jnp.tile(kernel, reps=n_groups)\n",
    "\n",
    "        ## Add the batch dim if the input is a single element\n",
    "        if jnp.ndim(inputs) < 4: inputs = inputs[None,:]; had_batch = False\n",
    "        else: had_batch = True\n",
    "        outputs = lax.conv_general_dilated(\n",
    "                jnp.transpose(inputs,[0,3,1,2]),    # lhs = NCHW image tensor\n",
    "                jnp.transpose(kernel,[3,2,0,1]), # rhs = OIHW conv kernel tensor\n",
    "                (self.strides, self.strides),\n",
    "                self.padding)\n",
    "        ## Move the channels back to the last dim\n",
    "        outputs = jnp.transpose(outputs, (0,2,3,1))\n",
    "        if not had_batch: outputs = outputs[0]\n",
    "        return outputs + bias\n",
    "\n",
    "    @staticmethod\n",
    "    def gaussian(f, theta, fmean, theta_mean, gamma_f, gamma_theta, A=1):\n",
    "        return A*jnp.exp(-((gamma_f**2)*(f-fmean)**2)/(2))*jnp.exp(-((gamma_theta**2)*(theta-theta_mean)**2)/(2))"
   ]
  },
  {
   "cell_type": "code",
   "execution_count": null,
   "metadata": {},
   "outputs": [],
   "source": [
    "class GDNSpatioFreqOrient(nn.Module):\n",
    "    \"\"\"Generalized Divisive Normalization.\"\"\"\n",
    "    kernel_size: Union[int, Sequence[int]]\n",
    "    strides: int = 1\n",
    "    padding: str = \"SAME\"\n",
    "    # inputs_star: float = 1.\n",
    "    # outputs_star: Union[None, float] = None\n",
    "    fs: int = 1\n",
    "    apply_independently: bool = False\n",
    "    bias_init: Callable = nn.initializers.ones_init()\n",
    "    alpha: float = 2.\n",
    "    epsilon: float = 1/2 # Exponential of the denominator\n",
    "    eps: float = 1e-6 # Numerical stability in the denominator\n",
    "\n",
    "    @nn.compact\n",
    "    def __call__(self,\n",
    "                 inputs,\n",
    "                 fmean,\n",
    "                 theta_mean,\n",
    "                 train=False,\n",
    "                 ):\n",
    "        b, h, w, c = inputs.shape\n",
    "        bias = self.param(\"bias\",\n",
    "                          #equal_to(inputs_star/10),\n",
    "                          self.bias_init,\n",
    "                          (c,))\n",
    "        # is_initialized = self.has_variable(\"batch_stats\", \"inputs_star\")\n",
    "        # inputs_star = self.variable(\"batch_stats\", \"inputs_star\", lambda x: jnp.ones(x)*self.inputs_star, (len(self.inputs_star),))\n",
    "        # inputs_star_ = jnp.ones_like(inputs)*inputs_star.value\n",
    "        GL = GaussianLayerGamma(features=c, kernel_size=self.kernel_size, strides=self.strides, padding=\"VALID\", fs=self.fs, xmean=self.kernel_size/self.fs/2, ymean=self.kernel_size/self.fs/2, normalize_prob=config.NORMALIZE_PROB, normalize_energy=config.NORMALIZE_ENERGY, use_bias=False, feature_group_count=c)\n",
    "        FOG = FreqOrientGaussianGamma()\n",
    "        outputs = GL(pad_same_from_kernel_size(inputs, kernel_size=self.kernel_size, mode=self.padding)**self.alpha, train=train)#/(self.kernel_size**2)\n",
    "        outputs = FOG(outputs, fmean=fmean, theta_mean=theta_mean)\n",
    "\n",
    "        ## Coef\n",
    "        # coef = GL(inputs_star_**self.alpha, train=train)#/(self.kernel_size**2)\n",
    "        # coef = FG(coef, fmean=fmean)\n",
    "        # coef = rearrange(coef, \"b h w (phase theta f) -> b h w (phase f theta)\", b=b, h=h, w=w, phase=2, f=config.N_SCALES, theta=config.N_ORIENTATIONS)\n",
    "        # coef = OG(coef, theta_mean=theta_mean) + bias\n",
    "        # coef = rearrange(coef, \"b h w (phase f theta) -> b h w (phase theta f)\", b=b, h=h, w=w, phase=2, f=config.N_SCALES, theta=config.N_ORIENTATIONS)\n",
    "        # coef = jnp.clip(coef+bias, a_min=1e-5)**self.epsilon\n",
    "        # # coef = inputs_star.value * coef\n",
    "        # if self.outputs_star is not None: coef = coef/inputs_star.value*self.outputs_star\n",
    "\n",
    "        # if is_initialized and train:\n",
    "        #     inputs_star.value = (inputs_star.value + jnp.quantile(jnp.abs(inputs), q=0.95, axis=(0,1,2)))/2\n",
    "        # return coef * inputs / (jnp.clip(denom+bias, a_min=1e-5)**self.epsilon + self.eps)\n",
    "        return inputs / (jnp.clip(outputs+bias, a_min=1e-5)**self.epsilon + self.eps)"
   ]
  },
  {
   "cell_type": "code",
   "execution_count": null,
   "metadata": {},
   "outputs": [],
   "source": [
    "class PerceptNet(nn.Module):\n",
    "    \"\"\"IQA model inspired by the visual system.\"\"\"\n",
    "\n",
    "    @nn.compact\n",
    "    def __call__(self,\n",
    "                 inputs, # Assuming fs = 128 (cpd)\n",
    "                 **kwargs,\n",
    "                 ):\n",
    "        ## (Independent) Color equilibration (Gamma correction)\n",
    "        ## Might need to be the same for each number\n",
    "        ## bias = 0.1 / kernel = 0.5\n",
    "        outputs = GDN(kernel_size=(1,1), apply_independently=True)(inputs)\n",
    "        \n",
    "        ## Color (ATD) Transformation\n",
    "        outputs = nn.Conv(features=3, kernel_size=(1,1), use_bias=False)(outputs)\n",
    "        outputs = nn.max_pool(outputs, window_shape=(2,2), strides=(2,2))\n",
    "        \n",
    "        ## GDN Star A - T - D [Separated]\n",
    "        outputs = GDN(kernel_size=(1,1), apply_independently=True)(outputs)\n",
    "\n",
    "        ## Center Surround (DoG)\n",
    "        ## Initialized so that 3 are positives and 3 are negatives and no interaction between channels is present\n",
    "        outputs = pad_same_from_kernel_size(outputs, kernel_size=config.CS_KERNEL_SIZE, mode=\"symmetric\")\n",
    "        outputs = CenterSurroundLogSigmaK(features=3, kernel_size=config.CS_KERNEL_SIZE, fs=21, use_bias=False, padding=\"VALID\")(outputs, **kwargs)\n",
    "        outputs = nn.max_pool(outputs, window_shape=(2,2), strides=(2,2))\n",
    "\n",
    "        ## GDN per channel with mean substraction in T and D (Spatial Gaussian Kernel)\n",
    "        ### fs = 32 / kernel_size = (11,11) -> 0.32 > 0.02 --> OK!\n",
    "        ## TO-DO: - Spatial Gaussian Kernel (0.02 deg) -> fs = 64/2 & 0.02*64/2 = sigma (px) = 0.69\n",
    "        outputs = GDNGaussian(kernel_size=config.GDNGAUSSIAN_KERNEL_SIZE, apply_independently=True, fs=32, padding=\"symmetric\", normalize_prob=config.NORMALIZE_PROB, normalize_energy=config.NORMALIZE_ENERGY)(outputs, **kwargs)\n",
    "\n",
    "        ## GaborLayer per channel with GDN mixing only same-origin-channel information\n",
    "        ### [Gaussian] sigma = 0.2 (deg) fs = 32 / kernel_size = (21,21) -> 21/32 = 0.66 --> OK!\n",
    "        outputs = pad_same_from_kernel_size(outputs, kernel_size=config.GABOR_KERNEL_SIZE, mode=\"symmetric\")\n",
    "        outputs, fmean, theta_mean = GaborLayerGammaRepeat(features=config.N_GABORS, kernel_size=config.GABOR_KERNEL_SIZE, fs=32, xmean=config.GABOR_KERNEL_SIZE/32/2, ymean=config.GABOR_KERNEL_SIZE/32/2, strides=1, padding=\"VALID\", normalize_prob=config.NORMALIZE_PROB, normalize_energy=config.NORMALIZE_ENERGY, zero_mean=config.ZERO_MEAN, use_bias=config.USE_BIAS, train_A=config.A_GABOR)(outputs, return_freq=True, return_theta=True, **kwargs)\n",
    "        \n",
    "        ## Final GDN mixing Gabor information (?)\n",
    "        outputs = GDNSpatioFreqOrient(kernel_size=21, strides=1, padding=\"symmetric\", fs=32, apply_independently=False)(outputs, fmean=fmean, theta_mean=theta_mean, **kwargs)\n",
    "\n",
    "        return outputs"
   ]
  },
  {
   "cell_type": "markdown",
   "metadata": {},
   "source": [
    "## Define the metrics with `clu`"
   ]
  },
  {
   "cell_type": "code",
   "execution_count": 15,
   "metadata": {},
   "outputs": [],
   "source": [
    "@struct.dataclass\n",
    "class Metrics(metrics.Collection):\n",
    "    \"\"\"Collection of metrics to be tracked during training.\"\"\"\n",
    "    loss: metrics.Average.from_output(\"loss\")"
   ]
  },
  {
   "cell_type": "markdown",
   "metadata": {},
   "source": [
    "By default, `TrainState` doesn't include metrics, but it's very easy to subclass it so that it does:"
   ]
  },
  {
   "cell_type": "code",
   "execution_count": 16,
   "metadata": {},
   "outputs": [],
   "source": [
    "class TrainState(train_state.TrainState):\n",
    "    metrics: Metrics\n",
    "    state: FrozenDict"
   ]
  },
  {
   "cell_type": "markdown",
   "metadata": {},
   "source": [
    "We'll define a function that initializes the `TrainState` from a module, a rng key and some optimizer:"
   ]
  },
  {
   "cell_type": "code",
   "execution_count": 17,
   "metadata": {},
   "outputs": [],
   "source": [
    "def create_train_state(module, key, tx, input_shape):\n",
    "    \"\"\"Creates the initial `TrainState`.\"\"\"\n",
    "    variables = module.init(key, jnp.ones(input_shape))\n",
    "    state, params = variables.pop('params')\n",
    "    return TrainState.create(\n",
    "        apply_fn=module.apply,\n",
    "        params=params,\n",
    "        state=state,\n",
    "        tx=tx,\n",
    "        metrics=Metrics.empty()\n",
    "    )"
   ]
  },
  {
   "cell_type": "markdown",
   "metadata": {},
   "source": [
    "## Define evaluation step"
   ]
  },
  {
   "cell_type": "code",
   "execution_count": 18,
   "metadata": {},
   "outputs": [],
   "source": [
    "@jax.jit\n",
    "def compute_distance(*, state, batch):\n",
    "    \"\"\"Obtaining the metrics for a given batch.\"\"\"\n",
    "    img, img_dist, mos = batch\n",
    "    \n",
    "    ## Forward pass through the model\n",
    "    img_pred = state.apply_fn({\"params\": state.params, **state.state}, img, train=False)\n",
    "    img_dist_pred = state.apply_fn({\"params\": state.params, **state.state}, img_dist, train=False)\n",
    "\n",
    "    ## Calculate the distance\n",
    "    dist = ((img_pred - img_dist_pred)**2).sum(axis=(1,2,3))**(1/2)\n",
    "    \n",
    "    ## Calculate pearson correlation\n",
    "    return dist"
   ]
  },
  {
   "cell_type": "markdown",
   "metadata": {},
   "source": [
    "## Load the pretrained model!"
   ]
  },
  {
   "cell_type": "code",
   "execution_count": 19,
   "metadata": {},
   "outputs": [],
   "source": [
    "state = create_train_state(PerceptNet(), random.PRNGKey(config.SEED), optax.adam(config.LEARNING_RATE), input_shape=(1,384,512,3))"
   ]
  },
  {
   "cell_type": "code",
   "execution_count": 20,
   "metadata": {},
   "outputs": [],
   "source": [
    "def check_trainable(path):\n",
    "    return False\n",
    "    # return (\"A\" in path) or (\"alpha_achrom\" in path) or (\"alpha_chrom_rg\" in path) or (\"alpha_chrom_yb\" in path)"
   ]
  },
  {
   "cell_type": "code",
   "execution_count": 21,
   "metadata": {},
   "outputs": [],
   "source": [
    "trainable_tree = freeze(flax.traverse_util.path_aware_map(lambda path, v: \"non_trainable\" if check_trainable(path)  else \"trainable\", state.params))"
   ]
  },
  {
   "cell_type": "code",
   "execution_count": 4,
   "metadata": {},
   "outputs": [
    {
     "data": {
      "text/plain": [
       "(1849, 1849)"
      ]
     },
     "execution_count": 4,
     "metadata": {},
     "output_type": "execute_result"
    }
   ],
   "source": [
    "param_count = sum(x.size for x in jax.tree_util.tree_leaves(state.params))\n",
    "trainable_param_count = sum([w.size if t==\"trainable\" else 0 for w, t in zip(jax.tree_util.tree_leaves(state.params), jax.tree_util.tree_leaves(trainable_tree))])\n",
    "param_count, trainable_param_count"
   ]
  },
  {
   "cell_type": "code",
   "execution_count": 26,
   "metadata": {},
   "outputs": [
    {
     "ename": "<class 'AttributeError'>",
     "evalue": "'NoneType' object has no attribute 'summary'",
     "output_type": "error",
     "traceback": [
      "\u001b[0;31m---------------------------------------------------------------------------\u001b[0m",
      "\u001b[0;31mAttributeError\u001b[0m                            Traceback (most recent call last)",
      "Cell \u001b[0;32mIn[1], line 1\u001b[0m\n\u001b[0;32m----> 1\u001b[0m \u001b[43mwandb\u001b[49m\u001b[38;5;241;43m.\u001b[39;49m\u001b[43mrun\u001b[49m\u001b[38;5;241;43m.\u001b[39;49m\u001b[43msummary\u001b[49m[\u001b[38;5;124m\"\u001b[39m\u001b[38;5;124mtotal_parameters\u001b[39m\u001b[38;5;124m\"\u001b[39m] \u001b[38;5;241m=\u001b[39m param_count\n\u001b[1;32m      2\u001b[0m wandb\u001b[38;5;241m.\u001b[39mrun\u001b[38;5;241m.\u001b[39msummary[\u001b[38;5;124m\"\u001b[39m\u001b[38;5;124mtrainable_parameters\u001b[39m\u001b[38;5;124m\"\u001b[39m] \u001b[38;5;241m=\u001b[39m trainable_param_count\n",
      "\u001b[0;31mAttributeError\u001b[0m: 'NoneType' object has no attribute 'summary'"
     ]
    }
   ],
   "source": [
    "wandb.run.summary[\"total_parameters\"] = param_count\n",
    "wandb.run.summary[\"trainable_parameters\"] = trainable_param_count"
   ]
  },
  {
   "cell_type": "code",
   "execution_count": 23,
   "metadata": {},
   "outputs": [],
   "source": [
    "optimizers = {\n",
    "    \"trainable\": optax.adam(learning_rate=config.LEARNING_RATE),\n",
    "    \"non_trainable\": optax.set_to_zero(),\n",
    "}"
   ]
  },
  {
   "cell_type": "code",
   "execution_count": 24,
   "metadata": {},
   "outputs": [],
   "source": [
    "tx = optax.multi_transform(optimizers, trainable_tree)"
   ]
  },
  {
   "cell_type": "code",
   "execution_count": 25,
   "metadata": {},
   "outputs": [],
   "source": [
    "state = create_train_state(PerceptNet(), random.PRNGKey(config.SEED), tx, input_shape=(1,384,512,3))"
   ]
  },
  {
   "cell_type": "code",
   "execution_count": 27,
   "metadata": {},
   "outputs": [],
   "source": [
    "# Before actually training the model we're going to set up the checkpointer to be able to save our trained models:\n",
    "orbax_checkpointer = orbax.checkpoint.PyTreeCheckpointer()\n",
    "save_args = orbax_utils.save_args_from_target(state)"
   ]
  },
  {
   "cell_type": "code",
   "execution_count": 30,
   "metadata": {},
   "outputs": [],
   "source": [
    "# Load weights\n",
    "state = orbax_checkpointer.restore(os.path.join(prev_run.dir,\"model-best\"), item=state)"
   ]
  },
  {
   "cell_type": "markdown",
   "metadata": {},
   "source": [
    "## Evaluate!"
   ]
  },
  {
   "cell_type": "code",
   "execution_count": 31,
   "metadata": {},
   "outputs": [],
   "source": [
    "metrics_history = {\n",
    "    \"distance\": [],\n",
    "    \"mos\": [],\n",
    "}"
   ]
  },
  {
   "cell_type": "code",
   "execution_count": 41,
   "metadata": {},
   "outputs": [
    {
     "name": "stdout",
     "output_type": "stream",
     "text": [
      "CPU times: user 2min 47s, sys: 1min 3s, total: 3min 51s\n",
      "Wall time: 14min 38s\n"
     ]
    },
    {
     "name": "stderr",
     "output_type": "stream",
     "text": [
      "\r",
      "0it [00:00, ?it/s]\r",
      "1it [00:10, 10.62s/it]\r",
      "3it [00:10,  2.84s/it]\r",
      "4it [00:14,  3.02s/it]\r",
      "5it [00:17,  3.03s/it]\r",
      "6it [00:20,  3.09s/it]\r",
      "7it [00:23,  3.10s/it]\r",
      "8it [00:26,  3.11s/it]\r",
      "9it [00:29,  3.05s/it]\r",
      "10it [00:32,  3.08s/it]\r",
      "11it [00:35,  2.97s/it]\r",
      "12it [00:38,  2.96s/it]\r",
      "13it [00:40,  2.81s/it]\r",
      "14it [00:43,  2.72s/it]\r",
      "15it [00:46,  2.69s/it]\r",
      "16it [00:59,  6.00s/it]\r",
      "17it [01:02,  5.10s/it]\r",
      "18it [01:05,  4.37s/it]\r",
      "19it [01:08,  3.86s/it]\r",
      "20it [01:10,  3.52s/it]\r",
      "21it [01:13,  3.28s/it]\r",
      "22it [01:16,  3.11s/it]\r",
      "23it [01:19,  3.02s/it]\r",
      "24it [01:21,  2.89s/it]\r",
      "25it [01:23,  2.72s/it]\r",
      "26it [01:26,  2.59s/it]\r",
      "27it [01:28,  2.58s/it]\r",
      "28it [01:31,  2.56s/it]\r",
      "29it [01:33,  2.44s/it]\r",
      "30it [01:36,  2.54s/it]\r",
      "31it [01:38,  2.57s/it]\r",
      "32it [01:41,  2.52s/it]\r",
      "33it [01:43,  2.46s/it]\r",
      "34it [01:46,  2.58s/it]\r",
      "35it [01:49,  2.62s/it]\r",
      "36it [01:51,  2.55s/it]\r",
      "37it [01:53,  2.44s/it]\r",
      "38it [01:55,  2.36s/it]\r",
      "39it [01:58,  2.36s/it]\r",
      "40it [02:00,  2.37s/it]\r",
      "41it [02:02,  2.33s/it]\r",
      "42it [02:04,  2.24s/it]\r",
      "43it [02:07,  2.23s/it]\r",
      "44it [02:09,  2.41s/it]\r",
      "45it [02:12,  2.39s/it]\r",
      "46it [02:15,  2.48s/it]\r",
      "47it [02:17,  2.49s/it]\r",
      "48it [02:19,  2.44s/it]\r",
      "49it [02:22,  2.51s/it]\r",
      "50it [02:24,  2.49s/it]\r",
      "51it [02:27,  2.48s/it]\r",
      "52it [02:29,  2.50s/it]\r",
      "53it [02:32,  2.48s/it]\r",
      "54it [02:34,  2.45s/it]\r",
      "55it [02:37,  2.49s/it]\r",
      "56it [02:39,  2.48s/it]\r",
      "57it [02:42,  2.57s/it]\r",
      "58it [02:45,  2.53s/it]\r",
      "59it [02:47,  2.53s/it]\r",
      "60it [02:50,  2.55s/it]\r",
      "61it [02:52,  2.54s/it]\r",
      "62it [02:55,  2.58s/it]\r",
      "63it [02:57,  2.54s/it]\r",
      "64it [03:00,  2.55s/it]\r",
      "65it [03:02,  2.55s/it]\r",
      "66it [03:05,  2.43s/it]\r",
      "67it [03:07,  2.46s/it]\r",
      "68it [03:10,  2.44s/it]\r",
      "69it [03:12,  2.41s/it]\r",
      "70it [03:14,  2.42s/it]\r",
      "71it [03:17,  2.44s/it]\r",
      "72it [03:19,  2.46s/it]\r",
      "73it [03:22,  2.43s/it]\r",
      "74it [03:24,  2.41s/it]\r",
      "75it [03:26,  2.34s/it]\r",
      "76it [03:29,  2.40s/it]\r",
      "77it [03:31,  2.38s/it]\r",
      "78it [03:34,  2.47s/it]\r",
      "79it [03:36,  2.38s/it]\r",
      "80it [03:38,  2.38s/it]\r",
      "81it [03:41,  2.52s/it]\r",
      "82it [03:43,  2.42s/it]\r",
      "83it [03:46,  2.36s/it]\r",
      "84it [03:48,  2.36s/it]\r",
      "85it [03:50,  2.40s/it]\r",
      "86it [03:53,  2.32s/it]\r",
      "87it [03:55,  2.22s/it]\r",
      "88it [03:57,  2.26s/it]\r",
      "89it [03:59,  2.25s/it]\r",
      "90it [04:02,  2.38s/it]\r",
      "91it [04:05,  2.52s/it]\r",
      "92it [04:08,  2.83s/it]\r",
      "93it [04:11,  2.91s/it]\r",
      "94it [04:14,  2.90s/it]\r",
      "95it [04:17,  2.93s/it]\r",
      "96it [04:20,  2.94s/it]\r",
      "97it [04:23,  2.98s/it]\r",
      "98it [04:26,  2.93s/it]\r",
      "99it [04:29,  2.88s/it]\r",
      "100it [04:31,  2.81s/it]\r",
      "101it [04:34,  2.74s/it]\r",
      "102it [04:37,  2.81s/it]\r",
      "103it [04:40,  2.77s/it]\r",
      "104it [04:42,  2.68s/it]\r",
      "105it [04:45,  2.66s/it]\r",
      "106it [04:47,  2.67s/it]\r",
      "107it [04:50,  2.61s/it]\r",
      "108it [04:52,  2.59s/it]\r",
      "109it [04:55,  2.58s/it]\r",
      "110it [04:58,  2.60s/it]\r",
      "111it [05:00,  2.62s/it]\r",
      "112it [05:03,  2.60s/it]\r",
      "113it [05:05,  2.52s/it]\r",
      "114it [05:08,  2.51s/it]\r",
      "115it [05:10,  2.51s/it]\r",
      "116it [05:13,  2.49s/it]\r",
      "117it [05:15,  2.43s/it]\r",
      "118it [05:17,  2.40s/it]\r",
      "119it [05:20,  2.37s/it]\r",
      "120it [05:22,  2.38s/it]\r",
      "121it [05:24,  2.40s/it]\r",
      "122it [05:27,  2.43s/it]\r",
      "123it [05:29,  2.32s/it]\r",
      "124it [05:32,  2.41s/it]\r",
      "125it [05:34,  2.43s/it]\r",
      "126it [05:37,  2.52s/it]\r",
      "127it [05:40,  2.58s/it]\r",
      "128it [05:42,  2.52s/it]\r",
      "129it [05:45,  2.58s/it]\r",
      "130it [05:47,  2.58s/it]\r",
      "131it [05:50,  2.58s/it]\r",
      "132it [05:52,  2.48s/it]\r",
      "133it [05:54,  2.43s/it]\r",
      "134it [05:57,  2.40s/it]\r",
      "135it [05:59,  2.37s/it]\r",
      "136it [06:01,  2.31s/it]\r",
      "137it [06:04,  2.36s/it]\r",
      "138it [06:06,  2.36s/it]\r",
      "139it [06:08,  2.38s/it]\r",
      "140it [06:11,  2.38s/it]\r",
      "141it [06:13,  2.33s/it]\r",
      "142it [06:15,  2.27s/it]\r",
      "143it [06:17,  2.21s/it]\r",
      "144it [06:19,  2.20s/it]\r",
      "145it [06:22,  2.17s/it]\r",
      "146it [06:24,  2.22s/it]\r",
      "147it [06:26,  2.20s/it]\r",
      "148it [06:28,  2.12s/it]\r",
      "149it [06:30,  2.16s/it]\r",
      "150it [06:32,  2.10s/it]\r",
      "151it [06:34,  2.12s/it]\r",
      "152it [06:36,  2.11s/it]\r",
      "153it [06:38,  2.09s/it]\r",
      "154it [06:41,  2.13s/it]\r",
      "155it [06:43,  2.15s/it]\r",
      "156it [06:45,  2.18s/it]\r",
      "157it [06:47,  2.15s/it]\r",
      "158it [06:49,  2.18s/it]\r",
      "159it [06:51,  2.08s/it]\r",
      "160it [06:53,  2.02s/it]\r",
      "161it [06:55,  1.94s/it]\r",
      "162it [06:57,  1.89s/it]\r",
      "163it [06:59,  1.95s/it]\r",
      "164it [07:01,  1.99s/it]\r",
      "165it [07:03,  1.97s/it]\r",
      "166it [07:05,  2.00s/it]\r",
      "167it [07:07,  2.09s/it]\r",
      "168it [07:09,  2.11s/it]\r",
      "169it [07:11,  2.00s/it]\r",
      "170it [07:13,  2.06s/it]\r",
      "171it [07:15,  2.08s/it]\r",
      "172it [07:17,  2.08s/it]\r",
      "173it [07:19,  1.97s/it]\r",
      "174it [07:21,  1.95s/it]\r",
      "175it [07:23,  2.02s/it]\r",
      "176it [07:25,  1.98s/it]\r",
      "177it [07:27,  1.88s/it]\r",
      "178it [07:29,  1.84s/it]\r",
      "179it [07:31,  1.88s/it]\r",
      "180it [07:32,  1.84s/it]\r",
      "181it [07:34,  1.84s/it]\r",
      "182it [07:37,  2.19s/it]\r",
      "183it [07:40,  2.51s/it]\r",
      "184it [07:44,  2.72s/it]\r",
      "185it [07:47,  2.82s/it]\r",
      "186it [07:50,  2.86s/it]\r",
      "187it [07:53,  2.94s/it]\r",
      "188it [07:56,  2.97s/it]\r",
      "189it [07:58,  2.87s/it]\r",
      "190it [08:01,  2.81s/it]\r",
      "191it [08:04,  2.78s/it]\r",
      "192it [08:06,  2.70s/it]\r",
      "193it [08:09,  2.66s/it]\r",
      "194it [08:12,  2.74s/it]\r",
      "195it [08:14,  2.68s/it]\r",
      "196it [08:17,  2.59s/it]\r",
      "197it [08:19,  2.61s/it]\r",
      "198it [08:22,  2.62s/it]\r",
      "199it [08:24,  2.52s/it]\r",
      "200it [08:28,  3.00s/it]\r",
      "201it [08:31,  2.78s/it]\r",
      "202it [08:33,  2.57s/it]\r",
      "203it [08:35,  2.47s/it]\r",
      "204it [08:37,  2.39s/it]\r",
      "205it [08:40,  2.41s/it]\r",
      "206it [08:42,  2.41s/it]\r",
      "207it [08:44,  2.35s/it]\r",
      "208it [08:46,  2.20s/it]\r",
      "209it [08:49,  2.27s/it]\r",
      "210it [08:51,  2.19s/it]\r",
      "211it [08:53,  2.13s/it]\r",
      "212it [08:55,  2.14s/it]\r",
      "213it [08:57,  2.24s/it]\r",
      "214it [08:59,  2.21s/it]\r",
      "215it [09:01,  2.15s/it]\r",
      "216it [09:04,  2.16s/it]\r",
      "217it [09:05,  2.04s/it]\r",
      "218it [09:08,  2.12s/it]\r",
      "219it [09:10,  2.10s/it]\r",
      "220it [09:11,  2.00s/it]\r",
      "221it [09:13,  1.98s/it]\r",
      "222it [09:16,  2.05s/it]\r",
      "223it [09:18,  2.09s/it]\r",
      "224it [09:20,  2.04s/it]\r",
      "225it [09:22,  2.16s/it]\r",
      "226it [09:24,  2.13s/it]\r",
      "227it [09:26,  2.07s/it]\r",
      "228it [09:28,  2.05s/it]\r",
      "229it [09:30,  1.99s/it]\r",
      "230it [09:32,  2.02s/it]\r",
      "231it [09:34,  2.05s/it]\r",
      "232it [09:36,  2.07s/it]\r",
      "233it [09:38,  2.05s/it]\r",
      "234it [09:40,  2.00s/it]\r",
      "235it [09:42,  2.00s/it]\r",
      "236it [09:44,  2.08s/it]\r",
      "237it [09:46,  2.05s/it]\r",
      "238it [09:48,  1.99s/it]\r",
      "239it [09:50,  2.03s/it]\r",
      "240it [09:52,  2.05s/it]\r",
      "241it [09:55,  2.05s/it]\r",
      "242it [09:57,  2.05s/it]\r",
      "243it [09:59,  2.08s/it]\r",
      "244it [10:01,  2.13s/it]\r",
      "245it [10:03,  2.05s/it]\r",
      "246it [10:05,  2.07s/it]\r",
      "247it [10:07,  2.01s/it]\r",
      "248it [10:09,  2.02s/it]\r",
      "249it [10:11,  2.12s/it]\r",
      "250it [10:14,  2.18s/it]\r",
      "251it [10:16,  2.25s/it]\r",
      "252it [10:18,  2.25s/it]\r",
      "253it [10:20,  2.20s/it]\r",
      "254it [10:23,  2.21s/it]\r",
      "255it [10:25,  2.16s/it]\r",
      "256it [10:27,  2.15s/it]\r",
      "257it [10:28,  2.03s/it]\r",
      "258it [10:30,  1.96s/it]\r",
      "259it [10:32,  1.98s/it]\r",
      "260it [10:34,  1.96s/it]\r",
      "261it [10:36,  1.94s/it]\r",
      "262it [10:38,  2.01s/it]\r",
      "263it [10:40,  1.97s/it]\r",
      "264it [10:42,  2.01s/it]\r",
      "265it [10:44,  2.07s/it]\r",
      "266it [10:46,  2.06s/it]\r",
      "267it [10:48,  2.03s/it]\r",
      "268it [10:51,  2.06s/it]\r",
      "269it [10:53,  2.14s/it]\r",
      "270it [10:55,  2.10s/it]\r",
      "271it [10:57,  2.02s/it]\r",
      "272it [10:59,  2.02s/it]\r",
      "273it [11:02,  2.52s/it]\r",
      "274it [11:06,  2.80s/it]\r",
      "275it [11:09,  2.92s/it]\r",
      "276it [11:12,  2.91s/it]\r",
      "277it [11:15,  2.93s/it]\r",
      "278it [11:18,  2.85s/it]\r",
      "279it [11:20,  2.79s/it]\r",
      "280it [11:23,  2.85s/it]\r",
      "281it [11:26,  2.88s/it]\r",
      "282it [11:29,  2.78s/it]\r",
      "283it [11:31,  2.71s/it]\r",
      "284it [11:34,  2.71s/it]\r",
      "285it [11:37,  2.75s/it]\r",
      "286it [11:40,  2.73s/it]\r",
      "287it [11:42,  2.61s/it]\r",
      "288it [11:44,  2.58s/it]\r",
      "289it [11:47,  2.60s/it]\r",
      "290it [11:49,  2.50s/it]\r",
      "291it [11:52,  2.44s/it]\r",
      "292it [11:54,  2.39s/it]\r",
      "293it [11:57,  2.47s/it]\r",
      "294it [11:59,  2.38s/it]\r",
      "295it [12:01,  2.45s/it]\r",
      "296it [12:04,  2.43s/it]\r",
      "297it [12:06,  2.35s/it]\r",
      "298it [12:08,  2.27s/it]\r",
      "299it [12:10,  2.25s/it]\r",
      "300it [12:13,  2.33s/it]\r",
      "301it [12:15,  2.40s/it]\r",
      "302it [12:18,  2.39s/it]\r",
      "303it [12:20,  2.29s/it]\r",
      "304it [12:22,  2.28s/it]\r",
      "305it [12:25,  2.40s/it]\r",
      "306it [12:27,  2.38s/it]\r",
      "307it [12:29,  2.36s/it]\r",
      "308it [12:32,  2.36s/it]\r",
      "309it [12:34,  2.42s/it]\r",
      "310it [12:36,  2.34s/it]\r",
      "311it [12:39,  2.37s/it]\r",
      "312it [12:41,  2.34s/it]\r",
      "313it [12:43,  2.25s/it]\r",
      "314it [12:46,  2.30s/it]\r",
      "315it [12:48,  2.30s/it]\r",
      "316it [12:50,  2.24s/it]\r",
      "317it [12:52,  2.31s/it]\r",
      "318it [12:55,  2.33s/it]\r",
      "319it [12:57,  2.31s/it]\r",
      "320it [12:59,  2.32s/it]\r",
      "321it [13:01,  2.21s/it]\r",
      "322it [13:03,  2.20s/it]\r",
      "323it [13:06,  2.22s/it]\r",
      "324it [13:08,  2.23s/it]\r",
      "325it [13:10,  2.22s/it]\r",
      "326it [13:12,  2.18s/it]\r",
      "327it [13:14,  2.19s/it]\r",
      "328it [13:17,  2.19s/it]\r",
      "329it [13:19,  2.16s/it]\r",
      "330it [13:21,  2.15s/it]\r",
      "331it [13:23,  2.19s/it]\r",
      "332it [13:26,  2.23s/it]\r",
      "333it [13:28,  2.31s/it]\r",
      "334it [13:30,  2.33s/it]\r",
      "335it [13:32,  2.25s/it]\r",
      "336it [13:35,  2.26s/it]\r",
      "337it [13:37,  2.17s/it]\r",
      "338it [13:39,  2.17s/it]\r",
      "339it [13:41,  2.25s/it]\r",
      "340it [13:44,  2.24s/it]\r",
      "341it [13:46,  2.25s/it]\r",
      "342it [13:48,  2.18s/it]\r",
      "343it [13:50,  2.12s/it]\r",
      "344it [13:52,  2.13s/it]\r",
      "345it [13:54,  2.13s/it]\r",
      "346it [13:56,  2.11s/it]\r",
      "347it [13:58,  2.14s/it]\r",
      "348it [14:00,  2.11s/it]\r",
      "349it [14:02,  2.11s/it]\r",
      "350it [14:05,  2.10s/it]\r",
      "351it [14:07,  2.12s/it]\r",
      "352it [14:09,  2.06s/it]\r",
      "353it [14:11,  2.07s/it]\r",
      "354it [14:13,  2.15s/it]\r",
      "355it [14:15,  2.11s/it]\r",
      "356it [14:17,  2.12s/it]\r",
      "357it [14:20,  2.16s/it]\r",
      "358it [14:22,  2.16s/it]\r",
      "359it [14:25,  2.45s/it]\r",
      "360it [14:27,  2.41s/it]\r",
      "361it [14:30,  2.49s/it]\r",
      "362it [14:32,  2.50s/it]\r",
      "363it [14:38,  3.35s/it]\r",
      "363it [14:38,  2.42s/it]\n"
     ]
    }
   ],
   "source": [
    "%%time\n",
    "for batch in tqdm(dst_rdy.as_numpy_iterator()):\n",
    "    img, img_dist, mos = batch\n",
    "    distance = compute_distance(state=state, batch=batch)\n",
    "    metrics_history[\"distance\"].extend(distance)\n",
    "    metrics_history[\"mos\"].extend(mos)\n",
    "    # break"
   ]
  },
  {
   "cell_type": "code",
   "execution_count": null,
   "metadata": {},
   "outputs": [],
   "source": [
    "assert len(metrics_history[\"distance\"]) == len(dst.data)"
   ]
  },
  {
   "cell_type": "code",
   "execution_count": 5,
   "metadata": {},
   "outputs": [
    {
     "data": {
      "text/plain": [
       "(PearsonRResult(statistic=-0.5275163823023901, pvalue=0.0),\n",
       " SignificanceResult(statistic=-0.47370020277553276, pvalue=0.0))"
      ]
     },
     "execution_count": 5,
     "metadata": {},
     "output_type": "execute_result"
    }
   ],
   "source": [
    "stats.pearsonr(metrics_history[\"distance\"], metrics_history[\"mos\"]), stats.spearmanr(metrics_history[\"distance\"], metrics_history[\"mos\"])"
   ]
  },
  {
   "cell_type": "code",
   "execution_count": 6,
   "metadata": {},
   "outputs": [
    {
     "data": {
      "text/html": [
       "<div>\n",
       "<style scoped>\n",
       "    .dataframe tbody tr th:only-of-type {\n",
       "        vertical-align: middle;\n",
       "    }\n",
       "\n",
       "    .dataframe tbody tr th {\n",
       "        vertical-align: top;\n",
       "    }\n",
       "\n",
       "    .dataframe thead th {\n",
       "        text-align: right;\n",
       "    }\n",
       "</style>\n",
       "<table border=\"1\" class=\"dataframe\">\n",
       "  <thead>\n",
       "    <tr style=\"text-align: right;\">\n",
       "      <th></th>\n",
       "      <th>Reference</th>\n",
       "      <th>Distorted</th>\n",
       "      <th>MOS</th>\n",
       "      <th>Directory</th>\n",
       "      <th>Distance</th>\n",
       "    </tr>\n",
       "  </thead>\n",
       "  <tbody>\n",
       "    <tr>\n",
       "      <th>0</th>\n",
       "      <td>A0001.bmp</td>\n",
       "      <td>A0001_00_00.bmp</td>\n",
       "      <td>1520.0648</td>\n",
       "      <td>Distortion_1</td>\n",
       "      <td>17.953259</td>\n",
       "    </tr>\n",
       "    <tr>\n",
       "      <th>1</th>\n",
       "      <td>A0001.bmp</td>\n",
       "      <td>A0001_00_01.bmp</td>\n",
       "      <td>1437.0798</td>\n",
       "      <td>Distortion_1</td>\n",
       "      <td>23.410892</td>\n",
       "    </tr>\n",
       "    <tr>\n",
       "      <th>2</th>\n",
       "      <td>A0001.bmp</td>\n",
       "      <td>A0001_00_02.bmp</td>\n",
       "      <td>1546.0616</td>\n",
       "      <td>Distortion_1</td>\n",
       "      <td>15.170076</td>\n",
       "    </tr>\n",
       "    <tr>\n",
       "      <th>3</th>\n",
       "      <td>A0001.bmp</td>\n",
       "      <td>A0001_00_03.bmp</td>\n",
       "      <td>1539.5688</td>\n",
       "      <td>Distortion_1</td>\n",
       "      <td>20.205013</td>\n",
       "    </tr>\n",
       "    <tr>\n",
       "      <th>4</th>\n",
       "      <td>A0001.bmp</td>\n",
       "      <td>A0001_00_04.bmp</td>\n",
       "      <td>1411.7958</td>\n",
       "      <td>Distortion_1</td>\n",
       "      <td>25.083477</td>\n",
       "    </tr>\n",
       "  </tbody>\n",
       "</table>\n",
       "</div>"
      ],
      "text/plain": [
       "   Reference        Distorted        MOS     Directory   Distance\n",
       "0  A0001.bmp  A0001_00_00.bmp  1520.0648  Distortion_1  17.953259\n",
       "1  A0001.bmp  A0001_00_01.bmp  1437.0798  Distortion_1  23.410892\n",
       "2  A0001.bmp  A0001_00_02.bmp  1546.0616  Distortion_1  15.170076\n",
       "3  A0001.bmp  A0001_00_03.bmp  1539.5688  Distortion_1  20.205013\n",
       "4  A0001.bmp  A0001_00_04.bmp  1411.7958  Distortion_1  25.083477"
      ]
     },
     "execution_count": 6,
     "metadata": {},
     "output_type": "execute_result"
    }
   ],
   "source": [
    "results = dst.data.copy()\n",
    "results[\"Distance\"] = metrics_history[\"distance\"]\n",
    "results.head()"
   ]
  },
  {
   "cell_type": "code",
   "execution_count": null,
   "metadata": {},
   "outputs": [
    {
     "ename": "<class 'wandb.errors.Error'>",
     "evalue": "You must call wandb.init() before wandb.log()",
     "output_type": "error",
     "traceback": [
      "\u001b[0;31m---------------------------------------------------------------------------\u001b[0m",
      "\u001b[0;31mError\u001b[0m                                     Traceback (most recent call last)",
      "Cell \u001b[0;32mIn[1], line 1\u001b[0m\n\u001b[0;32m----> 1\u001b[0m \u001b[43mwandb\u001b[49m\u001b[38;5;241;43m.\u001b[39;49m\u001b[43mlog\u001b[49m\u001b[43m(\u001b[49m\u001b[43m{\u001b[49m\u001b[38;5;124;43m\"\u001b[39;49m\u001b[38;5;124;43mPIPAL\u001b[39;49m\u001b[38;5;124;43m\"\u001b[39;49m\u001b[43m:\u001b[49m\u001b[43m \u001b[49m\u001b[43mwandb\u001b[49m\u001b[38;5;241;43m.\u001b[39;49m\u001b[43mTable\u001b[49m\u001b[43m(\u001b[49m\u001b[43mdataframe\u001b[49m\u001b[38;5;241;43m=\u001b[39;49m\u001b[43mresults\u001b[49m\u001b[43m)\u001b[49m\u001b[43m,\u001b[49m\n\u001b[1;32m      2\u001b[0m \u001b[43m           \u001b[49m\u001b[38;5;124;43m\"\u001b[39;49m\u001b[38;5;124;43mPIPAL_pearson\u001b[39;49m\u001b[38;5;124;43m\"\u001b[39;49m\u001b[43m:\u001b[49m\u001b[43m \u001b[49m\u001b[43mstats\u001b[49m\u001b[38;5;241;43m.\u001b[39;49m\u001b[43mpearsonr\u001b[49m\u001b[43m(\u001b[49m\u001b[43mmetrics_history\u001b[49m\u001b[43m[\u001b[49m\u001b[38;5;124;43m\"\u001b[39;49m\u001b[38;5;124;43mdistance\u001b[39;49m\u001b[38;5;124;43m\"\u001b[39;49m\u001b[43m]\u001b[49m\u001b[43m,\u001b[49m\u001b[43m \u001b[49m\u001b[43mmetrics_history\u001b[49m\u001b[43m[\u001b[49m\u001b[38;5;124;43m\"\u001b[39;49m\u001b[38;5;124;43mmos\u001b[39;49m\u001b[38;5;124;43m\"\u001b[39;49m\u001b[43m]\u001b[49m\u001b[43m)\u001b[49m\u001b[43m[\u001b[49m\u001b[38;5;241;43m0\u001b[39;49m\u001b[43m]\u001b[49m\u001b[43m,\u001b[49m\n\u001b[1;32m      3\u001b[0m \u001b[43m           \u001b[49m\u001b[38;5;124;43m\"\u001b[39;49m\u001b[38;5;124;43mPIPAL_spearman\u001b[39;49m\u001b[38;5;124;43m\"\u001b[39;49m\u001b[43m:\u001b[49m\u001b[43m \u001b[49m\u001b[43mstats\u001b[49m\u001b[38;5;241;43m.\u001b[39;49m\u001b[43mspearmanr\u001b[49m\u001b[43m(\u001b[49m\u001b[43mmetrics_history\u001b[49m\u001b[43m[\u001b[49m\u001b[38;5;124;43m\"\u001b[39;49m\u001b[38;5;124;43mdistance\u001b[39;49m\u001b[38;5;124;43m\"\u001b[39;49m\u001b[43m]\u001b[49m\u001b[43m,\u001b[49m\u001b[43m \u001b[49m\u001b[43mmetrics_history\u001b[49m\u001b[43m[\u001b[49m\u001b[38;5;124;43m\"\u001b[39;49m\u001b[38;5;124;43mmos\u001b[39;49m\u001b[38;5;124;43m\"\u001b[39;49m\u001b[43m]\u001b[49m\u001b[43m)\u001b[49m\u001b[43m[\u001b[49m\u001b[38;5;241;43m0\u001b[39;49m\u001b[43m]\u001b[49m\u001b[43m,\u001b[49m\n\u001b[1;32m      4\u001b[0m \u001b[43m           \u001b[49m\u001b[43m}\u001b[49m\u001b[43m)\u001b[49m\n",
      "File \u001b[0;32m~/miniconda3/envs/testing_gpu/lib/python3.8/site-packages/wandb/sdk/lib/preinit.py:36\u001b[0m, in \u001b[0;36mPreInitCallable.<locals>.preinit_wrapper\u001b[0;34m(*args, **kwargs)\u001b[0m\n\u001b[1;32m     35\u001b[0m \u001b[38;5;28;01mdef\u001b[39;00m \u001b[38;5;21mpreinit_wrapper\u001b[39m(\u001b[38;5;241m*\u001b[39margs: Any, \u001b[38;5;241m*\u001b[39m\u001b[38;5;241m*\u001b[39mkwargs: Any) \u001b[38;5;241m-\u001b[39m\u001b[38;5;241m>\u001b[39m Any:\n\u001b[0;32m---> 36\u001b[0m     \u001b[38;5;28;01mraise\u001b[39;00m wandb\u001b[38;5;241m.\u001b[39mError(\u001b[38;5;124mf\u001b[39m\u001b[38;5;124m\"\u001b[39m\u001b[38;5;124mYou must call wandb.init() before \u001b[39m\u001b[38;5;132;01m{\u001b[39;00mname\u001b[38;5;132;01m}\u001b[39;00m\u001b[38;5;124m()\u001b[39m\u001b[38;5;124m\"\u001b[39m)\n",
      "\u001b[0;31mError\u001b[0m: You must call wandb.init() before wandb.log()"
     ]
    }
   ],
   "source": [
    "wandb.log({\"PIPAL\": wandb.Table(dataframe=results),\n",
    "           \"PIPAL_pearson\": stats.pearsonr(metrics_history[\"distance\"], metrics_history[\"mos\"])[0],\n",
    "           \"PIPAL_spearman\": stats.spearmanr(metrics_history[\"distance\"], metrics_history[\"mos\"])[0],\n",
    "           })"
   ]
  },
  {
   "cell_type": "code",
   "execution_count": null,
   "metadata": {},
   "outputs": [],
   "source": [
    "wandb.finish()"
   ]
  }
 ],
 "metadata": {
  "kernelspec": {
   "display_name": "testing_gpu",
   "language": "python",
   "name": "python3"
  },
  "language_info": {
   "codemirror_mode": {
    "name": "ipython",
    "version": 3
   },
   "file_extension": ".py",
   "mimetype": "text/x-python",
   "name": "python",
   "nbconvert_exporter": "python",
   "pygments_lexer": "ipython3",
   "version": "3.8.16"
  }
 },
 "nbformat": 4,
 "nbformat_minor": 2
}
