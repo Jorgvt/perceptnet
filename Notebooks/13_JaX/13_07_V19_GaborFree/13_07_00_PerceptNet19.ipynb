{
 "cells": [
  {
   "cell_type": "code",
   "execution_count": 1,
   "metadata": {},
   "outputs": [],
   "source": [
    "%load_ext autoreload\n",
    "%autoreload 2"
   ]
  },
  {
   "attachments": {},
   "cell_type": "markdown",
   "metadata": {},
   "source": [
    "# IQA tracking params and variables\n",
    "\n",
    "> When using parametric layers we have to be able to keep track of the parameters and the variables of the model (which are not going to be trained). We're going to play with this concept using our implementation of the functional layers."
   ]
  },
  {
   "cell_type": "code",
   "execution_count": 2,
   "metadata": {},
   "outputs": [],
   "source": [
    "# import os; os.environ[\"XLA_PYTHON_CLIENT_MEM_FRACTION\"]=\".99\""
   ]
  },
  {
   "cell_type": "code",
   "execution_count": 3,
   "metadata": {},
   "outputs": [
    {
     "name": "stderr",
     "output_type": "stream",
     "text": [
      "2024-03-06 13:50:58.424465: I tensorflow/core/platform/cpu_feature_guard.cc:182] This TensorFlow binary is optimized to use available CPU instructions in performance-critical operations.\n",
      "To enable the following instructions: AVX2 AVX512F FMA, in other operations, rebuild TensorFlow with the appropriate compiler flags.\n",
      "2024-03-06 13:50:59.908473: W tensorflow/compiler/tf2tensorrt/utils/py_utils.cc:38] TF-TRT Warning: Could not find TensorRT\n",
      "2024-03-06 13:51:06.211054: W external/xla/xla/service/platform_util.cc:198] unable to create StreamExecutor for CUDA:0: failed initializing StreamExecutor for CUDA device ordinal 0: INTERNAL: failed call to cuDevicePrimaryCtxRetain: CUDA_ERROR_DEVICE_UNAVAILABLE: CUDA-capable device(s) is/are busy or unavailable\n",
      "No GPU/TPU found, falling back to CPU. (Set TF_CPP_MIN_LOG_LEVEL=0 and rerun for more info.)\n",
      "2024-03-06 13:51:06.211108: W external/xla/xla/service/platform_util.cc:198] unable to create StreamExecutor for CUDA:1: failed initializing StreamExecutor for CUDA device ordinal 1: INTERNAL: failed call to cuDevicePrimaryCtxRetain: CUDA_ERROR_DEVICE_UNAVAILABLE: CUDA-capable device(s) is/are busy or unavailable\n"
     ]
    }
   ],
   "source": [
    "import os\n",
    "# os.environ[\"CUDA_VISIBLE_DEVICES\"] = \"-1\"\n",
    "\n",
    "from typing import Any, Callable, Sequence, Union\n",
    "import numpy as np\n",
    "\n",
    "import tensorflow as tf\n",
    "tf.config.set_visible_devices([], device_type='GPU')\n",
    "\n",
    "import jax\n",
    "from jax import lax, random, numpy as jnp\n",
    "import flax\n",
    "from flax.core import freeze, unfreeze, FrozenDict\n",
    "from flax import linen as nn\n",
    "from flax import struct\n",
    "from flax.training import train_state\n",
    "from flax.training import orbax_utils\n",
    "\n",
    "import optax\n",
    "import orbax.checkpoint\n",
    "\n",
    "from clu import metrics\n",
    "from ml_collections import ConfigDict\n",
    "\n",
    "from einops import reduce, rearrange\n",
    "import wandb\n",
    "from iqadatasets.datasets import *\n",
    "from fxlayers.layers import *\n",
    "from fxlayers.layers import GaussianLayerGamma, FreqGaussianGamma, OrientGaussianGamma\n",
    "from fxlayers.initializers import *\n",
    "from JaxPlayground.utils.constraints import *\n",
    "from JaxPlayground.utils.wandb import *"
   ]
  },
  {
   "cell_type": "code",
   "execution_count": 4,
   "metadata": {},
   "outputs": [],
   "source": [
    "# jax.config.update(\"jax_debug_nans\", False)"
   ]
  },
  {
   "cell_type": "markdown",
   "metadata": {},
   "source": [
    "## Load the data\n",
    "\n",
    "> We're going to employ `iqadatasets` to ease the loading of the data."
   ]
  },
  {
   "cell_type": "code",
   "execution_count": 5,
   "metadata": {},
   "outputs": [],
   "source": [
    "dst_train = TID2008(\"/lustre/ific.uv.es/ml/uv075/Databases/IQA//TID/TID2008/\", exclude_imgs=[25])\n",
    "# dst_train = KADIK10K(\"/lustre/ific.uv.es/ml/uv075/Databases/IQA/KADIK10K/\")\n",
    "dst_val = TID2013(\"/lustre/ific.uv.es/ml/uv075/Databases/IQA//TID/TID2013/\", exclude_imgs=[25])\n",
    "# dst_train = TID2008(\"/media/disk/databases/BBDD_video_image/Image_Quality//TID/TID2008/\", exclude_imgs=[25])\n",
    "# dst_val = TID2013(\"/media/disk/databases/BBDD_video_image/Image_Quality//TID/TID2013/\", exclude_imgs=[25])\n",
    "# dst_train = TID2008(\"/media/databases/IQA/TID/TID2008/\", exclude_imgs=[25])\n",
    "# dst_val = TID2013(\"/media/databases/IQA/TID/TID2013/\", exclude_imgs=[25])"
   ]
  },
  {
   "cell_type": "code",
   "execution_count": 6,
   "metadata": {},
   "outputs": [
    {
     "name": "stderr",
     "output_type": "stream",
     "text": [
      "2024-03-06 13:51:08.041232: I tensorflow/core/common_runtime/executor.cc:1197] [/device:CPU:0] (DEBUG INFO) Executor start aborting (this does not indicate an error and you can ignore this message): INVALID_ARGUMENT: You must feed a value for placeholder tensor 'Placeholder/_2' with dtype double and shape [1632]\n",
      "\t [[{{node Placeholder/_2}}]]\n"
     ]
    },
    {
     "data": {
      "text/plain": [
       "(TensorShape([384, 512, 3]), TensorShape([384, 512, 3]), TensorShape([]))"
      ]
     },
     "execution_count": 6,
     "metadata": {},
     "output_type": "execute_result"
    }
   ],
   "source": [
    "img, img_dist, mos = next(iter(dst_train.dataset))\n",
    "img.shape, img_dist.shape, mos.shape"
   ]
  },
  {
   "cell_type": "code",
   "execution_count": 7,
   "metadata": {},
   "outputs": [
    {
     "name": "stderr",
     "output_type": "stream",
     "text": [
      "2024-03-06 13:51:08.620881: I tensorflow/core/common_runtime/executor.cc:1197] [/device:CPU:0] (DEBUG INFO) Executor start aborting (this does not indicate an error and you can ignore this message): INVALID_ARGUMENT: You must feed a value for placeholder tensor 'Placeholder/_2' with dtype double and shape [2880]\n",
      "\t [[{{node Placeholder/_2}}]]\n"
     ]
    },
    {
     "data": {
      "text/plain": [
       "(TensorShape([384, 512, 3]), TensorShape([384, 512, 3]), TensorShape([]))"
      ]
     },
     "execution_count": 7,
     "metadata": {},
     "output_type": "execute_result"
    }
   ],
   "source": [
    "img, img_dist, mos = next(iter(dst_val.dataset))\n",
    "img.shape, img_dist.shape, mos.shape"
   ]
  },
  {
   "cell_type": "code",
   "execution_count": 8,
   "metadata": {},
   "outputs": [
    {
     "data": {
      "text/plain": [
       "A_GABOR: true\n",
       "A_GDNSPATIOFREQORIENT: true\n",
       "BATCH_SIZE: 64\n",
       "CS_KERNEL_SIZE: 21\n",
       "EPOCHS: 500\n",
       "GABOR_KERNEL_SIZE: 31\n",
       "GDNGAUSSIAN_KERNEL_SIZE: 11\n",
       "GDN_CLIPPING: true\n",
       "INIT_JH: true\n",
       "LEARNING_RATE: 0.003\n",
       "NORMALIZE_ENERGY: true\n",
       "NORMALIZE_PROB: false\n",
       "N_GABORS: 128\n",
       "SEED: 42\n",
       "TRAIN_CS: true\n",
       "TRAIN_JH: true\n",
       "USE_BIAS: false\n",
       "USE_GAMMA: true\n",
       "ZERO_MEAN: true"
      ]
     },
     "execution_count": 8,
     "metadata": {},
     "output_type": "execute_result"
    }
   ],
   "source": [
    "config = {\n",
    "    \"BATCH_SIZE\": 64,\n",
    "    \"EPOCHS\": 500,\n",
    "    \"LEARNING_RATE\": 3e-3,\n",
    "    \"SEED\": 42,\n",
    "    \"GDN_CLIPPING\": True,\n",
    "    \"NORMALIZE_PROB\": False,\n",
    "    \"NORMALIZE_ENERGY\": True,\n",
    "    \"ZERO_MEAN\": True,\n",
    "    \"USE_BIAS\": False,\n",
    "    \"CS_KERNEL_SIZE\": 21,\n",
    "    \"GDNGAUSSIAN_KERNEL_SIZE\": 11,\n",
    "    \"GABOR_KERNEL_SIZE\": 31,\n",
    "    # \"N_SCALES\": 4,\n",
    "    # \"N_ORIENTATIONS\": 16,\n",
    "    \"N_GABORS\": 128,\n",
    "    \"USE_GAMMA\": True,\n",
    "    \"INIT_JH\": True,\n",
    "    \"TRAIN_JH\": True,\n",
    "    \"TRAIN_CS\": True,\n",
    "    \"A_GABOR\": True,\n",
    "    \"A_GDNSPATIOFREQORIENT\": True,\n",
    "}\n",
    "config = ConfigDict(config)\n",
    "config"
   ]
  },
  {
   "cell_type": "code",
   "execution_count": 9,
   "metadata": {},
   "outputs": [
    {
     "name": "stderr",
     "output_type": "stream",
     "text": [
      "Failed to detect the name of this notebook, you can set it manually with the WANDB_NOTEBOOK_NAME environment variable to enable code saving.\n"
     ]
    },
    {
     "data": {
      "text/plain": [
       "A_GABOR: true\n",
       "A_GDNSPATIOFREQORIENT: true\n",
       "BATCH_SIZE: 64\n",
       "CS_KERNEL_SIZE: 21\n",
       "EPOCHS: 500\n",
       "GABOR_KERNEL_SIZE: 31\n",
       "GDNGAUSSIAN_KERNEL_SIZE: 11\n",
       "GDN_CLIPPING: true\n",
       "INIT_JH: true\n",
       "LEARNING_RATE: 0.003\n",
       "NORMALIZE_ENERGY: true\n",
       "NORMALIZE_PROB: false\n",
       "N_GABORS: 128\n",
       "SEED: 42\n",
       "TRAIN_CS: true\n",
       "TRAIN_JH: true\n",
       "USE_BIAS: false\n",
       "USE_GAMMA: true\n",
       "ZERO_MEAN: true"
      ]
     },
     "execution_count": 9,
     "metadata": {},
     "output_type": "execute_result"
    }
   ],
   "source": [
    "wandb.init(project=\"PerceptNet_v15\",\n",
    "           name=\"V19_128GaborFree_A_GDNGamma_J&HTrainable_CS-GaussTrainable\",\n",
    "           job_type=\"training\",\n",
    "           config=config,\n",
    "           mode=\"disabled\",\n",
    "           )\n",
    "config = config\n",
    "config"
   ]
  },
  {
   "cell_type": "code",
   "execution_count": 10,
   "metadata": {},
   "outputs": [],
   "source": [
    "dst_train_rdy = dst_train.dataset.shuffle(buffer_size=100,\n",
    "                                      reshuffle_each_iteration=True,\n",
    "                                      seed=config.SEED)\\\n",
    "                                 .batch(config.BATCH_SIZE, drop_remainder=True)\n",
    "dst_val_rdy = dst_val.dataset.batch(config.BATCH_SIZE, drop_remainder=True)"
   ]
  },
  {
   "attachments": {},
   "cell_type": "markdown",
   "metadata": {},
   "source": [
    "## Define the model we're going to use\n",
    "\n",
    "> It's going to be a very simple model just for demonstration purposes."
   ]
  },
  {
   "cell_type": "code",
   "execution_count": 11,
   "metadata": {},
   "outputs": [],
   "source": [
    "#| exporti\n",
    "class FreqOrientGaussianGamma(nn.Module):\n",
    "    \"\"\"(1D) Gaussian interaction between frequencies and orientations optimizing gamma = 1/sigma instead of sigma.\"\"\"\n",
    "    use_bias: bool = False\n",
    "    strides: int = 1\n",
    "    padding: str = \"SAME\"\n",
    "    bias_init: Callable = nn.initializers.zeros_init()\n",
    "\n",
    "    @nn.compact\n",
    "    def __call__(self,\n",
    "                 inputs,\n",
    "                 fmean,\n",
    "                 theta_mean,\n",
    "                 **kwargs,\n",
    "                 ):\n",
    "        gamma_f = self.param(\"gamma_f\",\n",
    "                             k_array(1/0.4, arr=fmean),\n",
    "                             (inputs.shape[-1],))\n",
    "        gamma_theta = self.param(\"gamma_theta\",\n",
    "                                 equal_to(jnp.ones(shape=(len(theta_mean),)) * (1/20)),\n",
    "                                 (inputs.shape[-1],))\n",
    "        if self.use_bias: bias = self.param(\"bias\",\n",
    "                                            self.bias_init,\n",
    "                                            (len(fmean),))\n",
    "        else: bias = 0.\n",
    "        # n_groups = inputs.shape[-1] // len(fmean)\n",
    "        kernel = jax.vmap(self.gaussian, in_axes=(None,None,0,0,0,0,None), out_axes=1)(fmean, theta_mean, fmean, theta_mean, gamma_f, gamma_theta, 1)\n",
    "        kernel = kernel[None,None,:,:]\n",
    "        # kernel = jnp.tile(kernel, reps=n_groups)\n",
    "\n",
    "        ## Add the batch dim if the input is a single element\n",
    "        if jnp.ndim(inputs) < 4: inputs = inputs[None,:]; had_batch = False\n",
    "        else: had_batch = True\n",
    "        outputs = lax.conv_general_dilated(\n",
    "                jnp.transpose(inputs,[0,3,1,2]),    # lhs = NCHW image tensor\n",
    "                jnp.transpose(kernel,[3,2,0,1]), # rhs = OIHW conv kernel tensor\n",
    "                (self.strides, self.strides),\n",
    "                self.padding)\n",
    "        ## Move the channels back to the last dim\n",
    "        outputs = jnp.transpose(outputs, (0,2,3,1))\n",
    "        if not had_batch: outputs = outputs[0]\n",
    "        return outputs + bias\n",
    "\n",
    "    @staticmethod\n",
    "    def gaussian(f, theta, fmean, theta_mean, gamma_f, gamma_theta, A=1):\n",
    "        return A*jnp.exp(-((gamma_f**2)*(f-fmean)**2)/(2))*jnp.exp(-((gamma_theta**2)*(theta-theta_mean)**2)/(2))"
   ]
  },
  {
   "cell_type": "code",
   "execution_count": 12,
   "metadata": {},
   "outputs": [],
   "source": [
    "class GDNSpatioFreqOrient(nn.Module):\n",
    "    \"\"\"Generalized Divisive Normalization.\"\"\"\n",
    "    kernel_size: Union[int, Sequence[int]]\n",
    "    strides: int = 1\n",
    "    padding: str = \"SAME\"\n",
    "    # inputs_star: float = 1.\n",
    "    # outputs_star: Union[None, float] = None\n",
    "    fs: int = 1\n",
    "    apply_independently: bool = False\n",
    "    bias_init: Callable = nn.initializers.ones_init()\n",
    "    alpha: float = 2.\n",
    "    epsilon: float = 1/2 # Exponential of the denominator\n",
    "    eps: float = 1e-6 # Numerical stability in the denominator\n",
    "\n",
    "    @nn.compact\n",
    "    def __call__(self,\n",
    "                 inputs,\n",
    "                 fmean,\n",
    "                 theta_mean,\n",
    "                 train=False,\n",
    "                 ):\n",
    "        b, h, w, c = inputs.shape\n",
    "        bias = self.param(\"bias\",\n",
    "                          #equal_to(inputs_star/10),\n",
    "                          self.bias_init,\n",
    "                          (c,))\n",
    "        # is_initialized = self.has_variable(\"batch_stats\", \"inputs_star\")\n",
    "        # inputs_star = self.variable(\"batch_stats\", \"inputs_star\", lambda x: jnp.ones(x)*self.inputs_star, (len(self.inputs_star),))\n",
    "        # inputs_star_ = jnp.ones_like(inputs)*inputs_star.value\n",
    "        GL = GaussianLayerGamma(features=c, kernel_size=self.kernel_size, strides=self.strides, padding=\"VALID\", fs=self.fs, xmean=self.kernel_size/self.fs/2, ymean=self.kernel_size/self.fs/2, normalize_prob=config.NORMALIZE_PROB, normalize_energy=config.NORMALIZE_ENERGY, use_bias=False, feature_group_count=c)\n",
    "        FOG = FreqOrientGaussianGamma()\n",
    "        outputs = GL(pad_same_from_kernel_size(inputs, kernel_size=self.kernel_size, mode=self.padding)**self.alpha, train=train)#/(self.kernel_size**2)\n",
    "        outputs = FOG(outputs, fmean=fmean, theta_mean=theta_mean)\n",
    "\n",
    "        ## Coef\n",
    "        # coef = GL(inputs_star_**self.alpha, train=train)#/(self.kernel_size**2)\n",
    "        # coef = FG(coef, fmean=fmean)\n",
    "        # coef = rearrange(coef, \"b h w (phase theta f) -> b h w (phase f theta)\", b=b, h=h, w=w, phase=2, f=config.N_SCALES, theta=config.N_ORIENTATIONS)\n",
    "        # coef = OG(coef, theta_mean=theta_mean) + bias\n",
    "        # coef = rearrange(coef, \"b h w (phase f theta) -> b h w (phase theta f)\", b=b, h=h, w=w, phase=2, f=config.N_SCALES, theta=config.N_ORIENTATIONS)\n",
    "        # coef = jnp.clip(coef+bias, a_min=1e-5)**self.epsilon\n",
    "        # # coef = inputs_star.value * coef\n",
    "        # if self.outputs_star is not None: coef = coef/inputs_star.value*self.outputs_star\n",
    "\n",
    "        # if is_initialized and train:\n",
    "        #     inputs_star.value = (inputs_star.value + jnp.quantile(jnp.abs(inputs), q=0.95, axis=(0,1,2)))/2\n",
    "        # return coef * inputs / (jnp.clip(denom+bias, a_min=1e-5)**self.epsilon + self.eps)\n",
    "        return inputs / (jnp.clip(outputs+bias, a_min=1e-5)**self.epsilon + self.eps)"
   ]
  },
  {
   "cell_type": "code",
   "execution_count": 13,
   "metadata": {},
   "outputs": [],
   "source": [
    "class PerceptNet(nn.Module):\n",
    "    \"\"\"IQA model inspired by the visual system.\"\"\"\n",
    "\n",
    "    @nn.compact\n",
    "    def __call__(self,\n",
    "                 inputs, # Assuming fs = 128 (cpd)\n",
    "                 **kwargs,\n",
    "                 ):\n",
    "        ## (Independent) Color equilibration (Gamma correction)\n",
    "        ## Might need to be the same for each number\n",
    "        ## bias = 0.1 / kernel = 0.5\n",
    "        if config.USE_GAMMA: outputs = GDNGamma()(inputs)\n",
    "        else: outputs = GDN(kernel_size=(1,1), apply_independently=True)(inputs)\n",
    "        \n",
    "        ## Color (ATD) Transformation\n",
    "        outputs = nn.Conv(features=3, kernel_size=(1,1), use_bias=False, name=\"Color\")(outputs)\n",
    "        outputs = nn.max_pool(outputs, window_shape=(2,2), strides=(2,2))\n",
    "        \n",
    "        ## GDN Star A - T - D [Separated]\n",
    "        outputs = GDN(kernel_size=(1,1), apply_independently=True)(outputs)\n",
    "\n",
    "        ## Center Surround (DoG)\n",
    "        ## Initialized so that 3 are positives and 3 are negatives and no interaction between channels is present\n",
    "        outputs = pad_same_from_kernel_size(outputs, kernel_size=config.CS_KERNEL_SIZE, mode=\"symmetric\")\n",
    "        outputs = CenterSurroundLogSigmaK(features=3, kernel_size=config.CS_KERNEL_SIZE, fs=21, use_bias=False, padding=\"VALID\")(outputs, **kwargs)\n",
    "        outputs = nn.max_pool(outputs, window_shape=(2,2), strides=(2,2))\n",
    "\n",
    "        ## GDN per channel with mean substraction in T and D (Spatial Gaussian Kernel)\n",
    "        ### fs = 32 / kernel_size = (11,11) -> 0.32 > 0.02 --> OK!\n",
    "        ## TO-DO: - Spatial Gaussian Kernel (0.02 deg) -> fs = 64/2 & 0.02*64/2 = sigma (px) = 0.69\n",
    "        outputs = GDNGaussian(kernel_size=config.GDNGAUSSIAN_KERNEL_SIZE, apply_independently=True, fs=32, padding=\"symmetric\", normalize_prob=config.NORMALIZE_PROB, normalize_energy=config.NORMALIZE_ENERGY)(outputs, **kwargs)\n",
    "\n",
    "        ## GaborLayer per channel with GDN mixing only same-origin-channel information\n",
    "        ### [Gaussian] sigma = 0.2 (deg) fs = 32 / kernel_size = (21,21) -> 21/32 = 0.66 --> OK!\n",
    "        outputs = pad_same_from_kernel_size(outputs, kernel_size=config.GABOR_KERNEL_SIZE, mode=\"symmetric\")\n",
    "        outputs, fmean, theta_mean = GaborLayerGammaRepeat(features=config.N_GABORS, kernel_size=config.GABOR_KERNEL_SIZE, fs=32, xmean=config.GABOR_KERNEL_SIZE/32/2, ymean=config.GABOR_KERNEL_SIZE/32/2, strides=1, padding=\"VALID\", normalize_prob=config.NORMALIZE_PROB, normalize_energy=config.NORMALIZE_ENERGY, zero_mean=config.ZERO_MEAN, use_bias=config.USE_BIAS, train_A=config.A_GABOR)(outputs, return_freq=True, return_theta=True, **kwargs)\n",
    "        \n",
    "        ## Final GDN mixing Gabor information (?)\n",
    "        outputs = GDNSpatioFreqOrient(kernel_size=21, strides=1, padding=\"symmetric\", fs=32, apply_independently=False)(outputs, fmean=fmean, theta_mean=theta_mean, **kwargs)\n",
    "\n",
    "        return outputs"
   ]
  },
  {
   "attachments": {},
   "cell_type": "markdown",
   "metadata": {},
   "source": [
    "## Define the metrics with `clu`"
   ]
  },
  {
   "cell_type": "code",
   "execution_count": 14,
   "metadata": {},
   "outputs": [],
   "source": [
    "@struct.dataclass\n",
    "class Metrics(metrics.Collection):\n",
    "    \"\"\"Collection of metrics to be tracked during training.\"\"\"\n",
    "    loss: metrics.Average.from_output(\"loss\")"
   ]
  },
  {
   "attachments": {},
   "cell_type": "markdown",
   "metadata": {},
   "source": [
    "By default, `TrainState` doesn't include metrics, but it's very easy to subclass it so that it does:"
   ]
  },
  {
   "cell_type": "code",
   "execution_count": 15,
   "metadata": {},
   "outputs": [],
   "source": [
    "class TrainState(train_state.TrainState):\n",
    "    metrics: Metrics\n",
    "    state: FrozenDict"
   ]
  },
  {
   "attachments": {},
   "cell_type": "markdown",
   "metadata": {},
   "source": [
    "We'll define a function that initializes the `TrainState` from a module, a rng key and some optimizer:"
   ]
  },
  {
   "cell_type": "code",
   "execution_count": 16,
   "metadata": {},
   "outputs": [],
   "source": [
    "def create_train_state(module, key, tx, input_shape):\n",
    "    \"\"\"Creates the initial `TrainState`.\"\"\"\n",
    "    variables = module.init(key, jnp.ones(input_shape))\n",
    "    state, params = variables.pop('params')\n",
    "    return TrainState.create(\n",
    "        apply_fn=module.apply,\n",
    "        params=params,\n",
    "        state=state,\n",
    "        tx=tx,\n",
    "        metrics=Metrics.empty()\n",
    "    )"
   ]
  },
  {
   "attachments": {},
   "cell_type": "markdown",
   "metadata": {},
   "source": [
    "## Defining the training step\n",
    "\n",
    "> We want to write a function that takes the `TrainState` and a batch of data can performs an optimization step."
   ]
  },
  {
   "cell_type": "code",
   "execution_count": 17,
   "metadata": {},
   "outputs": [],
   "source": [
    "def pearson_correlation(vec1, vec2):\n",
    "    vec1 = vec1.squeeze()\n",
    "    vec2 = vec2.squeeze()\n",
    "    vec1_mean = vec1.mean()\n",
    "    vec2_mean = vec2.mean()\n",
    "    num = vec1-vec1_mean\n",
    "    num *= vec2-vec2_mean\n",
    "    num = num.sum()\n",
    "    denom = jnp.sqrt(jnp.sum((vec1-vec1_mean)**2))\n",
    "    denom *= jnp.sqrt(jnp.sum((vec2-vec2_mean)**2))\n",
    "    return num/denom"
   ]
  },
  {
   "cell_type": "code",
   "execution_count": 18,
   "metadata": {},
   "outputs": [],
   "source": [
    "from functools import partial"
   ]
  },
  {
   "cell_type": "code",
   "execution_count": 19,
   "metadata": {},
   "outputs": [],
   "source": [
    "@partial(jax.jit, static_argnums=2)\n",
    "def train_step(state, batch, return_grads=False):\n",
    "    \"\"\"Train for a single step.\"\"\"\n",
    "    img, img_dist, mos = batch\n",
    "    def loss_fn(params):\n",
    "        ## Forward pass through the model\n",
    "        img_pred, updated_state = state.apply_fn({\"params\": params, **state.state}, img, mutable=list(state.state.keys()), train=True)\n",
    "        img_dist_pred, updated_state = state.apply_fn({\"params\": params, **state.state}, img_dist, mutable=list(state.state.keys()), train=True)\n",
    "\n",
    "        ## Calculate the distance\n",
    "        dist = ((img_pred - img_dist_pred)**2).sum(axis=(1,2,3))**(1/2)\n",
    "        \n",
    "        ## Calculate pearson correlation\n",
    "        return pearson_correlation(dist, mos), updated_state\n",
    "    \n",
    "    (loss, updated_state), grads = jax.value_and_grad(loss_fn, has_aux=True)(state.params)\n",
    "    state = state.apply_gradients(grads=grads)\n",
    "    metrics_updates = state.metrics.single_from_model_output(loss=loss)\n",
    "    metrics = state.metrics.merge(metrics_updates)\n",
    "    state = state.replace(metrics=metrics)\n",
    "    state = state.replace(state=updated_state)\n",
    "    if return_grads: return state, grads\n",
    "    else: return state"
   ]
  },
  {
   "attachments": {},
   "cell_type": "markdown",
   "metadata": {},
   "source": [
    "In their example, they don't calculate the metrics at the same time. I think it is kind of a waste because it means having to perform a new forward pass, but we'll follow as of now. Let's define a function to perform metric calculation:"
   ]
  },
  {
   "cell_type": "code",
   "execution_count": 20,
   "metadata": {},
   "outputs": [],
   "source": [
    "@jax.jit\n",
    "def compute_metrics(*, state, batch):\n",
    "    \"\"\"Obtaining the metrics for a given batch.\"\"\"\n",
    "    img, img_dist, mos = batch\n",
    "    def loss_fn(params):\n",
    "        ## Forward pass through the model\n",
    "        img_pred, updated_state = state.apply_fn({\"params\": params, **state.state}, img, mutable=list(state.state.keys()), train=False)\n",
    "        img_dist_pred, updated_state = state.apply_fn({\"params\": params, **state.state}, img_dist, mutable=list(state.state.keys()), train=False)\n",
    "\n",
    "        ## Calculate the distance\n",
    "        dist = ((img_pred - img_dist_pred)**2).sum(axis=(1,2,3))**(1/2)\n",
    "        \n",
    "        ## Calculate pearson correlation\n",
    "        return pearson_correlation(dist, mos)\n",
    "    \n",
    "    metrics_updates = state.metrics.single_from_model_output(loss=loss_fn(state.params))\n",
    "    metrics = state.metrics.merge(metrics_updates)\n",
    "    state = state.replace(metrics=metrics)\n",
    "    return state"
   ]
  },
  {
   "attachments": {},
   "cell_type": "markdown",
   "metadata": {},
   "source": [
    "## Train the model!"
   ]
  },
  {
   "cell_type": "code",
   "execution_count": 21,
   "metadata": {},
   "outputs": [],
   "source": [
    "state = create_train_state(PerceptNet(), random.PRNGKey(config.SEED), optax.adam(config.LEARNING_RATE), input_shape=(1,384,512,3))\n",
    "state = state.replace(params=clip_layer(state.params, \"GDN\", a_min=0))\n",
    "state = state.replace(params=clip_param(state.params, \"A\", a_min=0))"
   ]
  },
  {
   "cell_type": "code",
   "execution_count": 22,
   "metadata": {},
   "outputs": [],
   "source": [
    "pred, _ = state.apply_fn({\"params\": state.params, **state.state}, jnp.ones(shape=(1,384,512,3)), train=True, mutable=list(state.state.keys()))\n",
    "state = state.replace(state=_)"
   ]
  },
  {
   "cell_type": "code",
   "execution_count": 23,
   "metadata": {},
   "outputs": [],
   "source": [
    "import matplotlib.pyplot as plt"
   ]
  },
  {
   "cell_type": "code",
   "execution_count": 24,
   "metadata": {},
   "outputs": [],
   "source": [
    "def plot_filters(kernel):\n",
    "    kx, ky, cin, cout = kernel.shape\n",
    "    fig, axes = plt.subplots(cin, cout, squeeze=False)\n",
    "    for i in range(cin):\n",
    "        for j in range(cout):\n",
    "            axes[i,j].imshow(kernel[:,:,i,j])\n",
    "            axes[i,j].axis(\"off\")\n",
    "    plt.show()"
   ]
  },
  {
   "cell_type": "code",
   "execution_count": 25,
   "metadata": {},
   "outputs": [
    {
     "data": {
      "image/png": "[encoded data removed]",
      "text/plain": [
       "<Figure size 640x480 with 9 Axes>"
      ]
     },
     "metadata": {},
     "output_type": "display_data"
    },
    {
     "data": {
      "image/png": "[encoded data removed]",
      "text/plain": [
       "<Figure size 640x480 with 3 Axes>"
      ]
     },
     "metadata": {},
     "output_type": "display_data"
    },
    {
     "data": {
      "image/png": "[encoded data removed]",
      "text/plain": [
       "<Figure size 640x480 with 128 Axes>"
      ]
     },
     "metadata": {},
     "output_type": "display_data"
    },
    {
     "data": {
      "image/png": "[encoded data removed]",
      "text/plain": [
       "<Figure size 640x480 with 384 Axes>"
      ]
     },
     "metadata": {},
     "output_type": "display_data"
    }
   ],
   "source": [
    "__ = jax.tree_util.tree_map(lambda x: plot_filters(x), _)"
   ]
  },
  {
   "cell_type": "code",
   "execution_count": 26,
   "metadata": {},
   "outputs": [],
   "source": [
    "def check_trainable(path):\n",
    "    if not config.A_GDNSPATIOFREQORIENT:\n",
    "        if (\"GDNSpatioFreqOrient_0\" in path) and (\"A\" in path):\n",
    "            return True\n",
    "    if \"Color\" in path:\n",
    "        if not config.TRAIN_JH:\n",
    "            return True\n",
    "    if \"CenterSurroundLogSigmaK_0\" in path:\n",
    "        if not config.TRAIN_CS:\n",
    "            return True\n",
    "    return False"
   ]
  },
  {
   "cell_type": "code",
   "execution_count": 27,
   "metadata": {},
   "outputs": [
    {
     "data": {
      "text/plain": [
       "FrozenDict({\n",
       "    GDNGamma_0: {\n",
       "        kernel: 'trainable',\n",
       "        bias: 'trainable',\n",
       "    },\n",
       "    Color: {\n",
       "        kernel: 'trainable',\n",
       "    },\n",
       "    GDN_0: {\n",
       "        Conv_0: {\n",
       "            kernel: 'trainable',\n",
       "            bias: 'trainable',\n",
       "        },\n",
       "    },\n",
       "    CenterSurroundLogSigmaK_0: {\n",
       "        logsigma: 'trainable',\n",
       "        K: 'trainable',\n",
       "        A: 'trainable',\n",
       "    },\n",
       "    GDNGaussian_0: {\n",
       "        GaussianLayerGamma_0: {\n",
       "            gamma: 'trainable',\n",
       "            A: 'trainable',\n",
       "            bias: 'trainable',\n",
       "        },\n",
       "    },\n",
       "    GaborLayerGammaRepeat_0: {\n",
       "        freq: 'trainable',\n",
       "        gammax: 'trainable',\n",
       "        gammay: 'trainable',\n",
       "        theta: 'trainable',\n",
       "        sigma_theta: 'trainable',\n",
       "        phase: 'trainable',\n",
       "        A: 'trainable',\n",
       "    },\n",
       "    GDNSpatioFreqOrient_0: {\n",
       "        bias: 'trainable',\n",
       "        GaussianLayerGamma_0: {\n",
       "            gamma: 'trainable',\n",
       "            A: 'trainable',\n",
       "        },\n",
       "        FreqOrientGaussianGamma_0: {\n",
       "            gamma_f: 'trainable',\n",
       "            gamma_theta: 'trainable',\n",
       "        },\n",
       "    },\n",
       "})"
      ]
     },
     "execution_count": 27,
     "metadata": {},
     "output_type": "execute_result"
    }
   ],
   "source": [
    "trainable_tree = freeze(flax.traverse_util.path_aware_map(lambda path, v: \"non_trainable\" if check_trainable(path)  else \"trainable\", state.params))\n",
    "trainable_tree"
   ]
  },
  {
   "cell_type": "code",
   "execution_count": 28,
   "metadata": {},
   "outputs": [],
   "source": [
    "optimizers = {\n",
    "    \"trainable\": optax.adam(learning_rate=config.LEARNING_RATE),\n",
    "    \"non_trainable\": optax.set_to_zero(),\n",
    "}"
   ]
  },
  {
   "cell_type": "code",
   "execution_count": 29,
   "metadata": {},
   "outputs": [],
   "source": [
    "tx = optax.multi_transform(optimizers, trainable_tree)"
   ]
  },
  {
   "cell_type": "code",
   "execution_count": 30,
   "metadata": {},
   "outputs": [],
   "source": [
    "state = create_train_state(PerceptNet(), random.PRNGKey(config.SEED), tx, input_shape=(1,384,512,3))\n",
    "state = state.replace(params=clip_layer(state.params, \"GDN\", a_min=0))"
   ]
  },
  {
   "cell_type": "code",
   "execution_count": 31,
   "metadata": {},
   "outputs": [
    {
     "data": {
      "text/plain": [
       "(1845, 1845)"
      ]
     },
     "execution_count": 31,
     "metadata": {},
     "output_type": "execute_result"
    }
   ],
   "source": [
    "param_count = sum(x.size for x in jax.tree_util.tree_leaves(state.params))\n",
    "trainable_param_count = sum([w.size if t==\"trainable\" else 0 for w, t in zip(jax.tree_util.tree_leaves(state.params), jax.tree_util.tree_leaves(trainable_tree))])\n",
    "param_count, trainable_param_count"
   ]
  },
  {
   "cell_type": "code",
   "execution_count": 32,
   "metadata": {},
   "outputs": [],
   "source": [
    "wandb.run.summary[\"total_parameters\"] = param_count\n",
    "wandb.run.summary[\"trainable_parameters\"] = trainable_param_count"
   ]
  },
  {
   "cell_type": "code",
   "execution_count": 33,
   "metadata": {},
   "outputs": [],
   "source": [
    "from perceptualtests.color_matrices import Mng2xyz, Mxyz2atd"
   ]
  },
  {
   "cell_type": "code",
   "execution_count": 34,
   "metadata": {},
   "outputs": [],
   "source": [
    "inputs = jnp.ones(shape=(1,28,28,3))"
   ]
  },
  {
   "cell_type": "code",
   "execution_count": 35,
   "metadata": {},
   "outputs": [],
   "source": [
    "inputs_atd = inputs @ Mng2xyz.T @ Mxyz2atd.T"
   ]
  },
  {
   "cell_type": "code",
   "execution_count": 36,
   "metadata": {},
   "outputs": [
    {
     "data": {
      "text/plain": [
       "array([[ 39.0454 ,  30.1207 ,  14.27948],\n",
       "       [115.8404 , -63.3502 ,  41.26816],\n",
       "       [ 16.3118 ,  30.2934 , -61.51888]])"
      ]
     },
     "execution_count": 36,
     "metadata": {},
     "output_type": "execute_result"
    }
   ],
   "source": [
    "Mng2xyz.T @ Mxyz2atd.T"
   ]
  },
  {
   "cell_type": "code",
   "execution_count": 40,
   "metadata": {},
   "outputs": [],
   "source": [
    "state = state.replace(params=unfreeze(state.params))\n",
    "\n",
    "# ## DN 0 (Gamma)\n",
    "if config.USE_GAMMA:\n",
    "    state.params[\"GDNGamma_0\"][\"bias\"] = jnp.ones_like(state.params[\"GDNGamma_0\"][\"bias\"])*0.1\n",
    "    state.params[\"GDNGamma_0\"][\"kernel\"] = jnp.ones_like(state.params[\"GDNGamma_0\"][\"kernel\"])*0.5\n",
    "else:\n",
    "    state.params[\"GDN_0\"][\"Conv_0\"][\"bias\"] = jnp.ones_like(state.params[\"GDN_0\"][\"Conv_0\"][\"bias\"])*0.1\n",
    "    state.params[\"GDN_0\"][\"Conv_0\"][\"kernel\"] = jnp.ones_like(state.params[\"GDN_0\"][\"Conv_0\"][\"kernel\"])*0.5\n",
    "\n",
    "## Opponent color channel transformation\n",
    "if config.INIT_JH:\n",
    "    # state.params[\"Conv_0\"][\"kernel\"] = jnp.array([[39.0454,30.1207,14.27948],\n",
    "    #                                               [115.8404,-63.3502,41.26816],\n",
    "    #                                               [16.3118,30.2934,-61.51888]])[None,None,:,:]/163.5217\n",
    "    state.params[\"Color\"][\"kernel\"] = jnp.array([[39.0454,30.1207,14.27948],\n",
    "                                                  [115.8404,-63.3502,41.26816],\n",
    "                                                  [16.3118,30.2934,-61.51888]])[None,None,:,:]/163.5217\n",
    "\n",
    "## Center Surround\n",
    "state.params[\"CenterSurroundLogSigmaK_0\"][\"logsigma\"] = jnp.array([-1.9,-1.9,-1.9,\n",
    "                                                                   -1.76,-1.76,-1.76,\n",
    "                                                                   -1.76,-1.76,-1.76])\n",
    "state.params[\"CenterSurroundLogSigmaK_0\"][\"K\"] = jnp.array([1.1,1.1,1.1,\n",
    "                                                            5.0,5.0,5.0,\n",
    "                                                            5.0,5.0,5.0])\n",
    "state.params[\"CenterSurroundLogSigmaK_0\"][\"A\"] = jnp.array([1.,0.,0.,\n",
    "                                                            0.,1.,0.,\n",
    "                                                            0.,0.,1.])\n",
    "\n",
    "## GDNGaussian\n",
    "state.params[\"GDNGaussian_0\"][\"GaussianLayerGamma_0\"][\"gamma\"] = jnp.ones_like(state.params[\"GDNGaussian_0\"][\"GaussianLayerGamma_0\"][\"gamma\"])*(1./0.04)\n",
    "state.params[\"GDNGaussian_0\"][\"GaussianLayerGamma_0\"][\"bias\"] = jnp.ones_like(state.params[\"GDNGaussian_0\"][\"GaussianLayerGamma_0\"][\"bias\"])*0.1\n",
    "\n",
    "## GDNSpatioFreqOrient\n",
    "state.params[\"GDNSpatioFreqOrient_0\"][\"GaussianLayerGamma_0\"][\"gamma\"] = jnp.ones_like(state.params[\"GDNSpatioFreqOrient_0\"][\"GaussianLayerGamma_0\"][\"gamma\"])*(1./0.1)\n",
    "# state.params[\"GDNSpatioFreqOrient_0\"][\"OrientGaussianGamma_0\"][\"gamma\"] = jnp.ones_like(state.params[\"GDNSpatioFreqOrient_0\"][\"OrientGaussianGamma_0\"][\"gamma\"])*(1/20)\n",
    "# state.params[\"GDNSpatioFreqOrient_0\"][\"bias\"] = jnp.tile(jnp.array([0.001, 0.002, 0.0035, 0.01])/100, reps=config.N_ORIENTATIONS*2)\n",
    "\n",
    "\n",
    "state = state.replace(params=freeze(state.params))"
   ]
  },
  {
   "cell_type": "code",
   "execution_count": 41,
   "metadata": {},
   "outputs": [],
   "source": [
    "pred, _ = state.apply_fn({\"params\": state.params, **state.state}, jnp.ones(shape=(1,384,512,3)), train=True, mutable=list(state.state.keys()))\n",
    "state = state.replace(state=_)"
   ]
  },
  {
   "cell_type": "code",
   "execution_count": 42,
   "metadata": {},
   "outputs": [
    {
     "data": {
      "image/png": "[encoded data removed]",
      "text/plain": [
       "<Figure size 640x480 with 9 Axes>"
      ]
     },
     "metadata": {},
     "output_type": "display_data"
    },
    {
     "data": {
      "image/png": "[encoded data removed]",
      "text/plain": [
       "<Figure size 640x480 with 3 Axes>"
      ]
     },
     "metadata": {},
     "output_type": "display_data"
    },
    {
     "data": {
      "image/png": "[encoded data removed]",
      "text/plain": [
       "<Figure size 640x480 with 128 Axes>"
      ]
     },
     "metadata": {},
     "output_type": "display_data"
    },
    {
     "data": {
      "image/png": "[encoded data removed]",
      "text/plain": [
       "<Figure size 640x480 with 384 Axes>"
      ]
     },
     "metadata": {},
     "output_type": "display_data"
    }
   ],
   "source": [
    "pred, _ = state.apply_fn({\"params\": state.params, **state.state}, jnp.ones(shape=(1,384,512,3)), train=True, mutable=list(state.state.keys()))\n",
    "__ = jax.tree_util.tree_map(lambda x: plot_filters(x), _)"
   ]
  },
  {
   "cell_type": "markdown",
   "metadata": {},
   "source": [
    "Before actually training the model we're going to set up the checkpointer to be able to save our trained models:"
   ]
  },
  {
   "cell_type": "code",
   "execution_count": 48,
   "metadata": {},
   "outputs": [],
   "source": [
    "orbax_checkpointer = orbax.checkpoint.PyTreeCheckpointer()\n",
    "save_args = orbax_utils.save_args_from_target(state)"
   ]
  },
  {
   "cell_type": "code",
   "execution_count": 49,
   "metadata": {},
   "outputs": [],
   "source": [
    "orbax_checkpointer.save(os.path.join(wandb.run.dir, \"model-0\"), state, save_args=save_args, force=False) # force=True means allow overwritting."
   ]
  },
  {
   "cell_type": "code",
   "execution_count": 50,
   "metadata": {},
   "outputs": [],
   "source": [
    "metrics_history = {\n",
    "    \"train_loss\": [],\n",
    "    \"val_loss\": [],\n",
    "}"
   ]
  },
  {
   "cell_type": "code",
   "execution_count": 51,
   "metadata": {},
   "outputs": [
    {
     "name": "stdout",
     "output_type": "stream",
     "text": []
    }
   ],
   "source": [
    "batch = next(iter(dst_train_rdy.as_numpy_iterator()))"
   ]
  },
  {
   "cell_type": "code",
   "execution_count": 52,
   "metadata": {},
   "outputs": [],
   "source": [
    "from functools import partial"
   ]
  },
  {
   "cell_type": "code",
   "execution_count": 53,
   "metadata": {},
   "outputs": [],
   "source": [
    "@jax.jit\n",
    "def forward(state, inputs):\n",
    "    return state.apply_fn({\"params\": state.params, **state.state}, inputs, train=False)"
   ]
  },
  {
   "cell_type": "code",
   "execution_count": 54,
   "metadata": {},
   "outputs": [],
   "source": [
    "@jax.jit\n",
    "def forward_intermediates(state, inputs):\n",
    "    return state.apply_fn({\"params\": state.params, **state.state}, inputs, train=False, capture_intermediates=True)"
   ]
  },
  {
   "cell_type": "code",
   "execution_count": 8,
   "metadata": {},
   "outputs": [
    {
     "name": "stdout",
     "output_type": "stream",
     "text": [
      "CPU times: user 9.95 s, sys: 3.46 s, total: 13.4 s\n",
      "Wall time: 11.1 s\n"
     ]
    },
    {
     "data": {
      "text/plain": [
       "(64, 96, 128, 128)"
      ]
     },
     "execution_count": 8,
     "metadata": {},
     "output_type": "execute_result"
    }
   ],
   "source": [
    "%%time\n",
    "outputs = forward(state, batch[0])\n",
    "outputs.shape"
   ]
  },
  {
   "cell_type": "code",
   "execution_count": 56,
   "metadata": {},
   "outputs": [
    {
     "name": "stdout",
     "output_type": "stream",
     "text": [
      "CPU times: user 58.9 s, sys: 22.5 s, total: 1min 21s\n",
      "Wall time: 1min 5s\n"
     ]
    }
   ],
   "source": [
    "%%time\n",
    "s1, grads = train_step(state, batch, return_grads=True)"
   ]
  },
  {
   "cell_type": "code",
   "execution_count": null,
   "metadata": {},
   "outputs": [],
   "source": [
    "# jax.config.update(\"jax_debug_nans\", True)"
   ]
  },
  {
   "cell_type": "code",
   "execution_count": null,
   "metadata": {},
   "outputs": [],
   "source": [
    "def filter_extra(extra):\n",
    "    def filter_intermediates(path, x):\n",
    "        path = \"/\".join(path)\n",
    "        if \"Gabor\" in path:\n",
    "            return (x[0][0],)\n",
    "        else: \n",
    "            return x\n",
    "    extra = unfreeze(extra)\n",
    "    extra[\"intermediates\"] = flax.traverse_util.path_aware_map(filter_intermediates, extra[\"intermediates\"])\n",
    "    return freeze(extra)"
   ]
  },
  {
   "cell_type": "code",
   "execution_count": null,
   "metadata": {},
   "outputs": [
    {
     "name": "stdout",
     "output_type": "stream",
     "text": [
      "Epoch 0 -> [Train] Loss: -0.2577863931655884 [Val] Loss: -0.5715367197990417\n",
      "Epoch 1 -> [Train] Loss: -0.46187689900398254 [Val] Loss: -0.744702935218811\n",
      "Epoch 2 -> [Train] Loss: -0.670170247554779 [Val] Loss: -0.8295901417732239\n",
      "Epoch 3 -> [Train] Loss: -0.7729009985923767 [Val] Loss: -0.8554169535636902\n",
      "Epoch 4 -> [Train] Loss: -0.8095948696136475 [Val] Loss: -0.8621251583099365\n",
      "Epoch 5 -> [Train] Loss: -0.8309312462806702 [Val] Loss: -0.865175724029541\n",
      "Epoch 6 -> [Train] Loss: -0.8391448855400085 [Val] Loss: -0.8668563365936279\n",
      "Epoch 7 -> [Train] Loss: -0.8420933485031128 [Val] Loss: -0.8680124878883362\n",
      "Epoch 8 -> [Train] Loss: -0.8525351285934448 [Val] Loss: -0.8687641620635986\n",
      "Epoch 9 -> [Train] Loss: -0.8539198040962219 [Val] Loss: -0.8690445423126221\n",
      "Epoch 10 -> [Train] Loss: -0.8653641939163208 [Val] Loss: -0.8694397807121277\n",
      "Epoch 11 -> [Train] Loss: -0.8652973175048828 [Val] Loss: -0.8698103427886963\n",
      "Epoch 12 -> [Train] Loss: -0.8738771080970764 [Val] Loss: -0.869880199432373\n",
      "Epoch 13 -> [Train] Loss: -0.8722306489944458 [Val] Loss: -0.8704929947853088\n",
      "Epoch 14 -> [Train] Loss: -0.875706672668457 [Val] Loss: -0.8704543709754944\n",
      "Epoch 15 -> [Train] Loss: -0.8762900829315186 [Val] Loss: -0.8704811930656433\n",
      "Epoch 16 -> [Train] Loss: -0.8793208003044128 [Val] Loss: -0.870242178440094\n",
      "Epoch 17 -> [Train] Loss: -0.8787526488304138 [Val] Loss: -0.8705675005912781\n",
      "Epoch 18 -> [Train] Loss: -0.8854660391807556 [Val] Loss: -0.8709293007850647\n",
      "Epoch 19 -> [Train] Loss: -0.884741485118866 [Val] Loss: -0.8708019256591797\n",
      "Epoch 20 -> [Train] Loss: -0.8863129019737244 [Val] Loss: -0.8708842396736145\n",
      "Epoch 21 -> [Train] Loss: -0.8830006718635559 [Val] Loss: -0.8716078400611877\n",
      "Epoch 22 -> [Train] Loss: -0.8890818357467651 [Val] Loss: -0.8723012208938599\n",
      "Epoch 23 -> [Train] Loss: -0.8894163966178894 [Val] Loss: -0.8730665445327759\n",
      "Epoch 24 -> [Train] Loss: -0.8944545388221741 [Val] Loss: -0.8739876747131348\n",
      "Epoch 25 -> [Train] Loss: -0.8895843029022217 [Val] Loss: -0.8749714493751526\n",
      "Epoch 26 -> [Train] Loss: -0.8946728110313416 [Val] Loss: -0.8752478957176208\n",
      "Epoch 27 -> [Train] Loss: -0.8930622935295105 [Val] Loss: -0.8757678866386414\n",
      "Epoch 28 -> [Train] Loss: -0.8961362838745117 [Val] Loss: -0.8762084245681763\n",
      "Epoch 29 -> [Train] Loss: -0.8942907452583313 [Val] Loss: -0.876827597618103\n",
      "Epoch 30 -> [Train] Loss: -0.8962790966033936 [Val] Loss: -0.8774325251579285\n",
      "Epoch 31 -> [Train] Loss: -0.8967539668083191 [Val] Loss: -0.8777958750724792\n",
      "Epoch 32 -> [Train] Loss: -0.898449182510376 [Val] Loss: -0.8787661194801331\n",
      "Epoch 33 -> [Train] Loss: -0.8990656137466431 [Val] Loss: -0.8787695169448853\n",
      "Epoch 34 -> [Train] Loss: -0.8993368148803711 [Val] Loss: -0.8798617124557495\n",
      "Epoch 35 -> [Train] Loss: -0.9034280776977539 [Val] Loss: -0.8797644376754761\n",
      "Epoch 36 -> [Train] Loss: -0.9038088321685791 [Val] Loss: -0.8801531791687012\n",
      "Epoch 37 -> [Train] Loss: -0.9020288586616516 [Val] Loss: -0.8807994723320007\n",
      "Epoch 38 -> [Train] Loss: -0.9013944268226624 [Val] Loss: -0.8816736936569214\n",
      "Epoch 39 -> [Train] Loss: -0.901333749294281 [Val] Loss: -0.8821948766708374\n",
      "Epoch 40 -> [Train] Loss: -0.9052762389183044 [Val] Loss: -0.8831232786178589\n",
      "Epoch 41 -> [Train] Loss: -0.9058868288993835 [Val] Loss: -0.8843214511871338\n",
      "Epoch 42 -> [Train] Loss: -0.9085596203804016 [Val] Loss: -0.8852460384368896\n",
      "Epoch 43 -> [Train] Loss: -0.9061511754989624 [Val] Loss: -0.8862203359603882\n",
      "Epoch 44 -> [Train] Loss: -0.9086266756057739 [Val] Loss: -0.8874440789222717\n",
      "Epoch 45 -> [Train] Loss: -0.9113917946815491 [Val] Loss: -0.8883257508277893\n",
      "Epoch 46 -> [Train] Loss: -0.9112230539321899 [Val] Loss: -0.888735830783844\n",
      "Epoch 47 -> [Train] Loss: -0.9110791683197021 [Val] Loss: -0.8891013264656067\n",
      "Epoch 48 -> [Train] Loss: -0.9114865064620972 [Val] Loss: -0.8891669511795044\n",
      "Epoch 49 -> [Train] Loss: -0.9129390716552734 [Val] Loss: -0.8902519345283508\n",
      "Epoch 50 -> [Train] Loss: -0.9084140658378601 [Val] Loss: -0.889265775680542\n",
      "Epoch 51 -> [Train] Loss: -0.9128957390785217 [Val] Loss: -0.890578031539917\n",
      "Epoch 52 -> [Train] Loss: -0.9143848419189453 [Val] Loss: -0.8908971548080444\n",
      "Epoch 53 -> [Train] Loss: -0.9122863411903381 [Val] Loss: -0.8915992975234985\n",
      "Epoch 54 -> [Train] Loss: -0.9131904244422913 [Val] Loss: -0.891512930393219\n",
      "Epoch 55 -> [Train] Loss: -0.9158707857131958 [Val] Loss: -0.8924499154090881\n",
      "Epoch 56 -> [Train] Loss: -0.9151384234428406 [Val] Loss: -0.8923296928405762\n",
      "Epoch 57 -> [Train] Loss: -0.9157960414886475 [Val] Loss: -0.8928439021110535\n",
      "Epoch 58 -> [Train] Loss: -0.914173424243927 [Val] Loss: -0.8931179046630859\n",
      "Epoch 59 -> [Train] Loss: -0.9169285893440247 [Val] Loss: -0.891813337802887\n",
      "Epoch 60 -> [Train] Loss: -0.9140310287475586 [Val] Loss: -0.8933042287826538\n",
      "Epoch 61 -> [Train] Loss: -0.9176533818244934 [Val] Loss: -0.892104983329773\n",
      "Epoch 62 -> [Train] Loss: -0.9168317914009094 [Val] Loss: -0.8941119909286499\n",
      "Epoch 63 -> [Train] Loss: -0.9164583086967468 [Val] Loss: -0.8924207091331482\n",
      "Epoch 64 -> [Train] Loss: -0.9182417988777161 [Val] Loss: -0.893468976020813\n",
      "Epoch 65 -> [Train] Loss: -0.9185647964477539 [Val] Loss: -0.8933020830154419\n",
      "Epoch 66 -> [Train] Loss: -0.9175348281860352 [Val] Loss: -0.8941607475280762\n",
      "Epoch 67 -> [Train] Loss: -0.9164457321166992 [Val] Loss: -0.8944797515869141\n",
      "Epoch 68 -> [Train] Loss: -0.9172162413597107 [Val] Loss: -0.8937565684318542\n",
      "Epoch 69 -> [Train] Loss: -0.9200557470321655 [Val] Loss: -0.8946554660797119\n",
      "Epoch 70 -> [Train] Loss: -0.9176235198974609 [Val] Loss: -0.893264889717102\n",
      "Epoch 71 -> [Train] Loss: -0.9175930619239807 [Val] Loss: -0.8949080109596252\n",
      "Epoch 72 -> [Train] Loss: -0.9211304187774658 [Val] Loss: -0.8934264779090881\n",
      "Epoch 73 -> [Train] Loss: -0.921565592288971 [Val] Loss: -0.8956444263458252\n",
      "Epoch 74 -> [Train] Loss: -0.9189817309379578 [Val] Loss: -0.8948138356208801\n",
      "Epoch 75 -> [Train] Loss: -0.9197797179222107 [Val] Loss: -0.8955031037330627\n",
      "Epoch 76 -> [Train] Loss: -0.9200606942176819 [Val] Loss: -0.8959006071090698\n",
      "Epoch 77 -> [Train] Loss: -0.9204380512237549 [Val] Loss: -0.8945100903511047\n",
      "Epoch 78 -> [Train] Loss: -0.9210420846939087 [Val] Loss: -0.8962289094924927\n",
      "Epoch 79 -> [Train] Loss: -0.9243165850639343 [Val] Loss: -0.8955566883087158\n",
      "Epoch 80 -> [Train] Loss: -0.9203742742538452 [Val] Loss: -0.8961461782455444\n",
      "Epoch 81 -> [Train] Loss: -0.920649528503418 [Val] Loss: -0.8947412371635437\n",
      "Epoch 82 -> [Train] Loss: -0.9216125011444092 [Val] Loss: -0.8961664438247681\n",
      "Epoch 83 -> [Train] Loss: -0.9223780035972595 [Val] Loss: -0.8951404094696045\n",
      "Epoch 84 -> [Train] Loss: -0.9243635535240173 [Val] Loss: -0.8967559933662415\n",
      "Epoch 85 -> [Train] Loss: -0.9213385581970215 [Val] Loss: -0.8959255218505859\n",
      "Epoch 86 -> [Train] Loss: -0.9237197637557983 [Val] Loss: -0.896059513092041\n",
      "Epoch 87 -> [Train] Loss: -0.9230941534042358 [Val] Loss: -0.8961703777313232\n",
      "Epoch 88 -> [Train] Loss: -0.9259848594665527 [Val] Loss: -0.8968250155448914\n",
      "Epoch 89 -> [Train] Loss: -0.922825038433075 [Val] Loss: -0.896535336971283\n",
      "Epoch 90 -> [Train] Loss: -0.9259539842605591 [Val] Loss: -0.8968282341957092\n",
      "Epoch 91 -> [Train] Loss: -0.9245473146438599 [Val] Loss: -0.8973060250282288\n",
      "Epoch 92 -> [Train] Loss: -0.9247008562088013 [Val] Loss: -0.8963138461112976\n",
      "Epoch 93 -> [Train] Loss: -0.9234480261802673 [Val] Loss: -0.8963345885276794\n",
      "Epoch 94 -> [Train] Loss: -0.9251313805580139 [Val] Loss: -0.897842526435852\n",
      "Epoch 95 -> [Train] Loss: -0.9235961437225342 [Val] Loss: -0.8945816159248352\n",
      "Epoch 96 -> [Train] Loss: -0.9251824617385864 [Val] Loss: -0.8962255716323853\n",
      "Epoch 97 -> [Train] Loss: -0.9256941676139832 [Val] Loss: -0.8978116512298584\n",
      "Epoch 98 -> [Train] Loss: -0.9233488440513611 [Val] Loss: -0.8973965048789978\n",
      "Epoch 99 -> [Train] Loss: -0.9261630773544312 [Val] Loss: -0.8980826735496521\n",
      "Epoch 100 -> [Train] Loss: -0.9260038733482361 [Val] Loss: -0.8976675271987915\n",
      "Epoch 101 -> [Train] Loss: -0.9260450005531311 [Val] Loss: -0.8967234492301941\n",
      "Epoch 102 -> [Train] Loss: -0.9268744587898254 [Val] Loss: -0.8978005647659302\n",
      "Epoch 103 -> [Train] Loss: -0.9252187609672546 [Val] Loss: -0.8983876705169678\n",
      "Epoch 104 -> [Train] Loss: -0.9255167245864868 [Val] Loss: -0.8978411555290222\n",
      "Epoch 105 -> [Train] Loss: -0.9259309768676758 [Val] Loss: -0.8984476327896118\n",
      "Epoch 106 -> [Train] Loss: -0.9271270036697388 [Val] Loss: -0.8986501097679138\n",
      "Epoch 107 -> [Train] Loss: -0.9273871183395386 [Val] Loss: -0.8984782099723816\n",
      "Epoch 108 -> [Train] Loss: -0.9269446134567261 [Val] Loss: -0.8987911939620972\n",
      "Epoch 109 -> [Train] Loss: -0.9278305768966675 [Val] Loss: -0.8992564678192139\n",
      "Epoch 110 -> [Train] Loss: -0.9280664324760437 [Val] Loss: -0.8992661833763123\n",
      "Epoch 111 -> [Train] Loss: -0.9293055534362793 [Val] Loss: -0.8991000056266785\n",
      "Epoch 112 -> [Train] Loss: -0.927437961101532 [Val] Loss: -0.899298906326294\n",
      "Epoch 113 -> [Train] Loss: -0.9255174994468689 [Val] Loss: -0.89985191822052\n",
      "Epoch 114 -> [Train] Loss: -0.9282153248786926 [Val] Loss: -0.9009943604469299\n",
      "Epoch 115 -> [Train] Loss: -0.9294411540031433 [Val] Loss: -0.8998722434043884\n",
      "Epoch 116 -> [Train] Loss: -0.9300249814987183 [Val] Loss: -0.9006718993186951\n",
      "Epoch 117 -> [Train] Loss: -0.9289001226425171 [Val] Loss: -0.901096522808075\n",
      "Epoch 118 -> [Train] Loss: -0.9295017719268799 [Val] Loss: -0.9010314345359802\n",
      "Epoch 119 -> [Train] Loss: -0.929535448551178 [Val] Loss: -0.9011164307594299\n",
      "Epoch 120 -> [Train] Loss: -0.9282183051109314 [Val] Loss: -0.9012439250946045\n",
      "Epoch 121 -> [Train] Loss: -0.9301630854606628 [Val] Loss: -0.9015120267868042\n",
      "Epoch 122 -> [Train] Loss: -0.9303714036941528 [Val] Loss: -0.9017062783241272\n",
      "Epoch 123 -> [Train] Loss: -0.93034428358078 [Val] Loss: -0.9020527601242065\n",
      "Epoch 124 -> [Train] Loss: -0.931175947189331 [Val] Loss: -0.9018393754959106\n",
      "Epoch 125 -> [Train] Loss: -0.9314997792243958 [Val] Loss: -0.9020887613296509\n",
      "Epoch 126 -> [Train] Loss: -0.9304187297821045 [Val] Loss: -0.9018592834472656\n",
      "Epoch 127 -> [Train] Loss: -0.9317843317985535 [Val] Loss: -0.9025312066078186\n",
      "Epoch 128 -> [Train] Loss: -0.9331235885620117 [Val] Loss: -0.9021521210670471\n",
      "Epoch 129 -> [Train] Loss: -0.9307484030723572 [Val] Loss: -0.902167797088623\n",
      "Epoch 130 -> [Train] Loss: -0.9315146207809448 [Val] Loss: -0.902291476726532\n",
      "Epoch 131 -> [Train] Loss: -0.9310461282730103 [Val] Loss: -0.9026921987533569\n",
      "Epoch 132 -> [Train] Loss: -0.9313660264015198 [Val] Loss: -0.9028311371803284\n",
      "Epoch 133 -> [Train] Loss: -0.9315621256828308 [Val] Loss: -0.9027366042137146\n",
      "Epoch 134 -> [Train] Loss: -0.9325268864631653 [Val] Loss: -0.9026567339897156\n",
      "Epoch 135 -> [Train] Loss: -0.9330155253410339 [Val] Loss: -0.9028132557868958\n",
      "Epoch 136 -> [Train] Loss: -0.9340843558311462 [Val] Loss: -0.9026014804840088\n",
      "Epoch 137 -> [Train] Loss: -0.9317094683647156 [Val] Loss: -0.903298556804657\n",
      "Epoch 138 -> [Train] Loss: -0.932693600654602 [Val] Loss: -0.9027576446533203\n",
      "Epoch 139 -> [Train] Loss: -0.9317256212234497 [Val] Loss: -0.9030618071556091\n",
      "Epoch 140 -> [Train] Loss: -0.9342799186706543 [Val] Loss: -0.9030088782310486\n",
      "Epoch 141 -> [Train] Loss: -0.9332281947135925 [Val] Loss: -0.9032963514328003\n",
      "Epoch 142 -> [Train] Loss: -0.9339791536331177 [Val] Loss: -0.9033097624778748\n",
      "Epoch 143 -> [Train] Loss: -0.933142900466919 [Val] Loss: -0.903243899345398\n",
      "Epoch 144 -> [Train] Loss: -0.9324426054954529 [Val] Loss: -0.9030091166496277\n",
      "Epoch 145 -> [Train] Loss: -0.9345919489860535 [Val] Loss: -0.9029194712638855\n",
      "Epoch 146 -> [Train] Loss: -0.9328392744064331 [Val] Loss: -0.9031379818916321\n",
      "Epoch 147 -> [Train] Loss: -0.9312040209770203 [Val] Loss: -0.9030939936637878\n",
      "Epoch 148 -> [Train] Loss: -0.9325120449066162 [Val] Loss: -0.9036555290222168\n",
      "Epoch 149 -> [Train] Loss: -0.9341763257980347 [Val] Loss: -0.9037695527076721\n",
      "Epoch 150 -> [Train] Loss: -0.9331880211830139 [Val] Loss: -0.9029242992401123\n",
      "Epoch 151 -> [Train] Loss: -0.9327152967453003 [Val] Loss: -0.9033716320991516\n",
      "Epoch 152 -> [Train] Loss: -0.9332531690597534 [Val] Loss: -0.9035979509353638\n",
      "Epoch 153 -> [Train] Loss: -0.9321273565292358 [Val] Loss: -0.9033572673797607\n",
      "Epoch 154 -> [Train] Loss: -0.9344468712806702 [Val] Loss: -0.9027916789054871\n",
      "Epoch 155 -> [Train] Loss: -0.9334477186203003 [Val] Loss: -0.903019368648529\n",
      "Epoch 156 -> [Train] Loss: -0.9350562691688538 [Val] Loss: -0.9031827449798584\n",
      "Epoch 157 -> [Train] Loss: -0.9344409108161926 [Val] Loss: -0.9032710194587708\n",
      "Epoch 158 -> [Train] Loss: -0.9332741498947144 [Val] Loss: -0.9035987257957458\n",
      "Epoch 159 -> [Train] Loss: -0.934093177318573 [Val] Loss: -0.9034447073936462\n",
      "Epoch 160 -> [Train] Loss: -0.9355736970901489 [Val] Loss: -0.903859555721283\n",
      "Epoch 161 -> [Train] Loss: -0.9323962330818176 [Val] Loss: -0.9038885831832886\n",
      "Epoch 162 -> [Train] Loss: -0.9333131313323975 [Val] Loss: -0.9031059741973877\n",
      "Epoch 163 -> [Train] Loss: -0.9355088472366333 [Val] Loss: -0.9037714004516602\n",
      "Epoch 164 -> [Train] Loss: -0.9352443218231201 [Val] Loss: -0.904325544834137\n",
      "Epoch 165 -> [Train] Loss: -0.9334630370140076 [Val] Loss: -0.9037410616874695\n",
      "Epoch 166 -> [Train] Loss: -0.9352825880050659 [Val] Loss: -0.9036673903465271\n",
      "Epoch 167 -> [Train] Loss: -0.9346356987953186 [Val] Loss: -0.9033052325248718\n",
      "Epoch 168 -> [Train] Loss: -0.933822751045227 [Val] Loss: -0.9035188555717468\n",
      "Epoch 169 -> [Train] Loss: -0.9348927140235901 [Val] Loss: -0.903384268283844\n",
      "Epoch 170 -> [Train] Loss: -0.9345982670783997 [Val] Loss: -0.9040380120277405\n",
      "Epoch 171 -> [Train] Loss: -0.9336460828781128 [Val] Loss: -0.903792679309845\n",
      "Epoch 172 -> [Train] Loss: -0.9363384246826172 [Val] Loss: -0.9036862850189209\n",
      "Epoch 173 -> [Train] Loss: -0.9363781809806824 [Val] Loss: -0.9040346741676331\n",
      "Epoch 174 -> [Train] Loss: -0.93668532371521 [Val] Loss: -0.9031664133071899\n",
      "Epoch 175 -> [Train] Loss: -0.9349180459976196 [Val] Loss: -0.9042301177978516\n",
      "Epoch 176 -> [Train] Loss: -0.9349625706672668 [Val] Loss: -0.9037889242172241\n",
      "Epoch 177 -> [Train] Loss: -0.9368588924407959 [Val] Loss: -0.9042068123817444\n",
      "Epoch 178 -> [Train] Loss: -0.9355704188346863 [Val] Loss: -0.9038164019584656\n",
      "Epoch 179 -> [Train] Loss: -0.9353377819061279 [Val] Loss: -0.9038133025169373\n",
      "Epoch 180 -> [Train] Loss: -0.9358816146850586 [Val] Loss: -0.9037663340568542\n",
      "Epoch 181 -> [Train] Loss: -0.9372900724411011 [Val] Loss: -0.9041799306869507\n",
      "Epoch 182 -> [Train] Loss: -0.9362142086029053 [Val] Loss: -0.9034830927848816\n",
      "Epoch 183 -> [Train] Loss: -0.9359046816825867 [Val] Loss: -0.9035628437995911\n",
      "Epoch 184 -> [Train] Loss: -0.9367749691009521 [Val] Loss: -0.9045905470848083\n",
      "Epoch 185 -> [Train] Loss: -0.9351941347122192 [Val] Loss: -0.9039027690887451\n",
      "Epoch 186 -> [Train] Loss: -0.9368540048599243 [Val] Loss: -0.9037724137306213\n",
      "Epoch 187 -> [Train] Loss: -0.9374861121177673 [Val] Loss: -0.9042190909385681\n",
      "Epoch 188 -> [Train] Loss: -0.9362661242485046 [Val] Loss: -0.9042072296142578\n",
      "Epoch 189 -> [Train] Loss: -0.9362384676933289 [Val] Loss: -0.9043325781822205\n",
      "Epoch 190 -> [Train] Loss: -0.9360321760177612 [Val] Loss: -0.9047248959541321\n",
      "Epoch 191 -> [Train] Loss: -0.9351739287376404 [Val] Loss: -0.9043245911598206\n",
      "Epoch 192 -> [Train] Loss: -0.9388929605484009 [Val] Loss: -0.9046084880828857\n",
      "Epoch 193 -> [Train] Loss: -0.935048520565033 [Val] Loss: -0.9044303297996521\n",
      "Epoch 194 -> [Train] Loss: -0.936285138130188 [Val] Loss: -0.9047299027442932\n",
      "Epoch 195 -> [Train] Loss: -0.9374796748161316 [Val] Loss: -0.9044910073280334\n",
      "Epoch 196 -> [Train] Loss: -0.9367079734802246 [Val] Loss: -0.9052051901817322\n",
      "Epoch 197 -> [Train] Loss: -0.934263288974762 [Val] Loss: -0.9044323563575745\n",
      "Epoch 198 -> [Train] Loss: -0.9381439685821533 [Val] Loss: -0.9042076468467712\n",
      "Epoch 199 -> [Train] Loss: -0.9364448189735413 [Val] Loss: -0.9048559665679932\n",
      "Epoch 200 -> [Train] Loss: -0.9374635815620422 [Val] Loss: -0.9049062132835388\n",
      "Epoch 201 -> [Train] Loss: -0.9357060790061951 [Val] Loss: -0.9043965935707092\n",
      "Epoch 202 -> [Train] Loss: -0.9350476861000061 [Val] Loss: -0.9047377705574036\n",
      "Epoch 203 -> [Train] Loss: -0.9375218152999878 [Val] Loss: -0.9046844840049744\n",
      "Epoch 204 -> [Train] Loss: -0.9362965822219849 [Val] Loss: -0.9046732187271118\n",
      "Epoch 205 -> [Train] Loss: -0.9366629719734192 [Val] Loss: -0.9053866267204285\n",
      "Epoch 206 -> [Train] Loss: -0.934258222579956 [Val] Loss: -0.9048470854759216\n",
      "Epoch 207 -> [Train] Loss: -0.9374606013298035 [Val] Loss: -0.9051107168197632\n",
      "Epoch 208 -> [Train] Loss: -0.9372515678405762 [Val] Loss: -0.905202329158783\n",
      "Epoch 209 -> [Train] Loss: -0.9372314214706421 [Val] Loss: -0.9047414660453796\n",
      "Epoch 210 -> [Train] Loss: -0.9369779825210571 [Val] Loss: -0.9050589203834534\n",
      "Epoch 211 -> [Train] Loss: -0.9382227659225464 [Val] Loss: -0.9058843851089478\n",
      "Epoch 212 -> [Train] Loss: -0.9389354586601257 [Val] Loss: -0.9047092199325562\n",
      "Epoch 213 -> [Train] Loss: -0.9380819201469421 [Val] Loss: -0.9058929085731506\n",
      "Epoch 214 -> [Train] Loss: -0.9370054602622986 [Val] Loss: -0.9052550792694092\n",
      "Epoch 215 -> [Train] Loss: -0.9340910315513611 [Val] Loss: -0.9043325185775757\n",
      "Epoch 216 -> [Train] Loss: -0.9367701411247253 [Val] Loss: -0.9052382707595825\n",
      "Epoch 217 -> [Train] Loss: -0.9361456632614136 [Val] Loss: -0.9047197103500366\n",
      "Epoch 218 -> [Train] Loss: -0.9387294054031372 [Val] Loss: -0.9055255651473999\n",
      "Epoch 219 -> [Train] Loss: -0.9403150677680969 [Val] Loss: -0.9055400490760803\n",
      "Epoch 220 -> [Train] Loss: -0.9377997517585754 [Val] Loss: -0.9054561257362366\n",
      "Epoch 221 -> [Train] Loss: -0.9365753531455994 [Val] Loss: -0.9061780571937561\n",
      "Epoch 222 -> [Train] Loss: -0.9386825561523438 [Val] Loss: -0.9057959318161011\n",
      "Epoch 223 -> [Train] Loss: -0.9386060237884521 [Val] Loss: -0.9065116047859192\n",
      "Epoch 224 -> [Train] Loss: -0.9376646280288696 [Val] Loss: -0.9059672951698303\n",
      "Epoch 225 -> [Train] Loss: -0.938205897808075 [Val] Loss: -0.9053745865821838\n",
      "Epoch 226 -> [Train] Loss: -0.9383215308189392 [Val] Loss: -0.9056504368782043\n",
      "Epoch 227 -> [Train] Loss: -0.9390489459037781 [Val] Loss: -0.9056598544120789\n",
      "Epoch 228 -> [Train] Loss: -0.9389588832855225 [Val] Loss: -0.9065045714378357\n",
      "Epoch 229 -> [Train] Loss: -0.9393453598022461 [Val] Loss: -0.906907320022583\n",
      "Epoch 230 -> [Train] Loss: -0.9359959959983826 [Val] Loss: -0.9062333106994629\n",
      "Epoch 231 -> [Train] Loss: -0.9382242560386658 [Val] Loss: -0.9062433838844299\n",
      "Epoch 232 -> [Train] Loss: -0.9380273818969727 [Val] Loss: -0.9063671827316284\n",
      "Epoch 233 -> [Train] Loss: -0.9384496808052063 [Val] Loss: -0.9067420363426208\n",
      "Epoch 234 -> [Train] Loss: -0.9386579394340515 [Val] Loss: -0.9057812094688416\n",
      "Epoch 235 -> [Train] Loss: -0.9389463067054749 [Val] Loss: -0.9067601561546326\n",
      "Epoch 236 -> [Train] Loss: -0.9388899803161621 [Val] Loss: -0.9064150452613831\n",
      "Epoch 237 -> [Train] Loss: -0.9392333626747131 [Val] Loss: -0.9074463248252869\n",
      "Epoch 238 -> [Train] Loss: -0.9381462931632996 [Val] Loss: -0.906364381313324\n",
      "Epoch 239 -> [Train] Loss: -0.9375043511390686 [Val] Loss: -0.9071831703186035\n",
      "Epoch 240 -> [Train] Loss: -0.9364813566207886 [Val] Loss: -0.9064249992370605\n",
      "Epoch 241 -> [Train] Loss: -0.939663827419281 [Val] Loss: -0.9069496393203735\n",
      "Epoch 242 -> [Train] Loss: -0.9384335279464722 [Val] Loss: -0.906683623790741\n",
      "Epoch 243 -> [Train] Loss: -0.941027820110321 [Val] Loss: -0.906873881816864\n",
      "Epoch 244 -> [Train] Loss: -0.9397563934326172 [Val] Loss: -0.9064067602157593\n",
      "Epoch 245 -> [Train] Loss: -0.9386011958122253 [Val] Loss: -0.906856119632721\n",
      "Epoch 246 -> [Train] Loss: -0.9380514025688171 [Val] Loss: -0.9067263603210449\n",
      "Epoch 247 -> [Train] Loss: -0.9391908049583435 [Val] Loss: -0.9073788523674011\n",
      "Epoch 248 -> [Train] Loss: -0.9389867782592773 [Val] Loss: -0.9068412780761719\n",
      "Epoch 249 -> [Train] Loss: -0.9408323168754578 [Val] Loss: -0.9068936705589294\n",
      "Epoch 250 -> [Train] Loss: -0.9388691782951355 [Val] Loss: -0.907310426235199\n",
      "Epoch 251 -> [Train] Loss: -0.939664363861084 [Val] Loss: -0.9073792695999146\n",
      "Epoch 252 -> [Train] Loss: -0.939555823802948 [Val] Loss: -0.9072014093399048\n",
      "Epoch 253 -> [Train] Loss: -0.9403939843177795 [Val] Loss: -0.9072304964065552\n",
      "Epoch 254 -> [Train] Loss: -0.938364565372467 [Val] Loss: -0.9074491262435913\n",
      "Epoch 255 -> [Train] Loss: -0.9387215375900269 [Val] Loss: -0.9069709181785583\n",
      "Epoch 256 -> [Train] Loss: -0.9393660426139832 [Val] Loss: -0.9076434969902039\n",
      "Epoch 257 -> [Train] Loss: -0.9395003914833069 [Val] Loss: -0.9073901772499084\n",
      "Epoch 258 -> [Train] Loss: -0.9395771026611328 [Val] Loss: -0.9075418710708618\n",
      "Epoch 259 -> [Train] Loss: -0.9408270120620728 [Val] Loss: -0.9081687927246094\n",
      "Epoch 260 -> [Train] Loss: -0.9415825605392456 [Val] Loss: -0.9077028036117554\n",
      "Epoch 261 -> [Train] Loss: -0.9404613971710205 [Val] Loss: -0.907494306564331\n",
      "Epoch 262 -> [Train] Loss: -0.9400191903114319 [Val] Loss: -0.9074875712394714\n",
      "Epoch 263 -> [Train] Loss: -0.9422964453697205 [Val] Loss: -0.9077661633491516\n",
      "Epoch 264 -> [Train] Loss: -0.9403934478759766 [Val] Loss: -0.9076561331748962\n",
      "Epoch 265 -> [Train] Loss: -0.9402507543563843 [Val] Loss: -0.9078145623207092\n",
      "Epoch 266 -> [Train] Loss: -0.9389534592628479 [Val] Loss: -0.9073135852813721\n",
      "Epoch 267 -> [Train] Loss: -0.9393736124038696 [Val] Loss: -0.9075461626052856\n",
      "Epoch 268 -> [Train] Loss: -0.9409058094024658 [Val] Loss: -0.9075302481651306\n",
      "Epoch 269 -> [Train] Loss: -0.9407223463058472 [Val] Loss: -0.9078055024147034\n",
      "Epoch 270 -> [Train] Loss: -0.9392597675323486 [Val] Loss: -0.9079377055168152\n",
      "Epoch 271 -> [Train] Loss: -0.9398602247238159 [Val] Loss: -0.9079900979995728\n",
      "Epoch 272 -> [Train] Loss: -0.93766850233078 [Val] Loss: -0.9080310463905334\n",
      "Epoch 273 -> [Train] Loss: -0.9390515685081482 [Val] Loss: -0.9078934788703918\n",
      "Epoch 274 -> [Train] Loss: -0.9404640793800354 [Val] Loss: -0.9085057973861694\n",
      "Epoch 275 -> [Train] Loss: -0.9408209919929504 [Val] Loss: -0.9076291918754578\n",
      "Epoch 276 -> [Train] Loss: -0.9405800700187683 [Val] Loss: -0.9075077772140503\n",
      "Epoch 277 -> [Train] Loss: -0.9405199289321899 [Val] Loss: -0.9074248671531677\n",
      "Epoch 278 -> [Train] Loss: -0.9399163722991943 [Val] Loss: -0.9080791473388672\n",
      "Epoch 279 -> [Train] Loss: -0.9414483308792114 [Val] Loss: -0.9077437520027161\n",
      "Epoch 280 -> [Train] Loss: -0.9420363306999207 [Val] Loss: -0.9084323644638062\n",
      "Epoch 281 -> [Train] Loss: -0.9399495720863342 [Val] Loss: -0.907905101776123\n",
      "Epoch 282 -> [Train] Loss: -0.9408517479896545 [Val] Loss: -0.9072058200836182\n",
      "Epoch 283 -> [Train] Loss: -0.9411553740501404 [Val] Loss: -0.9073054194450378\n",
      "Epoch 284 -> [Train] Loss: -0.93955397605896 [Val] Loss: -0.9081867933273315\n",
      "Epoch 285 -> [Train] Loss: -0.941066324710846 [Val] Loss: -0.9076836109161377\n",
      "Epoch 286 -> [Train] Loss: -0.9406520128250122 [Val] Loss: -0.9081372618675232\n",
      "Epoch 287 -> [Train] Loss: -0.9420645833015442 [Val] Loss: -0.9081885814666748\n",
      "Epoch 288 -> [Train] Loss: -0.9411572813987732 [Val] Loss: -0.9082851409912109\n",
      "Epoch 289 -> [Train] Loss: -0.9392117261886597 [Val] Loss: -0.9072513580322266\n",
      "Epoch 290 -> [Train] Loss: -0.9421769976615906 [Val] Loss: -0.908585786819458\n",
      "Epoch 291 -> [Train] Loss: -0.9421384930610657 [Val] Loss: -0.9084204435348511\n",
      "Epoch 292 -> [Train] Loss: -0.9411202073097229 [Val] Loss: -0.9077017307281494\n",
      "Epoch 293 -> [Train] Loss: -0.9407616853713989 [Val] Loss: -0.9080582857131958\n",
      "Epoch 294 -> [Train] Loss: -0.9414657354354858 [Val] Loss: -0.907631516456604\n",
      "Epoch 295 -> [Train] Loss: -0.9419218301773071 [Val] Loss: -0.9079756140708923\n",
      "Epoch 296 -> [Train] Loss: -0.9416980743408203 [Val] Loss: -0.9082422852516174\n",
      "Epoch 297 -> [Train] Loss: -0.939955472946167 [Val] Loss: -0.9084908366203308\n",
      "Epoch 298 -> [Train] Loss: -0.9413096308708191 [Val] Loss: -0.9080474972724915\n",
      "Epoch 299 -> [Train] Loss: -0.9414165019989014 [Val] Loss: -0.9079656004905701\n",
      "Epoch 300 -> [Train] Loss: -0.9408771395683289 [Val] Loss: -0.9078336954116821\n",
      "Epoch 301 -> [Train] Loss: -0.9426175951957703 [Val] Loss: -0.9083874225616455\n",
      "Epoch 302 -> [Train] Loss: -0.9412984251976013 [Val] Loss: -0.9080027341842651\n",
      "Epoch 303 -> [Train] Loss: -0.9418408274650574 [Val] Loss: -0.9079390168190002\n",
      "Epoch 304 -> [Train] Loss: -0.9416226744651794 [Val] Loss: -0.9086511731147766\n",
      "Epoch 305 -> [Train] Loss: -0.9425063133239746 [Val] Loss: -0.9078145623207092\n",
      "Epoch 306 -> [Train] Loss: -0.9429839253425598 [Val] Loss: -0.9085082411766052\n",
      "Epoch 307 -> [Train] Loss: -0.9431341290473938 [Val] Loss: -0.9084334969520569\n",
      "Epoch 308 -> [Train] Loss: -0.9423956871032715 [Val] Loss: -0.9081384539604187\n",
      "Epoch 309 -> [Train] Loss: -0.9395351409912109 [Val] Loss: -0.9082205295562744\n",
      "Epoch 310 -> [Train] Loss: -0.9434629678726196 [Val] Loss: -0.9079989194869995\n",
      "Epoch 311 -> [Train] Loss: -0.9420774579048157 [Val] Loss: -0.9081902503967285\n",
      "Epoch 312 -> [Train] Loss: -0.9428188800811768 [Val] Loss: -0.9082229137420654\n",
      "Epoch 313 -> [Train] Loss: -0.9417226910591125 [Val] Loss: -0.9081671237945557\n",
      "Epoch 314 -> [Train] Loss: -0.9405243396759033 [Val] Loss: -0.9082227945327759\n",
      "Epoch 315 -> [Train] Loss: -0.9424394965171814 [Val] Loss: -0.9083279371261597\n",
      "Epoch 316 -> [Train] Loss: -0.9418630003929138 [Val] Loss: -0.9088189005851746\n",
      "Epoch 317 -> [Train] Loss: -0.9415000677108765 [Val] Loss: -0.9086558222770691\n",
      "Epoch 318 -> [Train] Loss: -0.9426287412643433 [Val] Loss: -0.908284604549408\n",
      "Epoch 319 -> [Train] Loss: -0.9411848187446594 [Val] Loss: -0.9080196022987366\n",
      "Epoch 320 -> [Train] Loss: -0.9425330758094788 [Val] Loss: -0.9079099893569946\n",
      "Epoch 321 -> [Train] Loss: -0.9415251016616821 [Val] Loss: -0.907924234867096\n",
      "Epoch 322 -> [Train] Loss: -0.9415714144706726 [Val] Loss: -0.9086229205131531\n",
      "Epoch 323 -> [Train] Loss: -0.941291093826294 [Val] Loss: -0.9082306027412415\n",
      "Epoch 324 -> [Train] Loss: -0.9441034197807312 [Val] Loss: -0.9085544943809509\n",
      "Epoch 325 -> [Train] Loss: -0.9426882863044739 [Val] Loss: -0.9086602330207825\n",
      "Epoch 326 -> [Train] Loss: -0.9418879747390747 [Val] Loss: -0.9079059958457947\n",
      "Epoch 327 -> [Train] Loss: -0.942492663860321 [Val] Loss: -0.9082116484642029\n",
      "Epoch 328 -> [Train] Loss: -0.9400123953819275 [Val] Loss: -0.907701313495636\n",
      "Epoch 329 -> [Train] Loss: -0.9424588084220886 [Val] Loss: -0.908022940158844\n",
      "Epoch 330 -> [Train] Loss: -0.9416201710700989 [Val] Loss: -0.9077720642089844\n",
      "Epoch 331 -> [Train] Loss: -0.9431318640708923 [Val] Loss: -0.9082492589950562\n",
      "Epoch 332 -> [Train] Loss: -0.9430757761001587 [Val] Loss: -0.9081894159317017\n",
      "Epoch 333 -> [Train] Loss: -0.9429513812065125 [Val] Loss: -0.9088143706321716\n",
      "Epoch 334 -> [Train] Loss: -0.9439613819122314 [Val] Loss: -0.9085882902145386\n",
      "Epoch 335 -> [Train] Loss: -0.9420530200004578 [Val] Loss: -0.9079558849334717\n",
      "Epoch 336 -> [Train] Loss: -0.9431668519973755 [Val] Loss: -0.9082008004188538\n",
      "Epoch 337 -> [Train] Loss: -0.9424194693565369 [Val] Loss: -0.9084452390670776\n",
      "Epoch 338 -> [Train] Loss: -0.9427193999290466 [Val] Loss: -0.9080657362937927\n",
      "Epoch 339 -> [Train] Loss: -0.9419763088226318 [Val] Loss: -0.9084415435791016\n",
      "Epoch 340 -> [Train] Loss: -0.9439012408256531 [Val] Loss: -0.9080119729042053\n",
      "Epoch 341 -> [Train] Loss: -0.9430351257324219 [Val] Loss: -0.9081764221191406\n",
      "Epoch 342 -> [Train] Loss: -0.9417610168457031 [Val] Loss: -0.9074296951293945\n",
      "Epoch 343 -> [Train] Loss: -0.9422830939292908 [Val] Loss: -0.9080325961112976\n",
      "Epoch 344 -> [Train] Loss: -0.942138671875 [Val] Loss: -0.9078841805458069\n",
      "Epoch 345 -> [Train] Loss: -0.9433990120887756 [Val] Loss: -0.9080798625946045\n",
      "Epoch 346 -> [Train] Loss: -0.9438313245773315 [Val] Loss: -0.90839684009552\n",
      "Epoch 347 -> [Train] Loss: -0.9435455799102783 [Val] Loss: -0.9081301689147949\n",
      "Epoch 348 -> [Train] Loss: -0.9418874382972717 [Val] Loss: -0.907921552658081\n",
      "Epoch 349 -> [Train] Loss: -0.943210780620575 [Val] Loss: -0.9083566665649414\n",
      "Epoch 350 -> [Train] Loss: -0.9430021643638611 [Val] Loss: -0.9079269766807556\n",
      "Epoch 351 -> [Train] Loss: -0.9443250298500061 [Val] Loss: -0.9079068899154663\n",
      "Epoch 352 -> [Train] Loss: -0.944286048412323 [Val] Loss: -0.9082857966423035\n",
      "Epoch 353 -> [Train] Loss: -0.9428607225418091 [Val] Loss: -0.9080896377563477\n",
      "Epoch 354 -> [Train] Loss: -0.9439627528190613 [Val] Loss: -0.9085420370101929\n",
      "Epoch 355 -> [Train] Loss: -0.9419698119163513 [Val] Loss: -0.9088340997695923\n",
      "Epoch 356 -> [Train] Loss: -0.943193256855011 [Val] Loss: -0.9080724120140076\n",
      "Epoch 357 -> [Train] Loss: -0.9429343938827515 [Val] Loss: -0.9084117412567139\n",
      "Epoch 358 -> [Train] Loss: -0.9421561360359192 [Val] Loss: -0.9080036878585815\n",
      "Epoch 359 -> [Train] Loss: -0.942952036857605 [Val] Loss: -0.9082636833190918\n",
      "Epoch 360 -> [Train] Loss: -0.9420671463012695 [Val] Loss: -0.9086239337921143\n",
      "Epoch 361 -> [Train] Loss: -0.9436848759651184 [Val] Loss: -0.9083077311515808\n",
      "Epoch 362 -> [Train] Loss: -0.9439569711685181 [Val] Loss: -0.9086411595344543\n",
      "Epoch 363 -> [Train] Loss: -0.9428964853286743 [Val] Loss: -0.9084603190422058\n",
      "Epoch 364 -> [Train] Loss: -0.9440494179725647 [Val] Loss: -0.9088413119316101\n",
      "Epoch 365 -> [Train] Loss: -0.9431180953979492 [Val] Loss: -0.9089092016220093\n",
      "Epoch 366 -> [Train] Loss: -0.9450969696044922 [Val] Loss: -0.9081940054893494\n",
      "Epoch 367 -> [Train] Loss: -0.9439604878425598 [Val] Loss: -0.9076901078224182\n",
      "Epoch 368 -> [Train] Loss: -0.9438706636428833 [Val] Loss: -0.9083598852157593\n",
      "Epoch 369 -> [Train] Loss: -0.941965639591217 [Val] Loss: -0.9086470007896423\n",
      "Epoch 370 -> [Train] Loss: -0.9425540566444397 [Val] Loss: -0.9082741737365723\n",
      "Epoch 371 -> [Train] Loss: -0.9421155452728271 [Val] Loss: -0.9082856178283691\n",
      "Epoch 372 -> [Train] Loss: -0.9434460997581482 [Val] Loss: -0.9087088108062744\n",
      "Epoch 373 -> [Train] Loss: -0.9431706666946411 [Val] Loss: -0.9089699983596802\n",
      "Epoch 374 -> [Train] Loss: -0.9424182772636414 [Val] Loss: -0.9090138077735901\n",
      "Epoch 375 -> [Train] Loss: -0.9436894655227661 [Val] Loss: -0.908614456653595\n",
      "Epoch 376 -> [Train] Loss: -0.9436750411987305 [Val] Loss: -0.9083282947540283\n",
      "Epoch 377 -> [Train] Loss: -0.9432389140129089 [Val] Loss: -0.9085460305213928\n",
      "Epoch 378 -> [Train] Loss: -0.9411713480949402 [Val] Loss: -0.9088887572288513\n",
      "Epoch 379 -> [Train] Loss: -0.9436365962028503 [Val] Loss: -0.9090957641601562\n",
      "Epoch 380 -> [Train] Loss: -0.9442201256752014 [Val] Loss: -0.9086788892745972\n",
      "Epoch 381 -> [Train] Loss: -0.9436466097831726 [Val] Loss: -0.9091832637786865\n",
      "Epoch 382 -> [Train] Loss: -0.94386225938797 [Val] Loss: -0.9087643027305603\n",
      "Epoch 383 -> [Train] Loss: -0.9438520669937134 [Val] Loss: -0.9089606404304504\n",
      "Epoch 384 -> [Train] Loss: -0.942254900932312 [Val] Loss: -0.9081894159317017\n",
      "Epoch 385 -> [Train] Loss: -0.943161129951477 [Val] Loss: -0.9082723259925842\n",
      "Epoch 386 -> [Train] Loss: -0.9448142647743225 [Val] Loss: -0.9085680246353149\n",
      "Epoch 387 -> [Train] Loss: -0.9455234408378601 [Val] Loss: -0.9087297320365906\n",
      "Epoch 388 -> [Train] Loss: -0.944920539855957 [Val] Loss: -0.908772885799408\n",
      "Epoch 389 -> [Train] Loss: -0.9437273144721985 [Val] Loss: -0.9089013338088989\n",
      "Epoch 390 -> [Train] Loss: -0.9422013759613037 [Val] Loss: -0.9088519811630249\n",
      "Epoch 391 -> [Train] Loss: -0.9438483119010925 [Val] Loss: -0.9088423252105713\n",
      "Epoch 392 -> [Train] Loss: -0.9444289803504944 [Val] Loss: -0.9088815450668335\n",
      "Epoch 393 -> [Train] Loss: -0.943454921245575 [Val] Loss: -0.9088547229766846\n",
      "Epoch 394 -> [Train] Loss: -0.9445886015892029 [Val] Loss: -0.908988893032074\n",
      "Epoch 395 -> [Train] Loss: -0.943308413028717 [Val] Loss: -0.9093425273895264\n",
      "Epoch 396 -> [Train] Loss: -0.9447812438011169 [Val] Loss: -0.9090280532836914\n",
      "Epoch 397 -> [Train] Loss: -0.943260908126831 [Val] Loss: -0.9090723991394043\n",
      "Epoch 398 -> [Train] Loss: -0.9441010355949402 [Val] Loss: -0.9094136953353882\n",
      "Epoch 399 -> [Train] Loss: -0.9447311758995056 [Val] Loss: -0.9092920422554016\n",
      "Epoch 400 -> [Train] Loss: -0.9437715411186218 [Val] Loss: -0.9092957377433777\n",
      "Epoch 401 -> [Train] Loss: -0.9442720413208008 [Val] Loss: -0.9087957739830017\n",
      "Epoch 402 -> [Train] Loss: -0.9425548315048218 [Val] Loss: -0.9089499115943909\n",
      "Epoch 403 -> [Train] Loss: -0.9417316913604736 [Val] Loss: -0.909269392490387\n",
      "Epoch 404 -> [Train] Loss: -0.9433881640434265 [Val] Loss: -0.9088818430900574\n",
      "Epoch 405 -> [Train] Loss: -0.9444678425788879 [Val] Loss: -0.9087761044502258\n",
      "Epoch 406 -> [Train] Loss: -0.9442130327224731 [Val] Loss: -0.9085771441459656\n",
      "Epoch 407 -> [Train] Loss: -0.9454607963562012 [Val] Loss: -0.9089962840080261\n",
      "Epoch 408 -> [Train] Loss: -0.9442827105522156 [Val] Loss: -0.9093119502067566\n",
      "Epoch 409 -> [Train] Loss: -0.9441321492195129 [Val] Loss: -0.9088042378425598\n",
      "Epoch 410 -> [Train] Loss: -0.9450597763061523 [Val] Loss: -0.9083377718925476\n",
      "Epoch 411 -> [Train] Loss: -0.9443801641464233 [Val] Loss: -0.9087465405464172\n",
      "Epoch 412 -> [Train] Loss: -0.944018542766571 [Val] Loss: -0.908889651298523\n",
      "Epoch 413 -> [Train] Loss: -0.9441088438034058 [Val] Loss: -0.9090650081634521\n",
      "Epoch 414 -> [Train] Loss: -0.9446439743041992 [Val] Loss: -0.9084277749061584\n",
      "Epoch 415 -> [Train] Loss: -0.9444705247879028 [Val] Loss: -0.9084098935127258\n",
      "Epoch 416 -> [Train] Loss: -0.9448166489601135 [Val] Loss: -0.9088528156280518\n",
      "Epoch 417 -> [Train] Loss: -0.9433580040931702 [Val] Loss: -0.9089628458023071\n",
      "Epoch 418 -> [Train] Loss: -0.9443522691726685 [Val] Loss: -0.9092263579368591\n",
      "Epoch 419 -> [Train] Loss: -0.9448332190513611 [Val] Loss: -0.9090975522994995\n",
      "Epoch 420 -> [Train] Loss: -0.9442959427833557 [Val] Loss: -0.9092539548873901\n",
      "Epoch 421 -> [Train] Loss: -0.9439063668251038 [Val] Loss: -0.9087186455726624\n",
      "Epoch 422 -> [Train] Loss: -0.944325864315033 [Val] Loss: -0.9092884063720703\n",
      "Epoch 423 -> [Train] Loss: -0.9436540007591248 [Val] Loss: -0.9087805151939392\n",
      "Epoch 424 -> [Train] Loss: -0.9446030855178833 [Val] Loss: -0.909336507320404\n",
      "Epoch 425 -> [Train] Loss: -0.9420003890991211 [Val] Loss: -0.9091692566871643\n",
      "Epoch 426 -> [Train] Loss: -0.9448673725128174 [Val] Loss: -0.9092341065406799\n",
      "Epoch 427 -> [Train] Loss: -0.9459828734397888 [Val] Loss: -0.9088180065155029\n",
      "Epoch 428 -> [Train] Loss: -0.9447983503341675 [Val] Loss: -0.9086967706680298\n",
      "Epoch 429 -> [Train] Loss: -0.9448534250259399 [Val] Loss: -0.9095045328140259\n",
      "Epoch 430 -> [Train] Loss: -0.9434974193572998 [Val] Loss: -0.909465491771698\n",
      "Epoch 431 -> [Train] Loss: -0.943206787109375 [Val] Loss: -0.9092522859573364\n",
      "Epoch 432 -> [Train] Loss: -0.9432885050773621 [Val] Loss: -0.9095315337181091\n",
      "Epoch 433 -> [Train] Loss: -0.9437121152877808 [Val] Loss: -0.909147322177887\n",
      "Epoch 434 -> [Train] Loss: -0.9442355036735535 [Val] Loss: -0.9087931513786316\n",
      "Epoch 435 -> [Train] Loss: -0.9442667365074158 [Val] Loss: -0.9095064997673035\n",
      "Epoch 436 -> [Train] Loss: -0.9450677037239075 [Val] Loss: -0.909794270992279\n",
      "Epoch 437 -> [Train] Loss: -0.9445242881774902 [Val] Loss: -0.9102668762207031\n",
      "Epoch 438 -> [Train] Loss: -0.9451643228530884 [Val] Loss: -0.9096647500991821\n",
      "Epoch 439 -> [Train] Loss: -0.9442439079284668 [Val] Loss: -0.9091076254844666\n",
      "Epoch 440 -> [Train] Loss: -0.9435480833053589 [Val] Loss: -0.9091970920562744\n",
      "Epoch 441 -> [Train] Loss: -0.9443761110305786 [Val] Loss: -0.9093061685562134\n",
      "Epoch 442 -> [Train] Loss: -0.9448742270469666 [Val] Loss: -0.9097141623497009\n",
      "Epoch 443 -> [Train] Loss: -0.945083498954773 [Val] Loss: -0.9089145660400391\n",
      "Epoch 444 -> [Train] Loss: -0.9463416337966919 [Val] Loss: -0.9095718860626221\n",
      "Epoch 445 -> [Train] Loss: -0.9446513652801514 [Val] Loss: -0.9095086455345154\n",
      "Epoch 446 -> [Train] Loss: -0.9440889358520508 [Val] Loss: -0.909912109375\n",
      "Epoch 447 -> [Train] Loss: -0.9459033608436584 [Val] Loss: -0.9088637828826904\n",
      "Epoch 448 -> [Train] Loss: -0.9434884190559387 [Val] Loss: -0.9094191193580627\n",
      "Epoch 449 -> [Train] Loss: -0.9444530010223389 [Val] Loss: -0.9092166423797607\n",
      "Epoch 450 -> [Train] Loss: -0.9449948072433472 [Val] Loss: -0.9095608592033386\n",
      "Epoch 451 -> [Train] Loss: -0.9461057186126709 [Val] Loss: -0.9096002578735352\n",
      "Epoch 452 -> [Train] Loss: -0.9437897801399231 [Val] Loss: -0.9090803861618042\n",
      "Epoch 453 -> [Train] Loss: -0.9450756907463074 [Val] Loss: -0.9093257784843445\n",
      "Epoch 454 -> [Train] Loss: -0.9444395899772644 [Val] Loss: -0.9091962575912476\n",
      "Epoch 455 -> [Train] Loss: -0.9443281888961792 [Val] Loss: -0.909409761428833\n",
      "Epoch 456 -> [Train] Loss: -0.9436537027359009 [Val] Loss: -0.9095456600189209\n",
      "Epoch 457 -> [Train] Loss: -0.9457017779350281 [Val] Loss: -0.9095805287361145\n",
      "Epoch 458 -> [Train] Loss: -0.9430866837501526 [Val] Loss: -0.9103543162345886\n",
      "Epoch 459 -> [Train] Loss: -0.945817232131958 [Val] Loss: -0.9098083972930908\n",
      "Epoch 460 -> [Train] Loss: -0.9451518058776855 [Val] Loss: -0.9097787141799927\n",
      "Epoch 461 -> [Train] Loss: -0.9448860883712769 [Val] Loss: -0.9095574617385864\n",
      "Epoch 462 -> [Train] Loss: -0.9455053210258484 [Val] Loss: -0.9094401001930237\n",
      "Epoch 463 -> [Train] Loss: -0.944089949131012 [Val] Loss: -0.9093738198280334\n",
      "Epoch 464 -> [Train] Loss: -0.9436680674552917 [Val] Loss: -0.9093774557113647\n",
      "Epoch 465 -> [Train] Loss: -0.944301187992096 [Val] Loss: -0.9093886017799377\n",
      "Epoch 466 -> [Train] Loss: -0.9446991682052612 [Val] Loss: -0.9090211987495422\n",
      "Epoch 467 -> [Train] Loss: -0.9454579949378967 [Val] Loss: -0.909177839756012\n",
      "Epoch 468 -> [Train] Loss: -0.9443997144699097 [Val] Loss: -0.9092971086502075\n",
      "Epoch 469 -> [Train] Loss: -0.943058431148529 [Val] Loss: -0.9097949862480164\n",
      "Epoch 470 -> [Train] Loss: -0.9453511834144592 [Val] Loss: -0.9098730683326721\n",
      "Epoch 471 -> [Train] Loss: -0.9440574645996094 [Val] Loss: -0.9101913571357727\n",
      "Epoch 472 -> [Train] Loss: -0.9444848895072937 [Val] Loss: -0.909735381603241\n",
      "Epoch 473 -> [Train] Loss: -0.9449058175086975 [Val] Loss: -0.9098214507102966\n",
      "Epoch 474 -> [Train] Loss: -0.9461247324943542 [Val] Loss: -0.9095590710639954\n",
      "Epoch 475 -> [Train] Loss: -0.9440739750862122 [Val] Loss: -0.9096171259880066\n",
      "Epoch 476 -> [Train] Loss: -0.9453662037849426 [Val] Loss: -0.9097403883934021\n",
      "Epoch 477 -> [Train] Loss: -0.9456393718719482 [Val] Loss: -0.9099408984184265\n",
      "Epoch 478 -> [Train] Loss: -0.9453766942024231 [Val] Loss: -0.9097925424575806\n",
      "Epoch 479 -> [Train] Loss: -0.9449024200439453 [Val] Loss: -0.9094106554985046\n",
      "Epoch 480 -> [Train] Loss: -0.9455283284187317 [Val] Loss: -0.9096406102180481\n",
      "Epoch 481 -> [Train] Loss: -0.9448513388633728 [Val] Loss: -0.9095884561538696\n",
      "Epoch 482 -> [Train] Loss: -0.944563090801239 [Val] Loss: -0.9095751643180847\n",
      "Epoch 483 -> [Train] Loss: -0.9445309042930603 [Val] Loss: -0.9100576639175415\n",
      "Epoch 484 -> [Train] Loss: -0.9444451928138733 [Val] Loss: -0.9102625846862793\n",
      "Epoch 485 -> [Train] Loss: -0.9442092180252075 [Val] Loss: -0.9100771546363831\n",
      "Epoch 486 -> [Train] Loss: -0.9449726939201355 [Val] Loss: -0.9097405672073364\n",
      "Epoch 487 -> [Train] Loss: -0.9461581707000732 [Val] Loss: -0.909776508808136\n",
      "Epoch 488 -> [Train] Loss: -0.9456002712249756 [Val] Loss: -0.909574568271637\n",
      "Epoch 489 -> [Train] Loss: -0.9451755881309509 [Val] Loss: -0.9097414612770081\n",
      "Epoch 490 -> [Train] Loss: -0.946516752243042 [Val] Loss: -0.9093635082244873\n",
      "Epoch 491 -> [Train] Loss: -0.9447016716003418 [Val] Loss: -0.9093035459518433\n",
      "Epoch 492 -> [Train] Loss: -0.9445428252220154 [Val] Loss: -0.9098895192146301\n",
      "Epoch 493 -> [Train] Loss: -0.9435622096061707 [Val] Loss: -0.9093023538589478\n",
      "Epoch 494 -> [Train] Loss: -0.9455352425575256 [Val] Loss: -0.9091768860816956\n",
      "Epoch 495 -> [Train] Loss: -0.9462743401527405 [Val] Loss: -0.9094464778900146\n",
      "Epoch 496 -> [Train] Loss: -0.9459542036056519 [Val] Loss: -0.9095125794410706\n",
      "Epoch 497 -> [Train] Loss: -0.9447711110115051 [Val] Loss: -0.9097445607185364\n",
      "Epoch 498 -> [Train] Loss: -0.9453082084655762 [Val] Loss: -0.9102122187614441\n",
      "Epoch 499 -> [Train] Loss: -0.9452014565467834 [Val] Loss: -0.9102067351341248\n",
      "CPU times: user 10h 30min 37s, sys: 2h 46min 57s, total: 13h 17min 35s\n",
      "Wall time: 6h 48min 31s\n"
     ]
    }
   ],
   "source": [
    "%%time\n",
    "for epoch in range(config.EPOCHS):\n",
    "    ## Training\n",
    "    for batch in dst_train_rdy.as_numpy_iterator():\n",
    "        state, grads = train_step(state, batch, return_grads=True)\n",
    "        state = state.replace(params=clip_layer(state.params, \"GDN\", a_min=0))\n",
    "        state = state.replace(params=clip_param(state.params, \"A\", a_min=0))\n",
    "        state = state.replace(params=clip_param(state.params, \"K\", a_min=1+1e-5))\n",
    "        wandb.log({f\"{k}_grad\": wandb.Histogram(v) for k, v in flatten_params(grads).items()}, commit=False)\n",
    "        # state = compute_metrics(state=state, batch=batch)\n",
    "        # break\n",
    "\n",
    "    ## Log the metrics\n",
    "    for name, value in state.metrics.compute().items():\n",
    "        metrics_history[f\"train_{name}\"].append(value)\n",
    "    \n",
    "    ## Empty the metrics\n",
    "    state = state.replace(metrics=state.metrics.empty())\n",
    "\n",
    "    ## Evaluation\n",
    "    for batch in dst_val_rdy.as_numpy_iterator():\n",
    "        state = compute_metrics(state=state, batch=batch)\n",
    "        # break\n",
    "    for name, value in state.metrics.compute().items():\n",
    "        metrics_history[f\"val_{name}\"].append(value)\n",
    "    state = state.replace(metrics=state.metrics.empty())\n",
    "    \n",
    "    ## Obtain activations of last validation batch\n",
    "    _, extra = forward_intermediates(state, batch[0])\n",
    "    extra = filter_extra(extra) ## Needed because the Gabor layer has multiple outputs\n",
    "    \n",
    "    ## Checkpointing\n",
    "    if metrics_history[\"val_loss\"][-1] <= min(metrics_history[\"val_loss\"]):\n",
    "        orbax_checkpointer.save(os.path.join(wandb.run.dir, \"model-best\"), state, save_args=save_args, force=True) # force=True means allow overwritting.\n",
    "    # orbax_checkpointer.save(os.path.join(wandb.run.dir, f\"model-{epoch+1}\"), state, save_args=save_args, force=False) # force=True means allow overwritting.\n",
    "\n",
    "    wandb.log({f\"{k}\": wandb.Histogram(v) for k, v in flatten_params(state.params).items()}, commit=False)\n",
    "    wandb.log({f\"{k}\": wandb.Histogram(v) for k, v in flatten_params(extra[\"intermediates\"]).items()}, commit=False)\n",
    "    wandb.log({\"epoch\": epoch+1, **{name:values[-1] for name, values in metrics_history.items()}})\n",
    "    print(f'Epoch {epoch} -> [Train] Loss: {metrics_history[\"train_loss\"][-1]} [Val] Loss: {metrics_history[\"val_loss\"][-1]}')\n",
    "    # break"
   ]
  },
  {
   "cell_type": "markdown",
   "metadata": {},
   "source": [
    "Save the final model as well in case we want to keep training from it or whatever:"
   ]
  },
  {
   "cell_type": "code",
   "execution_count": null,
   "metadata": {},
   "outputs": [],
   "source": [
    "orbax_checkpointer.save(os.path.join(wandb.run.dir, \"model-final\"), state, save_args=save_args)"
   ]
  },
  {
   "cell_type": "code",
   "execution_count": null,
   "metadata": {},
   "outputs": [],
   "source": [
    "wandb.finish()"
   ]
  },
  {
   "cell_type": "code",
   "execution_count": null,
   "metadata": {},
   "outputs": [
    {
     "ename": "<class 'ModuleNotFoundError'>",
     "evalue": "No module named 'matplotlib'",
     "output_type": "error",
     "traceback": [
      "\u001b[0;31m---------------------------------------------------------------------------\u001b[0m",
      "\u001b[0;31mModuleNotFoundError\u001b[0m                       Traceback (most recent call last)",
      "Cell \u001b[0;32mIn [1], line 1\u001b[0m\n\u001b[0;32m----> 1\u001b[0m \u001b[38;5;28;01mimport\u001b[39;00m \u001b[38;5;21;01mmatplotlib\u001b[39;00m\u001b[38;5;21;01m.\u001b[39;00m\u001b[38;5;21;01mpyplot\u001b[39;00m \u001b[38;5;28;01mas\u001b[39;00m \u001b[38;5;21;01mplt\u001b[39;00m\n",
      "\u001b[0;31mModuleNotFoundError\u001b[0m: No module named 'matplotlib'"
     ]
    }
   ],
   "source": [
    "import matplotlib.pyplot as plt"
   ]
  },
  {
   "cell_type": "code",
   "execution_count": null,
   "metadata": {},
   "outputs": [
    {
     "ename": "<class 'KeyError'>",
     "evalue": "'GaborLayerLogSigma__0'",
     "output_type": "error",
     "traceback": [
      "\u001b[0;31m---------------------------------------------------------------------------\u001b[0m",
      "\u001b[0;31mKeyError\u001b[0m                                  Traceback (most recent call last)",
      "Cell \u001b[0;32mIn[1], line 3\u001b[0m\n\u001b[1;32m      1\u001b[0m fig, axes \u001b[38;5;241m=\u001b[39m plt\u001b[38;5;241m.\u001b[39msubplots(\u001b[38;5;241m8\u001b[39m,\u001b[38;5;241m8\u001b[39m, figsize\u001b[38;5;241m=\u001b[39m(\u001b[38;5;241m15\u001b[39m,\u001b[38;5;241m15\u001b[39m))\n\u001b[1;32m      2\u001b[0m \u001b[38;5;28;01mfor\u001b[39;00m i, ax \u001b[38;5;129;01min\u001b[39;00m \u001b[38;5;28menumerate\u001b[39m(axes\u001b[38;5;241m.\u001b[39mravel()):\n\u001b[0;32m----> 3\u001b[0m     ax\u001b[38;5;241m.\u001b[39mimshow(\u001b[43mstate\u001b[49m\u001b[38;5;241;43m.\u001b[39;49m\u001b[43mstate\u001b[49m\u001b[43m[\u001b[49m\u001b[38;5;124;43m\"\u001b[39;49m\u001b[38;5;124;43mprecalc_filter\u001b[39;49m\u001b[38;5;124;43m\"\u001b[39;49m\u001b[43m]\u001b[49m\u001b[43m[\u001b[49m\u001b[38;5;124;43m\"\u001b[39;49m\u001b[38;5;124;43mGaborLayerLogSigma__0\u001b[39;49m\u001b[38;5;124;43m\"\u001b[39;49m\u001b[43m]\u001b[49m[\u001b[38;5;124m\"\u001b[39m\u001b[38;5;124mkernel\u001b[39m\u001b[38;5;124m\"\u001b[39m][:,:,\u001b[38;5;241m0\u001b[39m,i])\n\u001b[1;32m      4\u001b[0m     ax\u001b[38;5;241m.\u001b[39maxis(\u001b[38;5;124m\"\u001b[39m\u001b[38;5;124moff\u001b[39m\u001b[38;5;124m\"\u001b[39m)\n\u001b[1;32m      5\u001b[0m plt\u001b[38;5;241m.\u001b[39mshow()\n",
      "File \u001b[0;32m~/miniconda3/envs/testing_gpu/lib/python3.8/site-packages/flax/core/frozen_dict.py:66\u001b[0m, in \u001b[0;36mFrozenDict.__getitem__\u001b[0;34m(self, key)\u001b[0m\n\u001b[1;32m     65\u001b[0m \u001b[38;5;28;01mdef\u001b[39;00m \u001b[38;5;21m__getitem__\u001b[39m(\u001b[38;5;28mself\u001b[39m, key):\n\u001b[0;32m---> 66\u001b[0m   v \u001b[38;5;241m=\u001b[39m \u001b[38;5;28;43mself\u001b[39;49m\u001b[38;5;241;43m.\u001b[39;49m\u001b[43m_dict\u001b[49m\u001b[43m[\u001b[49m\u001b[43mkey\u001b[49m\u001b[43m]\u001b[49m\n\u001b[1;32m     67\u001b[0m   \u001b[38;5;28;01mif\u001b[39;00m \u001b[38;5;28misinstance\u001b[39m(v, \u001b[38;5;28mdict\u001b[39m):\n\u001b[1;32m     68\u001b[0m     \u001b[38;5;28;01mreturn\u001b[39;00m FrozenDict(v)\n",
      "\u001b[0;31mKeyError\u001b[0m: 'GaborLayerLogSigma__0'"
     ]
    },
    {
     "data": {
      "image/png": "[encoded data removed]",
      "text/plain": [
       "<Figure size 1500x1500 with 64 Axes>"
      ]
     },
     "metadata": {},
     "output_type": "display_data"
    }
   ],
   "source": [
    "fig, axes = plt.subplots(8,8, figsize=(15,15))\n",
    "for i, ax in enumerate(axes.ravel()):\n",
    "    ax.imshow(state.state[\"precalc_filter\"][\"GaborLayerLogSigma__0\"][\"kernel\"][:,:,0,i])\n",
    "    ax.axis(\"off\")\n",
    "plt.show()"
   ]
  },
  {
   "cell_type": "code",
   "execution_count": null,
   "metadata": {},
   "outputs": [
    {
     "ename": "<class 'KeyError'>",
     "evalue": "'GaborLayerLogSigma_0'",
     "output_type": "error",
     "traceback": [
      "\u001b[0;31m---------------------------------------------------------------------------\u001b[0m",
      "\u001b[0;31mKeyError\u001b[0m                                  Traceback (most recent call last)",
      "Cell \u001b[0;32mIn[1], line 1\u001b[0m\n\u001b[0;32m----> 1\u001b[0m kernel \u001b[38;5;241m=\u001b[39m \u001b[43mstate\u001b[49m\u001b[38;5;241;43m.\u001b[39;49m\u001b[43mstate\u001b[49m\u001b[43m[\u001b[49m\u001b[38;5;124;43m\"\u001b[39;49m\u001b[38;5;124;43mprecalc_filter\u001b[39;49m\u001b[38;5;124;43m\"\u001b[39;49m\u001b[43m]\u001b[49m\u001b[43m[\u001b[49m\u001b[38;5;124;43m\"\u001b[39;49m\u001b[38;5;124;43mGaborLayerLogSigma_0\u001b[39;49m\u001b[38;5;124;43m\"\u001b[39;49m\u001b[43m]\u001b[49m[\u001b[38;5;124m\"\u001b[39m\u001b[38;5;124mkernel\u001b[39m\u001b[38;5;124m\"\u001b[39m]\n\u001b[1;32m      2\u001b[0m kernel\u001b[38;5;241m.\u001b[39mshape\n",
      "File \u001b[0;32m~/miniconda3/envs/testing_gpu/lib/python3.8/site-packages/flax/core/frozen_dict.py:66\u001b[0m, in \u001b[0;36mFrozenDict.__getitem__\u001b[0;34m(self, key)\u001b[0m\n\u001b[1;32m     65\u001b[0m \u001b[38;5;28;01mdef\u001b[39;00m \u001b[38;5;21m__getitem__\u001b[39m(\u001b[38;5;28mself\u001b[39m, key):\n\u001b[0;32m---> 66\u001b[0m   v \u001b[38;5;241m=\u001b[39m \u001b[38;5;28;43mself\u001b[39;49m\u001b[38;5;241;43m.\u001b[39;49m\u001b[43m_dict\u001b[49m\u001b[43m[\u001b[49m\u001b[43mkey\u001b[49m\u001b[43m]\u001b[49m\n\u001b[1;32m     67\u001b[0m   \u001b[38;5;28;01mif\u001b[39;00m \u001b[38;5;28misinstance\u001b[39m(v, \u001b[38;5;28mdict\u001b[39m):\n\u001b[1;32m     68\u001b[0m     \u001b[38;5;28;01mreturn\u001b[39;00m FrozenDict(v)\n",
      "\u001b[0;31mKeyError\u001b[0m: 'GaborLayerLogSigma_0'"
     ]
    }
   ],
   "source": [
    "kernel = state.state[\"precalc_filter\"][\"GaborLayerLogSigma_0\"][\"kernel\"]\n",
    "kernel.shape"
   ]
  },
  {
   "cell_type": "code",
   "execution_count": null,
   "metadata": {},
   "outputs": [
    {
     "ename": "<class 'NameError'>",
     "evalue": "name 'kernel' is not defined",
     "output_type": "error",
     "traceback": [
      "\u001b[0;31m---------------------------------------------------------------------------\u001b[0m",
      "\u001b[0;31mNameError\u001b[0m                                 Traceback (most recent call last)",
      "Cell \u001b[0;32mIn[1], line 1\u001b[0m\n\u001b[0;32m----> 1\u001b[0m kernel_f_fft \u001b[38;5;241m=\u001b[39m jnp\u001b[38;5;241m.\u001b[39mfft\u001b[38;5;241m.\u001b[39mfftn(\u001b[43mkernel\u001b[49m[:,:,\u001b[38;5;241m0\u001b[39m,:], axes\u001b[38;5;241m=\u001b[39m(\u001b[38;5;241m0\u001b[39m,\u001b[38;5;241m1\u001b[39m))\n\u001b[1;32m      2\u001b[0m kernel_f_fft \u001b[38;5;241m=\u001b[39m jnp\u001b[38;5;241m.\u001b[39mfft\u001b[38;5;241m.\u001b[39mfftshift(kernel_f_fft)\n\u001b[1;32m      3\u001b[0m kernel_f_fft_abs_sum \u001b[38;5;241m=\u001b[39m jnp\u001b[38;5;241m.\u001b[39mabs(kernel_f_fft)\u001b[38;5;241m.\u001b[39msum(axis\u001b[38;5;241m=\u001b[39m\u001b[38;5;241m-\u001b[39m\u001b[38;5;241m1\u001b[39m)\n",
      "\u001b[0;31mNameError\u001b[0m: name 'kernel' is not defined"
     ]
    }
   ],
   "source": [
    "kernel_f_fft = jnp.fft.fftn(kernel[:,:,0,:], axes=(0,1))\n",
    "kernel_f_fft = jnp.fft.fftshift(kernel_f_fft)\n",
    "kernel_f_fft_abs_sum = jnp.abs(kernel_f_fft).sum(axis=-1)\n",
    "kernel_f_fft.shape, kernel_f_fft_abs_sum.shape"
   ]
  },
  {
   "cell_type": "code",
   "execution_count": null,
   "metadata": {},
   "outputs": [
    {
     "ename": "<class 'NameError'>",
     "evalue": "name 'kernel_f_fft' is not defined",
     "output_type": "error",
     "traceback": [
      "\u001b[0;31m---------------------------------------------------------------------------\u001b[0m",
      "\u001b[0;31mNameError\u001b[0m                                 Traceback (most recent call last)",
      "Cell \u001b[0;32mIn[1], line 3\u001b[0m\n\u001b[1;32m      1\u001b[0m fig, axes \u001b[38;5;241m=\u001b[39m plt\u001b[38;5;241m.\u001b[39msubplots(\u001b[38;5;241m8\u001b[39m,\u001b[38;5;241m8\u001b[39m, figsize\u001b[38;5;241m=\u001b[39m(\u001b[38;5;241m15\u001b[39m,\u001b[38;5;241m15\u001b[39m))\n\u001b[1;32m      2\u001b[0m \u001b[38;5;28;01mfor\u001b[39;00m i, ax \u001b[38;5;129;01min\u001b[39;00m \u001b[38;5;28menumerate\u001b[39m(axes\u001b[38;5;241m.\u001b[39mravel()):\n\u001b[0;32m----> 3\u001b[0m     ax\u001b[38;5;241m.\u001b[39mimshow(jnp\u001b[38;5;241m.\u001b[39mabs(\u001b[43mkernel_f_fft\u001b[49m[:,:,i]))\n\u001b[1;32m      4\u001b[0m     ax\u001b[38;5;241m.\u001b[39maxis(\u001b[38;5;124m\"\u001b[39m\u001b[38;5;124moff\u001b[39m\u001b[38;5;124m\"\u001b[39m)\n\u001b[1;32m      5\u001b[0m plt\u001b[38;5;241m.\u001b[39mshow()\n",
      "\u001b[0;31mNameError\u001b[0m: name 'kernel_f_fft' is not defined"
     ]
    },
    {
     "data": {
      "image/png": "[encoded data removed]",
      "text/plain": [
       "<Figure size 1500x1500 with 64 Axes>"
      ]
     },
     "metadata": {},
     "output_type": "display_data"
    }
   ],
   "source": [
    "fig, axes = plt.subplots(8,8, figsize=(15,15))\n",
    "for i, ax in enumerate(axes.ravel()):\n",
    "    ax.imshow(jnp.abs(kernel_f_fft[:,:,i]))\n",
    "    ax.axis(\"off\")\n",
    "plt.show()"
   ]
  },
  {
   "cell_type": "code",
   "execution_count": null,
   "metadata": {},
   "outputs": [
    {
     "ename": "<class 'NameError'>",
     "evalue": "name 'kernel_f_fft_abs_sum' is not defined",
     "output_type": "error",
     "traceback": [
      "\u001b[0;31m---------------------------------------------------------------------------\u001b[0m",
      "\u001b[0;31mNameError\u001b[0m                                 Traceback (most recent call last)",
      "Cell \u001b[0;32mIn[1], line 1\u001b[0m\n\u001b[0;32m----> 1\u001b[0m plt\u001b[38;5;241m.\u001b[39mimshow(\u001b[43mkernel_f_fft_abs_sum\u001b[49m)\n\u001b[1;32m      2\u001b[0m plt\u001b[38;5;241m.\u001b[39mshow()\n",
      "\u001b[0;31mNameError\u001b[0m: name 'kernel_f_fft_abs_sum' is not defined"
     ]
    }
   ],
   "source": [
    "plt.imshow(kernel_f_fft_abs_sum)\n",
    "plt.show()"
   ]
  }
 ],
 "metadata": {
  "kernelspec": {
   "display_name": "python3",
   "language": "python",
   "name": "python3"
  },
  "language_info": {
   "codemirror_mode": {
    "name": "ipython",
    "version": 3
   },
   "file_extension": ".py",
   "mimetype": "text/x-python",
   "name": "python",
   "nbconvert_exporter": "python",
   "pygments_lexer": "ipython3",
   "version": "3.8.16"
  }
 },
 "nbformat": 4,
 "nbformat_minor": 2
}
