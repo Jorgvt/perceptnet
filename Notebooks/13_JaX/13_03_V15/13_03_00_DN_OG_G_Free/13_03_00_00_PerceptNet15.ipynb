{
 "cells": [
  {
   "cell_type": "code",
   "execution_count": 1,
   "metadata": {},
   "outputs": [],
   "source": [
    "%load_ext autoreload\n",
    "%autoreload 2"
   ]
  },
  {
   "attachments": {},
   "cell_type": "markdown",
   "metadata": {},
   "source": [
    "# IQA tracking params and variables\n",
    "\n",
    "> When using parametric layers we have to be able to keep track of the parameters and the variables of the model (which are not going to be trained). We're going to play with this concept using our implementation of the functional layers."
   ]
  },
  {
   "cell_type": "code",
   "execution_count": 2,
   "metadata": {},
   "outputs": [],
   "source": [
    "# import os; os.environ[\"XLA_PYTHON_CLIENT_MEM_FRACTION\"]=\".99\""
   ]
  },
  {
   "cell_type": "code",
   "execution_count": 3,
   "metadata": {},
   "outputs": [
    {
     "name": "stderr",
     "output_type": "stream",
     "text": [
      "2023-11-16 13:11:44.101933: I tensorflow/core/platform/cpu_feature_guard.cc:182] This TensorFlow binary is optimized to use available CPU instructions in performance-critical operations.\n",
      "To enable the following instructions: AVX2 AVX512F FMA, in other operations, rebuild TensorFlow with the appropriate compiler flags.\n",
      "2023-11-16 13:11:57.708307: W tensorflow/compiler/tf2tensorrt/utils/py_utils.cc:38] TF-TRT Warning: Could not find TensorRT\n",
      "2023-11-16 13:12:46.091546: W external/xla/xla/service/platform_util.cc:198] unable to create StreamExecutor for CUDA:1: failed initializing StreamExecutor for CUDA device ordinal 1: INTERNAL: failed call to cuDevicePrimaryCtxRetain: CUDA_ERROR_DEVICE_UNAVAILABLE: CUDA-capable device(s) is/are busy or unavailable\n"
     ]
    }
   ],
   "source": [
    "import os\n",
    "# os.environ[\"CUDA_VISIBLE_DEVICES\"] = \"-1\"\n",
    "\n",
    "from typing import Any, Callable, Sequence, Union\n",
    "import numpy as np\n",
    "\n",
    "import tensorflow as tf\n",
    "tf.config.set_visible_devices([], device_type='GPU')\n",
    "\n",
    "import jax\n",
    "from jax import lax, random, numpy as jnp\n",
    "import flax\n",
    "from flax.core import freeze, unfreeze, FrozenDict\n",
    "from flax import linen as nn\n",
    "from flax import struct\n",
    "from flax.training import train_state\n",
    "from flax.training import orbax_utils\n",
    "\n",
    "import optax\n",
    "import orbax.checkpoint\n",
    "\n",
    "from clu import metrics\n",
    "from ml_collections import ConfigDict\n",
    "\n",
    "from einops import reduce, rearrange\n",
    "import wandb\n",
    "from iqadatasets.datasets import *\n",
    "from fxlayers.layers import *\n",
    "from fxlayers.layers import GaborLayerLogSigma\n",
    "from fxlayers.initializers import *\n",
    "from JaxPlayground.utils.constraints import *\n",
    "from JaxPlayground.utils.wandb import *"
   ]
  },
  {
   "cell_type": "code",
   "execution_count": 4,
   "metadata": {},
   "outputs": [],
   "source": [
    "# jax.config.update(\"jax_debug_nans\", False)"
   ]
  },
  {
   "cell_type": "markdown",
   "metadata": {},
   "source": [
    "## Load the data\n",
    "\n",
    "> We're going to employ `iqadatasets` to ease the loading of the data."
   ]
  },
  {
   "cell_type": "code",
   "execution_count": 5,
   "metadata": {},
   "outputs": [],
   "source": [
    "dst_train = TID2008(\"/lustre/ific.uv.es/ml/uv075/Databases/IQA//TID/TID2008/\", exclude_imgs=[25])\n",
    "dst_val = TID2013(\"/lustre/ific.uv.es/ml/uv075/Databases/IQA//TID/TID2013/\", exclude_imgs=[25])\n",
    "# dst_train = TID2008(\"/media/disk/databases/BBDD_video_image/Image_Quality//TID/TID2008/\", exclude_imgs=[25])\n",
    "# dst_val = TID2013(\"/media/disk/databases/BBDD_video_image/Image_Quality//TID/TID2013/\", exclude_imgs=[25])\n",
    "# dst_train = TID2008(\"/media/databases/IQA/TID/TID2008/\", exclude_imgs=[25])\n",
    "# dst_val = TID2013(\"/media/databases/IQA/TID/TID2013/\", exclude_imgs=[25])"
   ]
  },
  {
   "cell_type": "code",
   "execution_count": 6,
   "metadata": {},
   "outputs": [
    {
     "name": "stderr",
     "output_type": "stream",
     "text": [
      "2023-11-16 13:12:48.755528: I tensorflow/core/common_runtime/executor.cc:1197] [/device:CPU:0] (DEBUG INFO) Executor start aborting (this does not indicate an error and you can ignore this message): INVALID_ARGUMENT: You must feed a value for placeholder tensor 'Placeholder/_2' with dtype double and shape [1632]\n",
      "\t [[{{node Placeholder/_2}}]]\n"
     ]
    },
    {
     "data": {
      "text/plain": [
       "(TensorShape([384, 512, 3]), TensorShape([384, 512, 3]), TensorShape([]))"
      ]
     },
     "execution_count": 6,
     "metadata": {},
     "output_type": "execute_result"
    }
   ],
   "source": [
    "img, img_dist, mos = next(iter(dst_train.dataset))\n",
    "img.shape, img_dist.shape, mos.shape"
   ]
  },
  {
   "cell_type": "code",
   "execution_count": 7,
   "metadata": {},
   "outputs": [
    {
     "name": "stderr",
     "output_type": "stream",
     "text": [
      "2023-11-16 13:12:49.321443: I tensorflow/core/common_runtime/executor.cc:1197] [/device:CPU:0] (DEBUG INFO) Executor start aborting (this does not indicate an error and you can ignore this message): INVALID_ARGUMENT: You must feed a value for placeholder tensor 'Placeholder/_2' with dtype double and shape [2880]\n",
      "\t [[{{node Placeholder/_2}}]]\n"
     ]
    },
    {
     "data": {
      "text/plain": [
       "(TensorShape([384, 512, 3]), TensorShape([384, 512, 3]), TensorShape([]))"
      ]
     },
     "execution_count": 7,
     "metadata": {},
     "output_type": "execute_result"
    }
   ],
   "source": [
    "img, img_dist, mos = next(iter(dst_val.dataset))\n",
    "img.shape, img_dist.shape, mos.shape"
   ]
  },
  {
   "cell_type": "code",
   "execution_count": 23,
   "metadata": {},
   "outputs": [
    {
     "data": {
      "text/plain": [
       "BATCH_SIZE: 64\n",
       "CS_KERNEL_SIZE: 21\n",
       "EPOCHS: 500\n",
       "GABOR_FEATURES: 64\n",
       "GABOR_KERNEL_SIZE: 31\n",
       "GDN_CLIPPING: true\n",
       "LEARNING_RATE: 0.0003\n",
       "NORMALIZE_ENERGY: true\n",
       "NORMALIZE_PROB: false\n",
       "SEED: 42\n",
       "USE_BIAS: false\n",
       "ZERO_MEAN: true"
      ]
     },
     "execution_count": 23,
     "metadata": {},
     "output_type": "execute_result"
    }
   ],
   "source": [
    "config = {\n",
    "    \"BATCH_SIZE\": 64,\n",
    "    \"EPOCHS\": 500,\n",
    "    \"LEARNING_RATE\": 3e-4,\n",
    "    \"SEED\": 42,\n",
    "    \"GDN_CLIPPING\": True,\n",
    "    \"NORMALIZE_PROB\": False,\n",
    "    \"NORMALIZE_ENERGY\": True,\n",
    "    \"ZERO_MEAN\": True,\n",
    "    \"USE_BIAS\": False,\n",
    "    \"CS_KERNEL_SIZE\": 21,\n",
    "    \"GABOR_KERNEL_SIZE\": 31,\n",
    "    \"GABOR_FEATURES\": 64,\n",
    "}\n",
    "config = ConfigDict(config)\n",
    "config"
   ]
  },
  {
   "cell_type": "code",
   "execution_count": 21,
   "metadata": {},
   "outputs": [
    {
     "data": {
      "text/plain": [
       "BATCH_SIZE: 64\n",
       "CS_KERNEL_SIZE: 21\n",
       "EPOCHS: 500\n",
       "GABOR_KERNEL_SIZE: 31\n",
       "GDN_CLIPPING: true\n",
       "LEARNING_RATE: 0.0003\n",
       "NORMALIZE_ENERGY: true\n",
       "NORMALIZE_PROB: false\n",
       "SEED: 42\n",
       "USE_BIAS: false\n",
       "ZERO_MEAN: true"
      ]
     },
     "execution_count": 21,
     "metadata": {},
     "output_type": "execute_result"
    }
   ],
   "source": [
    "wandb.init(project=\"PerceptNet_v15\",\n",
    "           name=\"DN_OG_G_Free\",\n",
    "           job_type=\"training\",\n",
    "           config=config,\n",
    "           mode=\"online\",\n",
    "           )\n",
    "config = config\n",
    "config"
   ]
  },
  {
   "cell_type": "code",
   "execution_count": 10,
   "metadata": {},
   "outputs": [],
   "source": [
    "dst_train_rdy = dst_train.dataset.shuffle(buffer_size=100,\n",
    "                                      reshuffle_each_iteration=True,\n",
    "                                      seed=config.SEED)\\\n",
    "                                 .batch(config.BATCH_SIZE, drop_remainder=True)\n",
    "dst_val_rdy = dst_val.dataset.batch(config.BATCH_SIZE, drop_remainder=True)"
   ]
  },
  {
   "attachments": {},
   "cell_type": "markdown",
   "metadata": {},
   "source": [
    "## Define the model we're going to use\n",
    "\n",
    "> It's going to be a very simple model just for demonstration purposes."
   ]
  },
  {
   "cell_type": "code",
   "execution_count": 11,
   "metadata": {},
   "outputs": [],
   "source": [
    "def pad_same_from_kernel_size(inputs, kernel_size, mode):\n",
    "    return jnp.pad(inputs,\n",
    "                   [[0,0],\n",
    "                    [(kernel_size-1)//2, (kernel_size-1)//2],\n",
    "                    [(kernel_size-1)//2, (kernel_size-1)//2],\n",
    "                    [0,0]],\n",
    "                    mode=mode)"
   ]
  },
  {
   "cell_type": "code",
   "execution_count": 34,
   "metadata": {},
   "outputs": [],
   "source": [
    "class PerceptNet(nn.Module):\n",
    "    \"\"\"IQA model inspired by the visual system.\"\"\"\n",
    "\n",
    "    @nn.compact\n",
    "    def __call__(self,\n",
    "                 inputs, # Assuming fs = 128 (cpd)\n",
    "                 **kwargs,\n",
    "                 ):\n",
    "        ## (Independent) Color equilibration (Gamma correction)\n",
    "        ## Might need to be the same for each number\n",
    "        ## bias = 0.1 / kernel = 0.5\n",
    "        outputs = GDN(kernel_size=(1,1), apply_independently=True)(inputs)\n",
    "        \n",
    "        ## Color (ATD) Transformation\n",
    "        outputs = nn.Conv(features=3, kernel_size=(1,1), use_bias=False)(outputs)\n",
    "        outputs = nn.max_pool(outputs, window_shape=(2,2), strides=(2,2))\n",
    "        \n",
    "        ## GDN Star A - T - D [Separated]\n",
    "        outputs = GDN(kernel_size=(1,1), apply_independently=True)(outputs)\n",
    "\n",
    "        ## Center Surround (DoG)\n",
    "        ## Initialized so that 3 are positives and 3 are negatives and no interaction between channels is present\n",
    "        outputs = pad_same_from_kernel_size(outputs, kernel_size=config.CS_KERNEL_SIZE, mode=\"symmetric\")\n",
    "        outputs = CenterSurroundLogSigmaK(features=6, kernel_size=config.CS_KERNEL_SIZE, fs=21, use_bias=False, padding=\"VALID\")(outputs, **kwargs)\n",
    "        outputs = nn.max_pool(outputs, window_shape=(2,2), strides=(2,2))\n",
    "\n",
    "        ## GDN per channel with mean substraction in T and D (Spatial Gaussian Kernel)\n",
    "        ### fs = 32 / kernel_size = (11,11) -> 0.32 > 0.02 --> OK!\n",
    "        ## TO-DO: - Spatial Gaussian Kernel (0.02 deg) -> fs = 64/2 & 0.02*64/2 = sigma (px) = 0.69\n",
    "        outputs = GDN(kernel_size=(1,1), apply_independently=True)(outputs)\n",
    "\n",
    "        ## GaborLayer per channel with GDN mixing only same-origin-channel information\n",
    "        ### [Gaussian] sigma = 0.2 (deg) fs = 32 / kernel_size = (21,21) -> 21/32 = 0.66 --> OK!\n",
    "        outputs = pad_same_from_kernel_size(outputs, kernel_size=config.GABOR_KERNEL_SIZE, mode=\"symmetric\")\n",
    "        outputs = GaborLayerLogSigma(features=config.GABOR_FEATURES, kernel_size=config.GABOR_KERNEL_SIZE, fs=32, strides=1, padding=\"VALID\", normalize_prob=config.NORMALIZE_PROB, normalize_energy=config.NORMALIZE_ENERGY, zero_mean=config.ZERO_MEAN, use_bias=config.USE_BIAS)(outputs, **kwargs)\n",
    "        \n",
    "        ## Final GDN mixing Gabor information (?)\n",
    "        outputs = GDN(kernel_size=(1,1), apply_independently=False)(outputs)\n",
    "        return outputs"
   ]
  },
  {
   "attachments": {},
   "cell_type": "markdown",
   "metadata": {},
   "source": [
    "## Define the metrics with `clu`"
   ]
  },
  {
   "cell_type": "code",
   "execution_count": 26,
   "metadata": {},
   "outputs": [],
   "source": [
    "@struct.dataclass\n",
    "class Metrics(metrics.Collection):\n",
    "    \"\"\"Collection of metrics to be tracked during training.\"\"\"\n",
    "    loss: metrics.Average.from_output(\"loss\")"
   ]
  },
  {
   "attachments": {},
   "cell_type": "markdown",
   "metadata": {},
   "source": [
    "By default, `TrainState` doesn't include metrics, but it's very easy to subclass it so that it does:"
   ]
  },
  {
   "cell_type": "code",
   "execution_count": 27,
   "metadata": {},
   "outputs": [],
   "source": [
    "class TrainState(train_state.TrainState):\n",
    "    metrics: Metrics\n",
    "    state: FrozenDict"
   ]
  },
  {
   "attachments": {},
   "cell_type": "markdown",
   "metadata": {},
   "source": [
    "We'll define a function that initializes the `TrainState` from a module, a rng key and some optimizer:"
   ]
  },
  {
   "cell_type": "code",
   "execution_count": 28,
   "metadata": {},
   "outputs": [],
   "source": [
    "def create_train_state(module, key, tx, input_shape):\n",
    "    \"\"\"Creates the initial `TrainState`.\"\"\"\n",
    "    variables = module.init(key, jnp.ones(input_shape))\n",
    "    state, params = variables.pop('params')\n",
    "    return TrainState.create(\n",
    "        apply_fn=module.apply,\n",
    "        params=params,\n",
    "        state=state,\n",
    "        tx=tx,\n",
    "        metrics=Metrics.empty()\n",
    "    )"
   ]
  },
  {
   "attachments": {},
   "cell_type": "markdown",
   "metadata": {},
   "source": [
    "## Defining the training step\n",
    "\n",
    "> We want to write a function that takes the `TrainState` and a batch of data can performs an optimization step."
   ]
  },
  {
   "cell_type": "code",
   "execution_count": 29,
   "metadata": {},
   "outputs": [],
   "source": [
    "def pearson_correlation(vec1, vec2):\n",
    "    vec1 = vec1.squeeze()\n",
    "    vec2 = vec2.squeeze()\n",
    "    vec1_mean = vec1.mean()\n",
    "    vec2_mean = vec2.mean()\n",
    "    num = vec1-vec1_mean\n",
    "    num *= vec2-vec2_mean\n",
    "    num = num.sum()\n",
    "    denom = jnp.sqrt(jnp.sum((vec1-vec1_mean)**2))\n",
    "    denom *= jnp.sqrt(jnp.sum((vec2-vec2_mean)**2))\n",
    "    return num/denom"
   ]
  },
  {
   "cell_type": "code",
   "execution_count": 30,
   "metadata": {},
   "outputs": [],
   "source": [
    "@jax.jit\n",
    "def train_step(state, batch):\n",
    "    \"\"\"Train for a single step.\"\"\"\n",
    "    img, img_dist, mos = batch\n",
    "    def loss_fn(params):\n",
    "        ## Forward pass through the model\n",
    "        img_pred, updated_state = state.apply_fn({\"params\": params, **state.state}, img, mutable=list(state.state.keys()), train=True)\n",
    "        img_dist_pred, updated_state = state.apply_fn({\"params\": params, **state.state}, img_dist, mutable=list(state.state.keys()), train=True)\n",
    "\n",
    "        ## Calculate the distance\n",
    "        dist = ((img_pred - img_dist_pred)**2).sum(axis=(1,2,3))**(1/2)\n",
    "        \n",
    "        ## Calculate pearson correlation\n",
    "        return pearson_correlation(dist, mos), updated_state\n",
    "    \n",
    "    (loss, updated_state), grads = jax.value_and_grad(loss_fn, has_aux=True)(state.params)\n",
    "    state = state.apply_gradients(grads=grads)\n",
    "    metrics_updates = state.metrics.single_from_model_output(loss=loss)\n",
    "    metrics = state.metrics.merge(metrics_updates)\n",
    "    state = state.replace(metrics=metrics)\n",
    "    state = state.replace(state=updated_state)\n",
    "    return state"
   ]
  },
  {
   "attachments": {},
   "cell_type": "markdown",
   "metadata": {},
   "source": [
    "In their example, they don't calculate the metrics at the same time. I think it is kind of a waste because it means having to perform a new forward pass, but we'll follow as of now. Let's define a function to perform metric calculation:"
   ]
  },
  {
   "cell_type": "code",
   "execution_count": 31,
   "metadata": {},
   "outputs": [],
   "source": [
    "@jax.jit\n",
    "def compute_metrics(*, state, batch):\n",
    "    \"\"\"Obtaining the metrics for a given batch.\"\"\"\n",
    "    img, img_dist, mos = batch\n",
    "    def loss_fn(params):\n",
    "        ## Forward pass through the model\n",
    "        img_pred, updated_state = state.apply_fn({\"params\": params, **state.state}, img, mutable=list(state.state.keys()), train=False)\n",
    "        img_dist_pred, updated_state = state.apply_fn({\"params\": params, **state.state}, img_dist, mutable=list(state.state.keys()), train=False)\n",
    "\n",
    "        ## Calculate the distance\n",
    "        dist = ((img_pred - img_dist_pred)**2).sum(axis=(1,2,3))**(1/2)\n",
    "        \n",
    "        ## Calculate pearson correlation\n",
    "        return pearson_correlation(dist, mos)\n",
    "    \n",
    "    metrics_updates = state.metrics.single_from_model_output(loss=loss_fn(state.params))\n",
    "    metrics = state.metrics.merge(metrics_updates)\n",
    "    state = state.replace(metrics=metrics)\n",
    "    return state"
   ]
  },
  {
   "attachments": {},
   "cell_type": "markdown",
   "metadata": {},
   "source": [
    "## Train the model!"
   ]
  },
  {
   "cell_type": "code",
   "execution_count": 35,
   "metadata": {},
   "outputs": [],
   "source": [
    "state = create_train_state(PerceptNet(), random.PRNGKey(config.SEED), optax.adam(config.LEARNING_RATE), input_shape=(1,384,512,3))\n",
    "state = state.replace(params=clip_layer(state.params, \"GDN\", a_min=0))\n",
    "state = state.replace(params=clip_param(state.params, \"A\", a_min=0))"
   ]
  },
  {
   "cell_type": "code",
   "execution_count": 36,
   "metadata": {},
   "outputs": [],
   "source": [
    "pred, _ = state.apply_fn({\"params\": state.params, **state.state}, jnp.ones(shape=(1,384,512,3)), train=True, mutable=list(state.state.keys()))"
   ]
  },
  {
   "cell_type": "code",
   "execution_count": 37,
   "metadata": {},
   "outputs": [],
   "source": [
    "import matplotlib.pyplot as plt"
   ]
  },
  {
   "cell_type": "code",
   "execution_count": 38,
   "metadata": {},
   "outputs": [],
   "source": [
    "def plot_filters(kernel):\n",
    "    kx, ky, cin, cout = kernel.shape\n",
    "    fig, axes = plt.subplots(cin, cout, squeeze=False)\n",
    "    for i in range(cin):\n",
    "        for j in range(cout):\n",
    "            axes[i,j].imshow(kernel[:,:,i,j])\n",
    "            axes[i,j].axis(\"off\")\n",
    "    plt.show()"
   ]
  },
  {
   "cell_type": "code",
   "execution_count": 39,
   "metadata": {},
   "outputs": [
    {
     "data": {
      "image/png": "[encoded data removed]",
      "text/plain": [
       "<Figure size 640x480 with 18 Axes>"
      ]
     },
     "metadata": {},
     "output_type": "display_data"
    },
    {
     "data": {
      "image/png": "[encoded data removed]",
      "text/plain": [
       "<Figure size 640x480 with 384 Axes>"
      ]
     },
     "metadata": {},
     "output_type": "display_data"
    }
   ],
   "source": [
    "__ = jax.tree_util.tree_map(lambda x: plot_filters(x), _)"
   ]
  },
  {
   "cell_type": "code",
   "execution_count": 40,
   "metadata": {},
   "outputs": [],
   "source": [
    "def check_trainable(path):\n",
    "    # return (\"A\" in path) or (\"alpha_chrom_rg\" in path) or (\"alpha_chrom_yb\" in path)\n",
    "    return False"
   ]
  },
  {
   "cell_type": "code",
   "execution_count": 41,
   "metadata": {},
   "outputs": [
    {
     "data": {
      "text/plain": [
       "FrozenDict({\n",
       "    GDN_0: {\n",
       "        Conv_0: {\n",
       "            kernel: 'trainable',\n",
       "            bias: 'trainable',\n",
       "        },\n",
       "    },\n",
       "    Conv_0: {\n",
       "        kernel: 'trainable',\n",
       "    },\n",
       "    GDN_1: {\n",
       "        Conv_0: {\n",
       "            kernel: 'trainable',\n",
       "            bias: 'trainable',\n",
       "        },\n",
       "    },\n",
       "    CenterSurroundLogSigmaK_0: {\n",
       "        logsigma: 'trainable',\n",
       "        K: 'trainable',\n",
       "        A: 'trainable',\n",
       "    },\n",
       "    GDN_2: {\n",
       "        Conv_0: {\n",
       "            kernel: 'trainable',\n",
       "            bias: 'trainable',\n",
       "        },\n",
       "    },\n",
       "    GaborLayerLogSigma_0: {\n",
       "        freq: 'trainable',\n",
       "        logsigmax2: 'trainable',\n",
       "        logsigmay2: 'trainable',\n",
       "        theta: 'trainable',\n",
       "        sigma_theta: 'trainable',\n",
       "    },\n",
       "    GDN_3: {\n",
       "        Conv_0: {\n",
       "            kernel: 'trainable',\n",
       "            bias: 'trainable',\n",
       "        },\n",
       "    },\n",
       "})"
      ]
     },
     "execution_count": 41,
     "metadata": {},
     "output_type": "execute_result"
    }
   ],
   "source": [
    "trainable_tree = freeze(flax.traverse_util.path_aware_map(lambda path, v: \"non_trainable\" if check_trainable(path)  else \"trainable\", state.params))\n",
    "trainable_tree"
   ]
  },
  {
   "cell_type": "code",
   "execution_count": 42,
   "metadata": {},
   "outputs": [],
   "source": [
    "optimizers = {\n",
    "    \"trainable\": optax.adam(learning_rate=config.LEARNING_RATE),\n",
    "    \"non_trainable\": optax.set_to_zero(),\n",
    "}"
   ]
  },
  {
   "cell_type": "code",
   "execution_count": 43,
   "metadata": {},
   "outputs": [],
   "source": [
    "tx = optax.multi_transform(optimizers, trainable_tree)"
   ]
  },
  {
   "cell_type": "code",
   "execution_count": 44,
   "metadata": {},
   "outputs": [],
   "source": [
    "state = create_train_state(PerceptNet(), random.PRNGKey(config.SEED), tx, input_shape=(1,384,512,3))\n",
    "state = state.replace(params=clip_layer(state.params, \"GDN\", a_min=0))"
   ]
  },
  {
   "cell_type": "code",
   "execution_count": 45,
   "metadata": {},
   "outputs": [
    {
     "data": {
      "text/plain": [
       "(6167, 6167)"
      ]
     },
     "execution_count": 45,
     "metadata": {},
     "output_type": "execute_result"
    }
   ],
   "source": [
    "param_count = sum(x.size for x in jax.tree_util.tree_leaves(state.params))\n",
    "trainable_param_count = sum([w.size if t==\"trainable\" else 0 for w, t in zip(jax.tree_util.tree_leaves(state.params), jax.tree_util.tree_leaves(trainable_tree))])\n",
    "param_count, trainable_param_count"
   ]
  },
  {
   "cell_type": "code",
   "execution_count": 46,
   "metadata": {},
   "outputs": [],
   "source": [
    "wandb.run.summary[\"total_parameters\"] = param_count\n",
    "wandb.run.summary[\"trainable_parameters\"] = trainable_param_count"
   ]
  },
  {
   "cell_type": "code",
   "execution_count": 56,
   "metadata": {},
   "outputs": [],
   "source": [
    "state = state.replace(params=unfreeze(state.params))\n",
    "\n",
    "# ## DN 0 (Gamma)\n",
    "state.params[\"GDN_0\"][\"Conv_0\"][\"bias\"] = jnp.ones_like(state.params[\"GDN_0\"][\"Conv_0\"][\"bias\"])*0.1\n",
    "state.params[\"GDN_0\"][\"Conv_0\"][\"kernel\"] = jnp.ones_like(state.params[\"GDN_0\"][\"Conv_0\"][\"kernel\"])*0.5\n",
    "\n",
    "## Center Surround\n",
    "state.params[\"CenterSurroundLogSigmaK_0\"][\"K\"] = jnp.array([1.1,0.9,1.01,1.01,1.01,1.01,\n",
    "                                                            1.01,1.01,1.1,0.9,1.01,1.01,\n",
    "                                                            1.01,1.01,1.01,1.01,1.1,0.9])\n",
    "state.params[\"CenterSurroundLogSigmaK_0\"][\"A\"] = jnp.array([1,1,0,0,0,0,\n",
    "                                                            0,0,1,1.9,0,0,\n",
    "                                                            0,0,0,0,1,1])\n",
    "\n",
    "## Gabor\n",
    "# state.params[\"GaborLayerLogSigmaCoupled__0\"][\"A\"] = jnp.array([1,1,0,0,0,0,\n",
    "#                                                                0,0,1,1.9,0,0,\n",
    "#                                                                0,0,0,0,1,1])\n",
    "\n",
    "state = state.replace(params=freeze(state.params))"
   ]
  },
  {
   "cell_type": "code",
   "execution_count": 48,
   "metadata": {},
   "outputs": [
    {
     "data": {
      "image/png": "[encoded data removed]",
      "text/plain": [
       "<Figure size 640x480 with 18 Axes>"
      ]
     },
     "metadata": {},
     "output_type": "display_data"
    },
    {
     "data": {
      "image/png": "[encoded data removed]",
      "text/plain": [
       "<Figure size 640x480 with 384 Axes>"
      ]
     },
     "metadata": {},
     "output_type": "display_data"
    }
   ],
   "source": [
    "pred, _ = state.apply_fn({\"params\": state.params, **state.state}, jnp.ones(shape=(1,384,512,3)), train=True, mutable=list(state.state.keys()))\n",
    "__ = jax.tree_util.tree_map(lambda x: plot_filters(x), _)"
   ]
  },
  {
   "cell_type": "markdown",
   "metadata": {},
   "source": [
    "Before actually training the model we're going to set up the checkpointer to be able to save our trained models:"
   ]
  },
  {
   "cell_type": "code",
   "execution_count": 49,
   "metadata": {},
   "outputs": [],
   "source": [
    "orbax_checkpointer = orbax.checkpoint.PyTreeCheckpointer()\n",
    "save_args = orbax_utils.save_args_from_target(state)"
   ]
  },
  {
   "cell_type": "code",
   "execution_count": 50,
   "metadata": {},
   "outputs": [],
   "source": [
    "metrics_history = {\n",
    "    \"train_loss\": [],\n",
    "    \"val_loss\": [],\n",
    "}"
   ]
  },
  {
   "cell_type": "code",
   "execution_count": 51,
   "metadata": {},
   "outputs": [
    {
     "name": "stderr",
     "output_type": "stream",
     "text": [
      "2023-11-16 13:17:43.505316: I tensorflow/core/common_runtime/executor.cc:1197] [/device:CPU:0] (DEBUG INFO) Executor start aborting (this does not indicate an error and you can ignore this message): INVALID_ARGUMENT: You must feed a value for placeholder tensor 'Placeholder/_0' with dtype string and shape [1632]\n",
      "\t [[{{node Placeholder/_0}}]]\n"
     ]
    }
   ],
   "source": [
    "batch = next(iter(dst_train_rdy.as_numpy_iterator()))"
   ]
  },
  {
   "cell_type": "code",
   "execution_count": 52,
   "metadata": {},
   "outputs": [],
   "source": [
    "from functools import partial"
   ]
  },
  {
   "cell_type": "code",
   "execution_count": 53,
   "metadata": {},
   "outputs": [],
   "source": [
    "@jax.jit\n",
    "def forward(state, inputs):\n",
    "    return state.apply_fn({\"params\": state.params, **state.state}, inputs, train=False)"
   ]
  },
  {
   "cell_type": "code",
   "execution_count": 54,
   "metadata": {},
   "outputs": [
    {
     "name": "stdout",
     "output_type": "stream",
     "text": [
      "CPU times: user 4.82 s, sys: 2.56 s, total: 7.38 s\n",
      "Wall time: 5.75 s\n"
     ]
    },
    {
     "data": {
      "text/plain": [
       "(64, 96, 128, 64)"
      ]
     },
     "execution_count": 54,
     "metadata": {},
     "output_type": "execute_result"
    }
   ],
   "source": [
    "%%time\n",
    "outputs = forward(state, batch[0])\n",
    "outputs.shape"
   ]
  },
  {
   "cell_type": "code",
   "execution_count": 57,
   "metadata": {},
   "outputs": [
    {
     "name": "stdout",
     "output_type": "stream",
     "text": [
      "CPU times: user 1min 10s, sys: 49.2 s, total: 2min\n",
      "Wall time: 52.9 s\n"
     ]
    }
   ],
   "source": [
    "%%time\n",
    "s1 = train_step(state, batch)"
   ]
  },
  {
   "cell_type": "code",
   "execution_count": 40,
   "metadata": {},
   "outputs": [],
   "source": [
    "# jax.config.update(\"jax_debug_nans\", True)"
   ]
  },
  {
   "cell_type": "code",
   "execution_count": 41,
   "metadata": {},
   "outputs": [
    {
     "name": "stdout",
     "output_type": "stream",
     "text": [
      "Epoch 0 -> [Train] Loss: -0.6045591831207275 [Val] Loss: -0.7486779093742371\n",
      "Epoch 1 -> [Train] Loss: -0.6183746457099915 [Val] Loss: -0.763046383857727\n",
      "Epoch 2 -> [Train] Loss: -0.6356404423713684 [Val] Loss: -0.7742486000061035\n",
      "Epoch 3 -> [Train] Loss: -0.6541591286659241 [Val] Loss: -0.7818553447723389\n",
      "Epoch 4 -> [Train] Loss: -0.658490002155304 [Val] Loss: -0.7871790528297424\n",
      "Epoch 5 -> [Train] Loss: -0.6666908264160156 [Val] Loss: -0.7914741635322571\n",
      "Epoch 6 -> [Train] Loss: -0.6803113222122192 [Val] Loss: -0.7948338985443115\n",
      "Epoch 7 -> [Train] Loss: -0.6812338829040527 [Val] Loss: -0.7976471781730652\n",
      "Epoch 8 -> [Train] Loss: -0.6789549589157104 [Val] Loss: -0.8002036213874817\n",
      "Epoch 9 -> [Train] Loss: -0.6817211508750916 [Val] Loss: -0.8025026917457581\n",
      "Epoch 10 -> [Train] Loss: -0.7008236646652222 [Val] Loss: -0.8046523332595825\n",
      "Epoch 11 -> [Train] Loss: -0.6974218487739563 [Val] Loss: -0.8064724802970886\n",
      "Epoch 12 -> [Train] Loss: -0.7013452649116516 [Val] Loss: -0.8082219362258911\n",
      "Epoch 13 -> [Train] Loss: -0.7057231068611145 [Val] Loss: -0.8100305795669556\n",
      "Epoch 14 -> [Train] Loss: -0.7018452286720276 [Val] Loss: -0.8115507364273071\n",
      "Epoch 15 -> [Train] Loss: -0.7070669531822205 [Val] Loss: -0.8129033446311951\n",
      "Epoch 16 -> [Train] Loss: -0.7115808129310608 [Val] Loss: -0.8143122792243958\n",
      "Epoch 17 -> [Train] Loss: -0.7122906446456909 [Val] Loss: -0.8156205415725708\n",
      "Epoch 18 -> [Train] Loss: -0.7247532606124878 [Val] Loss: -0.8167129755020142\n",
      "Epoch 19 -> [Train] Loss: -0.7198963165283203 [Val] Loss: -0.8176576495170593\n",
      "Epoch 20 -> [Train] Loss: -0.7175614237785339 [Val] Loss: -0.8187822103500366\n",
      "Epoch 21 -> [Train] Loss: -0.717204213142395 [Val] Loss: -0.8199691772460938\n",
      "Epoch 22 -> [Train] Loss: -0.7303293943405151 [Val] Loss: -0.8200576901435852\n",
      "Epoch 23 -> [Train] Loss: -0.7273656129837036 [Val] Loss: -0.8216186761856079\n",
      "Epoch 24 -> [Train] Loss: -0.7343183159828186 [Val] Loss: -0.8230423927307129\n",
      "Epoch 25 -> [Train] Loss: -0.7345404028892517 [Val] Loss: -0.8239785432815552\n",
      "Epoch 26 -> [Train] Loss: -0.737988293170929 [Val] Loss: -0.8251831531524658\n",
      "Epoch 27 -> [Train] Loss: -0.7413646578788757 [Val] Loss: -0.8262988924980164\n",
      "Epoch 28 -> [Train] Loss: -0.7419232726097107 [Val] Loss: -0.8270058035850525\n",
      "Epoch 29 -> [Train] Loss: -0.7379956841468811 [Val] Loss: -0.8279918432235718\n",
      "Epoch 30 -> [Train] Loss: -0.7502679228782654 [Val] Loss: -0.828984260559082\n",
      "Epoch 31 -> [Train] Loss: -0.7411006689071655 [Val] Loss: -0.8297540545463562\n",
      "Epoch 32 -> [Train] Loss: -0.7472308278083801 [Val] Loss: -0.8306768536567688\n",
      "Epoch 33 -> [Train] Loss: -0.7447003722190857 [Val] Loss: -0.8316365480422974\n",
      "Epoch 34 -> [Train] Loss: -0.7488354444503784 [Val] Loss: -0.8325434327125549\n",
      "Epoch 35 -> [Train] Loss: -0.7531948089599609 [Val] Loss: -0.8335145711898804\n",
      "Epoch 36 -> [Train] Loss: -0.7590404152870178 [Val] Loss: -0.8344355225563049\n",
      "Epoch 37 -> [Train] Loss: -0.7599422335624695 [Val] Loss: -0.8357155919075012\n",
      "Epoch 38 -> [Train] Loss: -0.7560150623321533 [Val] Loss: -0.8374106884002686\n",
      "Epoch 39 -> [Train] Loss: -0.7550089359283447 [Val] Loss: -0.8384758234024048\n",
      "Epoch 40 -> [Train] Loss: -0.7610058188438416 [Val] Loss: -0.8409991264343262\n",
      "Epoch 41 -> [Train] Loss: -0.7655959725379944 [Val] Loss: -0.8428364396095276\n",
      "Epoch 42 -> [Train] Loss: -0.7715997695922852 [Val] Loss: -0.8430745601654053\n",
      "Epoch 43 -> [Train] Loss: -0.764937698841095 [Val] Loss: -0.8433725237846375\n",
      "Epoch 44 -> [Train] Loss: -0.7716670036315918 [Val] Loss: -0.8442550301551819\n",
      "Epoch 45 -> [Train] Loss: -0.7717146873474121 [Val] Loss: -0.8446530103683472\n",
      "Epoch 46 -> [Train] Loss: -0.7733473777770996 [Val] Loss: -0.8450021743774414\n",
      "Epoch 47 -> [Train] Loss: -0.770645797252655 [Val] Loss: -0.844715416431427\n",
      "Epoch 48 -> [Train] Loss: -0.7752603888511658 [Val] Loss: -0.8453873991966248\n",
      "Epoch 49 -> [Train] Loss: -0.7745155096054077 [Val] Loss: -0.845794677734375\n",
      "Epoch 50 -> [Train] Loss: -0.7665765881538391 [Val] Loss: -0.8450064063072205\n",
      "Epoch 51 -> [Train] Loss: -0.7747734189033508 [Val] Loss: -0.846031904220581\n",
      "Epoch 52 -> [Train] Loss: -0.7779512405395508 [Val] Loss: -0.8464568257331848\n",
      "Epoch 53 -> [Train] Loss: -0.779140293598175 [Val] Loss: -0.8464187979698181\n",
      "Epoch 54 -> [Train] Loss: -0.7696685791015625 [Val] Loss: -0.8466373085975647\n",
      "Epoch 55 -> [Train] Loss: -0.7767583131790161 [Val] Loss: -0.8470077514648438\n",
      "Epoch 56 -> [Train] Loss: -0.778753399848938 [Val] Loss: -0.8471594452857971\n",
      "Epoch 57 -> [Train] Loss: -0.7813955545425415 [Val] Loss: -0.8472326397895813\n",
      "Epoch 58 -> [Train] Loss: -0.7795358300209045 [Val] Loss: -0.8472197651863098\n",
      "Epoch 59 -> [Train] Loss: -0.7779443264007568 [Val] Loss: -0.8477033376693726\n",
      "Epoch 60 -> [Train] Loss: -0.779881477355957 [Val] Loss: -0.8477275371551514\n",
      "Epoch 61 -> [Train] Loss: -0.7833189368247986 [Val] Loss: -0.8483352065086365\n",
      "Epoch 62 -> [Train] Loss: -0.7892060875892639 [Val] Loss: -0.8487505912780762\n",
      "Epoch 63 -> [Train] Loss: -0.781868577003479 [Val] Loss: -0.8490511775016785\n",
      "Epoch 64 -> [Train] Loss: -0.7860715985298157 [Val] Loss: -0.8493152260780334\n",
      "Epoch 65 -> [Train] Loss: -0.7869666218757629 [Val] Loss: -0.8495968580245972\n",
      "Epoch 66 -> [Train] Loss: -0.7866544127464294 [Val] Loss: -0.8500528335571289\n",
      "Epoch 67 -> [Train] Loss: -0.7838675379753113 [Val] Loss: -0.8503909111022949\n",
      "Epoch 68 -> [Train] Loss: -0.7832372784614563 [Val] Loss: -0.8505814671516418\n",
      "Epoch 69 -> [Train] Loss: -0.7906368970870972 [Val] Loss: -0.8507334589958191\n",
      "Epoch 70 -> [Train] Loss: -0.7858750224113464 [Val] Loss: -0.850822389125824\n",
      "Epoch 71 -> [Train] Loss: -0.7855316996574402 [Val] Loss: -0.8508604764938354\n",
      "Epoch 72 -> [Train] Loss: -0.7857794165611267 [Val] Loss: -0.8513864278793335\n",
      "Epoch 73 -> [Train] Loss: -0.7939420342445374 [Val] Loss: -0.8528113961219788\n",
      "Epoch 74 -> [Train] Loss: -0.7897857427597046 [Val] Loss: -0.8530144691467285\n",
      "Epoch 75 -> [Train] Loss: -0.7954137921333313 [Val] Loss: -0.8533151745796204\n",
      "Epoch 76 -> [Train] Loss: -0.7947407364845276 [Val] Loss: -0.8536017537117004\n",
      "Epoch 77 -> [Train] Loss: -0.7967850565910339 [Val] Loss: -0.8537085056304932\n",
      "Epoch 78 -> [Train] Loss: -0.79335618019104 [Val] Loss: -0.8538697361946106\n",
      "Epoch 79 -> [Train] Loss: -0.8034735918045044 [Val] Loss: -0.8539516925811768\n",
      "Epoch 80 -> [Train] Loss: -0.7897335886955261 [Val] Loss: -0.8540233373641968\n",
      "Epoch 81 -> [Train] Loss: -0.7919742465019226 [Val] Loss: -0.854183554649353\n",
      "Epoch 82 -> [Train] Loss: -0.7954537272453308 [Val] Loss: -0.8543002605438232\n",
      "Epoch 83 -> [Train] Loss: -0.8003284931182861 [Val] Loss: -0.8542717099189758\n",
      "Epoch 84 -> [Train] Loss: -0.8009551167488098 [Val] Loss: -0.8543522357940674\n",
      "Epoch 85 -> [Train] Loss: -0.797058641910553 [Val] Loss: -0.8544126749038696\n",
      "Epoch 86 -> [Train] Loss: -0.801177442073822 [Val] Loss: -0.854850172996521\n",
      "Epoch 87 -> [Train] Loss: -0.8014692664146423 [Val] Loss: -0.8548390865325928\n",
      "Epoch 88 -> [Train] Loss: -0.80565345287323 [Val] Loss: -0.8546507358551025\n",
      "Epoch 89 -> [Train] Loss: -0.8021007180213928 [Val] Loss: -0.8549191355705261\n",
      "Epoch 90 -> [Train] Loss: -0.8017917275428772 [Val] Loss: -0.8545571565628052\n",
      "Epoch 91 -> [Train] Loss: -0.8063748478889465 [Val] Loss: -0.8547453284263611\n",
      "Epoch 92 -> [Train] Loss: -0.799925684928894 [Val] Loss: -0.8545961380004883\n",
      "Epoch 93 -> [Train] Loss: -0.8037158846855164 [Val] Loss: -0.8547850847244263\n",
      "Epoch 94 -> [Train] Loss: -0.8041517734527588 [Val] Loss: -0.854846715927124\n",
      "Epoch 95 -> [Train] Loss: -0.8016500473022461 [Val] Loss: -0.8547803163528442\n",
      "Epoch 96 -> [Train] Loss: -0.8095166683197021 [Val] Loss: -0.8549383878707886\n",
      "Epoch 97 -> [Train] Loss: -0.8074279427528381 [Val] Loss: -0.854965090751648\n",
      "Epoch 98 -> [Train] Loss: -0.8018796443939209 [Val] Loss: -0.8551192879676819\n",
      "Epoch 99 -> [Train] Loss: -0.802864670753479 [Val] Loss: -0.8550617694854736\n",
      "Epoch 100 -> [Train] Loss: -0.8090652227401733 [Val] Loss: -0.8551149368286133\n",
      "Epoch 101 -> [Train] Loss: -0.8100919723510742 [Val] Loss: -0.855211079120636\n",
      "Epoch 102 -> [Train] Loss: -0.8113377690315247 [Val] Loss: -0.8551920056343079\n",
      "Epoch 103 -> [Train] Loss: -0.8085325360298157 [Val] Loss: -0.8553277254104614\n",
      "Epoch 104 -> [Train] Loss: -0.8098651766777039 [Val] Loss: -0.8552843928337097\n",
      "Epoch 105 -> [Train] Loss: -0.8058363795280457 [Val] Loss: -0.8554859161376953\n",
      "Epoch 106 -> [Train] Loss: -0.7583093047142029 [Val] Loss: -0.8315737843513489\n",
      "Epoch 107 -> [Train] Loss: -0.7815369963645935 [Val] Loss: -0.8371878862380981\n",
      "Epoch 108 -> [Train] Loss: -0.7961597442626953 [Val] Loss: -0.8400376439094543\n",
      "Epoch 109 -> [Train] Loss: -0.7946323752403259 [Val] Loss: -0.8413976430892944\n",
      "Epoch 110 -> [Train] Loss: -0.8006938695907593 [Val] Loss: -0.8421915173530579\n",
      "Epoch 111 -> [Train] Loss: -0.8083428740501404 [Val] Loss: -0.8428926467895508\n",
      "Epoch 112 -> [Train] Loss: -0.8052456378936768 [Val] Loss: -0.843982458114624\n",
      "Epoch 113 -> [Train] Loss: -0.8064291477203369 [Val] Loss: -0.8445957899093628\n",
      "Epoch 114 -> [Train] Loss: -0.8089737296104431 [Val] Loss: -0.8454287648200989\n",
      "Epoch 115 -> [Train] Loss: -0.8113216161727905 [Val] Loss: -0.8464444875717163\n",
      "Epoch 116 -> [Train] Loss: -0.814054548740387 [Val] Loss: -0.847042441368103\n",
      "Epoch 117 -> [Train] Loss: -0.8165426254272461 [Val] Loss: -0.8479793071746826\n",
      "Epoch 118 -> [Train] Loss: -0.8198913335800171 [Val] Loss: -0.8486685156822205\n",
      "Epoch 119 -> [Train] Loss: -0.816163182258606 [Val] Loss: -0.8492172360420227\n",
      "Epoch 120 -> [Train] Loss: -0.8086057901382446 [Val] Loss: -0.8305631875991821\n",
      "Epoch 121 -> [Train] Loss: -0.7693765759468079 [Val] Loss: -0.8379546403884888\n",
      "Epoch 122 -> [Train] Loss: -0.781398355960846 [Val] Loss: -0.8430041074752808\n",
      "Epoch 123 -> [Train] Loss: -0.7861750721931458 [Val] Loss: -0.8456816077232361\n",
      "Epoch 124 -> [Train] Loss: -0.7906118035316467 [Val] Loss: -0.8472596406936646\n",
      "Epoch 125 -> [Train] Loss: -0.7907230854034424 [Val] Loss: -0.8475574254989624\n",
      "Epoch 126 -> [Train] Loss: -0.7943078279495239 [Val] Loss: -0.8488919734954834\n",
      "Epoch 127 -> [Train] Loss: -0.795770525932312 [Val] Loss: -0.8496758341789246\n",
      "Epoch 128 -> [Train] Loss: -0.8028194308280945 [Val] Loss: -0.8503363132476807\n",
      "Epoch 129 -> [Train] Loss: -0.7987783551216125 [Val] Loss: -0.8507611155509949\n",
      "Epoch 130 -> [Train] Loss: -0.7996516227722168 [Val] Loss: -0.8512677550315857\n",
      "Epoch 131 -> [Train] Loss: -0.8022152781486511 [Val] Loss: -0.8516943454742432\n",
      "Epoch 132 -> [Train] Loss: -0.8038020133972168 [Val] Loss: -0.8520908355712891\n",
      "Epoch 133 -> [Train] Loss: -0.8079855442047119 [Val] Loss: -0.8527699112892151\n",
      "Epoch 134 -> [Train] Loss: -0.8090493679046631 [Val] Loss: -0.8529465198516846\n",
      "Epoch 135 -> [Train] Loss: -0.8126548528671265 [Val] Loss: -0.8533424735069275\n",
      "Epoch 136 -> [Train] Loss: -0.8176677227020264 [Val] Loss: -0.8535876870155334\n",
      "Epoch 137 -> [Train] Loss: -0.817065417766571 [Val] Loss: -0.8538661003112793\n",
      "Epoch 138 -> [Train] Loss: -0.8188087940216064 [Val] Loss: -0.8543825149536133\n",
      "Epoch 139 -> [Train] Loss: -0.8099024295806885 [Val] Loss: -0.8548447489738464\n",
      "Epoch 140 -> [Train] Loss: -0.8161318898200989 [Val] Loss: -0.8551917672157288\n",
      "Epoch 141 -> [Train] Loss: -0.8119257688522339 [Val] Loss: -0.8556886911392212\n",
      "Epoch 142 -> [Train] Loss: -0.8214120864868164 [Val] Loss: -0.8561922907829285\n",
      "Epoch 143 -> [Train] Loss: -0.8237314224243164 [Val] Loss: -0.856578528881073\n",
      "Epoch 144 -> [Train] Loss: -0.8208044171333313 [Val] Loss: -0.857001006603241\n",
      "Epoch 145 -> [Train] Loss: -0.8262295126914978 [Val] Loss: -0.857578694820404\n",
      "Epoch 146 -> [Train] Loss: -0.8232491612434387 [Val] Loss: -0.8580269813537598\n",
      "Epoch 147 -> [Train] Loss: -0.8177564740180969 [Val] Loss: -0.858842670917511\n",
      "Epoch 148 -> [Train] Loss: -0.8300054669380188 [Val] Loss: -0.8589788675308228\n",
      "Epoch 149 -> [Train] Loss: -0.8263301849365234 [Val] Loss: -0.8592678904533386\n",
      "Epoch 150 -> [Train] Loss: -0.8316786885261536 [Val] Loss: -0.8595221042633057\n",
      "Epoch 151 -> [Train] Loss: -0.8313231468200684 [Val] Loss: -0.8594552278518677\n",
      "Epoch 152 -> [Train] Loss: -0.8331995010375977 [Val] Loss: -0.8594348430633545\n",
      "Epoch 153 -> [Train] Loss: -0.828681468963623 [Val] Loss: -0.8595028519630432\n",
      "Epoch 154 -> [Train] Loss: -0.8402777910232544 [Val] Loss: -0.8595386147499084\n",
      "Epoch 155 -> [Train] Loss: -0.8329465389251709 [Val] Loss: -0.8596805334091187\n",
      "Epoch 156 -> [Train] Loss: -0.8368386030197144 [Val] Loss: -0.8601876497268677\n",
      "Epoch 157 -> [Train] Loss: -0.7211787104606628 [Val] Loss: -0.7487533688545227\n",
      "Epoch 158 -> [Train] Loss: -0.6872551441192627 [Val] Loss: -0.7573084831237793\n",
      "Epoch 159 -> [Train] Loss: -0.6937801837921143 [Val] Loss: -0.7631502747535706\n",
      "Epoch 160 -> [Train] Loss: -0.6968727707862854 [Val] Loss: -0.769432783126831\n",
      "Epoch 161 -> [Train] Loss: -0.7082691788673401 [Val] Loss: -0.7749470472335815\n",
      "Epoch 162 -> [Train] Loss: -0.716367781162262 [Val] Loss: -0.7802589535713196\n",
      "Epoch 163 -> [Train] Loss: -0.7317829728126526 [Val] Loss: -0.7861611247062683\n",
      "Epoch 164 -> [Train] Loss: -0.7410188913345337 [Val] Loss: -0.7929390072822571\n",
      "Epoch 165 -> [Train] Loss: -0.7565045952796936 [Val] Loss: -0.799696683883667\n",
      "Epoch 166 -> [Train] Loss: -0.7677444219589233 [Val] Loss: -0.8039820790290833\n",
      "Epoch 167 -> [Train] Loss: -0.7234579920768738 [Val] Loss: -0.806873083114624\n",
      "Epoch 168 -> [Train] Loss: -0.721229612827301 [Val] Loss: -0.8101863861083984\n",
      "Epoch 169 -> [Train] Loss: -0.7457050085067749 [Val] Loss: -0.8133054375648499\n",
      "Epoch 170 -> [Train] Loss: -0.7461217045783997 [Val] Loss: -0.8154289722442627\n",
      "Epoch 171 -> [Train] Loss: -0.7497588992118835 [Val] Loss: -0.8181561231613159\n",
      "Epoch 172 -> [Train] Loss: -0.7622804641723633 [Val] Loss: -0.8216270804405212\n",
      "Epoch 173 -> [Train] Loss: -0.7685549259185791 [Val] Loss: -0.8243314027786255\n",
      "Epoch 174 -> [Train] Loss: -0.7746053338050842 [Val] Loss: -0.8282251954078674\n",
      "Epoch 175 -> [Train] Loss: -0.7758403420448303 [Val] Loss: -0.8311841487884521\n",
      "Epoch 176 -> [Train] Loss: -0.7825982570648193 [Val] Loss: -0.8338542580604553\n",
      "Epoch 177 -> [Train] Loss: -0.7933576703071594 [Val] Loss: -0.8367180228233337\n",
      "Epoch 178 -> [Train] Loss: -0.7971603870391846 [Val] Loss: -0.8389988541603088\n",
      "Epoch 179 -> [Train] Loss: -0.80120450258255 [Val] Loss: -0.8414406776428223\n",
      "Epoch 180 -> [Train] Loss: -0.8147590160369873 [Val] Loss: -0.8429530262947083\n",
      "Epoch 181 -> [Train] Loss: -0.8110561966896057 [Val] Loss: -0.8442831635475159\n",
      "Epoch 182 -> [Train] Loss: -0.8168780207633972 [Val] Loss: -0.8440519571304321\n",
      "Epoch 183 -> [Train] Loss: -0.8225573301315308 [Val] Loss: -0.8452105522155762\n",
      "Epoch 184 -> [Train] Loss: -0.8215624094009399 [Val] Loss: -0.8452799916267395\n",
      "Epoch 185 -> [Train] Loss: -0.8257134556770325 [Val] Loss: -0.8457006812095642\n",
      "Epoch 186 -> [Train] Loss: -0.8255931735038757 [Val] Loss: -0.8458642363548279\n",
      "Epoch 187 -> [Train] Loss: -0.8301501274108887 [Val] Loss: -0.8463580012321472\n",
      "Epoch 188 -> [Train] Loss: -0.8268604874610901 [Val] Loss: -0.8475835919380188\n",
      "Epoch 189 -> [Train] Loss: -0.8305407762527466 [Val] Loss: -0.8495213389396667\n",
      "Epoch 190 -> [Train] Loss: -0.8300588130950928 [Val] Loss: -0.8502421975135803\n",
      "Epoch 191 -> [Train] Loss: -0.8373607397079468 [Val] Loss: -0.8511199355125427\n",
      "Epoch 192 -> [Train] Loss: -0.8408834934234619 [Val] Loss: -0.851553201675415\n",
      "Epoch 193 -> [Train] Loss: -0.8313329219818115 [Val] Loss: -0.8450947999954224\n",
      "Epoch 194 -> [Train] Loss: -0.8116490840911865 [Val] Loss: -0.8466860055923462\n",
      "Epoch 195 -> [Train] Loss: -0.810104250907898 [Val] Loss: -0.8475777506828308\n",
      "Epoch 196 -> [Train] Loss: -0.8137755990028381 [Val] Loss: -0.8485026955604553\n",
      "Epoch 197 -> [Train] Loss: -0.814332127571106 [Val] Loss: -0.8491840958595276\n",
      "Epoch 198 -> [Train] Loss: -0.8213273286819458 [Val] Loss: -0.849709689617157\n",
      "Epoch 199 -> [Train] Loss: -0.8138723373413086 [Val] Loss: -0.8503590822219849\n",
      "Epoch 200 -> [Train] Loss: -0.8199000358581543 [Val] Loss: -0.8508278727531433\n",
      "Epoch 201 -> [Train] Loss: -0.816818356513977 [Val] Loss: -0.8514112234115601\n",
      "Epoch 202 -> [Train] Loss: -0.8194400072097778 [Val] Loss: -0.8422760367393494\n",
      "Epoch 203 -> [Train] Loss: -0.8338959813117981 [Val] Loss: -0.8443986773490906\n",
      "Epoch 204 -> [Train] Loss: -0.8354668021202087 [Val] Loss: -0.8472900390625\n",
      "Epoch 205 -> [Train] Loss: -0.8359835147857666 [Val] Loss: -0.8485206961631775\n",
      "Epoch 206 -> [Train] Loss: -0.8340634703636169 [Val] Loss: -0.8493574857711792\n",
      "Epoch 207 -> [Train] Loss: -0.8417171835899353 [Val] Loss: -0.8500320911407471\n",
      "Epoch 208 -> [Train] Loss: -0.8412696123123169 [Val] Loss: -0.8506500720977783\n",
      "Epoch 209 -> [Train] Loss: -0.8452968597412109 [Val] Loss: -0.8512026071548462\n",
      "Epoch 210 -> [Train] Loss: -0.8443091511726379 [Val] Loss: -0.851819634437561\n",
      "Epoch 211 -> [Train] Loss: -0.8470901846885681 [Val] Loss: -0.8523538708686829\n",
      "Epoch 212 -> [Train] Loss: -0.8512670993804932 [Val] Loss: -0.8528254628181458\n",
      "Epoch 213 -> [Train] Loss: -0.8466871380805969 [Val] Loss: -0.8532605767250061\n",
      "Epoch 214 -> [Train] Loss: -0.845954418182373 [Val] Loss: -0.8536872863769531\n",
      "Epoch 215 -> [Train] Loss: -0.8432533740997314 [Val] Loss: -0.8539592623710632\n",
      "Epoch 216 -> [Train] Loss: -0.8449026346206665 [Val] Loss: -0.8544228672981262\n",
      "Epoch 217 -> [Train] Loss: -0.8449598550796509 [Val] Loss: -0.8547768592834473\n",
      "Epoch 218 -> [Train] Loss: -0.8492870926856995 [Val] Loss: -0.8551530838012695\n",
      "Epoch 219 -> [Train] Loss: -0.8525587320327759 [Val] Loss: -0.8556174635887146\n",
      "Epoch 220 -> [Train] Loss: -0.8504309058189392 [Val] Loss: -0.8560268878936768\n",
      "Epoch 221 -> [Train] Loss: -0.8468407392501831 [Val] Loss: -0.8563557863235474\n",
      "Epoch 222 -> [Train] Loss: -0.8532356023788452 [Val] Loss: -0.8567212820053101\n",
      "Epoch 223 -> [Train] Loss: -0.8510873317718506 [Val] Loss: -0.8570082187652588\n",
      "Epoch 224 -> [Train] Loss: -0.8459413647651672 [Val] Loss: -0.8572861552238464\n",
      "Epoch 225 -> [Train] Loss: -0.8528218865394592 [Val] Loss: -0.8576661944389343\n",
      "Epoch 226 -> [Train] Loss: -0.8533540964126587 [Val] Loss: -0.8565007448196411\n",
      "Epoch 227 -> [Train] Loss: -0.8379380106925964 [Val] Loss: -0.8038036823272705\n",
      "Epoch 228 -> [Train] Loss: -0.8214777112007141 [Val] Loss: -0.8311213254928589\n",
      "Epoch 229 -> [Train] Loss: -0.8496440649032593 [Val] Loss: -0.8425350785255432\n",
      "Epoch 230 -> [Train] Loss: -0.8500351309776306 [Val] Loss: -0.8455678224563599\n",
      "Epoch 231 -> [Train] Loss: -0.8537909388542175 [Val] Loss: -0.846703290939331\n",
      "Epoch 232 -> [Train] Loss: -0.8558080196380615 [Val] Loss: -0.84725421667099\n",
      "Epoch 233 -> [Train] Loss: -0.853082001209259 [Val] Loss: -0.8476660251617432\n",
      "Epoch 234 -> [Train] Loss: -0.8545107841491699 [Val] Loss: -0.8480150103569031\n",
      "Epoch 235 -> [Train] Loss: -0.8592039942741394 [Val] Loss: -0.8483031392097473\n",
      "Epoch 236 -> [Train] Loss: -0.8590974807739258 [Val] Loss: -0.8486322164535522\n",
      "Epoch 237 -> [Train] Loss: -0.8599995374679565 [Val] Loss: -0.8490039706230164\n",
      "Epoch 238 -> [Train] Loss: -0.8565077185630798 [Val] Loss: -0.849331796169281\n",
      "Epoch 239 -> [Train] Loss: -0.8553085327148438 [Val] Loss: -0.849606454372406\n",
      "Epoch 240 -> [Train] Loss: -0.8552615642547607 [Val] Loss: -0.8497211933135986\n",
      "Epoch 241 -> [Train] Loss: -0.856700599193573 [Val] Loss: -0.8471516370773315\n",
      "Epoch 242 -> [Train] Loss: -0.8559353351593018 [Val] Loss: -0.8476064801216125\n",
      "Epoch 243 -> [Train] Loss: -0.8561816215515137 [Val] Loss: -0.8478646278381348\n",
      "Epoch 244 -> [Train] Loss: -0.8576598763465881 [Val] Loss: -0.8480719923973083\n",
      "Epoch 245 -> [Train] Loss: -0.8593212962150574 [Val] Loss: -0.8504445552825928\n",
      "Epoch 246 -> [Train] Loss: -0.860764741897583 [Val] Loss: -0.850594699382782\n",
      "Epoch 247 -> [Train] Loss: -0.8604893088340759 [Val] Loss: -0.8508493304252625\n",
      "Epoch 248 -> [Train] Loss: -0.8621072173118591 [Val] Loss: -0.8509647846221924\n",
      "Epoch 249 -> [Train] Loss: -0.8610696792602539 [Val] Loss: -0.8509218096733093\n",
      "Epoch 250 -> [Train] Loss: -0.8593921661376953 [Val] Loss: -0.8513357639312744\n",
      "Epoch 251 -> [Train] Loss: -0.8602729439735413 [Val] Loss: -0.8594494462013245\n",
      "Epoch 252 -> [Train] Loss: -0.8509342074394226 [Val] Loss: -0.8603264093399048\n",
      "Epoch 253 -> [Train] Loss: -0.8530168533325195 [Val] Loss: -0.8609427809715271\n",
      "Epoch 254 -> [Train] Loss: -0.8508349657058716 [Val] Loss: -0.861250638961792\n",
      "Epoch 255 -> [Train] Loss: -0.8584230542182922 [Val] Loss: -0.8615009784698486\n",
      "Epoch 256 -> [Train] Loss: -0.8606064915657043 [Val] Loss: -0.8616641163825989\n",
      "Epoch 257 -> [Train] Loss: -0.8592755794525146 [Val] Loss: -0.861494779586792\n",
      "Epoch 258 -> [Train] Loss: -0.8586153388023376 [Val] Loss: -0.8614399433135986\n",
      "Epoch 259 -> [Train] Loss: -0.8616229891777039 [Val] Loss: -0.8614079356193542\n",
      "Epoch 260 -> [Train] Loss: -0.8607576489448547 [Val] Loss: -0.8613901734352112\n",
      "Epoch 261 -> [Train] Loss: -0.8632066249847412 [Val] Loss: -0.8613579869270325\n",
      "Epoch 262 -> [Train] Loss: -0.8621578216552734 [Val] Loss: -0.8613830208778381\n",
      "Epoch 263 -> [Train] Loss: -0.8629759550094604 [Val] Loss: -0.8612992167472839\n",
      "Epoch 264 -> [Train] Loss: -0.8600766062736511 [Val] Loss: -0.8612250685691833\n",
      "Epoch 265 -> [Train] Loss: -0.86226886510849 [Val] Loss: -0.8612490296363831\n",
      "Epoch 266 -> [Train] Loss: -0.8633880615234375 [Val] Loss: -0.8613681793212891\n",
      "Epoch 267 -> [Train] Loss: -0.8621495366096497 [Val] Loss: -0.8616004586219788\n",
      "Epoch 268 -> [Train] Loss: -0.8643295168876648 [Val] Loss: -0.8616426587104797\n",
      "Epoch 269 -> [Train] Loss: -0.8663892149925232 [Val] Loss: -0.8616747856140137\n",
      "Epoch 270 -> [Train] Loss: -0.8609534502029419 [Val] Loss: -0.8617445230484009\n",
      "Epoch 271 -> [Train] Loss: -0.8620338439941406 [Val] Loss: -0.8618175983428955\n",
      "Epoch 272 -> [Train] Loss: -0.8591009974479675 [Val] Loss: -0.8619508147239685\n",
      "Epoch 273 -> [Train] Loss: -0.8608603477478027 [Val] Loss: -0.8619466423988342\n",
      "Epoch 274 -> [Train] Loss: -0.8641836643218994 [Val] Loss: -0.8620131611824036\n",
      "Epoch 275 -> [Train] Loss: -0.8690246939659119 [Val] Loss: -0.8621788024902344\n",
      "Epoch 276 -> [Train] Loss: -0.8617578744888306 [Val] Loss: -0.8621934056282043\n",
      "Epoch 277 -> [Train] Loss: -0.8609763979911804 [Val] Loss: -0.8621458411216736\n",
      "Epoch 278 -> [Train] Loss: -0.8651711940765381 [Val] Loss: -0.8622377514839172\n",
      "Epoch 279 -> [Train] Loss: -0.8633582592010498 [Val] Loss: -0.8623608350753784\n",
      "Epoch 280 -> [Train] Loss: -0.8688289523124695 [Val] Loss: -0.8623858094215393\n",
      "Epoch 281 -> [Train] Loss: -0.8647196292877197 [Val] Loss: -0.8625940084457397\n",
      "Epoch 282 -> [Train] Loss: -0.8662453293800354 [Val] Loss: -0.8627800941467285\n",
      "Epoch 283 -> [Train] Loss: -0.8692444562911987 [Val] Loss: -0.8627718687057495\n",
      "Epoch 284 -> [Train] Loss: -0.8643044829368591 [Val] Loss: -0.8629302978515625\n",
      "Epoch 285 -> [Train] Loss: -0.8667267560958862 [Val] Loss: -0.8630543947219849\n",
      "Epoch 286 -> [Train] Loss: -0.8662199974060059 [Val] Loss: -0.8632169961929321\n",
      "Epoch 287 -> [Train] Loss: -0.8665338158607483 [Val] Loss: -0.863271176815033\n",
      "Epoch 288 -> [Train] Loss: -0.8647022247314453 [Val] Loss: -0.8633913993835449\n",
      "Epoch 289 -> [Train] Loss: -0.8601553440093994 [Val] Loss: -0.8635804057121277\n",
      "Epoch 290 -> [Train] Loss: -0.8690615892410278 [Val] Loss: -0.8641432523727417\n",
      "Epoch 291 -> [Train] Loss: -0.8707981705665588 [Val] Loss: -0.8647436499595642\n",
      "Epoch 292 -> [Train] Loss: -0.8688300251960754 [Val] Loss: -0.8647303581237793\n",
      "Epoch 293 -> [Train] Loss: -0.8726385831832886 [Val] Loss: -0.8651322722434998\n",
      "Epoch 294 -> [Train] Loss: -0.8712382912635803 [Val] Loss: -0.8652295470237732\n",
      "Epoch 295 -> [Train] Loss: -0.8725622296333313 [Val] Loss: -0.865226686000824\n",
      "Epoch 296 -> [Train] Loss: -0.8721371293067932 [Val] Loss: -0.8651922941207886\n",
      "Epoch 297 -> [Train] Loss: -0.8692143559455872 [Val] Loss: -0.8654594421386719\n",
      "Epoch 298 -> [Train] Loss: -0.8716081976890564 [Val] Loss: -0.8653570413589478\n",
      "Epoch 299 -> [Train] Loss: -0.8729559183120728 [Val] Loss: -0.8651215434074402\n",
      "Epoch 300 -> [Train] Loss: -0.8705523014068604 [Val] Loss: -0.8654285073280334\n",
      "Epoch 301 -> [Train] Loss: -0.8760201334953308 [Val] Loss: -0.8655860424041748\n",
      "Epoch 302 -> [Train] Loss: -0.8725979924201965 [Val] Loss: -0.8654880523681641\n",
      "Epoch 303 -> [Train] Loss: -0.8748213052749634 [Val] Loss: -0.8657553791999817\n",
      "Epoch 304 -> [Train] Loss: -0.8725869655609131 [Val] Loss: -0.8659155964851379\n",
      "Epoch 305 -> [Train] Loss: -0.8766389489173889 [Val] Loss: -0.865995466709137\n",
      "Epoch 306 -> [Train] Loss: -0.8769881725311279 [Val] Loss: -0.8662506937980652\n",
      "Epoch 307 -> [Train] Loss: -0.8754874467849731 [Val] Loss: -0.8664370179176331\n",
      "Epoch 308 -> [Train] Loss: -0.8755065202713013 [Val] Loss: -0.8665407299995422\n",
      "Epoch 309 -> [Train] Loss: -0.8741798400878906 [Val] Loss: -0.8667320609092712\n",
      "Epoch 310 -> [Train] Loss: -0.8778406381607056 [Val] Loss: -0.8669956922531128\n",
      "Epoch 311 -> [Train] Loss: -0.8734465837478638 [Val] Loss: -0.8670850992202759\n",
      "Epoch 312 -> [Train] Loss: -0.8765864372253418 [Val] Loss: -0.867192268371582\n",
      "Epoch 313 -> [Train] Loss: -0.875844419002533 [Val] Loss: -0.8673465251922607\n",
      "Epoch 314 -> [Train] Loss: -0.8728100657463074 [Val] Loss: -0.867230236530304\n",
      "Epoch 315 -> [Train] Loss: -0.874335765838623 [Val] Loss: -0.8675231337547302\n",
      "Epoch 316 -> [Train] Loss: -0.8749600648880005 [Val] Loss: -0.8677211403846741\n",
      "Epoch 317 -> [Train] Loss: -0.8774344325065613 [Val] Loss: -0.8678257465362549\n",
      "Epoch 318 -> [Train] Loss: -0.8779299259185791 [Val] Loss: -0.8679578304290771\n",
      "Epoch 319 -> [Train] Loss: -0.8737390637397766 [Val] Loss: -0.868154764175415\n",
      "Epoch 320 -> [Train] Loss: -0.8785496950149536 [Val] Loss: -0.86822509765625\n",
      "Epoch 321 -> [Train] Loss: -0.8765789866447449 [Val] Loss: -0.8682457804679871\n",
      "Epoch 322 -> [Train] Loss: -0.8791981935501099 [Val] Loss: -0.8684737682342529\n",
      "Epoch 323 -> [Train] Loss: -0.8719741702079773 [Val] Loss: -0.8684603571891785\n",
      "Epoch 324 -> [Train] Loss: -0.8809226155281067 [Val] Loss: -0.8686760067939758\n",
      "Epoch 325 -> [Train] Loss: -0.8772518038749695 [Val] Loss: -0.8687605261802673\n",
      "Epoch 326 -> [Train] Loss: -0.8789440989494324 [Val] Loss: -0.868751049041748\n",
      "Epoch 327 -> [Train] Loss: -0.8785561919212341 [Val] Loss: -0.8690491914749146\n",
      "Epoch 328 -> [Train] Loss: -0.8737325668334961 [Val] Loss: -0.8690757155418396\n",
      "Epoch 329 -> [Train] Loss: -0.8796923756599426 [Val] Loss: -0.8691518306732178\n",
      "Epoch 330 -> [Train] Loss: -0.8785265684127808 [Val] Loss: -0.8693258762359619\n",
      "Epoch 331 -> [Train] Loss: -0.8815698027610779 [Val] Loss: -0.8693788647651672\n",
      "Epoch 332 -> [Train] Loss: -0.8802042007446289 [Val] Loss: -0.8697593212127686\n",
      "Epoch 333 -> [Train] Loss: -0.8802887797355652 [Val] Loss: -0.8699296116828918\n",
      "Epoch 334 -> [Train] Loss: -0.8817076683044434 [Val] Loss: -0.870079755783081\n",
      "Epoch 335 -> [Train] Loss: -0.879608690738678 [Val] Loss: -0.8700798153877258\n",
      "Epoch 336 -> [Train] Loss: -0.8426210880279541 [Val] Loss: -0.8637696504592896\n",
      "Epoch 337 -> [Train] Loss: -0.8401903510093689 [Val] Loss: -0.8665124773979187\n",
      "Epoch 338 -> [Train] Loss: -0.8507159948348999 [Val] Loss: -0.8663282990455627\n",
      "Epoch 339 -> [Train] Loss: -0.8577523827552795 [Val] Loss: -0.8671208620071411\n",
      "Epoch 340 -> [Train] Loss: -0.8629884719848633 [Val] Loss: -0.8671534657478333\n",
      "Epoch 341 -> [Train] Loss: -0.8607527017593384 [Val] Loss: -0.8671678304672241\n",
      "Epoch 342 -> [Train] Loss: -0.8216078877449036 [Val] Loss: -0.8004485368728638\n",
      "Epoch 343 -> [Train] Loss: -0.8235251307487488 [Val] Loss: -0.8227155804634094\n",
      "Epoch 344 -> [Train] Loss: -0.8450336456298828 [Val] Loss: -0.842185378074646\n",
      "Epoch 345 -> [Train] Loss: -0.8521196842193604 [Val] Loss: -0.8439089059829712\n",
      "Epoch 346 -> [Train] Loss: -0.8570782542228699 [Val] Loss: -0.8443577289581299\n",
      "Epoch 347 -> [Train] Loss: -0.8364953994750977 [Val] Loss: -0.8570595979690552\n",
      "Epoch 348 -> [Train] Loss: -0.8388752341270447 [Val] Loss: -0.859085202217102\n",
      "Epoch 349 -> [Train] Loss: -0.8455827236175537 [Val] Loss: -0.8606241941452026\n",
      "Epoch 350 -> [Train] Loss: -0.8488913774490356 [Val] Loss: -0.8616856336593628\n",
      "Epoch 351 -> [Train] Loss: -0.8534693121910095 [Val] Loss: -0.8625414967536926\n",
      "Epoch 352 -> [Train] Loss: -0.8567023277282715 [Val] Loss: -0.8633073568344116\n",
      "Epoch 353 -> [Train] Loss: -0.853490948677063 [Val] Loss: -0.8639094829559326\n",
      "Epoch 354 -> [Train] Loss: -0.8562455773353577 [Val] Loss: -0.8643596172332764\n",
      "Epoch 355 -> [Train] Loss: -0.855476438999176 [Val] Loss: -0.8648096919059753\n",
      "Epoch 356 -> [Train] Loss: -0.8568827509880066 [Val] Loss: -0.8652433753013611\n",
      "Epoch 357 -> [Train] Loss: -0.855505108833313 [Val] Loss: -0.8656126260757446\n",
      "Epoch 358 -> [Train] Loss: -0.8591637015342712 [Val] Loss: -0.8659364581108093\n",
      "Epoch 359 -> [Train] Loss: -0.8604860305786133 [Val] Loss: -0.8661889433860779\n",
      "Epoch 360 -> [Train] Loss: -0.8612914085388184 [Val] Loss: -0.8664363026618958\n",
      "Epoch 361 -> [Train] Loss: -0.8640979528427124 [Val] Loss: -0.8665956258773804\n",
      "Epoch 362 -> [Train] Loss: -0.8614099621772766 [Val] Loss: -0.8667242527008057\n",
      "Epoch 363 -> [Train] Loss: -0.860884428024292 [Val] Loss: -0.8668593168258667\n",
      "Epoch 364 -> [Train] Loss: -0.8675999045372009 [Val] Loss: -0.8670466542243958\n",
      "Epoch 365 -> [Train] Loss: -0.8646423816680908 [Val] Loss: -0.8673055171966553\n",
      "Epoch 366 -> [Train] Loss: -0.8672926425933838 [Val] Loss: -0.8673813939094543\n",
      "Epoch 367 -> [Train] Loss: -0.8641233444213867 [Val] Loss: -0.8674089312553406\n",
      "Epoch 368 -> [Train] Loss: -0.8648409843444824 [Val] Loss: -0.8675370216369629\n",
      "Epoch 369 -> [Train] Loss: -0.865532636642456 [Val] Loss: -0.8677928447723389\n",
      "Epoch 370 -> [Train] Loss: -0.8668661117553711 [Val] Loss: -0.8678184151649475\n",
      "Epoch 371 -> [Train] Loss: -0.8670182824134827 [Val] Loss: -0.8679001927375793\n",
      "Epoch 372 -> [Train] Loss: -0.871587336063385 [Val] Loss: -0.8680150508880615\n",
      "Epoch 373 -> [Train] Loss: -0.8664406538009644 [Val] Loss: -0.8679887652397156\n",
      "Epoch 374 -> [Train] Loss: -0.8692981600761414 [Val] Loss: -0.8682358860969543\n",
      "Epoch 375 -> [Train] Loss: -0.8684425354003906 [Val] Loss: -0.8683810830116272\n",
      "Epoch 376 -> [Train] Loss: -0.867989718914032 [Val] Loss: -0.8683417439460754\n",
      "Epoch 377 -> [Train] Loss: -0.8694257736206055 [Val] Loss: -0.8685253858566284\n",
      "Epoch 378 -> [Train] Loss: -0.8644568920135498 [Val] Loss: -0.8685925006866455\n",
      "Epoch 379 -> [Train] Loss: -0.8697167634963989 [Val] Loss: -0.868657112121582\n",
      "Epoch 380 -> [Train] Loss: -0.8736735582351685 [Val] Loss: -0.8688024282455444\n",
      "Epoch 381 -> [Train] Loss: -0.8712584972381592 [Val] Loss: -0.8687639236450195\n",
      "Epoch 382 -> [Train] Loss: -0.8734063506126404 [Val] Loss: -0.8692287802696228\n",
      "Epoch 383 -> [Train] Loss: -0.8702636361122131 [Val] Loss: -0.8691993355751038\n",
      "Epoch 384 -> [Train] Loss: -0.8700687289237976 [Val] Loss: -0.869314432144165\n",
      "Epoch 385 -> [Train] Loss: -0.8724852800369263 [Val] Loss: -0.8693636655807495\n",
      "Epoch 386 -> [Train] Loss: -0.8750929832458496 [Val] Loss: -0.8695419430732727\n",
      "Epoch 387 -> [Train] Loss: -0.8750231266021729 [Val] Loss: -0.869719386100769\n",
      "Epoch 388 -> [Train] Loss: -0.875207781791687 [Val] Loss: -0.869774580001831\n",
      "Epoch 389 -> [Train] Loss: -0.8711761832237244 [Val] Loss: -0.8698819875717163\n",
      "Epoch 390 -> [Train] Loss: -0.8730262517929077 [Val] Loss: -0.8698462843894958\n",
      "Epoch 391 -> [Train] Loss: -0.875626802444458 [Val] Loss: -0.8700857758522034\n",
      "Epoch 392 -> [Train] Loss: -0.875889241695404 [Val] Loss: -0.8702108860015869\n",
      "Epoch 393 -> [Train] Loss: -0.8757551312446594 [Val] Loss: -0.8702613115310669\n",
      "Epoch 394 -> [Train] Loss: -0.8769310712814331 [Val] Loss: -0.8704689145088196\n",
      "Epoch 395 -> [Train] Loss: -0.8743481040000916 [Val] Loss: -0.8705742955207825\n",
      "Epoch 396 -> [Train] Loss: -0.8790069222450256 [Val] Loss: -0.8708763122558594\n",
      "Epoch 397 -> [Train] Loss: -0.8761934638023376 [Val] Loss: -0.871099054813385\n",
      "Epoch 398 -> [Train] Loss: -0.8776335120201111 [Val] Loss: -0.8711438775062561\n",
      "Epoch 399 -> [Train] Loss: -0.8767335414886475 [Val] Loss: -0.8713870048522949\n",
      "Epoch 400 -> [Train] Loss: -0.8555591106414795 [Val] Loss: -0.8463190793991089\n",
      "Epoch 401 -> [Train] Loss: -0.8083997368812561 [Val] Loss: -0.8483279347419739\n",
      "Epoch 402 -> [Train] Loss: -0.8155314922332764 [Val] Loss: -0.8502312898635864\n",
      "Epoch 403 -> [Train] Loss: -0.8157575130462646 [Val] Loss: -0.8516374826431274\n",
      "Epoch 404 -> [Train] Loss: -0.8207299709320068 [Val] Loss: -0.8533139824867249\n",
      "Epoch 405 -> [Train] Loss: -0.7897777557373047 [Val] Loss: -0.8114560842514038\n",
      "Epoch 406 -> [Train] Loss: -0.7981864809989929 [Val] Loss: -0.8203148245811462\n",
      "Epoch 407 -> [Train] Loss: -0.7735902070999146 [Val] Loss: -0.7748548984527588\n",
      "Epoch 408 -> [Train] Loss: -0.7746315002441406 [Val] Loss: -0.7871198058128357\n",
      "Epoch 409 -> [Train] Loss: -0.7889850735664368 [Val] Loss: -0.8240629434585571\n",
      "Epoch 410 -> [Train] Loss: -0.7683438062667847 [Val] Loss: -0.834417462348938\n",
      "Epoch 411 -> [Train] Loss: -0.7971842288970947 [Val] Loss: -0.8460031747817993\n",
      "Epoch 412 -> [Train] Loss: -0.8134998083114624 [Val] Loss: -0.8509591817855835\n",
      "Epoch 413 -> [Train] Loss: -0.8327147960662842 [Val] Loss: -0.8532140254974365\n",
      "Epoch 414 -> [Train] Loss: -0.8358675837516785 [Val] Loss: -0.8546772599220276\n",
      "Epoch 415 -> [Train] Loss: -0.8366966843605042 [Val] Loss: -0.8544825315475464\n",
      "Epoch 416 -> [Train] Loss: -0.8410862684249878 [Val] Loss: -0.8559216260910034\n",
      "Epoch 417 -> [Train] Loss: -0.8450234532356262 [Val] Loss: -0.8559332489967346\n",
      "Epoch 418 -> [Train] Loss: -0.8469467163085938 [Val] Loss: -0.8570977449417114\n",
      "Epoch 419 -> [Train] Loss: -0.8539466857910156 [Val] Loss: -0.8574119210243225\n",
      "Epoch 420 -> [Train] Loss: -0.8474353551864624 [Val] Loss: -0.8560176491737366\n",
      "Epoch 421 -> [Train] Loss: -0.8470882773399353 [Val] Loss: -0.8559309244155884\n",
      "Epoch 422 -> [Train] Loss: -0.848150372505188 [Val] Loss: -0.8580439686775208\n",
      "Epoch 423 -> [Train] Loss: -0.8463042974472046 [Val] Loss: -0.8584116697311401\n",
      "Epoch 424 -> [Train] Loss: -0.8531687259674072 [Val] Loss: -0.8587611317634583\n",
      "Epoch 425 -> [Train] Loss: -0.847814679145813 [Val] Loss: -0.8587043285369873\n",
      "Epoch 426 -> [Train] Loss: -0.854163646697998 [Val] Loss: -0.8500841856002808\n",
      "Epoch 427 -> [Train] Loss: -0.8448927998542786 [Val] Loss: -0.8508037328720093\n",
      "Epoch 428 -> [Train] Loss: -0.8522045016288757 [Val] Loss: -0.8519535660743713\n",
      "Epoch 429 -> [Train] Loss: -0.8541958332061768 [Val] Loss: -0.8531912565231323\n",
      "Epoch 430 -> [Train] Loss: -0.8565993905067444 [Val] Loss: -0.8542979955673218\n",
      "Epoch 431 -> [Train] Loss: -0.8584238886833191 [Val] Loss: -0.8552414774894714\n",
      "Epoch 432 -> [Train] Loss: -0.858958899974823 [Val] Loss: -0.8559771180152893\n",
      "Epoch 433 -> [Train] Loss: -0.8599815964698792 [Val] Loss: -0.8568685054779053\n",
      "Epoch 434 -> [Train] Loss: -0.8633614778518677 [Val] Loss: -0.8572179079055786\n",
      "Epoch 435 -> [Train] Loss: -0.8618485927581787 [Val] Loss: -0.8573803305625916\n",
      "Epoch 436 -> [Train] Loss: -0.8636350631713867 [Val] Loss: -0.8576812744140625\n",
      "Epoch 437 -> [Train] Loss: -0.8631813526153564 [Val] Loss: -0.8576076030731201\n",
      "Epoch 438 -> [Train] Loss: -0.8646368384361267 [Val] Loss: -0.8578987121582031\n",
      "Epoch 439 -> [Train] Loss: -0.8631559014320374 [Val] Loss: -0.8577775955200195\n",
      "Epoch 440 -> [Train] Loss: -0.8613770008087158 [Val] Loss: -0.8582271337509155\n",
      "Epoch 441 -> [Train] Loss: -0.8647072911262512 [Val] Loss: -0.8584811687469482\n",
      "Epoch 442 -> [Train] Loss: -0.8645979166030884 [Val] Loss: -0.8587682247161865\n",
      "Epoch 443 -> [Train] Loss: -0.865143895149231 [Val] Loss: -0.8590046763420105\n",
      "Epoch 444 -> [Train] Loss: -0.8674886226654053 [Val] Loss: -0.8590670228004456\n",
      "Epoch 445 -> [Train] Loss: -0.8658264875411987 [Val] Loss: -0.8591157793998718\n",
      "Epoch 446 -> [Train] Loss: -0.8650395274162292 [Val] Loss: -0.8592914342880249\n",
      "Epoch 447 -> [Train] Loss: -0.8689104318618774 [Val] Loss: -0.8593892455101013\n",
      "Epoch 448 -> [Train] Loss: -0.8682917356491089 [Val] Loss: -0.85956209897995\n",
      "Epoch 449 -> [Train] Loss: -0.8651935458183289 [Val] Loss: -0.8598752617835999\n",
      "Epoch 450 -> [Train] Loss: -0.8699692487716675 [Val] Loss: -0.8597128987312317\n",
      "Epoch 451 -> [Train] Loss: -0.8721075057983398 [Val] Loss: -0.8600353598594666\n",
      "Epoch 452 -> [Train] Loss: -0.868291974067688 [Val] Loss: -0.8600164651870728\n",
      "Epoch 453 -> [Train] Loss: -0.8684185743331909 [Val] Loss: -0.8602717518806458\n",
      "Epoch 454 -> [Train] Loss: -0.869988739490509 [Val] Loss: -0.860366702079773\n",
      "Epoch 455 -> [Train] Loss: -0.8689889907836914 [Val] Loss: -0.8602475523948669\n",
      "Epoch 456 -> [Train] Loss: -0.8712011575698853 [Val] Loss: -0.8602196574211121\n",
      "Epoch 457 -> [Train] Loss: -0.8692401051521301 [Val] Loss: -0.8605476021766663\n",
      "Epoch 458 -> [Train] Loss: -0.8675304055213928 [Val] Loss: -0.8610711097717285\n",
      "Epoch 459 -> [Train] Loss: -0.8687982559204102 [Val] Loss: -0.860767662525177\n",
      "Epoch 460 -> [Train] Loss: -0.8712215423583984 [Val] Loss: -0.8612409234046936\n",
      "Epoch 461 -> [Train] Loss: -0.8711153864860535 [Val] Loss: -0.8611389994621277\n",
      "Epoch 462 -> [Train] Loss: -0.8725900650024414 [Val] Loss: -0.8610090017318726\n",
      "Epoch 463 -> [Train] Loss: -0.8722856044769287 [Val] Loss: -0.861411988735199\n",
      "Epoch 464 -> [Train] Loss: -0.8677324652671814 [Val] Loss: -0.8615745902061462\n",
      "Epoch 465 -> [Train] Loss: -0.8694260716438293 [Val] Loss: -0.8618735074996948\n",
      "Epoch 466 -> [Train] Loss: -0.8720541000366211 [Val] Loss: -0.862034261226654\n",
      "Epoch 467 -> [Train] Loss: -0.8709921836853027 [Val] Loss: -0.8621841073036194\n",
      "Epoch 468 -> [Train] Loss: -0.8706848621368408 [Val] Loss: -0.8617931008338928\n",
      "Epoch 469 -> [Train] Loss: -0.869748592376709 [Val] Loss: -0.8621770143508911\n",
      "Epoch 470 -> [Train] Loss: -0.8706371784210205 [Val] Loss: -0.8622435927391052\n",
      "Epoch 471 -> [Train] Loss: -0.8706009387969971 [Val] Loss: -0.8622899651527405\n",
      "Epoch 472 -> [Train] Loss: -0.8728721141815186 [Val] Loss: -0.8624460101127625\n",
      "Epoch 473 -> [Train] Loss: -0.872564435005188 [Val] Loss: -0.8627722263336182\n",
      "Epoch 474 -> [Train] Loss: -0.8697924017906189 [Val] Loss: -0.8626866936683655\n",
      "Epoch 475 -> [Train] Loss: -0.870573103427887 [Val] Loss: -0.8627682328224182\n",
      "Epoch 476 -> [Train] Loss: -0.8718591332435608 [Val] Loss: -0.8630086183547974\n",
      "Epoch 477 -> [Train] Loss: -0.8739180564880371 [Val] Loss: -0.8635574579238892\n",
      "Epoch 478 -> [Train] Loss: -0.873289942741394 [Val] Loss: -0.8633643388748169\n",
      "Epoch 479 -> [Train] Loss: -0.8715092539787292 [Val] Loss: -0.863540530204773\n",
      "Epoch 480 -> [Train] Loss: -0.875594973564148 [Val] Loss: -0.8634809851646423\n",
      "Epoch 481 -> [Train] Loss: -0.8700229525566101 [Val] Loss: -0.8637900948524475\n",
      "Epoch 482 -> [Train] Loss: -0.875781774520874 [Val] Loss: -0.8640861511230469\n",
      "Epoch 483 -> [Train] Loss: -0.8738276362419128 [Val] Loss: -0.8639482259750366\n",
      "Epoch 484 -> [Train] Loss: -0.8711508512496948 [Val] Loss: -0.8642777800559998\n",
      "Epoch 485 -> [Train] Loss: -0.8715989589691162 [Val] Loss: -0.8643667697906494\n",
      "Epoch 486 -> [Train] Loss: -0.8617177605628967 [Val] Loss: -0.8599973917007446\n",
      "Epoch 487 -> [Train] Loss: -0.8621636629104614 [Val] Loss: -0.8596275448799133\n",
      "Epoch 488 -> [Train] Loss: -0.8609504699707031 [Val] Loss: -0.8602139353752136\n",
      "Epoch 489 -> [Train] Loss: -0.8690069913864136 [Val] Loss: -0.8603287935256958\n",
      "Epoch 490 -> [Train] Loss: -0.8683128952980042 [Val] Loss: -0.8605123162269592\n",
      "Epoch 491 -> [Train] Loss: -0.8640186786651611 [Val] Loss: -0.8607425689697266\n",
      "Epoch 492 -> [Train] Loss: -0.8639633655548096 [Val] Loss: -0.8605771660804749\n",
      "Epoch 493 -> [Train] Loss: -0.8663259744644165 [Val] Loss: -0.8608526587486267\n",
      "Epoch 494 -> [Train] Loss: -0.8698422908782959 [Val] Loss: -0.8612364530563354\n",
      "Epoch 495 -> [Train] Loss: -0.8718138933181763 [Val] Loss: -0.8616183400154114\n",
      "Epoch 496 -> [Train] Loss: -0.8694071173667908 [Val] Loss: -0.8620068430900574\n",
      "Epoch 497 -> [Train] Loss: -0.867540717124939 [Val] Loss: -0.8621802926063538\n",
      "Epoch 498 -> [Train] Loss: -0.8688821792602539 [Val] Loss: -0.8621600270271301\n",
      "Epoch 499 -> [Train] Loss: -0.8690987229347229 [Val] Loss: -0.8624482154846191\n",
      "CPU times: user 12h 45min 18s, sys: 4h 59min 42s, total: 17h 45min 1s\n",
      "Wall time: 4h 7min 16s\n"
     ]
    }
   ],
   "source": [
    "%%time\n",
    "for epoch in range(config.EPOCHS):\n",
    "    ## Training\n",
    "    for batch in dst_train_rdy.as_numpy_iterator():\n",
    "        state = train_step(state, batch)\n",
    "        state = state.replace(params=clip_layer(state.params, \"GDN\", a_min=0))\n",
    "        state = state.replace(params=clip_param(state.params, \"A\", a_min=0))\n",
    "        # state = compute_metrics(state=state, batch=batch)\n",
    "        # break\n",
    "\n",
    "    ## Log the metrics\n",
    "    for name, value in state.metrics.compute().items():\n",
    "        metrics_history[f\"train_{name}\"].append(value)\n",
    "    \n",
    "    ## Empty the metrics\n",
    "    state = state.replace(metrics=state.metrics.empty())\n",
    "\n",
    "    ## Evaluation\n",
    "    for batch in dst_val_rdy.as_numpy_iterator():\n",
    "        state = compute_metrics(state=state, batch=batch)\n",
    "        # break\n",
    "    for name, value in state.metrics.compute().items():\n",
    "        metrics_history[f\"val_{name}\"].append(value)\n",
    "    state = state.replace(metrics=state.metrics.empty())\n",
    "    \n",
    "    ## Checkpointing\n",
    "    if metrics_history[\"val_loss\"][-1] <= min(metrics_history[\"val_loss\"]):\n",
    "        orbax_checkpointer.save(os.path.join(wandb.run.dir, \"model-best\"), state, save_args=save_args, force=True) # force=True means allow overwritting.\n",
    "\n",
    "    wandb.log({f\"{k}\": wandb.Histogram(v) for k, v in flatten_params(state.params).items()}, commit=False)\n",
    "    wandb.log({\"epoch\": epoch+1, **{name:values[-1] for name, values in metrics_history.items()}})\n",
    "    print(f'Epoch {epoch} -> [Train] Loss: {metrics_history[\"train_loss\"][-1]} [Val] Loss: {metrics_history[\"val_loss\"][-1]}')\n",
    "    # break"
   ]
  },
  {
   "cell_type": "markdown",
   "metadata": {},
   "source": [
    "Save the final model as well in case we want to keep training from it or whatever:"
   ]
  },
  {
   "cell_type": "code",
   "execution_count": 42,
   "metadata": {},
   "outputs": [
    {
     "ename": "<class 'KeyboardInterrupt'>",
     "evalue": "",
     "output_type": "error",
     "traceback": [
      "\u001b[0;31m---------------------------------------------------------------------------\u001b[0m",
      "\u001b[0;31mKeyboardInterrupt\u001b[0m                         Traceback (most recent call last)",
      "Cell \u001b[0;32mIn[1], line 1\u001b[0m\n\u001b[0;32m----> 1\u001b[0m \u001b[43morbax_checkpointer\u001b[49m\u001b[38;5;241;43m.\u001b[39;49m\u001b[43msave\u001b[49m\u001b[43m(\u001b[49m\u001b[43mos\u001b[49m\u001b[38;5;241;43m.\u001b[39;49m\u001b[43mpath\u001b[49m\u001b[38;5;241;43m.\u001b[39;49m\u001b[43mjoin\u001b[49m\u001b[43m(\u001b[49m\u001b[43mwandb\u001b[49m\u001b[38;5;241;43m.\u001b[39;49m\u001b[43mrun\u001b[49m\u001b[38;5;241;43m.\u001b[39;49m\u001b[43mdir\u001b[49m\u001b[43m,\u001b[49m\u001b[43m \u001b[49m\u001b[38;5;124;43m\"\u001b[39;49m\u001b[38;5;124;43mmodel-final\u001b[39;49m\u001b[38;5;124;43m\"\u001b[39;49m\u001b[43m)\u001b[49m\u001b[43m,\u001b[49m\u001b[43m \u001b[49m\u001b[43mstate\u001b[49m\u001b[43m,\u001b[49m\u001b[43m \u001b[49m\u001b[43msave_args\u001b[49m\u001b[38;5;241;43m=\u001b[39;49m\u001b[43msave_args\u001b[49m\u001b[43m)\u001b[49m\n",
      "File \u001b[0;32m~/miniconda3/envs/dl/lib/python3.8/site-packages/orbax/checkpoint/checkpointer.py:78\u001b[0m, in \u001b[0;36mCheckpointer.save\u001b[0;34m(self, directory, item, force, *args, **kwargs)\u001b[0m\n\u001b[1;32m     75\u001b[0m tmpdir \u001b[38;5;241m=\u001b[39m utils\u001b[38;5;241m.\u001b[39mcreate_tmp_directory(directory)\n\u001b[1;32m     77\u001b[0m \u001b[38;5;28mself\u001b[39m\u001b[38;5;241m.\u001b[39m_handler\u001b[38;5;241m.\u001b[39msave(tmpdir, item, \u001b[38;5;241m*\u001b[39margs, \u001b[38;5;241m*\u001b[39m\u001b[38;5;241m*\u001b[39mkwargs)\n\u001b[0;32m---> 78\u001b[0m \u001b[43mutils\u001b[49m\u001b[38;5;241;43m.\u001b[39;49m\u001b[43msync_global_devices\u001b[49m\u001b[43m(\u001b[49m\u001b[38;5;124;43m'\u001b[39;49m\u001b[38;5;124;43mCheckpointer:write\u001b[39;49m\u001b[38;5;124;43m'\u001b[39;49m\u001b[43m)\u001b[49m\n\u001b[1;32m     80\u001b[0m \u001b[38;5;66;03m# Ensure save operation atomicity and record time saved by checkpoint.\u001b[39;00m\n\u001b[1;32m     81\u001b[0m \u001b[38;5;28;01mif\u001b[39;00m jax\u001b[38;5;241m.\u001b[39mprocess_index() \u001b[38;5;241m==\u001b[39m \u001b[38;5;241m0\u001b[39m:\n",
      "File \u001b[0;32m~/miniconda3/envs/dl/lib/python3.8/site-packages/orbax/checkpoint/utils.py:63\u001b[0m, in \u001b[0;36msync_global_devices\u001b[0;34m(name)\u001b[0m\n\u001b[1;32m     61\u001b[0m \u001b[38;5;28;01mif\u001b[39;00m should_skip_device_sync():\n\u001b[1;32m     62\u001b[0m   \u001b[38;5;28;01mreturn\u001b[39;00m\n\u001b[0;32m---> 63\u001b[0m \u001b[43mmultihost_utils\u001b[49m\u001b[38;5;241;43m.\u001b[39;49m\u001b[43msync_global_devices\u001b[49m\u001b[43m(\u001b[49m\u001b[43mname\u001b[49m\u001b[43m)\u001b[49m\n",
      "File \u001b[0;32m~/miniconda3/envs/dl/lib/python3.8/site-packages/jax/experimental/multihost_utils.py:86\u001b[0m, in \u001b[0;36msync_global_devices\u001b[0;34m(name)\u001b[0m\n\u001b[1;32m     84\u001b[0m \u001b[38;5;250m\u001b[39m\u001b[38;5;124;03m\"\"\"Creates a barrier across all hosts/devices.\"\"\"\u001b[39;00m\n\u001b[1;32m     85\u001b[0m h \u001b[38;5;241m=\u001b[39m np\u001b[38;5;241m.\u001b[39muint32(zlib\u001b[38;5;241m.\u001b[39mcrc32(name\u001b[38;5;241m.\u001b[39mencode()))\n\u001b[0;32m---> 86\u001b[0m \u001b[43massert_equal\u001b[49m\u001b[43m(\u001b[49m\u001b[43mh\u001b[49m\u001b[43m,\u001b[49m\u001b[43m \u001b[49m\u001b[38;5;124;43mf\u001b[39;49m\u001b[38;5;124;43m\"\u001b[39;49m\u001b[38;5;124;43msync_global_devices name mismatch (\u001b[39;49m\u001b[38;5;124;43m'\u001b[39;49m\u001b[38;5;132;43;01m{\u001b[39;49;00m\u001b[43mname\u001b[49m\u001b[38;5;132;43;01m}\u001b[39;49;00m\u001b[38;5;124;43m'\u001b[39;49m\u001b[38;5;124;43m)\u001b[39;49m\u001b[38;5;124;43m\"\u001b[39;49m\u001b[43m)\u001b[49m\n",
      "File \u001b[0;32m~/miniconda3/envs/dl/lib/python3.8/site-packages/jax/experimental/multihost_utils.py:156\u001b[0m, in \u001b[0;36massert_equal\u001b[0;34m(in_tree, fail_message)\u001b[0m\n\u001b[1;32m    154\u001b[0m \u001b[38;5;28;01mdef\u001b[39;00m \u001b[38;5;21massert_equal\u001b[39m(in_tree, fail_message: \u001b[38;5;28mstr\u001b[39m \u001b[38;5;241m=\u001b[39m \u001b[38;5;124m'\u001b[39m\u001b[38;5;124m'\u001b[39m):\n\u001b[1;32m    155\u001b[0m \u001b[38;5;250m  \u001b[39m\u001b[38;5;124;03m\"\"\"Verifies that all the hosts have the same tree of values.\"\"\"\u001b[39;00m\n\u001b[0;32m--> 156\u001b[0m   expected \u001b[38;5;241m=\u001b[39m \u001b[43mbroadcast_one_to_all\u001b[49m\u001b[43m(\u001b[49m\u001b[43min_tree\u001b[49m\u001b[43m)\u001b[49m\n\u001b[1;32m    157\u001b[0m   \u001b[38;5;28;01mif\u001b[39;00m \u001b[38;5;129;01mnot\u001b[39;00m jax\u001b[38;5;241m.\u001b[39mtree_util\u001b[38;5;241m.\u001b[39mtree_all(\n\u001b[1;32m    158\u001b[0m       jax\u001b[38;5;241m.\u001b[39mtree_util\u001b[38;5;241m.\u001b[39mtree_map(\u001b[38;5;28;01mlambda\u001b[39;00m \u001b[38;5;241m*\u001b[39mx: np\u001b[38;5;241m.\u001b[39mall(np\u001b[38;5;241m.\u001b[39mequal(\u001b[38;5;241m*\u001b[39mx)), in_tree, expected)):\n\u001b[1;32m    159\u001b[0m     \u001b[38;5;28;01mraise\u001b[39;00m \u001b[38;5;167;01mAssertionError\u001b[39;00m(\n\u001b[1;32m    160\u001b[0m         \u001b[38;5;124mf\u001b[39m\u001b[38;5;124m'\u001b[39m\u001b[38;5;132;01m{\u001b[39;00mfail_message\u001b[38;5;132;01m}\u001b[39;00m\u001b[38;5;124m Expected: \u001b[39m\u001b[38;5;132;01m{\u001b[39;00mexpected\u001b[38;5;132;01m}\u001b[39;00m\u001b[38;5;124m; got: \u001b[39m\u001b[38;5;132;01m{\u001b[39;00min_tree\u001b[38;5;132;01m}\u001b[39;00m\u001b[38;5;124m.\u001b[39m\u001b[38;5;124m'\u001b[39m)\n",
      "File \u001b[0;32m~/miniconda3/envs/dl/lib/python3.8/site-packages/jax/experimental/multihost_utils.py:78\u001b[0m, in \u001b[0;36mbroadcast_one_to_all\u001b[0;34m(in_tree, is_source)\u001b[0m\n\u001b[1;32m     75\u001b[0m   \u001b[38;5;28;01mreturn\u001b[39;00m np\u001b[38;5;241m.\u001b[39masarray(x\u001b[38;5;241m.\u001b[39maddressable_data(\u001b[38;5;241m0\u001b[39m))\n\u001b[1;32m     77\u001b[0m in_tree \u001b[38;5;241m=\u001b[39m jax\u001b[38;5;241m.\u001b[39mtree_map(pre_jit, in_tree)\n\u001b[0;32m---> 78\u001b[0m out_tree \u001b[38;5;241m=\u001b[39m \u001b[43mjax\u001b[49m\u001b[38;5;241;43m.\u001b[39;49m\u001b[43mjit\u001b[49m\u001b[43m(\u001b[49m\u001b[43m_psum\u001b[49m\u001b[43m,\u001b[49m\u001b[43m \u001b[49m\u001b[43mout_shardings\u001b[49m\u001b[38;5;241;43m=\u001b[39;49m\u001b[43mjax\u001b[49m\u001b[38;5;241;43m.\u001b[39;49m\u001b[43msharding\u001b[49m\u001b[38;5;241;43m.\u001b[39;49m\u001b[43mNamedSharding\u001b[49m\u001b[43m(\u001b[49m\n\u001b[1;32m     79\u001b[0m \u001b[43m    \u001b[49m\u001b[43mglobal_mesh\u001b[49m\u001b[43m,\u001b[49m\u001b[43m \u001b[49m\u001b[43mP\u001b[49m\u001b[43m(\u001b[49m\u001b[43m)\u001b[49m\u001b[43m)\u001b[49m\u001b[43m)\u001b[49m\u001b[43m(\u001b[49m\u001b[43min_tree\u001b[49m\u001b[43m)\u001b[49m\n\u001b[1;32m     80\u001b[0m \u001b[38;5;28;01mreturn\u001b[39;00m jax\u001b[38;5;241m.\u001b[39mtree_map(post_jit, out_tree)\n",
      "    \u001b[0;31m[... skipping hidden 1 frame]\u001b[0m\n",
      "File \u001b[0;32m~/miniconda3/envs/dl/lib/python3.8/site-packages/jax/_src/pjit.py:250\u001b[0m, in \u001b[0;36m_cpp_pjit.<locals>.cache_miss\u001b[0;34m(*args, **kwargs)\u001b[0m\n\u001b[1;32m    248\u001b[0m \u001b[38;5;129m@api_boundary\u001b[39m\n\u001b[1;32m    249\u001b[0m \u001b[38;5;28;01mdef\u001b[39;00m \u001b[38;5;21mcache_miss\u001b[39m(\u001b[38;5;241m*\u001b[39margs, \u001b[38;5;241m*\u001b[39m\u001b[38;5;241m*\u001b[39mkwargs):\n\u001b[0;32m--> 250\u001b[0m   outs, out_flat, out_tree, args_flat, jaxpr \u001b[38;5;241m=\u001b[39m \u001b[43m_python_pjit_helper\u001b[49m\u001b[43m(\u001b[49m\n\u001b[1;32m    251\u001b[0m \u001b[43m      \u001b[49m\u001b[43mfun\u001b[49m\u001b[43m,\u001b[49m\u001b[43m \u001b[49m\u001b[43minfer_params_fn\u001b[49m\u001b[43m,\u001b[49m\u001b[43m \u001b[49m\u001b[38;5;241;43m*\u001b[39;49m\u001b[43margs\u001b[49m\u001b[43m,\u001b[49m\u001b[43m \u001b[49m\u001b[38;5;241;43m*\u001b[39;49m\u001b[38;5;241;43m*\u001b[39;49m\u001b[43mkwargs\u001b[49m\u001b[43m)\u001b[49m\n\u001b[1;32m    252\u001b[0m   executable \u001b[38;5;241m=\u001b[39m _read_most_recent_pjit_call_executable(jaxpr)\n\u001b[1;32m    253\u001b[0m   fastpath_data \u001b[38;5;241m=\u001b[39m _get_fastpath_data(executable, out_tree, args_flat, out_flat)\n",
      "File \u001b[0;32m~/miniconda3/envs/dl/lib/python3.8/site-packages/jax/_src/pjit.py:163\u001b[0m, in \u001b[0;36m_python_pjit_helper\u001b[0;34m(fun, infer_params_fn, *args, **kwargs)\u001b[0m\n\u001b[1;32m    161\u001b[0m   dispatch\u001b[38;5;241m.\u001b[39mcheck_arg(arg)\n\u001b[1;32m    162\u001b[0m \u001b[38;5;28;01mtry\u001b[39;00m:\n\u001b[0;32m--> 163\u001b[0m   out_flat \u001b[38;5;241m=\u001b[39m \u001b[43mpjit_p\u001b[49m\u001b[38;5;241;43m.\u001b[39;49m\u001b[43mbind\u001b[49m\u001b[43m(\u001b[49m\u001b[38;5;241;43m*\u001b[39;49m\u001b[43margs_flat\u001b[49m\u001b[43m,\u001b[49m\u001b[43m \u001b[49m\u001b[38;5;241;43m*\u001b[39;49m\u001b[38;5;241;43m*\u001b[39;49m\u001b[43mparams\u001b[49m\u001b[43m)\u001b[49m\n\u001b[1;32m    164\u001b[0m \u001b[38;5;28;01mexcept\u001b[39;00m pxla\u001b[38;5;241m.\u001b[39mDeviceAssignmentMismatchError \u001b[38;5;28;01mas\u001b[39;00m e:\n\u001b[1;32m    165\u001b[0m   fails, \u001b[38;5;241m=\u001b[39m e\u001b[38;5;241m.\u001b[39margs\n",
      "File \u001b[0;32m~/miniconda3/envs/dl/lib/python3.8/site-packages/jax/_src/core.py:2677\u001b[0m, in \u001b[0;36mAxisPrimitive.bind\u001b[0;34m(self, *args, **params)\u001b[0m\n\u001b[1;32m   2673\u001b[0m axis_main \u001b[38;5;241m=\u001b[39m \u001b[38;5;28mmax\u001b[39m((axis_frame(a)\u001b[38;5;241m.\u001b[39mmain_trace \u001b[38;5;28;01mfor\u001b[39;00m a \u001b[38;5;129;01min\u001b[39;00m used_axis_names(\u001b[38;5;28mself\u001b[39m, params)),\n\u001b[1;32m   2674\u001b[0m                 default\u001b[38;5;241m=\u001b[39m\u001b[38;5;28;01mNone\u001b[39;00m, key\u001b[38;5;241m=\u001b[39m\u001b[38;5;28;01mlambda\u001b[39;00m t: \u001b[38;5;28mgetattr\u001b[39m(t, \u001b[38;5;124m'\u001b[39m\u001b[38;5;124mlevel\u001b[39m\u001b[38;5;124m'\u001b[39m, \u001b[38;5;241m-\u001b[39m\u001b[38;5;241m1\u001b[39m))\n\u001b[1;32m   2675\u001b[0m top_trace \u001b[38;5;241m=\u001b[39m (top_trace \u001b[38;5;28;01mif\u001b[39;00m \u001b[38;5;129;01mnot\u001b[39;00m axis_main \u001b[38;5;129;01mor\u001b[39;00m axis_main\u001b[38;5;241m.\u001b[39mlevel \u001b[38;5;241m<\u001b[39m top_trace\u001b[38;5;241m.\u001b[39mlevel\n\u001b[1;32m   2676\u001b[0m              \u001b[38;5;28;01melse\u001b[39;00m axis_main\u001b[38;5;241m.\u001b[39mwith_cur_sublevel())\n\u001b[0;32m-> 2677\u001b[0m \u001b[38;5;28;01mreturn\u001b[39;00m \u001b[38;5;28;43mself\u001b[39;49m\u001b[38;5;241;43m.\u001b[39;49m\u001b[43mbind_with_trace\u001b[49m\u001b[43m(\u001b[49m\u001b[43mtop_trace\u001b[49m\u001b[43m,\u001b[49m\u001b[43m \u001b[49m\u001b[43margs\u001b[49m\u001b[43m,\u001b[49m\u001b[43m \u001b[49m\u001b[43mparams\u001b[49m\u001b[43m)\u001b[49m\n",
      "File \u001b[0;32m~/miniconda3/envs/dl/lib/python3.8/site-packages/jax/_src/core.py:383\u001b[0m, in \u001b[0;36mPrimitive.bind_with_trace\u001b[0;34m(self, trace, args, params)\u001b[0m\n\u001b[1;32m    382\u001b[0m \u001b[38;5;28;01mdef\u001b[39;00m \u001b[38;5;21mbind_with_trace\u001b[39m(\u001b[38;5;28mself\u001b[39m, trace, args, params):\n\u001b[0;32m--> 383\u001b[0m   out \u001b[38;5;241m=\u001b[39m \u001b[43mtrace\u001b[49m\u001b[38;5;241;43m.\u001b[39;49m\u001b[43mprocess_primitive\u001b[49m\u001b[43m(\u001b[49m\u001b[38;5;28;43mself\u001b[39;49m\u001b[43m,\u001b[49m\u001b[43m \u001b[49m\u001b[38;5;28;43mmap\u001b[39;49m\u001b[43m(\u001b[49m\u001b[43mtrace\u001b[49m\u001b[38;5;241;43m.\u001b[39;49m\u001b[43mfull_raise\u001b[49m\u001b[43m,\u001b[49m\u001b[43m \u001b[49m\u001b[43margs\u001b[49m\u001b[43m)\u001b[49m\u001b[43m,\u001b[49m\u001b[43m \u001b[49m\u001b[43mparams\u001b[49m\u001b[43m)\u001b[49m\n\u001b[1;32m    384\u001b[0m   \u001b[38;5;28;01mreturn\u001b[39;00m \u001b[38;5;28mmap\u001b[39m(full_lower, out) \u001b[38;5;28;01mif\u001b[39;00m \u001b[38;5;28mself\u001b[39m\u001b[38;5;241m.\u001b[39mmultiple_results \u001b[38;5;28;01melse\u001b[39;00m full_lower(out)\n",
      "File \u001b[0;32m~/miniconda3/envs/dl/lib/python3.8/site-packages/jax/_src/core.py:815\u001b[0m, in \u001b[0;36mEvalTrace.process_primitive\u001b[0;34m(self, primitive, tracers, params)\u001b[0m\n\u001b[1;32m    814\u001b[0m \u001b[38;5;28;01mdef\u001b[39;00m \u001b[38;5;21mprocess_primitive\u001b[39m(\u001b[38;5;28mself\u001b[39m, primitive, tracers, params):\n\u001b[0;32m--> 815\u001b[0m   \u001b[38;5;28;01mreturn\u001b[39;00m \u001b[43mprimitive\u001b[49m\u001b[38;5;241;43m.\u001b[39;49m\u001b[43mimpl\u001b[49m\u001b[43m(\u001b[49m\u001b[38;5;241;43m*\u001b[39;49m\u001b[43mtracers\u001b[49m\u001b[43m,\u001b[49m\u001b[43m \u001b[49m\u001b[38;5;241;43m*\u001b[39;49m\u001b[38;5;241;43m*\u001b[39;49m\u001b[43mparams\u001b[49m\u001b[43m)\u001b[49m\n",
      "File \u001b[0;32m~/miniconda3/envs/dl/lib/python3.8/site-packages/jax/_src/pjit.py:1203\u001b[0m, in \u001b[0;36m_pjit_call_impl\u001b[0;34m(jaxpr, in_shardings, out_shardings, resource_env, donated_invars, name, keep_unused, inline, *args)\u001b[0m\n\u001b[1;32m   1200\u001b[0m donated_argnums \u001b[38;5;241m=\u001b[39m [i \u001b[38;5;28;01mfor\u001b[39;00m i, d \u001b[38;5;129;01min\u001b[39;00m \u001b[38;5;28menumerate\u001b[39m(donated_invars) \u001b[38;5;28;01mif\u001b[39;00m d]\n\u001b[1;32m   1201\u001b[0m has_explicit_sharding \u001b[38;5;241m=\u001b[39m _pjit_explicit_sharding(\n\u001b[1;32m   1202\u001b[0m     in_shardings, out_shardings, \u001b[38;5;28;01mNone\u001b[39;00m, \u001b[38;5;28;01mNone\u001b[39;00m)\n\u001b[0;32m-> 1203\u001b[0m \u001b[38;5;28;01mreturn\u001b[39;00m \u001b[43mxc\u001b[49m\u001b[38;5;241;43m.\u001b[39;49m\u001b[43m_xla\u001b[49m\u001b[38;5;241;43m.\u001b[39;49m\u001b[43mpjit\u001b[49m\u001b[43m(\u001b[49m\u001b[43mname\u001b[49m\u001b[43m,\u001b[49m\u001b[43m \u001b[49m\u001b[43mf\u001b[49m\u001b[43m,\u001b[49m\u001b[43m \u001b[49m\u001b[43mcall_impl_cache_miss\u001b[49m\u001b[43m,\u001b[49m\u001b[43m \u001b[49m\u001b[43m[\u001b[49m\u001b[43m]\u001b[49m\u001b[43m,\u001b[49m\u001b[43m \u001b[49m\u001b[43m[\u001b[49m\u001b[43m]\u001b[49m\u001b[43m,\u001b[49m\u001b[43m \u001b[49m\u001b[43mdonated_argnums\u001b[49m\u001b[43m,\u001b[49m\n\u001b[1;32m   1204\u001b[0m \u001b[43m                    \u001b[49m\u001b[43m_get_cpp_global_cache\u001b[49m\u001b[43m(\u001b[49m\u001b[43mhas_explicit_sharding\u001b[49m\u001b[43m)\u001b[49m\u001b[43m)\u001b[49m\u001b[43m(\u001b[49m\u001b[38;5;241;43m*\u001b[39;49m\u001b[43margs\u001b[49m\u001b[43m)\u001b[49m\n",
      "File \u001b[0;32m~/miniconda3/envs/dl/lib/python3.8/site-packages/jax/_src/pjit.py:1187\u001b[0m, in \u001b[0;36m_pjit_call_impl.<locals>.call_impl_cache_miss\u001b[0;34m(*args_, **kwargs_)\u001b[0m\n\u001b[1;32m   1186\u001b[0m \u001b[38;5;28;01mdef\u001b[39;00m \u001b[38;5;21mcall_impl_cache_miss\u001b[39m(\u001b[38;5;241m*\u001b[39margs_, \u001b[38;5;241m*\u001b[39m\u001b[38;5;241m*\u001b[39mkwargs_):\n\u001b[0;32m-> 1187\u001b[0m   out_flat, compiled \u001b[38;5;241m=\u001b[39m \u001b[43m_pjit_call_impl_python\u001b[49m\u001b[43m(\u001b[49m\n\u001b[1;32m   1188\u001b[0m \u001b[43m      \u001b[49m\u001b[38;5;241;43m*\u001b[39;49m\u001b[43margs\u001b[49m\u001b[43m,\u001b[49m\u001b[43m \u001b[49m\u001b[43mjaxpr\u001b[49m\u001b[38;5;241;43m=\u001b[39;49m\u001b[43mjaxpr\u001b[49m\u001b[43m,\u001b[49m\u001b[43m \u001b[49m\u001b[43min_shardings\u001b[49m\u001b[38;5;241;43m=\u001b[39;49m\u001b[43min_shardings\u001b[49m\u001b[43m,\u001b[49m\n\u001b[1;32m   1189\u001b[0m \u001b[43m      \u001b[49m\u001b[43mout_shardings\u001b[49m\u001b[38;5;241;43m=\u001b[39;49m\u001b[43mout_shardings\u001b[49m\u001b[43m,\u001b[49m\u001b[43m \u001b[49m\u001b[43mresource_env\u001b[49m\u001b[38;5;241;43m=\u001b[39;49m\u001b[43mresource_env\u001b[49m\u001b[43m,\u001b[49m\n\u001b[1;32m   1190\u001b[0m \u001b[43m      \u001b[49m\u001b[43mdonated_invars\u001b[49m\u001b[38;5;241;43m=\u001b[39;49m\u001b[43mdonated_invars\u001b[49m\u001b[43m,\u001b[49m\u001b[43m \u001b[49m\u001b[43mname\u001b[49m\u001b[38;5;241;43m=\u001b[39;49m\u001b[43mname\u001b[49m\u001b[43m,\u001b[49m\u001b[43m \u001b[49m\u001b[43mkeep_unused\u001b[49m\u001b[38;5;241;43m=\u001b[39;49m\u001b[43mkeep_unused\u001b[49m\u001b[43m,\u001b[49m\n\u001b[1;32m   1191\u001b[0m \u001b[43m      \u001b[49m\u001b[43minline\u001b[49m\u001b[38;5;241;43m=\u001b[39;49m\u001b[43minline\u001b[49m\u001b[43m)\u001b[49m\n\u001b[1;32m   1192\u001b[0m   fastpath_data \u001b[38;5;241m=\u001b[39m _get_fastpath_data(\n\u001b[1;32m   1193\u001b[0m       compiled, tree_structure(out_flat), args, out_flat)\n\u001b[1;32m   1194\u001b[0m   \u001b[38;5;28;01mreturn\u001b[39;00m out_flat, fastpath_data\n",
      "File \u001b[0;32m~/miniconda3/envs/dl/lib/python3.8/site-packages/jax/_src/pjit.py:1116\u001b[0m, in \u001b[0;36m_pjit_call_impl_python\u001b[0;34m(jaxpr, in_shardings, out_shardings, resource_env, donated_invars, name, keep_unused, inline, *args)\u001b[0m\n\u001b[1;32m   1111\u001b[0m \u001b[38;5;28;01mdef\u001b[39;00m \u001b[38;5;21m_pjit_call_impl_python\u001b[39m(\n\u001b[1;32m   1112\u001b[0m     \u001b[38;5;241m*\u001b[39margs, jaxpr, in_shardings, out_shardings, resource_env, donated_invars,\n\u001b[1;32m   1113\u001b[0m     name, keep_unused, inline):\n\u001b[1;32m   1114\u001b[0m   \u001b[38;5;28;01mglobal\u001b[39;00m _most_recent_pjit_call_executable\n\u001b[0;32m-> 1116\u001b[0m   in_shardings \u001b[38;5;241m=\u001b[39m \u001b[43m_resolve_in_shardings\u001b[49m\u001b[43m(\u001b[49m\n\u001b[1;32m   1117\u001b[0m \u001b[43m      \u001b[49m\u001b[43margs\u001b[49m\u001b[43m,\u001b[49m\u001b[43m \u001b[49m\u001b[43min_shardings\u001b[49m\u001b[43m,\u001b[49m\u001b[43m \u001b[49m\u001b[43mout_shardings\u001b[49m\u001b[43m,\u001b[49m\n\u001b[1;32m   1118\u001b[0m \u001b[43m      \u001b[49m\u001b[43mresource_env\u001b[49m\u001b[38;5;241;43m.\u001b[39;49m\u001b[43mphysical_mesh\u001b[49m\u001b[43m \u001b[49m\u001b[38;5;28;43;01mif\u001b[39;49;00m\u001b[43m \u001b[49m\u001b[43mresource_env\u001b[49m\u001b[43m \u001b[49m\u001b[38;5;129;43;01mis\u001b[39;49;00m\u001b[43m \u001b[49m\u001b[38;5;129;43;01mnot\u001b[39;49;00m\u001b[43m \u001b[49m\u001b[38;5;28;43;01mNone\u001b[39;49;00m\u001b[43m \u001b[49m\u001b[38;5;28;43;01melse\u001b[39;49;00m\u001b[43m \u001b[49m\u001b[38;5;28;43;01mNone\u001b[39;49;00m\u001b[43m)\u001b[49m\n\u001b[1;32m   1120\u001b[0m   compiled \u001b[38;5;241m=\u001b[39m _pjit_lower(\n\u001b[1;32m   1121\u001b[0m       jaxpr, in_shardings, out_shardings, resource_env,\n\u001b[1;32m   1122\u001b[0m       donated_invars, name, keep_unused, inline,\n\u001b[1;32m   1123\u001b[0m       always_lower\u001b[38;5;241m=\u001b[39m\u001b[38;5;28;01mFalse\u001b[39;00m, lowering_platform\u001b[38;5;241m=\u001b[39m\u001b[38;5;28;01mNone\u001b[39;00m)\u001b[38;5;241m.\u001b[39mcompile()\n\u001b[1;32m   1124\u001b[0m   _most_recent_pjit_call_executable\u001b[38;5;241m.\u001b[39mweak_key_dict[jaxpr] \u001b[38;5;241m=\u001b[39m compiled\n",
      "File \u001b[0;32m~/miniconda3/envs/dl/lib/python3.8/site-packages/jax/_src/pjit.py:1049\u001b[0m, in \u001b[0;36m_resolve_in_shardings\u001b[0;34m(args, pjit_in_shardings, out_shardings, pjit_mesh)\u001b[0m\n\u001b[1;32m   1045\u001b[0m       committed_arg_shardings\u001b[38;5;241m.\u001b[39mappend((arg_s, pxla\u001b[38;5;241m.\u001b[39mMismatchType\u001b[38;5;241m.\u001b[39mARG_SHARDING, \u001b[38;5;28;01mNone\u001b[39;00m))\n\u001b[1;32m   1047\u001b[0m \u001b[38;5;66;03m# Check if the device_assignment across inputs, outputs and arguments is the\u001b[39;00m\n\u001b[1;32m   1048\u001b[0m \u001b[38;5;66;03m# same.\u001b[39;00m\n\u001b[0;32m-> 1049\u001b[0m \u001b[43mpxla\u001b[49m\u001b[38;5;241;43m.\u001b[39;49m\u001b[43m_get_and_check_device_assignment\u001b[49m\u001b[43m(\u001b[49m\n\u001b[1;32m   1050\u001b[0m \u001b[43m    \u001b[49m\u001b[43mit\u001b[49m\u001b[38;5;241;43m.\u001b[39;49m\u001b[43mchain\u001b[49m\u001b[43m(\u001b[49m\n\u001b[1;32m   1051\u001b[0m \u001b[43m        \u001b[49m\u001b[43mcommitted_arg_shardings\u001b[49m\u001b[43m,\u001b[49m\n\u001b[1;32m   1052\u001b[0m \u001b[43m        \u001b[49m\u001b[43m[\u001b[49m\u001b[43m(\u001b[49m\u001b[43mi\u001b[49m\u001b[43m,\u001b[49m\u001b[43m \u001b[49m\u001b[43mpxla\u001b[49m\u001b[38;5;241;43m.\u001b[39;49m\u001b[43mMismatchType\u001b[49m\u001b[38;5;241;43m.\u001b[39;49m\u001b[43mIN_SHARDING\u001b[49m\u001b[43m,\u001b[49m\u001b[43m \u001b[49m\u001b[38;5;28;43;01mNone\u001b[39;49;00m\u001b[43m)\u001b[49m\u001b[43m \u001b[49m\u001b[38;5;28;43;01mfor\u001b[39;49;00m\u001b[43m \u001b[49m\u001b[43mi\u001b[49m\u001b[43m \u001b[49m\u001b[38;5;129;43;01min\u001b[39;49;00m\u001b[43m \u001b[49m\u001b[43mpjit_in_shardings\u001b[49m\u001b[43m]\u001b[49m\u001b[43m,\u001b[49m\n\u001b[1;32m   1053\u001b[0m \u001b[43m        \u001b[49m\u001b[43m[\u001b[49m\u001b[43m(\u001b[49m\u001b[43mo\u001b[49m\u001b[43m,\u001b[49m\u001b[43m \u001b[49m\u001b[43mpxla\u001b[49m\u001b[38;5;241;43m.\u001b[39;49m\u001b[43mMismatchType\u001b[49m\u001b[38;5;241;43m.\u001b[39;49m\u001b[43mOUT_SHARDING\u001b[49m\u001b[43m,\u001b[49m\u001b[43m \u001b[49m\u001b[38;5;28;43;01mNone\u001b[39;49;00m\u001b[43m)\u001b[49m\u001b[43m \u001b[49m\u001b[38;5;28;43;01mfor\u001b[39;49;00m\u001b[43m \u001b[49m\u001b[43mo\u001b[49m\u001b[43m \u001b[49m\u001b[38;5;129;43;01min\u001b[39;49;00m\u001b[43m \u001b[49m\u001b[43mout_shardings\u001b[49m\u001b[43m]\u001b[49m\u001b[43m)\u001b[49m\u001b[43m,\u001b[49m\n\u001b[1;32m   1054\u001b[0m \u001b[43m    \u001b[49m\u001b[43m(\u001b[49m\u001b[38;5;28;43;01mNone\u001b[39;49;00m\u001b[43m \u001b[49m\u001b[38;5;28;43;01mif\u001b[39;49;00m\u001b[43m \u001b[49m\u001b[43mpjit_mesh\u001b[49m\u001b[43m \u001b[49m\u001b[38;5;129;43;01mis\u001b[39;49;00m\u001b[43m \u001b[49m\u001b[38;5;28;43;01mNone\u001b[39;49;00m\u001b[43m \u001b[49m\u001b[38;5;129;43;01mor\u001b[39;49;00m\u001b[43m \u001b[49m\u001b[43mpjit_mesh\u001b[49m\u001b[38;5;241;43m.\u001b[39;49m\u001b[43mempty\u001b[49m\u001b[43m \u001b[49m\u001b[38;5;28;43;01melse\u001b[39;49;00m\u001b[43m \u001b[49m\u001b[38;5;28;43mlist\u001b[39;49m\u001b[43m(\u001b[49m\u001b[43mpjit_mesh\u001b[49m\u001b[38;5;241;43m.\u001b[39;49m\u001b[43mdevices\u001b[49m\u001b[38;5;241;43m.\u001b[39;49m\u001b[43mflat\u001b[49m\u001b[43m)\u001b[49m\u001b[43m)\u001b[49m\u001b[43m)\u001b[49m\n\u001b[1;32m   1056\u001b[0m resolved_in_shardings \u001b[38;5;241m=\u001b[39m []\n\u001b[1;32m   1057\u001b[0m \u001b[38;5;28;01mfor\u001b[39;00m arg, pjit_in_s \u001b[38;5;129;01min\u001b[39;00m \u001b[38;5;28mzip\u001b[39m(args, pjit_in_shardings):\n",
      "File \u001b[0;32m~/miniconda3/envs/dl/lib/python3.8/site-packages/jax/_src/interpreters/pxla.py:1778\u001b[0m, in \u001b[0;36m_get_and_check_device_assignment\u001b[0;34m(shardings, devices)\u001b[0m\n\u001b[1;32m   1775\u001b[0m \u001b[38;5;28;01melse\u001b[39;00m:\n\u001b[1;32m   1776\u001b[0m   devices \u001b[38;5;241m=\u001b[39m \u001b[38;5;28mtuple\u001b[39m(devices)\n\u001b[0;32m-> 1778\u001b[0m \u001b[38;5;28;01mfor\u001b[39;00m i, s_type, source_info \u001b[38;5;129;01min\u001b[39;00m shardings:\n\u001b[1;32m   1779\u001b[0m   \u001b[38;5;28;01mif\u001b[39;00m is_unspecified(i):\n\u001b[1;32m   1780\u001b[0m     \u001b[38;5;28;01mcontinue\u001b[39;00m\n",
      "\u001b[0;31mKeyboardInterrupt\u001b[0m: "
     ]
    },
    {
     "name": "stderr",
     "output_type": "stream",
     "text": [
      "Exception ignored in: <function _xla_gc_callback at 0x7fabcd793430>\n",
      "Traceback (most recent call last):\n",
      "  File \"/home/jorge/miniconda3/envs/dl/lib/python3.8/site-packages/jax/_src/lib/__init__.py\", line 103, in _xla_gc_callback\n",
      "    def _xla_gc_callback(*args):\n",
      "KeyboardInterrupt: \n"
     ]
    }
   ],
   "source": [
    "orbax_checkpointer.save(os.path.join(wandb.run.dir, \"model-final\"), state, save_args=save_args)"
   ]
  },
  {
   "cell_type": "code",
   "execution_count": 43,
   "metadata": {},
   "outputs": [],
   "source": [
    "wandb.finish()"
   ]
  },
  {
   "cell_type": "code",
   "execution_count": 44,
   "metadata": {},
   "outputs": [],
   "source": [
    "import matplotlib.pyplot as plt"
   ]
  },
  {
   "cell_type": "code",
   "execution_count": 58,
   "metadata": {},
   "outputs": [
    {
     "data": {
      "image/png": "[encoded data removed]",
      "text/plain": [
       "<Figure size 1500x1500 with 64 Axes>"
      ]
     },
     "metadata": {},
     "output_type": "display_data"
    }
   ],
   "source": [
    "fig, axes = plt.subplots(8,8, figsize=(15,15))\n",
    "for i, ax in enumerate(axes.ravel()):\n",
    "    ax.imshow(state.state[\"precalc_filter\"][\"GaborLayerLogSigma_0\"][\"kernel\"][:,:,0,i])\n",
    "    ax.axis(\"off\")\n",
    "plt.show()"
   ]
  },
  {
   "cell_type": "code",
   "execution_count": 59,
   "metadata": {},
   "outputs": [
    {
     "data": {
      "text/plain": [
       "(31, 31, 6, 64)"
      ]
     },
     "execution_count": 59,
     "metadata": {},
     "output_type": "execute_result"
    }
   ],
   "source": [
    "kernel = state.state[\"precalc_filter\"][\"GaborLayerLogSigma_0\"][\"kernel\"]\n",
    "kernel.shape"
   ]
  },
  {
   "cell_type": "code",
   "execution_count": 60,
   "metadata": {},
   "outputs": [
    {
     "data": {
      "text/plain": [
       "((31, 31, 64), (31, 31))"
      ]
     },
     "execution_count": 60,
     "metadata": {},
     "output_type": "execute_result"
    }
   ],
   "source": [
    "kernel_f_fft = jnp.fft.fftn(kernel[:,:,0,:], axes=(0,1))\n",
    "kernel_f_fft = jnp.fft.fftshift(kernel_f_fft)\n",
    "kernel_f_fft_abs_sum = jnp.abs(kernel_f_fft).sum(axis=-1)\n",
    "kernel_f_fft.shape, kernel_f_fft_abs_sum.shape"
   ]
  },
  {
   "cell_type": "code",
   "execution_count": 61,
   "metadata": {},
   "outputs": [
    {
     "data": {
      "image/png": "[encoded data removed]",
      "text/plain": [
       "<Figure size 1500x1500 with 64 Axes>"
      ]
     },
     "metadata": {},
     "output_type": "display_data"
    }
   ],
   "source": [
    "fig, axes = plt.subplots(8,8, figsize=(15,15))\n",
    "for i, ax in enumerate(axes.ravel()):\n",
    "    ax.imshow(jnp.abs(kernel_f_fft[:,:,i]))\n",
    "    ax.axis(\"off\")\n",
    "plt.show()"
   ]
  },
  {
   "cell_type": "code",
   "execution_count": 62,
   "metadata": {},
   "outputs": [
    {
     "data": {
      "image/png": "[encoded data removed]",
      "text/plain": [
       "<Figure size 640x480 with 1 Axes>"
      ]
     },
     "metadata": {},
     "output_type": "display_data"
    }
   ],
   "source": [
    "plt.imshow(kernel_f_fft_abs_sum)\n",
    "plt.show()"
   ]
  }
 ],
 "metadata": {
  "kernelspec": {
   "display_name": "python3",
   "language": "python",
   "name": "python3"
  },
  "language_info": {
   "codemirror_mode": {
    "name": "ipython",
    "version": 3
   },
   "file_extension": ".py",
   "mimetype": "text/x-python",
   "name": "python",
   "nbconvert_exporter": "python",
   "pygments_lexer": "ipython3",
   "version": "3.8.16"
  }
 },
 "nbformat": 4,
 "nbformat_minor": 2
}
