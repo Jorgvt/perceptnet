{
 "cells": [
  {
   "cell_type": "code",
   "execution_count": 1,
   "metadata": {},
   "outputs": [
    {
     "name": "stderr",
     "output_type": "stream",
     "text": [
      "2023-12-04 15:17:03.040225: I tensorflow/core/platform/cpu_feature_guard.cc:182] This TensorFlow binary is optimized to use available CPU instructions in performance-critical operations.\n",
      "To enable the following instructions: AVX2 AVX512F FMA, in other operations, rebuild TensorFlow with the appropriate compiler flags.\n",
      "2023-12-04 15:17:05.443441: W tensorflow/compiler/tf2tensorrt/utils/py_utils.cc:38] TF-TRT Warning: Could not find TensorRT\n"
     ]
    }
   ],
   "source": [
    "import tensorflow as tf\n",
    "tf.config.set_visible_devices([], device_type='GPU')"
   ]
  },
  {
   "cell_type": "code",
   "execution_count": 2,
   "metadata": {},
   "outputs": [
    {
     "name": "stderr",
     "output_type": "stream",
     "text": [
      "/lhome/ext/uv075/uv0752/miniconda3/envs/testing_gpu/lib/python3.8/site-packages/tqdm/auto.py:21: TqdmWarning: IProgress not found. Please update jupyter and ipywidgets. See https://ipywidgets.readthedocs.io/en/stable/user_install.html\n",
      "  from .autonotebook import tqdm as notebook_tqdm\n",
      "2023-12-04 15:17:11.419960: W external/xla/xla/service/platform_util.cc:198] unable to create StreamExecutor for CUDA:0: failed initializing StreamExecutor for CUDA device ordinal 0: INTERNAL: failed call to cuDevicePrimaryCtxRetain: CUDA_ERROR_DEVICE_UNAVAILABLE: CUDA-capable device(s) is/are busy or unavailable\n",
      "No GPU/TPU found, falling back to CPU. (Set TF_CPP_MIN_LOG_LEVEL=0 and rerun for more info.)\n",
      "2023-12-04 15:17:11.420310: W external/xla/xla/service/platform_util.cc:198] unable to create StreamExecutor for CUDA:1: failed initializing StreamExecutor for CUDA device ordinal 1: INTERNAL: failed call to cuDevicePrimaryCtxRetain: CUDA_ERROR_DEVICE_UNAVAILABLE: CUDA-capable device(s) is/are busy or unavailable\n"
     ]
    }
   ],
   "source": [
    "import os\n",
    "# os.environ[\"CUDA_VISIBLE_DEVICES\"] = \"-1\"\n",
    "from tqdm.auto import tqdm\n",
    "\n",
    "from typing import Any, Callable, Sequence, Union\n",
    "import numpy as np\n",
    "import scipy.stats as stats\n",
    "\n",
    "import tensorflow as tf\n",
    "tf.config.set_visible_devices([], device_type='GPU')\n",
    "\n",
    "import jax\n",
    "from jax import lax, random, numpy as jnp\n",
    "import flax\n",
    "from flax.core import freeze, unfreeze, FrozenDict\n",
    "from flax import linen as nn\n",
    "from flax import struct\n",
    "from flax.training import train_state\n",
    "from flax.training import orbax_utils\n",
    "\n",
    "import optax\n",
    "import orbax.checkpoint\n",
    "\n",
    "from clu import metrics\n",
    "from ml_collections import ConfigDict\n",
    "\n",
    "from einops import reduce, rearrange\n",
    "import wandb\n",
    "\n",
    "from iqadatasets.datasets import *\n",
    "from fxlayers.layers import *\n",
    "from fxlayers.layers import GaborLayerLogSigma_, GaussianLayerGamma, FreqGaussianGamma, OrientGaussianGamma\n",
    "from fxlayers.initializers import *\n",
    "from JaxPlayground.utils.constraints import *\n",
    "from JaxPlayground.utils.wandb import *"
   ]
  },
  {
   "cell_type": "code",
   "execution_count": 3,
   "metadata": {},
   "outputs": [],
   "source": [
    "# dst_train = TID2008(\"/lustre/ific.uv.es/ml/uv075/Databases/IQA//TID/TID2008/\", exclude_imgs=[25])\n",
    "# dst_val = TID2013(\"/lustre/ific.uv.es/ml/uv075/Databases/IQA//TID/TID2013/\", exclude_imgs=[25])\n",
    "# dst_train = TID2008(\"/media/disk/databases/BBDD_video_image/Image_Quality//TID/TID2008/\", exclude_imgs=[25])\n",
    "# dst_val = TID2013(\"/media/disk/databases/BBDD_video_image/Image_Quality//TID/TID2013/\", exclude_imgs=[25])\n",
    "# dst = KADIK10K(\"/media/disk/databases/BBDD_video_image/Image_Quality/KADIK10K/\")\n",
    "# dst = PIPAL(\"/media/disk/databases/BBDD_video_image/Image_Quality/PIPAL/\")\n",
    "dst = PIPAL(\"/lustre/ific.uv.es/ml/uv075/Databases/IQA/PIPAL/\")"
   ]
  },
  {
   "cell_type": "code",
   "execution_count": 1,
   "metadata": {},
   "outputs": [
    {
     "data": {
      "text/plain": [
       "(TensorShape([288, 288, 3]), TensorShape([288, 288, 3]), TensorShape([]))"
      ]
     },
     "execution_count": 1,
     "metadata": {},
     "output_type": "execute_result"
    }
   ],
   "source": [
    "img, img_dist, mos = next(iter(dst.dataset))\n",
    "img.shape, img_dist.shape, mos.shape"
   ]
  },
  {
   "cell_type": "code",
   "execution_count": 2,
   "metadata": {},
   "outputs": [
    {
     "data": {
      "text/plain": [
       "BATCH_SIZE: 64\n",
       "CS_KERNEL_SIZE: 21\n",
       "EPOCHS: 500\n",
       "GABOR_KERNEL_SIZE: 31\n",
       "GDN_CLIPPING: true\n",
       "LEARNING_RATE: 0.003\n",
       "NORMALIZE_ENERGY: true\n",
       "NORMALIZE_PROB: false\n",
       "N_ORIENTATIONS: 8\n",
       "N_SCALES: 4\n",
       "SEED: 42\n",
       "USE_BIAS: false\n",
       "ZERO_MEAN: true"
      ]
     },
     "execution_count": 2,
     "metadata": {},
     "output_type": "execute_result"
    }
   ],
   "source": [
    "config = {\n",
    "    \"BATCH_SIZE\": 64,\n",
    "    \"EPOCHS\": 500,\n",
    "    \"LEARNING_RATE\": 3e-3,\n",
    "    \"SEED\": 42,\n",
    "    \"GDN_CLIPPING\": True,\n",
    "    \"NORMALIZE_PROB\": False,\n",
    "    \"NORMALIZE_ENERGY\": True,\n",
    "    \"ZERO_MEAN\": True,\n",
    "    \"USE_BIAS\": False,\n",
    "    \"CS_KERNEL_SIZE\": 21,\n",
    "    \"GABOR_KERNEL_SIZE\": 31,\n",
    "    \"N_SCALES\": 4,\n",
    "    \"N_ORIENTATIONS\": 8,\n",
    "}\n",
    "config = ConfigDict(config)\n",
    "config"
   ]
  },
  {
   "cell_type": "code",
   "execution_count": 6,
   "metadata": {},
   "outputs": [],
   "source": [
    "id = \"5lb2ee60\""
   ]
  },
  {
   "cell_type": "code",
   "execution_count": 7,
   "metadata": {},
   "outputs": [],
   "source": [
    "api = wandb.Api()\n",
    "prev_run = api.run(f\"jorgvt/PerceptNet_v15/{id}\")"
   ]
  },
  {
   "cell_type": "code",
   "execution_count": 3,
   "metadata": {},
   "outputs": [
    {
     "data": {
      "text/plain": [
       "BATCH_SIZE: 64\n",
       "CS_KERNEL_SIZE: 21\n",
       "EPOCHS: 500\n",
       "GABOR_KERNEL_SIZE: 31\n",
       "GDN_CLIPPING: true\n",
       "LEARNING_RATE: 0.003\n",
       "NORMALIZE_ENERGY: true\n",
       "NORMALIZE_PROB: false\n",
       "N_ORIENTATIONS: 8\n",
       "N_SCALES: 4\n",
       "SEED: 42\n",
       "USE_BIAS: false\n",
       "ZERO_MEAN: true"
      ]
     },
     "execution_count": 3,
     "metadata": {},
     "output_type": "execute_result"
    }
   ],
   "source": [
    "config = ConfigDict(prev_run.config[\"_fields\"])\n",
    "config"
   ]
  },
  {
   "cell_type": "code",
   "execution_count": 9,
   "metadata": {},
   "outputs": [],
   "source": [
    "for file in prev_run.files():\n",
    "    file.download(root=prev_run.dir, replace=True)"
   ]
  },
  {
   "cell_type": "code",
   "execution_count": 4,
   "metadata": {},
   "outputs": [
    {
     "name": "stderr",
     "output_type": "stream",
     "text": [
      "wandb: Currently logged in as: jorgvt. Use `wandb login --relogin` to force relogin\n",
      "wandb: wandb version 0.16.0 is available!  To upgrade, please run:\n",
      "wandb:  $ pip install wandb --upgrade\n",
      "wandb: Tracking run with wandb version 0.15.1\n",
      "wandb: Run data is saved locally in /lhome/ext/uv075/uv0752/perceptnet/Notebooks/13_JaX/13_04_V18/wandb/run-20231204_201210-7cuf1z5i\n",
      "wandb: Run `wandb offline` to turn off syncing.\n",
      "wandb: Syncing run DN_OG_G_Fixed_GDNSpatioFreqOrient_Symm_CSPos\n",
      "wandb:  View project at https://wandb.ai/jorgvt/PerceptNet_JaX_Eval\n",
      "wandb:  View run at https://wandb.ai/jorgvt/PerceptNet_JaX_Eval/runs/7cuf1z5i\n"
     ]
    },
    {
     "data": {
      "text/plain": [
       "BATCH_SIZE: 64\n",
       "CS_KERNEL_SIZE: 21\n",
       "EPOCHS: 500\n",
       "GABOR_KERNEL_SIZE: 31\n",
       "GDN_CLIPPING: true\n",
       "LEARNING_RATE: 0.003\n",
       "NORMALIZE_ENERGY: true\n",
       "NORMALIZE_PROB: false\n",
       "N_ORIENTATIONS: 8\n",
       "N_SCALES: 4\n",
       "SEED: 42\n",
       "USE_BIAS: false\n",
       "ZERO_MEAN: true"
      ]
     },
     "execution_count": 4,
     "metadata": {},
     "output_type": "execute_result"
    }
   ],
   "source": [
    "wandb.init(project=\"PerceptNet_JaX_Eval\",\n",
    "           name=prev_run.name,\n",
    "           job_type=\"evaluate\",\n",
    "           mode=\"online\",\n",
    "           )\n",
    "config = config\n",
    "config"
   ]
  },
  {
   "cell_type": "code",
   "execution_count": 11,
   "metadata": {},
   "outputs": [],
   "source": [
    "dst_rdy = dst.dataset.batch(config.BATCH_SIZE, num_parallel_calls=tf.data.AUTOTUNE)"
   ]
  },
  {
   "cell_type": "markdown",
   "metadata": {},
   "source": [
    "## Define the model we're going to use\n",
    "\n",
    "> It's going to be a very simple model just for demonstration purposes."
   ]
  },
  {
   "cell_type": "code",
   "execution_count": 12,
   "metadata": {},
   "outputs": [],
   "source": [
    "def pad_same_from_kernel_size(inputs, kernel_size, mode):\n",
    "    return jnp.pad(inputs,\n",
    "                   [[0,0],\n",
    "                    [(kernel_size-1)//2, (kernel_size-1)//2],\n",
    "                    [(kernel_size-1)//2, (kernel_size-1)//2],\n",
    "                    [0,0]],\n",
    "                    mode=mode)"
   ]
  },
  {
   "cell_type": "code",
   "execution_count": 40,
   "metadata": {},
   "outputs": [],
   "source": [
    "class GDNSpatioFreqOrient(nn.Module):\n",
    "    \"\"\"Generalized Divisive Normalization.\"\"\"\n",
    "    kernel_size: Union[int, Sequence[int]]\n",
    "    strides: int = 1\n",
    "    padding: str = \"SAME\"\n",
    "    # inputs_star: float = 1.\n",
    "    # outputs_star: Union[None, float] = None\n",
    "    fs: int = 1\n",
    "    apply_independently: bool = False\n",
    "    bias_init: Callable = nn.initializers.ones_init()\n",
    "    alpha: float = 2.\n",
    "    epsilon: float = 1/2 # Exponential of the denominator\n",
    "    eps: float = 1e-6 # Numerical stability in the denominator\n",
    "\n",
    "    @nn.compact\n",
    "    def __call__(self,\n",
    "                 inputs,\n",
    "                 fmean,\n",
    "                 theta_mean,\n",
    "                 train=False,\n",
    "                 ):\n",
    "        b, h, w, c = inputs.shape\n",
    "        bias = self.param(\"bias\",\n",
    "                          #equal_to(inputs_star/10),\n",
    "                          self.bias_init,\n",
    "                          (c,))\n",
    "        # is_initialized = self.has_variable(\"batch_stats\", \"inputs_star\")\n",
    "        # inputs_star = self.variable(\"batch_stats\", \"inputs_star\", lambda x: jnp.ones(x)*self.inputs_star, (len(self.inputs_star),))\n",
    "        # inputs_star_ = jnp.ones_like(inputs)*inputs_star.value\n",
    "        GL = GaussianLayerGamma(features=c, kernel_size=self.kernel_size, strides=self.strides, padding=\"VALID\", fs=self.fs, xmean=self.kernel_size/self.fs/2, ymean=self.kernel_size/self.fs/2, normalize_prob=config.NORMALIZE_PROB, normalize_energy=config.NORMALIZE_ENERGY, use_bias=False, feature_group_count=c)\n",
    "        FG = FreqGaussianGamma()\n",
    "        OG = OrientGaussianGamma()\n",
    "        outputs = GL(pad_same_from_kernel_size(inputs, kernel_size=self.kernel_size, mode=self.padding)**self.alpha, train=train)#/(self.kernel_size**2)\n",
    "        outputs = FG(outputs, fmean=fmean)\n",
    "        ## Reshape so that the orientations are the innermost dimmension\n",
    "        outputs = rearrange(outputs, \"b h w (phase theta f) -> b h w (phase f theta)\", b=b, h=h, w=w, phase=2, f=config.N_SCALES, theta=config.N_ORIENTATIONS)\n",
    "        outputs = OG(outputs, theta_mean=theta_mean)\n",
    "        ## Recover original disposition\n",
    "        denom = rearrange(outputs, \"b h w (phase f theta) -> b h w (phase theta f)\", b=b, h=h, w=w, phase=2, f=config.N_SCALES, theta=config.N_ORIENTATIONS)\n",
    "\n",
    "        ## Coef\n",
    "        # coef = GL(inputs_star_**self.alpha, train=train)#/(self.kernel_size**2)\n",
    "        # coef = FG(coef, fmean=fmean)\n",
    "        # coef = rearrange(coef, \"b h w (phase theta f) -> b h w (phase f theta)\", b=b, h=h, w=w, phase=2, f=config.N_SCALES, theta=config.N_ORIENTATIONS)\n",
    "        # coef = OG(coef, theta_mean=theta_mean) + bias\n",
    "        # coef = rearrange(coef, \"b h w (phase f theta) -> b h w (phase theta f)\", b=b, h=h, w=w, phase=2, f=config.N_SCALES, theta=config.N_ORIENTATIONS)\n",
    "        # coef = jnp.clip(coef+bias, a_min=1e-5)**self.epsilon\n",
    "        # # coef = inputs_star.value * coef\n",
    "        # if self.outputs_star is not None: coef = coef/inputs_star.value*self.outputs_star\n",
    "\n",
    "        # if is_initialized and train:\n",
    "        #     inputs_star.value = (inputs_star.value + jnp.quantile(jnp.abs(inputs), q=0.95, axis=(0,1,2)))/2\n",
    "        # return coef * inputs / (jnp.clip(denom+bias, a_min=1e-5)**self.epsilon + self.eps)\n",
    "        return inputs / (jnp.clip(denom+bias, a_min=1e-5)**self.epsilon + self.eps)"
   ]
  },
  {
   "cell_type": "code",
   "execution_count": 14,
   "metadata": {},
   "outputs": [],
   "source": [
    "class PerceptNet(nn.Module):\n",
    "    \"\"\"IQA model inspired by the visual system.\"\"\"\n",
    "\n",
    "    @nn.compact\n",
    "    def __call__(self,\n",
    "                 inputs, # Assuming fs = 128 (cpd)\n",
    "                 **kwargs,\n",
    "                 ):\n",
    "        ## (Independent) Color equilibration (Gamma correction)\n",
    "        ## Might need to be the same for each number\n",
    "        ## bias = 0.1 / kernel = 0.5\n",
    "        outputs = GDN(kernel_size=(1,1), apply_independently=True)(inputs)\n",
    "        \n",
    "        ## Color (ATD) Transformation\n",
    "        outputs = nn.Conv(features=3, kernel_size=(1,1), use_bias=False)(outputs)\n",
    "        outputs = nn.max_pool(outputs, window_shape=(2,2), strides=(2,2))\n",
    "        \n",
    "        ## GDN Star A - T - D [Separated]\n",
    "        outputs = GDN(kernel_size=(1,1), apply_independently=True)(outputs)\n",
    "\n",
    "        ## Center Surround (DoG)\n",
    "        ## Initialized so that 3 are positives and 3 are negatives and no interaction between channels is present\n",
    "        outputs = pad_same_from_kernel_size(outputs, kernel_size=config.CS_KERNEL_SIZE, mode=\"symmetric\")\n",
    "        outputs = CenterSurroundLogSigmaK(features=3, kernel_size=config.CS_KERNEL_SIZE, fs=21, use_bias=False, padding=\"VALID\")(outputs, **kwargs)\n",
    "        outputs = nn.max_pool(outputs, window_shape=(2,2), strides=(2,2))\n",
    "\n",
    "        ## GDN per channel with mean substraction in T and D (Spatial Gaussian Kernel)\n",
    "        ### fs = 32 / kernel_size = (11,11) -> 0.32 > 0.02 --> OK!\n",
    "        ## TO-DO: - Spatial Gaussian Kernel (0.02 deg) -> fs = 64/2 & 0.02*64/2 = sigma (px) = 0.69\n",
    "        outputs = GDN(kernel_size=(1,1), apply_independently=True)(outputs)\n",
    "\n",
    "        ## GaborLayer per channel with GDN mixing only same-origin-channel information\n",
    "        ### [Gaussian] sigma = 0.2 (deg) fs = 32 / kernel_size = (21,21) -> 21/32 = 0.66 --> OK!\n",
    "        outputs = pad_same_from_kernel_size(outputs, kernel_size=config.GABOR_KERNEL_SIZE, mode=\"symmetric\")\n",
    "        outputs, fmean, theta_mean = GaborLayerLogSigma_(n_scales=config.N_SCALES, n_orientations=config.N_ORIENTATIONS, kernel_size=config.GABOR_KERNEL_SIZE, fs=32, xmean=config.GABOR_KERNEL_SIZE/32/2, ymean=config.GABOR_KERNEL_SIZE/32/2, strides=1, padding=\"VALID\", normalize_prob=config.NORMALIZE_PROB, normalize_energy=config.NORMALIZE_ENERGY, zero_mean=config.ZERO_MEAN, use_bias=config.USE_BIAS)(outputs, return_freq=True, return_theta=True, **kwargs)\n",
    "        \n",
    "        ## Final GDN mixing Gabor information (?)\n",
    "        outputs = GDNSpatioFreqOrient(kernel_size=21, strides=1, padding=\"symmetric\", fs=32, apply_independently=False)(outputs, fmean=fmean, theta_mean=theta_mean, **kwargs)\n",
    "        # outputs = GDN(kernel_size=(1,1), apply_independently=False)(outputs)\n",
    "        return outputs"
   ]
  },
  {
   "cell_type": "markdown",
   "metadata": {},
   "source": [
    "## Define the metrics with `clu`"
   ]
  },
  {
   "cell_type": "code",
   "execution_count": 15,
   "metadata": {},
   "outputs": [],
   "source": [
    "@struct.dataclass\n",
    "class Metrics(metrics.Collection):\n",
    "    \"\"\"Collection of metrics to be tracked during training.\"\"\"\n",
    "    loss: metrics.Average.from_output(\"loss\")"
   ]
  },
  {
   "cell_type": "markdown",
   "metadata": {},
   "source": [
    "By default, `TrainState` doesn't include metrics, but it's very easy to subclass it so that it does:"
   ]
  },
  {
   "cell_type": "code",
   "execution_count": 16,
   "metadata": {},
   "outputs": [],
   "source": [
    "class TrainState(train_state.TrainState):\n",
    "    metrics: Metrics\n",
    "    state: FrozenDict"
   ]
  },
  {
   "cell_type": "markdown",
   "metadata": {},
   "source": [
    "We'll define a function that initializes the `TrainState` from a module, a rng key and some optimizer:"
   ]
  },
  {
   "cell_type": "code",
   "execution_count": 17,
   "metadata": {},
   "outputs": [],
   "source": [
    "def create_train_state(module, key, tx, input_shape):\n",
    "    \"\"\"Creates the initial `TrainState`.\"\"\"\n",
    "    variables = module.init(key, jnp.ones(input_shape))\n",
    "    state, params = variables.pop('params')\n",
    "    return TrainState.create(\n",
    "        apply_fn=module.apply,\n",
    "        params=params,\n",
    "        state=state,\n",
    "        tx=tx,\n",
    "        metrics=Metrics.empty()\n",
    "    )"
   ]
  },
  {
   "cell_type": "markdown",
   "metadata": {},
   "source": [
    "## Define evaluation step"
   ]
  },
  {
   "cell_type": "code",
   "execution_count": 18,
   "metadata": {},
   "outputs": [],
   "source": [
    "@jax.jit\n",
    "def compute_distance(*, state, batch):\n",
    "    \"\"\"Obtaining the metrics for a given batch.\"\"\"\n",
    "    img, img_dist, mos = batch\n",
    "    \n",
    "    ## Forward pass through the model\n",
    "    img_pred = state.apply_fn({\"params\": state.params, **state.state}, img, train=False)\n",
    "    img_dist_pred = state.apply_fn({\"params\": state.params, **state.state}, img_dist, train=False)\n",
    "\n",
    "    ## Calculate the distance\n",
    "    dist = ((img_pred - img_dist_pred)**2).sum(axis=(1,2,3))**(1/2)\n",
    "    \n",
    "    ## Calculate pearson correlation\n",
    "    return dist"
   ]
  },
  {
   "cell_type": "markdown",
   "metadata": {},
   "source": [
    "## Load the pretrained model!"
   ]
  },
  {
   "cell_type": "code",
   "execution_count": 19,
   "metadata": {},
   "outputs": [],
   "source": [
    "state = create_train_state(PerceptNet(), random.PRNGKey(config.SEED), optax.adam(config.LEARNING_RATE), input_shape=(1,384,512,3))"
   ]
  },
  {
   "cell_type": "code",
   "execution_count": 20,
   "metadata": {},
   "outputs": [],
   "source": [
    "def check_trainable(path):\n",
    "    return False\n",
    "    # return (\"A\" in path) or (\"alpha_achrom\" in path) or (\"alpha_chrom_rg\" in path) or (\"alpha_chrom_yb\" in path)"
   ]
  },
  {
   "cell_type": "code",
   "execution_count": 21,
   "metadata": {},
   "outputs": [],
   "source": [
    "trainable_tree = freeze(flax.traverse_util.path_aware_map(lambda path, v: \"non_trainable\" if check_trainable(path)  else \"trainable\", state.params))"
   ]
  },
  {
   "cell_type": "code",
   "execution_count": 5,
   "metadata": {},
   "outputs": [
    {
     "data": {
      "text/plain": [
       "(286, 286)"
      ]
     },
     "execution_count": 5,
     "metadata": {},
     "output_type": "execute_result"
    }
   ],
   "source": [
    "param_count = sum(x.size for x in jax.tree_util.tree_leaves(state.params))\n",
    "trainable_param_count = sum([w.size if t==\"trainable\" else 0 for w, t in zip(jax.tree_util.tree_leaves(state.params), jax.tree_util.tree_leaves(trainable_tree))])\n",
    "param_count, trainable_param_count"
   ]
  },
  {
   "cell_type": "code",
   "execution_count": 26,
   "metadata": {},
   "outputs": [],
   "source": [
    "wandb.run.summary[\"total_parameters\"] = param_count\n",
    "wandb.run.summary[\"trainable_parameters\"] = trainable_param_count"
   ]
  },
  {
   "cell_type": "code",
   "execution_count": 23,
   "metadata": {},
   "outputs": [],
   "source": [
    "optimizers = {\n",
    "    \"trainable\": optax.adam(learning_rate=config.LEARNING_RATE),\n",
    "    \"non_trainable\": optax.set_to_zero(),\n",
    "}"
   ]
  },
  {
   "cell_type": "code",
   "execution_count": 24,
   "metadata": {},
   "outputs": [],
   "source": [
    "tx = optax.multi_transform(optimizers, trainable_tree)"
   ]
  },
  {
   "cell_type": "code",
   "execution_count": 25,
   "metadata": {},
   "outputs": [],
   "source": [
    "state = create_train_state(PerceptNet(), random.PRNGKey(config.SEED), tx, input_shape=(1,384,512,3))"
   ]
  },
  {
   "cell_type": "code",
   "execution_count": 27,
   "metadata": {},
   "outputs": [],
   "source": [
    "# Before actually training the model we're going to set up the checkpointer to be able to save our trained models:\n",
    "orbax_checkpointer = orbax.checkpoint.PyTreeCheckpointer()\n",
    "save_args = orbax_utils.save_args_from_target(state)"
   ]
  },
  {
   "cell_type": "code",
   "execution_count": 30,
   "metadata": {},
   "outputs": [],
   "source": [
    "# Load weights\n",
    "state = orbax_checkpointer.restore(os.path.join(prev_run.dir,\"model-best\"), item=state)"
   ]
  },
  {
   "cell_type": "markdown",
   "metadata": {},
   "source": [
    "## Evaluate!"
   ]
  },
  {
   "cell_type": "code",
   "execution_count": 31,
   "metadata": {},
   "outputs": [],
   "source": [
    "metrics_history = {\n",
    "    \"distance\": [],\n",
    "    \"mos\": [],\n",
    "}"
   ]
  },
  {
   "cell_type": "code",
   "execution_count": 41,
   "metadata": {},
   "outputs": [
    {
     "name": "stdout",
     "output_type": "stream",
     "text": [
      "CPU times: user 1min 21s, sys: 1min 2s, total: 2min 24s\n",
      "Wall time: 10min 37s\n"
     ]
    },
    {
     "name": "stderr",
     "output_type": "stream",
     "text": [
      "\r",
      "0it [00:00, ?it/s]\r",
      "1it [00:10, 10.37s/it]\r",
      "3it [00:11,  2.99s/it]\r",
      "4it [00:14,  3.07s/it]\r",
      "5it [00:16,  2.90s/it]\r",
      "6it [00:19,  2.92s/it]\r",
      "7it [00:22,  2.84s/it]\r",
      "8it [00:25,  2.87s/it]\r",
      "9it [00:28,  2.81s/it]\r",
      "10it [00:31,  2.86s/it]\r",
      "11it [00:34,  2.88s/it]\r",
      "12it [00:36,  2.75s/it]\r",
      "13it [00:39,  2.69s/it]\r",
      "14it [00:43,  3.11s/it]\r",
      "15it [00:45,  2.88s/it]\r",
      "16it [00:48,  2.77s/it]\r",
      "17it [00:50,  2.67s/it]\r",
      "18it [00:52,  2.49s/it]\r",
      "19it [00:54,  2.35s/it]\r",
      "20it [00:56,  2.26s/it]\r",
      "21it [00:58,  2.20s/it]\r",
      "22it [01:00,  2.16s/it]\r",
      "23it [01:02,  2.12s/it]\r",
      "24it [01:04,  2.08s/it]\r",
      "25it [01:06,  1.95s/it]\r",
      "26it [01:08,  1.90s/it]\r",
      "27it [01:09,  1.87s/it]\r",
      "28it [01:11,  1.87s/it]\r",
      "29it [01:13,  1.84s/it]\r",
      "30it [01:15,  1.86s/it]\r",
      "31it [01:17,  1.86s/it]\r",
      "32it [01:19,  1.81s/it]\r",
      "33it [01:20,  1.77s/it]\r",
      "34it [01:22,  1.85s/it]\r",
      "35it [01:24,  1.82s/it]\r",
      "36it [01:26,  1.77s/it]\r",
      "37it [01:27,  1.75s/it]\r",
      "38it [01:29,  1.69s/it]\r",
      "39it [01:31,  1.79s/it]\r",
      "40it [01:32,  1.69s/it]\r",
      "41it [01:34,  1.72s/it]\r",
      "42it [01:36,  1.75s/it]\r",
      "43it [01:38,  1.78s/it]\r",
      "44it [01:40,  1.80s/it]\r",
      "45it [01:41,  1.70s/it]\r",
      "46it [01:43,  1.79s/it]\r",
      "47it [01:45,  1.81s/it]\r",
      "48it [01:47,  1.75s/it]\r",
      "49it [01:48,  1.73s/it]\r",
      "50it [01:50,  1.81s/it]\r",
      "51it [01:52,  1.80s/it]\r",
      "52it [01:54,  1.75s/it]\r",
      "53it [01:56,  1.76s/it]\r",
      "54it [01:57,  1.72s/it]\r",
      "55it [01:59,  1.76s/it]\r",
      "56it [02:01,  1.76s/it]\r",
      "57it [02:03,  1.82s/it]\r",
      "58it [02:05,  1.84s/it]\r",
      "59it [02:07,  1.87s/it]\r",
      "60it [02:08,  1.86s/it]\r",
      "61it [02:10,  1.75s/it]\r",
      "62it [02:12,  1.74s/it]\r",
      "63it [02:13,  1.71s/it]\r",
      "64it [02:15,  1.73s/it]\r",
      "65it [02:17,  1.69s/it]\r",
      "66it [02:18,  1.61s/it]\r",
      "67it [02:20,  1.64s/it]\r",
      "68it [02:21,  1.59s/it]\r",
      "69it [02:23,  1.68s/it]\r",
      "70it [02:25,  1.59s/it]\r",
      "71it [02:26,  1.54s/it]\r",
      "72it [02:28,  1.58s/it]\r",
      "73it [02:29,  1.52s/it]\r",
      "74it [02:31,  1.53s/it]\r",
      "75it [02:32,  1.42s/it]\r",
      "76it [02:33,  1.46s/it]\r",
      "77it [02:35,  1.50s/it]\r",
      "78it [02:36,  1.53s/it]\r",
      "79it [02:38,  1.47s/it]\r",
      "80it [02:39,  1.46s/it]\r",
      "81it [02:41,  1.49s/it]\r",
      "82it [02:42,  1.50s/it]\r",
      "83it [02:44,  1.46s/it]\r",
      "84it [02:45,  1.54s/it]\r",
      "85it [02:47,  1.56s/it]\r",
      "86it [02:49,  1.58s/it]\r",
      "87it [02:50,  1.60s/it]\r",
      "88it [02:52,  1.62s/it]\r",
      "89it [02:53,  1.56s/it]\r",
      "90it [02:55,  1.54s/it]\r",
      "91it [02:57,  1.73s/it]\r",
      "92it [03:00,  2.15s/it]\r",
      "93it [03:03,  2.44s/it]\r",
      "94it [03:06,  2.52s/it]\r",
      "95it [03:09,  2.64s/it]\r",
      "96it [03:12,  2.64s/it]\r",
      "97it [03:14,  2.68s/it]\r",
      "98it [03:17,  2.67s/it]\r",
      "99it [03:19,  2.58s/it]\r",
      "100it [03:22,  2.51s/it]\r",
      "101it [03:24,  2.44s/it]\r",
      "102it [03:26,  2.43s/it]\r",
      "103it [03:29,  2.41s/it]\r",
      "104it [03:31,  2.31s/it]\r",
      "105it [03:33,  2.31s/it]\r",
      "106it [03:35,  2.31s/it]\r",
      "107it [03:37,  2.19s/it]\r",
      "108it [03:39,  2.14s/it]\r",
      "109it [03:42,  2.19s/it]\r",
      "110it [03:44,  2.18s/it]\r",
      "111it [03:46,  2.12s/it]\r",
      "112it [03:48,  2.07s/it]\r",
      "113it [03:50,  2.01s/it]\r",
      "114it [03:51,  1.91s/it]\r",
      "115it [03:53,  1.90s/it]\r",
      "116it [03:55,  1.78s/it]\r",
      "117it [03:56,  1.77s/it]\r",
      "118it [03:58,  1.78s/it]\r",
      "119it [04:00,  1.73s/it]\r",
      "120it [04:02,  1.71s/it]\r",
      "121it [04:03,  1.74s/it]\r",
      "122it [04:05,  1.85s/it]\r",
      "123it [04:07,  1.74s/it]\r",
      "124it [04:09,  1.73s/it]\r",
      "125it [04:10,  1.65s/it]\r",
      "126it [04:12,  1.67s/it]\r",
      "127it [04:13,  1.66s/it]\r",
      "128it [04:15,  1.65s/it]\r",
      "129it [04:17,  1.59s/it]\r",
      "130it [04:18,  1.56s/it]\r",
      "131it [04:20,  1.61s/it]\r",
      "132it [04:21,  1.50s/it]\r",
      "133it [04:23,  1.51s/it]\r",
      "134it [04:24,  1.49s/it]\r",
      "135it [04:26,  1.51s/it]\r",
      "136it [04:27,  1.46s/it]\r",
      "137it [04:28,  1.46s/it]\r",
      "138it [04:30,  1.46s/it]\r",
      "139it [04:31,  1.48s/it]\r",
      "140it [04:33,  1.49s/it]\r",
      "141it [04:34,  1.52s/it]\r",
      "142it [04:36,  1.51s/it]\r",
      "143it [04:37,  1.49s/it]\r",
      "144it [04:39,  1.51s/it]\r",
      "145it [04:41,  1.54s/it]\r",
      "146it [04:42,  1.63s/it]\r",
      "147it [04:44,  1.59s/it]\r",
      "148it [04:45,  1.50s/it]\r",
      "149it [04:47,  1.55s/it]\r",
      "150it [04:48,  1.50s/it]\r",
      "151it [04:50,  1.47s/it]\r",
      "152it [04:51,  1.46s/it]\r",
      "153it [04:52,  1.41s/it]\r",
      "154it [04:54,  1.43s/it]\r",
      "155it [04:55,  1.40s/it]\r",
      "156it [04:57,  1.47s/it]\r",
      "157it [04:58,  1.47s/it]\r",
      "158it [05:00,  1.43s/it]\r",
      "159it [05:01,  1.40s/it]\r",
      "160it [05:02,  1.44s/it]\r",
      "161it [05:04,  1.37s/it]\r",
      "162it [05:05,  1.33s/it]\r",
      "163it [05:06,  1.37s/it]\r",
      "164it [05:08,  1.44s/it]\r",
      "165it [05:09,  1.41s/it]\r",
      "166it [05:11,  1.41s/it]\r",
      "167it [05:12,  1.47s/it]\r",
      "168it [05:14,  1.45s/it]\r",
      "169it [05:15,  1.39s/it]\r",
      "170it [05:17,  1.48s/it]\r",
      "171it [05:18,  1.49s/it]\r",
      "172it [05:20,  1.49s/it]\r",
      "173it [05:21,  1.44s/it]\r",
      "174it [05:22,  1.37s/it]\r",
      "175it [05:24,  1.42s/it]\r",
      "176it [05:25,  1.38s/it]\r",
      "177it [05:26,  1.32s/it]\r",
      "178it [05:27,  1.28s/it]\r",
      "179it [05:29,  1.29s/it]\r",
      "180it [05:30,  1.32s/it]\r",
      "181it [05:32,  1.38s/it]\r",
      "182it [05:34,  1.81s/it]\r",
      "183it [05:38,  2.26s/it]\r",
      "184it [05:41,  2.50s/it]\r",
      "185it [05:44,  2.68s/it]\r",
      "186it [05:47,  2.77s/it]\r",
      "187it [05:50,  2.83s/it]\r",
      "188it [05:53,  2.85s/it]\r",
      "189it [05:55,  2.76s/it]\r",
      "190it [05:58,  2.62s/it]\r",
      "191it [06:00,  2.60s/it]\r",
      "192it [06:02,  2.48s/it]\r",
      "193it [06:05,  2.45s/it]\r",
      "194it [06:07,  2.44s/it]\r",
      "195it [06:09,  2.35s/it]\r",
      "196it [06:12,  2.36s/it]\r",
      "197it [06:14,  2.38s/it]\r",
      "198it [06:16,  2.23s/it]\r",
      "199it [06:18,  2.19s/it]\r",
      "200it [06:20,  2.12s/it]\r",
      "201it [06:22,  2.05s/it]\r",
      "202it [06:24,  2.02s/it]\r",
      "203it [06:26,  1.96s/it]\r",
      "204it [06:28,  1.97s/it]\r",
      "205it [06:30,  1.95s/it]\r",
      "206it [06:31,  1.90s/it]\r",
      "207it [06:33,  1.86s/it]\r",
      "208it [06:35,  1.76s/it]\r",
      "209it [06:37,  1.83s/it]\r",
      "210it [06:38,  1.79s/it]\r",
      "211it [06:40,  1.80s/it]\r",
      "212it [06:42,  1.81s/it]\r",
      "213it [06:44,  1.78s/it]\r",
      "214it [06:45,  1.73s/it]\r",
      "215it [06:47,  1.67s/it]\r",
      "216it [06:48,  1.66s/it]\r",
      "217it [06:50,  1.61s/it]\r",
      "218it [06:52,  1.64s/it]\r",
      "219it [06:53,  1.64s/it]\r",
      "220it [06:55,  1.56s/it]\r",
      "221it [06:56,  1.49s/it]\r",
      "222it [06:57,  1.41s/it]\r",
      "223it [06:59,  1.46s/it]\r",
      "224it [07:00,  1.44s/it]\r",
      "225it [07:02,  1.45s/it]\r",
      "226it [07:03,  1.44s/it]\r",
      "227it [07:04,  1.42s/it]\r",
      "228it [07:06,  1.43s/it]\r",
      "229it [07:07,  1.44s/it]\r",
      "230it [07:09,  1.44s/it]\r",
      "231it [07:10,  1.42s/it]\r",
      "232it [07:12,  1.38s/it]\r",
      "233it [07:13,  1.37s/it]\r",
      "234it [07:14,  1.38s/it]\r",
      "235it [07:15,  1.34s/it]\r",
      "236it [07:17,  1.41s/it]\r",
      "237it [07:18,  1.38s/it]\r",
      "238it [07:20,  1.39s/it]\r",
      "239it [07:21,  1.35s/it]\r",
      "240it [07:24,  1.94s/it]\r",
      "241it [07:26,  1.75s/it]\r",
      "242it [07:27,  1.63s/it]\r",
      "243it [07:28,  1.58s/it]\r",
      "244it [07:30,  1.55s/it]\r",
      "245it [07:31,  1.45s/it]\r",
      "246it [07:32,  1.39s/it]\r",
      "247it [07:33,  1.29s/it]\r",
      "248it [07:35,  1.30s/it]\r",
      "249it [07:36,  1.28s/it]\r",
      "250it [07:37,  1.26s/it]\r",
      "251it [07:38,  1.23s/it]\r",
      "252it [07:40,  1.24s/it]\r",
      "253it [07:41,  1.23s/it]\r",
      "254it [07:42,  1.26s/it]\r",
      "255it [07:44,  1.29s/it]\r",
      "256it [07:45,  1.30s/it]\r",
      "257it [07:46,  1.30s/it]\r",
      "258it [07:47,  1.25s/it]\r",
      "259it [07:49,  1.24s/it]\r",
      "260it [07:50,  1.20s/it]\r",
      "261it [07:51,  1.16s/it]\r",
      "262it [07:52,  1.11s/it]\r",
      "263it [07:53,  1.17s/it]\r",
      "264it [07:54,  1.13s/it]\r",
      "265it [07:55,  1.17s/it]\r",
      "266it [07:56,  1.10s/it]\r",
      "267it [07:57,  1.09s/it]\r",
      "268it [07:58,  1.08s/it]\r",
      "269it [08:00,  1.13s/it]\r",
      "270it [08:01,  1.15s/it]\r",
      "271it [08:02,  1.12s/it]\r",
      "272it [08:03,  1.14s/it]\r",
      "273it [08:06,  1.76s/it]\r",
      "274it [08:09,  2.19s/it]\r",
      "275it [08:12,  2.38s/it]\r",
      "276it [08:15,  2.45s/it]\r",
      "277it [08:18,  2.53s/it]\r",
      "278it [08:20,  2.51s/it]\r",
      "279it [08:23,  2.52s/it]\r",
      "280it [08:26,  2.64s/it]\r",
      "281it [08:28,  2.66s/it]\r",
      "282it [08:31,  2.60s/it]\r",
      "283it [08:33,  2.48s/it]\r",
      "284it [08:35,  2.45s/it]\r",
      "285it [08:38,  2.42s/it]\r",
      "286it [08:40,  2.29s/it]\r",
      "287it [08:42,  2.25s/it]\r",
      "288it [08:44,  2.13s/it]\r",
      "289it [08:46,  2.06s/it]\r",
      "290it [08:47,  2.00s/it]\r",
      "291it [08:49,  1.92s/it]\r",
      "292it [08:51,  1.86s/it]\r",
      "293it [08:53,  1.85s/it]\r",
      "294it [08:54,  1.83s/it]\r",
      "295it [08:56,  1.83s/it]\r",
      "296it [08:58,  1.88s/it]\r",
      "297it [09:00,  1.80s/it]\r",
      "298it [09:02,  1.78s/it]\r",
      "299it [09:03,  1.73s/it]\r",
      "300it [09:05,  1.77s/it]\r",
      "301it [09:07,  1.73s/it]\r",
      "302it [09:08,  1.70s/it]\r",
      "303it [09:10,  1.62s/it]\r",
      "304it [09:11,  1.57s/it]\r",
      "305it [09:13,  1.61s/it]\r",
      "306it [09:15,  1.59s/it]\r",
      "307it [09:16,  1.61s/it]\r",
      "308it [09:18,  1.63s/it]\r",
      "309it [09:20,  1.66s/it]\r",
      "310it [09:21,  1.62s/it]\r",
      "311it [09:23,  1.58s/it]\r",
      "312it [09:24,  1.53s/it]\r",
      "313it [09:25,  1.46s/it]\r",
      "314it [09:27,  1.56s/it]\r",
      "315it [09:29,  1.58s/it]\r",
      "316it [09:30,  1.54s/it]\r",
      "317it [09:32,  1.53s/it]\r",
      "318it [09:33,  1.51s/it]\r",
      "319it [09:35,  1.51s/it]\r",
      "320it [09:36,  1.53s/it]\r",
      "321it [09:38,  1.49s/it]\r",
      "322it [09:39,  1.46s/it]\r",
      "323it [09:41,  1.49s/it]\r",
      "324it [09:42,  1.45s/it]\r",
      "325it [09:43,  1.43s/it]\r",
      "326it [09:45,  1.41s/it]\r",
      "327it [09:46,  1.40s/it]\r",
      "328it [09:47,  1.41s/it]\r",
      "329it [09:49,  1.41s/it]\r",
      "330it [09:50,  1.43s/it]\r",
      "331it [09:52,  1.39s/it]\r",
      "332it [09:53,  1.39s/it]\r",
      "333it [09:54,  1.38s/it]\r",
      "334it [09:56,  1.43s/it]\r",
      "335it [09:57,  1.39s/it]\r",
      "336it [09:59,  1.38s/it]\r",
      "337it [10:00,  1.35s/it]\r",
      "338it [10:01,  1.33s/it]\r",
      "339it [10:03,  1.37s/it]\r",
      "340it [10:04,  1.37s/it]\r",
      "341it [10:05,  1.36s/it]\r",
      "342it [10:07,  1.36s/it]\r",
      "343it [10:08,  1.29s/it]\r",
      "344it [10:09,  1.30s/it]\r",
      "345it [10:10,  1.28s/it]\r",
      "346it [10:12,  1.23s/it]\r",
      "347it [10:13,  1.22s/it]\r",
      "348it [10:14,  1.21s/it]\r",
      "349it [10:15,  1.23s/it]\r",
      "350it [10:17,  1.28s/it]\r",
      "351it [10:18,  1.30s/it]\r",
      "352it [10:19,  1.36s/it]\r",
      "353it [10:21,  1.33s/it]\r",
      "354it [10:22,  1.30s/it]\r",
      "355it [10:23,  1.29s/it]\r",
      "356it [10:24,  1.24s/it]\r",
      "357it [10:26,  1.26s/it]\r",
      "358it [10:27,  1.27s/it]\r",
      "359it [10:28,  1.30s/it]\r",
      "360it [10:30,  1.31s/it]\r",
      "361it [10:31,  1.27s/it]\r",
      "362it [10:32,  1.25s/it]\r",
      "363it [10:36,  2.23s/it]\r",
      "363it [10:36,  1.75s/it]\n"
     ]
    }
   ],
   "source": [
    "%%time\n",
    "for batch in tqdm(dst_rdy.as_numpy_iterator()):\n",
    "    img, img_dist, mos = batch\n",
    "    distance = compute_distance(state=state, batch=batch)\n",
    "    metrics_history[\"distance\"].extend(distance)\n",
    "    metrics_history[\"mos\"].extend(mos)\n",
    "    # break"
   ]
  },
  {
   "cell_type": "code",
   "execution_count": null,
   "metadata": {},
   "outputs": [],
   "source": [
    "assert len(metrics_history[\"distance\"]) == len(dst.data)"
   ]
  },
  {
   "cell_type": "code",
   "execution_count": 6,
   "metadata": {},
   "outputs": [
    {
     "data": {
      "text/plain": [
       "(PearsonRResult(statistic=-0.5457550283353401, pvalue=0.0),\n",
       " SignificanceResult(statistic=-0.488735941238653, pvalue=0.0))"
      ]
     },
     "execution_count": 6,
     "metadata": {},
     "output_type": "execute_result"
    }
   ],
   "source": [
    "stats.pearsonr(metrics_history[\"distance\"], metrics_history[\"mos\"]), stats.spearmanr(metrics_history[\"distance\"], metrics_history[\"mos\"])"
   ]
  },
  {
   "cell_type": "code",
   "execution_count": 7,
   "metadata": {},
   "outputs": [
    {
     "data": {
      "text/html": [
       "<div>\n",
       "<style scoped>\n",
       "    .dataframe tbody tr th:only-of-type {\n",
       "        vertical-align: middle;\n",
       "    }\n",
       "\n",
       "    .dataframe tbody tr th {\n",
       "        vertical-align: top;\n",
       "    }\n",
       "\n",
       "    .dataframe thead th {\n",
       "        text-align: right;\n",
       "    }\n",
       "</style>\n",
       "<table border=\"1\" class=\"dataframe\">\n",
       "  <thead>\n",
       "    <tr style=\"text-align: right;\">\n",
       "      <th></th>\n",
       "      <th>Reference</th>\n",
       "      <th>Distorted</th>\n",
       "      <th>MOS</th>\n",
       "      <th>Directory</th>\n",
       "      <th>Distance</th>\n",
       "    </tr>\n",
       "  </thead>\n",
       "  <tbody>\n",
       "    <tr>\n",
       "      <th>0</th>\n",
       "      <td>A0001.bmp</td>\n",
       "      <td>A0001_00_00.bmp</td>\n",
       "      <td>1520.0648</td>\n",
       "      <td>Distortion_1</td>\n",
       "      <td>8.521898</td>\n",
       "    </tr>\n",
       "    <tr>\n",
       "      <th>1</th>\n",
       "      <td>A0001.bmp</td>\n",
       "      <td>A0001_00_01.bmp</td>\n",
       "      <td>1437.0798</td>\n",
       "      <td>Distortion_1</td>\n",
       "      <td>11.197734</td>\n",
       "    </tr>\n",
       "    <tr>\n",
       "      <th>2</th>\n",
       "      <td>A0001.bmp</td>\n",
       "      <td>A0001_00_02.bmp</td>\n",
       "      <td>1546.0616</td>\n",
       "      <td>Distortion_1</td>\n",
       "      <td>8.103455</td>\n",
       "    </tr>\n",
       "    <tr>\n",
       "      <th>3</th>\n",
       "      <td>A0001.bmp</td>\n",
       "      <td>A0001_00_03.bmp</td>\n",
       "      <td>1539.5688</td>\n",
       "      <td>Distortion_1</td>\n",
       "      <td>9.646216</td>\n",
       "    </tr>\n",
       "    <tr>\n",
       "      <th>4</th>\n",
       "      <td>A0001.bmp</td>\n",
       "      <td>A0001_00_04.bmp</td>\n",
       "      <td>1411.7958</td>\n",
       "      <td>Distortion_1</td>\n",
       "      <td>11.941879</td>\n",
       "    </tr>\n",
       "  </tbody>\n",
       "</table>\n",
       "</div>"
      ],
      "text/plain": [
       "   Reference        Distorted        MOS     Directory   Distance\n",
       "0  A0001.bmp  A0001_00_00.bmp  1520.0648  Distortion_1   8.521898\n",
       "1  A0001.bmp  A0001_00_01.bmp  1437.0798  Distortion_1  11.197734\n",
       "2  A0001.bmp  A0001_00_02.bmp  1546.0616  Distortion_1   8.103455\n",
       "3  A0001.bmp  A0001_00_03.bmp  1539.5688  Distortion_1   9.646216\n",
       "4  A0001.bmp  A0001_00_04.bmp  1411.7958  Distortion_1  11.941879"
      ]
     },
     "execution_count": 7,
     "metadata": {},
     "output_type": "execute_result"
    }
   ],
   "source": [
    "results = dst.data.copy()\n",
    "results[\"Distance\"] = metrics_history[\"distance\"]\n",
    "results.head()"
   ]
  },
  {
   "cell_type": "code",
   "execution_count": null,
   "metadata": {},
   "outputs": [],
   "source": [
    "wandb.log({\"PIPAL\": wandb.Table(dataframe=results),\n",
    "           \"PIPAL_pearson\": stats.pearsonr(metrics_history[\"distance\"], metrics_history[\"mos\"])[0],\n",
    "           \"PIPAL_spearman\": stats.spearmanr(metrics_history[\"distance\"], metrics_history[\"mos\"])[0],\n",
    "           })"
   ]
  },
  {
   "cell_type": "code",
   "execution_count": null,
   "metadata": {},
   "outputs": [],
   "source": [
    "wandb.finish()"
   ]
  }
 ],
 "metadata": {
  "kernelspec": {
   "display_name": "testing_gpu",
   "language": "python",
   "name": "python3"
  },
  "language_info": {
   "codemirror_mode": {
    "name": "ipython",
    "version": 3
   },
   "file_extension": ".py",
   "mimetype": "text/x-python",
   "name": "python",
   "nbconvert_exporter": "python",
   "pygments_lexer": "ipython3",
   "version": "3.8.16"
  }
 },
 "nbformat": 4,
 "nbformat_minor": 2
}
