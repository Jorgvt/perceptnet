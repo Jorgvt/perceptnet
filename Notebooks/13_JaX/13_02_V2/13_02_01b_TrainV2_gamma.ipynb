{
 "cells": [
  {
   "cell_type": "code",
   "execution_count": 1,
   "metadata": {},
   "outputs": [],
   "source": [
    "%load_ext autoreload\n",
    "%autoreload 2"
   ]
  },
  {
   "attachments": {},
   "cell_type": "markdown",
   "metadata": {},
   "source": [
    "# IQA tracking params and variables\n",
    "\n",
    "> When using parametric layers we have to be able to keep track of the parameters and the variables of the model (which are not going to be trained). We're going to play with this concept using our implementation of the functional layers."
   ]
  },
  {
   "cell_type": "code",
   "execution_count": 2,
   "metadata": {},
   "outputs": [],
   "source": [
    "# import os; os.environ[\"XLA_PYTHON_CLIENT_MEM_FRACTION\"]=\".99\""
   ]
  },
  {
   "cell_type": "code",
   "execution_count": 34,
   "metadata": {},
   "outputs": [],
   "source": [
    "import os\n",
    "os.environ[\"CUDA_VISIBLE_DEVICES\"] = \"0\"\n",
    "\n",
    "from typing import Any, Callable, Sequence, Union\n",
    "import numpy as np\n",
    "\n",
    "import tensorflow as tf\n",
    "tf.config.set_visible_devices([], device_type='GPU')\n",
    "\n",
    "import jax\n",
    "from jax import lax, random, numpy as jnp\n",
    "from flax.core import freeze, unfreeze, FrozenDict\n",
    "from flax import linen as nn\n",
    "from flax import struct\n",
    "from flax.training import train_state\n",
    "from flax.training import orbax_utils\n",
    "\n",
    "import optax\n",
    "import orbax.checkpoint\n",
    "\n",
    "from clu import metrics\n",
    "from ml_collections import ConfigDict\n",
    "\n",
    "from einops import reduce, rearrange\n",
    "import wandb\n",
    "from iqadatasets.datasets import *\n",
    "from fxlayers.layers import *\n",
    "from fxlayers.layers import GaussianLayerGamma, GaborLayerLogSigma_\n",
    "from fxlayers.initializers import *\n",
    "from JaxPlayground.utils.constraints import *\n",
    "from JaxPlayground.utils.wandb import *"
   ]
  },
  {
   "cell_type": "code",
   "execution_count": 4,
   "metadata": {},
   "outputs": [],
   "source": [
    "# jax.config.update(\"jax_debug_nans\", False)"
   ]
  },
  {
   "cell_type": "markdown",
   "metadata": {},
   "source": [
    "## Load the data\n",
    "\n",
    "> We're going to employ `iqadatasets` to ease the loading of the data."
   ]
  },
  {
   "cell_type": "code",
   "execution_count": 5,
   "metadata": {},
   "outputs": [],
   "source": [
    "# dst_train = TID2008(\"/lustre/ific.uv.es/ml/uv075/Databases/IQA//TID/TID2008/\", exclude_imgs=[25])\n",
    "# dst_val = TID2013(\"/lustre/ific.uv.es/ml/uv075/Databases/IQA//TID/TID2013/\", exclude_imgs=[25])\n",
    "dst_train = TID2008(\"/media/disk/databases/BBDD_video_image/Image_Quality//TID/TID2008/\", exclude_imgs=[25])\n",
    "dst_val = TID2013(\"/media/disk/databases/BBDD_video_image/Image_Quality//TID/TID2013/\", exclude_imgs=[25])"
   ]
  },
  {
   "cell_type": "code",
   "execution_count": 1,
   "metadata": {},
   "outputs": [
    {
     "data": {
      "text/plain": [
       "(TensorShape([384, 512, 3]), TensorShape([384, 512, 3]), TensorShape([]))"
      ]
     },
     "execution_count": 1,
     "metadata": {},
     "output_type": "execute_result"
    }
   ],
   "source": [
    "img, img_dist, mos = next(iter(dst_train.dataset))\n",
    "img.shape, img_dist.shape, mos.shape"
   ]
  },
  {
   "cell_type": "code",
   "execution_count": 2,
   "metadata": {},
   "outputs": [
    {
     "data": {
      "text/plain": [
       "(TensorShape([384, 512, 3]), TensorShape([384, 512, 3]), TensorShape([]))"
      ]
     },
     "execution_count": 2,
     "metadata": {},
     "output_type": "execute_result"
    }
   ],
   "source": [
    "img, img_dist, mos = next(iter(dst_val.dataset))\n",
    "img.shape, img_dist.shape, mos.shape"
   ]
  },
  {
   "cell_type": "code",
   "execution_count": 3,
   "metadata": {},
   "outputs": [
    {
     "data": {
      "text/plain": [
       "BATCH_SIZE: 64\n",
       "EPOCHS: 500\n",
       "GDN_CLIPPING: true\n",
       "LEARNING_RATE: 0.003\n",
       "NORMALIZE_ENERGY: true\n",
       "NORMALIZE_PROB: false\n",
       "N_ORIENTATIONS: 8\n",
       "N_SCALES: 4\n",
       "SEED: 42\n",
       "USE_BIAS: false\n",
       "ZERO_MEAN: true"
      ]
     },
     "execution_count": 3,
     "metadata": {},
     "output_type": "execute_result"
    }
   ],
   "source": [
    "config = {\n",
    "    \"BATCH_SIZE\": 64,\n",
    "    \"EPOCHS\": 500,\n",
    "    \"LEARNING_RATE\": 1e-2,\n",
    "    \"SEED\": 42,\n",
    "    \"GDN_CLIPPING\": True,\n",
    "    \"NORMALIZE_PROB\": False,\n",
    "    \"NORMALIZE_ENERGY\": True,\n",
    "    \"ZERO_MEAN\": True,\n",
    "    \"USE_BIAS\": False,\n",
    "    \"N_SCALES\": 4,\n",
    "    \"N_ORIENTATIONS\": 8,\n",
    "}\n",
    "config = ConfigDict(config)\n",
    "config"
   ]
  },
  {
   "cell_type": "code",
   "execution_count": 4,
   "metadata": {},
   "outputs": [
    {
     "name": "stderr",
     "output_type": "stream",
     "text": [
      "Failed to detect the name of this notebook, you can set it manually with the WANDB_NOTEBOOK_NAME environment variable to enable code saving.\n",
      "wandb: Currently logged in as: jorgvt. Use `wandb login --relogin` to force relogin\n"
     ]
    },
    {
     "data": {
      "text/html": [
       "wandb version 0.15.12 is available!  To upgrade, please run:\n",
       " $ pip install wandb --upgrade"
      ],
      "text/plain": [
       "<IPython.core.display.HTML object>"
      ]
     },
     "metadata": {},
     "output_type": "display_data"
    },
    {
     "data": {
      "text/html": [
       "Tracking run with wandb version 0.15.0"
      ],
      "text/plain": [
       "<IPython.core.display.HTML object>"
      ]
     },
     "metadata": {},
     "output_type": "display_data"
    },
    {
     "data": {
      "text/html": [
       "Run data is saved locally in <code>/media/disk/users/vitojor/perceptnet/Notebooks/13_JaX/13_02_V2/wandb/run-20231026_125751-w7o5ilfk</code>"
      ],
      "text/plain": [
       "<IPython.core.display.HTML object>"
      ]
     },
     "metadata": {},
     "output_type": "display_data"
    },
    {
     "data": {
      "text/html": [
       "Syncing run <strong><a href='https://wandb.ai/jorgvt/PerceptNet_JaX/runs/w7o5ilfk' target=\"_blank\">V2_Init</a></strong> to <a href='https://wandb.ai/jorgvt/PerceptNet_JaX' target=\"_blank\">Weights & Biases</a> (<a href='https://wandb.me/run' target=\"_blank\">docs</a>)<br/>"
      ],
      "text/plain": [
       "<IPython.core.display.HTML object>"
      ]
     },
     "metadata": {},
     "output_type": "display_data"
    },
    {
     "data": {
      "text/html": [
       " View project at <a href='https://wandb.ai/jorgvt/PerceptNet_JaX' target=\"_blank\">https://wandb.ai/jorgvt/PerceptNet_JaX</a>"
      ],
      "text/plain": [
       "<IPython.core.display.HTML object>"
      ]
     },
     "metadata": {},
     "output_type": "display_data"
    },
    {
     "data": {
      "text/html": [
       " View run at <a href='https://wandb.ai/jorgvt/PerceptNet_JaX/runs/w7o5ilfk' target=\"_blank\">https://wandb.ai/jorgvt/PerceptNet_JaX/runs/w7o5ilfk</a>"
      ],
      "text/plain": [
       "<IPython.core.display.HTML object>"
      ]
     },
     "metadata": {},
     "output_type": "display_data"
    },
    {
     "data": {
      "text/plain": [
       "BATCH_SIZE: 64\n",
       "EPOCHS: 500\n",
       "GDN_CLIPPING: true\n",
       "LEARNING_RATE: 0.003\n",
       "NORMALIZE_ENERGY: true\n",
       "NORMALIZE_PROB: false\n",
       "N_ORIENTATIONS: 8\n",
       "N_SCALES: 4\n",
       "SEED: 42\n",
       "USE_BIAS: false\n",
       "ZERO_MEAN: true"
      ]
     },
     "execution_count": 4,
     "metadata": {},
     "output_type": "execute_result"
    }
   ],
   "source": [
    "wandb.init(project=\"PerceptNet_JaX\",\n",
    "           name=\"V2_Init\",\n",
    "           job_type=\"training\",\n",
    "           config=config,\n",
    "           mode=\"online\",\n",
    "           )\n",
    "config = config\n",
    "config"
   ]
  },
  {
   "cell_type": "code",
   "execution_count": 10,
   "metadata": {},
   "outputs": [],
   "source": [
    "dst_train_rdy = dst_train.dataset.shuffle(buffer_size=100,\n",
    "                                      reshuffle_each_iteration=True,\n",
    "                                      seed=config.SEED)\\\n",
    "                                 .batch(config.BATCH_SIZE, drop_remainder=True)\n",
    "dst_val_rdy = dst_val.dataset.batch(config.BATCH_SIZE, drop_remainder=True)"
   ]
  },
  {
   "attachments": {},
   "cell_type": "markdown",
   "metadata": {},
   "source": [
    "## Define the model we're going to use\n",
    "\n",
    "> It's going to be a very simple model just for demonstration purposes."
   ]
  },
  {
   "cell_type": "code",
   "execution_count": 11,
   "metadata": {},
   "outputs": [],
   "source": [
    "#| export\n",
    "class GDNGaussianStarRunning(nn.Module):\n",
    "    \"\"\"GDN variation where x^* is obtained as a running mean of the previously obtained values.\"\"\"\n",
    "\n",
    "    kernel_size: int\n",
    "    inputs_star: float = 1.\n",
    "    outputs_star: Union[None, float] = None\n",
    "    fs: int = 1\n",
    "    apply_independently: bool = False\n",
    "    alpha: float = 2.\n",
    "    epsilon: float = 1/2\n",
    "    bias_init: Callable = nn.initializers.ones_init()\n",
    "\n",
    "    @nn.compact\n",
    "    def __call__(self,\n",
    "                 inputs,\n",
    "                 train=False,\n",
    "                 **kwargs,\n",
    "                 ):\n",
    "        # inputs_sign = jnp.sign(inputs)\n",
    "        # inputs = jnp.abs(inputs)\n",
    "        is_initialized = self.has_variable(\"batch_stats\", \"inputs_star\")\n",
    "        # inputs_star = self.variable(\"batch_stats\", \"inputs_star\", lambda x: x, jnp.quantile(inputs, q=0.95))\n",
    "        inputs_star = self.variable(\"batch_stats\", \"inputs_star\", lambda x: jnp.ones(x)*self.inputs_star, (1,))\n",
    "        if is_initialized and train:\n",
    "            inputs_star.value = (inputs_star.value + jnp.quantile(jnp.abs(inputs), q=0.95))/2\n",
    "        H = GaussianLayerGamma(features=inputs.shape[-1], kernel_size=self.kernel_size, use_bias=True, fs=self.fs, xmean=self.kernel_size/self.fs/2, ymean=self.kernel_size/self.fs/2, bias_init=self.bias_init, normalize_prob=config.NORMALIZE_PROB, normalize_energy=config.NORMALIZE_ENERGY)\n",
    "        inputs_star_ = jnp.ones_like(inputs)*inputs_star.value\n",
    "        denom = jnp.clip(H(inputs**self.alpha, train=train), a_min=1e-5)**self.epsilon\n",
    "        coef = (jnp.clip(H(inputs_star_**self.alpha, train=train), a_min=1e-5)**self.epsilon)#/inputs_star_\n",
    "        if self.outputs_star is not None: coef = coef/inputs_star.value*self.outputs_star\n",
    "        \n",
    "        return coef*inputs/denom"
   ]
  },
  {
   "cell_type": "code",
   "execution_count": 12,
   "metadata": {},
   "outputs": [],
   "source": [
    "class GDNSpatioFreqOrient(nn.Module):\n",
    "    \"\"\"Generalized Divisive Normalization.\"\"\"\n",
    "    kernel_size: Union[int, Sequence[int]]\n",
    "    strides: int = 1\n",
    "    padding: str = \"SAME\"\n",
    "    inputs_star: float = 1.\n",
    "    outputs_star: Union[None, float] = None\n",
    "    fs: int = 1\n",
    "    apply_independently: bool = False\n",
    "    bias_init: Callable = nn.initializers.ones_init()\n",
    "    alpha: float = 2.\n",
    "    epsilon: float = 1/2 # Exponential of the denominator\n",
    "    eps: float = 1e-6 # Numerical stability in the denominator\n",
    "\n",
    "    @nn.compact\n",
    "    def __call__(self,\n",
    "                 inputs,\n",
    "                 fmean,\n",
    "                 theta_mean,\n",
    "                 train=False,\n",
    "                 ):\n",
    "        b, h, w, c = inputs.shape\n",
    "        bias = self.param(\"bias\",\n",
    "                          #equal_to(inputs_star/10),\n",
    "                          self.bias_init,\n",
    "                          (c,))\n",
    "        is_initialized = self.has_variable(\"batch_stats\", \"inputs_star\")\n",
    "        inputs_star = self.variable(\"batch_stats\", \"inputs_star\", lambda x: jnp.ones(x)*self.inputs_star, (len(self.inputs_star),))\n",
    "        inputs_star_ = jnp.ones_like(inputs)*inputs_star.value\n",
    "        GL = GaussianLayerGamma(features=c, kernel_size=self.kernel_size, strides=self.strides, padding=self.padding, fs=self.fs, xmean=self.kernel_size/self.fs/2, ymean=self.kernel_size/self.fs/2, normalize_prob=config.NORMALIZE_PROB, normalize_energy=config.NORMALIZE_ENERGY, use_bias=False, feature_group_count=c)\n",
    "        FG = FreqGaussian()\n",
    "        OG = OrientGaussian()\n",
    "        outputs = GL(inputs**self.alpha, train=train)#/(self.kernel_size**2)\n",
    "        outputs = FG(outputs, fmean=fmean)\n",
    "        ## Reshape so that the orientations are the innermost dimmension\n",
    "        outputs = rearrange(outputs, \"b h w (phase theta f) -> b h w (phase f theta)\", b=b, h=h, w=w, phase=2, f=config.N_SCALES, theta=config.N_ORIENTATIONS)\n",
    "        outputs = OG(outputs, theta_mean=theta_mean)\n",
    "        ## Recover original disposition\n",
    "        denom = rearrange(outputs, \"b h w (phase f theta) -> b h w (phase theta f)\", b=b, h=h, w=w, phase=2, f=config.N_SCALES, theta=config.N_ORIENTATIONS)\n",
    "\n",
    "        ## Coef\n",
    "        coef = GL(inputs_star_**self.alpha, train=train)#/(self.kernel_size**2)\n",
    "        coef = FG(coef, fmean=fmean)\n",
    "        coef = rearrange(coef, \"b h w (phase theta f) -> b h w (phase f theta)\", b=b, h=h, w=w, phase=2, f=config.N_SCALES, theta=config.N_ORIENTATIONS)\n",
    "        coef = OG(coef, theta_mean=theta_mean) + bias\n",
    "        coef = rearrange(coef, \"b h w (phase f theta) -> b h w (phase theta f)\", b=b, h=h, w=w, phase=2, f=config.N_SCALES, theta=config.N_ORIENTATIONS)\n",
    "        coef = jnp.clip(coef+bias, a_min=1e-5)**self.epsilon\n",
    "        # coef = inputs_star.value * coef\n",
    "        if self.outputs_star is not None: coef = coef/inputs_star.value*self.outputs_star\n",
    "\n",
    "        if is_initialized and train:\n",
    "            inputs_star.value = (inputs_star.value + jnp.quantile(jnp.abs(inputs), q=0.95, axis=(0,1,2)))/2\n",
    "        return coef * inputs / (jnp.clip(denom+bias, a_min=1e-5)**self.epsilon + self.eps)"
   ]
  },
  {
   "cell_type": "code",
   "execution_count": 13,
   "metadata": {},
   "outputs": [],
   "source": [
    "from pickle import load\n",
    "with open(\"gabor_x_star.pkl\", \"rb\") as f:\n",
    "    gabor_x_star = load(f)"
   ]
  },
  {
   "cell_type": "code",
   "execution_count": 35,
   "metadata": {},
   "outputs": [],
   "source": [
    "class PerceptNet(nn.Module):\n",
    "    \"\"\"IQA model inspired by the visual system.\"\"\"\n",
    "\n",
    "    @nn.compact\n",
    "    def __call__(self,\n",
    "                 inputs, # Assuming fs = 128 (cpd)\n",
    "                 **kwargs,\n",
    "                 ):\n",
    "        ## (Independent) Color equilibration (Gamma correction)\n",
    "        ## bias = 0.1 / kernel = 0.5\n",
    "        outputs = GDNStarSign(kernel_size=(1,1), apply_independently=True, inputs_star=1.)(inputs)\n",
    "        \n",
    "        ## ATD Transformation\n",
    "        outputs = JamesonHurvich()(outputs)\n",
    "        outputs = nn.max_pool(outputs, window_shape=(2,2), strides=(2,2))\n",
    "        \n",
    "        ## GDN Star A - T - D [Separated]\n",
    "        ### A\n",
    "        outputs0 = GDNStarSign(kernel_size=(1,1), apply_independently=True, inputs_star=170.)(outputs[:,:,:,0:1])\n",
    "        ### T\n",
    "        outputs1 = GDNStarDisplacement(kernel_size=(1,1), apply_independently=True, inputs_star=55.)(outputs[:,:,:,1:2])\n",
    "        outputs1 = outputs1*(2*55/170)\n",
    "        ### D\n",
    "        outputs2 = GDNStarDisplacement(kernel_size=(1,1), apply_independently=True, inputs_star=55.)(outputs[:,:,:,2:3])\n",
    "        outputs2 = outputs2*(2*55/170)\n",
    "        ### Put them back together\n",
    "        outputs = jnp.concatenate([outputs0, outputs1, outputs2], axis=-1)\n",
    "\n",
    "        ## Apply CSF on Fourier\n",
    "        outputs = CSFFourier(fs=64, norm_energy=True)(outputs)\n",
    "        outputs = nn.max_pool(outputs, window_shape=(2,2), strides=(2,2))\n",
    "\n",
    "        ## GDN per channel with mean substraction in T and D (Spatial Gaussian Kernel)\n",
    "        ## TO-DO: - Spatial Gaussian Kernel (0.02 deg) -> fs = 64/2 & 0.02*64/2 = sigma (px) = 0.69\n",
    "        ### A\n",
    "        ### (384/4, 512/4, 1)\n",
    "        ### fs = 32 / kernel_size = (11,11) -> 0.32 > 0.02 --> OK!\n",
    "        outputs0 = GDNGaussianStarRunning(kernel_size=11, apply_independently=True, bias_init=equal_to([0.1]), inputs_star=0.3, outputs_star=None, fs=32)(outputs[:,:,:,0:1], **kwargs)\n",
    "        ### T\n",
    "        outputs1 = GDNGaussianStarRunning(kernel_size=11, apply_independently=True, bias_init=equal_to([0.01**2]), inputs_star=0.06, outputs_star=None, fs=32)(outputs[:,:,:,1:2], **kwargs)\n",
    "        ### D\n",
    "        outputs2 = GDNGaussianStarRunning(kernel_size=11, apply_independently=True, bias_init=equal_to([0.01**2]), inputs_star=0.08, outputs_star=None, fs=32)(outputs[:,:,:,2:3], **kwargs)\n",
    "        ### Put them back together\n",
    "        outputs = jnp.concatenate([outputs0, outputs1, outputs2], axis=-1)\n",
    "\n",
    "        ## GaborLayer per channel with GDN mixing only same-origin-channel information\n",
    "        ### A\n",
    "        outputs0, fmean, theta_mean = GaborLayerLogSigma_(n_scales=config.N_SCALES, n_orientations=config.N_ORIENTATIONS, kernel_size=32, fs=32, strides=1, padding=\"SAME\", normalize_prob=config.NORMALIZE_PROB, normalize_energy=config.NORMALIZE_ENERGY, zero_mean=config.ZERO_MEAN, use_bias=config.USE_BIAS)(outputs[:,:,:,0:1], return_freq=True, return_theta=True, **kwargs)\n",
    "        ### [Gaussian] sigma = 0.2 (deg) fs = 32 / kernel_size = (21,21) -> 21/32 = 0.66 --> OK!\n",
    "        outputs0 = GDNSpatioFreqOrient(kernel_size=21, strides=1, padding=\"SAME\", fs=32, apply_independently=False, inputs_star=gabor_x_star[\"A\"])(outputs0, fmean=fmean, theta_mean=theta_mean, **kwargs)\n",
    "        ### T\n",
    "        outputs1, fmean, theta_mean = GaborLayerLogSigma_(n_scales=config.N_SCALES, n_orientations=config.N_ORIENTATIONS, kernel_size=32, fs=32, strides=1, padding=\"SAME\", normalize_prob=config.NORMALIZE_PROB, normalize_energy=config.NORMALIZE_ENERGY, zero_mean=config.ZERO_MEAN, use_bias=config.USE_BIAS)(outputs[:,:,:,1:2], return_freq=True, return_theta=True, **kwargs)\n",
    "        ### [Gaussian] sigma = 0.2 (deg) fs = 32 / kernel_size = (21,21) -> 21/32 = 0.66 --> OK!\n",
    "        outputs1 = GDNSpatioFreqOrient(kernel_size=21, strides=1, padding=\"SAME\", fs=32, apply_independently=False, inputs_star=gabor_x_star[\"T\"])(outputs1, fmean=fmean, theta_mean=theta_mean, **kwargs)\n",
    "        ### D\n",
    "        outputs2, fmean, theta_mean = GaborLayerLogSigma_(n_scales=config.N_SCALES, n_orientations=config.N_ORIENTATIONS, kernel_size=32, fs=32, strides=1, padding=\"SAME\", normalize_prob=config.NORMALIZE_PROB, normalize_energy=config.NORMALIZE_ENERGY, zero_mean=config.ZERO_MEAN, use_bias=config.USE_BIAS)(outputs[:,:,:,2:3], return_freq=True, return_theta=True, **kwargs)\n",
    "        ### [Gaussian] sigma = 0.2 (deg) fs = 32 / kernel_size = (21,21) -> 21/32 = 0.66 --> OK!\n",
    "        outputs2 = GDNSpatioFreqOrient(kernel_size=21, strides=1, padding=\"SAME\", fs=32, apply_independently=False, inputs_star=gabor_x_star[\"D\"])(outputs2, fmean=fmean, theta_mean=theta_mean, **kwargs)\n",
    "\n",
    "        ## Put them back together\n",
    "        outputs = jnp.concatenate([outputs0, outputs1, outputs2], axis=-1)\n",
    "        \n",
    "        return outputs"
   ]
  },
  {
   "attachments": {},
   "cell_type": "markdown",
   "metadata": {},
   "source": [
    "## Define the metrics with `clu`"
   ]
  },
  {
   "cell_type": "code",
   "execution_count": 36,
   "metadata": {},
   "outputs": [],
   "source": [
    "@struct.dataclass\n",
    "class Metrics(metrics.Collection):\n",
    "    \"\"\"Collection of metrics to be tracked during training.\"\"\"\n",
    "    loss: metrics.Average.from_output(\"loss\")"
   ]
  },
  {
   "attachments": {},
   "cell_type": "markdown",
   "metadata": {},
   "source": [
    "By default, `TrainState` doesn't include metrics, but it's very easy to subclass it so that it does:"
   ]
  },
  {
   "cell_type": "code",
   "execution_count": 37,
   "metadata": {},
   "outputs": [],
   "source": [
    "class TrainState(train_state.TrainState):\n",
    "    metrics: Metrics\n",
    "    state: FrozenDict"
   ]
  },
  {
   "attachments": {},
   "cell_type": "markdown",
   "metadata": {},
   "source": [
    "We'll define a function that initializes the `TrainState` from a module, a rng key and some optimizer:"
   ]
  },
  {
   "cell_type": "code",
   "execution_count": 38,
   "metadata": {},
   "outputs": [],
   "source": [
    "def create_train_state(module, key, tx, input_shape):\n",
    "    \"\"\"Creates the initial `TrainState`.\"\"\"\n",
    "    variables = module.init(key, jnp.ones(input_shape))\n",
    "    state, params = variables.pop('params')\n",
    "    return TrainState.create(\n",
    "        apply_fn=module.apply,\n",
    "        params=params,\n",
    "        state=state,\n",
    "        tx=tx,\n",
    "        metrics=Metrics.empty()\n",
    "    )"
   ]
  },
  {
   "attachments": {},
   "cell_type": "markdown",
   "metadata": {},
   "source": [
    "## Defining the training step\n",
    "\n",
    "> We want to write a function that takes the `TrainState` and a batch of data can performs an optimization step."
   ]
  },
  {
   "cell_type": "code",
   "execution_count": 39,
   "metadata": {},
   "outputs": [],
   "source": [
    "def pearson_correlation(vec1, vec2):\n",
    "    vec1 = vec1.squeeze()\n",
    "    vec2 = vec2.squeeze()\n",
    "    vec1_mean = vec1.mean()\n",
    "    vec2_mean = vec2.mean()\n",
    "    num = vec1-vec1_mean\n",
    "    num *= vec2-vec2_mean\n",
    "    num = num.sum()\n",
    "    denom = jnp.sqrt(jnp.sum((vec1-vec1_mean)**2))\n",
    "    denom *= jnp.sqrt(jnp.sum((vec2-vec2_mean)**2))\n",
    "    return num/denom"
   ]
  },
  {
   "cell_type": "code",
   "execution_count": 40,
   "metadata": {},
   "outputs": [],
   "source": [
    "@jax.jit\n",
    "def train_step(state, batch):\n",
    "    \"\"\"Train for a single step.\"\"\"\n",
    "    img, img_dist, mos = batch\n",
    "    def loss_fn(params):\n",
    "        ## Forward pass through the model\n",
    "        img_pred, updated_state = state.apply_fn({\"params\": params, **state.state}, img, mutable=list(state.state.keys()), train=True)\n",
    "        img_dist_pred, updated_state = state.apply_fn({\"params\": params, **state.state}, img_dist, mutable=list(state.state.keys()), train=True)\n",
    "\n",
    "        ## Calculate the distance\n",
    "        dist = ((img_pred - img_dist_pred)**2).sum(axis=(1,2,3))**(1/2)\n",
    "        \n",
    "        ## Calculate pearson correlation\n",
    "        return pearson_correlation(dist, mos), updated_state\n",
    "    \n",
    "    (loss, updated_state), grads = jax.value_and_grad(loss_fn, has_aux=True)(state.params)\n",
    "    state = state.apply_gradients(grads=grads)\n",
    "    metrics_updates = state.metrics.single_from_model_output(loss=loss)\n",
    "    metrics = state.metrics.merge(metrics_updates)\n",
    "    state = state.replace(metrics=metrics)\n",
    "    state = state.replace(state=updated_state)\n",
    "    return state"
   ]
  },
  {
   "attachments": {},
   "cell_type": "markdown",
   "metadata": {},
   "source": [
    "In their example, they don't calculate the metrics at the same time. I think it is kind of a waste because it means having to perform a new forward pass, but we'll follow as of now. Let's define a function to perform metric calculation:"
   ]
  },
  {
   "cell_type": "code",
   "execution_count": 41,
   "metadata": {},
   "outputs": [],
   "source": [
    "@jax.jit\n",
    "def compute_metrics(*, state, batch):\n",
    "    \"\"\"Obtaining the metrics for a given batch.\"\"\"\n",
    "    img, img_dist, mos = batch\n",
    "    def loss_fn(params):\n",
    "        ## Forward pass through the model\n",
    "        img_pred, updated_state = state.apply_fn({\"params\": params, **state.state}, img, mutable=list(state.state.keys()), train=False)\n",
    "        img_dist_pred, updated_state = state.apply_fn({\"params\": params, **state.state}, img_dist, mutable=list(state.state.keys()), train=False)\n",
    "\n",
    "        ## Calculate the distance\n",
    "        dist = ((img_pred - img_dist_pred)**2).sum(axis=(1,2,3))**(1/2)\n",
    "        \n",
    "        ## Calculate pearson correlation\n",
    "        return pearson_correlation(dist, mos)\n",
    "    \n",
    "    metrics_updates = state.metrics.single_from_model_output(loss=loss_fn(state.params))\n",
    "    metrics = state.metrics.merge(metrics_updates)\n",
    "    state = state.replace(metrics=metrics)\n",
    "    return state"
   ]
  },
  {
   "attachments": {},
   "cell_type": "markdown",
   "metadata": {},
   "source": [
    "## Train the model!"
   ]
  },
  {
   "cell_type": "code",
   "execution_count": 42,
   "metadata": {},
   "outputs": [],
   "source": [
    "state = create_train_state(PerceptNet(), random.PRNGKey(config.SEED), optax.adam(config.LEARNING_RATE), input_shape=(1,384,512,3))\n",
    "state = state.replace(params=clip_layer(state.params, \"GDN\", a_min=0))"
   ]
  },
  {
   "cell_type": "code",
   "execution_count": 5,
   "metadata": {},
   "outputs": [
    {
     "data": {
      "text/plain": [
       "724"
      ]
     },
     "execution_count": 5,
     "metadata": {},
     "output_type": "execute_result"
    }
   ],
   "source": [
    "param_count = sum(x.size for x in jax.tree_util.tree_leaves(state.params))\n",
    "param_count"
   ]
  },
  {
   "cell_type": "code",
   "execution_count": 44,
   "metadata": {},
   "outputs": [],
   "source": [
    "wandb.run.summary[\"trainable_parameters\"] = param_count"
   ]
  },
  {
   "cell_type": "code",
   "execution_count": 45,
   "metadata": {},
   "outputs": [],
   "source": [
    "state = state.replace(params=unfreeze(state.params))\n",
    "\n",
    "## DN 0\n",
    "state.params[\"GDNStarSign_0\"][\"Conv_0\"][\"bias\"] = jnp.ones_like(state.params[\"GDNStarSign_0\"][\"Conv_0\"][\"bias\"])*0.1\n",
    "state.params[\"GDNStarSign_0\"][\"Conv_0\"][\"kernel\"] = jnp.ones_like(state.params[\"GDNStarSign_0\"][\"Conv_0\"][\"kernel\"])*0.5\n",
    "\n",
    "## DN J&H\n",
    "state.params[\"GDNStarSign_1\"][\"Conv_0\"][\"bias\"] = jnp.ones_like(state.params[\"GDNStarSign_1\"][\"Conv_0\"][\"bias\"])*30.**2\n",
    "state.params[\"GDNStarSign_1\"][\"Conv_0\"][\"kernel\"] = jnp.ones_like(state.params[\"GDNStarSign_1\"][\"Conv_0\"][\"kernel\"])*0.5\n",
    "\n",
    "state.params[\"GDNStarDisplacement_0\"][\"Conv_0\"][\"bias\"] = jnp.ones_like(state.params[\"GDNStarDisplacement_0\"][\"Conv_0\"][\"bias\"])*10.**2\n",
    "state.params[\"GDNStarDisplacement_0\"][\"Conv_0\"][\"kernel\"] = jnp.ones_like(state.params[\"GDNStarDisplacement_0\"][\"Conv_0\"][\"kernel\"])*0.5\n",
    "\n",
    "state.params[\"GDNStarDisplacement_1\"][\"Conv_0\"][\"bias\"] = jnp.ones_like(state.params[\"GDNStarDisplacement_1\"][\"Conv_0\"][\"bias\"])*10.**2\n",
    "state.params[\"GDNStarDisplacement_1\"][\"Conv_0\"][\"kernel\"] = jnp.ones_like(state.params[\"GDNStarDisplacement_1\"][\"Conv_0\"][\"kernel\"])*0.5\n",
    "\n",
    "state.params[\"GDNGaussianStarRunning_0\"][\"GaussianLayerGamma_0\"][\"gamma\"] = 1./jnp.ones_like(state.params[\"GDNGaussianStarRunning_0\"][\"GaussianLayerGamma_0\"][\"gamma\"])*0.04\n",
    "state.params[\"GDNGaussianStarRunning_1\"][\"GaussianLayerGamma_0\"][\"gamma\"] = 1./jnp.ones_like(state.params[\"GDNGaussianStarRunning_1\"][\"GaussianLayerGamma_0\"][\"gamma\"])*0.04\n",
    "state.params[\"GDNGaussianStarRunning_2\"][\"GaussianLayerGamma_0\"][\"gamma\"] = 1./jnp.ones_like(state.params[\"GDNGaussianStarRunning_2\"][\"GaussianLayerGamma_0\"][\"gamma\"])*0.04\n",
    "\n",
    "state.params[\"GDNSpatioFreqOrient_0\"][\"GaussianLayerGamma_0\"][\"gamma\"] = 1./jnp.ones_like(state.params[\"GDNSpatioFreqOrient_0\"][\"GaussianLayerGamma_0\"][\"gamma\"])*0.1\n",
    "state.params[\"GDNSpatioFreqOrient_1\"][\"GaussianLayerGamma_0\"][\"gamma\"] = 1./jnp.ones_like(state.params[\"GDNSpatioFreqOrient_1\"][\"GaussianLayerGamma_0\"][\"gamma\"])*0.1\n",
    "state.params[\"GDNSpatioFreqOrient_2\"][\"GaussianLayerGamma_0\"][\"gamma\"] = 1./jnp.ones_like(state.params[\"GDNSpatioFreqOrient_2\"][\"GaussianLayerGamma_0\"][\"gamma\"])*0.1\n",
    "\n",
    "state.params[\"GDNSpatioFreqOrient_0\"][\"OrientGaussian_0\"][\"sigma\"] = jnp.ones_like(state.params[\"GDNSpatioFreqOrient_0\"][\"OrientGaussian_0\"][\"sigma\"])*20\n",
    "state.params[\"GDNSpatioFreqOrient_1\"][\"OrientGaussian_0\"][\"sigma\"] = jnp.ones_like(state.params[\"GDNSpatioFreqOrient_1\"][\"OrientGaussian_0\"][\"sigma\"])*20\n",
    "state.params[\"GDNSpatioFreqOrient_2\"][\"OrientGaussian_0\"][\"sigma\"] = jnp.ones_like(state.params[\"GDNSpatioFreqOrient_2\"][\"OrientGaussian_0\"][\"sigma\"])*20\n",
    "\n",
    "state.params[\"GDNSpatioFreqOrient_0\"][\"bias\"] = jnp.tile(jnp.array([0.001, 0.002, 0.0035, 0.001])/100, reps=config.N_ORIENTATIONS*2)\n",
    "state.params[\"GDNSpatioFreqOrient_1\"][\"bias\"] = jnp.tile(jnp.array([0.001, 0.002, 0.0035, 0.001])/100, reps=config.N_ORIENTATIONS*2)\n",
    "state.params[\"GDNSpatioFreqOrient_2\"][\"bias\"] = jnp.tile(jnp.array([0.001, 0.002, 0.0035, 0.001])/100, reps=config.N_ORIENTATIONS*2)\n",
    "\n",
    "\n",
    "state = state.replace(params=freeze(state.params))"
   ]
  },
  {
   "cell_type": "markdown",
   "metadata": {},
   "source": [
    "Before actually training the model we're going to set up the checkpointer to be able to save our trained models:"
   ]
  },
  {
   "cell_type": "code",
   "execution_count": 46,
   "metadata": {},
   "outputs": [],
   "source": [
    "orbax_checkpointer = orbax.checkpoint.PyTreeCheckpointer()\n",
    "save_args = orbax_utils.save_args_from_target(state)"
   ]
  },
  {
   "cell_type": "code",
   "execution_count": 47,
   "metadata": {},
   "outputs": [],
   "source": [
    "metrics_history = {\n",
    "    \"train_loss\": [],\n",
    "    \"val_loss\": [],\n",
    "}"
   ]
  },
  {
   "cell_type": "code",
   "execution_count": 48,
   "metadata": {},
   "outputs": [],
   "source": [
    "batch = next(iter(dst_train_rdy.as_numpy_iterator()))"
   ]
  },
  {
   "cell_type": "code",
   "execution_count": 49,
   "metadata": {},
   "outputs": [],
   "source": [
    "from functools import partial"
   ]
  },
  {
   "cell_type": "code",
   "execution_count": 50,
   "metadata": {},
   "outputs": [],
   "source": [
    "@jax.jit\n",
    "def forward(state, inputs):\n",
    "    return state.apply_fn({\"params\": state.params, **state.state}, inputs, train=False)"
   ]
  },
  {
   "cell_type": "code",
   "execution_count": 6,
   "metadata": {},
   "outputs": [
    {
     "name": "stdout",
     "output_type": "stream",
     "text": [
      "CPU times: user 24.7 s, sys: 3.85 s, total: 28.5 s\n",
      "Wall time: 19.9 s\n"
     ]
    },
    {
     "data": {
      "text/plain": [
       "(64, 96, 128, 192)"
      ]
     },
     "execution_count": 6,
     "metadata": {},
     "output_type": "execute_result"
    }
   ],
   "source": [
    "%%time\n",
    "outputs = forward(state, batch[0])\n",
    "outputs.shape"
   ]
  },
  {
   "cell_type": "code",
   "execution_count": 52,
   "metadata": {},
   "outputs": [
    {
     "name": "stdout",
     "output_type": "stream",
     "text": [
      "CPU times: user 3min 50s, sys: 8.33 s, total: 3min 58s\n",
      "Wall time: 2min 59s\n"
     ]
    }
   ],
   "source": [
    "%%time\n",
    "s1 = train_step(state, batch)"
   ]
  },
  {
   "cell_type": "code",
   "execution_count": 53,
   "metadata": {},
   "outputs": [],
   "source": [
    "jax.config.update(\"jax_debug_nans\", True)"
   ]
  },
  {
   "cell_type": "code",
   "execution_count": 54,
   "metadata": {},
   "outputs": [
    {
     "name": "stdout",
     "output_type": "stream",
     "text": [
      "Epoch 0 -> [Train] Loss: -0.4709974527359009 [Val] Loss: -0.6481537222862244\n",
      "Epoch 1 -> [Train] Loss: -0.5274412631988525 [Val] Loss: -0.6876970529556274\n",
      "Epoch 2 -> [Train] Loss: -0.545019805431366 [Val] Loss: -0.7071837782859802\n",
      "Epoch 3 -> [Train] Loss: -0.5749097466468811 [Val] Loss: -0.7191781997680664\n",
      "Epoch 4 -> [Train] Loss: -0.5880201458930969 [Val] Loss: -0.7337276339530945\n",
      "Epoch 5 -> [Train] Loss: -0.6106704473495483 [Val] Loss: -0.7493707537651062\n",
      "Epoch 6 -> [Train] Loss: -0.6498467922210693 [Val] Loss: -0.7601799368858337\n",
      "Epoch 7 -> [Train] Loss: -0.6708601117134094 [Val] Loss: -0.7768542170524597\n",
      "Epoch 8 -> [Train] Loss: -0.6921920776367188 [Val] Loss: -0.7999039888381958\n",
      "Epoch 9 -> [Train] Loss: -0.7288123965263367 [Val] Loss: -0.8178932666778564\n",
      "Epoch 10 -> [Train] Loss: -0.7661488652229309 [Val] Loss: -0.8302049040794373\n",
      "Epoch 11 -> [Train] Loss: -0.771006166934967 [Val] Loss: -0.8331816792488098\n",
      "Epoch 12 -> [Train] Loss: -0.7842068076133728 [Val] Loss: -0.8366543650627136\n",
      "Epoch 13 -> [Train] Loss: -0.7858646512031555 [Val] Loss: -0.8362245559692383\n",
      "Epoch 14 -> [Train] Loss: -0.7908995747566223 [Val] Loss: -0.8384609818458557\n",
      "Epoch 15 -> [Train] Loss: -0.7953593134880066 [Val] Loss: -0.8392373919487\n",
      "Epoch 16 -> [Train] Loss: -0.7922037243843079 [Val] Loss: -0.840093195438385\n",
      "Epoch 17 -> [Train] Loss: -0.7972974181175232 [Val] Loss: -0.8406053781509399\n",
      "Epoch 18 -> [Train] Loss: -0.8017654418945312 [Val] Loss: -0.8422999978065491\n",
      "Epoch 19 -> [Train] Loss: -0.797514796257019 [Val] Loss: -0.8438684344291687\n",
      "Epoch 20 -> [Train] Loss: -0.8011351823806763 [Val] Loss: -0.8430681824684143\n",
      "Epoch 21 -> [Train] Loss: -0.8040100932121277 [Val] Loss: -0.8440071940422058\n",
      "Epoch 22 -> [Train] Loss: -0.8082334995269775 [Val] Loss: -0.8449918031692505\n",
      "Epoch 23 -> [Train] Loss: -0.8056626915931702 [Val] Loss: -0.8443693518638611\n",
      "Epoch 24 -> [Train] Loss: -0.813322901725769 [Val] Loss: -0.8461986184120178\n",
      "Epoch 25 -> [Train] Loss: -0.8092547655105591 [Val] Loss: -0.8460696935653687\n",
      "Epoch 26 -> [Train] Loss: -0.8119987845420837 [Val] Loss: -0.8472167253494263\n",
      "Epoch 27 -> [Train] Loss: -0.8135882616043091 [Val] Loss: -0.8469561338424683\n",
      "Epoch 28 -> [Train] Loss: -0.8185527324676514 [Val] Loss: -0.8483971953392029\n",
      "Epoch 29 -> [Train] Loss: -0.8159959316253662 [Val] Loss: -0.850139319896698\n",
      "Epoch 30 -> [Train] Loss: -0.8185346126556396 [Val] Loss: -0.8505772352218628\n",
      "Epoch 31 -> [Train] Loss: -0.8200898766517639 [Val] Loss: -0.8527297377586365\n",
      "Epoch 32 -> [Train] Loss: -0.8177280426025391 [Val] Loss: -0.8522804379463196\n",
      "Epoch 33 -> [Train] Loss: -0.8204829096794128 [Val] Loss: -0.8527679443359375\n",
      "Epoch 34 -> [Train] Loss: -0.8225268125534058 [Val] Loss: -0.8523424863815308\n",
      "Epoch 35 -> [Train] Loss: -0.8312315940856934 [Val] Loss: -0.8538522720336914\n",
      "Epoch 36 -> [Train] Loss: -0.8281940817832947 [Val] Loss: -0.8536632061004639\n",
      "Epoch 37 -> [Train] Loss: -0.8280367255210876 [Val] Loss: -0.853583812713623\n",
      "Epoch 38 -> [Train] Loss: -0.82860267162323 [Val] Loss: -0.8549855947494507\n",
      "Epoch 39 -> [Train] Loss: -0.8244307041168213 [Val] Loss: -0.8460559844970703\n",
      "Epoch 40 -> [Train] Loss: -0.8191953301429749 [Val] Loss: -0.8551129698753357\n",
      "Epoch 41 -> [Train] Loss: -0.8323631286621094 [Val] Loss: -0.8557947874069214\n",
      "Epoch 42 -> [Train] Loss: -0.8326202034950256 [Val] Loss: -0.8559653759002686\n",
      "Epoch 43 -> [Train] Loss: -0.8315137028694153 [Val] Loss: -0.8567977547645569\n",
      "Epoch 44 -> [Train] Loss: -0.8188817501068115 [Val] Loss: -0.8467404842376709\n",
      "Epoch 45 -> [Train] Loss: -0.8212774395942688 [Val] Loss: -0.8530367016792297\n",
      "Epoch 46 -> [Train] Loss: -0.8320991396903992 [Val] Loss: -0.8550520539283752\n",
      "Epoch 47 -> [Train] Loss: -0.8301580548286438 [Val] Loss: -0.8569121956825256\n",
      "Epoch 48 -> [Train] Loss: -0.8340328931808472 [Val] Loss: -0.8575959205627441\n",
      "Epoch 49 -> [Train] Loss: -0.838009774684906 [Val] Loss: -0.85811448097229\n",
      "Epoch 50 -> [Train] Loss: -0.8307844400405884 [Val] Loss: -0.8568681478500366\n",
      "Epoch 51 -> [Train] Loss: -0.837005615234375 [Val] Loss: -0.858081579208374\n",
      "Epoch 52 -> [Train] Loss: -0.8377935886383057 [Val] Loss: -0.8585525751113892\n",
      "Epoch 53 -> [Train] Loss: -0.8374788761138916 [Val] Loss: -0.8593990206718445\n",
      "Epoch 54 -> [Train] Loss: -0.8378462195396423 [Val] Loss: -0.8595937490463257\n",
      "Epoch 55 -> [Train] Loss: -0.8412814140319824 [Val] Loss: -0.8615894317626953\n",
      "Epoch 56 -> [Train] Loss: -0.8436410427093506 [Val] Loss: -0.8613976836204529\n",
      "Epoch 57 -> [Train] Loss: -0.8453143835067749 [Val] Loss: -0.8620234131813049\n",
      "Epoch 58 -> [Train] Loss: -0.8468760251998901 [Val] Loss: -0.8624907732009888\n",
      "Epoch 59 -> [Train] Loss: -0.8481821417808533 [Val] Loss: -0.8620088696479797\n",
      "Epoch 60 -> [Train] Loss: -0.8467486500740051 [Val] Loss: -0.8622201681137085\n",
      "Epoch 61 -> [Train] Loss: -0.8505337834358215 [Val] Loss: -0.8627743124961853\n",
      "Epoch 62 -> [Train] Loss: -0.8502781987190247 [Val] Loss: -0.8630902767181396\n",
      "Epoch 63 -> [Train] Loss: -0.8309945464134216 [Val] Loss: -0.8633595108985901\n",
      "Epoch 64 -> [Train] Loss: -0.8530993461608887 [Val] Loss: -0.863605260848999\n",
      "Epoch 65 -> [Train] Loss: -0.8309846520423889 [Val] Loss: -0.8559625744819641\n",
      "Epoch 66 -> [Train] Loss: -0.8456920385360718 [Val] Loss: -0.8638709187507629\n",
      "Epoch 67 -> [Train] Loss: -0.8321763277053833 [Val] Loss: -0.8627274632453918\n",
      "Epoch 68 -> [Train] Loss: -0.8397547602653503 [Val] Loss: -0.864354133605957\n",
      "Epoch 69 -> [Train] Loss: -0.8484101891517639 [Val] Loss: -0.8655112385749817\n",
      "Epoch 70 -> [Train] Loss: -0.851216733455658 [Val] Loss: -0.8664183020591736\n",
      "Epoch 71 -> [Train] Loss: -0.8493204116821289 [Val] Loss: -0.8651967644691467\n",
      "Epoch 72 -> [Train] Loss: -0.8541036248207092 [Val] Loss: -0.8667588233947754\n",
      "Epoch 73 -> [Train] Loss: -0.8506964445114136 [Val] Loss: -0.8563095331192017\n",
      "Epoch 74 -> [Train] Loss: -0.835292398929596 [Val] Loss: -0.8599618673324585\n",
      "Epoch 75 -> [Train] Loss: -0.8470250368118286 [Val] Loss: -0.8641738891601562\n",
      "Epoch 76 -> [Train] Loss: -0.847301721572876 [Val] Loss: -0.863249659538269\n",
      "Epoch 77 -> [Train] Loss: -0.8458795547485352 [Val] Loss: -0.8615712523460388\n",
      "Epoch 78 -> [Train] Loss: -0.8470709919929504 [Val] Loss: -0.8639177083969116\n",
      "Epoch 79 -> [Train] Loss: -0.8521473407745361 [Val] Loss: -0.8652158975601196\n",
      "Epoch 80 -> [Train] Loss: -0.848825991153717 [Val] Loss: -0.8660755157470703\n",
      "Epoch 81 -> [Train] Loss: -0.8527021408081055 [Val] Loss: -0.8681971430778503\n",
      "Epoch 82 -> [Train] Loss: -0.8580729961395264 [Val] Loss: -0.8693224191665649\n",
      "Epoch 83 -> [Train] Loss: -0.860522449016571 [Val] Loss: -0.868776798248291\n",
      "Epoch 84 -> [Train] Loss: -0.8638651967048645 [Val] Loss: -0.8700200319290161\n",
      "Epoch 85 -> [Train] Loss: -0.8569784164428711 [Val] Loss: -0.8717527985572815\n",
      "Epoch 86 -> [Train] Loss: -0.8661856055259705 [Val] Loss: -0.8721948862075806\n",
      "Epoch 87 -> [Train] Loss: -0.8642635941505432 [Val] Loss: -0.8737027049064636\n",
      "Epoch 88 -> [Train] Loss: -0.8705268502235413 [Val] Loss: -0.8741922378540039\n",
      "Epoch 89 -> [Train] Loss: -0.8657469749450684 [Val] Loss: -0.8743366599082947\n",
      "Epoch 90 -> [Train] Loss: -0.8714532256126404 [Val] Loss: -0.8750572204589844\n",
      "Epoch 91 -> [Train] Loss: -0.8682334423065186 [Val] Loss: -0.8759518265724182\n",
      "Epoch 92 -> [Train] Loss: -0.8715725541114807 [Val] Loss: -0.8753862380981445\n",
      "Epoch 93 -> [Train] Loss: -0.86835777759552 [Val] Loss: -0.8764190077781677\n",
      "Epoch 94 -> [Train] Loss: -0.8702344298362732 [Val] Loss: -0.8769950866699219\n",
      "Epoch 95 -> [Train] Loss: -0.8705607652664185 [Val] Loss: -0.8767741322517395\n",
      "Epoch 96 -> [Train] Loss: -0.872343122959137 [Val] Loss: -0.8773419857025146\n",
      "Epoch 97 -> [Train] Loss: -0.8724274039268494 [Val] Loss: -0.8772797584533691\n",
      "Epoch 98 -> [Train] Loss: -0.8685922026634216 [Val] Loss: -0.8784100413322449\n",
      "Epoch 99 -> [Train] Loss: -0.8723494410514832 [Val] Loss: -0.8782414197921753\n",
      "Epoch 100 -> [Train] Loss: -0.8700140714645386 [Val] Loss: -0.8772814869880676\n",
      "Epoch 101 -> [Train] Loss: -0.8717789053916931 [Val] Loss: -0.8772961497306824\n",
      "Epoch 102 -> [Train] Loss: -0.8739109039306641 [Val] Loss: -0.878629744052887\n",
      "Epoch 103 -> [Train] Loss: -0.8734191656112671 [Val] Loss: -0.8784475922584534\n",
      "Epoch 104 -> [Train] Loss: -0.8704262375831604 [Val] Loss: -0.8788167238235474\n",
      "Epoch 105 -> [Train] Loss: -0.8725436329841614 [Val] Loss: -0.8792595267295837\n",
      "Epoch 106 -> [Train] Loss: -0.8710516691207886 [Val] Loss: -0.8798631429672241\n",
      "Epoch 107 -> [Train] Loss: -0.8748915195465088 [Val] Loss: -0.8793880939483643\n",
      "Epoch 108 -> [Train] Loss: -0.8728458285331726 [Val] Loss: -0.8800927996635437\n",
      "Epoch 109 -> [Train] Loss: -0.8706340789794922 [Val] Loss: -0.8795948624610901\n",
      "Epoch 110 -> [Train] Loss: -0.8736449480056763 [Val] Loss: -0.8797582387924194\n",
      "Epoch 111 -> [Train] Loss: -0.8760978579521179 [Val] Loss: -0.8807888031005859\n",
      "Epoch 112 -> [Train] Loss: -0.8739973902702332 [Val] Loss: -0.8799341320991516\n",
      "Epoch 113 -> [Train] Loss: -0.8701014518737793 [Val] Loss: -0.8806328177452087\n",
      "Epoch 114 -> [Train] Loss: -0.8747101426124573 [Val] Loss: -0.8809503316879272\n",
      "Epoch 115 -> [Train] Loss: -0.8742001056671143 [Val] Loss: -0.8814831376075745\n",
      "Epoch 116 -> [Train] Loss: -0.8771066069602966 [Val] Loss: -0.8799872994422913\n",
      "Epoch 117 -> [Train] Loss: -0.8737834095954895 [Val] Loss: -0.8810558319091797\n",
      "Epoch 118 -> [Train] Loss: -0.8764057755470276 [Val] Loss: -0.8813574314117432\n",
      "Epoch 119 -> [Train] Loss: -0.8740565776824951 [Val] Loss: -0.8821466565132141\n",
      "Epoch 120 -> [Train] Loss: -0.8752905130386353 [Val] Loss: -0.8805252909660339\n",
      "Epoch 121 -> [Train] Loss: -0.8774216175079346 [Val] Loss: -0.8814260959625244\n",
      "Epoch 122 -> [Train] Loss: -0.8769725561141968 [Val] Loss: -0.8828333616256714\n",
      "Epoch 123 -> [Train] Loss: -0.8718472123146057 [Val] Loss: -0.8786838054656982\n",
      "Epoch 124 -> [Train] Loss: -0.8744598031044006 [Val] Loss: -0.8799530863761902\n",
      "Epoch 125 -> [Train] Loss: -0.8777833580970764 [Val] Loss: -0.8812385201454163\n",
      "Epoch 126 -> [Train] Loss: -0.875685453414917 [Val] Loss: -0.88130784034729\n",
      "Epoch 127 -> [Train] Loss: -0.8750618696212769 [Val] Loss: -0.8826841115951538\n",
      "Epoch 128 -> [Train] Loss: -0.8799048662185669 [Val] Loss: -0.8824538588523865\n",
      "Epoch 129 -> [Train] Loss: -0.8751363158226013 [Val] Loss: -0.883286714553833\n",
      "Epoch 130 -> [Train] Loss: -0.8654977083206177 [Val] Loss: -0.8754974007606506\n",
      "Epoch 131 -> [Train] Loss: -0.8707974553108215 [Val] Loss: -0.8806874752044678\n",
      "Epoch 132 -> [Train] Loss: -0.8728218078613281 [Val] Loss: -0.8813484311103821\n",
      "Epoch 133 -> [Train] Loss: -0.8770264983177185 [Val] Loss: -0.8803949952125549\n",
      "Epoch 134 -> [Train] Loss: -0.877815842628479 [Val] Loss: -0.88184654712677\n",
      "Epoch 135 -> [Train] Loss: -0.8780060410499573 [Val] Loss: -0.8814684152603149\n",
      "Epoch 136 -> [Train] Loss: -0.8785404562950134 [Val] Loss: -0.8813916444778442\n",
      "Epoch 137 -> [Train] Loss: -0.8787580132484436 [Val] Loss: -0.8824283480644226\n",
      "Epoch 138 -> [Train] Loss: -0.8801577687263489 [Val] Loss: -0.8802987337112427\n",
      "Epoch 139 -> [Train] Loss: -0.8745845556259155 [Val] Loss: -0.8829835057258606\n",
      "Epoch 140 -> [Train] Loss: -0.8784729838371277 [Val] Loss: -0.8819438815116882\n",
      "Epoch 141 -> [Train] Loss: -0.8772464394569397 [Val] Loss: -0.8823136687278748\n",
      "Epoch 142 -> [Train] Loss: -0.8796528577804565 [Val] Loss: -0.8822854161262512\n",
      "Epoch 143 -> [Train] Loss: -0.8787840008735657 [Val] Loss: -0.8819663524627686\n",
      "Epoch 144 -> [Train] Loss: -0.8771237730979919 [Val] Loss: -0.8821491003036499\n",
      "Epoch 145 -> [Train] Loss: -0.8790605664253235 [Val] Loss: -0.8821251392364502\n",
      "Epoch 146 -> [Train] Loss: -0.875752329826355 [Val] Loss: -0.8814650774002075\n",
      "Epoch 147 -> [Train] Loss: -0.8715943098068237 [Val] Loss: -0.8831729888916016\n",
      "Epoch 148 -> [Train] Loss: -0.8763296604156494 [Val] Loss: -0.8829881548881531\n",
      "Epoch 149 -> [Train] Loss: -0.8777287602424622 [Val] Loss: -0.8833752274513245\n",
      "Epoch 150 -> [Train] Loss: -0.8822680711746216 [Val] Loss: -0.8838191628456116\n",
      "Epoch 151 -> [Train] Loss: -0.8779370784759521 [Val] Loss: -0.8836373686790466\n",
      "Epoch 152 -> [Train] Loss: -0.880014181137085 [Val] Loss: -0.8836699724197388\n",
      "Epoch 153 -> [Train] Loss: -0.8790330290794373 [Val] Loss: -0.8829076290130615\n",
      "Epoch 154 -> [Train] Loss: -0.8823102116584778 [Val] Loss: -0.8845787048339844\n",
      "Epoch 155 -> [Train] Loss: -0.8812114000320435 [Val] Loss: -0.8835544586181641\n",
      "Epoch 156 -> [Train] Loss: -0.8799809813499451 [Val] Loss: -0.8844744563102722\n",
      "Epoch 157 -> [Train] Loss: -0.8799753189086914 [Val] Loss: -0.8851019144058228\n",
      "Epoch 158 -> [Train] Loss: -0.8795905709266663 [Val] Loss: -0.8845415711402893\n",
      "Epoch 159 -> [Train] Loss: -0.8789036273956299 [Val] Loss: -0.8849871754646301\n",
      "Epoch 160 -> [Train] Loss: -0.8839751482009888 [Val] Loss: -0.8847860097885132\n",
      "Epoch 161 -> [Train] Loss: -0.879185676574707 [Val] Loss: -0.8847535252571106\n",
      "Epoch 162 -> [Train] Loss: -0.8797284364700317 [Val] Loss: -0.8847962617874146\n",
      "Epoch 163 -> [Train] Loss: -0.8811063766479492 [Val] Loss: -0.8843895196914673\n",
      "Epoch 164 -> [Train] Loss: -0.8837798833847046 [Val] Loss: -0.8845700025558472\n",
      "Epoch 165 -> [Train] Loss: -0.8810789585113525 [Val] Loss: -0.8852476477622986\n",
      "Epoch 166 -> [Train] Loss: -0.8831917643547058 [Val] Loss: -0.88525390625\n",
      "Epoch 167 -> [Train] Loss: -0.8775454759597778 [Val] Loss: -0.8818346261978149\n",
      "Epoch 168 -> [Train] Loss: -0.878035843372345 [Val] Loss: -0.8825921416282654\n",
      "Epoch 169 -> [Train] Loss: -0.8808281421661377 [Val] Loss: -0.8831233978271484\n",
      "Epoch 170 -> [Train] Loss: -0.8789539933204651 [Val] Loss: -0.8836150765419006\n",
      "Epoch 171 -> [Train] Loss: -0.8779475092887878 [Val] Loss: -0.8835641145706177\n",
      "Epoch 172 -> [Train] Loss: -0.8821620941162109 [Val] Loss: -0.8846242427825928\n",
      "Epoch 173 -> [Train] Loss: -0.8823297619819641 [Val] Loss: -0.8856481313705444\n",
      "Epoch 174 -> [Train] Loss: -0.8832132816314697 [Val] Loss: -0.8848649859428406\n",
      "Epoch 175 -> [Train] Loss: -0.8809258341789246 [Val] Loss: -0.8849136829376221\n",
      "Epoch 176 -> [Train] Loss: -0.8816878199577332 [Val] Loss: -0.8858744502067566\n",
      "Epoch 177 -> [Train] Loss: -0.886012077331543 [Val] Loss: -0.8858294486999512\n",
      "Epoch 178 -> [Train] Loss: -0.8845605850219727 [Val] Loss: -0.8869815468788147\n",
      "Epoch 179 -> [Train] Loss: -0.882430911064148 [Val] Loss: -0.8726834058761597\n",
      "Epoch 180 -> [Train] Loss: -0.8708844780921936 [Val] Loss: -0.8775191903114319\n",
      "Epoch 181 -> [Train] Loss: -0.8737553954124451 [Val] Loss: -0.8796089291572571\n",
      "Epoch 182 -> [Train] Loss: -0.8776491284370422 [Val] Loss: -0.8795849680900574\n",
      "Epoch 183 -> [Train] Loss: -0.8748418092727661 [Val] Loss: -0.8820489645004272\n",
      "Epoch 184 -> [Train] Loss: -0.8767012357711792 [Val] Loss: -0.8829416036605835\n",
      "Epoch 185 -> [Train] Loss: -0.8814650774002075 [Val] Loss: -0.8848769664764404\n",
      "Epoch 186 -> [Train] Loss: -0.882252037525177 [Val] Loss: -0.8854942321777344\n",
      "Epoch 187 -> [Train] Loss: -0.8829677104949951 [Val] Loss: -0.8865277767181396\n",
      "Epoch 188 -> [Train] Loss: -0.8784284591674805 [Val] Loss: -0.8863298296928406\n",
      "Epoch 189 -> [Train] Loss: -0.8819916248321533 [Val] Loss: -0.8871747255325317\n",
      "Epoch 190 -> [Train] Loss: -0.8809947967529297 [Val] Loss: -0.888541579246521\n",
      "Epoch 191 -> [Train] Loss: -0.8821207880973816 [Val] Loss: -0.8881546258926392\n",
      "Epoch 192 -> [Train] Loss: -0.8876710534095764 [Val] Loss: -0.8888630270957947\n",
      "Epoch 193 -> [Train] Loss: -0.8836714625358582 [Val] Loss: -0.888473391532898\n",
      "Epoch 194 -> [Train] Loss: -0.8823922276496887 [Val] Loss: -0.8881251215934753\n",
      "Epoch 195 -> [Train] Loss: -0.8757025003433228 [Val] Loss: -0.8823767304420471\n",
      "Epoch 196 -> [Train] Loss: -0.8786104321479797 [Val] Loss: -0.8830690979957581\n",
      "Epoch 197 -> [Train] Loss: -0.8767284750938416 [Val] Loss: -0.8824364542961121\n",
      "Epoch 198 -> [Train] Loss: -0.8814623355865479 [Val] Loss: -0.8831288814544678\n",
      "Epoch 199 -> [Train] Loss: -0.8798624277114868 [Val] Loss: -0.8838172554969788\n",
      "Epoch 200 -> [Train] Loss: -0.8812148571014404 [Val] Loss: -0.8841953873634338\n",
      "Epoch 201 -> [Train] Loss: -0.8783406019210815 [Val] Loss: -0.8839223384857178\n",
      "Epoch 202 -> [Train] Loss: -0.8774319291114807 [Val] Loss: -0.884088933467865\n",
      "Epoch 203 -> [Train] Loss: -0.880795955657959 [Val] Loss: -0.8845778703689575\n",
      "Epoch 204 -> [Train] Loss: -0.8795066475868225 [Val] Loss: -0.884354829788208\n",
      "Epoch 205 -> [Train] Loss: -0.8796094059944153 [Val] Loss: -0.8849653005599976\n",
      "Epoch 206 -> [Train] Loss: -0.8775450587272644 [Val] Loss: -0.8844776749610901\n",
      "Epoch 207 -> [Train] Loss: -0.8840698003768921 [Val] Loss: -0.8847952485084534\n",
      "Epoch 208 -> [Train] Loss: -0.8802086710929871 [Val] Loss: -0.8849415183067322\n",
      "Epoch 209 -> [Train] Loss: -0.884194016456604 [Val] Loss: -0.8851597309112549\n",
      "Epoch 210 -> [Train] Loss: -0.8829815983772278 [Val] Loss: -0.8853143453598022\n",
      "Epoch 211 -> [Train] Loss: -0.8822882771492004 [Val] Loss: -0.885604202747345\n",
      "Epoch 212 -> [Train] Loss: -0.8861002922058105 [Val] Loss: -0.8858156800270081\n",
      "Epoch 213 -> [Train] Loss: -0.8832265138626099 [Val] Loss: -0.885626494884491\n",
      "Epoch 214 -> [Train] Loss: -0.8801509141921997 [Val] Loss: -0.884627103805542\n",
      "Epoch 215 -> [Train] Loss: -0.8800089359283447 [Val] Loss: -0.8855511546134949\n",
      "Epoch 216 -> [Train] Loss: -0.8791331052780151 [Val] Loss: -0.8856837749481201\n",
      "Epoch 217 -> [Train] Loss: -0.8790338635444641 [Val] Loss: -0.8871301412582397\n",
      "Epoch 218 -> [Train] Loss: -0.8851225972175598 [Val] Loss: -0.8879753947257996\n",
      "Epoch 219 -> [Train] Loss: -0.8871825933456421 [Val] Loss: -0.8878141641616821\n",
      "Epoch 220 -> [Train] Loss: -0.8841100931167603 [Val] Loss: -0.8877394795417786\n",
      "Epoch 221 -> [Train] Loss: -0.8831195831298828 [Val] Loss: -0.8880723714828491\n",
      "Epoch 222 -> [Train] Loss: -0.8850618600845337 [Val] Loss: -0.8878772258758545\n",
      "Epoch 223 -> [Train] Loss: -0.8838813304901123 [Val] Loss: -0.8881551027297974\n",
      "Epoch 224 -> [Train] Loss: -0.8806779980659485 [Val] Loss: -0.8883780837059021\n",
      "Epoch 225 -> [Train] Loss: -0.8821666240692139 [Val] Loss: -0.8876089453697205\n",
      "Epoch 226 -> [Train] Loss: -0.8630518317222595 [Val] Loss: -0.8781231641769409\n",
      "Epoch 227 -> [Train] Loss: -0.874225914478302 [Val] Loss: -0.870112955570221\n",
      "Epoch 228 -> [Train] Loss: -0.8599552512168884 [Val] Loss: -0.8720660209655762\n",
      "Epoch 229 -> [Train] Loss: -0.8719722628593445 [Val] Loss: -0.8794164061546326\n",
      "Epoch 230 -> [Train] Loss: -0.8751401305198669 [Val] Loss: -0.8831359148025513\n",
      "Epoch 231 -> [Train] Loss: -0.8809318542480469 [Val] Loss: -0.8845322728157043\n",
      "Epoch 232 -> [Train] Loss: -0.8807231187820435 [Val] Loss: -0.884853720664978\n",
      "Epoch 233 -> [Train] Loss: -0.8790163993835449 [Val] Loss: -0.8855161070823669\n",
      "Epoch 234 -> [Train] Loss: -0.867689847946167 [Val] Loss: -0.8761435151100159\n",
      "Epoch 235 -> [Train] Loss: -0.8729387521743774 [Val] Loss: -0.8827584981918335\n",
      "Epoch 236 -> [Train] Loss: -0.8778893947601318 [Val] Loss: -0.8841553926467896\n",
      "Epoch 237 -> [Train] Loss: -0.8775359988212585 [Val] Loss: -0.8848400712013245\n",
      "Epoch 238 -> [Train] Loss: -0.8785333037376404 [Val] Loss: -0.8860370516777039\n",
      "Epoch 239 -> [Train] Loss: -0.8761257529258728 [Val] Loss: -0.8859025835990906\n",
      "Epoch 240 -> [Train] Loss: -0.8729194402694702 [Val] Loss: -0.8863416314125061\n",
      "Epoch 241 -> [Train] Loss: -0.8656376600265503 [Val] Loss: -0.8743888139724731\n",
      "Epoch 242 -> [Train] Loss: -0.871881902217865 [Val] Loss: -0.8810147643089294\n",
      "Epoch 243 -> [Train] Loss: -0.8798983097076416 [Val] Loss: -0.8838140964508057\n",
      "Epoch 244 -> [Train] Loss: -0.8809105753898621 [Val] Loss: -0.8855030536651611\n",
      "Epoch 245 -> [Train] Loss: -0.8826209902763367 [Val] Loss: -0.8856706023216248\n",
      "Epoch 246 -> [Train] Loss: -0.8809487819671631 [Val] Loss: -0.8853375315666199\n",
      "Epoch 247 -> [Train] Loss: -0.88241046667099 [Val] Loss: -0.8877198100090027\n",
      "Epoch 248 -> [Train] Loss: -0.8820042014122009 [Val] Loss: -0.8877398371696472\n",
      "Epoch 249 -> [Train] Loss: -0.8829872012138367 [Val] Loss: -0.8879287242889404\n",
      "Epoch 250 -> [Train] Loss: -0.8602978587150574 [Val] Loss: -0.8709877133369446\n",
      "Epoch 251 -> [Train] Loss: -0.8717965483665466 [Val] Loss: -0.880865752696991\n",
      "Epoch 252 -> [Train] Loss: -0.8737082481384277 [Val] Loss: -0.8822077512741089\n",
      "Epoch 253 -> [Train] Loss: -0.8766931891441345 [Val] Loss: -0.8824329376220703\n",
      "Epoch 254 -> [Train] Loss: -0.8751341104507446 [Val] Loss: -0.8847742676734924\n",
      "Epoch 255 -> [Train] Loss: -0.8797093033790588 [Val] Loss: -0.8848721385002136\n",
      "Epoch 256 -> [Train] Loss: -0.8826905488967896 [Val] Loss: -0.8851109743118286\n",
      "Epoch 257 -> [Train] Loss: -0.8810504674911499 [Val] Loss: -0.885588526725769\n",
      "Epoch 258 -> [Train] Loss: -0.8783453702926636 [Val] Loss: -0.8868879675865173\n",
      "Epoch 259 -> [Train] Loss: -0.8820780515670776 [Val] Loss: -0.8857224583625793\n",
      "Epoch 260 -> [Train] Loss: -0.8812735676765442 [Val] Loss: -0.8822615146636963\n",
      "Epoch 261 -> [Train] Loss: -0.8793588280677795 [Val] Loss: -0.8845348358154297\n",
      "Epoch 262 -> [Train] Loss: -0.8808927536010742 [Val] Loss: -0.885997474193573\n",
      "Epoch 263 -> [Train] Loss: -0.8824155926704407 [Val] Loss: -0.8866775035858154\n",
      "Epoch 264 -> [Train] Loss: -0.873846709728241 [Val] Loss: -0.8757604360580444\n",
      "Epoch 265 -> [Train] Loss: -0.8679795861244202 [Val] Loss: -0.8781720399856567\n",
      "Epoch 266 -> [Train] Loss: -0.874011754989624 [Val] Loss: -0.8829899430274963\n",
      "Epoch 267 -> [Train] Loss: -0.8726470470428467 [Val] Loss: -0.8838219046592712\n",
      "Epoch 268 -> [Train] Loss: -0.8792610168457031 [Val] Loss: -0.886408269405365\n",
      "Epoch 269 -> [Train] Loss: -0.8795986175537109 [Val] Loss: -0.887376070022583\n",
      "Epoch 270 -> [Train] Loss: -0.8681013584136963 [Val] Loss: -0.8773008584976196\n",
      "Epoch 271 -> [Train] Loss: -0.8739117980003357 [Val] Loss: -0.880962073802948\n",
      "Epoch 272 -> [Train] Loss: -0.8737504482269287 [Val] Loss: -0.884437084197998\n",
      "Epoch 273 -> [Train] Loss: -0.8826229572296143 [Val] Loss: -0.8905799388885498\n",
      "Epoch 274 -> [Train] Loss: -0.8678206205368042 [Val] Loss: -0.8823992609977722\n",
      "Epoch 275 -> [Train] Loss: -0.8813732862472534 [Val] Loss: -0.8876630067825317\n",
      "Epoch 276 -> [Train] Loss: -0.8783196806907654 [Val] Loss: -0.8839188814163208\n",
      "Epoch 277 -> [Train] Loss: -0.875519335269928 [Val] Loss: -0.8851579427719116\n",
      "Epoch 278 -> [Train] Loss: -0.8801859021186829 [Val] Loss: -0.8852095007896423\n",
      "Epoch 279 -> [Train] Loss: -0.8816401958465576 [Val] Loss: -0.8861358761787415\n",
      "Epoch 280 -> [Train] Loss: -0.8850733637809753 [Val] Loss: -0.8871322870254517\n",
      "Epoch 281 -> [Train] Loss: -0.8786178231239319 [Val] Loss: -0.8868959546089172\n",
      "Epoch 282 -> [Train] Loss: -0.8794739842414856 [Val] Loss: -0.8872080445289612\n",
      "Epoch 283 -> [Train] Loss: -0.8834607601165771 [Val] Loss: -0.8884879350662231\n",
      "Epoch 284 -> [Train] Loss: -0.8801450133323669 [Val] Loss: -0.8902671337127686\n",
      "Epoch 285 -> [Train] Loss: -0.8830610513687134 [Val] Loss: -0.8893886208534241\n",
      "Epoch 286 -> [Train] Loss: -0.8835476636886597 [Val] Loss: -0.8890877962112427\n",
      "Epoch 287 -> [Train] Loss: -0.8820232152938843 [Val] Loss: -0.8889761567115784\n",
      "Epoch 288 -> [Train] Loss: -0.8828575611114502 [Val] Loss: -0.8880735039710999\n",
      "Epoch 289 -> [Train] Loss: -0.8792253136634827 [Val] Loss: -0.8892841935157776\n",
      "Epoch 290 -> [Train] Loss: -0.8838799595832825 [Val] Loss: -0.8894572854042053\n",
      "Epoch 291 -> [Train] Loss: -0.8816854953765869 [Val] Loss: -0.8896750807762146\n",
      "Epoch 292 -> [Train] Loss: -0.8812400102615356 [Val] Loss: -0.8888382315635681\n",
      "Epoch 293 -> [Train] Loss: -0.8845166563987732 [Val] Loss: -0.887962281703949\n",
      "Epoch 294 -> [Train] Loss: -0.8831093907356262 [Val] Loss: -0.8879614472389221\n",
      "Epoch 295 -> [Train] Loss: -0.8853118419647217 [Val] Loss: -0.8898093700408936\n",
      "Epoch 296 -> [Train] Loss: -0.8848562240600586 [Val] Loss: -0.889268696308136\n",
      "Epoch 297 -> [Train] Loss: -0.8718651533126831 [Val] Loss: -0.8897295594215393\n",
      "Epoch 298 -> [Train] Loss: -0.8835158944129944 [Val] Loss: -0.89051353931427\n",
      "Epoch 299 -> [Train] Loss: -0.8809235692024231 [Val] Loss: -0.890218198299408\n",
      "Epoch 300 -> [Train] Loss: -0.8630590438842773 [Val] Loss: -0.8884766101837158\n",
      "Epoch 301 -> [Train] Loss: -0.8564826846122742 [Val] Loss: -0.8634932041168213\n",
      "Epoch 302 -> [Train] Loss: -0.8506487011909485 [Val] Loss: -0.8671302199363708\n",
      "Epoch 303 -> [Train] Loss: -0.8576023578643799 [Val] Loss: -0.8712133765220642\n",
      "Epoch 304 -> [Train] Loss: -0.8640468120574951 [Val] Loss: -0.8835543394088745\n",
      "Epoch 305 -> [Train] Loss: -0.8660831451416016 [Val] Loss: -0.8814279437065125\n",
      "Epoch 306 -> [Train] Loss: -0.8795812726020813 [Val] Loss: -0.8859216570854187\n",
      "Epoch 307 -> [Train] Loss: -0.8841564059257507 [Val] Loss: -0.887051522731781\n",
      "Epoch 308 -> [Train] Loss: -0.8849986791610718 [Val] Loss: -0.888645350933075\n",
      "Epoch 309 -> [Train] Loss: -0.8798456192016602 [Val] Loss: -0.8888450264930725\n",
      "Epoch 310 -> [Train] Loss: -0.8859588503837585 [Val] Loss: -0.8887501358985901\n",
      "Epoch 311 -> [Train] Loss: -0.8861318230628967 [Val] Loss: -0.8887653350830078\n",
      "Epoch 312 -> [Train] Loss: -0.8887672424316406 [Val] Loss: -0.8890729546546936\n",
      "Epoch 313 -> [Train] Loss: -0.8858288526535034 [Val] Loss: -0.8892052173614502\n",
      "Epoch 314 -> [Train] Loss: -0.8842288255691528 [Val] Loss: -0.8898598551750183\n",
      "Epoch 315 -> [Train] Loss: -0.8865841627120972 [Val] Loss: -0.888731837272644\n",
      "Epoch 316 -> [Train] Loss: -0.8847498893737793 [Val] Loss: -0.8893837928771973\n",
      "Epoch 317 -> [Train] Loss: -0.8859274387359619 [Val] Loss: -0.8896522521972656\n",
      "Epoch 318 -> [Train] Loss: -0.8880175352096558 [Val] Loss: -0.8888254165649414\n",
      "Epoch 319 -> [Train] Loss: -0.884424090385437 [Val] Loss: -0.8899202346801758\n",
      "Epoch 320 -> [Train] Loss: -0.8863134384155273 [Val] Loss: -0.8899569511413574\n",
      "Epoch 321 -> [Train] Loss: -0.8886199593544006 [Val] Loss: -0.8898633718490601\n",
      "Epoch 322 -> [Train] Loss: -0.8871945142745972 [Val] Loss: -0.88924640417099\n",
      "Epoch 323 -> [Train] Loss: -0.8847644329071045 [Val] Loss: -0.8901511430740356\n",
      "Epoch 324 -> [Train] Loss: -0.8622350096702576 [Val] Loss: -0.8670310974121094\n",
      "Epoch 325 -> [Train] Loss: -0.8630679845809937 [Val] Loss: -0.8867492079734802\n",
      "Epoch 326 -> [Train] Loss: -0.8642303943634033 [Val] Loss: -0.8692935109138489\n",
      "Epoch 327 -> [Train] Loss: -0.8600431680679321 [Val] Loss: -0.8710573315620422\n",
      "Epoch 328 -> [Train] Loss: -0.8562017679214478 [Val] Loss: -0.8729651570320129\n",
      "Epoch 329 -> [Train] Loss: -0.8655767440795898 [Val] Loss: -0.8741390705108643\n",
      "Epoch 330 -> [Train] Loss: -0.8638502955436707 [Val] Loss: -0.8751239776611328\n",
      "Epoch 331 -> [Train] Loss: -0.8692410588264465 [Val] Loss: -0.8764737844467163\n",
      "Epoch 332 -> [Train] Loss: -0.8777968287467957 [Val] Loss: -0.885147213935852\n",
      "Epoch 333 -> [Train] Loss: -0.8796156048774719 [Val] Loss: -0.8735744953155518\n",
      "Epoch 334 -> [Train] Loss: -0.8685665726661682 [Val] Loss: -0.8757334351539612\n",
      "Epoch 335 -> [Train] Loss: -0.8657435178756714 [Val] Loss: -0.8746379613876343\n",
      "Epoch 336 -> [Train] Loss: -0.8660798668861389 [Val] Loss: -0.8765175342559814\n",
      "Epoch 337 -> [Train] Loss: -0.8670185804367065 [Val] Loss: -0.8755456209182739\n",
      "Epoch 338 -> [Train] Loss: -0.8666651248931885 [Val] Loss: -0.87720787525177\n",
      "Epoch 339 -> [Train] Loss: -0.8709638118743896 [Val] Loss: -0.8759849071502686\n",
      "Epoch 340 -> [Train] Loss: -0.8708837628364563 [Val] Loss: -0.8770266175270081\n",
      "Epoch 341 -> [Train] Loss: -0.8702053427696228 [Val] Loss: -0.8775312900543213\n",
      "Epoch 342 -> [Train] Loss: -0.8716060519218445 [Val] Loss: -0.8783564567565918\n",
      "Epoch 343 -> [Train] Loss: -0.8737630248069763 [Val] Loss: -0.878899335861206\n",
      "Epoch 344 -> [Train] Loss: -0.8719913959503174 [Val] Loss: -0.8802943229675293\n",
      "Epoch 345 -> [Train] Loss: -0.871766209602356 [Val] Loss: -0.8789063692092896\n",
      "Epoch 346 -> [Train] Loss: -0.8736000061035156 [Val] Loss: -0.8799905776977539\n",
      "Epoch 347 -> [Train] Loss: -0.8736011385917664 [Val] Loss: -0.8798770904541016\n",
      "Epoch 348 -> [Train] Loss: -0.8722546100616455 [Val] Loss: -0.8812592029571533\n",
      "Epoch 349 -> [Train] Loss: -0.8736569285392761 [Val] Loss: -0.8816447854042053\n",
      "Epoch 350 -> [Train] Loss: -0.8757696151733398 [Val] Loss: -0.8803093433380127\n",
      "Epoch 351 -> [Train] Loss: -0.877634584903717 [Val] Loss: -0.8804091811180115\n",
      "Epoch 352 -> [Train] Loss: -0.8769005537033081 [Val] Loss: -0.8816834688186646\n",
      "Epoch 353 -> [Train] Loss: -0.8767444491386414 [Val] Loss: -0.8840516209602356\n",
      "Epoch 354 -> [Train] Loss: -0.8755837678909302 [Val] Loss: -0.8838132619857788\n",
      "Epoch 355 -> [Train] Loss: -0.8775531053543091 [Val] Loss: -0.8853060007095337\n",
      "Epoch 356 -> [Train] Loss: -0.8791924118995667 [Val] Loss: -0.8876063227653503\n",
      "Epoch 357 -> [Train] Loss: -0.8758733868598938 [Val] Loss: -0.8842955827713013\n",
      "Epoch 358 -> [Train] Loss: -0.8791024088859558 [Val] Loss: -0.8837729096412659\n",
      "Epoch 359 -> [Train] Loss: -0.8785642981529236 [Val] Loss: -0.88638836145401\n",
      "Epoch 360 -> [Train] Loss: -0.8754805326461792 [Val] Loss: -0.8845623731613159\n",
      "Epoch 361 -> [Train] Loss: -0.879815399646759 [Val] Loss: -0.8863489031791687\n",
      "Epoch 362 -> [Train] Loss: -0.8779030442237854 [Val] Loss: -0.8883973956108093\n",
      "Epoch 363 -> [Train] Loss: -0.8717780113220215 [Val] Loss: -0.8822460174560547\n",
      "Epoch 364 -> [Train] Loss: -0.8780513405799866 [Val] Loss: -0.8888125419616699\n",
      "Epoch 365 -> [Train] Loss: -0.8771423697471619 [Val] Loss: -0.8845383524894714\n",
      "Epoch 366 -> [Train] Loss: -0.8825420141220093 [Val] Loss: -0.8877675533294678\n",
      "Epoch 367 -> [Train] Loss: -0.8790330290794373 [Val] Loss: -0.8859314918518066\n",
      "Epoch 368 -> [Train] Loss: -0.8746708631515503 [Val] Loss: -0.881375253200531\n",
      "Epoch 369 -> [Train] Loss: -0.8719442486763 [Val] Loss: -0.8825275301933289\n",
      "Epoch 370 -> [Train] Loss: -0.8729476928710938 [Val] Loss: -0.8827024698257446\n",
      "Epoch 371 -> [Train] Loss: -0.8756017088890076 [Val] Loss: -0.882443368434906\n",
      "Epoch 372 -> [Train] Loss: -0.87583327293396 [Val] Loss: -0.8831480741500854\n",
      "Epoch 373 -> [Train] Loss: -0.8747668862342834 [Val] Loss: -0.8833675384521484\n",
      "Epoch 374 -> [Train] Loss: -0.8773284554481506 [Val] Loss: -0.8831135630607605\n",
      "Epoch 375 -> [Train] Loss: -0.87725430727005 [Val] Loss: -0.8833276629447937\n",
      "Epoch 376 -> [Train] Loss: -0.8775572776794434 [Val] Loss: -0.8843541741371155\n",
      "Epoch 377 -> [Train] Loss: -0.8760572671890259 [Val] Loss: -0.8848787546157837\n",
      "Epoch 378 -> [Train] Loss: -0.8733658194541931 [Val] Loss: -0.8842525482177734\n",
      "Epoch 379 -> [Train] Loss: -0.8767038583755493 [Val] Loss: -0.8852418065071106\n",
      "Epoch 380 -> [Train] Loss: -0.8815046548843384 [Val] Loss: -0.885777473449707\n",
      "Epoch 381 -> [Train] Loss: -0.8766783475875854 [Val] Loss: -0.8860069513320923\n",
      "Epoch 382 -> [Train] Loss: -0.8778302669525146 [Val] Loss: -0.8855646848678589\n",
      "Epoch 383 -> [Train] Loss: -0.8809436559677124 [Val] Loss: -0.8861271739006042\n",
      "Epoch 384 -> [Train] Loss: -0.8783657550811768 [Val] Loss: -0.8856286406517029\n",
      "Epoch 385 -> [Train] Loss: -0.8806236982345581 [Val] Loss: -0.887234628200531\n",
      "Epoch 386 -> [Train] Loss: -0.8821817636489868 [Val] Loss: -0.8876766562461853\n",
      "Epoch 387 -> [Train] Loss: -0.8839600682258606 [Val] Loss: -0.8882466554641724\n",
      "Epoch 388 -> [Train] Loss: -0.8833234906196594 [Val] Loss: -0.8851481080055237\n",
      "Epoch 389 -> [Train] Loss: -0.8793338537216187 [Val] Loss: -0.8866144418716431\n",
      "Epoch 390 -> [Train] Loss: -0.881964921951294 [Val] Loss: -0.8872944712638855\n",
      "Epoch 391 -> [Train] Loss: -0.8830077052116394 [Val] Loss: -0.8876221776008606\n",
      "Epoch 392 -> [Train] Loss: -0.8850548267364502 [Val] Loss: -0.887794017791748\n",
      "Epoch 393 -> [Train] Loss: -0.8854818344116211 [Val] Loss: -0.8892834186553955\n",
      "Epoch 394 -> [Train] Loss: -0.8861624002456665 [Val] Loss: -0.8874000906944275\n",
      "Epoch 395 -> [Train] Loss: -0.8828237652778625 [Val] Loss: -0.8893917798995972\n",
      "Epoch 396 -> [Train] Loss: -0.8883657455444336 [Val] Loss: -0.8871355056762695\n",
      "Epoch 397 -> [Train] Loss: -0.8851672410964966 [Val] Loss: -0.8889682292938232\n",
      "Epoch 398 -> [Train] Loss: -0.8842253088951111 [Val] Loss: -0.8880450129508972\n",
      "Epoch 399 -> [Train] Loss: -0.8847044706344604 [Val] Loss: -0.8879857659339905\n",
      "Epoch 400 -> [Train] Loss: -0.8838524222373962 [Val] Loss: -0.8896799087524414\n",
      "Epoch 401 -> [Train] Loss: -0.8859882950782776 [Val] Loss: -0.8882662653923035\n",
      "Epoch 402 -> [Train] Loss: -0.8844996690750122 [Val] Loss: -0.8885932564735413\n",
      "Epoch 403 -> [Train] Loss: -0.88359534740448 [Val] Loss: -0.8906933665275574\n",
      "Epoch 404 -> [Train] Loss: -0.8835071921348572 [Val] Loss: -0.889339804649353\n",
      "Epoch 405 -> [Train] Loss: -0.8858640193939209 [Val] Loss: -0.8893078565597534\n",
      "Epoch 406 -> [Train] Loss: -0.8858831524848938 [Val] Loss: -0.8890679478645325\n",
      "Epoch 407 -> [Train] Loss: -0.8853460550308228 [Val] Loss: -0.8883507251739502\n",
      "Epoch 408 -> [Train] Loss: -0.8849827647209167 [Val] Loss: -0.8885347247123718\n",
      "Epoch 409 -> [Train] Loss: -0.886278510093689 [Val] Loss: -0.8896758556365967\n",
      "Epoch 410 -> [Train] Loss: -0.8871809244155884 [Val] Loss: -0.8902080059051514\n",
      "Epoch 411 -> [Train] Loss: -0.8875703811645508 [Val] Loss: -0.8901399374008179\n",
      "Epoch 412 -> [Train] Loss: -0.8851580619812012 [Val] Loss: -0.8892106413841248\n",
      "Epoch 413 -> [Train] Loss: -0.8900115489959717 [Val] Loss: -0.8902687430381775\n",
      "Epoch 414 -> [Train] Loss: -0.8862308859825134 [Val] Loss: -0.8903013467788696\n",
      "Epoch 415 -> [Train] Loss: -0.8849667906761169 [Val] Loss: -0.889318585395813\n",
      "Epoch 416 -> [Train] Loss: -0.888696551322937 [Val] Loss: -0.8907687664031982\n",
      "Epoch 417 -> [Train] Loss: -0.8846473693847656 [Val] Loss: -0.8875740170478821\n",
      "Epoch 418 -> [Train] Loss: -0.8858404159545898 [Val] Loss: -0.8888049125671387\n",
      "Epoch 419 -> [Train] Loss: -0.8885747194290161 [Val] Loss: -0.8894496560096741\n",
      "Epoch 420 -> [Train] Loss: -0.8866784572601318 [Val] Loss: -0.8896481990814209\n",
      "Epoch 421 -> [Train] Loss: -0.8863283395767212 [Val] Loss: -0.8870341181755066\n",
      "Epoch 422 -> [Train] Loss: -0.8836276531219482 [Val] Loss: -0.8889738321304321\n",
      "Epoch 423 -> [Train] Loss: -0.883171796798706 [Val] Loss: -0.8899043202400208\n",
      "Epoch 424 -> [Train] Loss: -0.8869183659553528 [Val] Loss: -0.8903016448020935\n",
      "Epoch 425 -> [Train] Loss: -0.8810345530509949 [Val] Loss: -0.8898148536682129\n",
      "Epoch 426 -> [Train] Loss: -0.886502742767334 [Val] Loss: -0.8907074332237244\n",
      "Epoch 427 -> [Train] Loss: -0.8877770900726318 [Val] Loss: -0.8898267149925232\n",
      "Epoch 428 -> [Train] Loss: -0.8891163468360901 [Val] Loss: -0.889622151851654\n",
      "Epoch 429 -> [Train] Loss: -0.8875870108604431 [Val] Loss: -0.8896459341049194\n",
      "Epoch 430 -> [Train] Loss: -0.8849585056304932 [Val] Loss: -0.8891297578811646\n",
      "Epoch 431 -> [Train] Loss: -0.8860937356948853 [Val] Loss: -0.8893753886222839\n",
      "Epoch 432 -> [Train] Loss: -0.8849910497665405 [Val] Loss: -0.8911043405532837\n",
      "Epoch 433 -> [Train] Loss: -0.8880608677864075 [Val] Loss: -0.8904743194580078\n",
      "Epoch 434 -> [Train] Loss: -0.8888565897941589 [Val] Loss: -0.8906930088996887\n",
      "Epoch 435 -> [Train] Loss: -0.8842395544052124 [Val] Loss: -0.8884660005569458\n",
      "Epoch 436 -> [Train] Loss: -0.8832970857620239 [Val] Loss: -0.8847044706344604\n",
      "Epoch 437 -> [Train] Loss: -0.8826888203620911 [Val] Loss: -0.8881510496139526\n",
      "Epoch 438 -> [Train] Loss: -0.8871744871139526 [Val] Loss: -0.8883276581764221\n",
      "Epoch 439 -> [Train] Loss: -0.883357048034668 [Val] Loss: -0.8895624279975891\n",
      "Epoch 440 -> [Train] Loss: -0.8841044306755066 [Val] Loss: -0.8907098770141602\n",
      "Epoch 441 -> [Train] Loss: -0.88566654920578 [Val] Loss: -0.8882322907447815\n",
      "Epoch 442 -> [Train] Loss: -0.8866008520126343 [Val] Loss: -0.8890666961669922\n",
      "Epoch 443 -> [Train] Loss: -0.8887159824371338 [Val] Loss: -0.8894007802009583\n",
      "Epoch 444 -> [Train] Loss: -0.8880956768989563 [Val] Loss: -0.8904533386230469\n",
      "Epoch 445 -> [Train] Loss: -0.8856226205825806 [Val] Loss: -0.8904315829277039\n",
      "Epoch 446 -> [Train] Loss: -0.8863278031349182 [Val] Loss: -0.890752911567688\n",
      "Epoch 447 -> [Train] Loss: -0.8903515934944153 [Val] Loss: -0.891311526298523\n",
      "Epoch 448 -> [Train] Loss: -0.8883383870124817 [Val] Loss: -0.8912266492843628\n",
      "Epoch 449 -> [Train] Loss: -0.8872030973434448 [Val] Loss: -0.8918545246124268\n",
      "Epoch 450 -> [Train] Loss: -0.8895926475524902 [Val] Loss: -0.8906853795051575\n",
      "Epoch 451 -> [Train] Loss: -0.8919587731361389 [Val] Loss: -0.8913537859916687\n",
      "Epoch 452 -> [Train] Loss: -0.8869669437408447 [Val] Loss: -0.8919892311096191\n",
      "Epoch 453 -> [Train] Loss: -0.886664867401123 [Val] Loss: -0.8901385068893433\n",
      "Epoch 454 -> [Train] Loss: -0.8862172365188599 [Val] Loss: -0.8880914449691772\n",
      "Epoch 455 -> [Train] Loss: -0.887340247631073 [Val] Loss: -0.8905576467514038\n",
      "Epoch 456 -> [Train] Loss: -0.8883721232414246 [Val] Loss: -0.890317976474762\n",
      "Epoch 457 -> [Train] Loss: -0.8891293406486511 [Val] Loss: -0.8915160298347473\n",
      "Epoch 458 -> [Train] Loss: -0.8874416351318359 [Val] Loss: -0.8912811279296875\n",
      "Epoch 459 -> [Train] Loss: -0.8912407755851746 [Val] Loss: -0.8911809325218201\n",
      "Epoch 460 -> [Train] Loss: -0.8912795186042786 [Val] Loss: -0.8909196257591248\n",
      "Epoch 461 -> [Train] Loss: -0.8878106474876404 [Val] Loss: -0.8913813233375549\n",
      "Epoch 462 -> [Train] Loss: -0.8904855251312256 [Val] Loss: -0.890501081943512\n",
      "Epoch 463 -> [Train] Loss: -0.8869853019714355 [Val] Loss: -0.8906288146972656\n",
      "Epoch 464 -> [Train] Loss: -0.8871176838874817 [Val] Loss: -0.8895831108093262\n",
      "Epoch 465 -> [Train] Loss: -0.8858199715614319 [Val] Loss: -0.8892863392829895\n",
      "Epoch 466 -> [Train] Loss: -0.8869658708572388 [Val] Loss: -0.8886631727218628\n",
      "Epoch 467 -> [Train] Loss: -0.8861424326896667 [Val] Loss: -0.8897696137428284\n",
      "Epoch 468 -> [Train] Loss: -0.8864603042602539 [Val] Loss: -0.889343798160553\n",
      "Epoch 469 -> [Train] Loss: -0.8837816715240479 [Val] Loss: -0.8909432291984558\n",
      "Epoch 470 -> [Train] Loss: -0.8883752226829529 [Val] Loss: -0.8906952738761902\n",
      "Epoch 471 -> [Train] Loss: -0.8860083818435669 [Val] Loss: -0.8910248875617981\n",
      "Epoch 472 -> [Train] Loss: -0.8904911875724792 [Val] Loss: -0.8909916281700134\n",
      "Epoch 473 -> [Train] Loss: -0.8909582495689392 [Val] Loss: -0.8914251923561096\n",
      "Epoch 474 -> [Train] Loss: -0.8852787017822266 [Val] Loss: -0.8899479508399963\n",
      "Epoch 475 -> [Train] Loss: -0.8857921361923218 [Val] Loss: -0.8883094191551208\n",
      "Epoch 476 -> [Train] Loss: -0.8858247399330139 [Val] Loss: -0.8884148597717285\n",
      "Epoch 477 -> [Train] Loss: -0.8906680941581726 [Val] Loss: -0.8912121653556824\n",
      "Epoch 478 -> [Train] Loss: -0.8869767785072327 [Val] Loss: -0.890417754650116\n",
      "Epoch 479 -> [Train] Loss: -0.888190746307373 [Val] Loss: -0.8914350271224976\n",
      "Epoch 480 -> [Train] Loss: -0.8919036388397217 [Val] Loss: -0.891809344291687\n",
      "Epoch 481 -> [Train] Loss: -0.8908817172050476 [Val] Loss: -0.8925562500953674\n",
      "Epoch 482 -> [Train] Loss: -0.8853126168251038 [Val] Loss: -0.8882855176925659\n",
      "Epoch 483 -> [Train] Loss: -0.8822965621948242 [Val] Loss: -0.8873266577720642\n",
      "Epoch 484 -> [Train] Loss: -0.8849314451217651 [Val] Loss: -0.8872244954109192\n",
      "Epoch 485 -> [Train] Loss: -0.8836517333984375 [Val] Loss: -0.8887379169464111\n",
      "Epoch 486 -> [Train] Loss: -0.8851994276046753 [Val] Loss: -0.8873236775398254\n",
      "Epoch 487 -> [Train] Loss: -0.8849309086799622 [Val] Loss: -0.8895835876464844\n",
      "Epoch 488 -> [Train] Loss: -0.8855869174003601 [Val] Loss: -0.8895390033721924\n",
      "Epoch 489 -> [Train] Loss: -0.8889071941375732 [Val] Loss: -0.8896236419677734\n",
      "Epoch 490 -> [Train] Loss: -0.8907493948936462 [Val] Loss: -0.8902571201324463\n",
      "Epoch 491 -> [Train] Loss: -0.8847469687461853 [Val] Loss: -0.8893905282020569\n",
      "Epoch 492 -> [Train] Loss: -0.8859506845474243 [Val] Loss: -0.8901371359825134\n",
      "Epoch 493 -> [Train] Loss: -0.8843508958816528 [Val] Loss: -0.8887910842895508\n",
      "Epoch 494 -> [Train] Loss: -0.88522869348526 [Val] Loss: -0.8910204172134399\n",
      "Epoch 495 -> [Train] Loss: -0.8913744688034058 [Val] Loss: -0.8915890455245972\n",
      "Epoch 496 -> [Train] Loss: -0.8895888924598694 [Val] Loss: -0.8909276723861694\n",
      "Epoch 497 -> [Train] Loss: -0.8872084617614746 [Val] Loss: -0.8911011219024658\n",
      "Epoch 498 -> [Train] Loss: -0.8885891437530518 [Val] Loss: -0.891653299331665\n",
      "Epoch 499 -> [Train] Loss: -0.8899272680282593 [Val] Loss: -0.891292929649353\n",
      "CPU times: user 22h 20min 44s, sys: 2h 19min 7s, total: 1d 39min 52s\n",
      "Wall time: 9h 48min 37s\n"
     ]
    }
   ],
   "source": [
    "%%time\n",
    "for epoch in range(config.EPOCHS):\n",
    "    ## Training\n",
    "    for batch in dst_train_rdy.as_numpy_iterator():\n",
    "        state = train_step(state, batch)\n",
    "        state = state.replace(params=clip_layer(state.params, \"GDN\", a_min=0))\n",
    "        # state = compute_metrics(state=state, batch=batch)\n",
    "        # break\n",
    "\n",
    "    ## Log the metrics\n",
    "    for name, value in state.metrics.compute().items():\n",
    "        metrics_history[f\"train_{name}\"].append(value)\n",
    "    \n",
    "    ## Empty the metrics\n",
    "    state = state.replace(metrics=state.metrics.empty())\n",
    "\n",
    "    ## Evaluation\n",
    "    for batch in dst_val_rdy.as_numpy_iterator():\n",
    "        state = compute_metrics(state=state, batch=batch)\n",
    "        # break\n",
    "    for name, value in state.metrics.compute().items():\n",
    "        metrics_history[f\"val_{name}\"].append(value)\n",
    "    state = state.replace(metrics=state.metrics.empty())\n",
    "    \n",
    "    ## Checkpointing\n",
    "    if metrics_history[\"val_loss\"][-1] <= min(metrics_history[\"val_loss\"]):\n",
    "        orbax_checkpointer.save(os.path.join(wandb.run.dir, \"model-best\"), state, save_args=save_args, force=True) # force=True means allow overwritting.\n",
    "\n",
    "    wandb.log({f\"{k}\": wandb.Histogram(v) for k, v in flatten_params(state.params).items()}, commit=False)\n",
    "    wandb.log({\"epoch\": epoch+1, **{name:values[-1] for name, values in metrics_history.items()}})\n",
    "    print(f'Epoch {epoch} -> [Train] Loss: {metrics_history[\"train_loss\"][-1]} [Val] Loss: {metrics_history[\"val_loss\"][-1]}')\n",
    "    # break"
   ]
  },
  {
   "cell_type": "markdown",
   "metadata": {},
   "source": [
    "Save the final model as well in case we want to keep training from it or whatever:"
   ]
  },
  {
   "cell_type": "code",
   "execution_count": null,
   "metadata": {},
   "outputs": [],
   "source": [
    "orbax_checkpointer.save(os.path.join(wandb.run.dir, \"model-final\"), state, save_args=save_args)"
   ]
  },
  {
   "cell_type": "code",
   "execution_count": null,
   "metadata": {},
   "outputs": [
    {
     "data": {
      "text/html": [
       "Waiting for W&B process to finish... <strong style=\"color:green\">(success).</strong>"
      ],
      "text/plain": [
       "<IPython.core.display.HTML object>"
      ]
     },
     "metadata": {},
     "output_type": "display_data"
    },
    {
     "data": {
      "application/vnd.jupyter.widget-view+json": {
       "model_id": "90eeb2daf2584947aa0aaaf4698e8780",
       "version_major": 2,
       "version_minor": 0
      },
      "text/plain": [
       "VBox(children=(Label(value='0.005 MB of 2.267 MB uploaded (0.000 MB deduped)\\r'), FloatProgress(value=0.002338…"
      ]
     },
     "metadata": {},
     "output_type": "display_data"
    },
    {
     "data": {
      "text/html": [
       "<style>\n",
       "    table.wandb td:nth-child(1) { padding: 0 10px; text-align: left ; width: auto;} td:nth-child(2) {text-align: left ; width: 100%}\n",
       "    .wandb-row { display: flex; flex-direction: row; flex-wrap: wrap; justify-content: flex-start; width: 100% }\n",
       "    .wandb-col { display: flex; flex-direction: column; flex-basis: 100%; flex: 1; padding: 10px; }\n",
       "    </style>\n",
       "<div class=\"wandb-row\"><div class=\"wandb-col\"><h3>Run summary:</h3><br/><table class=\"wandb\"><tr><td>epoch</td><td>500</td></tr><tr><td>train_loss</td><td>-0.88993</td></tr><tr><td>trainable_parameters</td><td>724</td></tr><tr><td>val_loss</td><td>-0.89129</td></tr></table><br/></div></div>"
      ],
      "text/plain": [
       "<IPython.core.display.HTML object>"
      ]
     },
     "metadata": {},
     "output_type": "display_data"
    },
    {
     "data": {
      "text/html": [
       " View run <strong style=\"color:#cdcd00\">V2_Init</strong> at: <a href='https://wandb.ai/jorgvt/PerceptNet_JaX/runs/w7o5ilfk' target=\"_blank\">https://wandb.ai/jorgvt/PerceptNet_JaX/runs/w7o5ilfk</a><br/>Synced 4 W&B file(s), 0 media file(s), 0 artifact file(s) and 2 other file(s)"
      ],
      "text/plain": [
       "<IPython.core.display.HTML object>"
      ]
     },
     "metadata": {},
     "output_type": "display_data"
    },
    {
     "data": {
      "text/html": [
       "Find logs at: <code>./wandb/run-20231026_125751-w7o5ilfk/logs</code>"
      ],
      "text/plain": [
       "<IPython.core.display.HTML object>"
      ]
     },
     "metadata": {},
     "output_type": "display_data"
    }
   ],
   "source": [
    "wandb.finish()"
   ]
  },
  {
   "cell_type": "code",
   "execution_count": 62,
   "metadata": {},
   "outputs": [],
   "source": [
    "import matplotlib.pyplot as plt"
   ]
  },
  {
   "cell_type": "code",
   "execution_count": 73,
   "metadata": {},
   "outputs": [
    {
     "data": {
      "image/png": "[encoded data removed]",
      "text/plain": [
       "<Figure size 1500x1500 with 64 Axes>"
      ]
     },
     "metadata": {},
     "output_type": "display_data"
    }
   ],
   "source": [
    "fig, axes = plt.subplots(8,8, figsize=(15,15))\n",
    "for i, ax in enumerate(axes.ravel()):\n",
    "    ax.imshow(state.state[\"precalc_filter\"][\"GaborLayerLogSigma__0\"][\"kernel\"][:,:,0,i])\n",
    "    ax.axis(\"off\")\n",
    "plt.show()"
   ]
  }
 ],
 "metadata": {
  "kernelspec": {
   "display_name": "python3",
   "language": "python",
   "name": "python3"
  },
  "language_info": {
   "codemirror_mode": {
    "name": "ipython",
    "version": 3
   },
   "file_extension": ".py",
   "mimetype": "text/x-python",
   "name": "python",
   "nbconvert_exporter": "python",
   "pygments_lexer": "ipython3",
   "version": "3.8.16"
  }
 },
 "nbformat": 4,
 "nbformat_minor": 2
}
