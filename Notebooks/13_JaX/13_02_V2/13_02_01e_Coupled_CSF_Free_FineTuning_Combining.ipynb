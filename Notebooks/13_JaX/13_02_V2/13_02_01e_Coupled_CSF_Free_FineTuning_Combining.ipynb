{
 "cells": [
  {
   "cell_type": "code",
   "execution_count": 1,
   "metadata": {},
   "outputs": [],
   "source": [
    "%load_ext autoreload\n",
    "%autoreload 2"
   ]
  },
  {
   "attachments": {},
   "cell_type": "markdown",
   "metadata": {},
   "source": [
    "# IQA tracking params and variables\n",
    "\n",
    "> When using parametric layers we have to be able to keep track of the parameters and the variables of the model (which are not going to be trained). We're going to play with this concept using our implementation of the functional layers."
   ]
  },
  {
   "cell_type": "code",
   "execution_count": 2,
   "metadata": {},
   "outputs": [],
   "source": [
    "# import os; os.environ[\"XLA_PYTHON_CLIENT_MEM_FRACTION\"]=\".99\""
   ]
  },
  {
   "cell_type": "code",
   "execution_count": 3,
   "metadata": {},
   "outputs": [
    {
     "name": "stderr",
     "output_type": "stream",
     "text": [
      "2023-11-15 11:15:53.565771: I tensorflow/core/platform/cpu_feature_guard.cc:182] This TensorFlow binary is optimized to use available CPU instructions in performance-critical operations.\n",
      "To enable the following instructions: AVX2 AVX512F FMA, in other operations, rebuild TensorFlow with the appropriate compiler flags.\n",
      "2023-11-15 11:16:09.068050: W tensorflow/compiler/tf2tensorrt/utils/py_utils.cc:38] TF-TRT Warning: Could not find TensorRT\n",
      "2023-11-15 11:16:43.420813: E tensorflow/compiler/xla/stream_executor/cuda/cuda_driver.cc:266] failed call to cuInit: CUDA_ERROR_NO_DEVICE: no CUDA-capable device is detected\n",
      "2023-11-15 11:16:43.423318: I tensorflow/compiler/xla/stream_executor/cuda/cuda_diagnostics.cc:168] retrieving CUDA diagnostic information for host: mlui02.ific.uv.es\n",
      "2023-11-15 11:16:43.424528: I tensorflow/compiler/xla/stream_executor/cuda/cuda_diagnostics.cc:175] hostname: mlui02.ific.uv.es\n",
      "2023-11-15 11:16:43.424803: I tensorflow/compiler/xla/stream_executor/cuda/cuda_diagnostics.cc:199] libcuda reported version is: 545.23.6\n",
      "2023-11-15 11:16:43.424947: I tensorflow/compiler/xla/stream_executor/cuda/cuda_diagnostics.cc:203] kernel reported version is: 545.23.6\n",
      "2023-11-15 11:16:43.424991: I tensorflow/compiler/xla/stream_executor/cuda/cuda_diagnostics.cc:309] kernel version seems to match DSO: 545.23.6\n",
      "2023-11-15 11:16:58.176203: E external/xla/xla/stream_executor/cuda/cuda_driver.cc:268] failed call to cuInit: CUDA_ERROR_NO_DEVICE: no CUDA-capable device is detected\n",
      "No GPU/TPU found, falling back to CPU. (Set TF_CPP_MIN_LOG_LEVEL=0 and rerun for more info.)\n"
     ]
    }
   ],
   "source": [
    "import os\n",
    "# os.environ[\"CUDA_VISIBLE_DEVICES\"] = \"-1\"\n",
    "\n",
    "from typing import Any, Callable, Sequence, Union\n",
    "import numpy as np\n",
    "\n",
    "import tensorflow as tf\n",
    "tf.config.set_visible_devices([], device_type='GPU')\n",
    "\n",
    "import jax\n",
    "from jax import lax, random, numpy as jnp\n",
    "from flax.core import freeze, unfreeze, FrozenDict\n",
    "from flax import linen as nn\n",
    "from flax import struct\n",
    "from flax.training import train_state\n",
    "from flax.training import orbax_utils\n",
    "\n",
    "import optax\n",
    "import orbax.checkpoint\n",
    "\n",
    "from clu import metrics\n",
    "from ml_collections import ConfigDict\n",
    "\n",
    "from einops import reduce, rearrange\n",
    "import wandb\n",
    "from iqadatasets.datasets import *\n",
    "from fxlayers.layers import *\n",
    "from fxlayers.layers import GaussianLayerGamma, GaborLayerLogSigma_, GaborLayerLogSigmaCoupled_\n",
    "from fxlayers.initializers import *\n",
    "from JaxPlayground.utils.constraints import *\n",
    "from JaxPlayground.utils.wandb import *"
   ]
  },
  {
   "cell_type": "code",
   "execution_count": 4,
   "metadata": {},
   "outputs": [],
   "source": [
    "# jax.config.update(\"jax_debug_nans\", False)"
   ]
  },
  {
   "cell_type": "markdown",
   "metadata": {},
   "source": [
    "## Load the data\n",
    "\n",
    "> We're going to employ `iqadatasets` to ease the loading of the data."
   ]
  },
  {
   "cell_type": "code",
   "execution_count": 5,
   "metadata": {},
   "outputs": [],
   "source": [
    "dst_train = TID2008(\"/lustre/ific.uv.es/ml/uv075/Databases/IQA//TID/TID2008/\", exclude_imgs=[25])\n",
    "dst_val = TID2013(\"/lustre/ific.uv.es/ml/uv075/Databases/IQA//TID/TID2013/\", exclude_imgs=[25])\n",
    "# dst_train = TID2008(\"/media/disk/databases/BBDD_video_image/Image_Quality//TID/TID2008/\", exclude_imgs=[25])\n",
    "# dst_val = TID2013(\"/media/disk/databases/BBDD_video_image/Image_Quality//TID/TID2013/\", exclude_imgs=[25])\n",
    "# dst_train = TID2008(\"/media/databases/IQA/TID/TID2008/\", exclude_imgs=[25])\n",
    "# dst_val = TID2013(\"/media/databases/IQA/TID/TID2013/\", exclude_imgs=[25])"
   ]
  },
  {
   "cell_type": "code",
   "execution_count": 6,
   "metadata": {},
   "outputs": [
    {
     "name": "stderr",
     "output_type": "stream",
     "text": [
      "2023-11-15 11:17:00.330781: I tensorflow/core/common_runtime/executor.cc:1197] [/device:CPU:0] (DEBUG INFO) Executor start aborting (this does not indicate an error and you can ignore this message): INVALID_ARGUMENT: You must feed a value for placeholder tensor 'Placeholder/_2' with dtype double and shape [1632]\n",
      "\t [[{{node Placeholder/_2}}]]\n"
     ]
    },
    {
     "data": {
      "text/plain": [
       "(TensorShape([384, 512, 3]), TensorShape([384, 512, 3]), TensorShape([]))"
      ]
     },
     "execution_count": 6,
     "metadata": {},
     "output_type": "execute_result"
    }
   ],
   "source": [
    "img, img_dist, mos = next(iter(dst_train.dataset))\n",
    "img.shape, img_dist.shape, mos.shape"
   ]
  },
  {
   "cell_type": "code",
   "execution_count": 7,
   "metadata": {},
   "outputs": [
    {
     "name": "stderr",
     "output_type": "stream",
     "text": [
      "2023-11-15 11:17:00.987005: I tensorflow/core/common_runtime/executor.cc:1197] [/device:CPU:0] (DEBUG INFO) Executor start aborting (this does not indicate an error and you can ignore this message): INVALID_ARGUMENT: You must feed a value for placeholder tensor 'Placeholder/_2' with dtype double and shape [2880]\n",
      "\t [[{{node Placeholder/_2}}]]\n"
     ]
    },
    {
     "data": {
      "text/plain": [
       "(TensorShape([384, 512, 3]), TensorShape([384, 512, 3]), TensorShape([]))"
      ]
     },
     "execution_count": 7,
     "metadata": {},
     "output_type": "execute_result"
    }
   ],
   "source": [
    "img, img_dist, mos = next(iter(dst_val.dataset))\n",
    "img.shape, img_dist.shape, mos.shape"
   ]
  },
  {
   "cell_type": "code",
   "execution_count": 8,
   "metadata": {},
   "outputs": [
    {
     "data": {
      "text/plain": [
       "BATCH_SIZE: 64\n",
       "EPOCHS: 500\n",
       "GDN_CLIPPING: true\n",
       "LEARNING_RATE: 0.003\n",
       "NORMALIZE_ENERGY: true\n",
       "NORMALIZE_PROB: false\n",
       "N_ORIENTATIONS: 8\n",
       "N_SCALES: 4\n",
       "SEED: 42\n",
       "USE_BIAS: false\n",
       "ZERO_MEAN: true"
      ]
     },
     "execution_count": 8,
     "metadata": {},
     "output_type": "execute_result"
    }
   ],
   "source": [
    "config = {\n",
    "    \"BATCH_SIZE\": 64,\n",
    "    \"EPOCHS\": 500,\n",
    "    \"LEARNING_RATE\": 3e-3,\n",
    "    \"SEED\": 42,\n",
    "    \"GDN_CLIPPING\": True,\n",
    "    \"NORMALIZE_PROB\": False,\n",
    "    \"NORMALIZE_ENERGY\": True,\n",
    "    \"ZERO_MEAN\": True,\n",
    "    \"USE_BIAS\": False,\n",
    "    \"N_SCALES\": 4,\n",
    "    \"N_ORIENTATIONS\": 8,\n",
    "}\n",
    "config = ConfigDict(config)\n",
    "config"
   ]
  },
  {
   "cell_type": "code",
   "execution_count": 9,
   "metadata": {},
   "outputs": [
    {
     "name": "stderr",
     "output_type": "stream",
     "text": [
      "Failed to detect the name of this notebook, you can set it manually with the WANDB_NOTEBOOK_NAME environment variable to enable code saving.\n"
     ]
    },
    {
     "data": {
      "text/plain": []
     },
     "execution_count": 9,
     "metadata": {},
     "output_type": "execute_result"
    }
   ],
   "source": [
    "wandb.init(project=\"PerceptNet_JaX\",\n",
    "           name=\"V2_Init_FT_Mix_1s\",\n",
    "           job_type=\"training\",\n",
    "           config=config,\n",
    "           mode=\"online\",\n",
    "           )"
   ]
  },
  {
   "cell_type": "code",
   "execution_count": 10,
   "metadata": {},
   "outputs": [],
   "source": [
    "dst_train_rdy = dst_train.dataset.shuffle(buffer_size=100,\n",
    "                                      reshuffle_each_iteration=True,\n",
    "                                      seed=config.SEED)\\\n",
    "                                 .batch(config.BATCH_SIZE, drop_remainder=True)\n",
    "dst_val_rdy = dst_val.dataset.batch(config.BATCH_SIZE, drop_remainder=True)"
   ]
  },
  {
   "attachments": {},
   "cell_type": "markdown",
   "metadata": {},
   "source": [
    "## Define the model we're going to use\n",
    "\n",
    "> It's going to be a very simple model just for demonstration purposes."
   ]
  },
  {
   "cell_type": "code",
   "execution_count": 11,
   "metadata": {},
   "outputs": [],
   "source": [
    "#| export\n",
    "class GDNGaussianStarRunning(nn.Module):\n",
    "    \"\"\"GDN variation where x^* is obtained as a running mean of the previously obtained values.\"\"\"\n",
    "\n",
    "    kernel_size: int\n",
    "    inputs_star: float = 1.\n",
    "    outputs_star: Union[None, float] = None\n",
    "    fs: int = 1\n",
    "    apply_independently: bool = False\n",
    "    alpha: float = 2.\n",
    "    epsilon: float = 1/2\n",
    "    bias_init: Callable = nn.initializers.ones_init()\n",
    "\n",
    "    @nn.compact\n",
    "    def __call__(self,\n",
    "                 inputs,\n",
    "                 train=False,\n",
    "                 **kwargs,\n",
    "                 ):\n",
    "        # inputs_sign = jnp.sign(inputs)\n",
    "        # inputs = jnp.abs(inputs)\n",
    "        is_initialized = self.has_variable(\"batch_stats\", \"inputs_star\")\n",
    "        # inputs_star = self.variable(\"batch_stats\", \"inputs_star\", lambda x: x, jnp.quantile(inputs, q=0.95))\n",
    "        inputs_star = self.variable(\"batch_stats\", \"inputs_star\", lambda x: jnp.ones(x)*self.inputs_star, (1,))\n",
    "        if is_initialized and train:\n",
    "            inputs_star.value = (inputs_star.value + jnp.quantile(jnp.abs(inputs), q=0.95))/2\n",
    "        H = GaussianLayerGamma(features=inputs.shape[-1], kernel_size=self.kernel_size, use_bias=True, fs=self.fs, xmean=self.kernel_size/self.fs/2, ymean=self.kernel_size/self.fs/2, bias_init=self.bias_init, normalize_prob=config.NORMALIZE_PROB, normalize_energy=config.NORMALIZE_ENERGY)\n",
    "        inputs_star_ = jnp.ones_like(inputs)*inputs_star.value\n",
    "        denom = jnp.clip(H(inputs**self.alpha, train=train), a_min=1e-5)**self.epsilon\n",
    "        coef = (jnp.clip(H(inputs_star_**self.alpha, train=train), a_min=1e-5)**self.epsilon)#/inputs_star_\n",
    "        if self.outputs_star is not None: coef = coef/inputs_star.value*self.outputs_star\n",
    "        \n",
    "        return coef*inputs/denom"
   ]
  },
  {
   "cell_type": "code",
   "execution_count": 12,
   "metadata": {},
   "outputs": [],
   "source": [
    "class GDNSpatioFreqOrient(nn.Module):\n",
    "    \"\"\"Generalized Divisive Normalization.\"\"\"\n",
    "    kernel_size: Union[int, Sequence[int]]\n",
    "    strides: int = 1\n",
    "    padding: str = \"SAME\"\n",
    "    inputs_star: float = 1.\n",
    "    outputs_star: Union[None, float] = None\n",
    "    fs: int = 1\n",
    "    apply_independently: bool = False\n",
    "    bias_init: Callable = nn.initializers.ones_init()\n",
    "    alpha: float = 2.\n",
    "    epsilon: float = 1/2 # Exponential of the denominator\n",
    "    eps: float = 1e-6 # Numerical stability in the denominator\n",
    "\n",
    "    @nn.compact\n",
    "    def __call__(self,\n",
    "                 inputs,\n",
    "                 fmean,\n",
    "                 theta_mean,\n",
    "                 train=False,\n",
    "                 ):\n",
    "        b, h, w, c = inputs.shape\n",
    "        bias = self.param(\"bias\",\n",
    "                          #equal_to(inputs_star/10),\n",
    "                          self.bias_init,\n",
    "                          (c,))\n",
    "        is_initialized = self.has_variable(\"batch_stats\", \"inputs_star\")\n",
    "        inputs_star = self.variable(\"batch_stats\", \"inputs_star\", lambda x: jnp.ones(x)*self.inputs_star, (len(self.inputs_star),))\n",
    "        inputs_star_ = jnp.ones_like(inputs)*inputs_star.value\n",
    "        GL = GaussianLayerGamma(features=c, kernel_size=self.kernel_size, strides=self.strides, padding=self.padding, fs=self.fs, xmean=self.kernel_size/self.fs/2, ymean=self.kernel_size/self.fs/2, normalize_prob=config.NORMALIZE_PROB, normalize_energy=config.NORMALIZE_ENERGY, use_bias=False, feature_group_count=c)\n",
    "        FG = FreqGaussian()\n",
    "        OG = OrientGaussian()\n",
    "        outputs = GL(inputs**self.alpha, train=train)#/(self.kernel_size**2)\n",
    "        outputs = FG(outputs, fmean=fmean)\n",
    "        ## Reshape so that the orientations are the innermost dimmension\n",
    "        outputs = rearrange(outputs, \"b h w (phase theta f) -> b h w (phase f theta)\", b=b, h=h, w=w, phase=2, f=config.N_SCALES, theta=config.N_ORIENTATIONS)\n",
    "        outputs = OG(outputs, theta_mean=theta_mean)\n",
    "        ## Recover original disposition\n",
    "        denom = rearrange(outputs, \"b h w (phase f theta) -> b h w (phase theta f)\", b=b, h=h, w=w, phase=2, f=config.N_SCALES, theta=config.N_ORIENTATIONS)\n",
    "\n",
    "        ## Coef\n",
    "        coef = GL(inputs_star_**self.alpha, train=train)#/(self.kernel_size**2)\n",
    "        coef = FG(coef, fmean=fmean)\n",
    "        coef = rearrange(coef, \"b h w (phase theta f) -> b h w (phase f theta)\", b=b, h=h, w=w, phase=2, f=config.N_SCALES, theta=config.N_ORIENTATIONS)\n",
    "        coef = OG(coef, theta_mean=theta_mean) + bias\n",
    "        coef = rearrange(coef, \"b h w (phase f theta) -> b h w (phase theta f)\", b=b, h=h, w=w, phase=2, f=config.N_SCALES, theta=config.N_ORIENTATIONS)\n",
    "        coef = jnp.clip(coef+bias, a_min=1e-5)**self.epsilon\n",
    "        # coef = inputs_star.value * coef\n",
    "        if self.outputs_star is not None: coef = coef/inputs_star.value*self.outputs_star\n",
    "\n",
    "        if is_initialized and train:\n",
    "            inputs_star.value = (inputs_star.value + jnp.quantile(jnp.abs(inputs), q=0.95, axis=(0,1,2)))/2\n",
    "        return coef * inputs / (jnp.clip(denom+bias, a_min=1e-5)**self.epsilon + self.eps)"
   ]
  },
  {
   "cell_type": "code",
   "execution_count": 13,
   "metadata": {},
   "outputs": [],
   "source": [
    "from pickle import load\n",
    "with open(\"gabor_x_star.pkl\", \"rb\") as f:\n",
    "    gabor_x_star = load(f)"
   ]
  },
  {
   "cell_type": "code",
   "execution_count": 14,
   "metadata": {},
   "outputs": [],
   "source": [
    "class PerceptNet(nn.Module):\n",
    "    \"\"\"IQA model inspired by the visual system.\"\"\"\n",
    "\n",
    "    @nn.compact\n",
    "    def __call__(self,\n",
    "                 inputs, # Assuming fs = 128 (cpd)\n",
    "                 **kwargs,\n",
    "                 ):\n",
    "        ## (Independent) Color equilibration (Gamma correction)\n",
    "        ## bias = 0.1 / kernel = 0.5\n",
    "        outputs = GDNStarSign(kernel_size=(1,1), apply_independently=True, inputs_star=1.)(inputs)\n",
    "        \n",
    "        ## ATD Transformation\n",
    "        outputs = JamesonHurvich()(outputs)\n",
    "        outputs = nn.max_pool(outputs, window_shape=(2,2), strides=(2,2))\n",
    "        \n",
    "        ## GDN Star A - T - D [Separated]\n",
    "        ### A\n",
    "        outputs0 = GDNStarSign(kernel_size=(1,1), apply_independently=True, inputs_star=170.)(outputs[:,:,:,0:1])\n",
    "        ### T\n",
    "        outputs1 = GDNStarDisplacement(kernel_size=(1,1), apply_independently=True, inputs_star=55.)(outputs[:,:,:,1:2])\n",
    "        outputs1 = outputs1*(2*55/170)\n",
    "        ### D\n",
    "        outputs2 = GDNStarDisplacement(kernel_size=(1,1), apply_independently=True, inputs_star=55.)(outputs[:,:,:,2:3])\n",
    "        outputs2 = outputs2*(2*55/170)\n",
    "        ### Put them back together\n",
    "        outputs = jnp.concatenate([outputs0, outputs1, outputs2], axis=-1)\n",
    "\n",
    "        ## Apply CSF on Fourier\n",
    "        outputs = CSFFourier(fs=64, norm_energy=True)(outputs)\n",
    "        outputs = nn.max_pool(outputs, window_shape=(2,2), strides=(2,2))\n",
    "\n",
    "        ## GDN per channel with mean substraction in T and D (Spatial Gaussian Kernel)\n",
    "        ## TO-DO: - Spatial Gaussian Kernel (0.02 deg) -> fs = 64/2 & 0.02*64/2 = sigma (px) = 0.69\n",
    "        ### A\n",
    "        ### (384/4, 512/4, 1)\n",
    "        ### fs = 32 / kernel_size = (11,11) -> 0.32 > 0.02 --> OK!\n",
    "        outputs0 = GDNGaussianStarRunning(kernel_size=11, apply_independently=True, bias_init=equal_to([0.1]), inputs_star=0.3, outputs_star=None, fs=32)(outputs[:,:,:,0:1], **kwargs)\n",
    "        ### T\n",
    "        outputs1 = GDNGaussianStarRunning(kernel_size=11, apply_independently=True, bias_init=equal_to([0.01**2]), inputs_star=0.06, outputs_star=None, fs=32)(outputs[:,:,:,1:2], **kwargs)\n",
    "        ### D\n",
    "        outputs2 = GDNGaussianStarRunning(kernel_size=11, apply_independently=True, bias_init=equal_to([0.01**2]), inputs_star=0.08, outputs_star=None, fs=32)(outputs[:,:,:,2:3], **kwargs)\n",
    "        ### Put them back together\n",
    "        outputs = jnp.concatenate([outputs0, outputs1, outputs2], axis=-1)\n",
    "\n",
    "        ## GaborLayer per channel with GDN mixing only same-origin-channel information\n",
    "        ### A\n",
    "        outputs0, fmean, theta_mean = GaborLayerLogSigmaCoupled_(n_scales=config.N_SCALES, n_orientations=config.N_ORIENTATIONS, kernel_size=32, fs=32, strides=1, padding=\"SAME\", normalize_prob=config.NORMALIZE_PROB, normalize_energy=config.NORMALIZE_ENERGY, zero_mean=config.ZERO_MEAN, use_bias=config.USE_BIAS)(outputs[:,:,:,0:1], return_freq=True, return_theta=True, **kwargs)\n",
    "        ### [Gaussian] sigma = 0.2 (deg) fs = 32 / kernel_size = (21,21) -> 21/32 = 0.66 --> OK!\n",
    "        outputs0 = GDNSpatioFreqOrient(kernel_size=21, strides=1, padding=\"SAME\", fs=32, apply_independently=False, inputs_star=gabor_x_star[\"A\"])(outputs0, fmean=fmean, theta_mean=theta_mean, **kwargs)\n",
    "        ### T\n",
    "        outputs1, fmean, theta_mean = GaborLayerLogSigmaCoupled_(n_scales=config.N_SCALES, n_orientations=config.N_ORIENTATIONS, kernel_size=32, fs=32, strides=1, padding=\"SAME\", normalize_prob=config.NORMALIZE_PROB, normalize_energy=config.NORMALIZE_ENERGY, zero_mean=config.ZERO_MEAN, use_bias=config.USE_BIAS)(outputs[:,:,:,1:2], return_freq=True, return_theta=True, **kwargs)\n",
    "        ### [Gaussian] sigma = 0.2 (deg) fs = 32 / kernel_size = (21,21) -> 21/32 = 0.66 --> OK!\n",
    "        outputs1 = GDNSpatioFreqOrient(kernel_size=21, strides=1, padding=\"SAME\", fs=32, apply_independently=False, inputs_star=gabor_x_star[\"T\"])(outputs1, fmean=fmean, theta_mean=theta_mean, **kwargs)\n",
    "        ### D\n",
    "        outputs2, fmean, theta_mean = GaborLayerLogSigmaCoupled_(n_scales=config.N_SCALES, n_orientations=config.N_ORIENTATIONS, kernel_size=32, fs=32, strides=1, padding=\"SAME\", normalize_prob=config.NORMALIZE_PROB, normalize_energy=config.NORMALIZE_ENERGY, zero_mean=config.ZERO_MEAN, use_bias=config.USE_BIAS)(outputs[:,:,:,2:3], return_freq=True, return_theta=True, **kwargs)\n",
    "        ### [Gaussian] sigma = 0.2 (deg) fs = 32 / kernel_size = (21,21) -> 21/32 = 0.66 --> OK!\n",
    "        outputs2 = GDNSpatioFreqOrient(kernel_size=21, strides=1, padding=\"SAME\", fs=32, apply_independently=False, inputs_star=gabor_x_star[\"D\"])(outputs2, fmean=fmean, theta_mean=theta_mean, **kwargs)\n",
    "\n",
    "        ## Put them back together\n",
    "        outputs = jnp.concatenate([outputs0, outputs1, outputs2], axis=-1)\n",
    "        \n",
    "        return outputs"
   ]
  },
  {
   "cell_type": "code",
   "execution_count": 15,
   "metadata": {},
   "outputs": [],
   "source": [
    "def rearrange_gabors(gabors):\n",
    "    gabors_r = []\n",
    "    for i in range(64):\n",
    "        gabor_r = gabors[:,:,:,i::64]\n",
    "        gabors_r.append(gabor_r)\n",
    "    gabors_r = jnp.concatenate(gabors_r, axis=-1)\n",
    "    return gabors_r"
   ]
  },
  {
   "cell_type": "code",
   "execution_count": 16,
   "metadata": {},
   "outputs": [],
   "source": [
    "class FineTunner(nn.Module):\n",
    "    def setup(self):\n",
    "        self.perceptnet = PerceptNet()\n",
    "        self.ft = nn.Conv(features=64, kernel_size=(1,1), feature_group_count=64, use_bias=False, kernel_init=nn.ones_init())\n",
    "        \n",
    "    \n",
    "    def __call__(self, inputs, **kwargs):\n",
    "        outputs = self.perceptnet(inputs, **kwargs)\n",
    "        outputs = rearrange_gabors(outputs)\n",
    "        outputs = self.ft(outputs)\n",
    "        return outputs"
   ]
  },
  {
   "attachments": {},
   "cell_type": "markdown",
   "metadata": {},
   "source": [
    "## Define the metrics with `clu`"
   ]
  },
  {
   "cell_type": "code",
   "execution_count": 17,
   "metadata": {},
   "outputs": [],
   "source": [
    "@struct.dataclass\n",
    "class Metrics(metrics.Collection):\n",
    "    \"\"\"Collection of metrics to be tracked during training.\"\"\"\n",
    "    loss: metrics.Average.from_output(\"loss\")"
   ]
  },
  {
   "attachments": {},
   "cell_type": "markdown",
   "metadata": {},
   "source": [
    "By default, `TrainState` doesn't include metrics, but it's very easy to subclass it so that it does:"
   ]
  },
  {
   "cell_type": "code",
   "execution_count": 18,
   "metadata": {},
   "outputs": [],
   "source": [
    "class TrainState(train_state.TrainState):\n",
    "    metrics: Metrics\n",
    "    state: FrozenDict"
   ]
  },
  {
   "attachments": {},
   "cell_type": "markdown",
   "metadata": {},
   "source": [
    "We'll define a function that initializes the `TrainState` from a module, a rng key and some optimizer:"
   ]
  },
  {
   "cell_type": "code",
   "execution_count": 19,
   "metadata": {},
   "outputs": [],
   "source": [
    "def create_train_state(module, key, tx, input_shape):\n",
    "    \"\"\"Creates the initial `TrainState`.\"\"\"\n",
    "    variables = module.init(key, jnp.ones(input_shape))\n",
    "    state, params = variables.pop('params')\n",
    "    return TrainState.create(\n",
    "        apply_fn=module.apply,\n",
    "        params=params,\n",
    "        state=state,\n",
    "        tx=tx,\n",
    "        metrics=Metrics.empty()\n",
    "    )"
   ]
  },
  {
   "attachments": {},
   "cell_type": "markdown",
   "metadata": {},
   "source": [
    "## Defining the training step\n",
    "\n",
    "> We want to write a function that takes the `TrainState` and a batch of data can performs an optimization step."
   ]
  },
  {
   "cell_type": "code",
   "execution_count": 20,
   "metadata": {},
   "outputs": [],
   "source": [
    "def pearson_correlation(vec1, vec2):\n",
    "    vec1 = vec1.squeeze()\n",
    "    vec2 = vec2.squeeze()\n",
    "    vec1_mean = vec1.mean()\n",
    "    vec2_mean = vec2.mean()\n",
    "    num = vec1-vec1_mean\n",
    "    num *= vec2-vec2_mean\n",
    "    num = num.sum()\n",
    "    denom = jnp.sqrt(jnp.sum((vec1-vec1_mean)**2))\n",
    "    denom *= jnp.sqrt(jnp.sum((vec2-vec2_mean)**2))\n",
    "    return num/denom"
   ]
  },
  {
   "cell_type": "code",
   "execution_count": 21,
   "metadata": {},
   "outputs": [],
   "source": [
    "@jax.jit\n",
    "def train_step(state, batch):\n",
    "    \"\"\"Train for a single step.\"\"\"\n",
    "    img, img_dist, mos = batch\n",
    "    def loss_fn(params):\n",
    "        ## Forward pass through the model\n",
    "        img_pred, updated_state = state.apply_fn({\"params\": params, **state.state}, img, mutable=list(state.state.keys()), train=True)\n",
    "        img_dist_pred, updated_state = state.apply_fn({\"params\": params, **state.state}, img_dist, mutable=list(state.state.keys()), train=True)\n",
    "\n",
    "        ## Calculate the distance\n",
    "        dist = ((img_pred - img_dist_pred)**2).sum(axis=(1,2,3))**(1/2)\n",
    "        \n",
    "        ## Calculate pearson correlation\n",
    "        return pearson_correlation(dist, mos), updated_state\n",
    "    \n",
    "    (loss, updated_state), grads = jax.value_and_grad(loss_fn, has_aux=True)(state.params)\n",
    "    state = state.apply_gradients(grads=grads)\n",
    "    metrics_updates = state.metrics.single_from_model_output(loss=loss)\n",
    "    metrics = state.metrics.merge(metrics_updates)\n",
    "    state = state.replace(metrics=metrics)\n",
    "    state = state.replace(state=updated_state)\n",
    "    return state"
   ]
  },
  {
   "attachments": {},
   "cell_type": "markdown",
   "metadata": {},
   "source": [
    "In their example, they don't calculate the metrics at the same time. I think it is kind of a waste because it means having to perform a new forward pass, but we'll follow as of now. Let's define a function to perform metric calculation:"
   ]
  },
  {
   "cell_type": "code",
   "execution_count": 22,
   "metadata": {},
   "outputs": [],
   "source": [
    "@jax.jit\n",
    "def compute_metrics(*, state, batch):\n",
    "    \"\"\"Obtaining the metrics for a given batch.\"\"\"\n",
    "    img, img_dist, mos = batch\n",
    "    def loss_fn(params):\n",
    "        ## Forward pass through the model\n",
    "        img_pred, updated_state = state.apply_fn({\"params\": params, **state.state}, img, mutable=list(state.state.keys()), train=False)\n",
    "        img_dist_pred, updated_state = state.apply_fn({\"params\": params, **state.state}, img_dist, mutable=list(state.state.keys()), train=False)\n",
    "\n",
    "        ## Calculate the distance\n",
    "        dist = ((img_pred - img_dist_pred)**2).sum(axis=(1,2,3))**(1/2)\n",
    "        \n",
    "        ## Calculate pearson correlation\n",
    "        return pearson_correlation(dist, mos)\n",
    "    \n",
    "    metrics_updates = state.metrics.single_from_model_output(loss=loss_fn(state.params))\n",
    "    metrics = state.metrics.merge(metrics_updates)\n",
    "    state = state.replace(metrics=metrics)\n",
    "    return state"
   ]
  },
  {
   "attachments": {},
   "cell_type": "markdown",
   "metadata": {},
   "source": [
    "## Train the model!"
   ]
  },
  {
   "cell_type": "code",
   "execution_count": 23,
   "metadata": {},
   "outputs": [],
   "source": [
    "state = create_train_state(FineTunner(), random.PRNGKey(config.SEED), optax.adam(config.LEARNING_RATE), input_shape=(1,384,512,3))\n",
    "state = state.replace(params=clip_layer(state.params, \"GDN\", a_min=0))"
   ]
  },
  {
   "cell_type": "code",
   "execution_count": 24,
   "metadata": {},
   "outputs": [],
   "source": [
    "import flax"
   ]
  },
  {
   "cell_type": "code",
   "execution_count": 25,
   "metadata": {},
   "outputs": [
    {
     "data": {
      "text/plain": [
       "frozen_dict_keys(['perceptnet', 'ft'])"
      ]
     },
     "execution_count": 25,
     "metadata": {},
     "output_type": "execute_result"
    }
   ],
   "source": [
    "state.params.keys()"
   ]
  },
  {
   "cell_type": "code",
   "execution_count": 26,
   "metadata": {},
   "outputs": [],
   "source": [
    "def check_trainable(path):\n",
    "    return \"perceptnet\" in path"
   ]
  },
  {
   "cell_type": "code",
   "execution_count": 27,
   "metadata": {},
   "outputs": [
    {
     "data": {
      "text/plain": [
       "FrozenDict({\n",
       "    perceptnet: {\n",
       "        GDNStarSign_0: {\n",
       "            Conv_0: {\n",
       "                kernel: 'non_trainable',\n",
       "                bias: 'non_trainable',\n",
       "            },\n",
       "        },\n",
       "        GDNStarSign_1: {\n",
       "            Conv_0: {\n",
       "                kernel: 'non_trainable',\n",
       "                bias: 'non_trainable',\n",
       "            },\n",
       "        },\n",
       "        GDNStarDisplacement_0: {\n",
       "            Conv_0: {\n",
       "                kernel: 'non_trainable',\n",
       "                bias: 'non_trainable',\n",
       "            },\n",
       "        },\n",
       "        GDNStarDisplacement_1: {\n",
       "            Conv_0: {\n",
       "                kernel: 'non_trainable',\n",
       "                bias: 'non_trainable',\n",
       "            },\n",
       "        },\n",
       "        CSFFourier_0: {\n",
       "            alpha_achrom: 'non_trainable',\n",
       "            alpha_chrom_rg: 'non_trainable',\n",
       "            alpha_chrom_yb: 'non_trainable',\n",
       "            beta_achrom: 'non_trainable',\n",
       "            beta_chrom: 'non_trainable',\n",
       "            fm: 'non_trainable',\n",
       "            s: 'non_trainable',\n",
       "        },\n",
       "        GDNGaussianStarRunning_0: {\n",
       "            GaussianLayerGamma_0: {\n",
       "                gamma: 'non_trainable',\n",
       "                A: 'non_trainable',\n",
       "                bias: 'non_trainable',\n",
       "            },\n",
       "        },\n",
       "        GDNGaussianStarRunning_1: {\n",
       "            GaussianLayerGamma_0: {\n",
       "                gamma: 'non_trainable',\n",
       "                A: 'non_trainable',\n",
       "                bias: 'non_trainable',\n",
       "            },\n",
       "        },\n",
       "        GDNGaussianStarRunning_2: {\n",
       "            GaussianLayerGamma_0: {\n",
       "                gamma: 'non_trainable',\n",
       "                A: 'non_trainable',\n",
       "                bias: 'non_trainable',\n",
       "            },\n",
       "        },\n",
       "        GaborLayerLogSigmaCoupled__0: {\n",
       "            freq: 'non_trainable',\n",
       "            logsigma2: 'non_trainable',\n",
       "            theta: 'non_trainable',\n",
       "        },\n",
       "        GDNSpatioFreqOrient_0: {\n",
       "            bias: 'non_trainable',\n",
       "            GaussianLayerGamma_0: {\n",
       "                gamma: 'non_trainable',\n",
       "                A: 'non_trainable',\n",
       "            },\n",
       "            FreqGaussian_0: {\n",
       "                sigma: 'non_trainable',\n",
       "            },\n",
       "            OrientGaussian_0: {\n",
       "                sigma: 'non_trainable',\n",
       "            },\n",
       "        },\n",
       "        GaborLayerLogSigmaCoupled__1: {\n",
       "            freq: 'non_trainable',\n",
       "            logsigma2: 'non_trainable',\n",
       "            theta: 'non_trainable',\n",
       "        },\n",
       "        GDNSpatioFreqOrient_1: {\n",
       "            bias: 'non_trainable',\n",
       "            GaussianLayerGamma_0: {\n",
       "                gamma: 'non_trainable',\n",
       "                A: 'non_trainable',\n",
       "            },\n",
       "            FreqGaussian_0: {\n",
       "                sigma: 'non_trainable',\n",
       "            },\n",
       "            OrientGaussian_0: {\n",
       "                sigma: 'non_trainable',\n",
       "            },\n",
       "        },\n",
       "        GaborLayerLogSigmaCoupled__2: {\n",
       "            freq: 'non_trainable',\n",
       "            logsigma2: 'non_trainable',\n",
       "            theta: 'non_trainable',\n",
       "        },\n",
       "        GDNSpatioFreqOrient_2: {\n",
       "            bias: 'non_trainable',\n",
       "            GaussianLayerGamma_0: {\n",
       "                gamma: 'non_trainable',\n",
       "                A: 'non_trainable',\n",
       "            },\n",
       "            FreqGaussian_0: {\n",
       "                sigma: 'non_trainable',\n",
       "            },\n",
       "            OrientGaussian_0: {\n",
       "                sigma: 'non_trainable',\n",
       "            },\n",
       "        },\n",
       "    },\n",
       "    ft: {\n",
       "        kernel: 'trainable',\n",
       "    },\n",
       "})"
      ]
     },
     "execution_count": 27,
     "metadata": {},
     "output_type": "execute_result"
    }
   ],
   "source": [
    "trainable_tree = freeze(flax.traverse_util.path_aware_map(lambda path, v: \"non_trainable\" if check_trainable(path)  else \"trainable\", state.params))\n",
    "trainable_tree"
   ]
  },
  {
   "cell_type": "code",
   "execution_count": 28,
   "metadata": {},
   "outputs": [],
   "source": [
    "optimizers = {\n",
    "    \"trainable\": optax.adam(learning_rate=config.LEARNING_RATE),\n",
    "    \"non_trainable\": optax.set_to_zero(),\n",
    "}"
   ]
  },
  {
   "cell_type": "code",
   "execution_count": 29,
   "metadata": {},
   "outputs": [],
   "source": [
    "tx = optax.multi_transform(optimizers, trainable_tree)"
   ]
  },
  {
   "cell_type": "code",
   "execution_count": 30,
   "metadata": {},
   "outputs": [],
   "source": [
    "state = create_train_state(FineTunner(), random.PRNGKey(config.SEED), tx, input_shape=(1,384,512,3))\n",
    "state = state.replace(params=clip_layer(state.params, \"GDN\", a_min=0))\n",
    "state = state.replace(params=clip_layer(state.params, \"alpha_achrom\", a_min=1))"
   ]
  },
  {
   "cell_type": "code",
   "execution_count": 7,
   "metadata": {},
   "outputs": [
    {
     "data": {
      "text/plain": [
       "(880, 192)"
      ]
     },
     "execution_count": 7,
     "metadata": {},
     "output_type": "execute_result"
    }
   ],
   "source": [
    "param_count = sum(x.size for x in jax.tree_util.tree_leaves(state.params))\n",
    "trainable_param_count = sum([w.size if t==\"trainable\" else 0 for w, t in zip(jax.tree_util.tree_leaves(state.params), jax.tree_util.tree_leaves(trainable_tree))])\n",
    "param_count, trainable_param_count"
   ]
  },
  {
   "cell_type": "code",
   "execution_count": 56,
   "metadata": {},
   "outputs": [],
   "source": [
    "wandb.run.summary[\"total_parameters\"] = param_count\n",
    "wandb.run.summary[\"trainable_parameters\"] = trainable_param_count"
   ]
  },
  {
   "cell_type": "code",
   "execution_count": null,
   "metadata": {},
   "outputs": [],
   "source": [
    "state = state.replace(params=unfreeze(state.params))\n",
    "\n",
    "## DN 0\n",
    "state.params[\"perceptnet\"][\"GDNStarSign_0\"][\"Conv_0\"][\"bias\"] = jnp.ones_like(state.params[\"perceptnet\"][\"GDNStarSign_0\"][\"Conv_0\"][\"bias\"])*0.1\n",
    "state.params[\"perceptnet\"][\"GDNStarSign_0\"][\"Conv_0\"][\"kernel\"] = jnp.ones_like(state.params[\"perceptnet\"][\"GDNStarSign_0\"][\"Conv_0\"][\"kernel\"])*0.5\n",
    "\n",
    "## DN J&H\n",
    "state.params[\"perceptnet\"][\"GDNStarSign_1\"][\"Conv_0\"][\"bias\"] = jnp.ones_like(state.params[\"perceptnet\"][\"GDNStarSign_1\"][\"Conv_0\"][\"bias\"])*30.**2\n",
    "state.params[\"perceptnet\"][\"GDNStarSign_1\"][\"Conv_0\"][\"kernel\"] = jnp.ones_like(state.params[\"perceptnet\"][\"GDNStarSign_1\"][\"Conv_0\"][\"kernel\"])*0.5\n",
    "\n",
    "state.params[\"perceptnet\"][\"GDNStarDisplacement_0\"][\"Conv_0\"][\"bias\"] = jnp.ones_like(state.params[\"perceptnet\"][\"GDNStarDisplacement_0\"][\"Conv_0\"][\"bias\"])*10.**2\n",
    "state.params[\"perceptnet\"][\"GDNStarDisplacement_0\"][\"Conv_0\"][\"kernel\"] = jnp.ones_like(state.params[\"perceptnet\"][\"GDNStarDisplacement_0\"][\"Conv_0\"][\"kernel\"])*0.5\n",
    "\n",
    "state.params[\"perceptnet\"][\"GDNStarDisplacement_1\"][\"Conv_0\"][\"bias\"] = jnp.ones_like(state.params[\"perceptnet\"][\"GDNStarDisplacement_1\"][\"Conv_0\"][\"bias\"])*10.**2\n",
    "state.params[\"perceptnet\"][\"GDNStarDisplacement_1\"][\"Conv_0\"][\"kernel\"] = jnp.ones_like(state.params[\"perceptnet\"][\"GDNStarDisplacement_1\"][\"Conv_0\"][\"kernel\"])*0.5\n",
    "\n",
    "state.params[\"perceptnet\"][\"GDNGaussianStarRunning_0\"][\"GaussianLayerGamma_0\"][\"gamma\"] = jnp.ones_like(state.params[\"perceptnet\"][\"GDNGaussianStarRunning_0\"][\"GaussianLayerGamma_0\"][\"gamma\"])*(1./0.04)\n",
    "state.params[\"perceptnet\"][\"GDNGaussianStarRunning_1\"][\"GaussianLayerGamma_0\"][\"gamma\"] = jnp.ones_like(state.params[\"perceptnet\"][\"GDNGaussianStarRunning_1\"][\"GaussianLayerGamma_0\"][\"gamma\"])*(1./0.04)\n",
    "state.params[\"perceptnet\"][\"GDNGaussianStarRunning_2\"][\"GaussianLayerGamma_0\"][\"gamma\"] = jnp.ones_like(state.params[\"perceptnet\"][\"GDNGaussianStarRunning_2\"][\"GaussianLayerGamma_0\"][\"gamma\"])*(1./0.04)\n",
    "\n",
    "state.params[\"perceptnet\"][\"GDNSpatioFreqOrient_0\"][\"GaussianLayerGamma_0\"][\"gamma\"] = jnp.ones_like(state.params[\"perceptnet\"][\"GDNSpatioFreqOrient_0\"][\"GaussianLayerGamma_0\"][\"gamma\"])*(1./0.1)\n",
    "state.params[\"perceptnet\"][\"GDNSpatioFreqOrient_1\"][\"GaussianLayerGamma_0\"][\"gamma\"] = jnp.ones_like(state.params[\"perceptnet\"][\"GDNSpatioFreqOrient_1\"][\"GaussianLayerGamma_0\"][\"gamma\"])*(1./0.1)\n",
    "state.params[\"perceptnet\"][\"GDNSpatioFreqOrient_2\"][\"GaussianLayerGamma_0\"][\"gamma\"] = jnp.ones_like(state.params[\"perceptnet\"][\"GDNSpatioFreqOrient_2\"][\"GaussianLayerGamma_0\"][\"gamma\"])*(1./0.1)\n",
    "\n",
    "state.params[\"perceptnet\"][\"GDNSpatioFreqOrient_0\"][\"OrientGaussian_0\"][\"sigma\"] = jnp.ones_like(state.params[\"perceptnet\"][\"GDNSpatioFreqOrient_0\"][\"OrientGaussian_0\"][\"sigma\"])*20\n",
    "state.params[\"perceptnet\"][\"GDNSpatioFreqOrient_1\"][\"OrientGaussian_0\"][\"sigma\"] = jnp.ones_like(state.params[\"perceptnet\"][\"GDNSpatioFreqOrient_1\"][\"OrientGaussian_0\"][\"sigma\"])*20\n",
    "state.params[\"perceptnet\"][\"GDNSpatioFreqOrient_2\"][\"OrientGaussian_0\"][\"sigma\"] = jnp.ones_like(state.params[\"perceptnet\"][\"GDNSpatioFreqOrient_2\"][\"OrientGaussian_0\"][\"sigma\"])*20\n",
    "\n",
    "state.params[\"perceptnet\"][\"GDNSpatioFreqOrient_0\"][\"bias\"] = jnp.tile(jnp.array([0.001, 0.002, 0.0035, 0.01])/100, reps=config.N_ORIENTATIONS*2)\n",
    "state.params[\"perceptnet\"][\"GDNSpatioFreqOrient_1\"][\"bias\"] = jnp.tile(jnp.array([0.001, 0.002, 0.0035, 0.01])/100, reps=config.N_ORIENTATIONS*2)\n",
    "state.params[\"perceptnet\"][\"GDNSpatioFreqOrient_2\"][\"bias\"] = jnp.tile(jnp.array([0.001, 0.002, 0.0035, 0.01])/100, reps=config.N_ORIENTATIONS*2)\n",
    "\n",
    "\n",
    "state = state.replace(params=freeze(state.params))"
   ]
  },
  {
   "cell_type": "markdown",
   "metadata": {},
   "source": [
    "Before actually training the model we're going to set up the checkpointer to be able to save our trained models:"
   ]
  },
  {
   "cell_type": "code",
   "execution_count": null,
   "metadata": {},
   "outputs": [],
   "source": [
    "orbax_checkpointer = orbax.checkpoint.PyTreeCheckpointer()\n",
    "save_args = orbax_utils.save_args_from_target(state)"
   ]
  },
  {
   "cell_type": "code",
   "execution_count": null,
   "metadata": {},
   "outputs": [],
   "source": [
    "metrics_history = {\n",
    "    \"train_loss\": [],\n",
    "    \"val_loss\": [],\n",
    "}"
   ]
  },
  {
   "cell_type": "code",
   "execution_count": null,
   "metadata": {},
   "outputs": [
    {
     "ename": "<class 'NameError'>",
     "evalue": "name 'dst_train_rdy' is not defined",
     "output_type": "error",
     "traceback": [
      "\u001b[0;31m---------------------------------------------------------------------------\u001b[0m",
      "\u001b[0;31mNameError\u001b[0m                                 Traceback (most recent call last)",
      "Cell \u001b[0;32mIn[1], line 1\u001b[0m\n\u001b[0;32m----> 1\u001b[0m batch \u001b[38;5;241m=\u001b[39m \u001b[38;5;28mnext\u001b[39m(\u001b[38;5;28miter\u001b[39m(\u001b[43mdst_train_rdy\u001b[49m\u001b[38;5;241m.\u001b[39mas_numpy_iterator()))\n",
      "\u001b[0;31mNameError\u001b[0m: name 'dst_train_rdy' is not defined"
     ]
    }
   ],
   "source": [
    "batch = next(iter(dst_train_rdy.as_numpy_iterator()))"
   ]
  },
  {
   "cell_type": "code",
   "execution_count": null,
   "metadata": {},
   "outputs": [],
   "source": [
    "from functools import partial"
   ]
  },
  {
   "cell_type": "code",
   "execution_count": null,
   "metadata": {},
   "outputs": [],
   "source": [
    "@jax.jit\n",
    "def forward(state, inputs):\n",
    "    return state.apply_fn({\"params\": state.params, **state.state}, inputs, train=False)"
   ]
  },
  {
   "cell_type": "code",
   "execution_count": 8,
   "metadata": {},
   "outputs": [
    {
     "name": "stdout",
     "output_type": "stream",
     "text": [
      "CPU times: user 15.7 s, sys: 812 ms, total: 16.5 s\n",
      "Wall time: 17.5 s\n"
     ]
    },
    {
     "data": {
      "text/plain": [
       "(16, 96, 128, 64)"
      ]
     },
     "execution_count": 8,
     "metadata": {},
     "output_type": "execute_result"
    }
   ],
   "source": [
    "%%time\n",
    "outputs = forward(state, batch[0])\n",
    "outputs.shape"
   ]
  },
  {
   "cell_type": "code",
   "execution_count": null,
   "metadata": {},
   "outputs": [
    {
     "ename": "<class 'NameError'>",
     "evalue": "name 'outputs' is not defined",
     "output_type": "error",
     "traceback": [
      "\u001b[0;31m---------------------------------------------------------------------------\u001b[0m",
      "\u001b[0;31mNameError\u001b[0m                                 Traceback (most recent call last)",
      "Cell \u001b[0;32mIn[1], line 1\u001b[0m\n\u001b[0;32m----> 1\u001b[0m \u001b[38;5;28;01mdel\u001b[39;00m outputs\n",
      "\u001b[0;31mNameError\u001b[0m: name 'outputs' is not defined"
     ]
    }
   ],
   "source": [
    "del outputs"
   ]
  },
  {
   "cell_type": "code",
   "execution_count": null,
   "metadata": {},
   "outputs": [
    {
     "name": "stdout",
     "output_type": "stream",
     "text": [
      "CPU times: user 34.3 s, sys: 327 ms, total: 34.6 s\n",
      "Wall time: 38.3 s\n"
     ]
    }
   ],
   "source": [
    "%%time\n",
    "s1 = train_step(state, batch)"
   ]
  },
  {
   "cell_type": "code",
   "execution_count": null,
   "metadata": {},
   "outputs": [],
   "source": [
    "# jax.config.update(\"jax_debug_nans\", True)"
   ]
  },
  {
   "cell_type": "code",
   "execution_count": null,
   "metadata": {},
   "outputs": [
    {
     "name": "stdout",
     "output_type": "stream",
     "text": [
      "Epoch 0 -> [Train] Loss: -0.4407031536102295 [Val] Loss: -0.691020667552948\n",
      "Epoch 1 -> [Train] Loss: -0.47649243474006653 [Val] Loss: -0.7083336114883423\n",
      "Epoch 2 -> [Train] Loss: -0.503066897392273 [Val] Loss: -0.7262470126152039\n",
      "Epoch 3 -> [Train] Loss: -0.5610845685005188 [Val] Loss: -0.7443600296974182\n",
      "Epoch 4 -> [Train] Loss: -0.5830384492874146 [Val] Loss: -0.7608688473701477\n",
      "Epoch 5 -> [Train] Loss: -0.6211646795272827 [Val] Loss: -0.7749271392822266\n",
      "Epoch 6 -> [Train] Loss: -0.6709436178207397 [Val] Loss: -0.7872247695922852\n",
      "Epoch 7 -> [Train] Loss: -0.7084095478057861 [Val] Loss: -0.7949213981628418\n",
      "Epoch 8 -> [Train] Loss: -0.7002059817314148 [Val] Loss: -0.7989383339881897\n",
      "Epoch 9 -> [Train] Loss: -0.7304458022117615 [Val] Loss: -0.8024513721466064\n",
      "Epoch 10 -> [Train] Loss: -0.7481291890144348 [Val] Loss: -0.8037691712379456\n",
      "Epoch 11 -> [Train] Loss: -0.7465277314186096 [Val] Loss: -0.8040617108345032\n",
      "Epoch 12 -> [Train] Loss: -0.7583193778991699 [Val] Loss: -0.8070898652076721\n",
      "Epoch 13 -> [Train] Loss: -0.7582719326019287 [Val] Loss: -0.806848406791687\n",
      "Epoch 14 -> [Train] Loss: -0.7589769959449768 [Val] Loss: -0.8064159750938416\n",
      "Epoch 15 -> [Train] Loss: -0.7594558596611023 [Val] Loss: -0.8068960309028625\n",
      "Epoch 16 -> [Train] Loss: -0.7658147811889648 [Val] Loss: -0.8088236451148987\n",
      "Epoch 17 -> [Train] Loss: -0.7678923010826111 [Val] Loss: -0.8079538941383362\n",
      "Epoch 18 -> [Train] Loss: -0.7671957015991211 [Val] Loss: -0.8097575306892395\n",
      "Epoch 19 -> [Train] Loss: -0.7752012610435486 [Val] Loss: -0.8091317415237427\n",
      "Epoch 20 -> [Train] Loss: -0.7640789747238159 [Val] Loss: -0.8106933832168579\n",
      "Epoch 21 -> [Train] Loss: -0.7644416689872742 [Val] Loss: -0.8093706369400024\n",
      "Epoch 22 -> [Train] Loss: -0.7654655575752258 [Val] Loss: -0.8101688027381897\n",
      "Epoch 23 -> [Train] Loss: -0.7755468487739563 [Val] Loss: -0.8110471367835999\n",
      "Epoch 24 -> [Train] Loss: -0.7775936126708984 [Val] Loss: -0.8103746175765991\n",
      "Epoch 25 -> [Train] Loss: -0.7679244875907898 [Val] Loss: -0.8120696544647217\n",
      "Epoch 26 -> [Train] Loss: -0.772528886795044 [Val] Loss: -0.8117049336433411\n",
      "Epoch 27 -> [Train] Loss: -0.7767218351364136 [Val] Loss: -0.8118731379508972\n",
      "Epoch 28 -> [Train] Loss: -0.7685018181800842 [Val] Loss: -0.8123984932899475\n",
      "Epoch 29 -> [Train] Loss: -0.7687042355537415 [Val] Loss: -0.8122681975364685\n",
      "Epoch 30 -> [Train] Loss: -0.7820048332214355 [Val] Loss: -0.8120439648628235\n",
      "Epoch 31 -> [Train] Loss: -0.787834882736206 [Val] Loss: -0.8105387687683105\n",
      "Epoch 32 -> [Train] Loss: -0.7808172702789307 [Val] Loss: -0.8113332390785217\n",
      "Epoch 33 -> [Train] Loss: -0.7787579894065857 [Val] Loss: -0.8113543391227722\n",
      "Epoch 34 -> [Train] Loss: -0.7686256170272827 [Val] Loss: -0.8119151592254639\n",
      "Epoch 35 -> [Train] Loss: -0.7741405367851257 [Val] Loss: -0.8127744197845459\n",
      "Epoch 36 -> [Train] Loss: -0.7793260812759399 [Val] Loss: -0.8104564547538757\n",
      "Epoch 37 -> [Train] Loss: -0.7777342200279236 [Val] Loss: -0.813025712966919\n",
      "Epoch 38 -> [Train] Loss: -0.7781006693840027 [Val] Loss: -0.8113461136817932\n",
      "Epoch 39 -> [Train] Loss: -0.7705687880516052 [Val] Loss: -0.8126158118247986\n",
      "Epoch 40 -> [Train] Loss: -0.7785462141036987 [Val] Loss: -0.811945378780365\n",
      "Epoch 41 -> [Train] Loss: -0.7783094048500061 [Val] Loss: -0.8139865398406982\n",
      "Epoch 42 -> [Train] Loss: -0.7850773930549622 [Val] Loss: -0.8136851191520691\n",
      "Epoch 43 -> [Train] Loss: -0.7812067866325378 [Val] Loss: -0.8138167858123779\n",
      "Epoch 44 -> [Train] Loss: -0.7813095450401306 [Val] Loss: -0.8142809867858887\n",
      "Epoch 45 -> [Train] Loss: -0.7827930450439453 [Val] Loss: -0.8122202157974243\n",
      "Epoch 46 -> [Train] Loss: -0.7818213105201721 [Val] Loss: -0.8139408826828003\n",
      "Epoch 47 -> [Train] Loss: -0.7789721488952637 [Val] Loss: -0.8149706721305847\n",
      "Epoch 48 -> [Train] Loss: -0.7801300883293152 [Val] Loss: -0.8140419125556946\n",
      "Epoch 49 -> [Train] Loss: -0.7834729552268982 [Val] Loss: -0.813690721988678\n",
      "Epoch 50 -> [Train] Loss: -0.7841806411743164 [Val] Loss: -0.8138911128044128\n",
      "Epoch 51 -> [Train] Loss: -0.7838418483734131 [Val] Loss: -0.8152790069580078\n",
      "Epoch 52 -> [Train] Loss: -0.7774018049240112 [Val] Loss: -0.8134108185768127\n",
      "Epoch 53 -> [Train] Loss: -0.7804535031318665 [Val] Loss: -0.8140179514884949\n",
      "Epoch 54 -> [Train] Loss: -0.7836658358573914 [Val] Loss: -0.8148691058158875\n",
      "Epoch 55 -> [Train] Loss: -0.7787215709686279 [Val] Loss: -0.8149194121360779\n",
      "Epoch 56 -> [Train] Loss: -0.7795150279998779 [Val] Loss: -0.8149789571762085\n",
      "Epoch 57 -> [Train] Loss: -0.7792768478393555 [Val] Loss: -0.8165501356124878\n",
      "Epoch 58 -> [Train] Loss: -0.7897844314575195 [Val] Loss: -0.8154276013374329\n",
      "Epoch 59 -> [Train] Loss: -0.7810230851173401 [Val] Loss: -0.8153685927391052\n",
      "Epoch 60 -> [Train] Loss: -0.7870717644691467 [Val] Loss: -0.8143759965896606\n",
      "Epoch 61 -> [Train] Loss: -0.7819292545318604 [Val] Loss: -0.8145062923431396\n",
      "Epoch 62 -> [Train] Loss: -0.7819591760635376 [Val] Loss: -0.8166404962539673\n",
      "Epoch 63 -> [Train] Loss: -0.774752676486969 [Val] Loss: -0.8151499032974243\n",
      "Epoch 64 -> [Train] Loss: -0.7866319417953491 [Val] Loss: -0.8149933218955994\n",
      "Epoch 65 -> [Train] Loss: -0.7891090512275696 [Val] Loss: -0.8122666478157043\n",
      "Epoch 66 -> [Train] Loss: -0.7819375991821289 [Val] Loss: -0.8166059255599976\n",
      "Epoch 67 -> [Train] Loss: -0.7811945080757141 [Val] Loss: -0.8146318197250366\n",
      "Epoch 68 -> [Train] Loss: -0.7835237979888916 [Val] Loss: -0.812594473361969\n",
      "Epoch 69 -> [Train] Loss: -0.7889896035194397 [Val] Loss: -0.8151204586029053\n",
      "Epoch 70 -> [Train] Loss: -0.7760226130485535 [Val] Loss: -0.8144717216491699\n",
      "Epoch 71 -> [Train] Loss: -0.7807154655456543 [Val] Loss: -0.8147857189178467\n",
      "Epoch 72 -> [Train] Loss: -0.7683562636375427 [Val] Loss: -0.8145075440406799\n",
      "Epoch 73 -> [Train] Loss: -0.7840245962142944 [Val] Loss: -0.8160455822944641\n",
      "Epoch 74 -> [Train] Loss: -0.7816715836524963 [Val] Loss: -0.8125433325767517\n",
      "Epoch 75 -> [Train] Loss: -0.7811393737792969 [Val] Loss: -0.8150593638420105\n",
      "Epoch 76 -> [Train] Loss: -0.7777514457702637 [Val] Loss: -0.8152499198913574\n",
      "Epoch 77 -> [Train] Loss: -0.7799666523933411 [Val] Loss: -0.8153473138809204\n",
      "Epoch 78 -> [Train] Loss: -0.7768239974975586 [Val] Loss: -0.8158345818519592\n",
      "Epoch 79 -> [Train] Loss: -0.7737786769866943 [Val] Loss: -0.814494788646698\n",
      "Epoch 80 -> [Train] Loss: -0.7836658358573914 [Val] Loss: -0.8145727515220642\n",
      "Epoch 81 -> [Train] Loss: -0.7736732959747314 [Val] Loss: -0.8157300353050232\n",
      "Epoch 82 -> [Train] Loss: -0.7758287191390991 [Val] Loss: -0.8153666257858276\n",
      "Epoch 83 -> [Train] Loss: -0.7795474529266357 [Val] Loss: -0.8155124187469482\n",
      "Epoch 84 -> [Train] Loss: -0.7780593633651733 [Val] Loss: -0.8153567314147949\n",
      "Epoch 85 -> [Train] Loss: -0.7906147241592407 [Val] Loss: -0.815440833568573\n",
      "Epoch 86 -> [Train] Loss: -0.7763949632644653 [Val] Loss: -0.8149843215942383\n",
      "Epoch 87 -> [Train] Loss: -0.7797759771347046 [Val] Loss: -0.815082848072052\n",
      "Epoch 88 -> [Train] Loss: -0.7751703858375549 [Val] Loss: -0.8135949373245239\n",
      "Epoch 89 -> [Train] Loss: -0.7889795303344727 [Val] Loss: -0.8138898611068726\n",
      "Epoch 90 -> [Train] Loss: -0.7759467959403992 [Val] Loss: -0.8134656548500061\n",
      "Epoch 91 -> [Train] Loss: -0.7837651968002319 [Val] Loss: -0.8135056495666504\n",
      "Epoch 92 -> [Train] Loss: -0.78626948595047 [Val] Loss: -0.813863217830658\n",
      "Epoch 93 -> [Train] Loss: -0.7847877740859985 [Val] Loss: -0.8146066069602966\n",
      "Epoch 94 -> [Train] Loss: -0.7837868928909302 [Val] Loss: -0.8151704668998718\n",
      "Epoch 95 -> [Train] Loss: -0.7827023863792419 [Val] Loss: -0.8147311806678772\n",
      "Epoch 96 -> [Train] Loss: -0.788453221321106 [Val] Loss: -0.8147337436676025\n",
      "Epoch 97 -> [Train] Loss: -0.7785065174102783 [Val] Loss: -0.8152493834495544\n",
      "Epoch 98 -> [Train] Loss: -0.782915472984314 [Val] Loss: -0.8148913383483887\n",
      "Epoch 99 -> [Train] Loss: -0.7751308679580688 [Val] Loss: -0.8151049613952637\n",
      "Epoch 100 -> [Train] Loss: -0.7833840847015381 [Val] Loss: -0.8163236379623413\n",
      "Epoch 101 -> [Train] Loss: -0.7850356101989746 [Val] Loss: -0.8154540657997131\n",
      "Epoch 102 -> [Train] Loss: -0.7854952812194824 [Val] Loss: -0.8164536356925964\n",
      "Epoch 103 -> [Train] Loss: -0.7894650101661682 [Val] Loss: -0.8153968453407288\n",
      "Epoch 104 -> [Train] Loss: -0.7812294363975525 [Val] Loss: -0.8167630434036255\n",
      "Epoch 105 -> [Train] Loss: -0.7801153659820557 [Val] Loss: -0.8165658116340637\n",
      "Epoch 106 -> [Train] Loss: -0.7879816293716431 [Val] Loss: -0.8153390884399414\n",
      "Epoch 107 -> [Train] Loss: -0.7785809636116028 [Val] Loss: -0.8159047365188599\n",
      "Epoch 108 -> [Train] Loss: -0.7927506566047668 [Val] Loss: -0.8146763443946838\n",
      "Epoch 109 -> [Train] Loss: -0.7838156819343567 [Val] Loss: -0.8155319690704346\n",
      "Epoch 110 -> [Train] Loss: -0.7810365557670593 [Val] Loss: -0.8160825967788696\n",
      "Epoch 111 -> [Train] Loss: -0.795269250869751 [Val] Loss: -0.8155149221420288\n",
      "Epoch 112 -> [Train] Loss: -0.7794891595840454 [Val] Loss: -0.8159685730934143\n",
      "Epoch 113 -> [Train] Loss: -0.7835836410522461 [Val] Loss: -0.8153439164161682\n",
      "Epoch 114 -> [Train] Loss: -0.7831222414970398 [Val] Loss: -0.8163214921951294\n",
      "Epoch 115 -> [Train] Loss: -0.7776961326599121 [Val] Loss: -0.8157731294631958\n",
      "Epoch 116 -> [Train] Loss: -0.7822334170341492 [Val] Loss: -0.8167061805725098\n",
      "Epoch 117 -> [Train] Loss: -0.7860816717147827 [Val] Loss: -0.8154342770576477\n",
      "Epoch 118 -> [Train] Loss: -0.7886834740638733 [Val] Loss: -0.8161540627479553\n",
      "Epoch 119 -> [Train] Loss: -0.7848068475723267 [Val] Loss: -0.8156980872154236\n",
      "Epoch 120 -> [Train] Loss: -0.7802098989486694 [Val] Loss: -0.8147373199462891\n",
      "Epoch 121 -> [Train] Loss: -0.7798911929130554 [Val] Loss: -0.815884530544281\n",
      "Epoch 122 -> [Train] Loss: -0.787330150604248 [Val] Loss: -0.8153537511825562\n",
      "Epoch 123 -> [Train] Loss: -0.7880818247795105 [Val] Loss: -0.8144298195838928\n",
      "Epoch 124 -> [Train] Loss: -0.7767921686172485 [Val] Loss: -0.8163576126098633\n",
      "Epoch 125 -> [Train] Loss: -0.7752499580383301 [Val] Loss: -0.8162243366241455\n",
      "Epoch 126 -> [Train] Loss: -0.7920505404472351 [Val] Loss: -0.8147176504135132\n",
      "Epoch 127 -> [Train] Loss: -0.7821946740150452 [Val] Loss: -0.8167095184326172\n",
      "Epoch 128 -> [Train] Loss: -0.7915906310081482 [Val] Loss: -0.8157593607902527\n",
      "Epoch 129 -> [Train] Loss: -0.7867400050163269 [Val] Loss: -0.8149697184562683\n",
      "Epoch 130 -> [Train] Loss: -0.7813922166824341 [Val] Loss: -0.8162805438041687\n",
      "Epoch 131 -> [Train] Loss: -0.7789108157157898 [Val] Loss: -0.8159176707267761\n",
      "Epoch 132 -> [Train] Loss: -0.7856854200363159 [Val] Loss: -0.8164770603179932\n",
      "Epoch 133 -> [Train] Loss: -0.7763295769691467 [Val] Loss: -0.8162106275558472\n",
      "Epoch 134 -> [Train] Loss: -0.7846258878707886 [Val] Loss: -0.8155003786087036\n",
      "Epoch 135 -> [Train] Loss: -0.789437472820282 [Val] Loss: -0.8154856562614441\n",
      "Epoch 136 -> [Train] Loss: -0.7906135320663452 [Val] Loss: -0.8162848949432373\n",
      "Epoch 137 -> [Train] Loss: -0.7845079898834229 [Val] Loss: -0.8157103061676025\n",
      "Epoch 138 -> [Train] Loss: -0.7905019521713257 [Val] Loss: -0.8144828081130981\n",
      "Epoch 139 -> [Train] Loss: -0.7821962833404541 [Val] Loss: -0.8156530857086182\n",
      "Epoch 140 -> [Train] Loss: -0.792709231376648 [Val] Loss: -0.8162685036659241\n",
      "Epoch 141 -> [Train] Loss: -0.7780259847640991 [Val] Loss: -0.8150377869606018\n",
      "Epoch 142 -> [Train] Loss: -0.7916635274887085 [Val] Loss: -0.8163133859634399\n",
      "Epoch 143 -> [Train] Loss: -0.7837799191474915 [Val] Loss: -0.8164350986480713\n",
      "Epoch 144 -> [Train] Loss: -0.7743313908576965 [Val] Loss: -0.8167917132377625\n",
      "Epoch 145 -> [Train] Loss: -0.7914441227912903 [Val] Loss: -0.8150433897972107\n",
      "Epoch 146 -> [Train] Loss: -0.7801576852798462 [Val] Loss: -0.8155253529548645\n",
      "Epoch 147 -> [Train] Loss: -0.7881177067756653 [Val] Loss: -0.8139675855636597\n",
      "Epoch 148 -> [Train] Loss: -0.7813878655433655 [Val] Loss: -0.8134975433349609\n",
      "Epoch 149 -> [Train] Loss: -0.778847873210907 [Val] Loss: -0.8150030374526978\n",
      "Epoch 150 -> [Train] Loss: -0.790751039981842 [Val] Loss: -0.8144193887710571\n",
      "Epoch 151 -> [Train] Loss: -0.7797996997833252 [Val] Loss: -0.8149214386940002\n",
      "Epoch 152 -> [Train] Loss: -0.786677896976471 [Val] Loss: -0.8153930902481079\n",
      "Epoch 153 -> [Train] Loss: -0.7737221121788025 [Val] Loss: -0.8155571818351746\n",
      "Epoch 154 -> [Train] Loss: -0.7782478332519531 [Val] Loss: -0.816422700881958\n",
      "Epoch 155 -> [Train] Loss: -0.780441164970398 [Val] Loss: -0.8148910999298096\n",
      "Epoch 156 -> [Train] Loss: -0.782383143901825 [Val] Loss: -0.815733015537262\n",
      "Epoch 157 -> [Train] Loss: -0.7795121669769287 [Val] Loss: -0.8155486583709717\n",
      "Epoch 158 -> [Train] Loss: -0.7842769026756287 [Val] Loss: -0.8160211443901062\n",
      "Epoch 159 -> [Train] Loss: -0.7768486738204956 [Val] Loss: -0.8162292838096619\n",
      "Epoch 160 -> [Train] Loss: -0.785394012928009 [Val] Loss: -0.8165913224220276\n",
      "Epoch 161 -> [Train] Loss: -0.7730753421783447 [Val] Loss: -0.8154551982879639\n",
      "Epoch 162 -> [Train] Loss: -0.7798200249671936 [Val] Loss: -0.8157822489738464\n",
      "Epoch 163 -> [Train] Loss: -0.787971019744873 [Val] Loss: -0.8165996074676514\n",
      "Epoch 164 -> [Train] Loss: -0.7835777997970581 [Val] Loss: -0.8152250647544861\n",
      "Epoch 165 -> [Train] Loss: -0.778570294380188 [Val] Loss: -0.8160112500190735\n",
      "Epoch 166 -> [Train] Loss: -0.7858213782310486 [Val] Loss: -0.8153606057167053\n",
      "Epoch 167 -> [Train] Loss: -0.7826169729232788 [Val] Loss: -0.8158693313598633\n",
      "Epoch 168 -> [Train] Loss: -0.7855493426322937 [Val] Loss: -0.8156968355178833\n",
      "Epoch 169 -> [Train] Loss: -0.7823604941368103 [Val] Loss: -0.8152768611907959\n",
      "Epoch 170 -> [Train] Loss: -0.7782570123672485 [Val] Loss: -0.8163720965385437\n",
      "Epoch 171 -> [Train] Loss: -0.78462815284729 [Val] Loss: -0.8155789971351624\n",
      "Epoch 172 -> [Train] Loss: -0.7902497053146362 [Val] Loss: -0.8150114417076111\n",
      "Epoch 173 -> [Train] Loss: -0.7752218246459961 [Val] Loss: -0.8159450888633728\n",
      "Epoch 174 -> [Train] Loss: -0.7903424501419067 [Val] Loss: -0.816242516040802\n",
      "Epoch 175 -> [Train] Loss: -0.7880277633666992 [Val] Loss: -0.8161232471466064\n",
      "Epoch 176 -> [Train] Loss: -0.7824887037277222 [Val] Loss: -0.8158472776412964\n",
      "Epoch 177 -> [Train] Loss: -0.7904580235481262 [Val] Loss: -0.8163337707519531\n",
      "Epoch 178 -> [Train] Loss: -0.7892823815345764 [Val] Loss: -0.81642085313797\n",
      "Epoch 179 -> [Train] Loss: -0.7858821153640747 [Val] Loss: -0.8155739903450012\n",
      "Epoch 180 -> [Train] Loss: -0.7843580842018127 [Val] Loss: -0.8156064748764038\n",
      "Epoch 181 -> [Train] Loss: -0.779577910900116 [Val] Loss: -0.8158359527587891\n",
      "Epoch 182 -> [Train] Loss: -0.7835819125175476 [Val] Loss: -0.8154248595237732\n",
      "Epoch 183 -> [Train] Loss: -0.7844641804695129 [Val] Loss: -0.8155557513237\n",
      "Epoch 184 -> [Train] Loss: -0.773801326751709 [Val] Loss: -0.8161200881004333\n",
      "Epoch 185 -> [Train] Loss: -0.7851695418357849 [Val] Loss: -0.8158482909202576\n",
      "Epoch 186 -> [Train] Loss: -0.7799891829490662 [Val] Loss: -0.8167970776557922\n",
      "Epoch 187 -> [Train] Loss: -0.7912828922271729 [Val] Loss: -0.8159580230712891\n",
      "Epoch 188 -> [Train] Loss: -0.7820504903793335 [Val] Loss: -0.8145559430122375\n",
      "Epoch 189 -> [Train] Loss: -0.7812062501907349 [Val] Loss: -0.8155286908149719\n",
      "Epoch 190 -> [Train] Loss: -0.7879490852355957 [Val] Loss: -0.8153434991836548\n",
      "Epoch 191 -> [Train] Loss: -0.7813228964805603 [Val] Loss: -0.8163455724716187\n",
      "Epoch 192 -> [Train] Loss: -0.7797930836677551 [Val] Loss: -0.8164586424827576\n",
      "Epoch 193 -> [Train] Loss: -0.7812842130661011 [Val] Loss: -0.8170607089996338\n",
      "Epoch 194 -> [Train] Loss: -0.785052478313446 [Val] Loss: -0.8171787261962891\n",
      "Epoch 195 -> [Train] Loss: -0.7809188365936279 [Val] Loss: -0.8163951635360718\n",
      "Epoch 196 -> [Train] Loss: -0.7880318760871887 [Val] Loss: -0.8166637420654297\n",
      "Epoch 197 -> [Train] Loss: -0.7867098450660706 [Val] Loss: -0.8156468272209167\n",
      "Epoch 198 -> [Train] Loss: -0.7855119705200195 [Val] Loss: -0.8164620399475098\n",
      "Epoch 199 -> [Train] Loss: -0.7855740189552307 [Val] Loss: -0.8157446980476379\n",
      "Epoch 200 -> [Train] Loss: -0.7898016571998596 [Val] Loss: -0.8160672783851624\n",
      "Epoch 201 -> [Train] Loss: -0.7891266345977783 [Val] Loss: -0.815554141998291\n",
      "Epoch 202 -> [Train] Loss: -0.7816022634506226 [Val] Loss: -0.8158463835716248\n",
      "Epoch 203 -> [Train] Loss: -0.7800447940826416 [Val] Loss: -0.8153683543205261\n",
      "Epoch 204 -> [Train] Loss: -0.7905747890472412 [Val] Loss: -0.8158681392669678\n",
      "Epoch 205 -> [Train] Loss: -0.7907934188842773 [Val] Loss: -0.8148851990699768\n",
      "Epoch 206 -> [Train] Loss: -0.7824881672859192 [Val] Loss: -0.8170299530029297\n",
      "Epoch 207 -> [Train] Loss: -0.7837092876434326 [Val] Loss: -0.8162729144096375\n",
      "Epoch 208 -> [Train] Loss: -0.7905481457710266 [Val] Loss: -0.8161881566047668\n",
      "Epoch 209 -> [Train] Loss: -0.7892946004867554 [Val] Loss: -0.8152744770050049\n",
      "Epoch 210 -> [Train] Loss: -0.7806208729743958 [Val] Loss: -0.8161376118659973\n",
      "Epoch 211 -> [Train] Loss: -0.7818176746368408 [Val] Loss: -0.814168393611908\n",
      "Epoch 212 -> [Train] Loss: -0.7862354516983032 [Val] Loss: -0.816643476486206\n",
      "Epoch 213 -> [Train] Loss: -0.7770593166351318 [Val] Loss: -0.8159385919570923\n",
      "Epoch 214 -> [Train] Loss: -0.7869629263877869 [Val] Loss: -0.8153177499771118\n",
      "Epoch 215 -> [Train] Loss: -0.7766905426979065 [Val] Loss: -0.8166045546531677\n",
      "Epoch 216 -> [Train] Loss: -0.783099353313446 [Val] Loss: -0.8155473470687866\n",
      "Epoch 217 -> [Train] Loss: -0.7840908765792847 [Val] Loss: -0.8159958720207214\n",
      "Epoch 218 -> [Train] Loss: -0.7969200611114502 [Val] Loss: -0.8154703378677368\n",
      "Epoch 219 -> [Train] Loss: -0.7872260212898254 [Val] Loss: -0.8159175515174866\n",
      "Epoch 220 -> [Train] Loss: -0.7828839421272278 [Val] Loss: -0.8151019215583801\n",
      "Epoch 221 -> [Train] Loss: -0.7784919738769531 [Val] Loss: -0.8155587315559387\n",
      "Epoch 222 -> [Train] Loss: -0.7827903628349304 [Val] Loss: -0.8158436417579651\n",
      "Epoch 223 -> [Train] Loss: -0.7889976501464844 [Val] Loss: -0.8150608539581299\n",
      "Epoch 224 -> [Train] Loss: -0.7842819094657898 [Val] Loss: -0.815781831741333\n",
      "Epoch 225 -> [Train] Loss: -0.7709980607032776 [Val] Loss: -0.8158670663833618\n",
      "Epoch 226 -> [Train] Loss: -0.7968705892562866 [Val] Loss: -0.8163748383522034\n",
      "Epoch 227 -> [Train] Loss: -0.7868539094924927 [Val] Loss: -0.816342294216156\n",
      "Epoch 228 -> [Train] Loss: -0.7890206575393677 [Val] Loss: -0.8154827952384949\n",
      "Epoch 229 -> [Train] Loss: -0.78216552734375 [Val] Loss: -0.8154885172843933\n",
      "Epoch 230 -> [Train] Loss: -0.7861008048057556 [Val] Loss: -0.813912034034729\n",
      "Epoch 231 -> [Train] Loss: -0.778933584690094 [Val] Loss: -0.8161676526069641\n",
      "Epoch 232 -> [Train] Loss: -0.7839818000793457 [Val] Loss: -0.815129816532135\n",
      "Epoch 233 -> [Train] Loss: -0.7857218384742737 [Val] Loss: -0.8155378699302673\n",
      "Epoch 234 -> [Train] Loss: -0.7796124815940857 [Val] Loss: -0.8152137994766235\n",
      "Epoch 235 -> [Train] Loss: -0.7758163809776306 [Val] Loss: -0.8154920935630798\n",
      "Epoch 236 -> [Train] Loss: -0.7837912440299988 [Val] Loss: -0.815503716468811\n",
      "Epoch 237 -> [Train] Loss: -0.783939003944397 [Val] Loss: -0.8158988952636719\n",
      "Epoch 238 -> [Train] Loss: -0.792047917842865 [Val] Loss: -0.8154858946800232\n",
      "Epoch 239 -> [Train] Loss: -0.7799818515777588 [Val] Loss: -0.8154410719871521\n",
      "Epoch 240 -> [Train] Loss: -0.7790767550468445 [Val] Loss: -0.8155275583267212\n",
      "Epoch 241 -> [Train] Loss: -0.7786626815795898 [Val] Loss: -0.8163244724273682\n",
      "Epoch 242 -> [Train] Loss: -0.7823229432106018 [Val] Loss: -0.8157990574836731\n",
      "Epoch 243 -> [Train] Loss: -0.7833940386772156 [Val] Loss: -0.814134418964386\n",
      "Epoch 244 -> [Train] Loss: -0.7889372706413269 [Val] Loss: -0.8151800632476807\n",
      "Epoch 245 -> [Train] Loss: -0.770872175693512 [Val] Loss: -0.8161319494247437\n",
      "Epoch 246 -> [Train] Loss: -0.777677059173584 [Val] Loss: -0.8166153430938721\n",
      "Epoch 247 -> [Train] Loss: -0.7963451743125916 [Val] Loss: -0.8162038326263428\n",
      "Epoch 248 -> [Train] Loss: -0.7846622467041016 [Val] Loss: -0.8146105408668518\n",
      "Epoch 249 -> [Train] Loss: -0.7776247262954712 [Val] Loss: -0.8154844045639038\n",
      "Epoch 250 -> [Train] Loss: -0.7885152101516724 [Val] Loss: -0.8157854080200195\n",
      "Epoch 251 -> [Train] Loss: -0.7885039448738098 [Val] Loss: -0.8152934908866882\n",
      "Epoch 252 -> [Train] Loss: -0.7867826819419861 [Val] Loss: -0.8156358599662781\n",
      "Epoch 253 -> [Train] Loss: -0.7789786458015442 [Val] Loss: -0.8163359761238098\n",
      "Epoch 254 -> [Train] Loss: -0.779519259929657 [Val] Loss: -0.8171727061271667\n",
      "Epoch 255 -> [Train] Loss: -0.786881148815155 [Val] Loss: -0.8169517517089844\n",
      "Epoch 256 -> [Train] Loss: -0.7850503921508789 [Val] Loss: -0.8164843320846558\n",
      "Epoch 257 -> [Train] Loss: -0.7713170647621155 [Val] Loss: -0.8143251538276672\n",
      "Epoch 258 -> [Train] Loss: -0.7793798446655273 [Val] Loss: -0.8168278336524963\n",
      "Epoch 259 -> [Train] Loss: -0.7792789340019226 [Val] Loss: -0.8159675598144531\n",
      "Epoch 260 -> [Train] Loss: -0.7830202579498291 [Val] Loss: -0.8165199756622314\n",
      "Epoch 261 -> [Train] Loss: -0.792986273765564 [Val] Loss: -0.8161565065383911\n",
      "Epoch 262 -> [Train] Loss: -0.7793146967887878 [Val] Loss: -0.8165891766548157\n",
      "Epoch 263 -> [Train] Loss: -0.7854524254798889 [Val] Loss: -0.8165003061294556\n",
      "Epoch 264 -> [Train] Loss: -0.7937696576118469 [Val] Loss: -0.8165668249130249\n",
      "Epoch 265 -> [Train] Loss: -0.791100263595581 [Val] Loss: -0.8167324662208557\n",
      "Epoch 266 -> [Train] Loss: -0.7907050251960754 [Val] Loss: -0.8166993260383606\n",
      "Epoch 267 -> [Train] Loss: -0.7859119772911072 [Val] Loss: -0.8163979649543762\n",
      "Epoch 268 -> [Train] Loss: -0.7813296914100647 [Val] Loss: -0.8154221773147583\n",
      "Epoch 269 -> [Train] Loss: -0.7800658345222473 [Val] Loss: -0.8171980381011963\n",
      "Epoch 270 -> [Train] Loss: -0.7832041382789612 [Val] Loss: -0.8159666657447815\n",
      "Epoch 271 -> [Train] Loss: -0.7785954475402832 [Val] Loss: -0.8160421848297119\n",
      "Epoch 272 -> [Train] Loss: -0.7841929793357849 [Val] Loss: -0.8165445923805237\n",
      "Epoch 273 -> [Train] Loss: -0.7874085307121277 [Val] Loss: -0.8163174986839294\n",
      "Epoch 274 -> [Train] Loss: -0.7839348912239075 [Val] Loss: -0.8160529732704163\n",
      "Epoch 275 -> [Train] Loss: -0.775253415107727 [Val] Loss: -0.8163706064224243\n",
      "Epoch 276 -> [Train] Loss: -0.7899089455604553 [Val] Loss: -0.8169360756874084\n",
      "Epoch 277 -> [Train] Loss: -0.7826271057128906 [Val] Loss: -0.8168942332267761\n",
      "Epoch 278 -> [Train] Loss: -0.7800314426422119 [Val] Loss: -0.8143900632858276\n",
      "Epoch 279 -> [Train] Loss: -0.7850778102874756 [Val] Loss: -0.8163020610809326\n",
      "Epoch 280 -> [Train] Loss: -0.7826510667800903 [Val] Loss: -0.8164728283882141\n",
      "Epoch 281 -> [Train] Loss: -0.7790907621383667 [Val] Loss: -0.815825343132019\n",
      "Epoch 282 -> [Train] Loss: -0.7753034234046936 [Val] Loss: -0.8149817585945129\n",
      "Epoch 283 -> [Train] Loss: -0.7770048975944519 [Val] Loss: -0.8161515593528748\n",
      "Epoch 284 -> [Train] Loss: -0.788103461265564 [Val] Loss: -0.8154830932617188\n",
      "Epoch 285 -> [Train] Loss: -0.7854676842689514 [Val] Loss: -0.8148885369300842\n",
      "Epoch 286 -> [Train] Loss: -0.7813165783882141 [Val] Loss: -0.8155739307403564\n",
      "Epoch 287 -> [Train] Loss: -0.7924652099609375 [Val] Loss: -0.8149486184120178\n",
      "Epoch 288 -> [Train] Loss: -0.7823920249938965 [Val] Loss: -0.8155806064605713\n",
      "Epoch 289 -> [Train] Loss: -0.7830850481987 [Val] Loss: -0.8144916892051697\n",
      "Epoch 290 -> [Train] Loss: -0.7810359597206116 [Val] Loss: -0.8156729340553284\n",
      "Epoch 291 -> [Train] Loss: -0.7837406396865845 [Val] Loss: -0.8148521780967712\n",
      "Epoch 292 -> [Train] Loss: -0.7972354888916016 [Val] Loss: -0.8148365020751953\n",
      "Epoch 293 -> [Train] Loss: -0.7850233912467957 [Val] Loss: -0.8156086802482605\n",
      "Epoch 294 -> [Train] Loss: -0.7831935286521912 [Val] Loss: -0.8148526549339294\n",
      "Epoch 295 -> [Train] Loss: -0.7905389666557312 [Val] Loss: -0.8148070573806763\n",
      "Epoch 296 -> [Train] Loss: -0.7861045598983765 [Val] Loss: -0.8165441751480103\n",
      "Epoch 297 -> [Train] Loss: -0.7818936109542847 [Val] Loss: -0.8159990310668945\n",
      "Epoch 298 -> [Train] Loss: -0.7885248064994812 [Val] Loss: -0.8158261775970459\n",
      "Epoch 299 -> [Train] Loss: -0.784294843673706 [Val] Loss: -0.8154098987579346\n",
      "Epoch 300 -> [Train] Loss: -0.7847137451171875 [Val] Loss: -0.8166596293449402\n",
      "Epoch 301 -> [Train] Loss: -0.7857404351234436 [Val] Loss: -0.8165202140808105\n",
      "Epoch 302 -> [Train] Loss: -0.778967022895813 [Val] Loss: -0.816443920135498\n",
      "Epoch 303 -> [Train] Loss: -0.7861765027046204 [Val] Loss: -0.815999448299408\n",
      "Epoch 304 -> [Train] Loss: -0.7871561646461487 [Val] Loss: -0.8160673379898071\n",
      "Epoch 305 -> [Train] Loss: -0.7904471158981323 [Val] Loss: -0.816514790058136\n",
      "Epoch 306 -> [Train] Loss: -0.7878427505493164 [Val] Loss: -0.8155597448348999\n",
      "Epoch 307 -> [Train] Loss: -0.7811940312385559 [Val] Loss: -0.8164925575256348\n",
      "Epoch 308 -> [Train] Loss: -0.7759290337562561 [Val] Loss: -0.815877377986908\n",
      "Epoch 309 -> [Train] Loss: -0.7854856252670288 [Val] Loss: -0.8152918815612793\n",
      "Epoch 310 -> [Train] Loss: -0.780394434928894 [Val] Loss: -0.8149821162223816\n",
      "Epoch 311 -> [Train] Loss: -0.7832294702529907 [Val] Loss: -0.8149546384811401\n",
      "Epoch 312 -> [Train] Loss: -0.7842103838920593 [Val] Loss: -0.815484881401062\n",
      "Epoch 313 -> [Train] Loss: -0.784984827041626 [Val] Loss: -0.8158137202262878\n",
      "Epoch 314 -> [Train] Loss: -0.7790563702583313 [Val] Loss: -0.8159573078155518\n",
      "Epoch 315 -> [Train] Loss: -0.7867485284805298 [Val] Loss: -0.817218542098999\n",
      "Epoch 316 -> [Train] Loss: -0.7855739593505859 [Val] Loss: -0.8154144287109375\n",
      "Epoch 317 -> [Train] Loss: -0.7930682301521301 [Val] Loss: -0.8153479695320129\n",
      "Epoch 318 -> [Train] Loss: -0.779026448726654 [Val] Loss: -0.8162523508071899\n",
      "Epoch 319 -> [Train] Loss: -0.7791027426719666 [Val] Loss: -0.8153070211410522\n",
      "Epoch 320 -> [Train] Loss: -0.7881431579589844 [Val] Loss: -0.8160936236381531\n",
      "Epoch 321 -> [Train] Loss: -0.7816745042800903 [Val] Loss: -0.8155995607376099\n",
      "Epoch 322 -> [Train] Loss: -0.785785973072052 [Val] Loss: -0.8162332773208618\n",
      "Epoch 323 -> [Train] Loss: -0.7897047400474548 [Val] Loss: -0.8149768710136414\n",
      "Epoch 324 -> [Train] Loss: -0.7842395305633545 [Val] Loss: -0.8149122595787048\n",
      "Epoch 325 -> [Train] Loss: -0.7798957228660583 [Val] Loss: -0.8163050413131714\n",
      "Epoch 326 -> [Train] Loss: -0.7773771286010742 [Val] Loss: -0.8154714107513428\n",
      "Epoch 327 -> [Train] Loss: -0.7937071919441223 [Val] Loss: -0.8160422444343567\n",
      "Epoch 328 -> [Train] Loss: -0.7841511964797974 [Val] Loss: -0.8146337866783142\n",
      "Epoch 329 -> [Train] Loss: -0.7950950860977173 [Val] Loss: -0.8156483173370361\n",
      "Epoch 330 -> [Train] Loss: -0.7770586013793945 [Val] Loss: -0.8157918453216553\n",
      "Epoch 331 -> [Train] Loss: -0.783858060836792 [Val] Loss: -0.8162854909896851\n",
      "Epoch 332 -> [Train] Loss: -0.7898010611534119 [Val] Loss: -0.8158565163612366\n",
      "Epoch 333 -> [Train] Loss: -0.7852852940559387 [Val] Loss: -0.8152479529380798\n",
      "Epoch 334 -> [Train] Loss: -0.7779763340950012 [Val] Loss: -0.8153499364852905\n",
      "Epoch 335 -> [Train] Loss: -0.7791258692741394 [Val] Loss: -0.8152370452880859\n",
      "Epoch 336 -> [Train] Loss: -0.7823420166969299 [Val] Loss: -0.8151064515113831\n",
      "Epoch 337 -> [Train] Loss: -0.7857688069343567 [Val] Loss: -0.8153228163719177\n",
      "Epoch 338 -> [Train] Loss: -0.7798498272895813 [Val] Loss: -0.8162044882774353\n",
      "Epoch 339 -> [Train] Loss: -0.786467432975769 [Val] Loss: -0.8158218860626221\n",
      "Epoch 340 -> [Train] Loss: -0.7872685194015503 [Val] Loss: -0.8168278336524963\n",
      "Epoch 341 -> [Train] Loss: -0.781917154788971 [Val] Loss: -0.8158562183380127\n",
      "Epoch 342 -> [Train] Loss: -0.7820166945457458 [Val] Loss: -0.8167641758918762\n",
      "Epoch 343 -> [Train] Loss: -0.779821515083313 [Val] Loss: -0.816697359085083\n",
      "Epoch 344 -> [Train] Loss: -0.790104329586029 [Val] Loss: -0.8169969320297241\n",
      "Epoch 345 -> [Train] Loss: -0.7876290082931519 [Val] Loss: -0.815678060054779\n",
      "Epoch 346 -> [Train] Loss: -0.7819849252700806 [Val] Loss: -0.8155763745307922\n",
      "Epoch 347 -> [Train] Loss: -0.772645890712738 [Val] Loss: -0.8164909482002258\n",
      "Epoch 348 -> [Train] Loss: -0.7919823527336121 [Val] Loss: -0.8162285685539246\n",
      "Epoch 349 -> [Train] Loss: -0.781287431716919 [Val] Loss: -0.8166859149932861\n",
      "Epoch 350 -> [Train] Loss: -0.7848365902900696 [Val] Loss: -0.8157133460044861\n",
      "Epoch 351 -> [Train] Loss: -0.7806957960128784 [Val] Loss: -0.8151154518127441\n",
      "Epoch 352 -> [Train] Loss: -0.7830601334571838 [Val] Loss: -0.8170126080513\n",
      "Epoch 353 -> [Train] Loss: -0.7888944745063782 [Val] Loss: -0.8166791200637817\n",
      "Epoch 354 -> [Train] Loss: -0.7734301686286926 [Val] Loss: -0.815352201461792\n",
      "Epoch 355 -> [Train] Loss: -0.7828326225280762 [Val] Loss: -0.8146044015884399\n",
      "Epoch 356 -> [Train] Loss: -0.7864363193511963 [Val] Loss: -0.8138672113418579\n",
      "Epoch 357 -> [Train] Loss: -0.7899031043052673 [Val] Loss: -0.814215362071991\n",
      "Epoch 358 -> [Train] Loss: -0.7849156260490417 [Val] Loss: -0.8157641887664795\n",
      "Epoch 359 -> [Train] Loss: -0.7829734683036804 [Val] Loss: -0.8158066272735596\n",
      "Epoch 360 -> [Train] Loss: -0.7798309326171875 [Val] Loss: -0.8158147931098938\n",
      "Epoch 361 -> [Train] Loss: -0.7890494465827942 [Val] Loss: -0.8158962726593018\n",
      "Epoch 362 -> [Train] Loss: -0.7827230095863342 [Val] Loss: -0.8154418468475342\n",
      "Epoch 363 -> [Train] Loss: -0.777691125869751 [Val] Loss: -0.816036581993103\n",
      "Epoch 364 -> [Train] Loss: -0.7870462536811829 [Val] Loss: -0.8165472149848938\n",
      "Epoch 365 -> [Train] Loss: -0.7898705005645752 [Val] Loss: -0.816208004951477\n",
      "Epoch 366 -> [Train] Loss: -0.7718797922134399 [Val] Loss: -0.8164663910865784\n",
      "Epoch 367 -> [Train] Loss: -0.7892316579818726 [Val] Loss: -0.8166565895080566\n",
      "Epoch 368 -> [Train] Loss: -0.7821300029754639 [Val] Loss: -0.8146218657493591\n",
      "Epoch 369 -> [Train] Loss: -0.7842361927032471 [Val] Loss: -0.8159956336021423\n",
      "Epoch 370 -> [Train] Loss: -0.7719698548316956 [Val] Loss: -0.8154093623161316\n",
      "Epoch 371 -> [Train] Loss: -0.7875019311904907 [Val] Loss: -0.8165258765220642\n",
      "Epoch 372 -> [Train] Loss: -0.7770491242408752 [Val] Loss: -0.8169327974319458\n",
      "Epoch 373 -> [Train] Loss: -0.7809445261955261 [Val] Loss: -0.8169735670089722\n",
      "Epoch 374 -> [Train] Loss: -0.7852993011474609 [Val] Loss: -0.8164993524551392\n",
      "Epoch 375 -> [Train] Loss: -0.783174455165863 [Val] Loss: -0.8167276978492737\n",
      "Epoch 376 -> [Train] Loss: -0.7850164175033569 [Val] Loss: -0.8152526021003723\n",
      "Epoch 377 -> [Train] Loss: -0.782801628112793 [Val] Loss: -0.8156219124794006\n",
      "Epoch 378 -> [Train] Loss: -0.7754088044166565 [Val] Loss: -0.8154027462005615\n",
      "Epoch 379 -> [Train] Loss: -0.7766808271408081 [Val] Loss: -0.8153268694877625\n",
      "Epoch 380 -> [Train] Loss: -0.787545382976532 [Val] Loss: -0.8161340951919556\n",
      "Epoch 381 -> [Train] Loss: -0.7859782576560974 [Val] Loss: -0.8149853348731995\n",
      "Epoch 382 -> [Train] Loss: -0.7949354648590088 [Val] Loss: -0.8155006766319275\n",
      "Epoch 383 -> [Train] Loss: -0.7748802900314331 [Val] Loss: -0.8160822987556458\n",
      "Epoch 384 -> [Train] Loss: -0.7918955087661743 [Val] Loss: -0.8158169388771057\n",
      "Epoch 385 -> [Train] Loss: -0.7860718965530396 [Val] Loss: -0.8150904774665833\n",
      "Epoch 386 -> [Train] Loss: -0.7905701398849487 [Val] Loss: -0.8165646195411682\n",
      "Epoch 387 -> [Train] Loss: -0.7804511189460754 [Val] Loss: -0.8165760040283203\n",
      "Epoch 388 -> [Train] Loss: -0.7920429110527039 [Val] Loss: -0.8165990114212036\n",
      "Epoch 389 -> [Train] Loss: -0.773609459400177 [Val] Loss: -0.8170033693313599\n",
      "Epoch 390 -> [Train] Loss: -0.7820114493370056 [Val] Loss: -0.8155496716499329\n",
      "Epoch 391 -> [Train] Loss: -0.7902883291244507 [Val] Loss: -0.8172193765640259\n",
      "Epoch 392 -> [Train] Loss: -0.7821110486984253 [Val] Loss: -0.8168001770973206\n",
      "Epoch 393 -> [Train] Loss: -0.7878842949867249 [Val] Loss: -0.8166890740394592\n",
      "Epoch 394 -> [Train] Loss: -0.7807286381721497 [Val] Loss: -0.8162716627120972\n",
      "Epoch 395 -> [Train] Loss: -0.7819144129753113 [Val] Loss: -0.8171138763427734\n",
      "Epoch 396 -> [Train] Loss: -0.7846480011940002 [Val] Loss: -0.817460834980011\n",
      "Epoch 397 -> [Train] Loss: -0.7955663800239563 [Val] Loss: -0.8168922066688538\n",
      "Epoch 398 -> [Train] Loss: -0.7766510844230652 [Val] Loss: -0.8173911571502686\n",
      "Epoch 399 -> [Train] Loss: -0.7822184562683105 [Val] Loss: -0.8173443675041199\n",
      "Epoch 400 -> [Train] Loss: -0.7749145030975342 [Val] Loss: -0.8151270747184753\n",
      "Epoch 401 -> [Train] Loss: -0.78721022605896 [Val] Loss: -0.8157839775085449\n",
      "Epoch 402 -> [Train] Loss: -0.7740829586982727 [Val] Loss: -0.8162210583686829\n",
      "Epoch 403 -> [Train] Loss: -0.7849648594856262 [Val] Loss: -0.8164505958557129\n",
      "Epoch 404 -> [Train] Loss: -0.7836363315582275 [Val] Loss: -0.8159913420677185\n",
      "Epoch 405 -> [Train] Loss: -0.7801284790039062 [Val] Loss: -0.8162742257118225\n",
      "Epoch 406 -> [Train] Loss: -0.784282386302948 [Val] Loss: -0.8160421848297119\n",
      "Epoch 407 -> [Train] Loss: -0.7802851796150208 [Val] Loss: -0.8167240619659424\n",
      "Epoch 408 -> [Train] Loss: -0.7865784168243408 [Val] Loss: -0.8172054290771484\n",
      "Epoch 409 -> [Train] Loss: -0.7927852272987366 [Val] Loss: -0.8164590001106262\n",
      "Epoch 410 -> [Train] Loss: -0.7934785485267639 [Val] Loss: -0.8159323334693909\n",
      "Epoch 411 -> [Train] Loss: -0.7881319522857666 [Val] Loss: -0.8154103755950928\n",
      "Epoch 412 -> [Train] Loss: -0.788481593132019 [Val] Loss: -0.814919114112854\n",
      "Epoch 413 -> [Train] Loss: -0.7877378463745117 [Val] Loss: -0.8153700232505798\n",
      "Epoch 414 -> [Train] Loss: -0.7895940542221069 [Val] Loss: -0.8144873976707458\n",
      "Epoch 415 -> [Train] Loss: -0.7912625074386597 [Val] Loss: -0.8153011798858643\n",
      "Epoch 416 -> [Train] Loss: -0.7884864807128906 [Val] Loss: -0.8159383535385132\n",
      "Epoch 417 -> [Train] Loss: -0.7777857780456543 [Val] Loss: -0.8158177137374878\n",
      "Epoch 418 -> [Train] Loss: -0.7795999050140381 [Val] Loss: -0.8152557611465454\n",
      "Epoch 419 -> [Train] Loss: -0.7774128913879395 [Val] Loss: -0.8163800835609436\n",
      "Epoch 420 -> [Train] Loss: -0.7845351099967957 [Val] Loss: -0.8158348202705383\n",
      "Epoch 421 -> [Train] Loss: -0.7891548871994019 [Val] Loss: -0.8151053786277771\n",
      "Epoch 422 -> [Train] Loss: -0.7880989909172058 [Val] Loss: -0.8159542083740234\n",
      "Epoch 423 -> [Train] Loss: -0.7806903123855591 [Val] Loss: -0.8164812326431274\n",
      "Epoch 424 -> [Train] Loss: -0.7842389345169067 [Val] Loss: -0.8159449696540833\n",
      "Epoch 425 -> [Train] Loss: -0.7742329239845276 [Val] Loss: -0.8152401447296143\n",
      "Epoch 426 -> [Train] Loss: -0.7826468348503113 [Val] Loss: -0.8160074353218079\n",
      "Epoch 427 -> [Train] Loss: -0.7863803505897522 [Val] Loss: -0.8165209889411926\n",
      "Epoch 428 -> [Train] Loss: -0.7823556661605835 [Val] Loss: -0.8148451447486877\n",
      "Epoch 429 -> [Train] Loss: -0.7843018770217896 [Val] Loss: -0.8143723011016846\n",
      "Epoch 430 -> [Train] Loss: -0.7876909375190735 [Val] Loss: -0.8156930804252625\n",
      "Epoch 431 -> [Train] Loss: -0.7943415641784668 [Val] Loss: -0.8163664937019348\n",
      "Epoch 432 -> [Train] Loss: -0.7776142358779907 [Val] Loss: -0.8146873712539673\n",
      "Epoch 433 -> [Train] Loss: -0.7923153638839722 [Val] Loss: -0.8151337504386902\n",
      "Epoch 434 -> [Train] Loss: -0.7876894474029541 [Val] Loss: -0.8156474232673645\n",
      "Epoch 435 -> [Train] Loss: -0.7849995493888855 [Val] Loss: -0.8162750601768494\n",
      "Epoch 436 -> [Train] Loss: -0.7799070477485657 [Val] Loss: -0.816277265548706\n",
      "Epoch 437 -> [Train] Loss: -0.7794259786605835 [Val] Loss: -0.8166097402572632\n",
      "Epoch 438 -> [Train] Loss: -0.777664840221405 [Val] Loss: -0.8159618377685547\n",
      "Epoch 439 -> [Train] Loss: -0.7934428453445435 [Val] Loss: -0.8145995736122131\n",
      "Epoch 440 -> [Train] Loss: -0.786728024482727 [Val] Loss: -0.8162581920623779\n",
      "Epoch 441 -> [Train] Loss: -0.7771950960159302 [Val] Loss: -0.8161211013793945\n",
      "Epoch 442 -> [Train] Loss: -0.776847779750824 [Val] Loss: -0.8161584734916687\n",
      "Epoch 443 -> [Train] Loss: -0.7795324325561523 [Val] Loss: -0.813843309879303\n",
      "Epoch 444 -> [Train] Loss: -0.7721433043479919 [Val] Loss: -0.8149584531784058\n",
      "Epoch 445 -> [Train] Loss: -0.7913950085639954 [Val] Loss: -0.8160840272903442\n",
      "Epoch 446 -> [Train] Loss: -0.7916153073310852 [Val] Loss: -0.8152766227722168\n",
      "Epoch 447 -> [Train] Loss: -0.7875967025756836 [Val] Loss: -0.8165106177330017\n",
      "Epoch 448 -> [Train] Loss: -0.7824024558067322 [Val] Loss: -0.8151902556419373\n",
      "Epoch 449 -> [Train] Loss: -0.7928484082221985 [Val] Loss: -0.8168522715568542\n",
      "Epoch 450 -> [Train] Loss: -0.7840957641601562 [Val] Loss: -0.8150169849395752\n",
      "Epoch 451 -> [Train] Loss: -0.783664345741272 [Val] Loss: -0.8157123327255249\n",
      "Epoch 452 -> [Train] Loss: -0.7816587090492249 [Val] Loss: -0.8168053030967712\n",
      "Epoch 453 -> [Train] Loss: -0.7928063273429871 [Val] Loss: -0.8170386552810669\n",
      "Epoch 454 -> [Train] Loss: -0.785445511341095 [Val] Loss: -0.8160282969474792\n",
      "Epoch 455 -> [Train] Loss: -0.7863430976867676 [Val] Loss: -0.8163381218910217\n",
      "Epoch 456 -> [Train] Loss: -0.7870368957519531 [Val] Loss: -0.8164219260215759\n",
      "Epoch 457 -> [Train] Loss: -0.777086079120636 [Val] Loss: -0.8152278065681458\n",
      "Epoch 458 -> [Train] Loss: -0.7927157878875732 [Val] Loss: -0.8159329295158386\n",
      "Epoch 459 -> [Train] Loss: -0.7856490612030029 [Val] Loss: -0.8146829009056091\n",
      "Epoch 460 -> [Train] Loss: -0.7896692156791687 [Val] Loss: -0.8156982064247131\n",
      "Epoch 461 -> [Train] Loss: -0.7901468276977539 [Val] Loss: -0.8155111074447632\n",
      "Epoch 462 -> [Train] Loss: -0.7858111262321472 [Val] Loss: -0.8168486952781677\n",
      "Epoch 463 -> [Train] Loss: -0.7822577357292175 [Val] Loss: -0.8151601552963257\n",
      "Epoch 464 -> [Train] Loss: -0.7874384522438049 [Val] Loss: -0.8155075311660767\n",
      "Epoch 465 -> [Train] Loss: -0.7761455178260803 [Val] Loss: -0.8163050413131714\n",
      "Epoch 466 -> [Train] Loss: -0.7843812704086304 [Val] Loss: -0.8170918822288513\n",
      "Epoch 467 -> [Train] Loss: -0.7852603793144226 [Val] Loss: -0.8161982297897339\n",
      "Epoch 468 -> [Train] Loss: -0.7846493124961853 [Val] Loss: -0.815645694732666\n",
      "Epoch 469 -> [Train] Loss: -0.7770859599113464 [Val] Loss: -0.8156282305717468\n",
      "Epoch 470 -> [Train] Loss: -0.7835234999656677 [Val] Loss: -0.8167230486869812\n",
      "Epoch 471 -> [Train] Loss: -0.797427237033844 [Val] Loss: -0.8141241669654846\n",
      "Epoch 472 -> [Train] Loss: -0.7850710153579712 [Val] Loss: -0.8143405914306641\n",
      "Epoch 473 -> [Train] Loss: -0.7824320793151855 [Val] Loss: -0.8147905468940735\n",
      "Epoch 474 -> [Train] Loss: -0.7843701243400574 [Val] Loss: -0.8167781829833984\n",
      "Epoch 475 -> [Train] Loss: -0.7786895632743835 [Val] Loss: -0.816697359085083\n",
      "Epoch 476 -> [Train] Loss: -0.7826123833656311 [Val] Loss: -0.8174340128898621\n",
      "Epoch 477 -> [Train] Loss: -0.7824239134788513 [Val] Loss: -0.8163909316062927\n",
      "Epoch 478 -> [Train] Loss: -0.7893208861351013 [Val] Loss: -0.8160964250564575\n",
      "Epoch 479 -> [Train] Loss: -0.7890923619270325 [Val] Loss: -0.8166385293006897\n",
      "Epoch 480 -> [Train] Loss: -0.7871600389480591 [Val] Loss: -0.8159558176994324\n",
      "Epoch 481 -> [Train] Loss: -0.7813428044319153 [Val] Loss: -0.8159749507904053\n",
      "Epoch 482 -> [Train] Loss: -0.7933000326156616 [Val] Loss: -0.8169470429420471\n",
      "Epoch 483 -> [Train] Loss: -0.7819839715957642 [Val] Loss: -0.8159008622169495\n",
      "Epoch 484 -> [Train] Loss: -0.7778589725494385 [Val] Loss: -0.8153401613235474\n",
      "Epoch 485 -> [Train] Loss: -0.7800001502037048 [Val] Loss: -0.8142902255058289\n",
      "Epoch 486 -> [Train] Loss: -0.7915779948234558 [Val] Loss: -0.816249430179596\n",
      "Epoch 487 -> [Train] Loss: -0.7862372398376465 [Val] Loss: -0.8154310584068298\n",
      "Epoch 488 -> [Train] Loss: -0.7801733613014221 [Val] Loss: -0.8165919184684753\n",
      "Epoch 489 -> [Train] Loss: -0.7829012870788574 [Val] Loss: -0.8159893751144409\n",
      "Epoch 490 -> [Train] Loss: -0.7831292748451233 [Val] Loss: -0.8169850707054138\n",
      "Epoch 491 -> [Train] Loss: -0.7965686321258545 [Val] Loss: -0.8154289722442627\n",
      "Epoch 492 -> [Train] Loss: -0.7805910110473633 [Val] Loss: -0.8154793977737427\n",
      "Epoch 493 -> [Train] Loss: -0.7759506702423096 [Val] Loss: -0.8151410818099976\n",
      "Epoch 494 -> [Train] Loss: -0.7992154359817505 [Val] Loss: -0.8157759308815002\n",
      "Epoch 495 -> [Train] Loss: -0.7766510844230652 [Val] Loss: -0.8162590861320496\n",
      "Epoch 496 -> [Train] Loss: -0.7991325855255127 [Val] Loss: -0.8158791661262512\n",
      "Epoch 497 -> [Train] Loss: -0.7881627082824707 [Val] Loss: -0.814972460269928\n",
      "Epoch 498 -> [Train] Loss: -0.7763689160346985 [Val] Loss: -0.8156307935714722\n",
      "Epoch 499 -> [Train] Loss: -0.7759118676185608 [Val] Loss: -0.8158486485481262\n",
      "CPU times: user 13h 27min 36s, sys: 5h 42min 46s, total: 19h 10min 23s\n",
      "Wall time: 10h 6min 56s\n"
     ]
    }
   ],
   "source": [
    "%%time\n",
    "for epoch in range(config.EPOCHS):\n",
    "    ## Training\n",
    "    for batch in dst_train_rdy.as_numpy_iterator():\n",
    "        state = train_step(state, batch)\n",
    "        state = state.replace(params=clip_layer(state.params, \"GDN\", a_min=0))\n",
    "        state = state.replace(params=clip_layer(state.params, \"alpha_achrom\", a_min=1))\n",
    "        # state = compute_metrics(state=state, batch=batch)\n",
    "        # break\n",
    "\n",
    "    ## Log the metrics\n",
    "    for name, value in state.metrics.compute().items():\n",
    "        metrics_history[f\"train_{name}\"].append(value)\n",
    "    \n",
    "    ## Empty the metrics\n",
    "    state = state.replace(metrics=state.metrics.empty())\n",
    "\n",
    "    ## Evaluation\n",
    "    for batch in dst_val_rdy.as_numpy_iterator():\n",
    "        state = compute_metrics(state=state, batch=batch)\n",
    "        # break\n",
    "    for name, value in state.metrics.compute().items():\n",
    "        metrics_history[f\"val_{name}\"].append(value)\n",
    "    state = state.replace(metrics=state.metrics.empty())\n",
    "    \n",
    "    ## Checkpointing\n",
    "    if metrics_history[\"val_loss\"][-1] <= min(metrics_history[\"val_loss\"]):\n",
    "        orbax_checkpointer.save(os.path.join(wandb.run.dir, \"model-best\"), state, save_args=save_args, force=True) # force=True means allow overwritting.\n",
    "\n",
    "    wandb.log({f\"{k}\": wandb.Histogram(v) for k, v in flatten_params(state.params).items()}, commit=False)\n",
    "    wandb.log({\"epoch\": epoch+1, **{name:values[-1] for name, values in metrics_history.items()}})\n",
    "    print(f'Epoch {epoch} -> [Train] Loss: {metrics_history[\"train_loss\"][-1]} [Val] Loss: {metrics_history[\"val_loss\"][-1]}')\n",
    "    # break"
   ]
  },
  {
   "cell_type": "markdown",
   "metadata": {},
   "source": [
    "Save the final model as well in case we want to keep training from it or whatever:"
   ]
  },
  {
   "cell_type": "code",
   "execution_count": null,
   "metadata": {},
   "outputs": [],
   "source": [
    "orbax_checkpointer.save(os.path.join(wandb.run.dir, \"model-final\"), state, save_args=save_args)"
   ]
  },
  {
   "cell_type": "code",
   "execution_count": null,
   "metadata": {},
   "outputs": [],
   "source": [
    "wandb.finish()"
   ]
  },
  {
   "cell_type": "code",
   "execution_count": null,
   "metadata": {},
   "outputs": [],
   "source": [
    "import matplotlib.pyplot as plt"
   ]
  },
  {
   "cell_type": "code",
   "execution_count": null,
   "metadata": {},
   "outputs": [
    {
     "ename": "<class 'KeyError'>",
     "evalue": "'GaborLayerLogSigmaCoupled__0'",
     "output_type": "error",
     "traceback": [
      "\u001b[0;31m---------------------------------------------------------------------------\u001b[0m",
      "\u001b[0;31mKeyError\u001b[0m                                  Traceback (most recent call last)",
      "Cell \u001b[0;32mIn[1], line 3\u001b[0m\n\u001b[1;32m      1\u001b[0m fig, axes \u001b[38;5;241m=\u001b[39m plt\u001b[38;5;241m.\u001b[39msubplots(\u001b[38;5;241m8\u001b[39m,\u001b[38;5;241m8\u001b[39m, figsize\u001b[38;5;241m=\u001b[39m(\u001b[38;5;241m15\u001b[39m,\u001b[38;5;241m15\u001b[39m))\n\u001b[1;32m      2\u001b[0m \u001b[38;5;28;01mfor\u001b[39;00m i, ax \u001b[38;5;129;01min\u001b[39;00m \u001b[38;5;28menumerate\u001b[39m(axes\u001b[38;5;241m.\u001b[39mravel()):\n\u001b[0;32m----> 3\u001b[0m     ax\u001b[38;5;241m.\u001b[39mimshow(\u001b[43mstate\u001b[49m\u001b[38;5;241;43m.\u001b[39;49m\u001b[43mstate\u001b[49m\u001b[43m[\u001b[49m\u001b[38;5;124;43m\"\u001b[39;49m\u001b[38;5;124;43mprecalc_filter\u001b[39;49m\u001b[38;5;124;43m\"\u001b[39;49m\u001b[43m]\u001b[49m\u001b[43m[\u001b[49m\u001b[38;5;124;43m\"\u001b[39;49m\u001b[38;5;124;43mGaborLayerLogSigmaCoupled__0\u001b[39;49m\u001b[38;5;124;43m\"\u001b[39;49m\u001b[43m]\u001b[49m[\u001b[38;5;124m\"\u001b[39m\u001b[38;5;124mkernel\u001b[39m\u001b[38;5;124m\"\u001b[39m][:,:,\u001b[38;5;241m0\u001b[39m,i])\n\u001b[1;32m      4\u001b[0m     ax\u001b[38;5;241m.\u001b[39maxis(\u001b[38;5;124m\"\u001b[39m\u001b[38;5;124moff\u001b[39m\u001b[38;5;124m\"\u001b[39m)\n\u001b[1;32m      5\u001b[0m plt\u001b[38;5;241m.\u001b[39mshow()\n",
      "File \u001b[0;32m~/miniconda3/envs/dl/lib/python3.8/site-packages/flax/core/frozen_dict.py:66\u001b[0m, in \u001b[0;36mFrozenDict.__getitem__\u001b[0;34m(self, key)\u001b[0m\n\u001b[1;32m     65\u001b[0m \u001b[38;5;28;01mdef\u001b[39;00m \u001b[38;5;21m__getitem__\u001b[39m(\u001b[38;5;28mself\u001b[39m, key):\n\u001b[0;32m---> 66\u001b[0m   v \u001b[38;5;241m=\u001b[39m \u001b[38;5;28;43mself\u001b[39;49m\u001b[38;5;241;43m.\u001b[39;49m\u001b[43m_dict\u001b[49m\u001b[43m[\u001b[49m\u001b[43mkey\u001b[49m\u001b[43m]\u001b[49m\n\u001b[1;32m     67\u001b[0m   \u001b[38;5;28;01mif\u001b[39;00m \u001b[38;5;28misinstance\u001b[39m(v, \u001b[38;5;28mdict\u001b[39m):\n\u001b[1;32m     68\u001b[0m     \u001b[38;5;28;01mreturn\u001b[39;00m FrozenDict(v)\n",
      "\u001b[0;31mKeyError\u001b[0m: 'GaborLayerLogSigmaCoupled__0'"
     ]
    },
    {
     "data": {
      "image/png": "[encoded data removed]",
      "text/plain": [
       "<Figure size 1500x1500 with 64 Axes>"
      ]
     },
     "metadata": {},
     "output_type": "display_data"
    }
   ],
   "source": [
    "fig, axes = plt.subplots(8,8, figsize=(15,15))\n",
    "for i, ax in enumerate(axes.ravel()):\n",
    "    ax.imshow(state.state[\"precalc_filter\"][\"GaborLayerLogSigmaCoupled__0\"][\"kernel\"][:,:,0,i])\n",
    "    ax.axis(\"off\")\n",
    "plt.show()"
   ]
  },
  {
   "cell_type": "code",
   "execution_count": null,
   "metadata": {},
   "outputs": [
    {
     "ename": "<class 'KeyError'>",
     "evalue": "'GaborLayerLogSigmaCoupled__2'",
     "output_type": "error",
     "traceback": [
      "\u001b[0;31m---------------------------------------------------------------------------\u001b[0m",
      "\u001b[0;31mKeyError\u001b[0m                                  Traceback (most recent call last)",
      "Cell \u001b[0;32mIn[1], line 1\u001b[0m\n\u001b[0;32m----> 1\u001b[0m kernel \u001b[38;5;241m=\u001b[39m \u001b[43mstate\u001b[49m\u001b[38;5;241;43m.\u001b[39;49m\u001b[43mstate\u001b[49m\u001b[43m[\u001b[49m\u001b[38;5;124;43m\"\u001b[39;49m\u001b[38;5;124;43mprecalc_filter\u001b[39;49m\u001b[38;5;124;43m\"\u001b[39;49m\u001b[43m]\u001b[49m\u001b[43m[\u001b[49m\u001b[38;5;124;43m\"\u001b[39;49m\u001b[38;5;124;43mGaborLayerLogSigmaCoupled__2\u001b[39;49m\u001b[38;5;124;43m\"\u001b[39;49m\u001b[43m]\u001b[49m[\u001b[38;5;124m\"\u001b[39m\u001b[38;5;124mkernel\u001b[39m\u001b[38;5;124m\"\u001b[39m]\n\u001b[1;32m      2\u001b[0m kernel\u001b[38;5;241m.\u001b[39mshape\n",
      "File \u001b[0;32m~/miniconda3/envs/dl/lib/python3.8/site-packages/flax/core/frozen_dict.py:66\u001b[0m, in \u001b[0;36mFrozenDict.__getitem__\u001b[0;34m(self, key)\u001b[0m\n\u001b[1;32m     65\u001b[0m \u001b[38;5;28;01mdef\u001b[39;00m \u001b[38;5;21m__getitem__\u001b[39m(\u001b[38;5;28mself\u001b[39m, key):\n\u001b[0;32m---> 66\u001b[0m   v \u001b[38;5;241m=\u001b[39m \u001b[38;5;28;43mself\u001b[39;49m\u001b[38;5;241;43m.\u001b[39;49m\u001b[43m_dict\u001b[49m\u001b[43m[\u001b[49m\u001b[43mkey\u001b[49m\u001b[43m]\u001b[49m\n\u001b[1;32m     67\u001b[0m   \u001b[38;5;28;01mif\u001b[39;00m \u001b[38;5;28misinstance\u001b[39m(v, \u001b[38;5;28mdict\u001b[39m):\n\u001b[1;32m     68\u001b[0m     \u001b[38;5;28;01mreturn\u001b[39;00m FrozenDict(v)\n",
      "\u001b[0;31mKeyError\u001b[0m: 'GaborLayerLogSigmaCoupled__2'"
     ]
    }
   ],
   "source": [
    "kernel = state.state[\"precalc_filter\"][\"GaborLayerLogSigmaCoupled__2\"][\"kernel\"]\n",
    "kernel.shape"
   ]
  },
  {
   "cell_type": "code",
   "execution_count": null,
   "metadata": {},
   "outputs": [
    {
     "ename": "<class 'NameError'>",
     "evalue": "name 'kernel' is not defined",
     "output_type": "error",
     "traceback": [
      "\u001b[0;31m---------------------------------------------------------------------------\u001b[0m",
      "\u001b[0;31mNameError\u001b[0m                                 Traceback (most recent call last)",
      "Cell \u001b[0;32mIn[1], line 1\u001b[0m\n\u001b[0;32m----> 1\u001b[0m kernel_f_fft \u001b[38;5;241m=\u001b[39m jnp\u001b[38;5;241m.\u001b[39mfft\u001b[38;5;241m.\u001b[39mfftn(\u001b[43mkernel\u001b[49m[:,:,\u001b[38;5;241m0\u001b[39m,:], axes\u001b[38;5;241m=\u001b[39m(\u001b[38;5;241m0\u001b[39m,\u001b[38;5;241m1\u001b[39m))\n\u001b[1;32m      2\u001b[0m kernel_f_fft \u001b[38;5;241m=\u001b[39m jnp\u001b[38;5;241m.\u001b[39mfft\u001b[38;5;241m.\u001b[39mfftshift(kernel_f_fft)\n\u001b[1;32m      3\u001b[0m kernel_f_fft_abs_sum \u001b[38;5;241m=\u001b[39m jnp\u001b[38;5;241m.\u001b[39mabs(kernel_f_fft)\u001b[38;5;241m.\u001b[39msum(axis\u001b[38;5;241m=\u001b[39m\u001b[38;5;241m-\u001b[39m\u001b[38;5;241m1\u001b[39m)\n",
      "\u001b[0;31mNameError\u001b[0m: name 'kernel' is not defined"
     ]
    }
   ],
   "source": [
    "kernel_f_fft = jnp.fft.fftn(kernel[:,:,0,:], axes=(0,1))\n",
    "kernel_f_fft = jnp.fft.fftshift(kernel_f_fft)\n",
    "kernel_f_fft_abs_sum = jnp.abs(kernel_f_fft).sum(axis=-1)\n",
    "kernel_f_fft.shape, kernel_f_fft_abs_sum.shape"
   ]
  },
  {
   "cell_type": "code",
   "execution_count": null,
   "metadata": {},
   "outputs": [
    {
     "ename": "<class 'NameError'>",
     "evalue": "name 'kernel_f_fft' is not defined",
     "output_type": "error",
     "traceback": [
      "\u001b[0;31m---------------------------------------------------------------------------\u001b[0m",
      "\u001b[0;31mNameError\u001b[0m                                 Traceback (most recent call last)",
      "Cell \u001b[0;32mIn[1], line 3\u001b[0m\n\u001b[1;32m      1\u001b[0m fig, axes \u001b[38;5;241m=\u001b[39m plt\u001b[38;5;241m.\u001b[39msubplots(\u001b[38;5;241m8\u001b[39m,\u001b[38;5;241m8\u001b[39m, figsize\u001b[38;5;241m=\u001b[39m(\u001b[38;5;241m15\u001b[39m,\u001b[38;5;241m15\u001b[39m))\n\u001b[1;32m      2\u001b[0m \u001b[38;5;28;01mfor\u001b[39;00m i, ax \u001b[38;5;129;01min\u001b[39;00m \u001b[38;5;28menumerate\u001b[39m(axes\u001b[38;5;241m.\u001b[39mravel()):\n\u001b[0;32m----> 3\u001b[0m     ax\u001b[38;5;241m.\u001b[39mimshow(jnp\u001b[38;5;241m.\u001b[39mabs(\u001b[43mkernel_f_fft\u001b[49m[:,:,i]))\n\u001b[1;32m      4\u001b[0m     ax\u001b[38;5;241m.\u001b[39maxis(\u001b[38;5;124m\"\u001b[39m\u001b[38;5;124moff\u001b[39m\u001b[38;5;124m\"\u001b[39m)\n\u001b[1;32m      5\u001b[0m plt\u001b[38;5;241m.\u001b[39mshow()\n",
      "\u001b[0;31mNameError\u001b[0m: name 'kernel_f_fft' is not defined"
     ]
    },
    {
     "data": {
      "image/png": "[encoded data removed]",
      "text/plain": [
       "<Figure size 1500x1500 with 64 Axes>"
      ]
     },
     "metadata": {},
     "output_type": "display_data"
    }
   ],
   "source": [
    "fig, axes = plt.subplots(8,8, figsize=(15,15))\n",
    "for i, ax in enumerate(axes.ravel()):\n",
    "    ax.imshow(jnp.abs(kernel_f_fft[:,:,i]))\n",
    "    ax.axis(\"off\")\n",
    "plt.show()"
   ]
  },
  {
   "cell_type": "code",
   "execution_count": null,
   "metadata": {},
   "outputs": [
    {
     "ename": "<class 'NameError'>",
     "evalue": "name 'kernel_f_fft_abs_sum' is not defined",
     "output_type": "error",
     "traceback": [
      "\u001b[0;31m---------------------------------------------------------------------------\u001b[0m",
      "\u001b[0;31mNameError\u001b[0m                                 Traceback (most recent call last)",
      "Cell \u001b[0;32mIn[1], line 1\u001b[0m\n\u001b[0;32m----> 1\u001b[0m plt\u001b[38;5;241m.\u001b[39mimshow(\u001b[43mkernel_f_fft_abs_sum\u001b[49m)\n\u001b[1;32m      2\u001b[0m plt\u001b[38;5;241m.\u001b[39mshow()\n",
      "\u001b[0;31mNameError\u001b[0m: name 'kernel_f_fft_abs_sum' is not defined"
     ]
    }
   ],
   "source": [
    "plt.imshow(kernel_f_fft_abs_sum)\n",
    "plt.show()"
   ]
  },
  {
   "cell_type": "code",
   "execution_count": null,
   "metadata": {},
   "outputs": [
    {
     "ename": "<class 'KeyError'>",
     "evalue": "'CSFFourier_0'",
     "output_type": "error",
     "traceback": [
      "\u001b[0;31m---------------------------------------------------------------------------\u001b[0m",
      "\u001b[0;31mKeyError\u001b[0m                                  Traceback (most recent call last)",
      "Cell \u001b[0;32mIn[1], line 1\u001b[0m\n\u001b[0;32m----> 1\u001b[0m \u001b[43mstate\u001b[49m\u001b[38;5;241;43m.\u001b[39;49m\u001b[43mparams\u001b[49m\u001b[43m[\u001b[49m\u001b[38;5;124;43m\"\u001b[39;49m\u001b[38;5;124;43mCSFFourier_0\u001b[39;49m\u001b[38;5;124;43m\"\u001b[39;49m\u001b[43m]\u001b[49m\n",
      "File \u001b[0;32m~/miniconda3/envs/dl/lib/python3.8/site-packages/flax/core/frozen_dict.py:66\u001b[0m, in \u001b[0;36mFrozenDict.__getitem__\u001b[0;34m(self, key)\u001b[0m\n\u001b[1;32m     65\u001b[0m \u001b[38;5;28;01mdef\u001b[39;00m \u001b[38;5;21m__getitem__\u001b[39m(\u001b[38;5;28mself\u001b[39m, key):\n\u001b[0;32m---> 66\u001b[0m   v \u001b[38;5;241m=\u001b[39m \u001b[38;5;28;43mself\u001b[39;49m\u001b[38;5;241;43m.\u001b[39;49m\u001b[43m_dict\u001b[49m\u001b[43m[\u001b[49m\u001b[43mkey\u001b[49m\u001b[43m]\u001b[49m\n\u001b[1;32m     67\u001b[0m   \u001b[38;5;28;01mif\u001b[39;00m \u001b[38;5;28misinstance\u001b[39m(v, \u001b[38;5;28mdict\u001b[39m):\n\u001b[1;32m     68\u001b[0m     \u001b[38;5;28;01mreturn\u001b[39;00m FrozenDict(v)\n",
      "\u001b[0;31mKeyError\u001b[0m: 'CSFFourier_0'"
     ]
    }
   ],
   "source": [
    "state.params[\"CSFFourier_0\"]"
   ]
  },
  {
   "cell_type": "code",
   "execution_count": null,
   "metadata": {},
   "outputs": [
    {
     "ename": "<class 'KeyError'>",
     "evalue": "'CSFFourier_0'",
     "output_type": "error",
     "traceback": [
      "\u001b[0;31m---------------------------------------------------------------------------\u001b[0m",
      "\u001b[0;31mKeyError\u001b[0m                                  Traceback (most recent call last)",
      "Cell \u001b[0;32mIn[1], line 1\u001b[0m\n\u001b[0;32m----> 1\u001b[0m csf_sso, fx, fy \u001b[38;5;241m=\u001b[39m CSFFourier\u001b[38;5;241m.\u001b[39mcsf_sso(fs\u001b[38;5;241m=\u001b[39m\u001b[38;5;241m64\u001b[39m, Nx\u001b[38;5;241m=\u001b[39m\u001b[38;5;241m512\u001b[39m\u001b[38;5;241m/\u001b[39m\u001b[38;5;241m/\u001b[39m\u001b[38;5;241m2\u001b[39m, Ny\u001b[38;5;241m=\u001b[39m\u001b[38;5;241m384\u001b[39m\u001b[38;5;241m/\u001b[39m\u001b[38;5;241m/\u001b[39m\u001b[38;5;241m2\u001b[39m, alpha\u001b[38;5;241m=\u001b[39m\u001b[43mstate\u001b[49m\u001b[38;5;241;43m.\u001b[39;49m\u001b[43mparams\u001b[49m\u001b[43m[\u001b[49m\u001b[38;5;124;43m\"\u001b[39;49m\u001b[38;5;124;43mCSFFourier_0\u001b[39;49m\u001b[38;5;124;43m\"\u001b[39;49m\u001b[43m]\u001b[49m[\u001b[38;5;124m\"\u001b[39m\u001b[38;5;124malpha_achrom\u001b[39m\u001b[38;5;124m\"\u001b[39m],\n\u001b[1;32m      2\u001b[0m                    beta\u001b[38;5;241m=\u001b[39mstate\u001b[38;5;241m.\u001b[39mparams[\u001b[38;5;124m\"\u001b[39m\u001b[38;5;124mCSFFourier_0\u001b[39m\u001b[38;5;124m\"\u001b[39m][\u001b[38;5;124m\"\u001b[39m\u001b[38;5;124mbeta_achrom\u001b[39m\u001b[38;5;124m\"\u001b[39m], g\u001b[38;5;241m=\u001b[39m\u001b[38;5;241m330.74\u001b[39m, fm\u001b[38;5;241m=\u001b[39mstate\u001b[38;5;241m.\u001b[39mparams[\u001b[38;5;124m\"\u001b[39m\u001b[38;5;124mCSFFourier_0\u001b[39m\u001b[38;5;124m\"\u001b[39m][\u001b[38;5;124m\"\u001b[39m\u001b[38;5;124mfm\u001b[39m\u001b[38;5;124m\"\u001b[39m], \n\u001b[1;32m      3\u001b[0m                     l\u001b[38;5;241m=\u001b[39m\u001b[38;5;241m0.837\u001b[39m, s\u001b[38;5;241m=\u001b[39mstate\u001b[38;5;241m.\u001b[39mparams[\u001b[38;5;124m\"\u001b[39m\u001b[38;5;124mCSFFourier_0\u001b[39m\u001b[38;5;124m\"\u001b[39m][\u001b[38;5;124m\"\u001b[39m\u001b[38;5;124ms\u001b[39m\u001b[38;5;124m\"\u001b[39m], w\u001b[38;5;241m=\u001b[39m\u001b[38;5;241m1.0\u001b[39m, os\u001b[38;5;241m=\u001b[39m\u001b[38;5;241m6.664\u001b[39m)\n",
      "File \u001b[0;32m~/miniconda3/envs/dl/lib/python3.8/site-packages/flax/core/frozen_dict.py:66\u001b[0m, in \u001b[0;36mFrozenDict.__getitem__\u001b[0;34m(self, key)\u001b[0m\n\u001b[1;32m     65\u001b[0m \u001b[38;5;28;01mdef\u001b[39;00m \u001b[38;5;21m__getitem__\u001b[39m(\u001b[38;5;28mself\u001b[39m, key):\n\u001b[0;32m---> 66\u001b[0m   v \u001b[38;5;241m=\u001b[39m \u001b[38;5;28;43mself\u001b[39;49m\u001b[38;5;241;43m.\u001b[39;49m\u001b[43m_dict\u001b[49m\u001b[43m[\u001b[49m\u001b[43mkey\u001b[49m\u001b[43m]\u001b[49m\n\u001b[1;32m     67\u001b[0m   \u001b[38;5;28;01mif\u001b[39;00m \u001b[38;5;28misinstance\u001b[39m(v, \u001b[38;5;28mdict\u001b[39m):\n\u001b[1;32m     68\u001b[0m     \u001b[38;5;28;01mreturn\u001b[39;00m FrozenDict(v)\n",
      "\u001b[0;31mKeyError\u001b[0m: 'CSFFourier_0'"
     ]
    }
   ],
   "source": [
    "csf_sso, fx, fy = CSFFourier.csf_sso(fs=64, Nx=512//2, Ny=384//2, alpha=state.params[\"CSFFourier_0\"][\"alpha_achrom\"],\n",
    "                   beta=state.params[\"CSFFourier_0\"][\"beta_achrom\"], g=330.74, fm=state.params[\"CSFFourier_0\"][\"fm\"], \n",
    "                    l=0.837, s=state.params[\"CSFFourier_0\"][\"s\"], w=1.0, os=6.664)"
   ]
  },
  {
   "cell_type": "code",
   "execution_count": null,
   "metadata": {},
   "outputs": [
    {
     "ename": "<class 'KeyError'>",
     "evalue": "'CSFFourier_0'",
     "output_type": "error",
     "traceback": [
      "\u001b[0;31m---------------------------------------------------------------------------\u001b[0m",
      "\u001b[0;31mKeyError\u001b[0m                                  Traceback (most recent call last)",
      "Cell \u001b[0;32mIn[1], line 1\u001b[0m\n\u001b[0;32m----> 1\u001b[0m csf_chrom_rg, csf_chrom_yb, fx, fy \u001b[38;5;241m=\u001b[39m CSFFourier\u001b[38;5;241m.\u001b[39mcsf_chrom(fs\u001b[38;5;241m=\u001b[39m\u001b[38;5;241m64\u001b[39m, Nx\u001b[38;5;241m=\u001b[39m\u001b[38;5;241m512\u001b[39m\u001b[38;5;241m/\u001b[39m\u001b[38;5;241m/\u001b[39m\u001b[38;5;241m2\u001b[39m, Ny\u001b[38;5;241m=\u001b[39m\u001b[38;5;241m384\u001b[39m\u001b[38;5;241m/\u001b[39m\u001b[38;5;241m/\u001b[39m\u001b[38;5;241m2\u001b[39m, alpha_rg\u001b[38;5;241m=\u001b[39m\u001b[43mstate\u001b[49m\u001b[38;5;241;43m.\u001b[39;49m\u001b[43mparams\u001b[49m\u001b[43m[\u001b[49m\u001b[38;5;124;43m\"\u001b[39;49m\u001b[38;5;124;43mCSFFourier_0\u001b[39;49m\u001b[38;5;124;43m\"\u001b[39;49m\u001b[43m]\u001b[49m[\u001b[38;5;124m\"\u001b[39m\u001b[38;5;124malpha_chrom_rg\u001b[39m\u001b[38;5;124m\"\u001b[39m],\n\u001b[1;32m      2\u001b[0m                    alpha_yb\u001b[38;5;241m=\u001b[39mstate\u001b[38;5;241m.\u001b[39mparams[\u001b[38;5;124m\"\u001b[39m\u001b[38;5;124mCSFFourier_0\u001b[39m\u001b[38;5;124m\"\u001b[39m][\u001b[38;5;124m\"\u001b[39m\u001b[38;5;124malpha_chrom_yb\u001b[39m\u001b[38;5;124m\"\u001b[39m],\n\u001b[1;32m      3\u001b[0m                    beta\u001b[38;5;241m=\u001b[39mstate\u001b[38;5;241m.\u001b[39mparams[\u001b[38;5;124m\"\u001b[39m\u001b[38;5;124mCSFFourier_0\u001b[39m\u001b[38;5;124m\"\u001b[39m][\u001b[38;5;124m\"\u001b[39m\u001b[38;5;124mbeta_chrom\u001b[39m\u001b[38;5;124m\"\u001b[39m])\n",
      "File \u001b[0;32m~/miniconda3/envs/dl/lib/python3.8/site-packages/flax/core/frozen_dict.py:66\u001b[0m, in \u001b[0;36mFrozenDict.__getitem__\u001b[0;34m(self, key)\u001b[0m\n\u001b[1;32m     65\u001b[0m \u001b[38;5;28;01mdef\u001b[39;00m \u001b[38;5;21m__getitem__\u001b[39m(\u001b[38;5;28mself\u001b[39m, key):\n\u001b[0;32m---> 66\u001b[0m   v \u001b[38;5;241m=\u001b[39m \u001b[38;5;28;43mself\u001b[39;49m\u001b[38;5;241;43m.\u001b[39;49m\u001b[43m_dict\u001b[49m\u001b[43m[\u001b[49m\u001b[43mkey\u001b[49m\u001b[43m]\u001b[49m\n\u001b[1;32m     67\u001b[0m   \u001b[38;5;28;01mif\u001b[39;00m \u001b[38;5;28misinstance\u001b[39m(v, \u001b[38;5;28mdict\u001b[39m):\n\u001b[1;32m     68\u001b[0m     \u001b[38;5;28;01mreturn\u001b[39;00m FrozenDict(v)\n",
      "\u001b[0;31mKeyError\u001b[0m: 'CSFFourier_0'"
     ]
    }
   ],
   "source": [
    "csf_chrom_rg, csf_chrom_yb, fx, fy = CSFFourier.csf_chrom(fs=64, Nx=512//2, Ny=384//2, alpha_rg=state.params[\"CSFFourier_0\"][\"alpha_chrom_rg\"],\n",
    "                   alpha_yb=state.params[\"CSFFourier_0\"][\"alpha_chrom_yb\"],\n",
    "                   beta=state.params[\"CSFFourier_0\"][\"beta_chrom\"])"
   ]
  },
  {
   "cell_type": "code",
   "execution_count": null,
   "metadata": {},
   "outputs": [],
   "source": [
    "def scale_csf(csf_a, csf_rg, csf_yb):\n",
    "    csfs = jnp.stack([csf_a, csf_rg, csf_yb], axis=-1)\n",
    "    E1 = jnp.sum(jnp.ones_like(csfs)**2)#**(1/2)\n",
    "    E_CSF = jnp.sum(csfs**2)#**(1/2)\n",
    "    csfs = (csfs/E_CSF)*E1\n",
    "    return csfs[:,:,0], csfs[:,:,1], csfs[:,:,2], csfs.min(), csfs.max()"
   ]
  },
  {
   "cell_type": "code",
   "execution_count": null,
   "metadata": {},
   "outputs": [
    {
     "ename": "<class 'NameError'>",
     "evalue": "name 'csf_sso' is not defined",
     "output_type": "error",
     "traceback": [
      "\u001b[0;31m---------------------------------------------------------------------------\u001b[0m",
      "\u001b[0;31mNameError\u001b[0m                                 Traceback (most recent call last)",
      "Cell \u001b[0;32mIn[1], line 1\u001b[0m\n\u001b[0;32m----> 1\u001b[0m csf_sso, csf_chrom_rg, csf_chrom_yb, m, M \u001b[38;5;241m=\u001b[39m scale_csf(\u001b[43mcsf_sso\u001b[49m, csf_chrom_rg, csf_chrom_yb)\n\u001b[1;32m      2\u001b[0m \u001b[38;5;66;03m# csfs = scale_csf(csf_sso, csf_chrom_rg, csf_chrom_yb)\u001b[39;00m\n",
      "\u001b[0;31mNameError\u001b[0m: name 'csf_sso' is not defined"
     ]
    }
   ],
   "source": [
    "csf_sso, csf_chrom_rg, csf_chrom_yb, m, M = scale_csf(csf_sso, csf_chrom_rg, csf_chrom_yb)\n",
    "# csfs = scale_csf(csf_sso, csf_chrom_rg, csf_chrom_yb)"
   ]
  },
  {
   "cell_type": "code",
   "execution_count": null,
   "metadata": {},
   "outputs": [
    {
     "ename": "<class 'NameError'>",
     "evalue": "name 'csf_sso' is not defined",
     "output_type": "error",
     "traceback": [
      "\u001b[0;31m---------------------------------------------------------------------------\u001b[0m",
      "\u001b[0;31mNameError\u001b[0m                                 Traceback (most recent call last)",
      "Cell \u001b[0;32mIn[1], line 1\u001b[0m\n\u001b[0;32m----> 1\u001b[0m plt\u001b[38;5;241m.\u001b[39mmatshow(\u001b[43mcsf_sso\u001b[49m, vmin\u001b[38;5;241m=\u001b[39mm, vmax\u001b[38;5;241m=\u001b[39mM)\n\u001b[1;32m      2\u001b[0m plt\u001b[38;5;241m.\u001b[39mcolorbar()\n\u001b[1;32m      3\u001b[0m plt\u001b[38;5;241m.\u001b[39mshow()\n",
      "\u001b[0;31mNameError\u001b[0m: name 'csf_sso' is not defined"
     ]
    }
   ],
   "source": [
    "plt.matshow(csf_sso, vmin=m, vmax=M)\n",
    "plt.colorbar()\n",
    "plt.show()"
   ]
  },
  {
   "cell_type": "code",
   "execution_count": null,
   "metadata": {},
   "outputs": [
    {
     "ename": "<class 'NameError'>",
     "evalue": "name 'csf_chrom_rg' is not defined",
     "output_type": "error",
     "traceback": [
      "\u001b[0;31m---------------------------------------------------------------------------\u001b[0m",
      "\u001b[0;31mNameError\u001b[0m                                 Traceback (most recent call last)",
      "Cell \u001b[0;32mIn[1], line 1\u001b[0m\n\u001b[0;32m----> 1\u001b[0m plt\u001b[38;5;241m.\u001b[39mmatshow(\u001b[43mcsf_chrom_rg\u001b[49m, vmin\u001b[38;5;241m=\u001b[39mm, vmax\u001b[38;5;241m=\u001b[39mM)\n\u001b[1;32m      2\u001b[0m plt\u001b[38;5;241m.\u001b[39mcolorbar()\n\u001b[1;32m      3\u001b[0m plt\u001b[38;5;241m.\u001b[39mshow()\n",
      "\u001b[0;31mNameError\u001b[0m: name 'csf_chrom_rg' is not defined"
     ]
    }
   ],
   "source": [
    "plt.matshow(csf_chrom_rg, vmin=m, vmax=M)\n",
    "plt.colorbar()\n",
    "plt.show()"
   ]
  },
  {
   "cell_type": "code",
   "execution_count": null,
   "metadata": {},
   "outputs": [
    {
     "ename": "<class 'NameError'>",
     "evalue": "name 'csf_chrom_yb' is not defined",
     "output_type": "error",
     "traceback": [
      "\u001b[0;31m---------------------------------------------------------------------------\u001b[0m",
      "\u001b[0;31mNameError\u001b[0m                                 Traceback (most recent call last)",
      "Cell \u001b[0;32mIn[1], line 1\u001b[0m\n\u001b[0;32m----> 1\u001b[0m plt\u001b[38;5;241m.\u001b[39mmatshow(\u001b[43mcsf_chrom_yb\u001b[49m, vmin\u001b[38;5;241m=\u001b[39mm, vmax\u001b[38;5;241m=\u001b[39mM)\n\u001b[1;32m      2\u001b[0m plt\u001b[38;5;241m.\u001b[39mcolorbar()\n\u001b[1;32m      3\u001b[0m plt\u001b[38;5;241m.\u001b[39mshow()\n",
      "\u001b[0;31mNameError\u001b[0m: name 'csf_chrom_yb' is not defined"
     ]
    }
   ],
   "source": [
    "plt.matshow(csf_chrom_yb, vmin=m, vmax=M)\n",
    "plt.colorbar()\n",
    "plt.show()"
   ]
  },
  {
   "cell_type": "code",
   "execution_count": null,
   "metadata": {},
   "outputs": [
    {
     "ename": "<class 'KeyError'>",
     "evalue": "'GDNSpatioFreqOrient_0'",
     "output_type": "error",
     "traceback": [
      "\u001b[0;31m---------------------------------------------------------------------------\u001b[0m",
      "\u001b[0;31mKeyError\u001b[0m                                  Traceback (most recent call last)",
      "Cell \u001b[0;32mIn[1], line 1\u001b[0m\n\u001b[0;32m----> 1\u001b[0m plt\u001b[38;5;241m.\u001b[39mplot(\u001b[43mstate\u001b[49m\u001b[38;5;241;43m.\u001b[39;49m\u001b[43mparams\u001b[49m\u001b[43m[\u001b[49m\u001b[38;5;124;43m\"\u001b[39;49m\u001b[38;5;124;43mGDNSpatioFreqOrient_0\u001b[39;49m\u001b[38;5;124;43m\"\u001b[39;49m\u001b[43m]\u001b[49m[\u001b[38;5;124m\"\u001b[39m\u001b[38;5;124mbias\u001b[39m\u001b[38;5;124m\"\u001b[39m])\n\u001b[1;32m      2\u001b[0m plt\u001b[38;5;241m.\u001b[39mplot(state\u001b[38;5;241m.\u001b[39mparams[\u001b[38;5;124m\"\u001b[39m\u001b[38;5;124mGDNSpatioFreqOrient_1\u001b[39m\u001b[38;5;124m\"\u001b[39m][\u001b[38;5;124m\"\u001b[39m\u001b[38;5;124mbias\u001b[39m\u001b[38;5;124m\"\u001b[39m])\n\u001b[1;32m      3\u001b[0m plt\u001b[38;5;241m.\u001b[39mplot(state\u001b[38;5;241m.\u001b[39mparams[\u001b[38;5;124m\"\u001b[39m\u001b[38;5;124mGDNSpatioFreqOrient_2\u001b[39m\u001b[38;5;124m\"\u001b[39m][\u001b[38;5;124m\"\u001b[39m\u001b[38;5;124mbias\u001b[39m\u001b[38;5;124m\"\u001b[39m])\n",
      "File \u001b[0;32m~/miniconda3/envs/dl/lib/python3.8/site-packages/flax/core/frozen_dict.py:66\u001b[0m, in \u001b[0;36mFrozenDict.__getitem__\u001b[0;34m(self, key)\u001b[0m\n\u001b[1;32m     65\u001b[0m \u001b[38;5;28;01mdef\u001b[39;00m \u001b[38;5;21m__getitem__\u001b[39m(\u001b[38;5;28mself\u001b[39m, key):\n\u001b[0;32m---> 66\u001b[0m   v \u001b[38;5;241m=\u001b[39m \u001b[38;5;28;43mself\u001b[39;49m\u001b[38;5;241;43m.\u001b[39;49m\u001b[43m_dict\u001b[49m\u001b[43m[\u001b[49m\u001b[43mkey\u001b[49m\u001b[43m]\u001b[49m\n\u001b[1;32m     67\u001b[0m   \u001b[38;5;28;01mif\u001b[39;00m \u001b[38;5;28misinstance\u001b[39m(v, \u001b[38;5;28mdict\u001b[39m):\n\u001b[1;32m     68\u001b[0m     \u001b[38;5;28;01mreturn\u001b[39;00m FrozenDict(v)\n",
      "\u001b[0;31mKeyError\u001b[0m: 'GDNSpatioFreqOrient_0'"
     ]
    }
   ],
   "source": [
    "plt.plot(state.params[\"GDNSpatioFreqOrient_0\"][\"bias\"])\n",
    "plt.plot(state.params[\"GDNSpatioFreqOrient_1\"][\"bias\"])\n",
    "plt.plot(state.params[\"GDNSpatioFreqOrient_2\"][\"bias\"])\n",
    "plt.show()"
   ]
  },
  {
   "cell_type": "markdown",
   "metadata": {},
   "source": [
    "## Correlation per layer"
   ]
  },
  {
   "cell_type": "code",
   "execution_count": null,
   "metadata": {},
   "outputs": [],
   "source": [
    "@jax.jit\n",
    "def forward_intermediates(state, inputs):\n",
    "    return state.apply_fn({\"params\": state.params, **state.state}, inputs, train=False, capture_intermediates=True)"
   ]
  },
  {
   "cell_type": "code",
   "execution_count": null,
   "metadata": {},
   "outputs": [
    {
     "ename": "<class 'NameError'>",
     "evalue": "name 'batch' is not defined",
     "output_type": "error",
     "traceback": [
      "\u001b[0;31m---------------------------------------------------------------------------\u001b[0m",
      "\u001b[0;31mNameError\u001b[0m                                 Traceback (most recent call last)",
      "Cell \u001b[0;32mIn[1], line 1\u001b[0m\n\u001b[0;32m----> 1\u001b[0m pred_ref, extra_ref \u001b[38;5;241m=\u001b[39m forward_intermediates(state, \u001b[43mbatch\u001b[49m[\u001b[38;5;241m0\u001b[39m][:\u001b[38;5;241m1\u001b[39m])\n\u001b[1;32m      2\u001b[0m pred_dist, extra_dist \u001b[38;5;241m=\u001b[39m forward_intermediates(state, batch[\u001b[38;5;241m1\u001b[39m][:\u001b[38;5;241m1\u001b[39m])\n",
      "\u001b[0;31mNameError\u001b[0m: name 'batch' is not defined"
     ]
    }
   ],
   "source": [
    "pred_ref, extra_ref = forward_intermediates(state, batch[0][:1])\n",
    "pred_dist, extra_dist = forward_intermediates(state, batch[1][:1])"
   ]
  },
  {
   "cell_type": "code",
   "execution_count": null,
   "metadata": {},
   "outputs": [
    {
     "ename": "<class 'NameError'>",
     "evalue": "name 'extra_ref' is not defined",
     "output_type": "error",
     "traceback": [
      "\u001b[0;31m---------------------------------------------------------------------------\u001b[0m",
      "\u001b[0;31mNameError\u001b[0m                                 Traceback (most recent call last)",
      "Cell \u001b[0;32mIn[1], line 1\u001b[0m\n\u001b[0;32m----> 1\u001b[0m empty_tree \u001b[38;5;241m=\u001b[39m jax\u001b[38;5;241m.\u001b[39mtree_util\u001b[38;5;241m.\u001b[39mtree_map(\u001b[38;5;28;01mlambda\u001b[39;00m x: [], \u001b[43mextra_ref\u001b[49m[\u001b[38;5;124m\"\u001b[39m\u001b[38;5;124mintermediates\u001b[39m\u001b[38;5;124m\"\u001b[39m])\n",
      "\u001b[0;31mNameError\u001b[0m: name 'extra_ref' is not defined"
     ]
    }
   ],
   "source": [
    "empty_tree = jax.tree_util.tree_map(lambda x: [], extra_ref[\"intermediates\"])"
   ]
  },
  {
   "cell_type": "code",
   "execution_count": null,
   "metadata": {},
   "outputs": [],
   "source": [
    "def mse_trees(tree1, tree2):\n",
    "    return jax.tree_util.tree_map(lambda x,y: jnp.sum((x-y)**2)**(1/2), tree1, tree2)"
   ]
  },
  {
   "cell_type": "code",
   "execution_count": null,
   "metadata": {},
   "outputs": [
    {
     "ename": "<class 'NameError'>",
     "evalue": "name 'extra_ref' is not defined",
     "output_type": "error",
     "traceback": [
      "\u001b[0;31m---------------------------------------------------------------------------\u001b[0m",
      "\u001b[0;31mNameError\u001b[0m                                 Traceback (most recent call last)",
      "Cell \u001b[0;32mIn[1], line 1\u001b[0m\n\u001b[0;32m----> 1\u001b[0m diffs \u001b[38;5;241m=\u001b[39m mse_trees(\u001b[43mextra_ref\u001b[49m[\u001b[38;5;124m\"\u001b[39m\u001b[38;5;124mintermediates\u001b[39m\u001b[38;5;124m\"\u001b[39m], extra_dist[\u001b[38;5;124m\"\u001b[39m\u001b[38;5;124mintermediates\u001b[39m\u001b[38;5;124m\"\u001b[39m])\n",
      "\u001b[0;31mNameError\u001b[0m: name 'extra_ref' is not defined"
     ]
    }
   ],
   "source": [
    "diffs = mse_trees(extra_ref[\"intermediates\"], extra_dist[\"intermediates\"])"
   ]
  },
  {
   "cell_type": "code",
   "execution_count": null,
   "metadata": {},
   "outputs": [],
   "source": [
    "def join_tree_values(*trees):\n",
    "    return jax.tree_util.tree_map(lambda *args: [*args], *trees)"
   ]
  },
  {
   "cell_type": "code",
   "execution_count": null,
   "metadata": {},
   "outputs": [
    {
     "ename": "<class 'NameError'>",
     "evalue": "name 'dst_train' is not defined",
     "output_type": "error",
     "traceback": [
      "\u001b[0;31m---------------------------------------------------------------------------\u001b[0m",
      "\u001b[0;31mNameError\u001b[0m                                 Traceback (most recent call last)",
      "Cell \u001b[0;32mIn[1], line 1\u001b[0m\n\u001b[0;32m----> 1\u001b[0m dst_train_rdy_eval \u001b[38;5;241m=\u001b[39m \u001b[43mdst_train\u001b[49m\u001b[38;5;241m.\u001b[39mdataset\u001b[38;5;241m.\u001b[39mbatch(\u001b[38;5;241m1\u001b[39m, drop_remainder\u001b[38;5;241m=\u001b[39m\u001b[38;5;28;01mTrue\u001b[39;00m)\n",
      "\u001b[0;31mNameError\u001b[0m: name 'dst_train' is not defined"
     ]
    }
   ],
   "source": [
    "dst_train_rdy_eval = dst_train.dataset.batch(1, drop_remainder=True)"
   ]
  },
  {
   "cell_type": "code",
   "execution_count": null,
   "metadata": {},
   "outputs": [],
   "source": [
    "from tqdm.auto import tqdm"
   ]
  },
  {
   "cell_type": "code",
   "execution_count": null,
   "metadata": {},
   "outputs": [
    {
     "name": "stderr",
     "output_type": "stream",
     "text": [
      "\r\n",
      "0it [00:00, ?it/s]\r\n",
      "2it [00:00, 12.51it/s]\r\n",
      "4it [00:00, 13.91it/s]\r\n",
      "6it [00:00, 15.44it/s]\r\n",
      "8it [00:00, 16.17it/s]\r\n",
      "11it [00:00, 17.72it/s]\r\n",
      "14it [00:00, 19.22it/s]\r\n",
      "17it [00:00, 19.45it/s]\r\n",
      "20it [00:01, 19.88it/s]\r\n",
      "22it [00:01, 19.82it/s]\r\n",
      "25it [00:01, 19.43it/s]\r\n",
      "28it [00:01, 19.47it/s]\r\n",
      "30it [00:01, 18.89it/s]\r\n",
      "32it [00:01, 18.71it/s]\r\n",
      "35it [00:01, 18.76it/s]\r\n",
      "38it [00:02, 19.04it/s]\r\n",
      "40it [00:02, 18.67it/s]\r\n",
      "42it [00:02, 18.65it/s]\r\n",
      "44it [00:02, 18.80it/s]\r\n",
      "46it [00:02, 18.69it/s]\r\n",
      "49it [00:02, 19.87it/s]\r\n",
      "52it [00:02, 20.61it/s]\r\n",
      "55it [00:02, 20.58it/s]\r\n",
      "58it [00:03, 20.05it/s]\r\n",
      "61it [00:03, 20.59it/s]\r\n",
      "64it [00:03, 20.19it/s]\r\n",
      "67it [00:03, 20.17it/s]\r\n",
      "70it [00:03, 19.64it/s]\r\n",
      "73it [00:03, 20.26it/s]\r\n",
      "76it [00:03, 20.28it/s]\r\n",
      "79it [00:04, 19.59it/s]\r\n",
      "82it [00:04, 19.94it/s]\r\n",
      "85it [00:04, 20.40it/s]\r\n",
      "88it [00:04, 19.75it/s]\r\n",
      "90it [00:04, 19.42it/s]\r\n",
      "92it [00:04, 19.49it/s]\r\n",
      "94it [00:04, 19.00it/s]\r\n",
      "96it [00:04, 18.97it/s]\r\n",
      "98it [00:05, 18.52it/s]\r\n",
      "101it [00:05, 19.30it/s]\r\n",
      "103it [00:05, 19.00it/s]\r\n",
      "105it [00:05, 19.23it/s]\r\n",
      "108it [00:05, 19.88it/s]\r\n",
      "110it [00:05, 19.24it/s]\r\n",
      "112it [00:05, 19.25it/s]\r\n",
      "114it [00:05, 19.41it/s]\r\n",
      "117it [00:06, 19.80it/s]\r\n",
      "119it [00:06, 19.42it/s]\r\n",
      "121it [00:06, 19.57it/s]\r\n",
      "124it [00:06, 19.57it/s]\r\n",
      "126it [00:06, 19.09it/s]\r\n",
      "129it [00:06, 19.98it/s]\r\n",
      "131it [00:06, 19.51it/s]\r\n",
      "133it [00:06, 19.04it/s]\r\n",
      "136it [00:07, 19.21it/s]\r\n",
      "138it [00:07, 19.10it/s]\r\n",
      "141it [00:07, 19.87it/s]\r\n",
      "144it [00:07, 21.29it/s]\r\n",
      "147it [00:07, 22.74it/s]\r\n",
      "150it [00:07, 21.88it/s]\r\n",
      "153it [00:07, 23.12it/s]\r\n",
      "156it [00:07, 22.55it/s]\r\n",
      "159it [00:08, 21.03it/s]\r\n",
      "162it [00:08, 21.23it/s]\r\n",
      "165it [00:08, 21.06it/s]\r\n",
      "168it [00:08, 22.43it/s]\r\n",
      "171it [00:08, 21.29it/s]\r\n",
      "174it [00:08, 21.68it/s]\r\n",
      "177it [00:08, 21.94it/s]\r\n",
      "180it [00:09, 21.82it/s]\r\n",
      "183it [00:09, 21.74it/s]\r\n",
      "186it [00:09, 22.62it/s]\r\n",
      "189it [00:09, 22.34it/s]\r\n",
      "192it [00:09, 21.75it/s]\r\n",
      "195it [00:09, 22.94it/s]\r\n",
      "198it [00:09, 21.61it/s]\r\n",
      "201it [00:09, 22.87it/s]\r\n",
      "204it [00:10, 21.58it/s]\r\n",
      "207it [00:10, 21.80it/s]\r\n",
      "210it [00:10, 21.84it/s]\r\n",
      "213it [00:11, 11.03it/s]\r\n",
      "216it [00:11, 12.96it/s]\r\n",
      "218it [00:11, 14.06it/s]\r\n",
      "221it [00:11, 15.52it/s]\r\n",
      "223it [00:11, 16.15it/s]\r\n",
      "225it [00:11, 16.59it/s]\r\n",
      "228it [00:11, 17.83it/s]\r\n",
      "230it [00:11, 17.90it/s]\r\n",
      "233it [00:11, 19.42it/s]\r\n",
      "236it [00:12, 18.88it/s]\r\n",
      "239it [00:12, 19.73it/s]\r\n",
      "242it [00:12, 20.33it/s]\r\n",
      "245it [00:12, 20.44it/s]\r\n",
      "248it [00:12, 20.96it/s]\r\n",
      "251it [00:12, 20.58it/s]\r\n",
      "254it [00:13, 20.70it/s]\r\n",
      "257it [00:13, 19.68it/s]\r\n",
      "260it [00:13, 20.29it/s]\r\n",
      "263it [00:13, 20.39it/s]\r\n",
      "266it [00:13, 21.91it/s]\r\n",
      "269it [00:13, 20.82it/s]\r\n",
      "272it [00:13, 21.28it/s]\r\n",
      "275it [00:14, 19.94it/s]\r\n",
      "278it [00:14, 20.41it/s]\r\n",
      "281it [00:14, 20.78it/s]\r\n",
      "284it [00:14, 19.98it/s]\r\n",
      "287it [00:14, 20.79it/s]\r\n",
      "290it [00:14, 21.03it/s]\r\n",
      "293it [00:14, 20.51it/s]\r\n",
      "296it [00:15, 20.16it/s]\r\n",
      "299it [00:15, 20.85it/s]\r\n",
      "302it [00:15, 19.99it/s]\r\n",
      "305it [00:15, 20.19it/s]\r\n",
      "308it [00:15, 19.42it/s]\r\n",
      "310it [00:15, 19.14it/s]\r\n",
      "313it [00:15, 19.97it/s]\r\n",
      "316it [00:16, 19.66it/s]\r\n",
      "319it [00:16, 20.93it/s]\r\n",
      "322it [00:16, 19.63it/s]\r\n",
      "325it [00:16, 19.44it/s]\r\n",
      "327it [00:16, 19.47it/s]\r\n",
      "330it [00:16, 19.45it/s]\r\n",
      "333it [00:16, 19.46it/s]\r\n",
      "336it [00:17, 20.06it/s]\r\n",
      "339it [00:17, 19.59it/s]\r\n",
      "342it [00:17, 19.45it/s]\r\n",
      "345it [00:17, 19.50it/s]\r\n",
      "347it [00:17, 18.92it/s]\r\n",
      "349it [00:17, 19.13it/s]\r\n",
      "352it [00:17, 19.13it/s]\r\n",
      "354it [00:18, 19.10it/s]\r\n",
      "356it [00:18, 19.22it/s]\r\n",
      "358it [00:18, 19.05it/s]\r\n",
      "361it [00:18, 19.98it/s]\r\n",
      "363it [00:18, 19.03it/s]\r\n",
      "366it [00:18, 20.33it/s]\r\n",
      "369it [00:18, 20.02it/s]\r\n",
      "371it [00:18, 19.84it/s]\r\n",
      "373it [00:18, 19.85it/s]\r\n",
      "375it [00:19, 19.30it/s]\r\n",
      "378it [00:19, 19.30it/s]\r\n",
      "381it [00:19, 19.41it/s]\r\n",
      "384it [00:19, 19.27it/s]\r\n",
      "387it [00:19, 19.33it/s]\r\n",
      "390it [00:19, 20.01it/s]\r\n",
      "393it [00:20, 19.80it/s]\r\n",
      "396it [00:20, 19.61it/s]\r\n",
      "398it [00:20, 19.48it/s]\r\n",
      "400it [00:20, 19.27it/s]\r\n",
      "402it [00:20, 19.21it/s]\r\n",
      "405it [00:20, 19.61it/s]\r\n",
      "407it [00:20, 19.21it/s]\r\n",
      "409it [00:20, 18.88it/s]\r\n",
      "411it [00:20, 18.91it/s]\r\n",
      "413it [00:21, 18.80it/s]\r\n",
      "415it [00:21, 18.67it/s]\r\n",
      "417it [00:21, 18.32it/s]\r\n",
      "419it [00:21, 18.42it/s]\r\n",
      "422it [00:21, 19.35it/s]\r\n",
      "424it [00:21, 18.90it/s]\r\n",
      "426it [00:21, 18.61it/s]\r\n",
      "429it [00:21, 18.95it/s]\r\n",
      "431it [00:22, 18.64it/s]\r\n",
      "433it [00:22, 18.35it/s]\r\n",
      "435it [00:22, 18.61it/s]\r\n",
      "437it [00:22, 18.14it/s]\r\n",
      "439it [00:22, 18.17it/s]\r\n",
      "441it [00:22, 18.17it/s]\r\n",
      "443it [00:22, 18.13it/s]\r\n",
      "445it [00:22, 17.98it/s]\r\n",
      "447it [00:22, 17.80it/s]\r\n",
      "449it [00:23, 17.95it/s]\r\n",
      "451it [00:23, 17.68it/s]\r\n",
      "453it [00:23, 17.38it/s]\r\n",
      "455it [00:23, 17.64it/s]\r\n",
      "457it [00:23, 17.81it/s]\r\n",
      "459it [00:23, 17.57it/s]\r\n",
      "461it [00:23, 17.15it/s]\r\n",
      "464it [00:23, 18.05it/s]\r\n",
      "467it [00:24, 18.43it/s]\r\n",
      "469it [00:24, 18.26it/s]\r\n",
      "471it [00:24, 18.22it/s]\r\n",
      "473it [00:24, 18.17it/s]\r\n",
      "476it [00:24, 19.03it/s]\r\n",
      "478it [00:24, 18.91it/s]\r\n",
      "480it [00:24, 18.71it/s]\r\n",
      "482it [00:24, 18.70it/s]\r\n",
      "484it [00:24, 18.41it/s]\r\n",
      "486it [00:25, 18.49it/s]\r\n",
      "489it [00:25, 19.21it/s]\r\n",
      "491it [00:25, 19.01it/s]\r\n",
      "493it [00:25, 18.71it/s]\r\n",
      "495it [00:25, 18.58it/s]\r\n",
      "497it [00:25, 18.45it/s]\r\n",
      "499it [00:25, 18.38it/s]\r\n",
      "502it [00:25, 20.77it/s]\r\n",
      "505it [00:26, 20.01it/s]\r\n",
      "508it [00:26, 19.52it/s]\r\n",
      "510it [00:26, 18.99it/s]\r\n",
      "512it [00:26, 18.91it/s]\r\n",
      "515it [00:26, 20.23it/s]\r\n",
      "518it [00:26, 20.74it/s]\r\n",
      "521it [00:26, 20.03it/s]\r\n",
      "524it [00:26, 20.18it/s]\r\n",
      "527it [00:27, 20.36it/s]\r\n",
      "530it [00:27, 19.60it/s]\r\n",
      "532it [00:27, 19.20it/s]\r\n",
      "534it [00:27, 18.78it/s]\r\n",
      "537it [00:27, 19.66it/s]\r\n",
      "539it [00:27, 19.05it/s]\r\n",
      "541it [00:27, 19.15it/s]\r\n",
      "543it [00:27, 18.80it/s]\r\n",
      "546it [00:28, 18.93it/s]\r\n",
      "548it [00:28, 18.68it/s]\r\n",
      "550it [00:28, 18.37it/s]\r\n",
      "553it [00:28, 19.82it/s]\r\n",
      "555it [00:28, 19.80it/s]\r\n",
      "558it [00:28, 19.79it/s]\r\n",
      "560it [00:28, 19.70it/s]\r\n",
      "563it [00:29, 19.68it/s]\r\n",
      "566it [00:29, 19.33it/s]\r\n",
      "569it [00:29, 20.28it/s]\r\n",
      "572it [00:29, 19.75it/s]\r\n",
      "574it [00:29, 19.16it/s]\r\n",
      "576it [00:29, 19.06it/s]\r\n",
      "578it [00:29, 19.25it/s]\r\n",
      "580it [00:29, 19.29it/s]\r\n",
      "583it [00:30, 19.06it/s]\r\n",
      "586it [00:30, 19.75it/s]\r\n",
      "588it [00:30, 19.32it/s]\r\n",
      "590it [00:30, 19.12it/s]\r\n",
      "592it [00:30, 18.90it/s]\r\n",
      "594it [00:30, 18.89it/s]\r\n",
      "597it [00:30, 18.84it/s]\r\n",
      "600it [00:30, 19.04it/s]\r\n",
      "602it [00:31, 19.00it/s]\r\n",
      "605it [00:31, 19.31it/s]\r\n",
      "608it [00:31, 19.61it/s]\r\n",
      "610it [00:31, 19.68it/s]\r\n",
      "612it [00:31, 19.28it/s]\r\n",
      "614it [00:31, 19.36it/s]\r\n",
      "617it [00:31, 20.31it/s]\r\n",
      "620it [00:31, 20.04it/s]\r\n",
      "623it [00:32, 19.40it/s]\r\n",
      "626it [00:32, 19.40it/s]\r\n",
      "629it [00:32, 19.12it/s]\r\n",
      "631it [00:32, 19.15it/s]\r\n",
      "633it [00:32, 19.16it/s]\r\n",
      "635it [00:32, 19.18it/s]\r\n",
      "637it [00:32, 18.96it/s]\r\n",
      "640it [00:32, 20.45it/s]\r\n",
      "643it [00:33, 19.62it/s]\r\n",
      "645it [00:33, 19.62it/s]\r\n",
      "647it [00:33, 19.49it/s]\r\n",
      "649it [00:33, 18.85it/s]\r\n",
      "652it [00:33, 19.27it/s]\r\n",
      "654it [00:33, 19.09it/s]\r\n",
      "656it [00:33, 18.70it/s]\r\n",
      "658it [00:33, 18.83it/s]\r\n",
      "660it [00:34, 18.88it/s]\r\n",
      "663it [00:34, 19.03it/s]\r\n",
      "665it [00:34, 19.12it/s]\r\n",
      "667it [00:34, 18.97it/s]\r\n",
      "669it [00:34, 18.69it/s]\r\n",
      "671it [00:34, 18.76it/s]\r\n",
      "674it [00:34, 20.34it/s]\r\n",
      "677it [00:34, 19.95it/s]\r\n",
      "679it [00:35, 19.78it/s]\r\n",
      "681it [00:35, 19.56it/s]\r\n",
      "683it [00:35, 19.50it/s]\r\n",
      "685it [00:35, 18.85it/s]\r\n",
      "687it [00:35, 19.07it/s]\r\n",
      "690it [00:35, 19.29it/s]\r\n",
      "692it [00:35, 19.14it/s]\r\n",
      "694it [00:35, 19.18it/s]\r\n",
      "696it [00:35, 18.79it/s]\r\n",
      "698it [00:36, 18.74it/s]\r\n",
      "700it [00:36, 18.86it/s]\r\n",
      "702it [00:36, 18.81it/s]\r\n",
      "704it [00:36, 18.85it/s]\r\n",
      "706it [00:36, 18.92it/s]\r\n",
      "708it [00:36, 18.92it/s]\r\n",
      "710it [00:36, 18.99it/s]\r\n",
      "712it [00:36, 18.90it/s]\r\n",
      "714it [00:36, 19.03it/s]\r\n",
      "716it [00:36, 19.28it/s]\r\n",
      "718it [00:37, 18.77it/s]\r\n",
      "720it [00:37, 18.88it/s]\r\n",
      "722it [00:37, 18.94it/s]\r\n",
      "724it [00:37, 18.59it/s]\r\n",
      "727it [00:37, 18.94it/s]\r\n",
      "729it [00:37, 18.44it/s]\r\n",
      "732it [00:37, 18.93it/s]\r\n",
      "735it [00:37, 18.99it/s]\r\n",
      "737it [00:38, 19.22it/s]\r\n",
      "739it [00:38, 19.34it/s]\r\n",
      "742it [00:38, 19.20it/s]\r\n",
      "744it [00:38, 19.29it/s]\r\n",
      "746it [00:38, 18.96it/s]\r\n",
      "748it [00:38, 19.00it/s]\r\n",
      "750it [00:38, 18.86it/s]\r\n",
      "752it [00:38, 18.94it/s]\r\n",
      "754it [00:38, 18.96it/s]\r\n",
      "756it [00:39, 18.86it/s]\r\n",
      "759it [00:39, 19.87it/s]\r\n",
      "761it [00:39, 19.89it/s]\r\n",
      "763it [00:39, 19.49it/s]\r\n",
      "766it [00:39, 19.36it/s]\r\n",
      "768it [00:39, 19.17it/s]\r\n",
      "770it [00:39, 19.02it/s]\r\n",
      "772it [00:39, 19.03it/s]\r\n",
      "774it [00:40, 19.28it/s]\r\n",
      "776it [00:40, 18.97it/s]\r\n",
      "778it [00:40, 19.01it/s]\r\n",
      "781it [00:40, 20.52it/s]\r\n",
      "784it [00:40, 20.67it/s]\r\n",
      "787it [00:40, 19.90it/s]\r\n",
      "790it [00:40, 20.61it/s]\r\n",
      "793it [00:40, 19.54it/s]\r\n",
      "796it [00:41, 19.31it/s]\r\n",
      "798it [00:41, 19.06it/s]\r\n",
      "801it [00:41, 19.55it/s]\r\n",
      "804it [00:41, 19.32it/s]\r\n",
      "806it [00:41, 19.46it/s]\r\n",
      "808it [00:41, 19.59it/s]\r\n",
      "811it [00:41, 19.55it/s]\r\n",
      "813it [00:41, 19.11it/s]\r\n",
      "815it [00:42, 18.62it/s]\r\n",
      "817it [00:42, 18.50it/s]\r\n",
      "819it [00:42, 18.89it/s]\r\n",
      "822it [00:42, 20.08it/s]\r\n",
      "824it [00:42, 19.95it/s]\r\n",
      "827it [00:42, 20.59it/s]\r\n",
      "830it [00:42, 21.87it/s]\r\n",
      "833it [00:42, 21.81it/s]\r\n",
      "836it [00:43, 20.50it/s]\r\n",
      "839it [00:43, 22.02it/s]\r\n",
      "842it [00:43, 21.65it/s]\r\n",
      "845it [00:43, 21.55it/s]\r\n",
      "848it [00:43, 21.48it/s]\r\n",
      "851it [00:43, 21.54it/s]\r\n",
      "854it [00:43, 21.40it/s]\r\n",
      "857it [00:44, 22.64it/s]\r\n",
      "860it [00:44, 21.16it/s]\r\n",
      "863it [00:44, 22.49it/s]\r\n",
      "866it [00:44, 21.48it/s]\r\n",
      "869it [00:44, 20.76it/s]\r\n",
      "872it [00:44, 22.18it/s]\r\n",
      "875it [00:44, 20.29it/s]\r\n",
      "878it [00:45, 19.68it/s]\r\n",
      "881it [00:45, 19.01it/s]\r\n",
      "883it [00:45, 18.94it/s]\r\n",
      "886it [00:45, 19.09it/s]\r\n",
      "889it [00:45, 20.23it/s]\r\n",
      "892it [00:45, 20.59it/s]\r\n",
      "895it [00:45, 20.92it/s]\r\n",
      "898it [00:46, 20.88it/s]\r\n",
      "901it [00:46, 21.12it/s]\r\n",
      "904it [00:46, 21.02it/s]\r\n",
      "907it [00:46, 20.53it/s]\r\n",
      "910it [00:46, 19.91it/s]\r\n",
      "912it [00:46, 19.91it/s]\r\n",
      "915it [00:46, 21.65it/s]\r\n",
      "918it [00:47, 20.15it/s]\r\n",
      "921it [00:47, 20.05it/s]\r\n",
      "924it [00:47, 20.21it/s]\r\n",
      "927it [00:47, 20.71it/s]\r\n",
      "930it [00:47, 20.05it/s]\r\n",
      "933it [00:47, 19.40it/s]\r\n",
      "936it [00:47, 20.09it/s]\r\n",
      "939it [00:48, 20.53it/s]\r\n",
      "942it [00:48, 20.51it/s]\r\n",
      "945it [00:48, 21.99it/s]\r\n",
      "948it [00:48, 21.77it/s]\r\n",
      "951it [00:48, 21.85it/s]\r\n",
      "954it [00:48, 22.65it/s]\r\n",
      "957it [00:48, 20.84it/s]\r\n",
      "960it [00:49, 21.48it/s]\r\n",
      "963it [00:49, 21.57it/s]\r\n",
      "966it [00:49, 21.34it/s]\r\n",
      "969it [00:49, 21.40it/s]\r\n",
      "972it [00:49, 20.82it/s]\r\n",
      "975it [00:49, 20.71it/s]\r\n",
      "978it [00:49, 20.57it/s]\r\n",
      "981it [00:50, 20.75it/s]\r\n",
      "984it [00:50, 20.90it/s]\r\n",
      "987it [00:50, 21.75it/s]\r\n",
      "990it [00:50, 21.52it/s]\r\n",
      "993it [00:50, 21.33it/s]\r\n",
      "996it [00:50, 21.19it/s]\r\n",
      "999it [00:50, 20.97it/s]\r\n",
      "1002it [00:51, 20.81it/s]\r\n",
      "1005it [00:51, 20.75it/s]\r\n",
      "1008it [00:51, 20.47it/s]\r\n",
      "1011it [00:51, 20.38it/s]\r\n",
      "1014it [00:51, 20.32it/s]\r\n",
      "1017it [00:51, 20.67it/s]\r\n",
      "1020it [00:51, 20.29it/s]\r\n",
      "1023it [00:52, 20.21it/s]\r\n",
      "1026it [00:52, 20.58it/s]\r\n",
      "1029it [00:52, 20.67it/s]\r\n",
      "1032it [00:52, 21.23it/s]\r\n",
      "1035it [00:52, 20.14it/s]\r\n",
      "1038it [00:52, 19.74it/s]\r\n",
      "1040it [00:52, 19.63it/s]\r\n",
      "1043it [00:53, 19.45it/s]\r\n",
      "1045it [00:53, 19.48it/s]\r\n",
      "1047it [00:53, 19.30it/s]\r\n",
      "1049it [00:53, 19.06it/s]\r\n",
      "1052it [00:53, 19.73it/s]\r\n",
      "1055it [00:53, 20.04it/s]\r\n",
      "1057it [00:53, 19.93it/s]\r\n",
      "1059it [00:53, 19.77it/s]\r\n",
      "1061it [00:54, 19.34it/s]\r\n",
      "1063it [00:54, 19.30it/s]\r\n",
      "1065it [00:54, 18.88it/s]\r\n",
      "1067it [00:54, 18.99it/s]\r\n",
      "1070it [00:54, 19.44it/s]\r\n",
      "1073it [00:54, 19.58it/s]\r\n",
      "1075it [00:54, 19.62it/s]\r\n",
      "1077it [00:54, 19.56it/s]\r\n",
      "1080it [00:54, 19.73it/s]\r\n",
      "1082it [00:55, 19.60it/s]\r\n",
      "1084it [00:55, 19.54it/s]\r\n",
      "1086it [00:55, 19.48it/s]\r\n",
      "1089it [00:55, 19.69it/s]\r\n",
      "1092it [00:55, 19.43it/s]\r\n",
      "1094it [00:55, 19.31it/s]\r\n",
      "1097it [00:55, 19.20it/s]\r\n",
      "1099it [00:55, 19.22it/s]\r\n",
      "1101it [00:56, 19.17it/s]\r\n",
      "1104it [00:56, 19.48it/s]\r\n",
      "1106it [00:56, 19.05it/s]\r\n",
      "1109it [00:56, 19.03it/s]\r\n",
      "1111it [00:56, 19.26it/s]\r\n",
      "1114it [00:56, 19.50it/s]\r\n",
      "1116it [00:56, 18.85it/s]\r\n",
      "1119it [00:57, 18.86it/s]\r\n",
      "1122it [00:57, 19.46it/s]\r\n",
      "1125it [00:57, 19.40it/s]\r\n",
      "1128it [00:57, 19.60it/s]\r\n",
      "1130it [00:57, 19.46it/s]\r\n",
      "1132it [00:57, 19.54it/s]\r\n",
      "1134it [00:57, 19.61it/s]\r\n",
      "1137it [00:57, 20.05it/s]\r\n",
      "1139it [00:58, 19.79it/s]\r\n",
      "1142it [00:58, 19.85it/s]\r\n",
      "1144it [00:58, 18.98it/s]\r\n",
      "1146it [00:58, 19.00it/s]\r\n",
      "1148it [00:58, 19.05it/s]\r\n",
      "1150it [00:58, 18.72it/s]\r\n",
      "1152it [00:58, 18.57it/s]\r\n",
      "1154it [00:58, 18.73it/s]\r\n",
      "1156it [00:58, 18.77it/s]\r\n",
      "1159it [00:59, 19.83it/s]\r\n",
      "1161it [00:59, 19.21it/s]\r\n",
      "1163it [00:59, 19.19it/s]\r\n",
      "1165it [00:59, 19.15it/s]\r\n",
      "1167it [00:59, 18.89it/s]\r\n",
      "1170it [00:59, 19.91it/s]\r\n",
      "1172it [00:59, 19.34it/s]\r\n",
      "1175it [00:59, 19.54it/s]\r\n",
      "1178it [01:00, 19.71it/s]\r\n",
      "1181it [01:00, 19.83it/s]\r\n",
      "1183it [01:00, 19.84it/s]\r\n",
      "1186it [01:00, 20.28it/s]\r\n",
      "1189it [01:00, 19.83it/s]\r\n",
      "1192it [01:00, 19.86it/s]\r\n",
      "1195it [01:00, 19.95it/s]\r\n",
      "1197it [01:01, 19.64it/s]\r\n",
      "1199it [01:01, 19.31it/s]\r\n",
      "1201it [01:01, 19.45it/s]\r\n",
      "1203it [01:01, 18.88it/s]\r\n",
      "1205it [01:01, 18.64it/s]\r\n",
      "1207it [01:01, 17.98it/s]\r\n",
      "1209it [01:01, 17.57it/s]\r\n",
      "1211it [01:01, 17.32it/s]\r\n",
      "1213it [01:01, 17.12it/s]\r\n",
      "1215it [01:02, 17.11it/s]\r\n",
      "1217it [01:02, 17.70it/s]\r\n",
      "1219it [01:02, 17.88it/s]\r\n",
      "1221it [01:02, 17.08it/s]\r\n",
      "1223it [01:02, 16.91it/s]\r\n",
      "1225it [01:02, 16.86it/s]\r\n",
      "1227it [01:02, 16.74it/s]\r\n",
      "1229it [01:02, 16.78it/s]\r\n",
      "1231it [01:02, 16.88it/s]\r\n",
      "1233it [01:03, 16.69it/s]\r\n",
      "1235it [01:03, 16.81it/s]\r\n",
      "1237it [01:03, 16.91it/s]\r\n",
      "1239it [01:03, 17.22it/s]\r\n",
      "1241it [01:03, 17.20it/s]\r\n",
      "1244it [01:03, 17.49it/s]\r\n",
      "1246it [01:03, 17.84it/s]\r\n",
      "1248it [01:03, 17.24it/s]\r\n",
      "1250it [01:04, 17.08it/s]\r\n",
      "1252it [01:04, 16.95it/s]\r\n",
      "1254it [01:04, 16.87it/s]\r\n",
      "1256it [01:04, 16.82it/s]\r\n",
      "1258it [01:04, 16.90it/s]\r\n",
      "1260it [01:04, 16.70it/s]\r\n",
      "1262it [01:04, 16.81it/s]\r\n",
      "1264it [01:04, 16.65it/s]\r\n",
      "1266it [01:05, 16.79it/s]\r\n",
      "1268it [01:05, 16.62it/s]\r\n",
      "1270it [01:05, 16.60it/s]\r\n",
      "1272it [01:05, 16.64it/s]\r\n",
      "1274it [01:05, 16.79it/s]\r\n",
      "1277it [01:05, 18.20it/s]\r\n",
      "1279it [01:05, 17.60it/s]\r\n",
      "1281it [01:05, 17.67it/s]\r\n",
      "1284it [01:06, 18.21it/s]\r\n",
      "1286it [01:06, 18.08it/s]\r\n",
      "1288it [01:06, 17.95it/s]\r\n",
      "1290it [01:06, 18.34it/s]\r\n",
      "1292it [01:06, 18.21it/s]\r\n",
      "1294it [01:06, 18.20it/s]\r\n",
      "1296it [01:06, 18.43it/s]\r\n",
      "1299it [01:06, 19.11it/s]\r\n",
      "1301it [01:06, 18.59it/s]\r\n",
      "1303it [01:07, 18.27it/s]\r\n",
      "1305it [01:07, 18.60it/s]\r\n",
      "1307it [01:07, 18.42it/s]\r\n",
      "1309it [01:07, 18.29it/s]\r\n",
      "1312it [01:07, 18.14it/s]\r\n",
      "1314it [01:07, 18.52it/s]\r\n",
      "1316it [01:07, 18.78it/s]\r\n",
      "1318it [01:07, 18.88it/s]\r\n",
      "1320it [01:08, 18.51it/s]\r\n",
      "1323it [01:08, 19.05it/s]\r\n",
      "1325it [01:08, 18.27it/s]\r\n",
      "1328it [01:08, 18.79it/s]\r\n",
      "1330it [01:08, 18.62it/s]\r\n",
      "1332it [01:08, 18.78it/s]\r\n",
      "1334it [01:08, 18.49it/s]\r\n",
      "1336it [01:08, 18.87it/s]\r\n",
      "1338it [01:08, 18.92it/s]\r\n",
      "1340it [01:09, 18.69it/s]\r\n",
      "1342it [01:09, 18.71it/s]\r\n",
      "1344it [01:09, 18.93it/s]\r\n",
      "1346it [01:09, 18.43it/s]\r\n",
      "1348it [01:09, 18.36it/s]\r\n",
      "1350it [01:09, 17.93it/s]\r\n",
      "1352it [01:09, 18.14it/s]\r\n",
      "1354it [01:09, 18.16it/s]\r\n",
      "1356it [01:09, 18.37it/s]\r\n",
      "1358it [01:10, 18.20it/s]\r\n",
      "1360it [01:10, 18.09it/s]\r\n",
      "1362it [01:10, 18.39it/s]\r\n",
      "1364it [01:10, 18.22it/s]\r\n",
      "1366it [01:10, 18.32it/s]\r\n",
      "1368it [01:10, 18.17it/s]\r\n",
      "1371it [01:10, 18.71it/s]\r\n",
      "1373it [01:10, 18.53it/s]\r\n",
      "1375it [01:10, 18.42it/s]\r\n",
      "1377it [01:11, 18.37it/s]\r\n",
      "1379it [01:11, 18.22it/s]\r\n",
      "1381it [01:11, 17.88it/s]\r\n",
      "1383it [01:11, 17.71it/s]\r\n",
      "1386it [01:11, 18.05it/s]\r\n",
      "1388it [01:11, 18.09it/s]\r\n",
      "1390it [01:11, 18.09it/s]\r\n",
      "1392it [01:11, 18.40it/s]\r\n",
      "1394it [01:12, 18.01it/s]\r\n",
      "1396it [01:12, 18.11it/s]\r\n",
      "1398it [01:12, 18.40it/s]\r\n",
      "1400it [01:12, 17.76it/s]\r\n",
      "1402it [01:12, 17.53it/s]\r\n",
      "1404it [01:12, 17.80it/s]\r\n",
      "1406it [01:12, 17.25it/s]\r\n",
      "1408it [01:12, 17.73it/s]\r\n",
      "1410it [01:12, 17.98it/s]\r\n",
      "1413it [01:13, 18.59it/s]\r\n",
      "1415it [01:13, 18.46it/s]\r\n",
      "1417it [01:13, 17.74it/s]\r\n",
      "1419it [01:13, 18.08it/s]\r\n",
      "1421it [01:13, 18.54it/s]\r\n",
      "1423it [01:13, 18.45it/s]\r\n",
      "1425it [01:13, 17.91it/s]\r\n",
      "1427it [01:13, 18.43it/s]\r\n",
      "1429it [01:13, 17.89it/s]\r\n",
      "1431it [01:14, 18.44it/s]\r\n",
      "1433it [01:14, 18.24it/s]\r\n",
      "1435it [01:14, 18.29it/s]\r\n",
      "1437it [01:14, 18.29it/s]\r\n",
      "1439it [01:14, 18.32it/s]\r\n",
      "1441it [01:14, 18.23it/s]\r\n",
      "1443it [01:14, 18.19it/s]\r\n",
      "1445it [01:14, 18.64it/s]\r\n",
      "1447it [01:14, 17.88it/s]\r\n",
      "1449it [01:15, 18.00it/s]\r\n",
      "1451it [01:15, 18.40it/s]\r\n",
      "1453it [01:15, 18.03it/s]\r\n",
      "1456it [01:15, 18.65it/s]\r\n",
      "1458it [01:15, 18.46it/s]\r\n",
      "1460it [01:15, 18.43it/s]\r\n",
      "1462it [01:15, 18.12it/s]\r\n",
      "1464it [01:15, 18.31it/s]\r\n",
      "1466it [01:16, 18.44it/s]\r\n",
      "1469it [01:16, 18.56it/s]\r\n",
      "1471it [01:16, 18.81it/s]\r\n",
      "1473it [01:16, 19.00it/s]\r\n",
      "1475it [01:16, 18.74it/s]\r\n",
      "1478it [01:16, 19.21it/s]\r\n",
      "1480it [01:16, 19.11it/s]\r\n",
      "1483it [01:16, 19.37it/s]\r\n",
      "1485it [01:16, 19.41it/s]\r\n",
      "1487it [01:17, 19.10it/s]\r\n",
      "1490it [01:17, 20.22it/s]\r\n",
      "1493it [01:17, 19.77it/s]\r\n",
      "1495it [01:17, 19.58it/s]\r\n",
      "1497it [01:17, 19.26it/s]\r\n",
      "1500it [01:17, 19.77it/s]\r\n",
      "1503it [01:17, 20.00it/s]\r\n",
      "1506it [01:18, 19.88it/s]\r\n",
      "1508it [01:18, 19.68it/s]\r\n",
      "1510it [01:18, 19.45it/s]\r\n",
      "1512it [01:18, 19.23it/s]\r\n",
      "1515it [01:18, 19.86it/s]\r\n",
      "1518it [01:18, 20.76it/s]\r\n",
      "1521it [01:18, 20.37it/s]\r\n",
      "1524it [01:18, 20.77it/s]\r\n",
      "1527it [01:19, 20.29it/s]\r\n",
      "1530it [01:19, 20.15it/s]\r\n",
      "1533it [01:19, 20.32it/s]\r\n",
      "1536it [01:19, 21.02it/s]\r\n",
      "1539it [01:19, 21.32it/s]\r\n",
      "1542it [01:19, 20.82it/s]\r\n",
      "1545it [01:19, 20.55it/s]\r\n",
      "1548it [01:20, 20.65it/s]\r\n",
      "1551it [01:20, 21.03it/s]\r\n",
      "1554it [01:20, 22.02it/s]\r\n",
      "1557it [01:20, 21.57it/s]\r\n",
      "1560it [01:20, 21.00it/s]\r\n",
      "1563it [01:20, 20.42it/s]\r\n",
      "1566it [01:20, 20.53it/s]\r\n",
      "1569it [01:21, 21.77it/s]\r\n",
      "1572it [01:21, 20.90it/s]\r\n",
      "1575it [01:21, 21.04it/s]\r\n",
      "1578it [01:21, 21.52it/s]\r\n",
      "1581it [01:21, 20.48it/s]\r\n",
      "1584it [01:21, 20.84it/s]\r\n",
      "1587it [01:21, 20.58it/s]\r\n",
      "1590it [01:22, 20.60it/s]\r\n",
      "1593it [01:22, 21.01it/s]\r\n",
      "1596it [01:22, 22.01it/s]\r\n",
      "1599it [01:22, 21.67it/s]\r\n",
      "1602it [01:22, 21.10it/s]\r\n",
      "1605it [01:22, 20.96it/s]\r\n",
      "1608it [01:22, 20.96it/s]\r\n",
      "1611it [01:23, 21.25it/s]\r\n",
      "1614it [01:23, 22.38it/s]\r\n",
      "1617it [01:23, 21.93it/s]\r\n",
      "1620it [01:23, 21.55it/s]\r\n",
      "1623it [01:23, 21.69it/s]\r\n",
      "1626it [01:23, 21.68it/s]\r\n",
      "1629it [01:23, 20.54it/s]\r\n",
      "1632it [01:24, 20.97it/s]\r\n",
      "1632it [01:24, 19.42it/s]\n"
     ]
    }
   ],
   "source": [
    "trees, moses = [], []\n",
    "for batch in tqdm(dst_train_rdy_eval.as_numpy_iterator()):\n",
    "    pred_ref, extra_ref = forward_intermediates(state, batch[0])\n",
    "    pred_dist, extra_dist = forward_intermediates(state, batch[1])\n",
    "    diff = mse_trees(extra_ref[\"intermediates\"], extra_dist[\"intermediates\"])\n",
    "    trees.append(diff)\n",
    "    moses.extend(batch[2])"
   ]
  },
  {
   "cell_type": "code",
   "execution_count": null,
   "metadata": {},
   "outputs": [
    {
     "ename": "<class 'TypeError'>",
     "evalue": "tree_map() missing 1 required positional argument: 'tree'",
     "output_type": "error",
     "traceback": [
      "\u001b[0;31m---------------------------------------------------------------------------\u001b[0m",
      "\u001b[0;31mTypeError\u001b[0m                                 Traceback (most recent call last)",
      "Cell \u001b[0;32mIn[1], line 1\u001b[0m\n\u001b[0;32m----> 1\u001b[0m diffs \u001b[38;5;241m=\u001b[39m \u001b[43mjoin_tree_values\u001b[49m\u001b[43m(\u001b[49m\u001b[38;5;241;43m*\u001b[39;49m\u001b[43mtrees\u001b[49m\u001b[43m)\u001b[49m\n",
      "Cell \u001b[0;32mIn[1], line 2\u001b[0m, in \u001b[0;36mjoin_tree_values\u001b[0;34m(*trees)\u001b[0m\n\u001b[1;32m      1\u001b[0m \u001b[38;5;28;01mdef\u001b[39;00m \u001b[38;5;21mjoin_tree_values\u001b[39m(\u001b[38;5;241m*\u001b[39mtrees):\n\u001b[0;32m----> 2\u001b[0m     \u001b[38;5;28;01mreturn\u001b[39;00m \u001b[43mjax\u001b[49m\u001b[38;5;241;43m.\u001b[39;49m\u001b[43mtree_util\u001b[49m\u001b[38;5;241;43m.\u001b[39;49m\u001b[43mtree_map\u001b[49m\u001b[43m(\u001b[49m\u001b[38;5;28;43;01mlambda\u001b[39;49;00m\u001b[43m \u001b[49m\u001b[38;5;241;43m*\u001b[39;49m\u001b[43margs\u001b[49m\u001b[43m:\u001b[49m\u001b[43m \u001b[49m\u001b[43m[\u001b[49m\u001b[38;5;241;43m*\u001b[39;49m\u001b[43margs\u001b[49m\u001b[43m]\u001b[49m\u001b[43m,\u001b[49m\u001b[43m \u001b[49m\u001b[38;5;241;43m*\u001b[39;49m\u001b[43mtrees\u001b[49m\u001b[43m)\u001b[49m\n",
      "\u001b[0;31mTypeError\u001b[0m: tree_map() missing 1 required positional argument: 'tree'"
     ]
    }
   ],
   "source": [
    "diffs = join_tree_values(*trees)"
   ]
  },
  {
   "cell_type": "code",
   "execution_count": null,
   "metadata": {},
   "outputs": [],
   "source": [
    "import scipy.stats as stats"
   ]
  },
  {
   "cell_type": "code",
   "execution_count": null,
   "metadata": {},
   "outputs": [
    {
     "ename": "<class 'IndexError'>",
     "evalue": "Too many indices for array: 1 non-None/Ellipsis indices for dim 0.",
     "output_type": "error",
     "traceback": [
      "\u001b[0;31m---------------------------------------------------------------------------\u001b[0m",
      "\u001b[0;31mIndexError\u001b[0m                                Traceback (most recent call last)",
      "Cell \u001b[0;32mIn[1], line 1\u001b[0m\n\u001b[0;32m----> 1\u001b[0m diffs_2 \u001b[38;5;241m=\u001b[39m \u001b[43mjax\u001b[49m\u001b[38;5;241;43m.\u001b[39;49m\u001b[43mtree_util\u001b[49m\u001b[38;5;241;43m.\u001b[39;49m\u001b[43mtree_map\u001b[49m\u001b[43m(\u001b[49m\u001b[38;5;28;43;01mlambda\u001b[39;49;00m\u001b[43m \u001b[49m\u001b[43mx\u001b[49m\u001b[43m:\u001b[49m\u001b[43m \u001b[49m\u001b[43mx\u001b[49m\u001b[43m[\u001b[49m\u001b[38;5;241;43m0\u001b[39;49m\u001b[43m]\u001b[49m\u001b[43m,\u001b[49m\u001b[43m \u001b[49m\u001b[43mdiffs\u001b[49m\u001b[43m)\u001b[49m\n",
      "File \u001b[0;32m~/miniconda3/envs/dl/lib/python3.8/site-packages/jax/_src/tree_util.py:210\u001b[0m, in \u001b[0;36mtree_map\u001b[0;34m(f, tree, is_leaf, *rest)\u001b[0m\n\u001b[1;32m    208\u001b[0m leaves, treedef \u001b[38;5;241m=\u001b[39m tree_flatten(tree, is_leaf)\n\u001b[1;32m    209\u001b[0m all_leaves \u001b[38;5;241m=\u001b[39m [leaves] \u001b[38;5;241m+\u001b[39m [treedef\u001b[38;5;241m.\u001b[39mflatten_up_to(r) \u001b[38;5;28;01mfor\u001b[39;00m r \u001b[38;5;129;01min\u001b[39;00m rest]\n\u001b[0;32m--> 210\u001b[0m \u001b[38;5;28;01mreturn\u001b[39;00m \u001b[43mtreedef\u001b[49m\u001b[38;5;241;43m.\u001b[39;49m\u001b[43munflatten\u001b[49m\u001b[43m(\u001b[49m\u001b[43mf\u001b[49m\u001b[43m(\u001b[49m\u001b[38;5;241;43m*\u001b[39;49m\u001b[43mxs\u001b[49m\u001b[43m)\u001b[49m\u001b[43m \u001b[49m\u001b[38;5;28;43;01mfor\u001b[39;49;00m\u001b[43m \u001b[49m\u001b[43mxs\u001b[49m\u001b[43m \u001b[49m\u001b[38;5;129;43;01min\u001b[39;49;00m\u001b[43m \u001b[49m\u001b[38;5;28;43mzip\u001b[39;49m\u001b[43m(\u001b[49m\u001b[38;5;241;43m*\u001b[39;49m\u001b[43mall_leaves\u001b[49m\u001b[43m)\u001b[49m\u001b[43m)\u001b[49m\n",
      "File \u001b[0;32m~/miniconda3/envs/dl/lib/python3.8/site-packages/jax/_src/tree_util.py:210\u001b[0m, in \u001b[0;36m<genexpr>\u001b[0;34m(.0)\u001b[0m\n\u001b[1;32m    208\u001b[0m leaves, treedef \u001b[38;5;241m=\u001b[39m tree_flatten(tree, is_leaf)\n\u001b[1;32m    209\u001b[0m all_leaves \u001b[38;5;241m=\u001b[39m [leaves] \u001b[38;5;241m+\u001b[39m [treedef\u001b[38;5;241m.\u001b[39mflatten_up_to(r) \u001b[38;5;28;01mfor\u001b[39;00m r \u001b[38;5;129;01min\u001b[39;00m rest]\n\u001b[0;32m--> 210\u001b[0m \u001b[38;5;28;01mreturn\u001b[39;00m treedef\u001b[38;5;241m.\u001b[39munflatten(\u001b[43mf\u001b[49m\u001b[43m(\u001b[49m\u001b[38;5;241;43m*\u001b[39;49m\u001b[43mxs\u001b[49m\u001b[43m)\u001b[49m \u001b[38;5;28;01mfor\u001b[39;00m xs \u001b[38;5;129;01min\u001b[39;00m \u001b[38;5;28mzip\u001b[39m(\u001b[38;5;241m*\u001b[39mall_leaves))\n",
      "Cell \u001b[0;32mIn[1], line 1\u001b[0m, in \u001b[0;36m<lambda>\u001b[0;34m(x)\u001b[0m\n\u001b[0;32m----> 1\u001b[0m diffs_2 \u001b[38;5;241m=\u001b[39m jax\u001b[38;5;241m.\u001b[39mtree_util\u001b[38;5;241m.\u001b[39mtree_map(\u001b[38;5;28;01mlambda\u001b[39;00m x: \u001b[43mx\u001b[49m\u001b[43m[\u001b[49m\u001b[38;5;241;43m0\u001b[39;49m\u001b[43m]\u001b[49m, diffs)\n",
      "File \u001b[0;32m~/miniconda3/envs/dl/lib/python3.8/site-packages/jax/_src/array.py:317\u001b[0m, in \u001b[0;36mArrayImpl.__getitem__\u001b[0;34m(self, idx)\u001b[0m\n\u001b[1;32m    315\u001b[0m   \u001b[38;5;28;01mreturn\u001b[39;00m lax_numpy\u001b[38;5;241m.\u001b[39m_rewriting_take(\u001b[38;5;28mself\u001b[39m, idx)\n\u001b[1;32m    316\u001b[0m \u001b[38;5;28;01melse\u001b[39;00m:\n\u001b[0;32m--> 317\u001b[0m   \u001b[38;5;28;01mreturn\u001b[39;00m \u001b[43mlax_numpy\u001b[49m\u001b[38;5;241;43m.\u001b[39;49m\u001b[43m_rewriting_take\u001b[49m\u001b[43m(\u001b[49m\u001b[38;5;28;43mself\u001b[39;49m\u001b[43m,\u001b[49m\u001b[43m \u001b[49m\u001b[43midx\u001b[49m\u001b[43m)\u001b[49m\n",
      "File \u001b[0;32m~/miniconda3/envs/dl/lib/python3.8/site-packages/jax/_src/numpy/lax_numpy.py:4143\u001b[0m, in \u001b[0;36m_rewriting_take\u001b[0;34m(arr, idx, indices_are_sorted, unique_indices, mode, fill_value)\u001b[0m\n\u001b[1;32m   4140\u001b[0m       \u001b[38;5;28;01mreturn\u001b[39;00m lax\u001b[38;5;241m.\u001b[39mdynamic_index_in_dim(arr, idx, keepdims\u001b[38;5;241m=\u001b[39m\u001b[38;5;28;01mFalse\u001b[39;00m)\n\u001b[1;32m   4142\u001b[0m treedef, static_idx, dynamic_idx \u001b[38;5;241m=\u001b[39m _split_index_for_jit(idx, arr\u001b[38;5;241m.\u001b[39mshape)\n\u001b[0;32m-> 4143\u001b[0m \u001b[38;5;28;01mreturn\u001b[39;00m \u001b[43m_gather\u001b[49m\u001b[43m(\u001b[49m\u001b[43marr\u001b[49m\u001b[43m,\u001b[49m\u001b[43m \u001b[49m\u001b[43mtreedef\u001b[49m\u001b[43m,\u001b[49m\u001b[43m \u001b[49m\u001b[43mstatic_idx\u001b[49m\u001b[43m,\u001b[49m\u001b[43m \u001b[49m\u001b[43mdynamic_idx\u001b[49m\u001b[43m,\u001b[49m\u001b[43m \u001b[49m\u001b[43mindices_are_sorted\u001b[49m\u001b[43m,\u001b[49m\n\u001b[1;32m   4144\u001b[0m \u001b[43m               \u001b[49m\u001b[43munique_indices\u001b[49m\u001b[43m,\u001b[49m\u001b[43m \u001b[49m\u001b[43mmode\u001b[49m\u001b[43m,\u001b[49m\u001b[43m \u001b[49m\u001b[43mfill_value\u001b[49m\u001b[43m)\u001b[49m\n",
      "File \u001b[0;32m~/miniconda3/envs/dl/lib/python3.8/site-packages/jax/_src/numpy/lax_numpy.py:4152\u001b[0m, in \u001b[0;36m_gather\u001b[0;34m(arr, treedef, static_idx, dynamic_idx, indices_are_sorted, unique_indices, mode, fill_value)\u001b[0m\n\u001b[1;32m   4149\u001b[0m \u001b[38;5;28;01mdef\u001b[39;00m \u001b[38;5;21m_gather\u001b[39m(arr, treedef, static_idx, dynamic_idx, indices_are_sorted,\n\u001b[1;32m   4150\u001b[0m             unique_indices, mode, fill_value):\n\u001b[1;32m   4151\u001b[0m   idx \u001b[38;5;241m=\u001b[39m _merge_static_and_dynamic_indices(treedef, static_idx, dynamic_idx)\n\u001b[0;32m-> 4152\u001b[0m   indexer \u001b[38;5;241m=\u001b[39m \u001b[43m_index_to_gather\u001b[49m\u001b[43m(\u001b[49m\u001b[43mshape\u001b[49m\u001b[43m(\u001b[49m\u001b[43marr\u001b[49m\u001b[43m)\u001b[49m\u001b[43m,\u001b[49m\u001b[43m \u001b[49m\u001b[43midx\u001b[49m\u001b[43m)\u001b[49m  \u001b[38;5;66;03m# shared with _scatter_update\u001b[39;00m\n\u001b[1;32m   4153\u001b[0m   y \u001b[38;5;241m=\u001b[39m arr\n\u001b[1;32m   4155\u001b[0m   \u001b[38;5;28;01mif\u001b[39;00m fill_value \u001b[38;5;129;01mis\u001b[39;00m \u001b[38;5;129;01mnot\u001b[39;00m \u001b[38;5;28;01mNone\u001b[39;00m:\n",
      "File \u001b[0;32m~/miniconda3/envs/dl/lib/python3.8/site-packages/jax/_src/numpy/lax_numpy.py:4253\u001b[0m, in \u001b[0;36m_index_to_gather\u001b[0;34m(x_shape, idx, normalize_indices)\u001b[0m\n\u001b[1;32m   4250\u001b[0m \u001b[38;5;28;01mdef\u001b[39;00m \u001b[38;5;21m_index_to_gather\u001b[39m(x_shape: Sequence[\u001b[38;5;28mint\u001b[39m], idx: Sequence[Any],\n\u001b[1;32m   4251\u001b[0m                      normalize_indices: \u001b[38;5;28mbool\u001b[39m \u001b[38;5;241m=\u001b[39m \u001b[38;5;28;01mTrue\u001b[39;00m) \u001b[38;5;241m-\u001b[39m\u001b[38;5;241m>\u001b[39m _Indexer:\n\u001b[1;32m   4252\u001b[0m   \u001b[38;5;66;03m# Remove ellipses and add trailing slice(None)s.\u001b[39;00m\n\u001b[0;32m-> 4253\u001b[0m   idx \u001b[38;5;241m=\u001b[39m \u001b[43m_canonicalize_tuple_index\u001b[49m\u001b[43m(\u001b[49m\u001b[38;5;28;43mlen\u001b[39;49m\u001b[43m(\u001b[49m\u001b[43mx_shape\u001b[49m\u001b[43m)\u001b[49m\u001b[43m,\u001b[49m\u001b[43m \u001b[49m\u001b[43midx\u001b[49m\u001b[43m)\u001b[49m\n\u001b[1;32m   4255\u001b[0m   \u001b[38;5;66;03m# Check for advanced indexing:\u001b[39;00m\n\u001b[1;32m   4256\u001b[0m   \u001b[38;5;66;03m# https://docs.scipy.org/doc/numpy/reference/arrays.indexing.html#advanced-indexing\u001b[39;00m\n\u001b[1;32m   4257\u001b[0m \n\u001b[1;32m   4258\u001b[0m   \u001b[38;5;66;03m# Do the advanced indexing axes appear contiguously? If not, NumPy semantics\u001b[39;00m\n\u001b[1;32m   4259\u001b[0m   \u001b[38;5;66;03m# move the advanced axes to the front.\u001b[39;00m\n\u001b[1;32m   4260\u001b[0m   advanced_axes_are_contiguous \u001b[38;5;241m=\u001b[39m \u001b[38;5;28;01mFalse\u001b[39;00m\n",
      "File \u001b[0;32m~/miniconda3/envs/dl/lib/python3.8/site-packages/jax/_src/numpy/lax_numpy.py:4586\u001b[0m, in \u001b[0;36m_canonicalize_tuple_index\u001b[0;34m(arr_ndim, idx, array_name)\u001b[0m\n\u001b[1;32m   4584\u001b[0m len_without_none \u001b[38;5;241m=\u001b[39m \u001b[38;5;28msum\u001b[39m(\u001b[38;5;241m1\u001b[39m \u001b[38;5;28;01mfor\u001b[39;00m e \u001b[38;5;129;01min\u001b[39;00m idx \u001b[38;5;28;01mif\u001b[39;00m e \u001b[38;5;129;01mis\u001b[39;00m \u001b[38;5;129;01mnot\u001b[39;00m \u001b[38;5;28;01mNone\u001b[39;00m \u001b[38;5;129;01mand\u001b[39;00m e \u001b[38;5;129;01mis\u001b[39;00m \u001b[38;5;129;01mnot\u001b[39;00m \u001b[38;5;28mEllipsis\u001b[39m)\n\u001b[1;32m   4585\u001b[0m \u001b[38;5;28;01mif\u001b[39;00m len_without_none \u001b[38;5;241m>\u001b[39m arr_ndim:\n\u001b[0;32m-> 4586\u001b[0m   \u001b[38;5;28;01mraise\u001b[39;00m \u001b[38;5;167;01mIndexError\u001b[39;00m(\n\u001b[1;32m   4587\u001b[0m       \u001b[38;5;124mf\u001b[39m\u001b[38;5;124m\"\u001b[39m\u001b[38;5;124mToo many indices for \u001b[39m\u001b[38;5;132;01m{\u001b[39;00marray_name\u001b[38;5;132;01m}\u001b[39;00m\u001b[38;5;124m: \u001b[39m\u001b[38;5;132;01m{\u001b[39;00mlen_without_none\u001b[38;5;132;01m}\u001b[39;00m\u001b[38;5;124m \u001b[39m\u001b[38;5;124m\"\u001b[39m\n\u001b[1;32m   4588\u001b[0m       \u001b[38;5;124mf\u001b[39m\u001b[38;5;124m\"\u001b[39m\u001b[38;5;124mnon-None/Ellipsis indices for dim \u001b[39m\u001b[38;5;132;01m{\u001b[39;00marr_ndim\u001b[38;5;132;01m}\u001b[39;00m\u001b[38;5;124m.\u001b[39m\u001b[38;5;124m\"\u001b[39m)\n\u001b[1;32m   4589\u001b[0m ellipses \u001b[38;5;241m=\u001b[39m (i \u001b[38;5;28;01mfor\u001b[39;00m i, elt \u001b[38;5;129;01min\u001b[39;00m \u001b[38;5;28menumerate\u001b[39m(idx) \u001b[38;5;28;01mif\u001b[39;00m elt \u001b[38;5;129;01mis\u001b[39;00m \u001b[38;5;28mEllipsis\u001b[39m)\n\u001b[1;32m   4590\u001b[0m ellipsis_index \u001b[38;5;241m=\u001b[39m \u001b[38;5;28mnext\u001b[39m(ellipses, \u001b[38;5;28;01mNone\u001b[39;00m)\n",
      "\u001b[0;31mIndexError\u001b[0m: Too many indices for array: 1 non-None/Ellipsis indices for dim 0."
     ]
    }
   ],
   "source": [
    "diffs_2 = jax.tree_util.tree_map(lambda x: x[0], diffs)"
   ]
  },
  {
   "cell_type": "code",
   "execution_count": null,
   "metadata": {},
   "outputs": [],
   "source": [
    "def correlation(a, b):\n",
    "    try:\n",
    "        return stats.pearsonr(a, b)[0]\n",
    "    except:\n",
    "        return None"
   ]
  },
  {
   "cell_type": "code",
   "execution_count": null,
   "metadata": {},
   "outputs": [
    {
     "ename": "<class 'KeyError'>",
     "evalue": "'GDNStarSign_0'",
     "output_type": "error",
     "traceback": [
      "\u001b[0;31m---------------------------------------------------------------------------\u001b[0m",
      "\u001b[0;31mKeyError\u001b[0m                                  Traceback (most recent call last)",
      "Cell \u001b[0;32mIn[1], line 1\u001b[0m\n\u001b[0;32m----> 1\u001b[0m correlation(\u001b[43mdiffs\u001b[49m\u001b[43m[\u001b[49m\u001b[38;5;124;43m\"\u001b[39;49m\u001b[38;5;124;43mGDNStarSign_0\u001b[39;49m\u001b[38;5;124;43m\"\u001b[39;49m\u001b[43m]\u001b[49m[\u001b[38;5;124m\"\u001b[39m\u001b[38;5;124m__call__\u001b[39m\u001b[38;5;124m\"\u001b[39m][\u001b[38;5;241m0\u001b[39m], moses)\n",
      "File \u001b[0;32m~/miniconda3/envs/dl/lib/python3.8/site-packages/flax/core/frozen_dict.py:66\u001b[0m, in \u001b[0;36mFrozenDict.__getitem__\u001b[0;34m(self, key)\u001b[0m\n\u001b[1;32m     65\u001b[0m \u001b[38;5;28;01mdef\u001b[39;00m \u001b[38;5;21m__getitem__\u001b[39m(\u001b[38;5;28mself\u001b[39m, key):\n\u001b[0;32m---> 66\u001b[0m   v \u001b[38;5;241m=\u001b[39m \u001b[38;5;28;43mself\u001b[39;49m\u001b[38;5;241;43m.\u001b[39;49m\u001b[43m_dict\u001b[49m\u001b[43m[\u001b[49m\u001b[43mkey\u001b[49m\u001b[43m]\u001b[49m\n\u001b[1;32m     67\u001b[0m   \u001b[38;5;28;01mif\u001b[39;00m \u001b[38;5;28misinstance\u001b[39m(v, \u001b[38;5;28mdict\u001b[39m):\n\u001b[1;32m     68\u001b[0m     \u001b[38;5;28;01mreturn\u001b[39;00m FrozenDict(v)\n",
      "\u001b[0;31mKeyError\u001b[0m: 'GDNStarSign_0'"
     ]
    }
   ],
   "source": [
    "correlation(diffs[\"GDNStarSign_0\"][\"__call__\"][0], moses)"
   ]
  },
  {
   "cell_type": "code",
   "execution_count": null,
   "metadata": {},
   "outputs": [
    {
     "ename": "<class 'KeyError'>",
     "evalue": "'JamesonHurvich_0'",
     "output_type": "error",
     "traceback": [
      "\u001b[0;31m---------------------------------------------------------------------------\u001b[0m",
      "\u001b[0;31mKeyError\u001b[0m                                  Traceback (most recent call last)",
      "Cell \u001b[0;32mIn[1], line 1\u001b[0m\n\u001b[0;32m----> 1\u001b[0m correlation(\u001b[43mdiffs\u001b[49m\u001b[43m[\u001b[49m\u001b[38;5;124;43m\"\u001b[39;49m\u001b[38;5;124;43mJamesonHurvich_0\u001b[39;49m\u001b[38;5;124;43m\"\u001b[39;49m\u001b[43m]\u001b[49m[\u001b[38;5;124m\"\u001b[39m\u001b[38;5;124m__call__\u001b[39m\u001b[38;5;124m\"\u001b[39m][\u001b[38;5;241m0\u001b[39m], moses)\n",
      "File \u001b[0;32m~/miniconda3/envs/dl/lib/python3.8/site-packages/flax/core/frozen_dict.py:66\u001b[0m, in \u001b[0;36mFrozenDict.__getitem__\u001b[0;34m(self, key)\u001b[0m\n\u001b[1;32m     65\u001b[0m \u001b[38;5;28;01mdef\u001b[39;00m \u001b[38;5;21m__getitem__\u001b[39m(\u001b[38;5;28mself\u001b[39m, key):\n\u001b[0;32m---> 66\u001b[0m   v \u001b[38;5;241m=\u001b[39m \u001b[38;5;28;43mself\u001b[39;49m\u001b[38;5;241;43m.\u001b[39;49m\u001b[43m_dict\u001b[49m\u001b[43m[\u001b[49m\u001b[43mkey\u001b[49m\u001b[43m]\u001b[49m\n\u001b[1;32m     67\u001b[0m   \u001b[38;5;28;01mif\u001b[39;00m \u001b[38;5;28misinstance\u001b[39m(v, \u001b[38;5;28mdict\u001b[39m):\n\u001b[1;32m     68\u001b[0m     \u001b[38;5;28;01mreturn\u001b[39;00m FrozenDict(v)\n",
      "\u001b[0;31mKeyError\u001b[0m: 'JamesonHurvich_0'"
     ]
    }
   ],
   "source": [
    "correlation(diffs[\"JamesonHurvich_0\"][\"__call__\"][0], moses)"
   ]
  },
  {
   "cell_type": "code",
   "execution_count": null,
   "metadata": {},
   "outputs": [
    {
     "ename": "<class 'KeyError'>",
     "evalue": "'GDNStarSign_1'",
     "output_type": "error",
     "traceback": [
      "\u001b[0;31m---------------------------------------------------------------------------\u001b[0m",
      "\u001b[0;31mKeyError\u001b[0m                                  Traceback (most recent call last)",
      "Cell \u001b[0;32mIn[1], line 1\u001b[0m\n\u001b[0;32m----> 1\u001b[0m correlation(\u001b[43mdiffs\u001b[49m\u001b[43m[\u001b[49m\u001b[38;5;124;43m\"\u001b[39;49m\u001b[38;5;124;43mGDNStarSign_1\u001b[39;49m\u001b[38;5;124;43m\"\u001b[39;49m\u001b[43m]\u001b[49m[\u001b[38;5;124m\"\u001b[39m\u001b[38;5;124m__call__\u001b[39m\u001b[38;5;124m\"\u001b[39m][\u001b[38;5;241m0\u001b[39m], moses), correlation(diffs[\u001b[38;5;124m\"\u001b[39m\u001b[38;5;124mGDNStarDisplacement_1\u001b[39m\u001b[38;5;124m\"\u001b[39m][\u001b[38;5;124m\"\u001b[39m\u001b[38;5;124m__call__\u001b[39m\u001b[38;5;124m\"\u001b[39m][\u001b[38;5;241m0\u001b[39m], moses), correlation(diffs[\u001b[38;5;124m\"\u001b[39m\u001b[38;5;124mGDNStarDisplacement_1\u001b[39m\u001b[38;5;124m\"\u001b[39m][\u001b[38;5;124m\"\u001b[39m\u001b[38;5;124m__call__\u001b[39m\u001b[38;5;124m\"\u001b[39m][\u001b[38;5;241m0\u001b[39m], moses)\n",
      "File \u001b[0;32m~/miniconda3/envs/dl/lib/python3.8/site-packages/flax/core/frozen_dict.py:66\u001b[0m, in \u001b[0;36mFrozenDict.__getitem__\u001b[0;34m(self, key)\u001b[0m\n\u001b[1;32m     65\u001b[0m \u001b[38;5;28;01mdef\u001b[39;00m \u001b[38;5;21m__getitem__\u001b[39m(\u001b[38;5;28mself\u001b[39m, key):\n\u001b[0;32m---> 66\u001b[0m   v \u001b[38;5;241m=\u001b[39m \u001b[38;5;28;43mself\u001b[39;49m\u001b[38;5;241;43m.\u001b[39;49m\u001b[43m_dict\u001b[49m\u001b[43m[\u001b[49m\u001b[43mkey\u001b[49m\u001b[43m]\u001b[49m\n\u001b[1;32m     67\u001b[0m   \u001b[38;5;28;01mif\u001b[39;00m \u001b[38;5;28misinstance\u001b[39m(v, \u001b[38;5;28mdict\u001b[39m):\n\u001b[1;32m     68\u001b[0m     \u001b[38;5;28;01mreturn\u001b[39;00m FrozenDict(v)\n",
      "\u001b[0;31mKeyError\u001b[0m: 'GDNStarSign_1'"
     ]
    }
   ],
   "source": [
    "correlation(diffs[\"GDNStarSign_1\"][\"__call__\"][0], moses), correlation(diffs[\"GDNStarDisplacement_1\"][\"__call__\"][0], moses), correlation(diffs[\"GDNStarDisplacement_1\"][\"__call__\"][0], moses)"
   ]
  },
  {
   "cell_type": "code",
   "execution_count": null,
   "metadata": {},
   "outputs": [
    {
     "ename": "<class 'KeyError'>",
     "evalue": "'CSFFourier_0'",
     "output_type": "error",
     "traceback": [
      "\u001b[0;31m---------------------------------------------------------------------------\u001b[0m",
      "\u001b[0;31mKeyError\u001b[0m                                  Traceback (most recent call last)",
      "Cell \u001b[0;32mIn[1], line 1\u001b[0m\n\u001b[0;32m----> 1\u001b[0m correlation(\u001b[43mdiffs\u001b[49m\u001b[43m[\u001b[49m\u001b[38;5;124;43m\"\u001b[39;49m\u001b[38;5;124;43mCSFFourier_0\u001b[39;49m\u001b[38;5;124;43m\"\u001b[39;49m\u001b[43m]\u001b[49m[\u001b[38;5;124m\"\u001b[39m\u001b[38;5;124m__call__\u001b[39m\u001b[38;5;124m\"\u001b[39m][\u001b[38;5;241m0\u001b[39m], moses)\n",
      "File \u001b[0;32m~/miniconda3/envs/dl/lib/python3.8/site-packages/flax/core/frozen_dict.py:66\u001b[0m, in \u001b[0;36mFrozenDict.__getitem__\u001b[0;34m(self, key)\u001b[0m\n\u001b[1;32m     65\u001b[0m \u001b[38;5;28;01mdef\u001b[39;00m \u001b[38;5;21m__getitem__\u001b[39m(\u001b[38;5;28mself\u001b[39m, key):\n\u001b[0;32m---> 66\u001b[0m   v \u001b[38;5;241m=\u001b[39m \u001b[38;5;28;43mself\u001b[39;49m\u001b[38;5;241;43m.\u001b[39;49m\u001b[43m_dict\u001b[49m\u001b[43m[\u001b[49m\u001b[43mkey\u001b[49m\u001b[43m]\u001b[49m\n\u001b[1;32m     67\u001b[0m   \u001b[38;5;28;01mif\u001b[39;00m \u001b[38;5;28misinstance\u001b[39m(v, \u001b[38;5;28mdict\u001b[39m):\n\u001b[1;32m     68\u001b[0m     \u001b[38;5;28;01mreturn\u001b[39;00m FrozenDict(v)\n",
      "\u001b[0;31mKeyError\u001b[0m: 'CSFFourier_0'"
     ]
    }
   ],
   "source": [
    "correlation(diffs[\"CSFFourier_0\"][\"__call__\"][0], moses)"
   ]
  },
  {
   "cell_type": "code",
   "execution_count": null,
   "metadata": {},
   "outputs": [
    {
     "ename": "<class 'KeyError'>",
     "evalue": "'GDNGaussianStarRunning_0'",
     "output_type": "error",
     "traceback": [
      "\u001b[0;31m---------------------------------------------------------------------------\u001b[0m",
      "\u001b[0;31mKeyError\u001b[0m                                  Traceback (most recent call last)",
      "Cell \u001b[0;32mIn[1], line 1\u001b[0m\n\u001b[0;32m----> 1\u001b[0m correlation(\u001b[43mdiffs\u001b[49m\u001b[43m[\u001b[49m\u001b[38;5;124;43m\"\u001b[39;49m\u001b[38;5;124;43mGDNGaussianStarRunning_0\u001b[39;49m\u001b[38;5;124;43m\"\u001b[39;49m\u001b[43m]\u001b[49m[\u001b[38;5;124m\"\u001b[39m\u001b[38;5;124m__call__\u001b[39m\u001b[38;5;124m\"\u001b[39m][\u001b[38;5;241m0\u001b[39m], moses), correlation(diffs[\u001b[38;5;124m\"\u001b[39m\u001b[38;5;124mGDNGaussianStarRunning_1\u001b[39m\u001b[38;5;124m\"\u001b[39m][\u001b[38;5;124m\"\u001b[39m\u001b[38;5;124m__call__\u001b[39m\u001b[38;5;124m\"\u001b[39m][\u001b[38;5;241m0\u001b[39m], moses), correlation(diffs[\u001b[38;5;124m\"\u001b[39m\u001b[38;5;124mGDNGaussianStarRunning_2\u001b[39m\u001b[38;5;124m\"\u001b[39m][\u001b[38;5;124m\"\u001b[39m\u001b[38;5;124m__call__\u001b[39m\u001b[38;5;124m\"\u001b[39m][\u001b[38;5;241m0\u001b[39m], moses)\n",
      "File \u001b[0;32m~/miniconda3/envs/dl/lib/python3.8/site-packages/flax/core/frozen_dict.py:66\u001b[0m, in \u001b[0;36mFrozenDict.__getitem__\u001b[0;34m(self, key)\u001b[0m\n\u001b[1;32m     65\u001b[0m \u001b[38;5;28;01mdef\u001b[39;00m \u001b[38;5;21m__getitem__\u001b[39m(\u001b[38;5;28mself\u001b[39m, key):\n\u001b[0;32m---> 66\u001b[0m   v \u001b[38;5;241m=\u001b[39m \u001b[38;5;28;43mself\u001b[39;49m\u001b[38;5;241;43m.\u001b[39;49m\u001b[43m_dict\u001b[49m\u001b[43m[\u001b[49m\u001b[43mkey\u001b[49m\u001b[43m]\u001b[49m\n\u001b[1;32m     67\u001b[0m   \u001b[38;5;28;01mif\u001b[39;00m \u001b[38;5;28misinstance\u001b[39m(v, \u001b[38;5;28mdict\u001b[39m):\n\u001b[1;32m     68\u001b[0m     \u001b[38;5;28;01mreturn\u001b[39;00m FrozenDict(v)\n",
      "\u001b[0;31mKeyError\u001b[0m: 'GDNGaussianStarRunning_0'"
     ]
    }
   ],
   "source": [
    "correlation(diffs[\"GDNGaussianStarRunning_0\"][\"__call__\"][0], moses), correlation(diffs[\"GDNGaussianStarRunning_1\"][\"__call__\"][0], moses), correlation(diffs[\"GDNGaussianStarRunning_2\"][\"__call__\"][0], moses)"
   ]
  },
  {
   "cell_type": "code",
   "execution_count": null,
   "metadata": {},
   "outputs": [
    {
     "ename": "<class 'KeyError'>",
     "evalue": "'GaborLayerLogSigmaCoupled__0'",
     "output_type": "error",
     "traceback": [
      "\u001b[0;31m---------------------------------------------------------------------------\u001b[0m",
      "\u001b[0;31mKeyError\u001b[0m                                  Traceback (most recent call last)",
      "Cell \u001b[0;32mIn[1], line 1\u001b[0m\n\u001b[0;32m----> 1\u001b[0m correlation(\u001b[43mdiffs\u001b[49m\u001b[43m[\u001b[49m\u001b[38;5;124;43m\"\u001b[39;49m\u001b[38;5;124;43mGaborLayerLogSigmaCoupled__0\u001b[39;49m\u001b[38;5;124;43m\"\u001b[39;49m\u001b[43m]\u001b[49m[\u001b[38;5;124m\"\u001b[39m\u001b[38;5;124m__call__\u001b[39m\u001b[38;5;124m\"\u001b[39m][\u001b[38;5;241m0\u001b[39m][\u001b[38;5;241m0\u001b[39m], moses), correlation(diffs[\u001b[38;5;124m\"\u001b[39m\u001b[38;5;124mGaborLayerLogSigmaCoupled__1\u001b[39m\u001b[38;5;124m\"\u001b[39m][\u001b[38;5;124m\"\u001b[39m\u001b[38;5;124m__call__\u001b[39m\u001b[38;5;124m\"\u001b[39m][\u001b[38;5;241m0\u001b[39m][\u001b[38;5;241m0\u001b[39m], moses), correlation(diffs[\u001b[38;5;124m\"\u001b[39m\u001b[38;5;124mGaborLayerLogSigmaCoupled__2\u001b[39m\u001b[38;5;124m\"\u001b[39m][\u001b[38;5;124m\"\u001b[39m\u001b[38;5;124m__call__\u001b[39m\u001b[38;5;124m\"\u001b[39m][\u001b[38;5;241m0\u001b[39m][\u001b[38;5;241m0\u001b[39m], moses)\n",
      "File \u001b[0;32m~/miniconda3/envs/dl/lib/python3.8/site-packages/flax/core/frozen_dict.py:66\u001b[0m, in \u001b[0;36mFrozenDict.__getitem__\u001b[0;34m(self, key)\u001b[0m\n\u001b[1;32m     65\u001b[0m \u001b[38;5;28;01mdef\u001b[39;00m \u001b[38;5;21m__getitem__\u001b[39m(\u001b[38;5;28mself\u001b[39m, key):\n\u001b[0;32m---> 66\u001b[0m   v \u001b[38;5;241m=\u001b[39m \u001b[38;5;28;43mself\u001b[39;49m\u001b[38;5;241;43m.\u001b[39;49m\u001b[43m_dict\u001b[49m\u001b[43m[\u001b[49m\u001b[43mkey\u001b[49m\u001b[43m]\u001b[49m\n\u001b[1;32m     67\u001b[0m   \u001b[38;5;28;01mif\u001b[39;00m \u001b[38;5;28misinstance\u001b[39m(v, \u001b[38;5;28mdict\u001b[39m):\n\u001b[1;32m     68\u001b[0m     \u001b[38;5;28;01mreturn\u001b[39;00m FrozenDict(v)\n",
      "\u001b[0;31mKeyError\u001b[0m: 'GaborLayerLogSigmaCoupled__0'"
     ]
    }
   ],
   "source": [
    "correlation(diffs[\"GaborLayerLogSigmaCoupled__0\"][\"__call__\"][0][0], moses), correlation(diffs[\"GaborLayerLogSigmaCoupled__1\"][\"__call__\"][0][0], moses), correlation(diffs[\"GaborLayerLogSigmaCoupled__2\"][\"__call__\"][0][0], moses)"
   ]
  },
  {
   "cell_type": "code",
   "execution_count": null,
   "metadata": {},
   "outputs": [
    {
     "ename": "<class 'KeyError'>",
     "evalue": "'GDNSpatioFreqOrient_0'",
     "output_type": "error",
     "traceback": [
      "\u001b[0;31m---------------------------------------------------------------------------\u001b[0m",
      "\u001b[0;31mKeyError\u001b[0m                                  Traceback (most recent call last)",
      "Cell \u001b[0;32mIn[1], line 1\u001b[0m\n\u001b[0;32m----> 1\u001b[0m correlation(\u001b[43mdiffs\u001b[49m\u001b[43m[\u001b[49m\u001b[38;5;124;43m\"\u001b[39;49m\u001b[38;5;124;43mGDNSpatioFreqOrient_0\u001b[39;49m\u001b[38;5;124;43m\"\u001b[39;49m\u001b[43m]\u001b[49m[\u001b[38;5;124m\"\u001b[39m\u001b[38;5;124m__call__\u001b[39m\u001b[38;5;124m\"\u001b[39m][\u001b[38;5;241m0\u001b[39m], moses), correlation(diffs[\u001b[38;5;124m\"\u001b[39m\u001b[38;5;124mGDNSpatioFreqOrient_1\u001b[39m\u001b[38;5;124m\"\u001b[39m][\u001b[38;5;124m\"\u001b[39m\u001b[38;5;124m__call__\u001b[39m\u001b[38;5;124m\"\u001b[39m][\u001b[38;5;241m0\u001b[39m], moses), correlation(diffs[\u001b[38;5;124m\"\u001b[39m\u001b[38;5;124mGDNSpatioFreqOrient_2\u001b[39m\u001b[38;5;124m\"\u001b[39m][\u001b[38;5;124m\"\u001b[39m\u001b[38;5;124m__call__\u001b[39m\u001b[38;5;124m\"\u001b[39m][\u001b[38;5;241m0\u001b[39m], moses)\n",
      "File \u001b[0;32m~/miniconda3/envs/dl/lib/python3.8/site-packages/flax/core/frozen_dict.py:66\u001b[0m, in \u001b[0;36mFrozenDict.__getitem__\u001b[0;34m(self, key)\u001b[0m\n\u001b[1;32m     65\u001b[0m \u001b[38;5;28;01mdef\u001b[39;00m \u001b[38;5;21m__getitem__\u001b[39m(\u001b[38;5;28mself\u001b[39m, key):\n\u001b[0;32m---> 66\u001b[0m   v \u001b[38;5;241m=\u001b[39m \u001b[38;5;28;43mself\u001b[39;49m\u001b[38;5;241;43m.\u001b[39;49m\u001b[43m_dict\u001b[49m\u001b[43m[\u001b[49m\u001b[43mkey\u001b[49m\u001b[43m]\u001b[49m\n\u001b[1;32m     67\u001b[0m   \u001b[38;5;28;01mif\u001b[39;00m \u001b[38;5;28misinstance\u001b[39m(v, \u001b[38;5;28mdict\u001b[39m):\n\u001b[1;32m     68\u001b[0m     \u001b[38;5;28;01mreturn\u001b[39;00m FrozenDict(v)\n",
      "\u001b[0;31mKeyError\u001b[0m: 'GDNSpatioFreqOrient_0'"
     ]
    }
   ],
   "source": [
    "correlation(diffs[\"GDNSpatioFreqOrient_0\"][\"__call__\"][0], moses), correlation(diffs[\"GDNSpatioFreqOrient_1\"][\"__call__\"][0], moses), correlation(diffs[\"GDNSpatioFreqOrient_2\"][\"__call__\"][0], moses)"
   ]
  },
  {
   "cell_type": "code",
   "execution_count": 9,
   "metadata": {},
   "outputs": [
    {
     "data": {
      "text/plain": [
       "-0.7813242063207484"
      ]
     },
     "execution_count": 9,
     "metadata": {},
     "output_type": "execute_result"
    }
   ],
   "source": [
    "correlation(diffs[\"__call__\"][0], moses)"
   ]
  }
 ],
 "metadata": {
  "kernelspec": {
   "display_name": "python3",
   "language": "python",
   "name": "python3"
  },
  "language_info": {
   "codemirror_mode": {
    "name": "ipython",
    "version": 3
   },
   "file_extension": ".py",
   "mimetype": "text/x-python",
   "name": "python",
   "nbconvert_exporter": "python",
   "pygments_lexer": "ipython3",
   "version": "3.8.16"
  }
 },
 "nbformat": 4,
 "nbformat_minor": 2
}
