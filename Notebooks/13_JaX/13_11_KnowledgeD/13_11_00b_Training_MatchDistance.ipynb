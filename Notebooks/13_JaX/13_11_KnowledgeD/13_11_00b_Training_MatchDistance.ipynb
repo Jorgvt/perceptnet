{
 "cells": [
  {
   "cell_type": "code",
   "execution_count": null,
   "metadata": {},
   "outputs": [],
   "source": [
    "%load_ext autoreload\n",
    "%autoreload 2"
   ]
  },
  {
   "attachments": {},
   "cell_type": "markdown",
   "metadata": {},
   "source": [
    "# IQA tracking params and variables\n",
    "\n",
    "> When using parametric layers we have to be able to keep track of the parameters and the variables of the model (which are not going to be trained). We're going to play with this concept using our implementation of the functional layers."
   ]
  },
  {
   "cell_type": "code",
   "execution_count": null,
   "metadata": {},
   "outputs": [],
   "source": [
    "# import os; os.environ[\"XLA_PYTHON_CLIENT_MEM_FRACTION\"]=\".99\""
   ]
  },
  {
   "cell_type": "code",
   "execution_count": null,
   "metadata": {},
   "outputs": [],
   "source": [
    "import os\n",
    "# os.environ[\"CUDA_VISIBLE_DEVICES\"] = \"-1\"\n",
    "\n",
    "from typing import Any, Callable, Sequence, Union\n",
    "import numpy as np\n",
    "\n",
    "import tensorflow as tf\n",
    "tf.config.set_visible_devices([], device_type='GPU')\n",
    "\n",
    "import jax\n",
    "from jax import lax, random, numpy as jnp\n",
    "import flax\n",
    "from flax.core import freeze, unfreeze, FrozenDict\n",
    "from flax import linen as nn\n",
    "from flax import struct\n",
    "from flax.training import train_state\n",
    "from flax.training import orbax_utils\n",
    "\n",
    "import optax\n",
    "import orbax.checkpoint\n",
    "\n",
    "from clu import metrics\n",
    "from ml_collections import ConfigDict\n",
    "\n",
    "from einops import reduce, rearrange, repeat\n",
    "import wandb\n",
    "from iqadatasets.datasets import *\n",
    "from fxlayers.layers import *\n",
    "from fxlayers.layers import GaussianLayerGamma, FreqGaussianGamma, OrientGaussianGamma, GaborLayerGamma_, GaborLayerGammaRepeat\n",
    "from fxlayers.initializers import *\n",
    "from JaxPlayground.utils.constraints import *\n",
    "from JaxPlayground.utils.wandb import *"
   ]
  },
  {
   "cell_type": "code",
   "execution_count": null,
   "metadata": {},
   "outputs": [],
   "source": [
    "# jax.config.update(\"jax_debug_nans\", False)"
   ]
  },
  {
   "cell_type": "markdown",
   "metadata": {},
   "source": [
    "## Load the data\n",
    "\n",
    "> We're going to employ `iqadatasets` to ease the loading of the data."
   ]
  },
  {
   "cell_type": "code",
   "execution_count": null,
   "metadata": {},
   "outputs": [],
   "source": [
    "# dst_train = TID2008(\"/lustre/ific.uv.es/ml/uv075/Databases/IQA//TID/TID2008/\", exclude_imgs=[25])\n",
    "# dst_train = KADIK10K(\"/lustre/ific.uv.es/ml/uv075/Databases/IQA/KADIK10K/\")\n",
    "# dst_val = TID2013(\"/lustre/ific.uv.es/ml/uv075/Databases/IQA//TID/TID2013/\", exclude_imgs=[25])\n",
    "dst_train = TID2008(\"/media/disk/vista/BBDD_video_image/Image_Quality//TID/TID2008/\", exclude_imgs=[25])\n",
    "dst_val = TID2013(\"/media/disk/vista/BBDD_video_image/Image_Quality//TID/TID2013/\", exclude_imgs=[25])\n",
    "# dst_train = TID2008(\"/media/databases/IQA/TID/TID2008/\", exclude_imgs=[25])\n",
    "# dst_val = TID2013(\"/media/databases/IQA/TID/TID2013/\", exclude_imgs=[25])"
   ]
  },
  {
   "cell_type": "code",
   "execution_count": null,
   "metadata": {},
   "outputs": [],
   "source": [
    "img, img_dist, mos = next(iter(dst_train.dataset))\n",
    "img.shape, img_dist.shape, mos.shape"
   ]
  },
  {
   "cell_type": "code",
   "execution_count": null,
   "metadata": {},
   "outputs": [],
   "source": [
    "img, img_dist, mos = next(iter(dst_val.dataset))\n",
    "img.shape, img_dist.shape, mos.shape"
   ]
  },
  {
   "cell_type": "code",
   "execution_count": null,
   "metadata": {},
   "outputs": [],
   "source": [
    "config = {\n",
    "    \"TEACHER_ID\": \"gic33fro\",\n",
    "    \"BATCH_SIZE\": 64,\n",
    "    \"EPOCHS\": 500,\n",
    "    \"LEARNER_LR\": 3e-4,\n",
    "    # \"INITIAL_LR\": 1e-2,\n",
    "    # \"PEAK_LR\": 4e-2,\n",
    "    # \"END_LR\": 5e-3,\n",
    "    # \"WARMUP_EPOCHS\": 15,\n",
    "    \"SEED\": 42,\n",
    "    \"GDN_CLIPPING\": True,\n",
    "    \"NORMALIZE_PROB\": False,\n",
    "    \"NORMALIZE_ENERGY\": True,\n",
    "    \"ZERO_MEAN\": True,\n",
    "    \"USE_BIAS\": False,\n",
    "    \"CS_KERNEL_SIZE\": 21,\n",
    "    \"GDNGAUSSIAN_KERNEL_SIZE\": 11,\n",
    "    \"GDNSPATIOFREQ_KERNEL_SIZE\": 11,\n",
    "    \"GABOR_KERNEL_SIZE\": 31,\n",
    "    \"N_SCALES\": 4,\n",
    "    \"N_ORIENTATIONS\": 16,\n",
    "    \"N_GABORS\": 128,\n",
    "    \"USE_GAMMA\": True,\n",
    "    \"INIT_JH\": True,\n",
    "    \"INIT_GABOR\": True,\n",
    "    \"TRAIN_JH\": False,\n",
    "    \"TRAIN_CS\": False,\n",
    "    \"TRAIN_GABOR\": False,\n",
    "    \"A_GABOR\": False,\n",
    "    \"A_GDNSPATIOFREQORIENT\": False,\n",
    "    \"TRAIN_ONLY_LAST_GDN\": True,\n",
    "}\n",
    "config = ConfigDict(config)\n",
    "config"
   ]
  },
  {
   "cell_type": "code",
   "execution_count": null,
   "metadata": {},
   "outputs": [],
   "source": [
    "if config.TEACHER_ID is not None:\n",
    "    id = config.TEACHER_ID\n",
    "    api = wandb.Api()\n",
    "    prev_run = api.run(f\"jorgvt/PerceptNet_v15/{id}\")\n",
    "    config_t = ConfigDict(prev_run.config[\"_fields\"])\n",
    "    for file in prev_run.files():\n",
    "        file.download(root=prev_run.dir, replace=True)"
   ]
  },
  {
   "cell_type": "code",
   "execution_count": null,
   "metadata": {},
   "outputs": [],
   "source": [
    "wandb.init(project=\"ParametricKnowledgeDistillation\",\n",
    "           name=\"FinalModel_to_Baseline_Distances\",\n",
    "           job_type=\"training\",\n",
    "           config=config,\n",
    "           mode=\"online\",\n",
    "           )\n",
    "config = config\n",
    "config"
   ]
  },
  {
   "cell_type": "code",
   "execution_count": null,
   "metadata": {},
   "outputs": [],
   "source": [
    "dst_train_rdy = dst_train.dataset.shuffle(buffer_size=100,\n",
    "                                      reshuffle_each_iteration=True,\n",
    "                                      seed=config.SEED)\\\n",
    "                                 .batch(config.BATCH_SIZE, drop_remainder=True)\n",
    "dst_val_rdy = dst_val.dataset.batch(config.BATCH_SIZE, drop_remainder=True)"
   ]
  },
  {
   "attachments": {},
   "cell_type": "markdown",
   "metadata": {},
   "source": [
    "## Define the model we're going to use\n",
    "\n",
    "> It's going to be a very simple model just for demonstration purposes."
   ]
  },
  {
   "cell_type": "code",
   "execution_count": null,
   "metadata": {},
   "outputs": [],
   "source": [
    "#| exporti\n",
    "class ChromaFreqOrientGaussianGamma(nn.Module):\n",
    "    \"\"\"(1D) Gaussian interaction between gamma_fuencies and orientations optimizing gamma = 1/sigma instead of sigma.\"\"\"\n",
    "    use_bias: bool = False\n",
    "    strides: int = 1\n",
    "    padding: str = \"SAME\"\n",
    "    bias_init: Callable = nn.initializers.zeros_init()\n",
    "    n_scales: Sequence[int] = jnp.array([4, 2, 2], dtype=jnp.int32)\n",
    "    n_orientations: Sequence[int] = jnp.array([8, 8, 8], dtype=jnp.int32)\n",
    "\n",
    "    @nn.compact\n",
    "    def __call__(self,\n",
    "                 inputs,\n",
    "                 fmean,\n",
    "                 theta_mean,\n",
    "                 **kwargs,\n",
    "                 ):\n",
    "\n",
    "        gamma_f_a = self.param(\"gamma_f_a\",\n",
    "                             k_array(1/0.4, arr=jnp.array([2.,4.,8.,16.])),\n",
    "                             (self.n_scales[0],))\n",
    "        gamma_theta_a = self.param(\"gamma_theta_a\",\n",
    "                                 nn.initializers.ones_init(),\n",
    "                                #  (self.n_orientations[0],))\n",
    "                                 (8,))\n",
    "\n",
    "        gamma_f_t = self.param(\"gamma_f_t\",\n",
    "                             k_array(1/0.4, arr=jnp.array([3.,6.])),\n",
    "                             (self.n_scales[1],))\n",
    "        gamma_theta_t = self.param(\"gamma_theta_t\",\n",
    "                                 nn.initializers.ones_init(),\n",
    "                                #  (self.n_orientations[1],))\n",
    "                                 (8,))\n",
    "        \n",
    "        gamma_f_d = self.param(\"gamma_f_d\",\n",
    "                             k_array(1/0.4, arr=jnp.array([3.,6.])),\n",
    "                             (self.n_scales[2],))\n",
    "        gamma_theta_d = self.param(\"gamma_theta_d\",\n",
    "                                 nn.initializers.ones_init(),\n",
    "                                #  (self.n_orientations[2],))\n",
    "                                 (8,))\n",
    "\n",
    "        H_cc = self.param(\"H_cc\",\n",
    "                          nn.initializers.ones_init(),\n",
    "                          (3,3))\n",
    "\n",
    "        if self.use_bias: bias = self.param(\"bias\",\n",
    "                                            self.bias_init,\n",
    "                                            (len(fmean),))\n",
    "        else: bias = 0.\n",
    "        # n_groups = inputs.shape[-1] // len(fmean)\n",
    "\n",
    "        ## Repeat gammas\n",
    "        gamma_f = jnp.concatenate([jnp.tile(f, reps=len(t)) for f,t in zip([gamma_f_a, gamma_f_t, gamma_f_d], [gamma_theta_a, gamma_theta_t, gamma_theta_d])])\n",
    "        gamma_f = jnp.tile(gamma_f, reps=2)\n",
    "        gamma_theta = jnp.concatenate([jnp.tile(t, reps=len(f)) for f,t in zip([gamma_f_a, gamma_f_t, gamma_f_d], [gamma_theta_a, gamma_theta_t, gamma_theta_d])])\n",
    "        gamma_theta = jnp.tile(gamma_theta, reps=2)\n",
    "\n",
    "        ## Repeating\n",
    "        cc = jnp.array([0,1,2])\n",
    "        cc = jnp.repeat(cc, repeats=jnp.array([64,32,32]), total_repeat_length=len(fmean))\n",
    "\n",
    "        kernel = jax.vmap(self.gaussian, in_axes=(None,None,0,0,0,0,None,0,None,None), out_axes=1)(fmean, theta_mean, fmean, theta_mean, gamma_f, gamma_theta, cc, cc, H_cc, 1)\n",
    "        kernel = kernel[None,None,:,:]\n",
    "\n",
    "        ## Add the batch dim if the input is a single element\n",
    "        if jnp.ndim(inputs) < 4: inputs = inputs[None,:]; had_batch = False\n",
    "        else: had_batch = True\n",
    "        outputs = lax.conv_general_dilated(\n",
    "                jnp.transpose(inputs,[0,3,1,2]),    # lhs = NCHW image tensor\n",
    "                jnp.transpose(kernel,[3,2,0,1]), # rhs = OIHW conv kernel tensor\n",
    "                (self.strides, self.strides),\n",
    "                self.padding)\n",
    "        ## Move the channels back to the last dim\n",
    "        outputs = jnp.transpose(outputs, (0,2,3,1))\n",
    "        if not had_batch: outputs = outputs[0]\n",
    "        return outputs + bias\n",
    "\n",
    "    @staticmethod\n",
    "    def gaussian(f, theta, fmean, theta_mean, gamma_f, gamma_theta, c_1, c_2, H_cc, A=1):\n",
    "        return H_cc[c_1,c_2]*A*jnp.exp(-((gamma_f**2)*(f-fmean)**2)/(2))*jnp.exp(-((gamma_theta**2)*(theta-theta_mean)**2)/(2))"
   ]
  },
  {
   "cell_type": "code",
   "execution_count": null,
   "metadata": {},
   "outputs": [],
   "source": [
    "class GDNSpatioChromaFreqOrient(nn.Module):\n",
    "    \"\"\"Generalized Divisive Normalization.\"\"\"\n",
    "    kernel_size: Union[int, Sequence[int]]\n",
    "    strides: int = 1\n",
    "    padding: str = \"SAME\"\n",
    "    # inputs_star: float = 1.\n",
    "    # outputs_star: Union[None, float] = None\n",
    "    fs: int = 1\n",
    "    apply_independently: bool = False\n",
    "    bias_init: Callable = nn.initializers.ones_init()\n",
    "    alpha: float = 2.\n",
    "    epsilon: float = 1/2 # Exponential of the denominator\n",
    "    eps: float = 1e-6 # Numerical stability in the denominator\n",
    "\n",
    "    @nn.compact\n",
    "    def __call__(self,\n",
    "                 inputs,\n",
    "                 fmean,\n",
    "                 theta_mean,\n",
    "                 train=False,\n",
    "                 ):\n",
    "        b, h, w, c = inputs.shape\n",
    "        bias = self.param(\"bias\",\n",
    "                          #equal_to(inputs_star/10),\n",
    "                          self.bias_init,\n",
    "                          (c,))\n",
    "        # is_initialized = self.has_variable(\"batch_stats\", \"inputs_star\")\n",
    "        # inputs_star = self.variable(\"batch_stats\", \"inputs_star\", lambda x: jnp.ones(x)*self.inputs_star, (len(self.inputs_star),))\n",
    "        # inputs_star_ = jnp.ones_like(inputs)*inputs_star.value\n",
    "        GL = GaussianLayerGamma(features=c, kernel_size=self.kernel_size, strides=self.strides, padding=\"VALID\", fs=self.fs, xmean=self.kernel_size/self.fs/2, ymean=self.kernel_size/self.fs/2, normalize_prob=config.NORMALIZE_PROB, normalize_energy=config.NORMALIZE_ENERGY, use_bias=False, feature_group_count=c)\n",
    "        FOG = ChromaFreqOrientGaussianGamma()\n",
    "        outputs = GL(pad_same_from_kernel_size(inputs, kernel_size=self.kernel_size, mode=self.padding)**self.alpha, train=train)#/(self.kernel_size**2)\n",
    "        outputs = FOG(outputs, fmean=fmean, theta_mean=theta_mean)\n",
    "\n",
    "        ## Coef\n",
    "        # coef = GL(inputs_star_**self.alpha, train=train)#/(self.kernel_size**2)\n",
    "        # coef = FG(coef, fmean=fmean)\n",
    "        # coef = rearrange(coef, \"b h w (phase theta f) -> b h w (phase f theta)\", b=b, h=h, w=w, phase=2, f=config.N_SCALES, theta=config.N_ORIENTATIONS)\n",
    "        # coef = OG(coef, theta_mean=theta_mean) + bias\n",
    "        # coef = rearrange(coef, \"b h w (phase f theta) -> b h w (phase theta f)\", b=b, h=h, w=w, phase=2, f=config.N_SCALES, theta=config.N_ORIENTATIONS)\n",
    "        # coef = jnp.clip(coef+bias, a_min=1e-5)**self.epsilon\n",
    "        # # coef = inputs_star.value * coef\n",
    "        # if self.outputs_star is not None: coef = coef/inputs_star.value*self.outputs_star\n",
    "\n",
    "        # if is_initialized and train:\n",
    "        #     inputs_star.value = (inputs_star.value + jnp.quantile(jnp.abs(inputs), q=0.95, axis=(0,1,2)))/2\n",
    "        # return coef * inputs / (jnp.clip(denom+bias, a_min=1e-5)**self.epsilon + self.eps)\n",
    "        return inputs / (jnp.clip(outputs+bias, a_min=1e-5)**self.epsilon + self.eps)"
   ]
  },
  {
   "cell_type": "code",
   "execution_count": null,
   "metadata": {},
   "outputs": [],
   "source": [
    "class GaborLayerGammaHumanLike_(nn.Module):\n",
    "    \"\"\"Parametric Gabor layer with particular initialization.\"\"\"\n",
    "    n_scales: Sequence[int] # [A, T, D]\n",
    "    n_orientations: Sequence[int] # [A, T, D]\n",
    "\n",
    "    kernel_size: Union[int, Sequence[int]]\n",
    "    strides: int = 1\n",
    "    padding: str = \"SAME\"\n",
    "    feature_group_count: int = 1\n",
    "\n",
    "    use_bias: bool = False\n",
    "    xmean: float = 0.5\n",
    "    ymean: float = 0.5\n",
    "    fs: float = 1 # Sampling frequency\n",
    "    phase = jnp.array([0., jnp.pi/2.])\n",
    "\n",
    "    normalize_prob: bool = True\n",
    "    normalize_energy: bool = False\n",
    "    zero_mean: bool = False\n",
    "    train_A: bool = False\n",
    "\n",
    "    @nn.compact\n",
    "    def __call__(self,\n",
    "                 inputs,\n",
    "                 train=False,\n",
    "                 return_freq=False,\n",
    "                 return_theta=False,\n",
    "                 ):\n",
    "        total_scales = jnp.sum(jnp.array(self.n_scales))\n",
    "        total_orientations = jnp.sum(jnp.array(self.n_orientations))\n",
    "        features = jnp.sum(jnp.array([s*o*len(self.phase) for s, o in zip(self.n_scales, self.n_orientations)]))\n",
    "\n",
    "        is_initialized = self.has_variable(\"precalc_filter\", \"kernel\")\n",
    "        precalc_filters = self.variable(\"precalc_filter\",\n",
    "                                        \"kernel\",\n",
    "                                        jnp.zeros,\n",
    "                                        (self.kernel_size, self.kernel_size, inputs.shape[-1], features))\n",
    "        freq_a = self.param(\"freq_a\",\n",
    "                           freq_scales_init(n_scales=self.n_scales[0], fs=self.fs),\n",
    "                           (self.n_scales[0],))\n",
    "        gammax_a = self.param(\"gammax_a\",\n",
    "                           k_array(k=0.4, arr=1/(freq_a**0.8)),\n",
    "                           (self.n_scales[0],))\n",
    "        gammay_a = self.param(\"gammay_a\",\n",
    "                            equal_to(gammax_a*0.8),\n",
    "                            (self.n_scales[0],))\n",
    "        theta_a = self.param(\"theta_a\",\n",
    "                           linspace(start=0, stop=jnp.pi, num=self.n_orientations[0]),\n",
    "                           (self.n_orientations[0],))\n",
    "        sigma_theta_a = self.param(\"sigma_theta_a\",\n",
    "                                  equal_to(theta_a),\n",
    "                                  (self.n_orientations[0],))\n",
    "\n",
    "        freq_t = self.param(\"freq_t\",\n",
    "                           freq_scales_init(n_scales=self.n_scales[1], fs=self.fs),\n",
    "                           (self.n_scales[1],))\n",
    "        gammax_t = self.param(\"gammax_t\",\n",
    "                           k_array(k=0.4, arr=1/(freq_t**0.8)),\n",
    "                           (self.n_scales[1],))\n",
    "        gammay_t = self.param(\"gammay_t\",\n",
    "                            equal_to(gammax_t*0.8),\n",
    "                            (self.n_scales[1],))\n",
    "        theta_t = self.param(\"theta_t\",\n",
    "                           linspace(start=0, stop=jnp.pi, num=self.n_orientations[1]),\n",
    "                           (self.n_orientations[1],))\n",
    "        sigma_theta_t = self.param(\"sigma_theta_t\",\n",
    "                                  equal_to(theta_t),\n",
    "                                  (self.n_orientations[1],))\n",
    "\n",
    "        freq_d = self.param(\"freq_d\",\n",
    "                           freq_scales_init(n_scales=self.n_scales[2], fs=self.fs),\n",
    "                           (self.n_scales[2],))\n",
    "        gammax_d = self.param(\"gammax_d\",\n",
    "                           k_array(k=0.4, arr=1/(freq_d**0.8)),\n",
    "                           (self.n_scales[2],))\n",
    "        gammay_d = self.param(\"gammay_d\",\n",
    "                            equal_to(gammax_d*0.8),\n",
    "                            (self.n_scales[2],))\n",
    "        theta_d = self.param(\"theta_d\",\n",
    "                           linspace(start=0, stop=jnp.pi, num=self.n_orientations[2]),\n",
    "                           (self.n_orientations[2],))\n",
    "        sigma_theta_d = self.param(\"sigma_theta_d\",\n",
    "                                  equal_to(theta_d),\n",
    "                                  (self.n_orientations[2],))\n",
    "\n",
    "        # A = self.param(\"A\",\n",
    "        #                nn.initializers.ones_init(),\n",
    "        #                (inputs.shape[-1], features)) if self.train_A else jnp.ones(shape=(inputs.shape[-1], features))\n",
    "        A = self.param(\"A\",\n",
    "                       nn.initializers.ones_init(),\n",
    "                       (inputs.shape[-1], 128))\n",
    "        if self.use_bias: bias = self.param(\"bias\",\n",
    "                                            self.bias_init,\n",
    "                                            (features,))\n",
    "        else: bias = 0.\n",
    "\n",
    "        if is_initialized and not train: \n",
    "            kernel = precalc_filters.value\n",
    "        elif is_initialized and train: \n",
    "            x, y = self.generate_dominion()\n",
    "            ## A\n",
    "            kernel_a = jax.vmap(self.gabor, in_axes=(None,None,None,None,0,0,0,None,None,None,None,None,None,None), out_axes=0)\n",
    "            kernel_a = jax.vmap(kernel_a, in_axes=(None,None,None,None,None,None,None,0,0,None,None,None,None,None), out_axes=0)\n",
    "            kernel_a = jax.vmap(kernel_a, in_axes=(None,None,None,None,None,None,None,None,None,0,None,None,None,None), out_axes=0)(x, y, self.xmean, self.ymean, gammax_a, gammay_a, freq_a, theta_a, sigma_theta_a, self.phase, 1, self.normalize_prob, self.normalize_energy, self.zero_mean)\n",
    "            kernel_a = rearrange(kernel_a, \"phases rots fs_sigmas kx ky -> kx ky (phases rots fs_sigmas)\")\n",
    "            kernel_a = repeat(kernel_a, \"kx ky c_out -> kx ky c_in c_out\", c_in=inputs.shape[-1], c_out=kernel_a.shape[-1])\n",
    "\n",
    "            ## T\n",
    "            kernel_t = jax.vmap(self.gabor, in_axes=(None,None,None,None,0,0,0,None,None,None,None,None,None,None), out_axes=0)\n",
    "            kernel_t = jax.vmap(kernel_t, in_axes=(None,None,None,None,None,None,None,0,0,None,None,None,None,None), out_axes=0)\n",
    "            kernel_t = jax.vmap(kernel_t, in_axes=(None,None,None,None,None,None,None,None,None,0,None,None,None,None), out_axes=0)(x, y, self.xmean, self.ymean, gammax_t, gammay_t, freq_t, theta_t, sigma_theta_t, self.phase, 1, self.normalize_prob, self.normalize_energy, self.zero_mean)\n",
    "            kernel_t = rearrange(kernel_t, \"phases rots fs_sigmas kx ky -> kx ky (phases rots fs_sigmas)\")\n",
    "            kernel_t = repeat(kernel_t, \"kx ky c_out -> kx ky c_in c_out\", c_in=inputs.shape[-1], c_out=kernel_t.shape[-1])\n",
    "\n",
    "            ## D\n",
    "            kernel_d = jax.vmap(self.gabor, in_axes=(None,None,None,None,0,0,0,None,None,None,None,None,None,None), out_axes=0)\n",
    "            kernel_d = jax.vmap(kernel_d, in_axes=(None,None,None,None,None,None,None,0,0,None,None,None,None,None), out_axes=0)\n",
    "            kernel_d = jax.vmap(kernel_d, in_axes=(None,None,None,None,None,None,None,None,None,0,None,None,None,None), out_axes=0)(x, y, self.xmean, self.ymean, gammax_d, gammay_d, freq_d, theta_d, sigma_theta_d, self.phase, 1, self.normalize_prob, self.normalize_energy, self.zero_mean)\n",
    "            kernel_d = rearrange(kernel_d, \"phases rots fs_sigmas kx ky -> kx ky (phases rots fs_sigmas)\")\n",
    "            kernel_d = repeat(kernel_d, \"kx ky c_out -> kx ky c_in c_out\", c_in=inputs.shape[-1], c_out=kernel_d.shape[-1])\n",
    "\n",
    "            ## Concat all of them\n",
    "            kernel = jnp.concatenate([kernel_a, kernel_t, kernel_d], axis=-1)\n",
    "            kernel = kernel * A[None,None,:,:]\n",
    "            precalc_filters.value = kernel\n",
    "        else:\n",
    "            kernel = precalc_filters.value\n",
    "\n",
    "        ## Add the batch dim if the input is a single element\n",
    "        if jnp.ndim(inputs) < 4: inputs = inputs[None,:]; had_batch = False\n",
    "        else: had_batch = True\n",
    "        outputs = lax.conv(jnp.transpose(inputs,[0,3,1,2]),    # lhs = NCHW image tensor\n",
    "               jnp.transpose(kernel,[3,2,0,1]), # rhs = OIHW conv kernel tensor\n",
    "               (self.strides, self.strides),\n",
    "               self.padding)\n",
    "        ## Move the channels back to the last dim\n",
    "        outputs = jnp.transpose(outputs, (0,2,3,1))\n",
    "        fmean = jnp.concatenate([jnp.tile(f, reps=len(t)) for f,t in zip([freq_a, freq_t, freq_d], [theta_a, theta_t, theta_d])])\n",
    "        fmean = jnp.tile(fmean, reps=2)\n",
    "        theta_mean = jnp.concatenate([jnp.tile(t, reps=len(f)) for f,t in zip([freq_a, freq_t, freq_d], [theta_a, theta_t, theta_d])])\n",
    "        theta_mean = jnp.tile(theta_mean, reps=2)\n",
    "\n",
    "        if not had_batch: outputs = outputs[0]\n",
    "        if return_freq and return_theta:\n",
    "            return outputs + bias, fmean, theta_mean \n",
    "        elif return_freq and not return_theta:\n",
    "            return outputs + bias, fmean\n",
    "        elif not return_freq and return_theta:\n",
    "            return outputs + bias, theta_mean\n",
    "        else:\n",
    "            return outputs + bias\n",
    "\n",
    "    @staticmethod\n",
    "    def gabor(x, y, xmean, ymean, gammax, gammay, freq, theta, sigma_theta, phase, A=1, normalize_prob=True, normalize_energy=False, zero_mean=False):\n",
    "        x, y = x-xmean, y-ymean\n",
    "        ## Obtain the normalization coeficient\n",
    "        gamma_vector = jnp.array([gammax, gammay])\n",
    "        inv_cov_matrix = jnp.diag(gamma_vector)**2\n",
    "        # det_cov_matrix = 1/jnp.linalg.det(cov_matrix)\n",
    "        # # A_norm = 1/(2*jnp.pi*jnp.sqrt(det_cov_matrix)) if normalize_prob else 1.\n",
    "        # A_norm = jnp.where(normalize_prob, 1/(2*jnp.pi*jnp.sqrt(det_cov_matrix)), 1.)\n",
    "        A_norm = 1.\n",
    "        \n",
    "        ## Rotate the sinusoid\n",
    "        rotation_matrix = jnp.array([[jnp.cos(sigma_theta), -jnp.sin(sigma_theta)],\n",
    "                                     [jnp.sin(sigma_theta), jnp.cos(sigma_theta)]])\n",
    "        rotated_covariance = rotation_matrix @ inv_cov_matrix @ jnp.transpose(rotation_matrix)\n",
    "        x_r_1 = rotated_covariance[0,0] * x + rotated_covariance[0,1] * y\n",
    "        y_r_1 = rotated_covariance[1,0] * x + rotated_covariance[1,1] * y\n",
    "        distance = x * x_r_1 + y * y_r_1\n",
    "        g = A_norm*jnp.exp(-distance/2) * jnp.cos(2*jnp.pi*freq*(x*jnp.cos(theta)+y*jnp.sin(theta)) + phase)\n",
    "        g = jnp.where(zero_mean, g - g.mean(), g)\n",
    "        E_norm = jnp.where(normalize_energy, jnp.sqrt(jnp.sum(g**2)), 1.)\n",
    "        return A*g/E_norm\n",
    "\n",
    "    def return_kernel(self, params, c_in=3):\n",
    "        x, y = self.generate_dominion()\n",
    "        sigmax, sigmay = jnp.exp(params[\"sigmax\"]), jnp.exp(params[\"sigmay\"])\n",
    "        kernel = jax.vmap(self.gabor, in_axes=(None,None,None,None,0,0,None,None,None,None,None,None,None), out_axes=0)\n",
    "        kernel = jax.vmap(kernel, in_axes=(None,None,None,None,None,None,0,None,None,None,None,None,None), out_axes=0)\n",
    "        kernel = jax.vmap(kernel, in_axes=(None,None,None,None,None,None,None,0,0,0,None,None,None), out_axes=0)(x, y, self.xmean, self.ymean, params[\"sigmax\"], params[\"sigmay\"], params[\"freq\"], params[\"theta\"], params[\"sigma_theta\"], self.phase, 1, self.normalize_prob, self.normalize_energy)\n",
    "        # kernel = rearrange(kernel, \"(c_in c_out) kx ky -> kx ky c_in c_out\", c_in=inputs.shape[-1], c_out=self.features)\n",
    "        kernel = rearrange(kernel, \"rots fs sigmas kx ky -> kx ky (rots fs sigmas)\")\n",
    "        kernel = repeat(kernel, \"kx ky c_out -> kx ky c_in c_out\", c_in=c_in, c_out=kernel.shape[-1])\n",
    "        return kernel\n",
    "    \n",
    "    def generate_dominion(self):\n",
    "        return jnp.meshgrid(jnp.linspace(0,self.kernel_size/self.fs,num=self.kernel_size), jnp.linspace(0,self.kernel_size/self.fs,num=self.kernel_size))"
   ]
  },
  {
   "cell_type": "code",
   "execution_count": null,
   "metadata": {},
   "outputs": [],
   "source": [
    "class PerceptNet(nn.Module):\n",
    "    \"\"\"IQA model inspired by the visual system.\"\"\"\n",
    "\n",
    "    @nn.compact\n",
    "    def __call__(self,\n",
    "                 inputs, # Assuming fs = 128 (cpd)\n",
    "                 **kwargs,\n",
    "                 ):\n",
    "        ## (Independent) Color equilibration (Gamma correction)\n",
    "        ## Might need to be the same for each number\n",
    "        ## bias = 0.1 / kernel = 0.5\n",
    "        if config.USE_GAMMA: outputs = GDNGamma()(inputs)\n",
    "        else: outputs = GDN(kernel_size=(1,1), apply_independently=True)(inputs)\n",
    "        \n",
    "        ## Color (ATD) Transformation\n",
    "        outputs = nn.Conv(features=3, kernel_size=(1,1), use_bias=False, name=\"Color\")(outputs)\n",
    "        outputs = nn.max_pool(outputs, window_shape=(2,2), strides=(2,2))\n",
    "        \n",
    "        ## GDN Star A - T - D [Separated]\n",
    "        outputs = GDN(kernel_size=(1,1), apply_independently=True)(outputs)\n",
    "\n",
    "        ## Center Surround (DoG)\n",
    "        ## Initialized so that 3 are positives and 3 are negatives and no interaction between channels is present\n",
    "        outputs = pad_same_from_kernel_size(outputs, kernel_size=config.CS_KERNEL_SIZE, mode=\"symmetric\")\n",
    "        outputs = CenterSurroundLogSigmaK(features=3, kernel_size=config.CS_KERNEL_SIZE, fs=21, use_bias=False, padding=\"VALID\")(outputs, **kwargs)\n",
    "        outputs = nn.max_pool(outputs, window_shape=(2,2), strides=(2,2))\n",
    "\n",
    "        ## GDN per channel with mean substraction in T and D (Spatial Gaussian Kernel)\n",
    "        ### fs = 32 / kernel_size = (11,11) -> 0.32 > 0.02 --> OK!\n",
    "        ## TO-DO: - Spatial Gaussian Kernel (0.02 deg) -> fs = 64/2 & 0.02*64/2 = sigma (px) = 0.69\n",
    "        outputs = GDNGaussian(kernel_size=config.GDNGAUSSIAN_KERNEL_SIZE, apply_independently=True, fs=32, padding=\"symmetric\", normalize_prob=config.NORMALIZE_PROB, normalize_energy=config.NORMALIZE_ENERGY)(outputs, **kwargs)\n",
    "\n",
    "        ## GaborLayer per channel with GDN mixing only same-origin-channel information\n",
    "        ### [Gaussian] sigma = 0.2 (deg) fs = 32 / kernel_size = (21,21) -> 21/32 = 0.66 --> OK!\n",
    "        outputs = pad_same_from_kernel_size(outputs, kernel_size=config.GABOR_KERNEL_SIZE, mode=\"symmetric\")\n",
    "        # outputs, fmean, theta_mean = GaborLayerGamma_(n_scales=4+2+2, n_orientations=8*3, kernel_size=config.GABOR_KERNEL_SIZE, fs=32, xmean=config.GABOR_KERNEL_SIZE/32/2, ymean=config.GABOR_KERNEL_SIZE/32/2, strides=1, padding=\"VALID\", normalize_prob=config.NORMALIZE_PROB, normalize_energy=config.NORMALIZE_ENERGY, zero_mean=config.ZERO_MEAN, use_bias=config.USE_BIAS, train_A=config.A_GABOR)(outputs, return_freq=True, return_theta=True, **kwargs)\n",
    "        outputs, fmean, theta_mean = GaborLayerGammaHumanLike_(n_scales=[4,2,2], n_orientations=[8,8,8], kernel_size=config.GABOR_KERNEL_SIZE, fs=32, xmean=config.GABOR_KERNEL_SIZE/32/2, ymean=config.GABOR_KERNEL_SIZE/32/2, strides=1, padding=\"VALID\", normalize_prob=config.NORMALIZE_PROB, normalize_energy=config.NORMALIZE_ENERGY, zero_mean=config.ZERO_MEAN, use_bias=config.USE_BIAS, train_A=config.A_GABOR)(outputs, return_freq=True, return_theta=True, **kwargs)\n",
    "        \n",
    "        ## Final GDN mixing Gabor information (?)\n",
    "        outputs = GDNSpatioChromaFreqOrient(kernel_size=21, strides=1, padding=\"symmetric\", fs=32, apply_independently=False)(outputs, fmean=fmean, theta_mean=theta_mean, **kwargs)\n",
    "\n",
    "        return outputs"
   ]
  },
  {
   "cell_type": "code",
   "execution_count": null,
   "metadata": {},
   "outputs": [],
   "source": [
    "class PerceptNetBaseline(nn.Module):\n",
    "    \"\"\"IQA model inspired by the visual system.\"\"\"\n",
    "\n",
    "    @nn.compact\n",
    "    def __call__(self,\n",
    "                 inputs,\n",
    "                 **kwargs,\n",
    "                 ):\n",
    "        outputs = GDN(kernel_size=1, strides=1, padding=\"SAME\", apply_independently=True)(inputs)\n",
    "        outputs = nn.Conv(features=3, kernel_size=(1,1), strides=1, padding=\"SAME\")(outputs)\n",
    "        outputs = nn.max_pool(outputs, window_shape=(2,2), strides=(2,2))\n",
    "        outputs = GDN(kernel_size=1, strides=1, padding=\"SAME\", apply_independently=False)(outputs)\n",
    "        outputs = nn.Conv(features=6, kernel_size=(config.CS_KERNEL_SIZE,config.CS_KERNEL_SIZE), strides=1, padding=\"SAME\")(outputs)\n",
    "        outputs = nn.max_pool(outputs, window_shape=(2,2), strides=(2,2))\n",
    "        outputs = GDN(kernel_size=config.GDNGAUSSIAN_KERNEL_SIZE, strides=1, padding=\"SAME\", apply_independently=False)(outputs)\n",
    "        outputs = nn.Conv(features=config.N_GABORS, kernel_size=(config.GABOR_KERNEL_SIZE,config.GABOR_KERNEL_SIZE), strides=1, padding=\"SAME\")(outputs)\n",
    "        outputs = GDN(kernel_size=config.GDNSPATIOFREQ_KERNEL_SIZE, strides=1, padding=\"SAME\", apply_independently=False)(outputs)\n",
    "        return outputs"
   ]
  },
  {
   "attachments": {},
   "cell_type": "markdown",
   "metadata": {},
   "source": [
    "## Define the metrics with `clu`"
   ]
  },
  {
   "cell_type": "code",
   "execution_count": null,
   "metadata": {},
   "outputs": [],
   "source": [
    "@struct.dataclass\n",
    "class Metrics(metrics.Collection):\n",
    "    \"\"\"Collection of metrics to be tracked during training.\"\"\"\n",
    "    loss: metrics.Average.from_output(\"loss\")\n",
    "    correlation_l: metrics.Average.from_output(\"correlation_l\")"
   ]
  },
  {
   "cell_type": "code",
   "execution_count": null,
   "metadata": {},
   "outputs": [],
   "source": [
    "@struct.dataclass\n",
    "class MetricsT(metrics.Collection):\n",
    "    \"\"\"Collection of metrics to be tracked during training.\"\"\"\n",
    "    loss: metrics.Average.from_output(\"loss\")"
   ]
  },
  {
   "attachments": {},
   "cell_type": "markdown",
   "metadata": {},
   "source": [
    "By default, `TrainState` doesn't include metrics, but it's very easy to subclass it so that it does:"
   ]
  },
  {
   "cell_type": "code",
   "execution_count": null,
   "metadata": {},
   "outputs": [],
   "source": [
    "class TrainState(train_state.TrainState):\n",
    "    metrics: Metrics\n",
    "    state: FrozenDict"
   ]
  },
  {
   "attachments": {},
   "cell_type": "markdown",
   "metadata": {},
   "source": [
    "We'll define a function that initializes the `TrainState` from a module, a rng key and some optimizer:"
   ]
  },
  {
   "cell_type": "code",
   "execution_count": null,
   "metadata": {},
   "outputs": [],
   "source": [
    "def create_train_state(module, key, tx, input_shape):\n",
    "    \"\"\"Creates the initial `TrainState`.\"\"\"\n",
    "    variables = module.init(key, jnp.ones(input_shape))\n",
    "    state, params = variables.pop('params')\n",
    "    return TrainState.create(\n",
    "        apply_fn=module.apply,\n",
    "        params=params,\n",
    "        state=state,\n",
    "        tx=tx,\n",
    "        metrics=Metrics.empty()\n",
    "    )"
   ]
  },
  {
   "cell_type": "code",
   "execution_count": null,
   "metadata": {},
   "outputs": [],
   "source": [
    "def create_train_state_t(module, key, tx, input_shape):\n",
    "    \"\"\"Creates the initial `TrainState`.\"\"\"\n",
    "    variables = module.init(key, jnp.ones(input_shape))\n",
    "    state, params = variables.pop('params')\n",
    "    return TrainState.create(\n",
    "        apply_fn=module.apply,\n",
    "        params=params,\n",
    "        state=state,\n",
    "        tx=tx,\n",
    "        metrics=MetricsT.empty()\n",
    "    )"
   ]
  },
  {
   "attachments": {},
   "cell_type": "markdown",
   "metadata": {},
   "source": [
    "## Defining the training step\n",
    "\n",
    "> We want to write a function that takes the `TrainState` and a batch of data can performs an optimization step."
   ]
  },
  {
   "cell_type": "code",
   "execution_count": null,
   "metadata": {},
   "outputs": [],
   "source": [
    "def pearson_correlation(vec1, vec2):\n",
    "    vec1 = vec1.squeeze()\n",
    "    vec2 = vec2.squeeze()\n",
    "    vec1_mean = vec1.mean()\n",
    "    vec2_mean = vec2.mean()\n",
    "    num = vec1-vec1_mean\n",
    "    num *= vec2-vec2_mean\n",
    "    num = num.sum()\n",
    "    denom = jnp.sqrt(jnp.sum((vec1-vec1_mean)**2))\n",
    "    denom *= jnp.sqrt(jnp.sum((vec2-vec2_mean)**2))\n",
    "    return num/denom"
   ]
  },
  {
   "cell_type": "code",
   "execution_count": null,
   "metadata": {},
   "outputs": [],
   "source": [
    "from functools import partial"
   ]
  },
  {
   "cell_type": "code",
   "execution_count": null,
   "metadata": {},
   "outputs": [],
   "source": [
    "@partial(jax.jit, static_argnums=3)\n",
    "def train_step(state, state_t, batch, return_grads=False):\n",
    "    \"\"\"Train for a single step.\"\"\"\n",
    "    img, img_dist, mos = batch\n",
    "    def loss_fn(params):\n",
    "        ## Forward pass through the teacher model\n",
    "        img_pred_t = state_t.apply_fn({\"params\": state_t.params, **state_t.state}, img)\n",
    "        img_dist_pred_t = state_t.apply_fn({\"params\": state_t.params, **state_t.state}, img_dist)\n",
    "\n",
    "        ## Forward pass through the learner model\n",
    "        img_pred = state.apply_fn({\"params\": params, **state.state}, img)\n",
    "        img_dist_pred = state.apply_fn({\"params\": params, **state.state}, img_dist)\n",
    "\n",
    "        dist_l = ((img_pred - img_dist_pred)**2).sum(axis=(1,2,3))**(1/2)\n",
    "        dist_t = ((img_pred_t - img_dist_pred_t)**2).sum(axis=(1,2,3))**(1/2)\n",
    "\n",
    "        ## Optimize so that the distances are the same as the parametric model\n",
    "        loss = (((dist_l - dist_t)**2).mean()**(1/2))\n",
    "\n",
    "        ## Return the distillation loss and the correlation of the learner\n",
    "        return loss, pearson_correlation(dist_l, mos)\n",
    "    \n",
    "    (loss, correlation_l), grads = jax.value_and_grad(loss_fn, has_aux=True)(state.params)\n",
    "    state = state.apply_gradients(grads=grads)\n",
    "    metrics_updates = state.metrics.single_from_model_output(loss=loss, correlation_l=correlation_l)\n",
    "    metrics = state.metrics.merge(metrics_updates)\n",
    "    state = state.replace(metrics=metrics)\n",
    "    if return_grads: return state, grads\n",
    "    else: return state"
   ]
  },
  {
   "attachments": {},
   "cell_type": "markdown",
   "metadata": {},
   "source": [
    "In their example, they don't calculate the metrics at the same time. I think it is kind of a waste because it means having to perform a new forward pass, but we'll follow as of now. Let's define a function to perform metric calculation:"
   ]
  },
  {
   "cell_type": "code",
   "execution_count": null,
   "metadata": {},
   "outputs": [],
   "source": [
    "@jax.jit\n",
    "def compute_metrics(*, state, state_t, batch):\n",
    "    \"\"\"Obtaining the metrics for a given batch.\"\"\"\n",
    "    img, img_dist, mos = batch\n",
    "    def loss_fn(params):\n",
    "        ## Forward pass through the teacher model\n",
    "        img_pred_t = state_t.apply_fn({\"params\": state_t.params, **state_t.state}, img)\n",
    "        img_dist_pred_t = state_t.apply_fn({\"params\": state_t.params, **state_t.state}, img_dist)\n",
    "\n",
    "        ## Forward pass through the learner model\n",
    "        img_pred = state.apply_fn({\"params\": params, **state.state}, img)\n",
    "        img_dist_pred = state.apply_fn({\"params\": params, **state.state}, img_dist)\n",
    "\n",
    "        ## Calculate the distance\n",
    "        dist_img = ((img_pred_t - img_pred)**2).sum(axis=(1,2,3))**(1/2)\n",
    "        dist_img_dist = ((img_dist_pred_t - img_dist_pred)**2).sum(axis=(1,2,3))**(1/2)\n",
    "\n",
    "        ## Optimize so that the distances are the same as the parametric model\n",
    "        loss = (dist_img.mean() + dist_img_dist.mean()).mean()\n",
    "\n",
    "        dist_l = ((img_pred - img_dist_pred)**2).sum(axis=(1,2,3))**(1/2)\n",
    "\n",
    "        ## Return the distillation loss and the correlation of the learner\n",
    "        return loss, pearson_correlation(dist_l, mos)\n",
    "    loss, correlation_l = loss_fn(state.params) \n",
    "    metrics_updates = state.metrics.single_from_model_output(loss=loss, correlation_l=correlation_l)\n",
    "    metrics = state.metrics.merge(metrics_updates)\n",
    "    state = state.replace(metrics=metrics)\n",
    "    return state"
   ]
  },
  {
   "attachments": {},
   "cell_type": "markdown",
   "metadata": {},
   "source": [
    "## Train the model!"
   ]
  },
  {
   "cell_type": "code",
   "execution_count": null,
   "metadata": {},
   "outputs": [],
   "source": [
    "state = create_train_state_t(PerceptNet(), random.PRNGKey(config.SEED), optax.adam(config.LEARNER_LR), input_shape=(1,384,512,3))\n",
    "state = state.replace(params=clip_layer(state.params, \"GDN\", a_min=0))\n",
    "state = state.replace(params=clip_param(state.params, \"A\", a_min=0))"
   ]
  },
  {
   "cell_type": "code",
   "execution_count": null,
   "metadata": {},
   "outputs": [],
   "source": [
    "state.params.keys()"
   ]
  },
  {
   "cell_type": "code",
   "execution_count": null,
   "metadata": {},
   "outputs": [],
   "source": [
    "pred, _ = state.apply_fn({\"params\": state.params, **state.state}, jnp.ones(shape=(1,384,512,3)), train=True, mutable=list(state.state.keys()))\n",
    "state = state.replace(state=_)"
   ]
  },
  {
   "cell_type": "code",
   "execution_count": null,
   "metadata": {},
   "outputs": [],
   "source": [
    "def check_trainable(path):\n",
    "    if not config.A_GDNSPATIOFREQORIENT:\n",
    "        if (\"GDNSpatioChromaFreqOrient_0\" in path) and (\"A\" in path):\n",
    "            return True\n",
    "    if \"Color\" in path:\n",
    "        if not config.TRAIN_JH:\n",
    "            return True\n",
    "    if \"CenterSurroundLogSigmaK_0\" in path:\n",
    "        if not config.TRAIN_CS:\n",
    "            return True\n",
    "    if \"Gabor\" in \"\".join(path):\n",
    "        if not config.TRAIN_GABOR:\n",
    "            return True\n",
    "    if \"GDNSpatioChromaFreqOrient_0\" not in path and config.TRAIN_ONLY_LAST_GDN:\n",
    "        return True\n",
    "    return False"
   ]
  },
  {
   "cell_type": "code",
   "execution_count": null,
   "metadata": {},
   "outputs": [],
   "source": [
    "# trainable_tree = freeze(flax.traverse_util.path_aware_map(lambda path, v: \"non_trainable\" if check_trainable(path)  else \"trainable\", state.params))\n",
    "trainable_tree = freeze(flax.traverse_util.path_aware_map(lambda path, v: \"non_trainable\", state.params))\n",
    "trainable_tree"
   ]
  },
  {
   "cell_type": "code",
   "execution_count": null,
   "metadata": {},
   "outputs": [],
   "source": [
    "optimizers = {\n",
    "    \"trainable\": optax.adam(learning_rate=3e-3),\n",
    "    \"non_trainable\": optax.set_to_zero(),\n",
    "}"
   ]
  },
  {
   "cell_type": "code",
   "execution_count": null,
   "metadata": {},
   "outputs": [],
   "source": [
    "tx = optax.multi_transform(optimizers, trainable_tree)"
   ]
  },
  {
   "cell_type": "code",
   "execution_count": null,
   "metadata": {},
   "outputs": [],
   "source": [
    "state_t = create_train_state_t(PerceptNet(), random.PRNGKey(config.SEED), tx, input_shape=(1,384,512,3))\n",
    "state_t = state_t.replace(params=clip_layer(state_t.params, \"GDN\", a_min=0))"
   ]
  },
  {
   "cell_type": "code",
   "execution_count": null,
   "metadata": {},
   "outputs": [],
   "source": [
    "# param_count = sum(x.size for x in jax.tree_util.tree_leaves(state.params))\n",
    "# trainable_param_count = sum([w.size if t==\"trainable\" else 0 for w, t in zip(jax.tree_util.tree_leaves(state.params), jax.tree_util.tree_leaves(trainable_tree))])\n",
    "# param_count, trainable_param_count"
   ]
  },
  {
   "cell_type": "code",
   "execution_count": null,
   "metadata": {},
   "outputs": [],
   "source": [
    "# wandb.run.summary[\"total_parameters\"] = param_count\n",
    "# wandb.run.summary[\"trainable_parameters\"] = trainable_param_count"
   ]
  },
  {
   "cell_type": "code",
   "execution_count": null,
   "metadata": {},
   "outputs": [],
   "source": [
    "state_t = state_t.replace(params=unfreeze(state_t.params))\n",
    "\n",
    "# ## DN 0 (Gamma)\n",
    "if config.USE_GAMMA:\n",
    "    state_t.params[\"GDNGamma_0\"][\"bias\"] = jnp.ones_like(state_t.params[\"GDNGamma_0\"][\"bias\"])*0.1\n",
    "    state_t.params[\"GDNGamma_0\"][\"kernel\"] = jnp.ones_like(state_t.params[\"GDNGamma_0\"][\"kernel\"])*0.5\n",
    "else:\n",
    "    state_t.params[\"GDN_0\"][\"Conv_0\"][\"bias\"] = jnp.ones_like(state_t.params[\"GDN_0\"][\"Conv_0\"][\"bias\"])*0.1\n",
    "    state_t.params[\"GDN_0\"][\"Conv_0\"][\"kernel\"] = jnp.ones_like(state_t.params[\"GDN_0\"][\"Conv_0\"][\"kernel\"])*0.5\n",
    "\n",
    "## Opponent color channel transformation\n",
    "if config.INIT_JH:\n",
    "    state_t.params[\"Color\"][\"kernel\"] = jnp.array([[39.0454,30.1207,14.27948],\n",
    "                                                  [115.8404,-63.3502,41.26816],\n",
    "                                                  [16.3118,30.2934,-61.51888]])[None,None,:,:]/163.5217\n",
    "\n",
    "## Center Surround\n",
    "state_t.params[\"CenterSurroundLogSigmaK_0\"][\"logsigma\"] = jnp.array([-1.9,-1.9,-1.9,\n",
    "                                                                   -1.76,-1.76,-1.76,\n",
    "                                                                   -1.76,-1.76,-1.76])\n",
    "state_t.params[\"CenterSurroundLogSigmaK_0\"][\"K\"] = jnp.array([1.1,1.1,1.1,\n",
    "                                                            5.0,5.0,5.0,\n",
    "                                                            5.0,5.0,5.0])\n",
    "state_t.params[\"CenterSurroundLogSigmaK_0\"][\"A\"] = jnp.array([1.,0.,0.,\n",
    "                                                            0.,1.,0.,\n",
    "                                                            0.,0.,1.])\n",
    "\n",
    "## GDNGaussian\n",
    "state_t.params[\"GDNGaussian_0\"][\"GaussianLayerGamma_0\"][\"gamma\"] = jnp.ones_like(state_t.params[\"GDNGaussian_0\"][\"GaussianLayerGamma_0\"][\"gamma\"])*(1./0.04)\n",
    "state_t.params[\"GDNGaussian_0\"][\"GaussianLayerGamma_0\"][\"bias\"] = jnp.ones_like(state_t.params[\"GDNGaussian_0\"][\"GaussianLayerGamma_0\"][\"bias\"])*0.1\n",
    "\n",
    "## Gabor\n",
    "if config.INIT_GABOR:\n",
    "    state_t.params[\"GaborLayerGammaHumanLike__0\"][\"freq_a\"] = jnp.array([2.,4.,8.,16.]) \n",
    "    state_t.params[\"GaborLayerGammaHumanLike__0\"][\"freq_t\"] = jnp.array([3.,6.]) \n",
    "    state_t.params[\"GaborLayerGammaHumanLike__0\"][\"freq_d\"] = jnp.array([3.,6.])\n",
    "\n",
    "    state_t.params[\"GaborLayerGammaHumanLike__0\"][\"gammax_a\"] = state_t.params[\"GaborLayerGammaHumanLike__0\"][\"freq_a\"]**0.9\n",
    "    state_t.params[\"GaborLayerGammaHumanLike__0\"][\"gammay_a\"] = 0.8*state_t.params[\"GaborLayerGammaHumanLike__0\"][\"gammax_a\"]\n",
    "\n",
    "    state_t.params[\"GaborLayerGammaHumanLike__0\"][\"gammax_t\"] = state_t.params[\"GaborLayerGammaHumanLike__0\"][\"freq_t\"]**0.9\n",
    "    state_t.params[\"GaborLayerGammaHumanLike__0\"][\"gammay_t\"] = 0.8*state_t.params[\"GaborLayerGammaHumanLike__0\"][\"gammax_t\"]\n",
    "\n",
    "    state_t.params[\"GaborLayerGammaHumanLike__0\"][\"gammax_d\"] = state_t.params[\"GaborLayerGammaHumanLike__0\"][\"freq_d\"]**0.9\n",
    "    state_t.params[\"GaborLayerGammaHumanLike__0\"][\"gammay_d\"] = 0.8*state_t.params[\"GaborLayerGammaHumanLike__0\"][\"gammax_d\"]\n",
    "    # state_t.params[\"GaborLayerGammaHumanLike__0\"][\"theta_a\"] = jnp.tile(jnp.linspace(0., jnp.pi, num=16), reps=128//16)\n",
    "    # state_t.params[\"GaborLayerGammaHumanLike__0\"][\"sigma_theta_a\"] = state_t.params[\"GaborLayerGammaHumanLike__0\"][\"theta_a\"]\n",
    "    # state_t.params[\"GaborLayerGammaHumanLike__0\"][\"phase_a\"] = jnp.repeat(jnp.array([0., 90.]), repeats=64)    \n",
    "\n",
    "    A_a = jnp.zeros(shape=(3,64), dtype=jnp.float32)\n",
    "    A_a = A_a.at[0,:].set(1.)\n",
    "    A_t = jnp.zeros(shape=(3,32), dtype=jnp.float32)\n",
    "    A_t = A_t.at[1,:].set(1.)\n",
    "    A_d = jnp.zeros(shape=(3,32), dtype=jnp.float32)\n",
    "    A_d = A_d.at[2,:].set(1.)\n",
    "    state_t.params[\"GaborLayerGammaHumanLike__0\"][\"A\"] = jnp.concatenate([A_a, A_t, A_d], axis=-1)\n",
    "\n",
    "## GDNSpatioChromaFreqOrient\n",
    "# state_t.params[\"GDNSpatioChromaFreqOrient_0\"][\"GaussianLayerGamma_0\"][\"gamma\"] = jnp.ones_like(state_t.params[\"GDNSpatioChromaFreqOrient_0\"][\"GaussianLayerGamma_0\"][\"gamma\"])*(1./0.1)\n",
    "# state_t.params[\"GDNSpatioChromaFreqOrient_0\"][\"OrientGaussianGamma_0\"][\"gamma\"] = jnp.ones_like(state_t.params[\"GDNSpatioChromaFreqOrient_0\"][\"OrientGaussianGamma_0\"][\"gamma\"])*(1/20)\n",
    "# state_t.params[\"GDNSpatioChromaFreqOrient_0\"][\"bias\"] = jnp.tile(jnp.array([0.001, 0.002, 0.0035, 0.01])/100, reps=config.N_ORIENTATIONS*2)\n",
    "state_t.params[\"GDNSpatioChromaFreqOrient_0\"][\"ChromaFreqOrientGaussianGamma_0\"][\"H_cc\"] = jnp.eye(3,3)\n",
    "state_t.params[\"GDNSpatioChromaFreqOrient_0\"][\"ChromaFreqOrientGaussianGamma_0\"][\"gamma_theta_a\"] = jnp.ones_like(state_t.params[\"GDNSpatioChromaFreqOrient_0\"][\"ChromaFreqOrientGaussianGamma_0\"][\"gamma_theta_a\"])*(1/20)\n",
    "state_t.params[\"GDNSpatioChromaFreqOrient_0\"][\"ChromaFreqOrientGaussianGamma_0\"][\"gamma_theta_t\"] = jnp.ones_like(state_t.params[\"GDNSpatioChromaFreqOrient_0\"][\"ChromaFreqOrientGaussianGamma_0\"][\"gamma_theta_t\"])*(1/20)\n",
    "state_t.params[\"GDNSpatioChromaFreqOrient_0\"][\"ChromaFreqOrientGaussianGamma_0\"][\"gamma_theta_d\"] = jnp.ones_like(state_t.params[\"GDNSpatioChromaFreqOrient_0\"][\"ChromaFreqOrientGaussianGamma_0\"][\"gamma_theta_d\"])*(1/20)\n",
    "\n",
    "\n",
    "state_t = state_t.replace(params=freeze(state_t.params))"
   ]
  },
  {
   "cell_type": "code",
   "execution_count": null,
   "metadata": {},
   "outputs": [],
   "source": [
    "pred, _ = state_t.apply_fn({\"params\": state_t.params, **state_t.state}, jnp.ones(shape=(1,384,512,3)), train=True, mutable=list(state_t.state.keys()))\n",
    "state_t = state_t.replace(state=_)"
   ]
  },
  {
   "cell_type": "code",
   "execution_count": null,
   "metadata": {},
   "outputs": [],
   "source": [
    "teacher_vars = {\"params\": state_t.params, **state_t.state}"
   ]
  },
  {
   "cell_type": "code",
   "execution_count": null,
   "metadata": {},
   "outputs": [],
   "source": [
    "tx = optax.adam(learning_rate=config.LEARNER_LR)\n",
    "state = create_train_state(PerceptNetBaseline(), random.PRNGKey(config.SEED), tx, input_shape=(1,384,512,3))\n",
    "state = state.replace(params=clip_layer(state.params, \"GDN\", a_min=0))"
   ]
  },
  {
   "cell_type": "markdown",
   "metadata": {},
   "source": [
    "Before actually training the model we're going to set up the checkpointer to be able to save our trained models:"
   ]
  },
  {
   "cell_type": "code",
   "execution_count": null,
   "metadata": {},
   "outputs": [],
   "source": [
    "orbax_checkpointer = orbax.checkpoint.PyTreeCheckpointer()\n",
    "save_args = orbax_utils.save_args_from_target(state)"
   ]
  },
  {
   "cell_type": "code",
   "execution_count": null,
   "metadata": {},
   "outputs": [],
   "source": [
    "orbax_checkpointer.save(os.path.join(wandb.run.dir, \"model-0\"), state, save_args=save_args, force=True) # force=True means allow overwritting."
   ]
  },
  {
   "cell_type": "code",
   "execution_count": null,
   "metadata": {},
   "outputs": [],
   "source": [
    "orbax_checkpointer_t = orbax.checkpoint.PyTreeCheckpointer()\n",
    "save_args_t = orbax_utils.save_args_from_target(state_t)\n",
    "state_t = orbax_checkpointer_t.restore(f\"{prev_run.dir}/model-best\", item=state_t)"
   ]
  },
  {
   "cell_type": "code",
   "execution_count": null,
   "metadata": {},
   "outputs": [],
   "source": [
    "metrics_history = {\n",
    "    \"train_loss\": [],\n",
    "    \"train_correlation_l\": [],\n",
    "    \"val_loss\": [],\n",
    "    \"val_correlation_l\": [],\n",
    "}"
   ]
  },
  {
   "cell_type": "code",
   "execution_count": null,
   "metadata": {},
   "outputs": [],
   "source": [
    "batch = next(iter(dst_train_rdy.as_numpy_iterator()))"
   ]
  },
  {
   "cell_type": "code",
   "execution_count": null,
   "metadata": {},
   "outputs": [],
   "source": [
    "from functools import partial"
   ]
  },
  {
   "cell_type": "code",
   "execution_count": null,
   "metadata": {},
   "outputs": [],
   "source": [
    "@jax.jit\n",
    "def forward(state, inputs):\n",
    "    return state.apply_fn({\"params\": state.params, **state.state}, inputs, train=False)"
   ]
  },
  {
   "cell_type": "code",
   "execution_count": null,
   "metadata": {},
   "outputs": [],
   "source": [
    "@jax.jit\n",
    "def forward_intermediates(state, inputs):\n",
    "    return state.apply_fn({\"params\": state.params, **state.state}, inputs, train=False, capture_intermediates=True)"
   ]
  },
  {
   "cell_type": "code",
   "execution_count": null,
   "metadata": {},
   "outputs": [],
   "source": [
    "%%time\n",
    "outputs = forward(state, batch[0])\n",
    "outputs.shape"
   ]
  },
  {
   "cell_type": "code",
   "execution_count": null,
   "metadata": {},
   "outputs": [],
   "source": [
    "%%time\n",
    "s1, grads = train_step(state, state_t, batch, return_grads=True)"
   ]
  },
  {
   "cell_type": "code",
   "execution_count": null,
   "metadata": {},
   "outputs": [],
   "source": [
    "# jax.config.update(\"jax_debug_nans\", True)"
   ]
  },
  {
   "cell_type": "code",
   "execution_count": null,
   "metadata": {},
   "outputs": [],
   "source": [
    "def filter_extra(extra):\n",
    "    def filter_intermediates(path, x):\n",
    "        path = \"/\".join(path)\n",
    "        if \"Gabor\" in path:\n",
    "            return (x[0][0],)\n",
    "        else: \n",
    "            return x\n",
    "    extra = unfreeze(extra)\n",
    "    extra[\"intermediates\"] = flax.traverse_util.path_aware_map(filter_intermediates, extra[\"intermediates\"])\n",
    "    return freeze(extra)"
   ]
  },
  {
   "cell_type": "code",
   "execution_count": null,
   "metadata": {},
   "outputs": [],
   "source": [
    "%%time\n",
    "step = 0\n",
    "for epoch in range(config.EPOCHS):\n",
    "    ## Training\n",
    "    for batch in dst_train_rdy.as_numpy_iterator():\n",
    "        state, grads = train_step(state, state_t, batch, return_grads=True)\n",
    "        state = state.replace(params=clip_layer(state.params, \"GDN\", a_min=0))\n",
    "        state = state.replace(params=clip_param(state.params, \"A\", a_min=0))\n",
    "        state = state.replace(params=clip_param(state.params, \"K\", a_min=1+1e-5))\n",
    "        wandb.log({f\"{k}_grad\": wandb.Histogram(v) for k, v in flatten_params(grads).items()}, commit=False)\n",
    "        step += 1\n",
    "        # state = compute_metrics(state=state, batch=batch)\n",
    "        # break\n",
    "\n",
    "    ## Log the metrics\n",
    "    for name, value in state.metrics.compute().items():\n",
    "        metrics_history[f\"train_{name}\"].append(value)\n",
    "    \n",
    "    ## Empty the metrics\n",
    "    state = state.replace(metrics=state.metrics.empty())\n",
    "\n",
    "    ## Evaluation\n",
    "    for batch in dst_val_rdy.as_numpy_iterator():\n",
    "        state = compute_metrics(state=state, state_t=state_t, batch=batch)\n",
    "        # break\n",
    "    for name, value in state.metrics.compute().items():\n",
    "        metrics_history[f\"val_{name}\"].append(value)\n",
    "    state = state.replace(metrics=state.metrics.empty())\n",
    "    \n",
    "    ## Obtain activations of last validation batch\n",
    "    _, extra = forward_intermediates(state, batch[0])\n",
    "    extra = filter_extra(extra) ## Needed because the Gabor layer has multiple outputs\n",
    "    \n",
    "    ## Checkpointing\n",
    "    if metrics_history[\"val_loss\"][-1] <= min(metrics_history[\"val_loss\"]):\n",
    "        orbax_checkpointer.save(os.path.join(wandb.run.dir, \"model-best\"), state, save_args=save_args, force=True) # force=True means allow overwritting.\n",
    "    # orbax_checkpointer.save(os.path.join(wandb.run.dir, f\"model-{epoch+1}\"), state, save_args=save_args, force=False) # force=True means allow overwritting.\n",
    "\n",
    "    wandb.log({f\"{k}\": wandb.Histogram(v) for k, v in flatten_params(state.params).items()}, commit=False)\n",
    "    wandb.log({f\"{k}\": wandb.Histogram(v) for k, v in flatten_params(extra[\"intermediates\"]).items()}, commit=False)\n",
    "    # wandb.log({\"epoch\": epoch+1, \"learning_rate\": schedule_lr(step), **{name:values[-1] for name, values in metrics_history.items()}})\n",
    "    wandb.log({\"epoch\": epoch+1, **{name:values[-1] for name, values in metrics_history.items()}})\n",
    "    print(f'Epoch {epoch} -> [Train] Loss: {metrics_history[\"train_loss\"][-1]} [Val] Loss: {metrics_history[\"val_loss\"][-1]}')\n",
    "    # break"
   ]
  },
  {
   "cell_type": "markdown",
   "metadata": {},
   "source": [
    "Save the final model as well in case we want to keep training from it or whatever:"
   ]
  },
  {
   "cell_type": "code",
   "execution_count": null,
   "metadata": {},
   "outputs": [],
   "source": [
    "orbax_checkpointer.save(os.path.join(wandb.run.dir, \"model-final\"), state, save_args=save_args)"
   ]
  },
  {
   "cell_type": "code",
   "execution_count": null,
   "metadata": {},
   "outputs": [],
   "source": [
    "wandb.finish()"
   ]
  }
 ],
 "metadata": {
  "kernelspec": {
   "display_name": "python3",
   "language": "python",
   "name": "python3"
  },
  "language_info": {
   "codemirror_mode": {
    "name": "ipython",
    "version": 3
   },
   "file_extension": ".py",
   "mimetype": "text/x-python",
   "name": "python",
   "nbconvert_exporter": "python",
   "pygments_lexer": "ipython3",
   "version": "3.8.16"
  }
 },
 "nbformat": 4,
 "nbformat_minor": 2
}
