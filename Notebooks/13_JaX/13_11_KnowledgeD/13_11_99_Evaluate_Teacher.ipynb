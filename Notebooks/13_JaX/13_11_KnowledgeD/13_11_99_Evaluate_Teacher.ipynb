{
 "cells": [
  {
   "cell_type": "code",
   "execution_count": 106,
   "metadata": {
    "metadata": {}
   },
   "outputs": [
    {
     "name": "stdout",
     "output_type": "stream",
     "text": [
      "The autoreload extension is already loaded. To reload it, use:\n",
      "  %reload_ext autoreload\n"
     ]
    }
   ],
   "source": [
    "%load_ext autoreload\n",
    "%autoreload 2"
   ]
  },
  {
   "attachments": {},
   "cell_type": "markdown",
   "metadata": {},
   "source": [
    "# IQA tracking params and variables\n",
    "\n",
    "> When using parametric layers we have to be able to keep track of the parameters and the variables of the model (which are not going to be trained). We're going to play with this concept using our implementation of the functional layers."
   ]
  },
  {
   "cell_type": "code",
   "execution_count": 107,
   "metadata": {
    "metadata": {}
   },
   "outputs": [],
   "source": [
    "# import os; os.environ[\"XLA_PYTHON_CLIENT_MEM_FRACTION\"]=\".99\""
   ]
  },
  {
   "cell_type": "code",
   "execution_count": 108,
   "metadata": {
    "metadata": {}
   },
   "outputs": [],
   "source": [
    "import os\n",
    "os.environ[\"CUDA_VISIBLE_DEVICES\"] = \"0\"\n",
    "\n",
    "from typing import Any, Callable, Sequence, Union\n",
    "import numpy as np\n",
    "\n",
    "import tensorflow as tf\n",
    "tf.config.set_visible_devices([], device_type='GPU')\n",
    "\n",
    "import jax\n",
    "from jax import lax, random, numpy as jnp\n",
    "import flax\n",
    "from flax.core import freeze, unfreeze, FrozenDict\n",
    "from flax import linen as nn\n",
    "from flax import struct\n",
    "from flax.training import train_state\n",
    "from flax.training import orbax_utils\n",
    "\n",
    "import optax\n",
    "import orbax.checkpoint\n",
    "\n",
    "from clu import metrics\n",
    "from ml_collections import ConfigDict\n",
    "\n",
    "from einops import reduce, rearrange, repeat\n",
    "import wandb\n",
    "from iqadatasets.datasets import *\n",
    "from fxlayers.layers import *\n",
    "from fxlayers.layers import GaussianLayerGamma, FreqGaussianGamma, OrientGaussianGamma, GaborLayerGamma_, GaborLayerGammaRepeat\n",
    "from fxlayers.initializers import *\n",
    "from JaxPlayground.utils.constraints import *\n",
    "from JaxPlayground.utils.wandb import *"
   ]
  },
  {
   "cell_type": "code",
   "execution_count": 109,
   "metadata": {
    "metadata": {}
   },
   "outputs": [],
   "source": [
    "# jax.config.update(\"jax_debug_nans\", False)"
   ]
  },
  {
   "cell_type": "markdown",
   "metadata": {},
   "source": [
    "## Load the data\n",
    "\n",
    "> We're going to employ `iqadatasets` to ease the loading of the data."
   ]
  },
  {
   "cell_type": "code",
   "execution_count": 110,
   "metadata": {
    "metadata": {}
   },
   "outputs": [],
   "source": [
    "# dst_train = TID2008(\"/lustre/ific.uv.es/ml/uv075/Databases/IQA//TID/TID2008/\", exclude_imgs=[25])\n",
    "# dst_train = KADIK10K(\"/lustre/ific.uv.es/ml/uv075/Databases/IQA/KADIK10K/\")\n",
    "# dst_val = TID2013(\"/lustre/ific.uv.es/ml/uv075/Databases/IQA//TID/TID2013/\", exclude_imgs=[25])\n",
    "dst_train = TID2008(\"/media/disk/vista/BBDD_video_image/Image_Quality//TID/TID2008/\", exclude_imgs=[25])\n",
    "dst_val = TID2013(\"/media/disk/vista/BBDD_video_image/Image_Quality//TID/TID2013/\", exclude_imgs=[25])\n",
    "# dst_train = TID2008(\"/media/databases/IQA/TID/TID2008/\", exclude_imgs=[25])\n",
    "# dst_val = TID2013(\"/media/databases/IQA/TID/TID2013/\", exclude_imgs=[25])"
   ]
  },
  {
   "cell_type": "code",
   "execution_count": 111,
   "metadata": {
    "metadata": {}
   },
   "outputs": [
    {
     "name": "stderr",
     "output_type": "stream",
     "text": [
      "2024-07-08 21:20:46.845859: I tensorflow/core/common_runtime/executor.cc:1197] [/device:CPU:0] (DEBUG INFO) Executor start aborting (this does not indicate an error and you can ignore this message): INVALID_ARGUMENT: You must feed a value for placeholder tensor 'Placeholder/_2' with dtype double and shape [1632]\n",
      "\t [[{{node Placeholder/_2}}]]\n"
     ]
    },
    {
     "data": {
      "text/plain": [
       "(TensorShape([384, 512, 3]), TensorShape([384, 512, 3]), TensorShape([]))"
      ]
     },
     "execution_count": 111,
     "metadata": {},
     "output_type": "execute_result"
    }
   ],
   "source": [
    "img, img_dist, mos = next(iter(dst_train.dataset))\n",
    "img.shape, img_dist.shape, mos.shape"
   ]
  },
  {
   "cell_type": "code",
   "execution_count": 112,
   "metadata": {
    "metadata": {}
   },
   "outputs": [
    {
     "name": "stderr",
     "output_type": "stream",
     "text": [
      "2024-07-08 21:20:47.105378: I tensorflow/core/common_runtime/executor.cc:1197] [/device:CPU:0] (DEBUG INFO) Executor start aborting (this does not indicate an error and you can ignore this message): INVALID_ARGUMENT: You must feed a value for placeholder tensor 'Placeholder/_2' with dtype double and shape [2880]\n",
      "\t [[{{node Placeholder/_2}}]]\n"
     ]
    },
    {
     "data": {
      "text/plain": [
       "(TensorShape([384, 512, 3]), TensorShape([384, 512, 3]), TensorShape([]))"
      ]
     },
     "execution_count": 112,
     "metadata": {},
     "output_type": "execute_result"
    }
   ],
   "source": [
    "img, img_dist, mos = next(iter(dst_val.dataset))\n",
    "img.shape, img_dist.shape, mos.shape"
   ]
  },
  {
   "cell_type": "code",
   "execution_count": 113,
   "metadata": {
    "metadata": {}
   },
   "outputs": [
    {
     "data": {
      "text/plain": [
       "A_GABOR: false\n",
       "A_GDNSPATIOFREQORIENT: false\n",
       "BATCH_SIZE: 64\n",
       "CS_KERNEL_SIZE: 21\n",
       "EPOCHS: 500\n",
       "GABOR_KERNEL_SIZE: 31\n",
       "GDNGAUSSIAN_KERNEL_SIZE: 11\n",
       "GDNSPATIOFREQ_KERNEL_SIZE: 11\n",
       "GDN_CLIPPING: true\n",
       "INIT_GABOR: true\n",
       "INIT_JH: true\n",
       "LEARNER_LR: 0.0003\n",
       "NORMALIZE_ENERGY: true\n",
       "NORMALIZE_PROB: false\n",
       "N_GABORS: 128\n",
       "N_ORIENTATIONS: 16\n",
       "N_SCALES: 4\n",
       "SEED: 42\n",
       "TEACHER_ID: gic33fro\n",
       "TRAIN_CS: false\n",
       "TRAIN_GABOR: false\n",
       "TRAIN_JH: false\n",
       "TRAIN_ONLY_LAST_GDN: true\n",
       "USE_BIAS: false\n",
       "USE_GAMMA: true\n",
       "ZERO_MEAN: true"
      ]
     },
     "execution_count": 113,
     "metadata": {},
     "output_type": "execute_result"
    }
   ],
   "source": [
    "config = {\n",
    "    \"TEACHER_ID\": \"gic33fro\",\n",
    "    \"BATCH_SIZE\": 64,\n",
    "    \"EPOCHS\": 500,\n",
    "    \"LEARNER_LR\": 3e-4,\n",
    "    # \"INITIAL_LR\": 1e-2,\n",
    "    # \"PEAK_LR\": 4e-2,\n",
    "    # \"END_LR\": 5e-3,\n",
    "    # \"WARMUP_EPOCHS\": 15,\n",
    "    \"SEED\": 42,\n",
    "    \"GDN_CLIPPING\": True,\n",
    "    \"NORMALIZE_PROB\": False,\n",
    "    \"NORMALIZE_ENERGY\": True,\n",
    "    \"ZERO_MEAN\": True,\n",
    "    \"USE_BIAS\": False,\n",
    "    \"CS_KERNEL_SIZE\": 21,\n",
    "    \"GDNGAUSSIAN_KERNEL_SIZE\": 11,\n",
    "    \"GDNSPATIOFREQ_KERNEL_SIZE\": 11,\n",
    "    \"GABOR_KERNEL_SIZE\": 31,\n",
    "    \"N_SCALES\": 4,\n",
    "    \"N_ORIENTATIONS\": 16,\n",
    "    \"N_GABORS\": 128,\n",
    "    \"USE_GAMMA\": True,\n",
    "    \"INIT_JH\": True,\n",
    "    \"INIT_GABOR\": True,\n",
    "    \"TRAIN_JH\": False,\n",
    "    \"TRAIN_CS\": False,\n",
    "    \"TRAIN_GABOR\": False,\n",
    "    \"A_GABOR\": False,\n",
    "    \"A_GDNSPATIOFREQORIENT\": False,\n",
    "    \"TRAIN_ONLY_LAST_GDN\": True,\n",
    "}\n",
    "config = ConfigDict(config)\n",
    "config"
   ]
  },
  {
   "cell_type": "code",
   "execution_count": 114,
   "metadata": {
    "metadata": {}
   },
   "outputs": [],
   "source": [
    "if config.TEACHER_ID is not None:\n",
    "    id = config.TEACHER_ID\n",
    "    api = wandb.Api()\n",
    "    prev_run = api.run(f\"jorgvt/PerceptNet_v15/{id}\")\n",
    "    config_t = ConfigDict(prev_run.config[\"_fields\"])\n",
    "    for file in prev_run.files():\n",
    "        file.download(root=prev_run.dir, replace=True)"
   ]
  },
  {
   "cell_type": "code",
   "execution_count": 115,
   "metadata": {
    "metadata": {}
   },
   "outputs": [
    {
     "data": {
      "text/html": [
       "wandb version 0.17.4 is available!  To upgrade, please run:\n",
       " $ pip install wandb --upgrade"
      ],
      "text/plain": [
       "<IPython.core.display.HTML object>"
      ]
     },
     "metadata": {},
     "output_type": "display_data"
    },
    {
     "data": {
      "text/html": [
       "Tracking run with wandb version 0.15.0"
      ],
      "text/plain": [
       "<IPython.core.display.HTML object>"
      ]
     },
     "metadata": {},
     "output_type": "display_data"
    },
    {
     "data": {
      "text/html": [
       "Run data is saved locally in <code>/media/disk/users/vitojor/perceptnet/Notebooks/13_JaX/13_11_KnowledgeD/wandb/run-20240708_212054-8x0427e9</code>"
      ],
      "text/plain": [
       "<IPython.core.display.HTML object>"
      ]
     },
     "metadata": {},
     "output_type": "display_data"
    },
    {
     "data": {
      "text/html": [
       "Syncing run <strong><a href='https://wandb.ai/jorgvt/ParametricKnowledgeDistillation/runs/8x0427e9' target=\"_blank\">Teacher_FinalModel</a></strong> to <a href='https://wandb.ai/jorgvt/ParametricKnowledgeDistillation' target=\"_blank\">Weights & Biases</a> (<a href='https://wandb.me/run' target=\"_blank\">docs</a>)<br/>"
      ],
      "text/plain": [
       "<IPython.core.display.HTML object>"
      ]
     },
     "metadata": {},
     "output_type": "display_data"
    },
    {
     "data": {
      "text/html": [
       " View project at <a href='https://wandb.ai/jorgvt/ParametricKnowledgeDistillation' target=\"_blank\">https://wandb.ai/jorgvt/ParametricKnowledgeDistillation</a>"
      ],
      "text/plain": [
       "<IPython.core.display.HTML object>"
      ]
     },
     "metadata": {},
     "output_type": "display_data"
    },
    {
     "data": {
      "text/html": [
       " View run at <a href='https://wandb.ai/jorgvt/ParametricKnowledgeDistillation/runs/8x0427e9' target=\"_blank\">https://wandb.ai/jorgvt/ParametricKnowledgeDistillation/runs/8x0427e9</a>"
      ],
      "text/plain": [
       "<IPython.core.display.HTML object>"
      ]
     },
     "metadata": {},
     "output_type": "display_data"
    },
    {
     "data": {
      "text/plain": [
       "A_GABOR: false\n",
       "A_GDNSPATIOFREQORIENT: false\n",
       "BATCH_SIZE: 64\n",
       "CS_KERNEL_SIZE: 21\n",
       "EPOCHS: 500\n",
       "GABOR_KERNEL_SIZE: 31\n",
       "GDNGAUSSIAN_KERNEL_SIZE: 11\n",
       "GDNSPATIOFREQ_KERNEL_SIZE: 11\n",
       "GDN_CLIPPING: true\n",
       "INIT_GABOR: true\n",
       "INIT_JH: true\n",
       "LEARNER_LR: 0.0003\n",
       "NORMALIZE_ENERGY: true\n",
       "NORMALIZE_PROB: false\n",
       "N_GABORS: 128\n",
       "N_ORIENTATIONS: 16\n",
       "N_SCALES: 4\n",
       "SEED: 42\n",
       "TEACHER_ID: gic33fro\n",
       "TRAIN_CS: false\n",
       "TRAIN_GABOR: false\n",
       "TRAIN_JH: false\n",
       "TRAIN_ONLY_LAST_GDN: true\n",
       "USE_BIAS: false\n",
       "USE_GAMMA: true\n",
       "ZERO_MEAN: true"
      ]
     },
     "execution_count": 115,
     "metadata": {},
     "output_type": "execute_result"
    }
   ],
   "source": [
    "wandb.init(project=\"ParametricKnowledgeDistillation\",\n",
    "           name=\"Teacher_FinalModel\",\n",
    "           job_type=\"training\",\n",
    "           config=config,\n",
    "           mode=\"online\",\n",
    "           )\n",
    "config = config\n",
    "if config.TEACHER_ID is None: config_t = config\n",
    "config"
   ]
  },
  {
   "cell_type": "code",
   "execution_count": null,
   "metadata": {},
   "outputs": [],
   "source": []
  },
  {
   "cell_type": "code",
   "execution_count": null,
   "metadata": {},
   "outputs": [],
   "source": []
  },
  {
   "cell_type": "code",
   "execution_count": 116,
   "metadata": {
    "metadata": {}
   },
   "outputs": [],
   "source": [
    "dst_train_rdy = dst_train.dataset.shuffle(buffer_size=100,\n",
    "                                      reshuffle_each_iteration=True,\n",
    "                                      seed=config.SEED)\\\n",
    "                                 .batch(config.BATCH_SIZE, drop_remainder=True)\n",
    "dst_val_rdy = dst_val.dataset.batch(config.BATCH_SIZE, drop_remainder=True)"
   ]
  },
  {
   "attachments": {},
   "cell_type": "markdown",
   "metadata": {},
   "source": [
    "## Define the model we're going to use\n",
    "\n",
    "> It's going to be a very simple model just for demonstration purposes."
   ]
  },
  {
   "cell_type": "code",
   "execution_count": 117,
   "metadata": {
    "metadata": {}
   },
   "outputs": [],
   "source": [
    "#| exporti\n",
    "class ChromaFreqOrientGaussianGamma(nn.Module):\n",
    "    \"\"\"(1D) Gaussian interaction between gamma_fuencies and orientations optimizing gamma = 1/sigma instead of sigma.\"\"\"\n",
    "    use_bias: bool = False\n",
    "    strides: int = 1\n",
    "    padding: str = \"SAME\"\n",
    "    bias_init: Callable = nn.initializers.zeros_init()\n",
    "    n_scales: Sequence[int] = jnp.array([4, 2, 2], dtype=jnp.int32)\n",
    "    n_orientations: Sequence[int] = jnp.array([8, 8, 8], dtype=jnp.int32)\n",
    "\n",
    "    @nn.compact\n",
    "    def __call__(self,\n",
    "                 inputs,\n",
    "                 fmean,\n",
    "                 theta_mean,\n",
    "                 **kwargs,\n",
    "                 ):\n",
    "\n",
    "        gamma_f_a = self.param(\"gamma_f_a\",\n",
    "                             k_array(1/0.4, arr=jnp.array([2.,4.,8.,16.])),\n",
    "                             (self.n_scales[0],))\n",
    "        gamma_theta_a = self.param(\"gamma_theta_a\",\n",
    "                                 nn.initializers.ones_init(),\n",
    "                                #  (self.n_orientations[0],))\n",
    "                                 (8,))\n",
    "\n",
    "        gamma_f_t = self.param(\"gamma_f_t\",\n",
    "                             k_array(1/0.4, arr=jnp.array([3.,6.])),\n",
    "                             (self.n_scales[1],))\n",
    "        gamma_theta_t = self.param(\"gamma_theta_t\",\n",
    "                                 nn.initializers.ones_init(),\n",
    "                                #  (self.n_orientations[1],))\n",
    "                                 (8,))\n",
    "        \n",
    "        gamma_f_d = self.param(\"gamma_f_d\",\n",
    "                             k_array(1/0.4, arr=jnp.array([3.,6.])),\n",
    "                             (self.n_scales[2],))\n",
    "        gamma_theta_d = self.param(\"gamma_theta_d\",\n",
    "                                 nn.initializers.ones_init(),\n",
    "                                #  (self.n_orientations[2],))\n",
    "                                 (8,))\n",
    "\n",
    "        H_cc = self.param(\"H_cc\",\n",
    "                          nn.initializers.ones_init(),\n",
    "                          (3,3))\n",
    "\n",
    "        if self.use_bias: bias = self.param(\"bias\",\n",
    "                                            self.bias_init,\n",
    "                                            (len(fmean),))\n",
    "        else: bias = 0.\n",
    "        # n_groups = inputs.shape[-1] // len(fmean)\n",
    "\n",
    "        ## Repeat gammas\n",
    "        gamma_f = jnp.concatenate([jnp.tile(f, reps=len(t)) for f,t in zip([gamma_f_a, gamma_f_t, gamma_f_d], [gamma_theta_a, gamma_theta_t, gamma_theta_d])])\n",
    "        gamma_f = jnp.tile(gamma_f, reps=2)\n",
    "        gamma_theta = jnp.concatenate([jnp.tile(t, reps=len(f)) for f,t in zip([gamma_f_a, gamma_f_t, gamma_f_d], [gamma_theta_a, gamma_theta_t, gamma_theta_d])])\n",
    "        gamma_theta = jnp.tile(gamma_theta, reps=2)\n",
    "\n",
    "        ## Repeating\n",
    "        cc = jnp.array([0,1,2])\n",
    "        cc = jnp.repeat(cc, repeats=jnp.array([64,32,32]), total_repeat_length=len(fmean))\n",
    "\n",
    "        kernel = jax.vmap(self.gaussian, in_axes=(None,None,0,0,0,0,None,0,None,None), out_axes=1)(fmean, theta_mean, fmean, theta_mean, gamma_f, gamma_theta, cc, cc, H_cc, 1)\n",
    "        kernel = kernel[None,None,:,:]\n",
    "\n",
    "        ## Add the batch dim if the input is a single element\n",
    "        if jnp.ndim(inputs) < 4: inputs = inputs[None,:]; had_batch = False\n",
    "        else: had_batch = True\n",
    "        outputs = lax.conv_general_dilated(\n",
    "                jnp.transpose(inputs,[0,3,1,2]),    # lhs = NCHW image tensor\n",
    "                jnp.transpose(kernel,[3,2,0,1]), # rhs = OIHW conv kernel tensor\n",
    "                (self.strides, self.strides),\n",
    "                self.padding)\n",
    "        ## Move the channels back to the last dim\n",
    "        outputs = jnp.transpose(outputs, (0,2,3,1))\n",
    "        if not had_batch: outputs = outputs[0]\n",
    "        return outputs + bias\n",
    "\n",
    "    @staticmethod\n",
    "    def gaussian(f, theta, fmean, theta_mean, gamma_f, gamma_theta, c_1, c_2, H_cc, A=1):\n",
    "        return H_cc[c_1,c_2]*A*jnp.exp(-((gamma_f**2)*(f-fmean)**2)/(2))*jnp.exp(-((gamma_theta**2)*(theta-theta_mean)**2)/(2))"
   ]
  },
  {
   "cell_type": "code",
   "execution_count": 118,
   "metadata": {
    "metadata": {}
   },
   "outputs": [],
   "source": [
    "class GDNSpatioChromaFreqOrient(nn.Module):\n",
    "    \"\"\"Generalized Divisive Normalization.\"\"\"\n",
    "    kernel_size: Union[int, Sequence[int]]\n",
    "    strides: int = 1\n",
    "    padding: str = \"SAME\"\n",
    "    # inputs_star: float = 1.\n",
    "    # outputs_star: Union[None, float] = None\n",
    "    fs: int = 1\n",
    "    apply_independently: bool = False\n",
    "    bias_init: Callable = nn.initializers.ones_init()\n",
    "    alpha: float = 2.\n",
    "    epsilon: float = 1/2 # Exponential of the denominator\n",
    "    eps: float = 1e-6 # Numerical stability in the denominator\n",
    "\n",
    "    @nn.compact\n",
    "    def __call__(self,\n",
    "                 inputs,\n",
    "                 fmean,\n",
    "                 theta_mean,\n",
    "                 train=False,\n",
    "                 ):\n",
    "        b, h, w, c = inputs.shape\n",
    "        bias = self.param(\"bias\",\n",
    "                          #equal_to(inputs_star/10),\n",
    "                          self.bias_init,\n",
    "                          (c,))\n",
    "        # is_initialized = self.has_variable(\"batch_stats\", \"inputs_star\")\n",
    "        # inputs_star = self.variable(\"batch_stats\", \"inputs_star\", lambda x: jnp.ones(x)*self.inputs_star, (len(self.inputs_star),))\n",
    "        # inputs_star_ = jnp.ones_like(inputs)*inputs_star.value\n",
    "        GL = GaussianLayerGamma(features=c, kernel_size=self.kernel_size, strides=self.strides, padding=\"VALID\", fs=self.fs, xmean=self.kernel_size/self.fs/2, ymean=self.kernel_size/self.fs/2, normalize_prob=config.NORMALIZE_PROB, normalize_energy=config.NORMALIZE_ENERGY, use_bias=False, feature_group_count=c)\n",
    "        FOG = ChromaFreqOrientGaussianGamma()\n",
    "        outputs = GL(pad_same_from_kernel_size(inputs, kernel_size=self.kernel_size, mode=self.padding)**self.alpha, train=train)#/(self.kernel_size**2)\n",
    "        outputs = FOG(outputs, fmean=fmean, theta_mean=theta_mean)\n",
    "\n",
    "        ## Coef\n",
    "        # coef = GL(inputs_star_**self.alpha, train=train)#/(self.kernel_size**2)\n",
    "        # coef = FG(coef, fmean=fmean)\n",
    "        # coef = rearrange(coef, \"b h w (phase theta f) -> b h w (phase f theta)\", b=b, h=h, w=w, phase=2, f=config.N_SCALES, theta=config.N_ORIENTATIONS)\n",
    "        # coef = OG(coef, theta_mean=theta_mean) + bias\n",
    "        # coef = rearrange(coef, \"b h w (phase f theta) -> b h w (phase theta f)\", b=b, h=h, w=w, phase=2, f=config.N_SCALES, theta=config.N_ORIENTATIONS)\n",
    "        # coef = jnp.clip(coef+bias, a_min=1e-5)**self.epsilon\n",
    "        # # coef = inputs_star.value * coef\n",
    "        # if self.outputs_star is not None: coef = coef/inputs_star.value*self.outputs_star\n",
    "\n",
    "        # if is_initialized and train:\n",
    "        #     inputs_star.value = (inputs_star.value + jnp.quantile(jnp.abs(inputs), q=0.95, axis=(0,1,2)))/2\n",
    "        # return coef * inputs / (jnp.clip(denom+bias, a_min=1e-5)**self.epsilon + self.eps)\n",
    "        return inputs / (jnp.clip(outputs+bias, a_min=1e-5)**self.epsilon + self.eps)"
   ]
  },
  {
   "cell_type": "code",
   "execution_count": 119,
   "metadata": {
    "metadata": {}
   },
   "outputs": [],
   "source": [
    "class GaborLayerGammaHumanLike_(nn.Module):\n",
    "    \"\"\"Parametric Gabor layer with particular initialization.\"\"\"\n",
    "    n_scales: Sequence[int] # [A, T, D]\n",
    "    n_orientations: Sequence[int] # [A, T, D]\n",
    "\n",
    "    kernel_size: Union[int, Sequence[int]]\n",
    "    strides: int = 1\n",
    "    padding: str = \"SAME\"\n",
    "    feature_group_count: int = 1\n",
    "\n",
    "    use_bias: bool = False\n",
    "    xmean: float = 0.5\n",
    "    ymean: float = 0.5\n",
    "    fs: float = 1 # Sampling frequency\n",
    "    phase = jnp.array([0., jnp.pi/2.])\n",
    "\n",
    "    normalize_prob: bool = True\n",
    "    normalize_energy: bool = False\n",
    "    zero_mean: bool = False\n",
    "    train_A: bool = False\n",
    "\n",
    "    @nn.compact\n",
    "    def __call__(self,\n",
    "                 inputs,\n",
    "                 train=False,\n",
    "                 return_freq=False,\n",
    "                 return_theta=False,\n",
    "                 ):\n",
    "        total_scales = jnp.sum(jnp.array(self.n_scales))\n",
    "        total_orientations = jnp.sum(jnp.array(self.n_orientations))\n",
    "        features = jnp.sum(jnp.array([s*o*len(self.phase) for s, o in zip(self.n_scales, self.n_orientations)]))\n",
    "\n",
    "        is_initialized = self.has_variable(\"precalc_filter\", \"kernel\")\n",
    "        precalc_filters = self.variable(\"precalc_filter\",\n",
    "                                        \"kernel\",\n",
    "                                        jnp.zeros,\n",
    "                                        (self.kernel_size, self.kernel_size, inputs.shape[-1], features))\n",
    "        freq_a = self.param(\"freq_a\",\n",
    "                           freq_scales_init(n_scales=self.n_scales[0], fs=self.fs),\n",
    "                           (self.n_scales[0],))\n",
    "        gammax_a = self.param(\"gammax_a\",\n",
    "                           k_array(k=0.4, arr=1/(freq_a**0.8)),\n",
    "                           (self.n_scales[0],))\n",
    "        gammay_a = self.param(\"gammay_a\",\n",
    "                            equal_to(gammax_a*0.8),\n",
    "                            (self.n_scales[0],))\n",
    "        theta_a = self.param(\"theta_a\",\n",
    "                           linspace(start=0, stop=jnp.pi, num=self.n_orientations[0]),\n",
    "                           (self.n_orientations[0],))\n",
    "        sigma_theta_a = self.param(\"sigma_theta_a\",\n",
    "                                  equal_to(theta_a),\n",
    "                                  (self.n_orientations[0],))\n",
    "\n",
    "        freq_t = self.param(\"freq_t\",\n",
    "                           freq_scales_init(n_scales=self.n_scales[1], fs=self.fs),\n",
    "                           (self.n_scales[1],))\n",
    "        gammax_t = self.param(\"gammax_t\",\n",
    "                           k_array(k=0.4, arr=1/(freq_t**0.8)),\n",
    "                           (self.n_scales[1],))\n",
    "        gammay_t = self.param(\"gammay_t\",\n",
    "                            equal_to(gammax_t*0.8),\n",
    "                            (self.n_scales[1],))\n",
    "        theta_t = self.param(\"theta_t\",\n",
    "                           linspace(start=0, stop=jnp.pi, num=self.n_orientations[1]),\n",
    "                           (self.n_orientations[1],))\n",
    "        sigma_theta_t = self.param(\"sigma_theta_t\",\n",
    "                                  equal_to(theta_t),\n",
    "                                  (self.n_orientations[1],))\n",
    "\n",
    "        freq_d = self.param(\"freq_d\",\n",
    "                           freq_scales_init(n_scales=self.n_scales[2], fs=self.fs),\n",
    "                           (self.n_scales[2],))\n",
    "        gammax_d = self.param(\"gammax_d\",\n",
    "                           k_array(k=0.4, arr=1/(freq_d**0.8)),\n",
    "                           (self.n_scales[2],))\n",
    "        gammay_d = self.param(\"gammay_d\",\n",
    "                            equal_to(gammax_d*0.8),\n",
    "                            (self.n_scales[2],))\n",
    "        theta_d = self.param(\"theta_d\",\n",
    "                           linspace(start=0, stop=jnp.pi, num=self.n_orientations[2]),\n",
    "                           (self.n_orientations[2],))\n",
    "        sigma_theta_d = self.param(\"sigma_theta_d\",\n",
    "                                  equal_to(theta_d),\n",
    "                                  (self.n_orientations[2],))\n",
    "\n",
    "        # A = self.param(\"A\",\n",
    "        #                nn.initializers.ones_init(),\n",
    "        #                (inputs.shape[-1], features)) if self.train_A else jnp.ones(shape=(inputs.shape[-1], features))\n",
    "        A = self.param(\"A\",\n",
    "                       nn.initializers.ones_init(),\n",
    "                       (inputs.shape[-1], 128))\n",
    "        if self.use_bias: bias = self.param(\"bias\",\n",
    "                                            self.bias_init,\n",
    "                                            (features,))\n",
    "        else: bias = 0.\n",
    "\n",
    "        if is_initialized and not train: \n",
    "            kernel = precalc_filters.value\n",
    "        elif is_initialized and train: \n",
    "            x, y = self.generate_dominion()\n",
    "            ## A\n",
    "            kernel_a = jax.vmap(self.gabor, in_axes=(None,None,None,None,0,0,0,None,None,None,None,None,None,None), out_axes=0)\n",
    "            kernel_a = jax.vmap(kernel_a, in_axes=(None,None,None,None,None,None,None,0,0,None,None,None,None,None), out_axes=0)\n",
    "            kernel_a = jax.vmap(kernel_a, in_axes=(None,None,None,None,None,None,None,None,None,0,None,None,None,None), out_axes=0)(x, y, self.xmean, self.ymean, gammax_a, gammay_a, freq_a, theta_a, sigma_theta_a, self.phase, 1, self.normalize_prob, self.normalize_energy, self.zero_mean)\n",
    "            kernel_a = rearrange(kernel_a, \"phases rots fs_sigmas kx ky -> kx ky (phases rots fs_sigmas)\")\n",
    "            kernel_a = repeat(kernel_a, \"kx ky c_out -> kx ky c_in c_out\", c_in=inputs.shape[-1], c_out=kernel_a.shape[-1])\n",
    "\n",
    "            ## T\n",
    "            kernel_t = jax.vmap(self.gabor, in_axes=(None,None,None,None,0,0,0,None,None,None,None,None,None,None), out_axes=0)\n",
    "            kernel_t = jax.vmap(kernel_t, in_axes=(None,None,None,None,None,None,None,0,0,None,None,None,None,None), out_axes=0)\n",
    "            kernel_t = jax.vmap(kernel_t, in_axes=(None,None,None,None,None,None,None,None,None,0,None,None,None,None), out_axes=0)(x, y, self.xmean, self.ymean, gammax_t, gammay_t, freq_t, theta_t, sigma_theta_t, self.phase, 1, self.normalize_prob, self.normalize_energy, self.zero_mean)\n",
    "            kernel_t = rearrange(kernel_t, \"phases rots fs_sigmas kx ky -> kx ky (phases rots fs_sigmas)\")\n",
    "            kernel_t = repeat(kernel_t, \"kx ky c_out -> kx ky c_in c_out\", c_in=inputs.shape[-1], c_out=kernel_t.shape[-1])\n",
    "\n",
    "            ## D\n",
    "            kernel_d = jax.vmap(self.gabor, in_axes=(None,None,None,None,0,0,0,None,None,None,None,None,None,None), out_axes=0)\n",
    "            kernel_d = jax.vmap(kernel_d, in_axes=(None,None,None,None,None,None,None,0,0,None,None,None,None,None), out_axes=0)\n",
    "            kernel_d = jax.vmap(kernel_d, in_axes=(None,None,None,None,None,None,None,None,None,0,None,None,None,None), out_axes=0)(x, y, self.xmean, self.ymean, gammax_d, gammay_d, freq_d, theta_d, sigma_theta_d, self.phase, 1, self.normalize_prob, self.normalize_energy, self.zero_mean)\n",
    "            kernel_d = rearrange(kernel_d, \"phases rots fs_sigmas kx ky -> kx ky (phases rots fs_sigmas)\")\n",
    "            kernel_d = repeat(kernel_d, \"kx ky c_out -> kx ky c_in c_out\", c_in=inputs.shape[-1], c_out=kernel_d.shape[-1])\n",
    "\n",
    "            ## Concat all of them\n",
    "            kernel = jnp.concatenate([kernel_a, kernel_t, kernel_d], axis=-1)\n",
    "            kernel = kernel * A[None,None,:,:]\n",
    "            precalc_filters.value = kernel\n",
    "        else:\n",
    "            kernel = precalc_filters.value\n",
    "\n",
    "        ## Add the batch dim if the input is a single element\n",
    "        if jnp.ndim(inputs) < 4: inputs = inputs[None,:]; had_batch = False\n",
    "        else: had_batch = True\n",
    "        outputs = lax.conv(jnp.transpose(inputs,[0,3,1,2]),    # lhs = NCHW image tensor\n",
    "               jnp.transpose(kernel,[3,2,0,1]), # rhs = OIHW conv kernel tensor\n",
    "               (self.strides, self.strides),\n",
    "               self.padding)\n",
    "        ## Move the channels back to the last dim\n",
    "        outputs = jnp.transpose(outputs, (0,2,3,1))\n",
    "        fmean = jnp.concatenate([jnp.tile(f, reps=len(t)) for f,t in zip([freq_a, freq_t, freq_d], [theta_a, theta_t, theta_d])])\n",
    "        fmean = jnp.tile(fmean, reps=2)\n",
    "        theta_mean = jnp.concatenate([jnp.tile(t, reps=len(f)) for f,t in zip([freq_a, freq_t, freq_d], [theta_a, theta_t, theta_d])])\n",
    "        theta_mean = jnp.tile(theta_mean, reps=2)\n",
    "\n",
    "        if not had_batch: outputs = outputs[0]\n",
    "        if return_freq and return_theta:\n",
    "            return outputs + bias, fmean, theta_mean \n",
    "        elif return_freq and not return_theta:\n",
    "            return outputs + bias, fmean\n",
    "        elif not return_freq and return_theta:\n",
    "            return outputs + bias, theta_mean\n",
    "        else:\n",
    "            return outputs + bias\n",
    "\n",
    "    @staticmethod\n",
    "    def gabor(x, y, xmean, ymean, gammax, gammay, freq, theta, sigma_theta, phase, A=1, normalize_prob=True, normalize_energy=False, zero_mean=False):\n",
    "        x, y = x-xmean, y-ymean\n",
    "        ## Obtain the normalization coeficient\n",
    "        gamma_vector = jnp.array([gammax, gammay])\n",
    "        inv_cov_matrix = jnp.diag(gamma_vector)**2\n",
    "        # det_cov_matrix = 1/jnp.linalg.det(cov_matrix)\n",
    "        # # A_norm = 1/(2*jnp.pi*jnp.sqrt(det_cov_matrix)) if normalize_prob else 1.\n",
    "        # A_norm = jnp.where(normalize_prob, 1/(2*jnp.pi*jnp.sqrt(det_cov_matrix)), 1.)\n",
    "        A_norm = 1.\n",
    "        \n",
    "        ## Rotate the sinusoid\n",
    "        rotation_matrix = jnp.array([[jnp.cos(sigma_theta), -jnp.sin(sigma_theta)],\n",
    "                                     [jnp.sin(sigma_theta), jnp.cos(sigma_theta)]])\n",
    "        rotated_covariance = rotation_matrix @ inv_cov_matrix @ jnp.transpose(rotation_matrix)\n",
    "        x_r_1 = rotated_covariance[0,0] * x + rotated_covariance[0,1] * y\n",
    "        y_r_1 = rotated_covariance[1,0] * x + rotated_covariance[1,1] * y\n",
    "        distance = x * x_r_1 + y * y_r_1\n",
    "        g = A_norm*jnp.exp(-distance/2) * jnp.cos(2*jnp.pi*freq*(x*jnp.cos(theta)+y*jnp.sin(theta)) + phase)\n",
    "        g = jnp.where(zero_mean, g - g.mean(), g)\n",
    "        E_norm = jnp.where(normalize_energy, jnp.sqrt(jnp.sum(g**2)), 1.)\n",
    "        return A*g/E_norm\n",
    "\n",
    "    def return_kernel(self, params, c_in=3):\n",
    "        x, y = self.generate_dominion()\n",
    "        sigmax, sigmay = jnp.exp(params[\"sigmax\"]), jnp.exp(params[\"sigmay\"])\n",
    "        kernel = jax.vmap(self.gabor, in_axes=(None,None,None,None,0,0,None,None,None,None,None,None,None), out_axes=0)\n",
    "        kernel = jax.vmap(kernel, in_axes=(None,None,None,None,None,None,0,None,None,None,None,None,None), out_axes=0)\n",
    "        kernel = jax.vmap(kernel, in_axes=(None,None,None,None,None,None,None,0,0,0,None,None,None), out_axes=0)(x, y, self.xmean, self.ymean, params[\"sigmax\"], params[\"sigmay\"], params[\"freq\"], params[\"theta\"], params[\"sigma_theta\"], self.phase, 1, self.normalize_prob, self.normalize_energy)\n",
    "        # kernel = rearrange(kernel, \"(c_in c_out) kx ky -> kx ky c_in c_out\", c_in=inputs.shape[-1], c_out=self.features)\n",
    "        kernel = rearrange(kernel, \"rots fs sigmas kx ky -> kx ky (rots fs sigmas)\")\n",
    "        kernel = repeat(kernel, \"kx ky c_out -> kx ky c_in c_out\", c_in=c_in, c_out=kernel.shape[-1])\n",
    "        return kernel\n",
    "    \n",
    "    def generate_dominion(self):\n",
    "        return jnp.meshgrid(jnp.linspace(0,self.kernel_size/self.fs,num=self.kernel_size), jnp.linspace(0,self.kernel_size/self.fs,num=self.kernel_size))"
   ]
  },
  {
   "cell_type": "code",
   "execution_count": 120,
   "metadata": {
    "metadata": {}
   },
   "outputs": [],
   "source": [
    "class PerceptNet(nn.Module):\n",
    "    \"\"\"IQA model inspired by the visual system.\"\"\"\n",
    "\n",
    "    @nn.compact\n",
    "    def __call__(self,\n",
    "                 inputs, # Assuming fs = 128 (cpd)\n",
    "                 **kwargs,\n",
    "                 ):\n",
    "        ## (Independent) Color equilibration (Gamma correction)\n",
    "        ## Might need to be the same for each number\n",
    "        ## bias = 0.1 / kernel = 0.5\n",
    "        if config.USE_GAMMA: outputs = GDNGamma()(inputs)\n",
    "        else: outputs = GDN(kernel_size=(1,1), apply_independently=True)(inputs)\n",
    "        \n",
    "        ## Color (ATD) Transformation\n",
    "        outputs = nn.Conv(features=3, kernel_size=(1,1), use_bias=False, name=\"Color\")(outputs)\n",
    "        outputs = nn.max_pool(outputs, window_shape=(2,2), strides=(2,2))\n",
    "        \n",
    "        ## GDN Star A - T - D [Separated]\n",
    "        outputs = GDN(kernel_size=(1,1), apply_independently=True)(outputs)\n",
    "\n",
    "        ## Center Surround (DoG)\n",
    "        ## Initialized so that 3 are positives and 3 are negatives and no interaction between channels is present\n",
    "        outputs = pad_same_from_kernel_size(outputs, kernel_size=config.CS_KERNEL_SIZE, mode=\"symmetric\")\n",
    "        outputs = CenterSurroundLogSigmaK(features=3, kernel_size=config.CS_KERNEL_SIZE, fs=21, use_bias=False, padding=\"VALID\")(outputs, **kwargs)\n",
    "        outputs = nn.max_pool(outputs, window_shape=(2,2), strides=(2,2))\n",
    "\n",
    "        ## GDN per channel with mean substraction in T and D (Spatial Gaussian Kernel)\n",
    "        ### fs = 32 / kernel_size = (11,11) -> 0.32 > 0.02 --> OK!\n",
    "        ## TO-DO: - Spatial Gaussian Kernel (0.02 deg) -> fs = 64/2 & 0.02*64/2 = sigma (px) = 0.69\n",
    "        outputs = GDNGaussian(kernel_size=config.GDNGAUSSIAN_KERNEL_SIZE, apply_independently=True, fs=32, padding=\"symmetric\", normalize_prob=config.NORMALIZE_PROB, normalize_energy=config.NORMALIZE_ENERGY)(outputs, **kwargs)\n",
    "\n",
    "        ## GaborLayer per channel with GDN mixing only same-origin-channel information\n",
    "        ### [Gaussian] sigma = 0.2 (deg) fs = 32 / kernel_size = (21,21) -> 21/32 = 0.66 --> OK!\n",
    "        outputs = pad_same_from_kernel_size(outputs, kernel_size=config.GABOR_KERNEL_SIZE, mode=\"symmetric\")\n",
    "        # outputs, fmean, theta_mean = GaborLayerGamma_(n_scales=4+2+2, n_orientations=8*3, kernel_size=config.GABOR_KERNEL_SIZE, fs=32, xmean=config.GABOR_KERNEL_SIZE/32/2, ymean=config.GABOR_KERNEL_SIZE/32/2, strides=1, padding=\"VALID\", normalize_prob=config.NORMALIZE_PROB, normalize_energy=config.NORMALIZE_ENERGY, zero_mean=config.ZERO_MEAN, use_bias=config.USE_BIAS, train_A=config.A_GABOR)(outputs, return_freq=True, return_theta=True, **kwargs)\n",
    "        outputs, fmean, theta_mean = GaborLayerGammaHumanLike_(n_scales=[4,2,2], n_orientations=[8,8,8], kernel_size=config.GABOR_KERNEL_SIZE, fs=32, xmean=config.GABOR_KERNEL_SIZE/32/2, ymean=config.GABOR_KERNEL_SIZE/32/2, strides=1, padding=\"VALID\", normalize_prob=config.NORMALIZE_PROB, normalize_energy=config.NORMALIZE_ENERGY, zero_mean=config.ZERO_MEAN, use_bias=config.USE_BIAS, train_A=config.A_GABOR)(outputs, return_freq=True, return_theta=True, **kwargs)\n",
    "        \n",
    "        ## Final GDN mixing Gabor information (?)\n",
    "        outputs = GDNSpatioChromaFreqOrient(kernel_size=21, strides=1, padding=\"symmetric\", fs=32, apply_independently=False)(outputs, fmean=fmean, theta_mean=theta_mean, **kwargs)\n",
    "\n",
    "        return outputs"
   ]
  },
  {
   "cell_type": "code",
   "execution_count": 121,
   "metadata": {
    "metadata": {}
   },
   "outputs": [],
   "source": [
    "class PerceptNetBaseline(nn.Module):\n",
    "    \"\"\"IQA model inspired by the visual system.\"\"\"\n",
    "\n",
    "    @nn.compact\n",
    "    def __call__(self,\n",
    "                 inputs,\n",
    "                 **kwargs,\n",
    "                 ):\n",
    "        outputs = GDN(kernel_size=1, strides=1, padding=\"SAME\", apply_independently=True)(inputs)\n",
    "        outputs = nn.Conv(features=3, kernel_size=(1,1), strides=1, padding=\"SAME\")(outputs)\n",
    "        outputs = nn.max_pool(outputs, window_shape=(2,2), strides=(2,2))\n",
    "        outputs = GDN(kernel_size=1, strides=1, padding=\"SAME\", apply_independently=False)(outputs)\n",
    "        outputs = nn.Conv(features=6, kernel_size=(config.CS_KERNEL_SIZE,config.CS_KERNEL_SIZE), strides=1, padding=\"SAME\")(outputs)\n",
    "        outputs = nn.max_pool(outputs, window_shape=(2,2), strides=(2,2))\n",
    "        outputs = GDN(kernel_size=config.GDNGAUSSIAN_KERNEL_SIZE, strides=1, padding=\"SAME\", apply_independently=False)(outputs)\n",
    "        outputs = nn.Conv(features=config.N_GABORS, kernel_size=(config.GABOR_KERNEL_SIZE,config.GABOR_KERNEL_SIZE), strides=1, padding=\"SAME\")(outputs)\n",
    "        outputs = GDN(kernel_size=config.GDNSPATIOFREQ_KERNEL_SIZE, strides=1, padding=\"SAME\", apply_independently=False)(outputs)\n",
    "        return outputs"
   ]
  },
  {
   "attachments": {},
   "cell_type": "markdown",
   "metadata": {},
   "source": [
    "## Define the metrics with `clu`"
   ]
  },
  {
   "cell_type": "code",
   "execution_count": 122,
   "metadata": {
    "metadata": {}
   },
   "outputs": [],
   "source": [
    "@struct.dataclass\n",
    "class Metrics(metrics.Collection):\n",
    "    \"\"\"Collection of metrics to be tracked during training.\"\"\"\n",
    "    loss: metrics.Average.from_output(\"loss\")\n",
    "    correlation_l: metrics.Average.from_output(\"correlation_l\")"
   ]
  },
  {
   "cell_type": "code",
   "execution_count": 123,
   "metadata": {
    "metadata": {}
   },
   "outputs": [],
   "source": [
    "@struct.dataclass\n",
    "class MetricsT(metrics.Collection):\n",
    "    \"\"\"Collection of metrics to be tracked during training.\"\"\"\n",
    "    loss: metrics.Average.from_output(\"loss\")"
   ]
  },
  {
   "attachments": {},
   "cell_type": "markdown",
   "metadata": {},
   "source": [
    "By default, `TrainState` doesn't include metrics, but it's very easy to subclass it so that it does:"
   ]
  },
  {
   "cell_type": "code",
   "execution_count": 124,
   "metadata": {
    "metadata": {}
   },
   "outputs": [],
   "source": [
    "class TrainState(train_state.TrainState):\n",
    "    metrics: Metrics\n",
    "    state: FrozenDict"
   ]
  },
  {
   "attachments": {},
   "cell_type": "markdown",
   "metadata": {},
   "source": [
    "We'll define a function that initializes the `TrainState` from a module, a rng key and some optimizer:"
   ]
  },
  {
   "cell_type": "code",
   "execution_count": 125,
   "metadata": {
    "metadata": {}
   },
   "outputs": [],
   "source": [
    "def create_train_state(module, key, tx, input_shape):\n",
    "    \"\"\"Creates the initial `TrainState`.\"\"\"\n",
    "    variables = module.init(key, jnp.ones(input_shape))\n",
    "    state, params = variables.pop('params')\n",
    "    return TrainState.create(\n",
    "        apply_fn=module.apply,\n",
    "        params=params,\n",
    "        state=state,\n",
    "        tx=tx,\n",
    "        metrics=Metrics.empty()\n",
    "    )"
   ]
  },
  {
   "cell_type": "code",
   "execution_count": 126,
   "metadata": {
    "metadata": {}
   },
   "outputs": [],
   "source": [
    "def create_train_state_t(module, key, tx, input_shape):\n",
    "    \"\"\"Creates the initial `TrainState`.\"\"\"\n",
    "    variables = module.init(key, jnp.ones(input_shape))\n",
    "    state, params = variables.pop('params')\n",
    "    return TrainState.create(\n",
    "        apply_fn=module.apply,\n",
    "        params=params,\n",
    "        state=state,\n",
    "        tx=tx,\n",
    "        metrics=MetricsT.empty()\n",
    "    )"
   ]
  },
  {
   "attachments": {},
   "cell_type": "markdown",
   "metadata": {},
   "source": [
    "## Defining the training step\n",
    "\n",
    "> We want to write a function that takes the `TrainState` and a batch of data can performs an optimization step."
   ]
  },
  {
   "cell_type": "code",
   "execution_count": 127,
   "metadata": {
    "metadata": {}
   },
   "outputs": [],
   "source": [
    "def pearson_correlation(vec1, vec2):\n",
    "    vec1 = vec1.squeeze()\n",
    "    vec2 = vec2.squeeze()\n",
    "    vec1_mean = vec1.mean()\n",
    "    vec2_mean = vec2.mean()\n",
    "    num = vec1-vec1_mean\n",
    "    num *= vec2-vec2_mean\n",
    "    num = num.sum()\n",
    "    denom = jnp.sqrt(jnp.sum((vec1-vec1_mean)**2))\n",
    "    denom *= jnp.sqrt(jnp.sum((vec2-vec2_mean)**2))\n",
    "    return num/denom"
   ]
  },
  {
   "cell_type": "code",
   "execution_count": 128,
   "metadata": {
    "metadata": {}
   },
   "outputs": [],
   "source": [
    "from functools import partial"
   ]
  },
  {
   "attachments": {},
   "cell_type": "markdown",
   "metadata": {},
   "source": [
    "## Train the model!"
   ]
  },
  {
   "cell_type": "code",
   "execution_count": 129,
   "metadata": {
    "metadata": {}
   },
   "outputs": [],
   "source": [
    "state = create_train_state_t(PerceptNet(), random.PRNGKey(config.SEED), optax.adam(config.LEARNER_LR), input_shape=(1,384,512,3))\n",
    "state = state.replace(params=clip_layer(state.params, \"GDN\", a_min=0))\n",
    "state = state.replace(params=clip_param(state.params, \"A\", a_min=0))"
   ]
  },
  {
   "cell_type": "code",
   "execution_count": 130,
   "metadata": {
    "metadata": {}
   },
   "outputs": [
    {
     "data": {
      "text/plain": [
       "frozen_dict_keys(['GDNGamma_0', 'Color', 'GDN_0', 'CenterSurroundLogSigmaK_0', 'GDNGaussian_0', 'GaborLayerGammaHumanLike__0', 'GDNSpatioChromaFreqOrient_0'])"
      ]
     },
     "execution_count": 130,
     "metadata": {},
     "output_type": "execute_result"
    }
   ],
   "source": [
    "state.params.keys()"
   ]
  },
  {
   "cell_type": "code",
   "execution_count": 131,
   "metadata": {
    "metadata": {}
   },
   "outputs": [],
   "source": [
    "pred, _ = state.apply_fn({\"params\": state.params, **state.state}, jnp.ones(shape=(1,384,512,3)), train=True, mutable=list(state.state.keys()))\n",
    "state = state.replace(state=_)"
   ]
  },
  {
   "cell_type": "code",
   "execution_count": 132,
   "metadata": {
    "metadata": {}
   },
   "outputs": [],
   "source": [
    "def check_trainable(path):\n",
    "    if not config.A_GDNSPATIOFREQORIENT:\n",
    "        if (\"GDNSpatioChromaFreqOrient_0\" in path) and (\"A\" in path):\n",
    "            return True\n",
    "    if \"Color\" in path:\n",
    "        if not config.TRAIN_JH:\n",
    "            return True\n",
    "    if \"CenterSurroundLogSigmaK_0\" in path:\n",
    "        if not config.TRAIN_CS:\n",
    "            return True\n",
    "    if \"Gabor\" in \"\".join(path):\n",
    "        if not config.TRAIN_GABOR:\n",
    "            return True\n",
    "    if \"GDNSpatioChromaFreqOrient_0\" not in path and config.TRAIN_ONLY_LAST_GDN:\n",
    "        return True\n",
    "    return False"
   ]
  },
  {
   "cell_type": "code",
   "execution_count": 133,
   "metadata": {
    "metadata": {}
   },
   "outputs": [
    {
     "data": {
      "text/plain": [
       "FrozenDict({\n",
       "    GDNGamma_0: {\n",
       "        kernel: 'non_trainable',\n",
       "        bias: 'non_trainable',\n",
       "    },\n",
       "    Color: {\n",
       "        kernel: 'non_trainable',\n",
       "    },\n",
       "    GDN_0: {\n",
       "        Conv_0: {\n",
       "            kernel: 'non_trainable',\n",
       "            bias: 'non_trainable',\n",
       "        },\n",
       "    },\n",
       "    CenterSurroundLogSigmaK_0: {\n",
       "        logsigma: 'non_trainable',\n",
       "        K: 'non_trainable',\n",
       "        A: 'non_trainable',\n",
       "    },\n",
       "    GDNGaussian_0: {\n",
       "        GaussianLayerGamma_0: {\n",
       "            gamma: 'non_trainable',\n",
       "            A: 'non_trainable',\n",
       "            bias: 'non_trainable',\n",
       "        },\n",
       "    },\n",
       "    GaborLayerGammaHumanLike__0: {\n",
       "        freq_a: 'non_trainable',\n",
       "        gammax_a: 'non_trainable',\n",
       "        gammay_a: 'non_trainable',\n",
       "        theta_a: 'non_trainable',\n",
       "        sigma_theta_a: 'non_trainable',\n",
       "        freq_t: 'non_trainable',\n",
       "        gammax_t: 'non_trainable',\n",
       "        gammay_t: 'non_trainable',\n",
       "        theta_t: 'non_trainable',\n",
       "        sigma_theta_t: 'non_trainable',\n",
       "        freq_d: 'non_trainable',\n",
       "        gammax_d: 'non_trainable',\n",
       "        gammay_d: 'non_trainable',\n",
       "        theta_d: 'non_trainable',\n",
       "        sigma_theta_d: 'non_trainable',\n",
       "        A: 'non_trainable',\n",
       "    },\n",
       "    GDNSpatioChromaFreqOrient_0: {\n",
       "        bias: 'non_trainable',\n",
       "        GaussianLayerGamma_0: {\n",
       "            gamma: 'non_trainable',\n",
       "            A: 'non_trainable',\n",
       "        },\n",
       "        ChromaFreqOrientGaussianGamma_0: {\n",
       "            gamma_f_a: 'non_trainable',\n",
       "            gamma_theta_a: 'non_trainable',\n",
       "            gamma_f_t: 'non_trainable',\n",
       "            gamma_theta_t: 'non_trainable',\n",
       "            gamma_f_d: 'non_trainable',\n",
       "            gamma_theta_d: 'non_trainable',\n",
       "            H_cc: 'non_trainable',\n",
       "        },\n",
       "    },\n",
       "})"
      ]
     },
     "execution_count": 133,
     "metadata": {},
     "output_type": "execute_result"
    }
   ],
   "source": [
    "# trainable_tree = freeze(flax.traverse_util.path_aware_map(lambda path, v: \"non_trainable\" if check_trainable(path)  else \"trainable\", state.params))\n",
    "trainable_tree = freeze(flax.traverse_util.path_aware_map(lambda path, v: \"non_trainable\", state.params))\n",
    "trainable_tree"
   ]
  },
  {
   "cell_type": "code",
   "execution_count": 134,
   "metadata": {
    "metadata": {}
   },
   "outputs": [],
   "source": [
    "optimizers = {\n",
    "    \"trainable\": optax.adam(learning_rate=3e-3),\n",
    "    \"non_trainable\": optax.set_to_zero(),\n",
    "}"
   ]
  },
  {
   "cell_type": "code",
   "execution_count": 135,
   "metadata": {
    "metadata": {}
   },
   "outputs": [],
   "source": [
    "tx = optax.multi_transform(optimizers, trainable_tree)"
   ]
  },
  {
   "cell_type": "code",
   "execution_count": 136,
   "metadata": {
    "metadata": {}
   },
   "outputs": [],
   "source": [
    "state_t = create_train_state_t(PerceptNet(), random.PRNGKey(config.SEED), tx, input_shape=(1,384,512,3))\n",
    "state_t = state_t.replace(params=clip_layer(state_t.params, \"GDN\", a_min=0))"
   ]
  },
  {
   "cell_type": "code",
   "execution_count": 137,
   "metadata": {
    "metadata": {}
   },
   "outputs": [],
   "source": [
    "# param_count = sum(x.size for x in jax.tree_util.tree_leaves(state.params))\n",
    "# trainable_param_count = sum([w.size if t==\"trainable\" else 0 for w, t in zip(jax.tree_util.tree_leaves(state.params), jax.tree_util.tree_leaves(trainable_tree))])\n",
    "# param_count, trainable_param_count"
   ]
  },
  {
   "cell_type": "code",
   "execution_count": 138,
   "metadata": {
    "metadata": {}
   },
   "outputs": [],
   "source": [
    "# wandb.run.summary[\"total_parameters\"] = param_count\n",
    "# wandb.run.summary[\"trainable_parameters\"] = trainable_param_count"
   ]
  },
  {
   "cell_type": "code",
   "execution_count": 139,
   "metadata": {
    "metadata": {}
   },
   "outputs": [],
   "source": [
    "state_t = state_t.replace(params=unfreeze(state_t.params))\n",
    "\n",
    "# ## DN 0 (Gamma)\n",
    "if config.USE_GAMMA:\n",
    "    state_t.params[\"GDNGamma_0\"][\"bias\"] = jnp.ones_like(state_t.params[\"GDNGamma_0\"][\"bias\"])*0.1\n",
    "    state_t.params[\"GDNGamma_0\"][\"kernel\"] = jnp.ones_like(state_t.params[\"GDNGamma_0\"][\"kernel\"])*0.5\n",
    "else:\n",
    "    state_t.params[\"GDN_0\"][\"Conv_0\"][\"bias\"] = jnp.ones_like(state_t.params[\"GDN_0\"][\"Conv_0\"][\"bias\"])*0.1\n",
    "    state_t.params[\"GDN_0\"][\"Conv_0\"][\"kernel\"] = jnp.ones_like(state_t.params[\"GDN_0\"][\"Conv_0\"][\"kernel\"])*0.5\n",
    "\n",
    "## Opponent color channel transformation\n",
    "if config.INIT_JH:\n",
    "    state_t.params[\"Color\"][\"kernel\"] = jnp.array([[39.0454,30.1207,14.27948],\n",
    "                                                  [115.8404,-63.3502,41.26816],\n",
    "                                                  [16.3118,30.2934,-61.51888]])[None,None,:,:]/163.5217\n",
    "\n",
    "## Center Surround\n",
    "state_t.params[\"CenterSurroundLogSigmaK_0\"][\"logsigma\"] = jnp.array([-1.9,-1.9,-1.9,\n",
    "                                                                   -1.76,-1.76,-1.76,\n",
    "                                                                   -1.76,-1.76,-1.76])\n",
    "state_t.params[\"CenterSurroundLogSigmaK_0\"][\"K\"] = jnp.array([1.1,1.1,1.1,\n",
    "                                                            5.0,5.0,5.0,\n",
    "                                                            5.0,5.0,5.0])\n",
    "state_t.params[\"CenterSurroundLogSigmaK_0\"][\"A\"] = jnp.array([1.,0.,0.,\n",
    "                                                            0.,1.,0.,\n",
    "                                                            0.,0.,1.])\n",
    "\n",
    "## GDNGaussian\n",
    "state_t.params[\"GDNGaussian_0\"][\"GaussianLayerGamma_0\"][\"gamma\"] = jnp.ones_like(state_t.params[\"GDNGaussian_0\"][\"GaussianLayerGamma_0\"][\"gamma\"])*(1./0.04)\n",
    "state_t.params[\"GDNGaussian_0\"][\"GaussianLayerGamma_0\"][\"bias\"] = jnp.ones_like(state_t.params[\"GDNGaussian_0\"][\"GaussianLayerGamma_0\"][\"bias\"])*0.1\n",
    "\n",
    "## Gabor\n",
    "if config.INIT_GABOR:\n",
    "    state_t.params[\"GaborLayerGammaHumanLike__0\"][\"freq_a\"] = jnp.array([2.,4.,8.,16.]) \n",
    "    state_t.params[\"GaborLayerGammaHumanLike__0\"][\"freq_t\"] = jnp.array([3.,6.]) \n",
    "    state_t.params[\"GaborLayerGammaHumanLike__0\"][\"freq_d\"] = jnp.array([3.,6.])\n",
    "\n",
    "    state_t.params[\"GaborLayerGammaHumanLike__0\"][\"gammax_a\"] = state_t.params[\"GaborLayerGammaHumanLike__0\"][\"freq_a\"]**0.9\n",
    "    state_t.params[\"GaborLayerGammaHumanLike__0\"][\"gammay_a\"] = 0.8*state_t.params[\"GaborLayerGammaHumanLike__0\"][\"gammax_a\"]\n",
    "\n",
    "    state_t.params[\"GaborLayerGammaHumanLike__0\"][\"gammax_t\"] = state_t.params[\"GaborLayerGammaHumanLike__0\"][\"freq_t\"]**0.9\n",
    "    state_t.params[\"GaborLayerGammaHumanLike__0\"][\"gammay_t\"] = 0.8*state_t.params[\"GaborLayerGammaHumanLike__0\"][\"gammax_t\"]\n",
    "\n",
    "    state_t.params[\"GaborLayerGammaHumanLike__0\"][\"gammax_d\"] = state_t.params[\"GaborLayerGammaHumanLike__0\"][\"freq_d\"]**0.9\n",
    "    state_t.params[\"GaborLayerGammaHumanLike__0\"][\"gammay_d\"] = 0.8*state_t.params[\"GaborLayerGammaHumanLike__0\"][\"gammax_d\"]\n",
    "    # state_t.params[\"GaborLayerGammaHumanLike__0\"][\"theta_a\"] = jnp.tile(jnp.linspace(0., jnp.pi, num=16), reps=128//16)\n",
    "    # state_t.params[\"GaborLayerGammaHumanLike__0\"][\"sigma_theta_a\"] = state_t.params[\"GaborLayerGammaHumanLike__0\"][\"theta_a\"]\n",
    "    # state_t.params[\"GaborLayerGammaHumanLike__0\"][\"phase_a\"] = jnp.repeat(jnp.array([0., 90.]), repeats=64)    \n",
    "\n",
    "    A_a = jnp.zeros(shape=(3,64), dtype=jnp.float32)\n",
    "    A_a = A_a.at[0,:].set(1.)\n",
    "    A_t = jnp.zeros(shape=(3,32), dtype=jnp.float32)\n",
    "    A_t = A_t.at[1,:].set(1.)\n",
    "    A_d = jnp.zeros(shape=(3,32), dtype=jnp.float32)\n",
    "    A_d = A_d.at[2,:].set(1.)\n",
    "    state_t.params[\"GaborLayerGammaHumanLike__0\"][\"A\"] = jnp.concatenate([A_a, A_t, A_d], axis=-1)\n",
    "\n",
    "## GDNSpatioChromaFreqOrient\n",
    "# state_t.params[\"GDNSpatioChromaFreqOrient_0\"][\"GaussianLayerGamma_0\"][\"gamma\"] = jnp.ones_like(state_t.params[\"GDNSpatioChromaFreqOrient_0\"][\"GaussianLayerGamma_0\"][\"gamma\"])*(1./0.1)\n",
    "# state_t.params[\"GDNSpatioChromaFreqOrient_0\"][\"OrientGaussianGamma_0\"][\"gamma\"] = jnp.ones_like(state_t.params[\"GDNSpatioChromaFreqOrient_0\"][\"OrientGaussianGamma_0\"][\"gamma\"])*(1/20)\n",
    "# state_t.params[\"GDNSpatioChromaFreqOrient_0\"][\"bias\"] = jnp.tile(jnp.array([0.001, 0.002, 0.0035, 0.01])/100, reps=config.N_ORIENTATIONS*2)\n",
    "state_t.params[\"GDNSpatioChromaFreqOrient_0\"][\"ChromaFreqOrientGaussianGamma_0\"][\"H_cc\"] = jnp.eye(3,3)\n",
    "state_t.params[\"GDNSpatioChromaFreqOrient_0\"][\"ChromaFreqOrientGaussianGamma_0\"][\"gamma_theta_a\"] = jnp.ones_like(state_t.params[\"GDNSpatioChromaFreqOrient_0\"][\"ChromaFreqOrientGaussianGamma_0\"][\"gamma_theta_a\"])*(1/20)\n",
    "state_t.params[\"GDNSpatioChromaFreqOrient_0\"][\"ChromaFreqOrientGaussianGamma_0\"][\"gamma_theta_t\"] = jnp.ones_like(state_t.params[\"GDNSpatioChromaFreqOrient_0\"][\"ChromaFreqOrientGaussianGamma_0\"][\"gamma_theta_t\"])*(1/20)\n",
    "state_t.params[\"GDNSpatioChromaFreqOrient_0\"][\"ChromaFreqOrientGaussianGamma_0\"][\"gamma_theta_d\"] = jnp.ones_like(state_t.params[\"GDNSpatioChromaFreqOrient_0\"][\"ChromaFreqOrientGaussianGamma_0\"][\"gamma_theta_d\"])*(1/20)\n",
    "\n",
    "\n",
    "state_t = state_t.replace(params=freeze(state_t.params))"
   ]
  },
  {
   "cell_type": "code",
   "execution_count": 140,
   "metadata": {
    "metadata": {}
   },
   "outputs": [],
   "source": [
    "pred, _ = state_t.apply_fn({\"params\": state_t.params, **state_t.state}, jnp.ones(shape=(1,384,512,3)), train=True, mutable=list(state_t.state.keys()))\n",
    "state_t = state_t.replace(state=_)"
   ]
  },
  {
   "cell_type": "code",
   "execution_count": 141,
   "metadata": {
    "metadata": {}
   },
   "outputs": [],
   "source": [
    "teacher_vars = {\"params\": state_t.params, **state_t.state}"
   ]
  },
  {
   "cell_type": "code",
   "execution_count": 142,
   "metadata": {
    "metadata": {}
   },
   "outputs": [],
   "source": [
    "tx = optax.adam(learning_rate=config.LEARNER_LR)\n",
    "state = create_train_state(PerceptNetBaseline(), random.PRNGKey(config.SEED), tx, input_shape=(1,384,512,3))\n",
    "state = state.replace(params=clip_layer(state.params, \"GDN\", a_min=0))"
   ]
  },
  {
   "cell_type": "markdown",
   "metadata": {},
   "source": [
    "Before actually training the model we're going to set up the checkpointer to be able to save our trained models:"
   ]
  },
  {
   "cell_type": "code",
   "execution_count": 143,
   "metadata": {
    "metadata": {}
   },
   "outputs": [],
   "source": [
    "orbax_checkpointer = orbax.checkpoint.PyTreeCheckpointer()\n",
    "save_args = orbax_utils.save_args_from_target(state)"
   ]
  },
  {
   "cell_type": "code",
   "execution_count": 144,
   "metadata": {
    "metadata": {}
   },
   "outputs": [],
   "source": [
    "orbax_checkpointer_t = orbax.checkpoint.PyTreeCheckpointer()\n",
    "save_args_t = orbax_utils.save_args_from_target(state_t)"
   ]
  },
  {
   "cell_type": "code",
   "execution_count": 145,
   "metadata": {
    "metadata": {}
   },
   "outputs": [],
   "source": [
    "state_t = orbax_checkpointer_t.restore(f\"{prev_run.dir}/model-best\", item=state_t)"
   ]
  },
  {
   "cell_type": "code",
   "execution_count": 146,
   "metadata": {
    "metadata": {}
   },
   "outputs": [],
   "source": [
    "from functools import partial"
   ]
  },
  {
   "cell_type": "code",
   "execution_count": 147,
   "metadata": {
    "metadata": {}
   },
   "outputs": [],
   "source": [
    "@jax.jit\n",
    "def eval_step(state, batch):\n",
    "    img, dist, mos = batch\n",
    "    pred_img = state.apply_fn({\"params\": state.params, **state.state}, img, train=False)\n",
    "    pred_dist = state.apply_fn({\"params\": state.params, **state.state}, dist, train=False)\n",
    "    dist = ((pred_img-pred_dist)**2).sum(axis=(1,2,3))**(1/2)\n",
    "    return dist, mos"
   ]
  },
  {
   "cell_type": "code",
   "execution_count": 148,
   "metadata": {
    "metadata": {}
   },
   "outputs": [],
   "source": [
    "from tqdm.auto import tqdm\n",
    "import scipy.stats as stats"
   ]
  },
  {
   "cell_type": "code",
   "execution_count": 149,
   "metadata": {
    "metadata": {}
   },
   "outputs": [
    {
     "name": "stderr",
     "output_type": "stream",
     "text": [
      "2024-07-08 21:21:12.344857: I tensorflow/core/common_runtime/executor.cc:1197] [/device:CPU:0] (DEBUG INFO) Executor start aborting (this does not indicate an error and you can ignore this message): INVALID_ARGUMENT: You must feed a value for placeholder tensor 'Placeholder/_1' with dtype string and shape [1632]\n",
      "\t [[{{node Placeholder/_1}}]]\n"
     ]
    },
    {
     "data": {
      "application/vnd.jupyter.widget-view+json": {
       "model_id": "37caf8cfe6984aec8804271af1fbabdd",
       "version_major": 2,
       "version_minor": 0
      },
      "text/plain": [
       "  0%|          | 0/25 [00:00<?, ?it/s]"
      ]
     },
     "metadata": {},
     "output_type": "display_data"
    }
   ],
   "source": [
    "dists, moses = [], []\n",
    "for batch in tqdm(dst_train_rdy.as_numpy_iterator(), total=len(dst_train_rdy)):\n",
    "    dist, mos = eval_step(state_t, batch)\n",
    "    dists.extend(dist)\n",
    "    moses.extend(mos)"
   ]
  },
  {
   "cell_type": "code",
   "execution_count": 150,
   "metadata": {
    "metadata": {}
   },
   "outputs": [
    {
     "data": {
      "text/plain": [
       "-0.8311828930127008"
      ]
     },
     "execution_count": 150,
     "metadata": {},
     "output_type": "execute_result"
    }
   ],
   "source": [
    "corr_t_train, _ = stats.pearsonr(dists, moses)\n",
    "corr_t_train"
   ]
  },
  {
   "cell_type": "code",
   "execution_count": 151,
   "metadata": {
    "metadata": {}
   },
   "outputs": [
    {
     "name": "stderr",
     "output_type": "stream",
     "text": [
      "2024-07-08 21:21:20.303152: I tensorflow/core/common_runtime/executor.cc:1197] [/device:CPU:0] (DEBUG INFO) Executor start aborting (this does not indicate an error and you can ignore this message): INVALID_ARGUMENT: You must feed a value for placeholder tensor 'Placeholder/_2' with dtype double and shape [2880]\n",
      "\t [[{{node Placeholder/_2}}]]\n"
     ]
    },
    {
     "data": {
      "application/vnd.jupyter.widget-view+json": {
       "model_id": "2885d7fe4efc438f8277cd4d9cd5aa1a",
       "version_major": 2,
       "version_minor": 0
      },
      "text/plain": [
       "  0%|          | 0/45 [00:00<?, ?it/s]"
      ]
     },
     "metadata": {},
     "output_type": "display_data"
    }
   ],
   "source": [
    "dists, moses = [], []\n",
    "for batch in tqdm(dst_val_rdy.as_numpy_iterator(), total=len(dst_val_rdy)):\n",
    "    dist, mos = eval_step(state_t, batch)\n",
    "    dists.extend(dist)\n",
    "    moses.extend(mos)"
   ]
  },
  {
   "cell_type": "code",
   "execution_count": 152,
   "metadata": {
    "metadata": {}
   },
   "outputs": [
    {
     "data": {
      "text/plain": [
       "-0.8094824565589738"
      ]
     },
     "execution_count": 152,
     "metadata": {},
     "output_type": "execute_result"
    }
   ],
   "source": [
    "corr_t_val, _ = stats.pearsonr(dists, moses)\n",
    "corr_t_val"
   ]
  },
  {
   "cell_type": "code",
   "execution_count": 153,
   "metadata": {
    "metadata": {}
   },
   "outputs": [],
   "source": [
    "for i in range(500):\n",
    "    wandb.log({\"train_correlation_l\": corr_t_train,\n",
    "            \"val_correlation_l\": corr_t_val})"
   ]
  },
  {
   "cell_type": "code",
   "execution_count": 154,
   "metadata": {
    "metadata": {}
   },
   "outputs": [
    {
     "data": {
      "text/html": [
       "Waiting for W&B process to finish... <strong style=\"color:green\">(success).</strong>"
      ],
      "text/plain": [
       "<IPython.core.display.HTML object>"
      ]
     },
     "metadata": {},
     "output_type": "display_data"
    },
    {
     "data": {
      "application/vnd.jupyter.widget-view+json": {
       "model_id": "907340a524774a41bdbf46b8126db169",
       "version_major": 2,
       "version_minor": 0
      },
      "text/plain": [
       "VBox(children=(Label(value='0.005 MB of 0.005 MB uploaded (0.000 MB deduped)\\r'), FloatProgress(value=1.0, max…"
      ]
     },
     "metadata": {},
     "output_type": "display_data"
    },
    {
     "data": {
      "text/html": [
       "<style>\n",
       "    table.wandb td:nth-child(1) { padding: 0 10px; text-align: left ; width: auto;} td:nth-child(2) {text-align: left ; width: 100%}\n",
       "    .wandb-row { display: flex; flex-direction: row; flex-wrap: wrap; justify-content: flex-start; width: 100% }\n",
       "    .wandb-col { display: flex; flex-direction: column; flex-basis: 100%; flex: 1; padding: 10px; }\n",
       "    </style>\n",
       "<div class=\"wandb-row\"><div class=\"wandb-col\"><h3>Run history:</h3><br/><table class=\"wandb\"><tr><td>train_correlation_l</td><td>▁▁▁▁▁▁▁▁▁▁▁▁▁▁▁▁▁▁▁▁▁▁▁▁▁▁▁▁▁▁▁▁▁▁▁▁▁▁▁▁</td></tr><tr><td>val_correlation_l</td><td>▁▁▁▁▁▁▁▁▁▁▁▁▁▁▁▁▁▁▁▁▁▁▁▁▁▁▁▁▁▁▁▁▁▁▁▁▁▁▁▁</td></tr></table><br/></div><div class=\"wandb-col\"><h3>Run summary:</h3><br/><table class=\"wandb\"><tr><td>train_correlation_l</td><td>-0.83118</td></tr><tr><td>val_correlation_l</td><td>-0.80948</td></tr></table><br/></div></div>"
      ],
      "text/plain": [
       "<IPython.core.display.HTML object>"
      ]
     },
     "metadata": {},
     "output_type": "display_data"
    },
    {
     "data": {
      "text/html": [
       " View run <strong style=\"color:#cdcd00\">Teacher_FinalModel</strong> at: <a href='https://wandb.ai/jorgvt/ParametricKnowledgeDistillation/runs/8x0427e9' target=\"_blank\">https://wandb.ai/jorgvt/ParametricKnowledgeDistillation/runs/8x0427e9</a><br/>Synced 6 W&B file(s), 0 media file(s), 0 artifact file(s) and 0 other file(s)"
      ],
      "text/plain": [
       "<IPython.core.display.HTML object>"
      ]
     },
     "metadata": {},
     "output_type": "display_data"
    },
    {
     "data": {
      "text/html": [
       "Find logs at: <code>./wandb/run-20240708_212054-8x0427e9/logs</code>"
      ],
      "text/plain": [
       "<IPython.core.display.HTML object>"
      ]
     },
     "metadata": {},
     "output_type": "display_data"
    }
   ],
   "source": [
    "wandb.finish()"
   ]
  }
 ],
 "metadata": {
  "kernelspec": {
   "display_name": "python3",
   "language": "python",
   "name": "python3"
  },
  "language_info": {
   "codemirror_mode": {
    "name": "ipython",
    "version": 3
   },
   "file_extension": ".py",
   "mimetype": "text/x-python",
   "name": "python",
   "nbconvert_exporter": "python",
   "pygments_lexer": "ipython3",
   "version": "3.8.16"
  }
 },
 "nbformat": 4,
 "nbformat_minor": 2
}
