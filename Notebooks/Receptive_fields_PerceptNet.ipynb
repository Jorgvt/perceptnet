{
 "cells": [
  {
   "cell_type": "code",
   "execution_count": 1,
   "metadata": {},
   "outputs": [
    {
     "name": "stdout",
     "output_type": "stream",
     "text": [
      "2.6.0\n"
     ]
    }
   ],
   "source": [
    "import os\n",
    "os.environ[\"CUDA_VISIBLE_DEVICES\"]=\"3\"\n",
    "from tqdm.auto import tqdm\n",
    "\n",
    "import tensorflow as tf\n",
    "import numpy as np\n",
    "import matplotlib.pyplot as plt\n",
    "from tensorflow.keras.models import Model\n",
    "\n",
    "from networks import PerceptNetSeq\n",
    "\n",
    "print(tf.__version__)"
   ]
  },
  {
   "cell_type": "code",
   "execution_count": 2,
   "metadata": {},
   "outputs": [
    {
     "name": "stderr",
     "output_type": "stream",
     "text": [
      "2022-04-12 15:17:51.314331: I tensorflow/core/common_runtime/gpu/gpu_device.cc:1510] Created device /job:localhost/replica:0/task:0/device:GPU:0 with 5435 MB memory:  -> device: 0, name: NVIDIA GeForce GTX TITAN Black, pci bus id: 0000:84:00.0, compute capability: 3.5\n"
     ]
    }
   ],
   "source": [
    "img_height, img_width, channels = 384, 512, 3\n",
    "input_shape = (img_height, img_width, channels)\n",
    "# Build the model and load the weights\n",
    "model = PerceptNetSeq()\n",
    "model.build(input_shape=(None, 384, 512, 3))\n",
    "model.load_weights('../saved_networks/model-best.h5')"
   ]
  },
  {
   "cell_type": "code",
   "execution_count": 3,
   "metadata": {},
   "outputs": [
    {
     "data": {
      "text/plain": [
       "[<GDN_Jorge.GDN at 0x7fe4fa740f70>,\n",
       " <keras.layers.convolutional.Conv2D at 0x7fe4fa6eda00>,\n",
       " <keras.layers.pooling.MaxPooling2D at 0x7fe4fa6ed9a0>,\n",
       " <GDN_Jorge.GDN at 0x7fe4fa6edd00>,\n",
       " <keras.layers.convolutional.Conv2D at 0x7fe4f871b430>,\n",
       " <keras.layers.pooling.MaxPooling2D at 0x7fe4f871b400>,\n",
       " <GDN_Jorge.GDN at 0x7fe4f871b6d0>,\n",
       " <keras.layers.convolutional.Conv2D at 0x7fe4f871be20>,\n",
       " <GDN_Jorge.GDN at 0x7fe4f871bdf0>]"
      ]
     },
     "execution_count": 3,
     "metadata": {},
     "output_type": "execute_result"
    }
   ],
   "source": [
    "model.model.layers"
   ]
  },
  {
   "cell_type": "code",
   "execution_count": 3,
   "metadata": {},
   "outputs": [
    {
     "name": "stdout",
     "output_type": "stream",
     "text": [
      "Model: \"model\"\n",
      "_________________________________________________________________\n",
      "Layer (type)                 Output Shape              Param #   \n",
      "=================================================================\n",
      "input_1 (InputLayer)         [(None, 384, 512, 3)]     0         \n",
      "_________________________________________________________________\n",
      "gdn (GDN)                    (None, 384, 512, 3)       8         \n",
      "_________________________________________________________________\n",
      "conv2d (Conv2D)              (None, 384, 512, 3)       12        \n",
      "_________________________________________________________________\n",
      "max_pooling2d (MaxPooling2D) (None, 192, 256, 3)       0         \n",
      "_________________________________________________________________\n",
      "gdn_1 (GDN)                  (None, 192, 256, 3)       14        \n",
      "_________________________________________________________________\n",
      "conv2d_1 (Conv2D)            (None, 192, 256, 6)       456       \n",
      "_________________________________________________________________\n",
      "max_pooling2d_1 (MaxPooling2 (None, 96, 128, 6)        0         \n",
      "_________________________________________________________________\n",
      "gdn_2 (GDN)                  (None, 96, 128, 6)        44        \n",
      "_________________________________________________________________\n",
      "conv2d_2 (Conv2D)            (None, 96, 128, 128)      19328     \n",
      "_________________________________________________________________\n",
      "gdn_3 (GDN)                  (None, 96, 128, 128)      16514     \n",
      "=================================================================\n",
      "Total params: 36,376\n",
      "Trainable params: 36,368\n",
      "Non-trainable params: 8\n",
      "_________________________________________________________________\n"
     ]
    }
   ],
   "source": [
    "inputs = tf.keras.Input((384, 512, 3))\n",
    "output = inputs\n",
    "for layer in model.model.layers:\n",
    "    output = layer(output)\n",
    "model = tf.keras.Model(inputs, output)\n",
    "model.summary()"
   ]
  },
  {
   "cell_type": "code",
   "execution_count": 4,
   "metadata": {},
   "outputs": [
    {
     "name": "stdout",
     "output_type": "stream",
     "text": [
      "0 input_1\n",
      "1 gdn\n",
      "2 conv2d\n",
      "3 max_pooling2d\n",
      "4 gdn_1\n",
      "5 conv2d_1\n",
      "6 max_pooling2d_1\n",
      "7 gdn_2\n",
      "8 conv2d_2\n",
      "9 gdn_3\n"
     ]
    }
   ],
   "source": [
    "# Get the \"summary\" of the model: order\n",
    "for i, layer in enumerate(model.layers):\n",
    "    print(i, layer.name)"
   ]
  },
  {
   "cell_type": "code",
   "execution_count": 5,
   "metadata": {},
   "outputs": [
    {
     "name": "stdout",
     "output_type": "stream",
     "text": [
      "Model: \"model\"\n",
      "_________________________________________________________________\n",
      "Layer (type)                 Output Shape              Param #   \n",
      "=================================================================\n",
      "input_1 (InputLayer)         [(None, 384, 512, 3)]     0         \n",
      "_________________________________________________________________\n",
      "gdn (GDN)                    (None, 384, 512, 3)       8         \n",
      "_________________________________________________________________\n",
      "conv2d (Conv2D)              (None, 384, 512, 3)       12        \n",
      "_________________________________________________________________\n",
      "max_pooling2d (MaxPooling2D) (None, 192, 256, 3)       0         \n",
      "_________________________________________________________________\n",
      "gdn_1 (GDN)                  (None, 192, 256, 3)       14        \n",
      "_________________________________________________________________\n",
      "conv2d_1 (Conv2D)            (None, 192, 256, 6)       456       \n",
      "_________________________________________________________________\n",
      "max_pooling2d_1 (MaxPooling2 (None, 96, 128, 6)        0         \n",
      "_________________________________________________________________\n",
      "gdn_2 (GDN)                  (None, 96, 128, 6)        44        \n",
      "_________________________________________________________________\n",
      "conv2d_2 (Conv2D)            (None, 96, 128, 128)      19328     \n",
      "_________________________________________________________________\n",
      "gdn_3 (GDN)                  (None, 96, 128, 128)      16514     \n",
      "=================================================================\n",
      "Total params: 36,376\n",
      "Trainable params: 36,368\n",
      "Non-trainable params: 8\n",
      "_________________________________________________________________\n"
     ]
    }
   ],
   "source": [
    "# Model until the output of the first convolution\n",
    "# model_output_first_conv = tf.keras.Sequential(model.layers[:3])\n",
    "model_output_first_conv = model\n",
    "model_output_first_conv.summary()"
   ]
  },
  {
   "cell_type": "code",
   "execution_count": 7,
   "metadata": {},
   "outputs": [],
   "source": [
    "# Receptive fields:\n",
    "#       - As a row of the jacobian (1)\n",
    "#       - Using deltas as input (2)\n",
    "#       - From the weights (3)\n",
    "# Let's do all for the filter number 12 and for the center neuron: 24, 64\n",
    "\n",
    "# First, (1)\n",
    "@tf.function\n",
    "def get_jacobian(img, filter_index):\n",
    "    with tf.GradientTape() as tape:\n",
    "        tape.watch(img)\n",
    "        activation = model_output_first_conv(img, training = False)[:,:,:,filter_index]\n",
    "    jacobian = tape.jacobian(activation, img)\n",
    "    return jacobian\n",
    "\n",
    "def initialize_image():\n",
    "    img_0_to_1 = tf.random.uniform((1, img_height, img_width, channels))\n",
    "    img_gray = tf.ones((1, img_height, img_width, channels))*0.5\n",
    "    return img_gray"
   ]
  },
  {
   "cell_type": "code",
   "execution_count": null,
   "metadata": {},
   "outputs": [],
   "source": [
    "# Get the jacobian\n",
    "jacobian = get_jacobian(initialize_image(), 0)"
   ]
  },
  {
   "cell_type": "code",
   "execution_count": 9,
   "metadata": {},
   "outputs": [
    {
     "name": "stdout",
     "output_type": "stream",
     "text": [
      "(1, 48, 128, 1, 48, 128, 3)\n",
      "(48, 128, 48, 128, 3)\n"
     ]
    }
   ],
   "source": [
    "# See the shape\n",
    "print(jacobian.shape)\n",
    "jacobian = jacobian.numpy().squeeze()\n",
    "print(jacobian.shape)"
   ]
  },
  {
   "cell_type": "code",
   "execution_count": 10,
   "metadata": {},
   "outputs": [
    {
     "name": "stdout",
     "output_type": "stream",
     "text": [
      "(6144, 18432)\n"
     ]
    }
   ],
   "source": [
    "jacobian = jacobian.reshape(img_height*img_width, -1, order = 'C')\n",
    "print(jacobian.shape)"
   ]
  },
  {
   "cell_type": "code",
   "execution_count": 11,
   "metadata": {},
   "outputs": [
    {
     "name": "stdout",
     "output_type": "stream",
     "text": [
      "-0.18138261 0.12485714\n"
     ]
    }
   ],
   "source": [
    "print(jacobian.min(), jacobian.max())"
   ]
  },
  {
   "cell_type": "code",
   "execution_count": 12,
   "metadata": {},
   "outputs": [
    {
     "data": {
      "image/png": "[encoded data removed]",
      "text/plain": [
       "<Figure size 432x288 with 2 Axes>"
      ]
     },
     "metadata": {
      "needs_background": "light"
     },
     "output_type": "display_data"
    }
   ],
   "source": [
    "plt.imshow((np.abs(jacobian)/np.abs(jacobian).max())**0.1, vmin = 0, vmax = 1)\n",
    "plt.colorbar()\n",
    "plt.show()"
   ]
  },
  {
   "cell_type": "code",
   "execution_count": 13,
   "metadata": {},
   "outputs": [
    {
     "name": "stdout",
     "output_type": "stream",
     "text": [
      "(18432,)\n"
     ]
    }
   ],
   "source": [
    "neuron = 23*128 + 63\n",
    "\n",
    "# The receptive field of the neuron is the row of the jacobian\n",
    "receptive_field = jacobian[neuron,:]\n",
    "print(receptive_field.shape)"
   ]
  },
  {
   "cell_type": "code",
   "execution_count": 14,
   "metadata": {},
   "outputs": [
    {
     "name": "stdout",
     "output_type": "stream",
     "text": [
      "0.0 1.0\n",
      "(48, 128, 3)\n"
     ]
    },
    {
     "data": {
      "image/png": "[encoded data removed]",
      "text/plain": [
       "<Figure size 432x288 with 1 Axes>"
      ]
     },
     "metadata": {
      "needs_background": "light"
     },
     "output_type": "display_data"
    },
    {
     "data": {
      "image/png": "[encoded data removed]",
      "text/plain": [
       "<Figure size 432x288 with 1 Axes>"
      ]
     },
     "metadata": {
      "needs_background": "light"
     },
     "output_type": "display_data"
    }
   ],
   "source": [
    "# Normalize, reshape and plot\n",
    "receptive_field = (receptive_field - receptive_field.min()) / (receptive_field.max() - receptive_field.min())\n",
    "print(receptive_field.min(), receptive_field.max())\n",
    "receptive_field = receptive_field.reshape((img_height, img_width, channels), order = 'C')\n",
    "print(receptive_field.shape)\n",
    "\n",
    "plt.imshow(receptive_field, vmin = 0, vmax = 1)\n",
    "plt.show()\n",
    "\n",
    "# Zoom\n",
    "plt.imshow(receptive_field[15:30,55:70], vmin = 0, vmax = 1)\n",
    "plt.show()"
   ]
  },
  {
   "cell_type": "markdown",
   "metadata": {},
   "source": [
    "### Using deltas\n",
    "\n",
    "The idea is to generate images consisting of deltas in one pixel so that the image is a matrix full of 0s with a single 1. This idea is simple, but the corresponding array of deltas is too big and thus, we have to create them on the fly, because we can't store the full array of deltas in memory.\n",
    "\n",
    "> Using sparse tensors might be useful for our case: https://www.tensorflow.org/guide/sparse_tensor?hl=en"
   ]
  },
  {
   "cell_type": "code",
   "execution_count": 18,
   "metadata": {},
   "outputs": [],
   "source": [
    "def obtain_receptive_field(model, img_height, img_width, channels, fov=32, channel_to_keep=0):\n",
    "    \"\"\"\n",
    "    This function calculates the receptive field of a model by building a set of deltas and\n",
    "    calculating the response of the model for each delta. As of now, the calculations are\n",
    "    made only for the center neuron using a predetermined FOV: only a range [-FOV, FOV] centered\n",
    "    on the center neuron is used.\n",
    "\n",
    "    Parameters\n",
    "    ----------\n",
    "    model: \n",
    "        Model we want to calculate the receptive field from.\n",
    "    img_height:\n",
    "        Height of the images that the model accepts.\n",
    "    img_width:\n",
    "        Width of the images that the model accepts.\n",
    "    channels:\n",
    "        Number of channels of the images that the model accepts.\n",
    "    fov:\n",
    "        Field Of View as explained before.\n",
    "    channel_to_keep:\n",
    "        Channel to keep when keeping the response.\n",
    "    \n",
    "    Returns\n",
    "    -------\n",
    "    receptive_field:\n",
    "        Array containing the receptive field.\n",
    "    \"\"\"\n",
    "    ## Define deltas and obtain their responses\n",
    "    responses = []\n",
    "    for i in tqdm(range(img_height//2-fov, img_height//2+fov), desc='outer'):\n",
    "        for j in range(img_width//2-fov, img_width//2+fov):\n",
    "            for k in range(channels):\n",
    "                zero = np.zeros((img_height, img_width, channels))\n",
    "                zero[i,j,k] = 1\n",
    "                response = model.predict(zero[None,:,:,:])\n",
    "                ## Now we keep only the center response of a specific channel\n",
    "                response_height, response_width = response.shape[1:3] # [BatchDim, H, W, C]\n",
    "                responses.append(response[0,response_height//2,response_width//2,channel_to_keep])\n",
    "    \n",
    "    ## Turn the list into an array\n",
    "    receptive_field = np.array(responses)\n",
    "    ## Reshape so it has image-like shape and is plotable\n",
    "    receptive_field = receptive_field.reshape((fov*2, fov*2, channels))\n",
    "\n",
    "    return receptive_field"
   ]
  },
  {
   "cell_type": "code",
   "execution_count": 37,
   "metadata": {},
   "outputs": [],
   "source": [
    "def obtain_receptive_field_gen(img_height, img_width, channels, fov=32):\n",
    "    \"\"\"\n",
    "    This generator yields the deltas needed to calculate the receptive\n",
    "    field of a model.\n",
    "\n",
    "    Parameters\n",
    "    ----------\n",
    "    img_height:\n",
    "        Height of the images that the model accepts.\n",
    "    img_width:\n",
    "        Width of the images that the model accepts.\n",
    "    channels:\n",
    "        Number of channels of the images that the model accepts.\n",
    "    fov:\n",
    "        Field Of View as explained before.\n",
    "    \n",
    "    Returns\n",
    "    -------\n",
    "    receptive_field:\n",
    "        Array containing the receptive field.\n",
    "    \"\"\"\n",
    "    ## Define deltas\n",
    "    for i in range(img_height//2-fov, img_height//2+fov):\n",
    "        for j in range(img_width//2-fov, img_width//2+fov):\n",
    "            for k in range(channels):\n",
    "                zero = np.zeros((img_height, img_width, channels))\n",
    "                zero[i,j,k] = 1\n",
    "\n",
    "                yield zero"
   ]
  },
  {
   "cell_type": "code",
   "execution_count": 42,
   "metadata": {},
   "outputs": [],
   "source": [
    "deltas_dataset = tf.data.Dataset.from_generator(obtain_receptive_field_gen, \n",
    "                                                args=(img_height,img_width,channels,32),\n",
    "                                                output_signature=(\n",
    "                                                    tf.TensorSpec(shape=(img_height,img_width,channels), dtype=tf.float32)\n",
    "                                                    )\n",
    "                                                )"
   ]
  },
  {
   "cell_type": "code",
   "execution_count": 56,
   "metadata": {},
   "outputs": [
    {
     "data": {
      "application/vnd.jupyter.widget-view+json": {
       "model_id": "649a23fa489746c5ae53bb18fffee6d1",
       "version_major": 2,
       "version_minor": 0
      },
      "text/plain": [
       "0it [00:00, ?it/s]"
      ]
     },
     "metadata": {},
     "output_type": "display_data"
    },
    {
     "name": "stdout",
     "output_type": "stream",
     "text": [
      "CPU times: user 5min 20s, sys: 51 s, total: 6min 11s\n",
      "Wall time: 5min 31s\n"
     ]
    }
   ],
   "source": [
    "%%time\n",
    "fov = 32\n",
    "channel_to_keep = 0\n",
    "batch_size = 4\n",
    "\n",
    "responses = np.empty(shape=(fov*2)*(fov*2)*channels)\n",
    "for i, delta in tqdm(enumerate(deltas_dataset.batch(batch_size))):\n",
    "    response = model.predict(delta)\n",
    "    ## Now we keep only the center response of a specific channel\n",
    "    response_height, response_width = response.shape[1:3] # [BatchDim, H, W, C]\n",
    "    # responses.append(response[0,response_height//2,response_width//2,channel_to_keep])\n",
    "    responses[i*batch_size:i*batch_size+batch_size] = response[:,response_height//2,response_width//2,channel_to_keep]"
   ]
  },
  {
   "cell_type": "code",
   "execution_count": null,
   "metadata": {},
   "outputs": [
    {
     "data": {
      "text/plain": [
       "(64, 64, 3)"
      ]
     },
     "metadata": {},
     "output_type": "display_data"
    }
   ],
   "source": [
    "responses2 = responses.reshape((fov*2, fov*2, channels))\n",
    "rf = (responses2 - responses2.min()) / (responses2.max() - responses2.min())\n",
    "rf.shape"
   ]
  },
  {
   "cell_type": "code",
   "execution_count": null,
   "metadata": {},
   "outputs": [
    {
     "data": {
      "image/png": "[encoded data removed]",
      "text/plain": [
       "<Figure size 432x288 with 1 Axes>"
      ]
     },
     "metadata": {},
     "output_type": "display_data"
    }
   ],
   "source": [
    "plt.imshow(rf)\n",
    "plt.show()"
   ]
  },
  {
   "cell_type": "code",
   "execution_count": 14,
   "metadata": {},
   "outputs": [
    {
     "data": {
      "application/vnd.jupyter.widget-view+json": {
       "model_id": "8cc91e10c8584acaa48cd9bc55088e92",
       "version_major": 2,
       "version_minor": 0
      },
      "text/plain": [
       "outer:   0%|          | 0/64 [00:00<?, ?it/s]"
      ]
     },
     "metadata": {},
     "output_type": "display_data"
    },
    {
     "name": "stdout",
     "output_type": "stream",
     "text": [
      "CPU times: user 15min 16s, sys: 2min 22s, total: 17min 38s\n",
      "Wall time: 15min 4s\n"
     ]
    }
   ],
   "source": [
    "%%time\n",
    "fov = 32\n",
    "channel_to_keep = 0\n",
    "\n",
    "responses = np.empty(shape=(fov*2)*(fov*2)*channels)\n",
    "l = 0\n",
    "for i in tqdm(range(img_height//2-fov, img_height//2+fov), desc='outer'):\n",
    "    for j in range(img_width//2-fov, img_width//2+fov):\n",
    "        for k in range(channels):\n",
    "            zero = np.zeros((img_height, img_width, channels))\n",
    "            zero[i,j,k] = 1\n",
    "            response = model.predict(zero[None,:,:,:])\n",
    "            ## Now we keep only the center response of a specific channel\n",
    "            response_height, response_width = response.shape[1:3] # [BatchDim, H, W, C]\n",
    "            # responses.append(response[0,response_height//2,response_width//2,channel_to_keep])\n",
    "            responses[l] = response[0,response_height//2,response_width//2,channel_to_keep]\n",
    "            l += 1\n",
    "    #         break\n",
    "    #     break\n",
    "    # break\n",
    "\n",
    "## Turn the list into an array\n",
    "receptive_field = np.array(responses)\n",
    "## Reshape so it has image-like shape and is plotable\n",
    "receptive_field = receptive_field.reshape((fov*2, fov*2, channels))"
   ]
  },
  {
   "cell_type": "code",
   "execution_count": null,
   "metadata": {},
   "outputs": [
    {
     "data": {
      "text/plain": [
       "(64, 64, 3)"
      ]
     },
     "metadata": {},
     "output_type": "display_data"
    }
   ],
   "source": [
    "rf = (receptive_field - receptive_field.min()) / (receptive_field.max() - receptive_field.min())\n",
    "rf.shape"
   ]
  },
  {
   "cell_type": "code",
   "execution_count": null,
   "metadata": {},
   "outputs": [
    {
     "data": {
      "image/png": "[encoded data removed]",
      "text/plain": [
       "<Figure size 432x288 with 1 Axes>"
      ]
     },
     "metadata": {},
     "output_type": "display_data"
    }
   ],
   "source": [
    "plt.imshow(rf)\n",
    "plt.show()"
   ]
  },
  {
   "cell_type": "code",
   "execution_count": 19,
   "metadata": {},
   "outputs": [
    {
     "data": {
      "application/vnd.jupyter.widget-view+json": {
       "model_id": "cc6361f008114f84b428bd445ce3c7df",
       "version_major": 2,
       "version_minor": 0
      },
      "text/plain": [
       "outer:   0%|          | 0/64 [00:00<?, ?it/s]"
      ]
     },
     "metadata": {},
     "output_type": "display_data"
    },
    {
     "data": {
      "text/plain": [
       "(64, 64, 3)"
      ]
     },
     "execution_count": 19,
     "metadata": {},
     "output_type": "execute_result"
    }
   ],
   "source": [
    "rf_func = obtain_receptive_field(model_output_first_conv,\n",
    "                                 img_height=img_height,\n",
    "                                 img_width=img_width,\n",
    "                                 channels=channels,\n",
    "                                 fov=32,\n",
    "                                 channel_to_keep=0)\n",
    "rf_func.shape"
   ]
  },
  {
   "cell_type": "code",
   "execution_count": 20,
   "metadata": {},
   "outputs": [
    {
     "data": {
      "text/plain": [
       "(64, 64, 3)"
      ]
     },
     "execution_count": 20,
     "metadata": {},
     "output_type": "execute_result"
    }
   ],
   "source": [
    "rf = (rf_func - rf_func.min()) / (rf_func.max() - rf_func.min())\n",
    "rf.shape"
   ]
  },
  {
   "cell_type": "code",
   "execution_count": 21,
   "metadata": {},
   "outputs": [
    {
     "data": {
      "image/png": "[encoded data removed]",
      "text/plain": [
       "<Figure size 432x288 with 1 Axes>"
      ]
     },
     "metadata": {
      "needs_background": "light"
     },
     "output_type": "display_data"
    }
   ],
   "source": [
    "plt.imshow(rf)\n",
    "plt.show()"
   ]
  },
  {
   "cell_type": "code",
   "execution_count": 22,
   "metadata": {},
   "outputs": [
    {
     "ename": "NameError",
     "evalue": "name 'fov' is not defined",
     "output_type": "error",
     "traceback": [
      "\u001b[0;31m---------------------------------------------------------------------------\u001b[0m",
      "\u001b[0;31mNameError\u001b[0m                                 Traceback (most recent call last)",
      "\u001b[0;32m/tmp/ipykernel_3444/872917114.py\u001b[0m in \u001b[0;36m<module>\u001b[0;34m\u001b[0m\n\u001b[0;32m----> 1\u001b[0;31m \u001b[0mplt\u001b[0m\u001b[0;34m.\u001b[0m\u001b[0mimshow\u001b[0m\u001b[0;34m(\u001b[0m\u001b[0mrf\u001b[0m\u001b[0;34m[\u001b[0m\u001b[0mfov\u001b[0m\u001b[0;34m-\u001b[0m\u001b[0;36m6\u001b[0m\u001b[0;34m:\u001b[0m\u001b[0mfov\u001b[0m\u001b[0;34m+\u001b[0m\u001b[0;36m6\u001b[0m\u001b[0;34m,\u001b[0m \u001b[0mfov\u001b[0m\u001b[0;34m-\u001b[0m\u001b[0;36m6\u001b[0m\u001b[0;34m:\u001b[0m\u001b[0mfov\u001b[0m\u001b[0;34m+\u001b[0m\u001b[0;36m6\u001b[0m\u001b[0;34m,\u001b[0m\u001b[0;34m:\u001b[0m\u001b[0;34m]\u001b[0m\u001b[0;34m)\u001b[0m\u001b[0;34m\u001b[0m\u001b[0;34m\u001b[0m\u001b[0m\n\u001b[0m\u001b[1;32m      2\u001b[0m \u001b[0mplt\u001b[0m\u001b[0;34m.\u001b[0m\u001b[0mshow\u001b[0m\u001b[0;34m(\u001b[0m\u001b[0;34m)\u001b[0m\u001b[0;34m\u001b[0m\u001b[0;34m\u001b[0m\u001b[0m\n",
      "\u001b[0;31mNameError\u001b[0m: name 'fov' is not defined"
     ]
    }
   ],
   "source": [
    "plt.imshow(rf[fov-6:fov+6, fov-6:fov+6,:])\n",
    "plt.show()"
   ]
  },
  {
   "cell_type": "code",
   "execution_count": null,
   "metadata": {},
   "outputs": [
    {
     "data": {
      "application/vnd.jupyter.widget-view+json": {
       "model_id": "cc6361f008114f84b428bd445ce3c7df",
       "version_major": 2,
       "version_minor": 0
      },
      "text/plain": [
       "outer:   0%|          | 0/64 [00:00<?, ?it/s]"
      ]
     },
     "metadata": {},
     "output_type": "display_data"
    }
   ],
   "source": [
    "rf_func = obtain_receptive_field(model_output_first_conv,\n",
    "                                 img_height=img_height,\n",
    "                                 img_width=img_width,\n",
    "                                 channels=channels,\n",
    "                                 fov=32,\n",
    "                                 channel_to_keep=0)\n",
    "rf_func.shape"
   ]
  },
  {
   "cell_type": "code",
   "execution_count": 42,
   "metadata": {},
   "outputs": [],
   "source": [
    "# receptive_field_loop = []\n",
    "# for i in range(len(deltas)):\n",
    "#     receptive_field_loop.append(responses[i][0,23,63])\n",
    "\n",
    "# print(len(receptive_field_loop))\n",
    "\n",
    "# # Reshape\n",
    "# receptive_field_loop = np.array(receptive_field_loop).reshape((img_height, img_width, channels), order = 'C')\n",
    "# print(receptive_field_loop.shape)\n",
    "\n",
    "# receptive_field_loop = (receptive_field_loop - receptive_field_loop.min()) / (receptive_field_loop.max() - receptive_field_loop.min())\n",
    "\n",
    "# #Plot\n",
    "# plt.imshow(receptive_field_loop, vmin = 0, vmax = 1)\n",
    "# plt.show()\n",
    "\n",
    "# # Zoom\n",
    "# plt.imshow(receptive_field_loop[15:30,55:70], vmin = 0, vmax = 1)\n",
    "# plt.show()"
   ]
  },
  {
   "cell_type": "code",
   "execution_count": 17,
   "metadata": {},
   "outputs": [],
   "source": [
    "# Thrid, (3)\n",
    "filters, biases = [layer.get_weights() for layer in model.layers if layer.name == 'conv2d'][0]\n",
    "filter_12 = filters[:,:,:,12]"
   ]
  },
  {
   "cell_type": "code",
   "execution_count": 18,
   "metadata": {},
   "outputs": [],
   "source": [
    "filter_12 = (filter_12 - filter_12.min()) / (filter_12.max() - filter_12.min())"
   ]
  },
  {
   "cell_type": "code",
   "execution_count": 19,
   "metadata": {},
   "outputs": [
    {
     "data": {
      "image/png": "[encoded data removed]",
      "text/plain": [
       "<Figure size 432x288 with 1 Axes>"
      ]
     },
     "metadata": {
      "needs_background": "light"
     },
     "output_type": "display_data"
    }
   ],
   "source": [
    "plt.imshow(filter_12)\n",
    "plt.show()"
   ]
  },
  {
   "cell_type": "code",
   "execution_count": 21,
   "metadata": {},
   "outputs": [
    {
     "name": "stdout",
     "output_type": "stream",
     "text": [
      "(6144, 18432)\n"
     ]
    },
    {
     "data": {
      "image/png": "[encoded data removed]",
      "text/plain": [
       "<Figure size 432x288 with 2 Axes>"
      ]
     },
     "metadata": {
      "needs_background": "light"
     },
     "output_type": "display_data"
    }
   ],
   "source": [
    "# Stimulus that maximizes the response of a neuron:\n",
    "#       - As a colum of the inverse of the jacobian (1)\n",
    "#       - From a iterative process using the gradient (2)\n",
    "# Let's do all for the filter number 12 and for the center neuron: 24, 64\n",
    "\n",
    "# First, (1): From the jacobian, the pseudo-inverse\n",
    "print(jacobian.shape)\n",
    "\n",
    "plt.imshow((np.abs(jacobian)/np.abs(jacobian).max())**0.1, vmin = 0, vmax = 1)\n",
    "plt.colorbar()\n",
    "plt.show()"
   ]
  },
  {
   "cell_type": "code",
   "execution_count": 22,
   "metadata": {},
   "outputs": [
    {
     "name": "stdout",
     "output_type": "stream",
     "text": [
      "(18432, 6144)\n"
     ]
    },
    {
     "data": {
      "image/png": "[encoded data removed]",
      "text/plain": [
       "<Figure size 432x288 with 2 Axes>"
      ]
     },
     "metadata": {
      "needs_background": "light"
     },
     "output_type": "display_data"
    }
   ],
   "source": [
    "# We have to use the pseudo-inverse as it is not a square matrix\n",
    "inverse_jacobian = np.linalg.pinv(jacobian, rcond = 1e-6)\n",
    "print(inverse_jacobian.shape)\n",
    "\n",
    "# PLot the pseudo-inverse\n",
    "plt.imshow((np.abs(inverse_jacobian)/np.abs(inverse_jacobian).max())**0.1, vmin = 0, vmax = 1)\n",
    "plt.colorbar()\n",
    "plt.show()\n",
    "\n",
    "# Select the column and reshape\n",
    "max_stimulus = inverse_jacobian[:,neuron]\n",
    "max_stimulus = max_stimulus.reshape((img_height, img_width, channels), order = 'C')"
   ]
  },
  {
   "cell_type": "code",
   "execution_count": 23,
   "metadata": {},
   "outputs": [
    {
     "name": "stdout",
     "output_type": "stream",
     "text": [
      "(48, 128, 3) -1.0010569 0.86278534\n"
     ]
    },
    {
     "data": {
      "image/png": "[encoded data removed]",
      "text/plain": [
       "<Figure size 432x288 with 1 Axes>"
      ]
     },
     "metadata": {
      "needs_background": "light"
     },
     "output_type": "display_data"
    },
    {
     "data": {
      "image/png": "[encoded data removed]",
      "text/plain": [
       "<Figure size 432x288 with 1 Axes>"
      ]
     },
     "metadata": {
      "needs_background": "light"
     },
     "output_type": "display_data"
    }
   ],
   "source": [
    "print(max_stimulus.shape, max_stimulus.min(), max_stimulus.max())\n",
    "\n",
    "max_stimulus = (max_stimulus - max_stimulus.min()) / (max_stimulus.max() - max_stimulus.min())\n",
    "\n",
    "plt.imshow(max_stimulus, vmin = 0, vmax = 1)\n",
    "plt.show()\n",
    "\n",
    "# Zoom\n",
    "plt.imshow(max_stimulus[15:30,55:70], vmin = 0, vmax = 1)\n",
    "plt.show()"
   ]
  },
  {
   "cell_type": "code",
   "execution_count": 6,
   "metadata": {},
   "outputs": [],
   "source": [
    "# Now, (2)\n",
    "def compute_loss(input_image, filter_index):\n",
    "    activation = model_output_first_conv(input_image, training = False)\n",
    "    filter_activation = activation[:, 23, 63, filter_index] # Activation of the studied neuron\n",
    "    surrounding_activation = activation[:,:,:,filter_index] # Activation of all the neurons of the filter\n",
    "    surrounding_activation = tf.tensor_scatter_nd_update(surrounding_activation, [[0,23,63]], [0]) # Set 0 the activation of the neuron to get only the activations of the surrounding neurons\n",
    "    studied_neuron = tf.reduce_mean(tf.math.abs(filter_activation))\n",
    "    surrounding_neurons = tf.reduce_mean(tf.math.abs(surrounding_activation))\n",
    "    loss =  studied_neuron - surrounding_neurons # Maximize the activation of the studied neuron and minimize the others\n",
    "    return loss, studied_neuron, surrounding_neurons\n",
    "\n",
    "@tf.function\n",
    "def gradient_ascent_step(img, filter_index, learning_rate):\n",
    "    with tf.GradientTape() as tape:\n",
    "        tape.watch(img)\n",
    "        loss, filter_loss, surrounding_loss = compute_loss(img, filter_index)\n",
    "    grads = tape.gradient(loss, img)\n",
    "    grads = tf.math.l2_normalize(grads)\n",
    "    img += learning_rate * grads\n",
    "    return loss, filter_loss, surrounding_loss, img\n",
    "\n",
    "def initialize_image():\n",
    "    img_0_to_1 = tf.random.uniform((1, img_height, img_width, channels))\n",
    "    img_gray = tf.ones((1, img_height, img_width, channels))*0.5\n",
    "    return img_gray\n",
    "\n",
    "def iterative_process(filter_index):\n",
    "    iterations = 3000\n",
    "    learning_rate = 5.0\n",
    "    img = initialize_image()\n",
    "    for iteration in range(iterations):\n",
    "        loss, filter_loss, neighborhood_loss, img = gradient_ascent_step(img, filter_index, learning_rate)\n",
    "\n",
    "    return loss, img.numpy()"
   ]
  },
  {
   "cell_type": "code",
   "execution_count": 7,
   "metadata": {},
   "outputs": [
    {
     "name": "stderr",
     "output_type": "stream",
     "text": [
      "2022-04-11 17:28:39.135504: I tensorflow/compiler/mlir/mlir_graph_optimization_pass.cc:185] None of the MLIR Optimization Passes are enabled (registered 2)\n",
      "2022-04-11 17:28:39.842875: I tensorflow/stream_executor/cuda/cuda_dnn.cc:369] Loaded cuDNN version 8100\n",
      "2022-04-11 17:28:40.305553: I tensorflow/core/platform/default/subprocess.cc:304] Start cannot spawn child process: No such file or directory\n"
     ]
    }
   ],
   "source": [
    "loss, max_stimulus_iterative = iterative_process(filter_index=0)"
   ]
  },
  {
   "cell_type": "code",
   "execution_count": 8,
   "metadata": {},
   "outputs": [
    {
     "name": "stdout",
     "output_type": "stream",
     "text": [
      "(1, 384, 512, 3) -91.367134 51.964096\n",
      "0.0 1.0\n"
     ]
    },
    {
     "data": {
      "image/png": "[encoded data removed]",
      "text/plain": [
       "<Figure size 432x288 with 1 Axes>"
      ]
     },
     "metadata": {
      "needs_background": "light"
     },
     "output_type": "display_data"
    }
   ],
   "source": [
    "print(max_stimulus_iterative.shape, max_stimulus_iterative.min(), max_stimulus_iterative.max())\n",
    "\n",
    "#Normalize\n",
    "max_stimulus_iterative = (max_stimulus_iterative - max_stimulus_iterative.min()) / (max_stimulus_iterative.max() - max_stimulus_iterative.min())\n",
    "print(max_stimulus_iterative.min(), max_stimulus_iterative.max())\n",
    "\n",
    "# Plot\n",
    "plt.imshow(max_stimulus_iterative[0], vmin = 0, vmax = 1)\n",
    "plt.show()"
   ]
  },
  {
   "cell_type": "code",
   "execution_count": 9,
   "metadata": {},
   "outputs": [
    {
     "data": {
      "image/png": "[encoded data removed]",
      "text/plain": [
       "<Figure size 432x288 with 1 Axes>"
      ]
     },
     "metadata": {
      "needs_background": "light"
     },
     "output_type": "display_data"
    }
   ],
   "source": [
    "# Zoom\n",
    "plt.imshow(max_stimulus_iterative[0, 15:30,55:70, :], vmin = 0, vmax = 1)\n",
    "plt.show()"
   ]
  },
  {
   "cell_type": "code",
   "execution_count": 41,
   "metadata": {},
   "outputs": [
    {
     "name": "stdout",
     "output_type": "stream",
     "text": [
      "(48, 128, 3) 0.0 1.0\n",
      "(1, 48, 128, 3) 0.0 1.0\n"
     ]
    },
    {
     "data": {
      "image/png": "[encoded data removed]",
      "text/plain": [
       "<Figure size 432x288 with 2 Axes>"
      ]
     },
     "metadata": {
      "needs_background": "light"
     },
     "output_type": "display_data"
    }
   ],
   "source": [
    "# They look so different, so check them lets pass these stimulus to the model and get the reponses: they are suposed to maximize the response of the central neuron and minimize the others\n",
    "print(max_stimulus.shape, max_stimulus.min(), max_stimulus.max())\n",
    "print(max_stimulus_iterative.shape, max_stimulus_iterative.min(), max_stimulus_iterative.max())\n",
    "\n",
    "plt.subplot(1,2,1)\n",
    "plt.imshow(max_stimulus[15:30,55:70,:], vmin = 0, vmax = 1)\n",
    "plt.subplot(1,2,2)\n",
    "plt.imshow(max_stimulus_iterative[0,15:30,55:70,:], vmin = 0, vmax = 1)\n",
    "plt.show()\n"
   ]
  },
  {
   "cell_type": "code",
   "execution_count": 43,
   "metadata": {},
   "outputs": [
    {
     "name": "stdout",
     "output_type": "stream",
     "text": [
      "(48, 128) -0.050822727 0.52578336\n",
      "(48, 128) -0.047835164 0.19862746\n",
      "0.0 1.0 0.0 1.0\n"
     ]
    }
   ],
   "source": [
    "response_max_stimulus = model_output_first_conv(max_stimulus[None,:,:,:]).numpy()[0,:,:,12]\n",
    "response_max_stimulus_iterative = model_output_first_conv(max_stimulus_iterative).numpy()[0,:,:,12]\n",
    "\n",
    "print(response_max_stimulus.shape, response_max_stimulus.min(), response_max_stimulus.max())\n",
    "print(response_max_stimulus_iterative.shape, response_max_stimulus_iterative.min(), response_max_stimulus_iterative.max())\n",
    "\n",
    "response_max_stimulus = (response_max_stimulus - response_max_stimulus.min()) / (response_max_stimulus.max() - response_max_stimulus.min())\n",
    "response_max_stimulus_iterative = (response_max_stimulus_iterative - response_max_stimulus_iterative.min()) / (response_max_stimulus_iterative.max() - response_max_stimulus_iterative.min())\n",
    "\n",
    "print(response_max_stimulus.min(), response_max_stimulus.max(), response_max_stimulus_iterative.min(), response_max_stimulus_iterative.max())"
   ]
  },
  {
   "cell_type": "code",
   "execution_count": 47,
   "metadata": {},
   "outputs": [
    {
     "data": {
      "image/png": "[encoded data removed]",
      "text/plain": [
       "<Figure size 432x288 with 2 Axes>"
      ]
     },
     "metadata": {
      "needs_background": "light"
     },
     "output_type": "display_data"
    },
    {
     "data": {
      "image/png": "[encoded data removed]",
      "text/plain": [
       "<Figure size 432x288 with 2 Axes>"
      ]
     },
     "metadata": {
      "needs_background": "light"
     },
     "output_type": "display_data"
    }
   ],
   "source": [
    "plt.subplot(1,2,1)\n",
    "plt.imshow(response_max_stimulus, vmin = 0, vmax = 1)\n",
    "plt.subplot(1,2,2)\n",
    "plt.imshow(response_max_stimulus_iterative, vmin = 0, vmax = 1)\n",
    "plt.show()\n",
    "\n",
    "plt.subplot(1,2,1)\n",
    "plt.imshow(response_max_stimulus[15:30,55:70], vmin = 0, vmax = 1)\n",
    "plt.subplot(1,2,2)\n",
    "plt.imshow(response_max_stimulus_iterative[15:30,55:70], vmin = 0, vmax = 1)\n",
    "plt.show()"
   ]
  }
 ],
 "metadata": {
  "interpreter": {
   "hash": "b03e95cebc8c2ad01776a7d79e8e6691c76a872c530254b63da6972a67722a3e"
  },
  "kernelspec": {
   "display_name": "Python 3.8.12 ('tfm')",
   "language": "python",
   "name": "python3"
  },
  "language_info": {
   "codemirror_mode": {
    "name": "ipython",
    "version": 3
   },
   "file_extension": ".py",
   "mimetype": "text/x-python",
   "name": "python",
   "nbconvert_exporter": "python",
   "pygments_lexer": "ipython3",
   "version": "3.8.12"
  },
  "orig_nbformat": 4
 },
 "nbformat": 4,
 "nbformat_minor": 2
}
