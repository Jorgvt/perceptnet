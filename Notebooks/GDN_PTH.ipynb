{
 "cells": [
  {
   "cell_type": "code",
   "execution_count": 40,
   "metadata": {},
   "outputs": [],
   "source": [
    "import numpy as np\n",
    "import matplotlib.pyplot as plt\n",
    "import torch\n",
    "import torch.nn as nn\n",
    "import torch.nn.functional as F"
   ]
  },
  {
   "cell_type": "code",
   "execution_count": 34,
   "metadata": {},
   "outputs": [],
   "source": [
    "class GDN(nn.Module):\n",
    "    def __init__(self,\n",
    "                 n_channels,\n",
    "                 gamma_init=.1,\n",
    "                 reparam_offset=2**-18,\n",
    "                 beta_min=1e-6,\n",
    "                 apply_independently=False):\n",
    "        super(GDN, self).__init__()\n",
    "        self.n_channels = n_channels\n",
    "        self.gamma_init = gamma_init\n",
    "        self.reparam_offset = reparam_offset\n",
    "        self.beta_min = beta_min\n",
    "        self.beta_reparam = (self.beta_min + self.reparam_offset**2)**0.5\n",
    "        self.apply_independently = apply_independently\n",
    "        if apply_independently:\n",
    "            self.groups = n_channels\n",
    "        else:\n",
    "            self.groups = 1\n",
    "        self.initialise_params()\n",
    "\n",
    "    def initialise_params(self):\n",
    "        gamma_bound = self.reparam_offset\n",
    "        gamma = torch.eye(self.n_channels, dtype=torch.float)\n",
    "        gamma = gamma.view(self.n_channels, self.n_channels, 1, 1)\n",
    "        gamma = torch.sqrt(self.gamma_init*gamma + self.reparam_offset**2)\n",
    "        gamma = torch.mul(gamma, gamma)\n",
    "        if self.apply_independently:\n",
    "            gamma = gamma[:, 0, :, :].unsqueeze(1)\n",
    "        self.gamma = nn.Parameter(gamma)\n",
    "        beta = torch.ones((self.n_channels,))\n",
    "        beta = torch.sqrt(beta + self.reparam_offset**2)\n",
    "        self.beta = nn.Parameter(beta)\n",
    "\n",
    "    def forward(self, x):\n",
    "        \"\"\"Forward pass of the layer\n",
    "        Input must be shape: [batch_size, channels, height, width]\n",
    "        \"\"\"\n",
    "        self.inputs = x\n",
    "        self.gamma.data = torch.clamp(self.gamma.data, min=self.reparam_offset)\n",
    "        self.beta.data = torch.clamp(self.beta.data, min=self.beta_reparam)\n",
    "        norm_pool = F.conv2d(torch.mul(x, x), self.gamma, bias=self.beta,\n",
    "                             groups=self.groups)\n",
    "        norm_pool = torch.sqrt(norm_pool)\n",
    "        \n",
    "        output = x / norm_pool\n",
    "        return output"
   ]
  },
  {
   "cell_type": "code",
   "execution_count": 35,
   "metadata": {},
   "outputs": [],
   "source": [
    "gdn = GDN(n_channels=1)"
   ]
  },
  {
   "cell_type": "code",
   "execution_count": 36,
   "metadata": {},
   "outputs": [
    {
     "data": {
      "text/plain": [
       "(torch.nn.parameter.Parameter, torch.Tensor)"
      ]
     },
     "execution_count": 36,
     "metadata": {},
     "output_type": "execute_result"
    }
   ],
   "source": [
    "type(gdn.gamma), type(gdn.gamma.data)"
   ]
  },
  {
   "cell_type": "code",
   "execution_count": 51,
   "metadata": {},
   "outputs": [],
   "source": [
    "np.random.seed(42)\n",
    "sample_input = np.random.uniform(size=(1,1,28,28))\n",
    "sample_input_pth = torch.FloatTensor(sample_input)"
   ]
  },
  {
   "cell_type": "code",
   "execution_count": 60,
   "metadata": {},
   "outputs": [
    {
     "data": {
      "text/plain": [
       "torch.Size([1, 1, 28, 28])"
      ]
     },
     "execution_count": 60,
     "metadata": {},
     "output_type": "execute_result"
    }
   ],
   "source": [
    "a = gdn(sample_input_pth).detach()\n",
    "a.shape"
   ]
  },
  {
   "cell_type": "code",
   "execution_count": 61,
   "metadata": {},
   "outputs": [
    {
     "data": {
      "text/plain": [
       "True"
      ]
     },
     "execution_count": 61,
     "metadata": {},
     "output_type": "execute_result"
    }
   ],
   "source": [
    "np.allclose(sample_input_pth.numpy(), sample_input)"
   ]
  },
  {
   "cell_type": "code",
   "execution_count": 62,
   "metadata": {},
   "outputs": [
    {
     "data": {
      "text/plain": [
       "(torch.Size([1, 1, 1, 1]), torch.Size([1]))"
      ]
     },
     "execution_count": 62,
     "metadata": {},
     "output_type": "execute_result"
    }
   ],
   "source": [
    "gdn.gamma.shape, gdn.beta.shape"
   ]
  },
  {
   "cell_type": "code",
   "execution_count": 63,
   "metadata": {},
   "outputs": [
    {
     "data": {
      "image/png": "[encoded data removed]",
      "text/plain": [
       "<Figure size 432x288 with 2 Axes>"
      ]
     },
     "metadata": {
      "needs_background": "light"
     },
     "output_type": "display_data"
    }
   ],
   "source": [
    "plt.figure()\n",
    "plt.subplot(1,2,1)\n",
    "plt.title(\"Input\")\n",
    "plt.imshow(sample_input_pth.numpy().squeeze())\n",
    "plt.subplot(1,2,2)\n",
    "plt.imshow(a.numpy().squeeze())\n",
    "plt.title(\"Output\")\n",
    "plt.show()"
   ]
  },
  {
   "cell_type": "code",
   "execution_count": 64,
   "metadata": {},
   "outputs": [
    {
     "data": {
      "image/png": "[encoded data removed]",
      "text/plain": [
       "<Figure size 432x288 with 1 Axes>"
      ]
     },
     "metadata": {
      "needs_background": "light"
     },
     "output_type": "display_data"
    }
   ],
   "source": [
    "plt.figure()\n",
    "plt.hist(a.numpy().squeeze().ravel())\n",
    "plt.show()"
   ]
  },
  {
   "cell_type": "code",
   "execution_count": 65,
   "metadata": {},
   "outputs": [
    {
     "data": {
      "image/png": "[encoded data removed]",
      "text/plain": [
       "<Figure size 432x288 with 1 Axes>"
      ]
     },
     "metadata": {
      "needs_background": "light"
     },
     "output_type": "display_data"
    }
   ],
   "source": [
    "plt.figure()\n",
    "plt.hist(sample_input_pth.numpy().squeeze().ravel())\n",
    "plt.show()"
   ]
  },
  {
   "cell_type": "code",
   "execution_count": 66,
   "metadata": {},
   "outputs": [
    {
     "data": {
      "text/plain": [
       "(tensor([1., 2., 3.]), tensor([4., 5., 6.]))"
      ]
     },
     "execution_count": 66,
     "metadata": {},
     "output_type": "execute_result"
    }
   ],
   "source": [
    "t1 = torch.FloatTensor([1,2,3])\n",
    "t2 = torch.FloatTensor([4,5,6])\n",
    "\n",
    "t1, t2"
   ]
  },
  {
   "cell_type": "code",
   "execution_count": 67,
   "metadata": {},
   "outputs": [
    {
     "data": {
      "text/plain": [
       "tensor([ 4., 10., 18.])"
      ]
     },
     "execution_count": 67,
     "metadata": {},
     "output_type": "execute_result"
    }
   ],
   "source": [
    "torch.mul(t1, t2)"
   ]
  }
 ],
 "metadata": {
  "interpreter": {
   "hash": "19477b5e9184c89b15bfab30686a9cf684a7c97f11aa1fc3ebcee63d47408624"
  },
  "kernelspec": {
   "display_name": "Python 3.8.12 ('tf26')",
   "language": "python",
   "name": "python3"
  },
  "language_info": {
   "codemirror_mode": {
    "name": "ipython",
    "version": 3
   },
   "file_extension": ".py",
   "mimetype": "text/x-python",
   "name": "python",
   "nbconvert_exporter": "python",
   "pygments_lexer": "ipython3",
   "version": "3.8.12"
  },
  "orig_nbformat": 4
 },
 "nbformat": 4,
 "nbformat_minor": 2
}
