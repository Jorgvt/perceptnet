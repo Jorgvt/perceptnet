{
 "cells": [
  {
   "cell_type": "code",
   "execution_count": 1,
   "metadata": {},
   "outputs": [],
   "source": [
    "import tensorflow as tf\n",
    "from tensorflow.keras import layers\n",
    "\n",
    "from GDN_Pablo import GDN as GDNP\n",
    "from GDN_Jorge import GDN as GDNJ"
   ]
  },
  {
   "cell_type": "code",
   "execution_count": 2,
   "metadata": {},
   "outputs": [],
   "source": [
    "def generate_perceptnet(kernel_size=3, normalization='gdn'):\n",
    "    if normalization == 'batch_norm':\n",
    "        norm = [\n",
    "            # Hyperparams from PyTorch layers\n",
    "            layers.BatchNormalization(momentum=0.1, epsilon=1e-5) for i in range(4)\n",
    "        ]\n",
    "    elif normalization == 'gdn':\n",
    "        norm = [\n",
    "            GDNJ(kernel_size, apply_independently=True),\n",
    "            GDNJ(kernel_size, apply_independently=False),\n",
    "            GDNJ(kernel_size, apply_independently=False),\n",
    "            GDNJ(kernel_size, apply_independently=False)\n",
    "        ]\n",
    "    elif normalization == 'instance_norm':\n",
    "        pass\n",
    "\n",
    "    return norm"
   ]
  },
  {
   "cell_type": "code",
   "execution_count": 3,
   "metadata": {},
   "outputs": [],
   "source": [
    "def generate_perceptnet():\n",
    "    return tf.keras.Sequential([\n",
    "        GDNJ(kernel_size=1, apply_independently=True),\n",
    "        layers.Conv2D(filters=3, kernel_size=1, strides=1, padding='same'),\n",
    "        layers.MaxPool2D(2),\n",
    "        GDNJ(kernel_size=1),\n",
    "        layers.Conv2D(filters=6, kernel_size=5, strides=1, padding='same'),\n",
    "        layers.MaxPool2D(2),\n",
    "        GDNJ(kernel_size=1),\n",
    "        layers.Conv2D(filters=128, kernel_size=5, strides=1, padding='same'),\n",
    "        GDNJ(kernel_size=1)\n",
    "    ])"
   ]
  },
  {
   "cell_type": "code",
   "execution_count": 6,
   "metadata": {},
   "outputs": [
    {
     "name": "stdout",
     "output_type": "stream",
     "text": [
      "Model: \"sequential_2\"\n",
      "_________________________________________________________________\n",
      "Layer (type)                 Output Shape              Param #   \n",
      "=================================================================\n",
      "gdn_8 (GDN)                  (1, 28, 28, 1)            2         \n",
      "_________________________________________________________________\n",
      "conv2d_6 (Conv2D)            (1, 28, 28, 3)            6         \n",
      "_________________________________________________________________\n",
      "max_pooling2d_4 (MaxPooling2 (1, 14, 14, 3)            0         \n",
      "_________________________________________________________________\n",
      "gdn_9 (GDN)                  (1, 14, 14, 3)            12        \n",
      "_________________________________________________________________\n",
      "conv2d_7 (Conv2D)            (1, 14, 14, 6)            456       \n",
      "_________________________________________________________________\n",
      "max_pooling2d_5 (MaxPooling2 (1, 7, 7, 6)              0         \n",
      "_________________________________________________________________\n",
      "gdn_10 (GDN)                 (1, 7, 7, 6)              42        \n",
      "_________________________________________________________________\n",
      "conv2d_8 (Conv2D)            (1, 7, 7, 128)            19328     \n",
      "_________________________________________________________________\n",
      "gdn_11 (GDN)                 (1, 7, 7, 128)            16512     \n",
      "=================================================================\n",
      "Total params: 36,358\n",
      "Trainable params: 36,358\n",
      "Non-trainable params: 0\n",
      "_________________________________________________________________\n"
     ]
    }
   ],
   "source": [
    "pnet = generate_perceptnet()\n",
    "pnet.build(input_shape=(1,28,28,1))\n",
    "pnet.summary()"
   ]
  },
  {
   "cell_type": "code",
   "execution_count": null,
   "metadata": {},
   "outputs": [],
   "source": []
  }
 ],
 "metadata": {
  "interpreter": {
   "hash": "19477b5e9184c89b15bfab30686a9cf684a7c97f11aa1fc3ebcee63d47408624"
  },
  "kernelspec": {
   "display_name": "Python 3.8.12 ('tf26')",
   "language": "python",
   "name": "python3"
  },
  "language_info": {
   "codemirror_mode": {
    "name": "ipython",
    "version": 3
   },
   "file_extension": ".py",
   "mimetype": "text/x-python",
   "name": "python",
   "nbconvert_exporter": "python",
   "pygments_lexer": "ipython3",
   "version": "3.8.12"
  },
  "orig_nbformat": 4
 },
 "nbformat": 4,
 "nbformat_minor": 2
}
