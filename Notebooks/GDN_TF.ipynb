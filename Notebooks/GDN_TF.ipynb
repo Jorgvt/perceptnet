{
 "cells": [
  {
   "cell_type": "code",
   "execution_count": 36,
   "metadata": {},
   "outputs": [],
   "source": [
    "import numpy as np\n",
    "import matplotlib.pyplot as plt\n",
    "import tensorflow as tf"
   ]
  },
  {
   "cell_type": "code",
   "execution_count": 245,
   "metadata": {},
   "outputs": [],
   "source": [
    "class GDN(tf.keras.layers.Layer):\n",
    "    def __init__(self,\n",
    "                 n_channels,\n",
    "                 gamma_init=.1,\n",
    "                 reparam_offset=2**(-18),\n",
    "                 beta_min=1e-6,\n",
    "                 apply_independently=False):\n",
    "\n",
    "        super(GDN, self).__init__()\n",
    "        self.n_channels = n_channels\n",
    "        self.gamma_init = gamma_init\n",
    "        self.reparam_offset = reparam_offset\n",
    "        self.beta_min = beta_min\n",
    "        self.beta_reparam = (self.beta_min+self.reparam_offset**2)**(1/2)\n",
    "        self.apply_independently = apply_independently\n",
    "\n",
    "        if apply_independently:\n",
    "            self.groups = n_channels\n",
    "        else:\n",
    "            self.groups = 1\n",
    "\n",
    "        self.initialise_params()\n",
    "        \n",
    "    def initialise_params(self):\n",
    "        ## First we define gamma\n",
    "        gamma = tf.eye(self.n_channels)\n",
    "        gamma = tf.reshape(gamma, shape=(*gamma.shape,1,1))\n",
    "        gamma = tf.sqrt(self.gamma_init*gamma + self.reparam_offset**2)\n",
    "        gamma = tf.multiply(gamma, gamma)\n",
    "\n",
    "        if self.apply_independently:\n",
    "            gamma = tf.expand_dims(gamma[:,0,:,:], axis=1)\n",
    "\n",
    "        self.gamma = tf.Variable(initial_value=gamma,\n",
    "                                 trainable=True,\n",
    "                                 name=\"gamma\")\n",
    "\n",
    "        ## Now we can define beta\n",
    "        beta = tf.ones(shape=(self.n_channels,))\n",
    "        beta = tf.sqrt(beta + self.reparam_offset**2)\n",
    "        self.beta = tf.Variable(initial_value=beta,\n",
    "                                trainable=True,\n",
    "                                name=\"beta\")\n",
    "\n",
    "    def build(self, input_shape):\n",
    "        \"\"\"\n",
    "        We could probably get rid of the n_channels variable\n",
    "        by building some of the parameters here, but I'd make sure\n",
    "        that we understand it and then we play around.\n",
    "        \"\"\"\n",
    "\n",
    "        self.conv = tf.keras.layers.Conv2D(filters=self.gamma.shape[1],\n",
    "                              kernel_size=self.gamma.shape[2:4],\n",
    "                              padding=\"valid\",\n",
    "                              strides=1,\n",
    "                              groups=self.groups,\n",
    "                              data_format=\"channels_first\",\n",
    "                              trainable=False)\n",
    "\n",
    "        self.conv.build(input_shape)\n",
    "        # self.gamma = self.add_weight(\"gamma\",\n",
    "        #                              shape=[input_shape])\n",
    "        # pass\n",
    "\n",
    "    def call(self, X):\n",
    "        \"\"\"\n",
    "        The PyTorch implementation works with inputs of shape:\n",
    "        [batch_size, channels, height, width].\n",
    "        We'll first copy it and then we'll try to change it.\n",
    "        \"\"\"\n",
    "        self.gamma = tf.clip_by_value(self.gamma,\n",
    "                                      clip_value_min=self.reparam_offset,\n",
    "                                      clip_value_max=tf.float32.max)\n",
    "        self.beta = tf.clip_by_value(self.beta,\n",
    "                                     clip_value_min=self.beta_reparam,\n",
    "                                     clip_value_max=tf.float32.max)\n",
    "\n",
    "        self.conv.weights[0].assign(self.gamma)\n",
    "        self.conv.weights[1].assign(self.beta)\n",
    "        norm_pool = self.conv(tf.multiply(X, X))\n",
    "        norm_pool = tf.sqrt(norm_pool)\n",
    "\n",
    "        return X / norm_pool"
   ]
  },
  {
   "cell_type": "code",
   "execution_count": 246,
   "metadata": {},
   "outputs": [],
   "source": [
    "gdn = GDN(n_channels=1)"
   ]
  },
  {
   "cell_type": "code",
   "execution_count": 247,
   "metadata": {},
   "outputs": [],
   "source": [
    "np.random.seed(42)\n",
    "sample_input = np.random.uniform(size=(1,1,28,28))\n",
    "# sample_input = tf.random.uniform(shape=(1,1,28,28))"
   ]
  },
  {
   "cell_type": "code",
   "execution_count": 248,
   "metadata": {},
   "outputs": [
    {
     "data": {
      "text/plain": [
       "(TensorShape([1, 1, 1, 1]), TensorShape([1]))"
      ]
     },
     "execution_count": 248,
     "metadata": {},
     "output_type": "execute_result"
    }
   ],
   "source": [
    "gdn.gamma.shape, gdn.beta.shape"
   ]
  },
  {
   "cell_type": "code",
   "execution_count": 249,
   "metadata": {},
   "outputs": [],
   "source": [
    "a = gdn(sample_input)"
   ]
  },
  {
   "cell_type": "code",
   "execution_count": 250,
   "metadata": {},
   "outputs": [
    {
     "data": {
      "image/png": "[encoded data removed]",
      "text/plain": [
       "<Figure size 432x288 with 2 Axes>"
      ]
     },
     "metadata": {
      "needs_background": "light"
     },
     "output_type": "display_data"
    }
   ],
   "source": [
    "plt.figure()\n",
    "plt.subplot(1,2,1)\n",
    "plt.title(\"Input\")\n",
    "plt.imshow(sample_input.squeeze())\n",
    "plt.subplot(1,2,2)\n",
    "plt.imshow(a.numpy().squeeze())\n",
    "plt.title(\"Output\")\n",
    "plt.show()"
   ]
  },
  {
   "cell_type": "code",
   "execution_count": 251,
   "metadata": {},
   "outputs": [
    {
     "data": {
      "image/png": "[encoded data removed]",
      "text/plain": [
       "<Figure size 432x288 with 1 Axes>"
      ]
     },
     "metadata": {
      "needs_background": "light"
     },
     "output_type": "display_data"
    }
   ],
   "source": [
    "plt.figure()\n",
    "plt.hist(a.numpy().squeeze().ravel())\n",
    "plt.show()"
   ]
  },
  {
   "cell_type": "code",
   "execution_count": 252,
   "metadata": {},
   "outputs": [
    {
     "data": {
      "image/png": "[encoded data removed]",
      "text/plain": [
       "<Figure size 432x288 with 1 Axes>"
      ]
     },
     "metadata": {
      "needs_background": "light"
     },
     "output_type": "display_data"
    }
   ],
   "source": [
    "plt.figure()\n",
    "plt.hist(sample_input.squeeze().ravel())\n",
    "plt.show()"
   ]
  },
  {
   "cell_type": "code",
   "execution_count": 243,
   "metadata": {},
   "outputs": [
    {
     "data": {
      "text/plain": [
       "(array([1, 2, 3]), array([4, 5, 6]))"
      ]
     },
     "execution_count": 243,
     "metadata": {},
     "output_type": "execute_result"
    }
   ],
   "source": [
    "t1 = np.array([1,2,3])\n",
    "t2 = np.array([4,5,6])\n",
    "\n",
    "t1, t2"
   ]
  },
  {
   "cell_type": "code",
   "execution_count": 244,
   "metadata": {},
   "outputs": [
    {
     "data": {
      "text/plain": [
       "<tf.Tensor: shape=(3,), dtype=int64, numpy=array([ 4, 10, 18])>"
      ]
     },
     "execution_count": 244,
     "metadata": {},
     "output_type": "execute_result"
    }
   ],
   "source": [
    "tf.multiply(t1, t2)"
   ]
  },
  {
   "cell_type": "code",
   "execution_count": null,
   "metadata": {},
   "outputs": [],
   "source": []
  }
 ],
 "metadata": {
  "interpreter": {
   "hash": "19477b5e9184c89b15bfab30686a9cf684a7c97f11aa1fc3ebcee63d47408624"
  },
  "kernelspec": {
   "display_name": "Python 3.8.12 ('tf26')",
   "language": "python",
   "name": "python3"
  },
  "language_info": {
   "codemirror_mode": {
    "name": "ipython",
    "version": 3
   },
   "file_extension": ".py",
   "mimetype": "text/x-python",
   "name": "python",
   "nbconvert_exporter": "python",
   "pygments_lexer": "ipython3",
   "version": "3.8.12"
  },
  "orig_nbformat": 4
 },
 "nbformat": 4,
 "nbformat_minor": 2
}
