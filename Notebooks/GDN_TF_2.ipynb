{
 "cells": [
  {
   "cell_type": "code",
   "execution_count": 1,
   "metadata": {},
   "outputs": [],
   "source": [
    "import numpy as np\n",
    "import matplotlib.pyplot as plt\n",
    "import tensorflow as tf\n",
    "from tensorflow.keras import layers"
   ]
  },
  {
   "cell_type": "markdown",
   "metadata": {},
   "source": [
    "## Using `tf.nn.conv2d`\n",
    "\n",
    "This approach doesn't allow the use of grouped convolutions, so we can't 100% replicate PerceptNet with it. On the other hand, is kind of cleaner and more similar to the PyTorch approach."
   ]
  },
  {
   "cell_type": "code",
   "execution_count": 2,
   "metadata": {},
   "outputs": [],
   "source": [
    "class GDN(tf.keras.layers.Layer):\n",
    "    def __init__(self,\n",
    "                 n_channels,\n",
    "                 gamma_init=.1,\n",
    "                 reparam_offset=2**(-18),\n",
    "                 beta_min=1e-6,\n",
    "                 apply_independently=False,\n",
    "                 data_format=\"channels_first\"):\n",
    "\n",
    "        super(GDN, self).__init__()\n",
    "        # self.n_channels = n_channels\n",
    "        self.gamma_init = gamma_init\n",
    "        self.reparam_offset = reparam_offset\n",
    "        self.beta_min = beta_min\n",
    "        self.beta_reparam = (self.beta_min+self.reparam_offset**2)**(1/2)\n",
    "        self.apply_independently = apply_independently\n",
    "        self.data_format = data_format\n",
    "\n",
    "        if apply_independently:\n",
    "            self.groups = n_channels\n",
    "        else:\n",
    "            self.groups = 1\n",
    "\n",
    "    def build(self, input_shape):\n",
    "        \"\"\"\n",
    "        We could probably get rid of the n_channels variable\n",
    "        by building some of the parameters here, but I'd make sure\n",
    "        that we understand it and then we play around.\n",
    "        \"\"\"\n",
    "        ## Extract the number of channels from the input shape\n",
    "        ## according to the data_format\n",
    "        n_channels = input_shape[-1] if self.data_format==\"channels_last\" else input_shape[0]\n",
    "\n",
    "        if self.data_format==\"channels_last\":\n",
    "            n_channels = input_shape[-1]\n",
    "        elif self.data_format==\"channels_first\":\n",
    "            n_channels = input_shape[0]\n",
    "        else:\n",
    "            raise ValueError(\"data_format not supported\")\n",
    "\n",
    "        ## First we define gamma\n",
    "        gamma = tf.eye(n_channels)\n",
    "        gamma = tf.reshape(gamma, shape=(*gamma.shape,1,1))\n",
    "        gamma = tf.sqrt(self.gamma_init*gamma + self.reparam_offset**2)\n",
    "        gamma = tf.multiply(gamma, gamma)\n",
    "\n",
    "        if self.apply_independently:\n",
    "            gamma = tf.expand_dims(gamma[:,0,:,:], axis=1)\n",
    "\n",
    "        self.gamma = tf.Variable(initial_value=gamma,\n",
    "                                 trainable=True,\n",
    "                                 name=\"gamma\",\n",
    "                                 constraint=lambda x: tf.clip_by_value(x, \n",
    "                                                                       clip_value_min=self.reparam_offset,\n",
    "                                                                       clip_value_max=tf.float32.max))\n",
    "\n",
    "        ## Now we can define beta\n",
    "        beta = tf.ones(shape=(n_channels,))\n",
    "        beta = tf.sqrt(beta + self.reparam_offset**2)\n",
    "        self.beta = tf.Variable(initial_value=beta,\n",
    "                                trainable=True,\n",
    "                                name=\"beta\",\n",
    "                                constraint=lambda x: tf.clip_by_value(x, \n",
    "                                                                      clip_value_min=self.beta_reparam,\n",
    "                                                                      clip_value_max=tf.float32.max))\n",
    "\n",
    "        # self.conv = tf.keras.layers.Conv2D(filters=self.gamma.shape[1],\n",
    "        #                       kernel_size=self.gamma.shape[2:4],\n",
    "        #                       padding=\"valid\",\n",
    "        #                       strides=1,\n",
    "        #                       groups=self.groups,\n",
    "        #                       data_format=\"channels_first\",\n",
    "        #                       trainable=True)\n",
    "\n",
    "        # self.conv.build(input_shape)\n",
    "        # self.gamma = self.add_weight(\"gamma\",\n",
    "        #                              shape=[input_shape])\n",
    "        # pass\n",
    "\n",
    "    def call(self, X):\n",
    "        \"\"\"\n",
    "        The PyTorch implementation works with inputs of shape:\n",
    "        [batch_size, channels, height, width].\n",
    "        We'll first copy it and then we'll try to change it.\n",
    "        \"\"\"\n",
    "        # self.gamma = tf.clip_by_value(self.gamma,\n",
    "        #                               clip_value_min=self.reparam_offset,\n",
    "        #                               clip_value_max=tf.float32.max)\n",
    "        # self.beta = tf.clip_by_value(self.beta,\n",
    "        #                              clip_value_min=self.beta_reparam,\n",
    "        #                              clip_value_max=tf.float32.max)\n",
    "        # print(self.gamma.dtype, self.beta.dtype)\n",
    "        # self.conv.weights[0].assign(self.gamma)\n",
    "        # self.conv.weights[1].assign(self.beta)\n",
    "        # print(X.dtype)\n",
    "        # norm_pool = self.conv(tf.multiply(X, X))\n",
    "        norm_pool = tf.nn.conv2d(tf.multiply(X, X),\n",
    "                                 self.gamma,\n",
    "                                 strides=1,\n",
    "                                 padding=\"VALID\",\n",
    "                                 data_format=\"NCHW\")\n",
    "        norm_pool += self.beta\n",
    "        norm_pool = tf.sqrt(norm_pool)\n",
    "\n",
    "        return X / norm_pool"
   ]
  },
  {
   "cell_type": "markdown",
   "metadata": {},
   "source": [
    "## Custom Initializer\n",
    "\n",
    "The in-built `Identity` initializer doesn't work with convolutions because it's only built for 2D matrices, so we're going to define our own initializer that will allow us to initialize every filter of the layer as an identity matrix:"
   ]
  },
  {
   "cell_type": "code",
   "execution_count": 46,
   "metadata": {},
   "outputs": [],
   "source": [
    "class KernelIdentity(tf.keras.initializers.Initializer):\n",
    "\n",
    "    def __init__(self, gain):\n",
    "        self.gain = gain\n",
    "\n",
    "    def __call__(self, shape, dtype=None):\n",
    "        \"\"\"\n",
    "        shape has the form [Kx, Ky, Cin, Cout]\n",
    "        \"\"\"\n",
    "        identity_matrix = tf.eye(shape[0])*self.gain\n",
    "        identity_matrix = tf.expand_dims(identity_matrix, axis=-1)\n",
    "        identity_matrix = tf.expand_dims(identity_matrix, axis=-1)\n",
    "        identity_matrix = tf.repeat(identity_matrix, shape[2], axis=-2)\n",
    "        identity_matrix = tf.repeat(identity_matrix, shape[3], axis=-1)\n",
    "        return identity_matrix\n",
    "    \n",
    "    def get_config(self):\n",
    "        return {'gain':self.gain}"
   ]
  },
  {
   "cell_type": "markdown",
   "metadata": {},
   "source": [
    "## GDN (with Conv2D layer)\n",
    "\n",
    "Looks like we need to use a `Conv2D` layer if we want to implement an independent GDN, because the functional `conv2d` doesn't allow the use of a `groups` parameters."
   ]
  },
  {
   "cell_type": "code",
   "execution_count": 59,
   "metadata": {},
   "outputs": [],
   "source": [
    "class GDN(tf.keras.layers.Layer):\n",
    "    def __init__(self,\n",
    "                 kernel_size=3,\n",
    "                 gamma_init=.1,\n",
    "                 alpha_init=2,\n",
    "                 epsilon_init=1/2,\n",
    "                 alpha_trainable=False,\n",
    "                 epsilon_trainable=False,\n",
    "                 reparam_offset=2**(-18),\n",
    "                 beta_min=1e-6,\n",
    "                 apply_independently=False,\n",
    "                 data_format=\"channels_last\"):\n",
    "\n",
    "        super(GDN, self).__init__()\n",
    "        self.kernel_size = kernel_size\n",
    "        # self.n_channels = n_channels\n",
    "        self.gamma_init = gamma_init\n",
    "        self.reparam_offset = reparam_offset\n",
    "        self.beta_min = beta_min\n",
    "        self.beta_reparam = (self.beta_min+self.reparam_offset**2)**(1/2)\n",
    "        self.apply_independently = apply_independently\n",
    "        self.data_format = data_format\n",
    "        \n",
    "        ## Trainable parameters\n",
    "        self.alpha = self.add_weight(shape=(1),\n",
    "                                     initializer=tf.keras.initializers.Constant(alpha_init),\n",
    "                                     trainable=alpha_trainable,\n",
    "                                     name='alpha')\n",
    "        self.epsilon = self.add_weight(shape=(1),\n",
    "                                       initializer=tf.keras.initializers.Constant(epsilon_init),\n",
    "                                       trainable=epsilon_trainable,\n",
    "                                       name='epsilon')\n",
    "\n",
    "    def build(self, input_shape):\n",
    "        ## Extract the number of channels from the input shape\n",
    "        ## according to the data_format\n",
    "        n_channels = input_shape[-1] if self.data_format==\"channels_last\" else input_shape[0]\n",
    "\n",
    "        if self.data_format==\"channels_last\":\n",
    "            n_channels = input_shape[-1]\n",
    "        elif self.data_format==\"channels_first\":\n",
    "            n_channels = input_shape[0]\n",
    "        else:\n",
    "            raise ValueError(\"data_format not supported\")\n",
    "\n",
    "        if self.apply_independently:\n",
    "            self.groups = n_channels\n",
    "        else:\n",
    "            self.groups = 1\n",
    "\n",
    "        self.conv = layers.Conv2D(filters=n_channels,\n",
    "                                  kernel_size=self.kernel_size,\n",
    "                                  padding=\"same\",\n",
    "                                  strides=1,\n",
    "                                  groups=self.groups,\n",
    "                                  data_format=self.data_format,\n",
    "                                  trainable=True,\n",
    "                                  kernel_initializer=KernelIdentity(gain=self.gamma_init),\n",
    "                                  kernel_constraint=lambda x: tf.clip_by_value(x, \n",
    "                                                                       clip_value_min=self.reparam_offset,\n",
    "                                                                       clip_value_max=tf.float32.max),\n",
    "                                  bias_initializer=\"ones\",\n",
    "                                  bias_constraint=lambda x: tf.clip_by_value(x, \n",
    "                                                                      clip_value_min=self.beta_reparam,\n",
    "                                                                      clip_value_max=tf.float32.max))\n",
    "        self.conv.build(input_shape)\n",
    "\n",
    "\n",
    "    def call(self, X):\n",
    "        \"\"\"\n",
    "        The PyTorch implementation works with inputs of shape:\n",
    "        [batch_size, channels, height, width].\n",
    "        We'll first copy it and then we'll try to change it.\n",
    "        \"\"\"\n",
    "        norm_pool = self.conv(tf.pow(X, self.alpha))\n",
    "        norm_pool = tf.pow(norm_pool, self.epsilon)\n",
    "\n",
    "        return X / norm_pool"
   ]
  },
  {
   "cell_type": "code",
   "execution_count": null,
   "metadata": {},
   "outputs": [],
   "source": []
  },
  {
   "cell_type": "code",
   "execution_count": null,
   "metadata": {},
   "outputs": [],
   "source": []
  },
  {
   "cell_type": "code",
   "execution_count": 60,
   "metadata": {},
   "outputs": [],
   "source": [
    "gdn = GDN(1)\n",
    "gdn.build((28,28,1))"
   ]
  },
  {
   "cell_type": "code",
   "execution_count": null,
   "metadata": {},
   "outputs": [],
   "source": []
  },
  {
   "cell_type": "code",
   "execution_count": 61,
   "metadata": {},
   "outputs": [],
   "source": [
    "np.random.seed(42)\n",
    "sample_input = np.random.uniform(size=(1,28,28,1))\n",
    "# sample_input = tf.random.uniform(shape=(1,1,28,28))"
   ]
  },
  {
   "cell_type": "code",
   "execution_count": 62,
   "metadata": {},
   "outputs": [],
   "source": [
    "a = gdn(sample_input)"
   ]
  },
  {
   "cell_type": "code",
   "execution_count": 63,
   "metadata": {},
   "outputs": [
    {
     "data": {
      "text/plain": [
       "[<tf.Variable 'gdn_8/kernel:0' shape=(1, 1, 1, 1) dtype=float32, numpy=array([[[[0.1]]]], dtype=float32)>,\n",
       " <tf.Variable 'gdn_8/bias:0' shape=(1,) dtype=float32, numpy=array([1.], dtype=float32)>,\n",
       " <tf.Variable 'alpha:0' shape=(1,) dtype=float32, numpy=array([2.], dtype=float32)>,\n",
       " <tf.Variable 'epsilon:0' shape=(1,) dtype=float32, numpy=array([0.5], dtype=float32)>]"
      ]
     },
     "execution_count": 63,
     "metadata": {},
     "output_type": "execute_result"
    }
   ],
   "source": [
    "gdn.weights"
   ]
  },
  {
   "cell_type": "code",
   "execution_count": 64,
   "metadata": {},
   "outputs": [
    {
     "data": {
      "image/png": "[encoded data removed]",
      "text/plain": [
       "<Figure size 432x288 with 2 Axes>"
      ]
     },
     "metadata": {
      "needs_background": "light"
     },
     "output_type": "display_data"
    }
   ],
   "source": [
    "plt.figure()\n",
    "plt.subplot(1,2,1)\n",
    "plt.title(\"Input\")\n",
    "plt.imshow(sample_input.squeeze())\n",
    "plt.subplot(1,2,2)\n",
    "plt.imshow(a.numpy().squeeze())\n",
    "plt.title(\"Output\")\n",
    "plt.show()"
   ]
  },
  {
   "cell_type": "code",
   "execution_count": 66,
   "metadata": {},
   "outputs": [
    {
     "data": {
      "image/png": "[encoded data removed]",
      "text/plain": [
       "<Figure size 432x288 with 1 Axes>"
      ]
     },
     "metadata": {
      "needs_background": "light"
     },
     "output_type": "display_data"
    }
   ],
   "source": [
    "plt.figure()\n",
    "plt.hist(a.numpy().squeeze().ravel())\n",
    "plt.show()"
   ]
  },
  {
   "cell_type": "code",
   "execution_count": 67,
   "metadata": {},
   "outputs": [
    {
     "data": {
      "image/png": "[encoded data removed]",
      "text/plain": [
       "<Figure size 432x288 with 1 Axes>"
      ]
     },
     "metadata": {
      "needs_background": "light"
     },
     "output_type": "display_data"
    }
   ],
   "source": [
    "plt.figure()\n",
    "plt.hist(sample_input.squeeze().ravel())\n",
    "plt.show()"
   ]
  },
  {
   "cell_type": "markdown",
   "metadata": {},
   "source": [
    "## In action!"
   ]
  },
  {
   "cell_type": "code",
   "execution_count": 22,
   "metadata": {},
   "outputs": [],
   "source": [
    "from tensorflow.keras import datasets"
   ]
  },
  {
   "cell_type": "code",
   "execution_count": 23,
   "metadata": {},
   "outputs": [
    {
     "data": {
      "text/plain": [
       "((60000, 28, 28), (60000,), (10000, 28, 28), (10000,))"
      ]
     },
     "execution_count": 23,
     "metadata": {},
     "output_type": "execute_result"
    }
   ],
   "source": [
    "(X_train, Y_train), (X_test, Y_test) = datasets.mnist.load_data()\n",
    "\n",
    "X_train.shape, Y_train.shape, X_test.shape, Y_test.shape"
   ]
  },
  {
   "cell_type": "code",
   "execution_count": 24,
   "metadata": {},
   "outputs": [
    {
     "data": {
      "text/plain": [
       "(TensorShape([60000, 28, 28, 1]), TensorShape([10000, 28, 28, 1]))"
      ]
     },
     "execution_count": 24,
     "metadata": {},
     "output_type": "execute_result"
    }
   ],
   "source": [
    "X_train = tf.expand_dims(X_train, -1)\n",
    "X_test = tf.expand_dims(X_test, -1)\n",
    "\n",
    "X_train.shape, X_test.shape"
   ]
  },
  {
   "cell_type": "code",
   "execution_count": 79,
   "metadata": {},
   "outputs": [],
   "source": [
    "model = tf.keras.models.Sequential([\n",
    "    # tf.keras.layers.Rescaling(scale=1./255, input_shape=(1,28,28)),\n",
    "    GDN(kernel_size=3, apply_independently=False,\n",
    "        alpha_trainable=True, epsilon_trainable=True),\n",
    "    tf.keras.layers.Conv2D(32, 3, activation=\"relu\"),\n",
    "    tf.keras.layers.MaxPool2D(2),\n",
    "    tf.keras.layers.Flatten(),\n",
    "    tf.keras.layers.Dense(10, activation=\"softmax\")\n",
    "])\n",
    "model.compile(loss='sparse_categorical_crossentropy',\n",
    "              optimizer='adam',\n",
    "              metrics=['accuracy'])"
   ]
  },
  {
   "cell_type": "code",
   "execution_count": 80,
   "metadata": {},
   "outputs": [
    {
     "data": {
      "text/plain": [
       "TensorShape([28, 28, 1])"
      ]
     },
     "execution_count": 80,
     "metadata": {},
     "output_type": "execute_result"
    }
   ],
   "source": [
    "X_train[0].shape"
   ]
  },
  {
   "cell_type": "code",
   "execution_count": 81,
   "metadata": {},
   "outputs": [],
   "source": [
    "a = model(tf.expand_dims(X_train[0],0)/255)"
   ]
  },
  {
   "cell_type": "code",
   "execution_count": 82,
   "metadata": {},
   "outputs": [
    {
     "data": {
      "text/plain": [
       "TensorShape([1])"
      ]
     },
     "execution_count": 82,
     "metadata": {},
     "output_type": "execute_result"
    }
   ],
   "source": [
    "model.layers[0].weights[0].shape"
   ]
  },
  {
   "cell_type": "code",
   "execution_count": 83,
   "metadata": {},
   "outputs": [
    {
     "name": "stdout",
     "output_type": "stream",
     "text": [
      "Model: \"sequential_3\"\n",
      "_________________________________________________________________\n",
      "Layer (type)                 Output Shape              Param #   \n",
      "=================================================================\n",
      "gdn_10 (GDN)                 (1, 28, 28, 1)            12        \n",
      "_________________________________________________________________\n",
      "conv2d_15 (Conv2D)           (1, 26, 26, 32)           320       \n",
      "_________________________________________________________________\n",
      "max_pooling2d_3 (MaxPooling2 (1, 13, 13, 32)           0         \n",
      "_________________________________________________________________\n",
      "flatten_3 (Flatten)          (1, 5408)                 0         \n",
      "_________________________________________________________________\n",
      "dense_3 (Dense)              (1, 10)                   54090     \n",
      "=================================================================\n",
      "Total params: 54,422\n",
      "Trainable params: 54,422\n",
      "Non-trainable params: 0\n",
      "_________________________________________________________________\n"
     ]
    }
   ],
   "source": [
    "model.summary()"
   ]
  },
  {
   "cell_type": "code",
   "execution_count": 84,
   "metadata": {},
   "outputs": [
    {
     "name": "stdout",
     "output_type": "stream",
     "text": [
      "Epoch 1/5\n",
      "1875/1875 [==============================] - 17s 9ms/step - loss: 0.2017 - accuracy: 0.9412 - val_loss: 0.0833 - val_accuracy: 0.9736\n",
      "Epoch 2/5\n",
      "1875/1875 [==============================] - 16s 9ms/step - loss: 0.0701 - accuracy: 0.9792 - val_loss: 0.0644 - val_accuracy: 0.9791\n",
      "Epoch 3/5\n",
      "1875/1875 [==============================] - 17s 9ms/step - loss: 0.0531 - accuracy: 0.9846 - val_loss: 0.0604 - val_accuracy: 0.9809\n",
      "Epoch 4/5\n",
      "1875/1875 [==============================] - 16s 9ms/step - loss: 0.0429 - accuracy: 0.9867 - val_loss: 0.0586 - val_accuracy: 0.9816\n",
      "Epoch 5/5\n",
      "1875/1875 [==============================] - 17s 9ms/step - loss: 0.0341 - accuracy: 0.9894 - val_loss: 0.0600 - val_accuracy: 0.9814\n"
     ]
    }
   ],
   "source": [
    "history = model.fit(X_train/255, Y_train, \n",
    "                    epochs=5,\n",
    "                    validation_data=(X_test/255, Y_test))"
   ]
  },
  {
   "cell_type": "code",
   "execution_count": 85,
   "metadata": {},
   "outputs": [
    {
     "data": {
      "text/plain": [
       "[<tf.Variable 'alpha:0' shape=(1,) dtype=float32, numpy=array([2.8048022], dtype=float32)>,\n",
       " <tf.Variable 'epsilon:0' shape=(1,) dtype=float32, numpy=array([1.0773705], dtype=float32)>,\n",
       " <tf.Variable 'gdn_10/kernel:0' shape=(3, 3, 1, 1) dtype=float32, numpy=\n",
       " array([[[[0.01211443]],\n",
       " \n",
       "         [[0.00056146]],\n",
       " \n",
       "         [[0.0001425 ]]],\n",
       " \n",
       " \n",
       "        [[[0.02278794]],\n",
       " \n",
       "         [[0.00185108]],\n",
       " \n",
       "         [[0.00999017]]],\n",
       " \n",
       " \n",
       "        [[[0.01037717]],\n",
       " \n",
       "         [[0.00461366]],\n",
       " \n",
       "         [[0.00836389]]]], dtype=float32)>,\n",
       " <tf.Variable 'gdn_10/bias:0' shape=(1,) dtype=float32, numpy=array([0.34379348], dtype=float32)>]"
      ]
     },
     "execution_count": 85,
     "metadata": {},
     "output_type": "execute_result"
    }
   ],
   "source": [
    "model.layers[0].weights"
   ]
  },
  {
   "cell_type": "code",
   "execution_count": 88,
   "metadata": {},
   "outputs": [
    {
     "data": {
      "image/png": "[encoded data removed]",
      "text/plain": [
       "<Figure size 432x288 with 2 Axes>"
      ]
     },
     "metadata": {
      "needs_background": "light"
     },
     "output_type": "display_data"
    }
   ],
   "source": [
    "plt.figure()\n",
    "plt.imshow(model.layers[0].weights[2].numpy().squeeze(), cmap='gray')\n",
    "plt.colorbar()\n",
    "plt.show()"
   ]
  },
  {
   "cell_type": "code",
   "execution_count": 89,
   "metadata": {},
   "outputs": [
    {
     "data": {
      "text/plain": [
       "TensorShape([1, 28, 28, 1])"
      ]
     },
     "execution_count": 89,
     "metadata": {},
     "output_type": "execute_result"
    }
   ],
   "source": [
    "gdn_activation = model.layers[0](tf.expand_dims(X_train[0],0)/255)\n",
    "gdn_activation.shape"
   ]
  },
  {
   "cell_type": "code",
   "execution_count": 91,
   "metadata": {},
   "outputs": [
    {
     "data": {
      "image/png": "[encoded data removed]",
      "text/plain": [
       "<Figure size 432x288 with 2 Axes>"
      ]
     },
     "metadata": {
      "needs_background": "light"
     },
     "output_type": "display_data"
    }
   ],
   "source": [
    "plt.figure()\n",
    "plt.subplot(1,2,1)\n",
    "plt.title(\"Input\")\n",
    "plt.imshow(X_train[0], cmap='gray')\n",
    "plt.subplot(1,2,2)\n",
    "plt.title(\"GDN Activation\")\n",
    "plt.imshow(gdn_activation.numpy().squeeze(), cmap='gray')\n",
    "plt.show()"
   ]
  }
 ],
 "metadata": {
  "interpreter": {
   "hash": "19477b5e9184c89b15bfab30686a9cf684a7c97f11aa1fc3ebcee63d47408624"
  },
  "kernelspec": {
   "display_name": "Python 3.8.12 ('tf26')",
   "language": "python",
   "name": "python3"
  },
  "language_info": {
   "codemirror_mode": {
    "name": "ipython",
    "version": 3
   },
   "file_extension": ".py",
   "mimetype": "text/x-python",
   "name": "python",
   "nbconvert_exporter": "python",
   "pygments_lexer": "ipython3",
   "version": "3.8.12"
  },
  "orig_nbformat": 4
 },
 "nbformat": 4,
 "nbformat_minor": 2
}
